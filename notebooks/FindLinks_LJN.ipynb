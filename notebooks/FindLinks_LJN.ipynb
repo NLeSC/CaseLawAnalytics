{
 "cells": [
  {
   "cell_type": "code",
   "execution_count": 1,
   "metadata": {
    "collapsed": true
   },
   "outputs": [],
   "source": [
    "from lxml import etree\n",
    "import re\n",
    "import os\n",
    "import sqlite3"
   ]
  },
  {
   "cell_type": "code",
   "execution_count": 28,
   "metadata": {
    "collapsed": true
   },
   "outputs": [],
   "source": [
    "conn = sqlite3.connect('rechtspraak.db')\n",
    "c = conn.cursor()"
   ]
  },
  {
   "cell_type": "code",
   "execution_count": 35,
   "metadata": {
    "collapsed": false
   },
   "outputs": [
    {
     "data": {
      "text/plain": [
       "<sqlite3.Cursor at 0x7f90fbf8fc00>"
      ]
     },
     "execution_count": 35,
     "metadata": {},
     "output_type": "execute_result"
    }
   ],
   "source": [
    "c2 = conn.cursor()\n",
    "c2.execute(''' DROP TABLE uitspraken_links_ljn''')\n",
    "c2.execute(''' CREATE TABLE uitspraken_links_ljn\n",
    "            (id text, \n",
    "            reference text,\n",
    "            ljn text,\n",
    "            cnt integer\n",
    "            )\n",
    "        ''')"
   ]
  },
  {
   "cell_type": "code",
   "execution_count": 13,
   "metadata": {
    "collapsed": true
   },
   "outputs": [],
   "source": [
    "ljn_regex = '''LJN ([A-Z]{2}[0-9]{4})'''"
   ]
  },
  {
   "cell_type": "code",
   "execution_count": 14,
   "metadata": {
    "collapsed": false
   },
   "outputs": [
    {
     "data": {
      "text/plain": [
       "['BF0918']"
      ]
     },
     "execution_count": 14,
     "metadata": {},
     "output_type": "execute_result"
    }
   ],
   "source": [
    "re.findall(ljn_regex, 'LJN BF0918')"
   ]
  },
  {
   "cell_type": "code",
   "execution_count": 23,
   "metadata": {
    "collapsed": false
   },
   "outputs": [
    {
     "data": {
      "text/html": [
       "<div>\n",
       "<table border=\"1\" class=\"dataframe\">\n",
       "  <thead>\n",
       "    <tr style=\"text-align: right;\">\n",
       "      <th></th>\n",
       "      <th>ljn</th>\n",
       "      <th>ecli</th>\n",
       "      <th>type</th>\n",
       "    </tr>\n",
       "  </thead>\n",
       "  <tbody>\n",
       "    <tr>\n",
       "      <th>0</th>\n",
       "      <td>AA1000</td>\n",
       "      <td>ECLI:NL:RBARN:1999:AA1000</td>\n",
       "      <td>Uitspraak</td>\n",
       "    </tr>\n",
       "    <tr>\n",
       "      <th>1</th>\n",
       "      <td>AA1001</td>\n",
       "      <td>ECLI:NL:RBARN:1999:AA1001</td>\n",
       "      <td>Uitspraak</td>\n",
       "    </tr>\n",
       "    <tr>\n",
       "      <th>2</th>\n",
       "      <td>AA1002</td>\n",
       "      <td>ECLI:NL:RBARN:1999:AA1002</td>\n",
       "      <td>Uitspraak</td>\n",
       "    </tr>\n",
       "    <tr>\n",
       "      <th>3</th>\n",
       "      <td>AA1003</td>\n",
       "      <td>ECLI:NL:RBARN:1999:AA1003</td>\n",
       "      <td>Uitspraak</td>\n",
       "    </tr>\n",
       "    <tr>\n",
       "      <th>4</th>\n",
       "      <td>AA1004</td>\n",
       "      <td>ECLI:NL:RBARN:1999:AA1004</td>\n",
       "      <td>Uitspraak</td>\n",
       "    </tr>\n",
       "  </tbody>\n",
       "</table>\n",
       "</div>"
      ],
      "text/plain": [
       "      ljn                       ecli       type\n",
       "0  AA1000  ECLI:NL:RBARN:1999:AA1000  Uitspraak\n",
       "1  AA1001  ECLI:NL:RBARN:1999:AA1001  Uitspraak\n",
       "2  AA1002  ECLI:NL:RBARN:1999:AA1002  Uitspraak\n",
       "3  AA1003  ECLI:NL:RBARN:1999:AA1003  Uitspraak\n",
       "4  AA1004  ECLI:NL:RBARN:1999:AA1004  Uitspraak"
      ]
     },
     "execution_count": 23,
     "metadata": {},
     "output_type": "execute_result"
    }
   ],
   "source": [
    "import pandas as pd\n",
    "ljn_to_ecli_file = '/media/sf_VBox_Shared/CaseLaw/WasWordt.csv'\n",
    "ljn_to_ecli_df = pd.read_csv(ljn_to_ecli_file, header=None)\n",
    "ljn_to_ecli_df.columns = ['ljn', 'ecli', 'type']\n",
    "ljn_to_ecli_df = ljn_to_ecli_df[ljn_to_ecli_df['type']=='Uitspraak'] # Only take uitspraken\n",
    "ljn_to_ecli_df.head()"
   ]
  },
  {
   "cell_type": "code",
   "execution_count": 24,
   "metadata": {
    "collapsed": false
   },
   "outputs": [],
   "source": [
    "ljn_to_ecli_dict = {row['ljn']: row['ecli'] for i, row in ljn_to_ecli_df.iterrows()}"
   ]
  },
  {
   "cell_type": "code",
   "execution_count": 25,
   "metadata": {
    "collapsed": false
   },
   "outputs": [
    {
     "data": {
      "text/plain": [
       "529870"
      ]
     },
     "execution_count": 25,
     "metadata": {},
     "output_type": "execute_result"
    }
   ],
   "source": [
    "len(ljn_to_ecli_dict.keys())"
   ]
  },
  {
   "cell_type": "code",
   "execution_count": 36,
   "metadata": {
    "collapsed": false
   },
   "outputs": [],
   "source": [
    "from collections import Counter\n",
    "\n",
    "rows = c.execute('SELECT id, text from uitspraken')\n",
    "\n",
    "for row in rows:\n",
    "    ecli, text = row\n",
    "    matches = re.findall(ljn_regex, text)\n",
    "    references = [(ljn_to_ecli_dict[ljn], ljn) for ljn in matches if ljn in ljn_to_ecli_dict]\n",
    "    if len(references)>0:\n",
    "        for (other, ljn), cnt in Counter(references).most_common():\n",
    "            if ecli != other: # no self references\n",
    "                query = ''' INSERT INTO uitspraken_links_ljn\n",
    "                    VALUES (?, ?, ?, ?)\n",
    "                    '''\n",
    "                c2.execute(query, (ecli, other, ljn, cnt))"
   ]
  },
  {
   "cell_type": "code",
   "execution_count": 37,
   "metadata": {
    "collapsed": false
   },
   "outputs": [
    {
     "data": {
      "text/plain": [
       "[(2701, 4174)]"
      ]
     },
     "execution_count": 37,
     "metadata": {},
     "output_type": "execute_result"
    }
   ],
   "source": [
    "#How many links do we have?\n",
    "c.execute('''select count(distinct id), count(*) from uitspraken_links_ljn''').fetchall()"
   ]
  },
  {
   "cell_type": "code",
   "execution_count": 39,
   "metadata": {
    "collapsed": false
   },
   "outputs": [],
   "source": [
    "conn.commit()\n",
    "conn.close()"
   ]
  },
  {
   "cell_type": "code",
   "execution_count": null,
   "metadata": {
    "collapsed": true
   },
   "outputs": [],
   "source": []
  }
 ],
 "metadata": {
  "anaconda-cloud": {},
  "kernelspec": {
   "display_name": "Python [conda env:caselaw]",
   "language": "python",
   "name": "conda-env-caselaw-py"
  },
  "language_info": {
   "codemirror_mode": {
    "name": "ipython",
    "version": 3
   },
   "file_extension": ".py",
   "mimetype": "text/x-python",
   "name": "python",
   "nbconvert_exporter": "python",
   "pygments_lexer": "ipython3",
   "version": "3.5.2"
  }
 },
 "nbformat": 4,
 "nbformat_minor": 0
}
