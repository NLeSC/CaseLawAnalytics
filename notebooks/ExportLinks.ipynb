{
 "cells": [
  {
   "cell_type": "code",
   "execution_count": 1,
   "metadata": {
    "collapsed": true
   },
   "outputs": [],
   "source": [
    "import sqlite3\n",
    "import pandas as pd\n",
    "from pygraphml import Graph\n",
    "from pygraphml import GraphMLParser"
   ]
  },
  {
   "cell_type": "code",
   "execution_count": 2,
   "metadata": {
    "collapsed": true
   },
   "outputs": [],
   "source": [
    "conn = sqlite3.connect('rechtspraak.db')\n",
    "c = conn.cursor()"
   ]
  },
  {
   "cell_type": "code",
   "execution_count": 3,
   "metadata": {
    "collapsed": false
   },
   "outputs": [
    {
     "data": {
      "text/plain": [
       "[('uitspraken_meta',),\n",
       " ('uitspraken',),\n",
       " ('uitspraken_links',),\n",
       " ('uitspraken_articles',)]"
      ]
     },
     "execution_count": 3,
     "metadata": {},
     "output_type": "execute_result"
    }
   ],
   "source": [
    "conn.execute('''SELECT name FROM sqlite_master WHERE type='table';''').fetchall()"
   ]
  },
  {
   "cell_type": "code",
   "execution_count": 10,
   "metadata": {
    "collapsed": false
   },
   "outputs": [],
   "source": [
    "#Get the links to other HR cases\n",
    "links = pd.DataFrame(c.execute('''select l.id, l.reference\n",
    "            from uitspraken_links l join \n",
    "                ( select id from uitspraken_meta ) s\n",
    "                on s.id = l.reference\n",
    "        ''').fetchall(), columns=['id', 'reference'])"
   ]
  },
  {
   "cell_type": "code",
   "execution_count": 11,
   "metadata": {
    "collapsed": false
   },
   "outputs": [],
   "source": [
    "# Get descriptions of the cases\n",
    "descriptions = pd.DataFrame(c.execute('''select l.id, r.summary\n",
    "            from ( \n",
    "                select distinct id from uitspraken_links \n",
    "                union\n",
    "                select distinct reference as id from uitspraken_links \n",
    "                ) l \n",
    "            join uitspraken_meta r\n",
    "                on l.id = r.id\n",
    "        ''').fetchall(), columns=['id', 'description'])"
   ]
  },
  {
   "cell_type": "code",
   "execution_count": 5,
   "metadata": {
    "collapsed": false
   },
   "outputs": [],
   "source": [
    "# Get articles, in order of importance\n",
    "articles = pd.DataFrame(c.execute('''select l.id, r.article, r.cnt\n",
    "            from ( \n",
    "                select distinct id from uitspraken_links \n",
    "                union\n",
    "                select distinct reference as id from uitspraken_links \n",
    "                ) l \n",
    "            left join uitspraken_articles r\n",
    "                on l.id = r.id\n",
    "        ''').fetchall(), columns=['id', 'article', 'cnt'])"
   ]
  },
  {
   "cell_type": "code",
   "execution_count": null,
   "metadata": {
    "collapsed": true
   },
   "outputs": [],
   "source": []
  },
  {
   "cell_type": "code",
   "execution_count": 12,
   "metadata": {
    "collapsed": false
   },
   "outputs": [],
   "source": [
    "descriptions = descriptions.set_index('id')"
   ]
  },
  {
   "cell_type": "code",
   "execution_count": 13,
   "metadata": {
    "collapsed": false
   },
   "outputs": [],
   "source": [
    "conn.close()"
   ]
  },
  {
   "cell_type": "code",
   "execution_count": 14,
   "metadata": {
    "collapsed": true
   },
   "outputs": [],
   "source": [
    "\n",
    "def year_from_id(text):\n",
    "    return text.split(':')[3]\n",
    "\n",
    "\n",
    "def make_graph(descriptions, links):\n",
    "    g = Graph()\n",
    "    node_dict = {}\n",
    "    for ecli in descriptions.index:\n",
    "        n = g.add_node(ecli)\n",
    "        n['description'] = descriptions['description'][ecli]\n",
    "        n['year'] = int(year_from_id(ecli))\n",
    "        node_dict[ecli] = n\n",
    "    # Add edges\n",
    "    for i in links.index:\n",
    "        n1, n2 = (links['id'][i], links['reference'][i])\n",
    "        g.add_edge(node_dict[n1], node_dict[n2], directed=True)\n",
    "    return g\n",
    "\n",
    "def save_graph(graph, outputpath):\n",
    "    parser = GraphMLParser()\n",
    "    parser.write(graph, outputpath)"
   ]
  },
  {
   "cell_type": "code",
   "execution_count": 89,
   "metadata": {
    "collapsed": false
   },
   "outputs": [],
   "source": [
    "outputpath = '/media/sf_VBox_Shared/CaseLaw/graphs/eclilinks.graphml'\n",
    "g = make_graph(descriptions, links)\n",
    "save_graph(g, outputpath)"
   ]
  },
  {
   "cell_type": "code",
   "execution_count": 67,
   "metadata": {
    "collapsed": false
   },
   "outputs": [],
   "source": [
    "#Smaller graph: search for werkgever:\n",
    "lower = descriptions['description'].str.lower()\n",
    "descriptions_small = descriptions[lower.str.contains('aansprakelijkheid')]"
   ]
  },
  {
   "cell_type": "code",
   "execution_count": 79,
   "metadata": {
    "collapsed": false
   },
   "outputs": [
    {
     "data": {
      "text/html": [
       "<div>\n",
       "<table border=\"1\" class=\"dataframe\">\n",
       "  <thead>\n",
       "    <tr style=\"text-align: right;\">\n",
       "      <th></th>\n",
       "      <th>id</th>\n",
       "      <th>reference</th>\n",
       "    </tr>\n",
       "  </thead>\n",
       "  <tbody>\n",
       "    <tr>\n",
       "      <th>0</th>\n",
       "      <td>ECLI:NL:HR:2013:1036</td>\n",
       "      <td>ECLI:NL:HR:2007:BA1522</td>\n",
       "    </tr>\n",
       "    <tr>\n",
       "      <th>1</th>\n",
       "      <td>ECLI:NL:HR:2013:1040</td>\n",
       "      <td>ECLI:NL:HR:2011:BP2314</td>\n",
       "    </tr>\n",
       "    <tr>\n",
       "      <th>2</th>\n",
       "      <td>ECLI:NL:HR:2013:1042</td>\n",
       "      <td>ECLI:NL:HR:2013:BZ3640</td>\n",
       "    </tr>\n",
       "    <tr>\n",
       "      <th>3</th>\n",
       "      <td>ECLI:NL:HR:2013:1047</td>\n",
       "      <td>ECLI:NL:HR:2012:BV0229</td>\n",
       "    </tr>\n",
       "    <tr>\n",
       "      <th>4</th>\n",
       "      <td>ECLI:NL:HR:2013:1048</td>\n",
       "      <td>ECLI:NL:HR:2012:BV0258</td>\n",
       "    </tr>\n",
       "  </tbody>\n",
       "</table>\n",
       "</div>"
      ],
      "text/plain": [
       "                     id               reference\n",
       "0  ECLI:NL:HR:2013:1036  ECLI:NL:HR:2007:BA1522\n",
       "1  ECLI:NL:HR:2013:1040  ECLI:NL:HR:2011:BP2314\n",
       "2  ECLI:NL:HR:2013:1042  ECLI:NL:HR:2013:BZ3640\n",
       "3  ECLI:NL:HR:2013:1047  ECLI:NL:HR:2012:BV0229\n",
       "4  ECLI:NL:HR:2013:1048  ECLI:NL:HR:2012:BV0258"
      ]
     },
     "execution_count": 79,
     "metadata": {},
     "output_type": "execute_result"
    }
   ],
   "source": [
    "links.head()"
   ]
  },
  {
   "cell_type": "code",
   "execution_count": 91,
   "metadata": {
    "collapsed": false
   },
   "outputs": [],
   "source": [
    "links_small = links.merge(descriptions_small, left_on='id', right_index=True)[['id', 'reference']]"
   ]
  },
  {
   "cell_type": "code",
   "execution_count": null,
   "metadata": {
    "collapsed": true
   },
   "outputs": [],
   "source": [
    "ids_small = pd.concat([links_small['id'], links_small['reference']]).unique()"
   ]
  },
  {
   "cell_type": "code",
   "execution_count": 110,
   "metadata": {
    "collapsed": false
   },
   "outputs": [],
   "source": [
    "\n",
    "descriptions_small = descriptions.loc[ids_small]"
   ]
  },
  {
   "cell_type": "code",
   "execution_count": 116,
   "metadata": {
    "collapsed": false
   },
   "outputs": [],
   "source": [
    "outputpath = '/media/sf_VBox_Shared/CaseLaw/graphs/eclilinks_small.graphml'\n",
    "g2 = make_graph(descriptions_small, links_small)\n",
    "save_graph(g2, outputpath)"
   ]
  },
  {
   "cell_type": "markdown",
   "metadata": {
    "collapsed": false
   },
   "source": [
    "## existing network from Gijs"
   ]
  },
  {
   "cell_type": "code",
   "execution_count": 2,
   "metadata": {
    "collapsed": true
   },
   "outputs": [],
   "source": [
    "filepath = '/media/sf_VBox_Shared/CaseLaw/graphs/test3 wg aanspr.csv'"
   ]
  },
  {
   "cell_type": "code",
   "execution_count": 4,
   "metadata": {
    "collapsed": false
   },
   "outputs": [],
   "source": [
    "links_wgaans = pd.read_csv(filepath, sep=';', header=0)"
   ]
  },
  {
   "cell_type": "code",
   "execution_count": 6,
   "metadata": {
    "collapsed": false
   },
   "outputs": [],
   "source": [
    "links_wgaans.columns = ['id', 'reference']"
   ]
  },
  {
   "cell_type": "code",
   "execution_count": 18,
   "metadata": {
    "collapsed": false
   },
   "outputs": [],
   "source": [
    "links_wgaans = links_wgaans.drop_duplicates()"
   ]
  },
  {
   "cell_type": "code",
   "execution_count": 25,
   "metadata": {
    "collapsed": false
   },
   "outputs": [],
   "source": [
    "ids_wgaans = list(pd.concat([links_wgaans['id'], links_wgaans['reference']]).unique())"
   ]
  },
  {
   "cell_type": "code",
   "execution_count": 52,
   "metadata": {
    "collapsed": true
   },
   "outputs": [],
   "source": [
    "conn = sqlite3.connect('rechtspraak.db')\n",
    "c = conn.cursor()"
   ]
  },
  {
   "cell_type": "code",
   "execution_count": 53,
   "metadata": {
    "collapsed": false
   },
   "outputs": [],
   "source": [
    "c.execute('''CREATE TABLE temp\n",
    "             (id text)''')\n",
    "c.executemany('INSERT INTO temp VALUES (?)', [(x,) for x in ids_wgaans])\n",
    "\n",
    "descriptions_wgaans = pd.DataFrame(c.execute('''select l.id, r.summary\n",
    "            from temp l \n",
    "            left join uitspraken_meta r\n",
    "                on l.id = r.id\n",
    "        ''').fetchall(), columns=['id', 'description'])"
   ]
  },
  {
   "cell_type": "code",
   "execution_count": 54,
   "metadata": {
    "collapsed": false
   },
   "outputs": [],
   "source": [
    "descriptions_wgaans = descriptions_wgaans.set_index('id')"
   ]
  },
  {
   "cell_type": "code",
   "execution_count": 55,
   "metadata": {
    "collapsed": false
   },
   "outputs": [
    {
     "data": {
      "text/plain": [
       "<sqlite3.Cursor at 0x7f314e8a28f0>"
      ]
     },
     "execution_count": 55,
     "metadata": {},
     "output_type": "execute_result"
    }
   ],
   "source": [
    "c.execute('''drop TABLE temp''')"
   ]
  },
  {
   "cell_type": "code",
   "execution_count": 56,
   "metadata": {
    "collapsed": true
   },
   "outputs": [],
   "source": [
    "conn.close()"
   ]
  },
  {
   "cell_type": "code",
   "execution_count": 57,
   "metadata": {
    "collapsed": false
   },
   "outputs": [],
   "source": [
    "outputpath = '/media/sf_VBox_Shared/CaseLaw/graphs/eclilinks_wgaans.graphml'\n",
    "g3 = make_graph(descriptions_wgaans, links_wgaans)\n",
    "save_graph(g3, outputpath)"
   ]
  },
  {
   "cell_type": "code",
   "execution_count": null,
   "metadata": {
    "collapsed": true
   },
   "outputs": [],
   "source": []
  }
 ],
 "metadata": {
  "anaconda-cloud": {},
  "kernelspec": {
   "display_name": "Python 3",
   "language": "python",
   "name": "python3"
  },
  "language_info": {
   "codemirror_mode": {
    "name": "ipython",
    "version": 3
   },
   "file_extension": ".py",
   "mimetype": "text/x-python",
   "name": "python",
   "nbconvert_exporter": "python",
   "pygments_lexer": "ipython3",
   "version": "3.5.2"
  }
 },
 "nbformat": 4,
 "nbformat_minor": 1
}
