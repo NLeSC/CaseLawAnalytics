{
 "cells": [
  {
   "cell_type": "code",
   "execution_count": 1,
   "metadata": {
    "collapsed": true
   },
   "outputs": [],
   "source": [
    "import sqlite3\n",
    "import pandas as pd\n",
    "from pygraphml import Graph\n",
    "from pygraphml import GraphMLParser"
   ]
  },
  {
   "cell_type": "code",
   "execution_count": 2,
   "metadata": {
    "collapsed": true
   },
   "outputs": [],
   "source": [
    "conn = sqlite3.connect('rechtspraak.db')\n",
    "c = conn.cursor()"
   ]
  },
  {
   "cell_type": "code",
   "execution_count": 3,
   "metadata": {
    "collapsed": false
   },
   "outputs": [
    {
     "data": {
      "text/plain": [
       "[('uitspraken_meta',),\n",
       " ('uitspraken',),\n",
       " ('uitspraken_links',),\n",
       " ('uitspraken_articles',),\n",
       " ('temp_ids',)]"
      ]
     },
     "execution_count": 3,
     "metadata": {},
     "output_type": "execute_result"
    }
   ],
   "source": [
    "conn.execute('''SELECT name FROM sqlite_master WHERE type='table';''').fetchall()"
   ]
  },
  {
   "cell_type": "code",
   "execution_count": 4,
   "metadata": {
    "collapsed": false
   },
   "outputs": [],
   "source": [
    "#Get the links to other HR cases\n",
    "links = pd.DataFrame(c.execute('''select l.id, l.reference\n",
    "            from uitspraken_links l join \n",
    "                ( select id from uitspraken_meta ) s\n",
    "                on s.id = l.reference\n",
    "        ''').fetchall(), columns=['id', 'reference'])"
   ]
  },
  {
   "cell_type": "code",
   "execution_count": 5,
   "metadata": {
    "collapsed": false
   },
   "outputs": [],
   "source": [
    "\n",
    "\n",
    "def create_temp_ids(ids, c):\n",
    "    c.execute('''\n",
    "            DROP TABLE IF EXISTS temp_ids\n",
    "    ''')\n",
    "    c.execute(''' CREATE TABLE temp_ids\n",
    "                (id text)''')\n",
    "    for id0 in ids:\n",
    "        c.execute(''' INSERT INTO temp_ids VALUES (?) '''\n",
    "                  , (id0,))\n",
    "\n",
    "def get_descriptions(tablename):\n",
    "    descriptions = pd.DataFrame(c.execute('''select l.id, r.summary\n",
    "            from ( \n",
    "                select distinct id from {}\n",
    "                ) l \n",
    "            left join uitspraken_meta r\n",
    "                on l.id = r.id\n",
    "        '''.format(tablename)).fetchall(), columns=['id', 'description'])\n",
    "    descriptions = descriptions.set_index('id')\n",
    "    return descriptions\n",
    "\n",
    "def get_articles(tablename):\n",
    "    articles = pd.DataFrame(c.execute('''select l.id, r.article_name, r.article_number\n",
    "            from ( \n",
    "                select distinct id from {}\n",
    "                ) l \n",
    "            left join uitspraken_articles r\n",
    "                on l.id = r.id\n",
    "            order by r.cnt desc\n",
    "        '''.format(tablename)).fetchall(), columns=['id', 'article_name', 'article_number'])\n",
    "    articles['article'] =  articles['article_number']+' '+articles['article_name']\n",
    "    articles_grouped = articles.groupby('id')['article'].apply(lambda l: [x for x in l if not pd.isnull(x)])\n",
    "    return articles_grouped\n",
    "\n",
    "def get_links_and_meta(ids, c):\n",
    "    create_temp_ids(ids, c)\n",
    "    descriptions = get_descriptions('temp_ids')\n",
    "    articles = get_articles('temp_ids')\n",
    "    descr_articles = descriptions.merge(pd.DataFrame(articles), left_index=True, right_index=True)\n",
    "    return descr_articles"
   ]
  },
  {
   "cell_type": "code",
   "execution_count": 8,
   "metadata": {
    "collapsed": false
   },
   "outputs": [],
   "source": [
    "ids = list(set(pd.concat((links.id, links.reference))))\n",
    "descr_articles = get_links_and_meta(ids, c)"
   ]
  },
  {
   "cell_type": "code",
   "execution_count": 9,
   "metadata": {
    "collapsed": true
   },
   "outputs": [],
   "source": [
    "\n",
    "def year_from_id(text):\n",
    "    return text.split(':')[3]\n",
    "\n",
    "\n",
    "def make_graph(descriptions, links):\n",
    "    g = Graph()\n",
    "    node_dict = {}\n",
    "    for ecli in descriptions.index:\n",
    "        n = g.add_node(ecli)\n",
    "        n['description'] = descriptions['description'][ecli]\n",
    "        n['articles'] = descriptions['article'][ecli]\n",
    "        n['year'] = int(year_from_id(ecli))\n",
    "        node_dict[ecli] = n\n",
    "    # Add edges\n",
    "    for i in links.index:\n",
    "        n1, n2 = (links['id'][i], links['reference'][i])\n",
    "        g.add_edge(node_dict[n1], node_dict[n2], directed=True)\n",
    "    return g\n",
    "\n",
    "def save_graph(graph, outputpath):\n",
    "    parser = GraphMLParser()\n",
    "    parser.write(graph, outputpath)"
   ]
  },
  {
   "cell_type": "code",
   "execution_count": 10,
   "metadata": {
    "collapsed": false
   },
   "outputs": [],
   "source": [
    "outputpath = '/media/sf_VBox_Shared/CaseLaw/graphs/eclilinks.graphml'\n",
    "g = make_graph(descr_articles, links)\n",
    "save_graph(g, outputpath)"
   ]
  },
  {
   "cell_type": "code",
   "execution_count": 12,
   "metadata": {
    "collapsed": false
   },
   "outputs": [],
   "source": [
    "#Smaller graph: search for werkgever:\n",
    "lower = descr_articles['description'].str.lower()\n",
    "descriptions_small = descr_articles[lower.str.contains('aansprakelijkheid')]"
   ]
  },
  {
   "cell_type": "code",
   "execution_count": 13,
   "metadata": {
    "collapsed": false
   },
   "outputs": [],
   "source": [
    "links_small = links.merge(descriptions_small, left_on='id', right_index=True)[['id', 'reference']]"
   ]
  },
  {
   "cell_type": "code",
   "execution_count": 14,
   "metadata": {
    "collapsed": true
   },
   "outputs": [],
   "source": [
    "ids_small = pd.concat([links_small['id'], links_small['reference']]).unique()"
   ]
  },
  {
   "cell_type": "code",
   "execution_count": 16,
   "metadata": {
    "collapsed": false
   },
   "outputs": [
    {
     "data": {
      "text/plain": [
       "(112, 2)"
      ]
     },
     "execution_count": 16,
     "metadata": {},
     "output_type": "execute_result"
    }
   ],
   "source": [
    "descr_articles_small = get_links_and_meta(ids_small, c)\n",
    "descr_articles_small.shape"
   ]
  },
  {
   "cell_type": "code",
   "execution_count": 17,
   "metadata": {
    "collapsed": false
   },
   "outputs": [],
   "source": [
    "outputpath = '/media/sf_VBox_Shared/CaseLaw/graphs/eclilinks_small.graphml'\n",
    "g2 = make_graph(descr_articles_small, links_small)\n",
    "save_graph(g2, outputpath)"
   ]
  },
  {
   "cell_type": "markdown",
   "metadata": {
    "collapsed": false
   },
   "source": [
    "## existing network from Gijs"
   ]
  },
  {
   "cell_type": "code",
   "execution_count": 18,
   "metadata": {
    "collapsed": true
   },
   "outputs": [],
   "source": [
    "filepath = '/media/sf_VBox_Shared/CaseLaw/graphs/test3 wg aanspr.csv'"
   ]
  },
  {
   "cell_type": "code",
   "execution_count": 19,
   "metadata": {
    "collapsed": false
   },
   "outputs": [],
   "source": [
    "links_wgaans = pd.read_csv(filepath, sep=';', header=0)"
   ]
  },
  {
   "cell_type": "code",
   "execution_count": 20,
   "metadata": {
    "collapsed": false
   },
   "outputs": [],
   "source": [
    "links_wgaans.columns = ['id', 'reference']"
   ]
  },
  {
   "cell_type": "code",
   "execution_count": 21,
   "metadata": {
    "collapsed": false
   },
   "outputs": [],
   "source": [
    "links_wgaans = links_wgaans.drop_duplicates()"
   ]
  },
  {
   "cell_type": "code",
   "execution_count": 22,
   "metadata": {
    "collapsed": false
   },
   "outputs": [],
   "source": [
    "ids_wgaans = list(pd.concat([links_wgaans['id'], links_wgaans['reference']]).unique())"
   ]
  },
  {
   "cell_type": "code",
   "execution_count": 23,
   "metadata": {
    "collapsed": true
   },
   "outputs": [],
   "source": [
    "conn = sqlite3.connect('rechtspraak.db')\n",
    "c = conn.cursor()"
   ]
  },
  {
   "cell_type": "code",
   "execution_count": 24,
   "metadata": {
    "collapsed": false
   },
   "outputs": [
    {
     "name": "stdout",
     "output_type": "stream",
     "text": [
      "(0, 1)\n",
      "(0,)\n"
     ]
    }
   ],
   "source": [
    "descriptions_wgaans = get_descriptions('temp_ids')\n",
    "articles_wgaans = get_articles('temp_ids')\n",
    "print(descriptions_wgaans.shape)\n",
    "print(articles_wgaans.shape)"
   ]
  },
  {
   "cell_type": "code",
   "execution_count": 25,
   "metadata": {
    "collapsed": false
   },
   "outputs": [
    {
     "data": {
      "text/plain": [
       "(156, 2)"
      ]
     },
     "execution_count": 25,
     "metadata": {},
     "output_type": "execute_result"
    }
   ],
   "source": [
    "descr_articles_wgaans = get_links_and_meta(ids_wgaans, c)\n",
    "descr_articles_wgaans.shape"
   ]
  },
  {
   "cell_type": "code",
   "execution_count": 26,
   "metadata": {
    "collapsed": false
   },
   "outputs": [],
   "source": [
    "outputpath = '/media/sf_VBox_Shared/CaseLaw/graphs/eclilinks_wgaans.graphml'\n",
    "g3 = make_graph(descr_articles_wgaans, links_wgaans)\n",
    "save_graph(g3, outputpath)"
   ]
  },
  {
   "cell_type": "code",
   "execution_count": 27,
   "metadata": {
    "collapsed": false
   },
   "outputs": [
    {
     "name": "stdout",
     "output_type": "stream",
     "text": [
      "156\n"
     ]
    },
    {
     "data": {
      "text/plain": [
       "(156, 2)"
      ]
     },
     "execution_count": 27,
     "metadata": {},
     "output_type": "execute_result"
    }
   ],
   "source": [
    "print(len(ids_wgaans))\n",
    "descr_articles_wgaans.shape"
   ]
  },
  {
   "cell_type": "code",
   "execution_count": 28,
   "metadata": {
    "collapsed": false
   },
   "outputs": [
    {
     "data": {
      "text/plain": [
       "[(156,)]"
      ]
     },
     "execution_count": 28,
     "metadata": {},
     "output_type": "execute_result"
    }
   ],
   "source": [
    "c.execute('''select count(*) from temp_ids\n",
    "        ''').fetchall()"
   ]
  },
  {
   "cell_type": "code",
   "execution_count": 29,
   "metadata": {
    "collapsed": false
   },
   "outputs": [],
   "source": [
    "conn.close()"
   ]
  },
  {
   "cell_type": "code",
   "execution_count": 30,
   "metadata": {
    "collapsed": false
   },
   "outputs": [
    {
     "data": {
      "text/html": [
       "<div>\n",
       "<table border=\"1\" class=\"dataframe\">\n",
       "  <thead>\n",
       "    <tr style=\"text-align: right;\">\n",
       "      <th></th>\n",
       "      <th>description</th>\n",
       "      <th>article</th>\n",
       "    </tr>\n",
       "    <tr>\n",
       "      <th>id</th>\n",
       "      <th></th>\n",
       "      <th></th>\n",
       "    </tr>\n",
       "  </thead>\n",
       "  <tbody>\n",
       "    <tr>\n",
       "      <th>ECLI:NL:HR:1969:AC4973</th>\n",
       "      <td>None</td>\n",
       "      <td>[]</td>\n",
       "    </tr>\n",
       "    <tr>\n",
       "      <th>ECLI:NL:HR:1975:AC5607</th>\n",
       "      <td>None</td>\n",
       "      <td>[]</td>\n",
       "    </tr>\n",
       "    <tr>\n",
       "      <th>ECLI:NL:HR:1976:AC5837</th>\n",
       "      <td>None</td>\n",
       "      <td>[]</td>\n",
       "    </tr>\n",
       "    <tr>\n",
       "      <th>ECLI:NL:HR:1978:AC3514</th>\n",
       "      <td>None</td>\n",
       "      <td>[]</td>\n",
       "    </tr>\n",
       "    <tr>\n",
       "      <th>ECLI:NL:HR:1982:AC0442</th>\n",
       "      <td>None</td>\n",
       "      <td>[]</td>\n",
       "    </tr>\n",
       "    <tr>\n",
       "      <th>ECLI:NL:HR:1982:AG4420</th>\n",
       "      <td>None</td>\n",
       "      <td>[]</td>\n",
       "    </tr>\n",
       "    <tr>\n",
       "      <th>ECLI:NL:HR:1983:AG4611</th>\n",
       "      <td>None</td>\n",
       "      <td>[]</td>\n",
       "    </tr>\n",
       "    <tr>\n",
       "      <th>ECLI:NL:HR:1987:AC3826</th>\n",
       "      <td>None</td>\n",
       "      <td>[]</td>\n",
       "    </tr>\n",
       "    <tr>\n",
       "      <th>ECLI:NL:HR:1987:AG5504</th>\n",
       "      <td>None</td>\n",
       "      <td>[]</td>\n",
       "    </tr>\n",
       "    <tr>\n",
       "      <th>ECLI:NL:HR:1989:AB9375</th>\n",
       "      <td>None</td>\n",
       "      <td>[]</td>\n",
       "    </tr>\n",
       "    <tr>\n",
       "      <th>ECLI:NL:HR:1989:AD0808</th>\n",
       "      <td>None</td>\n",
       "      <td>[]</td>\n",
       "    </tr>\n",
       "    <tr>\n",
       "      <th>ECLI:NL:HR:1990:AB9376</th>\n",
       "      <td>None</td>\n",
       "      <td>[]</td>\n",
       "    </tr>\n",
       "    <tr>\n",
       "      <th>ECLI:NL:HR:1990:AC4217</th>\n",
       "      <td>None</td>\n",
       "      <td>[]</td>\n",
       "    </tr>\n",
       "    <tr>\n",
       "      <th>ECLI:NL:HR:1990:ZC0073</th>\n",
       "      <td>None</td>\n",
       "      <td>[]</td>\n",
       "    </tr>\n",
       "    <tr>\n",
       "      <th>ECLI:NL:HR:1990:ZC8398</th>\n",
       "      <td>None</td>\n",
       "      <td>[]</td>\n",
       "    </tr>\n",
       "    <tr>\n",
       "      <th>ECLI:NL:HR:1991:ZC0181</th>\n",
       "      <td>None</td>\n",
       "      <td>[]</td>\n",
       "    </tr>\n",
       "    <tr>\n",
       "      <th>ECLI:NL:HR:1991:ZC0352</th>\n",
       "      <td>None</td>\n",
       "      <td>[]</td>\n",
       "    </tr>\n",
       "    <tr>\n",
       "      <th>ECLI:NL:HR:1991:ZC0394</th>\n",
       "      <td>None</td>\n",
       "      <td>[]</td>\n",
       "    </tr>\n",
       "    <tr>\n",
       "      <th>ECLI:NL:HR:1992:ZC0526</th>\n",
       "      <td>None</td>\n",
       "      <td>[]</td>\n",
       "    </tr>\n",
       "    <tr>\n",
       "      <th>ECLI:NL:HR:1992:ZC0559</th>\n",
       "      <td>None</td>\n",
       "      <td>[]</td>\n",
       "    </tr>\n",
       "    <tr>\n",
       "      <th>ECLI:NL:HR:1992:ZC0717</th>\n",
       "      <td>None</td>\n",
       "      <td>[]</td>\n",
       "    </tr>\n",
       "    <tr>\n",
       "      <th>ECLI:NL:HR:1993:AC4282</th>\n",
       "      <td>None</td>\n",
       "      <td>[]</td>\n",
       "    </tr>\n",
       "    <tr>\n",
       "      <th>ECLI:NL:HR:1993:AD1907</th>\n",
       "      <td>None</td>\n",
       "      <td>[]</td>\n",
       "    </tr>\n",
       "    <tr>\n",
       "      <th>ECLI:NL:HR:1993:ZC1027</th>\n",
       "      <td>None</td>\n",
       "      <td>[]</td>\n",
       "    </tr>\n",
       "    <tr>\n",
       "      <th>ECLI:NL:HR:1993:ZC1044</th>\n",
       "      <td>None</td>\n",
       "      <td>[]</td>\n",
       "    </tr>\n",
       "    <tr>\n",
       "      <th>ECLI:NL:HR:1993:ZC1076</th>\n",
       "      <td>None</td>\n",
       "      <td>[]</td>\n",
       "    </tr>\n",
       "    <tr>\n",
       "      <th>ECLI:NL:HR:1994:ZC1405</th>\n",
       "      <td>None</td>\n",
       "      <td>[]</td>\n",
       "    </tr>\n",
       "    <tr>\n",
       "      <th>ECLI:NL:HR:1995:ZC1867</th>\n",
       "      <td>None</td>\n",
       "      <td>[]</td>\n",
       "    </tr>\n",
       "    <tr>\n",
       "      <th>ECLI:NL:HR:1996:ZC2142</th>\n",
       "      <td>None</td>\n",
       "      <td>[]</td>\n",
       "    </tr>\n",
       "    <tr>\n",
       "      <th>ECLI:NL:HR:1997:ZC2460</th>\n",
       "      <td>None</td>\n",
       "      <td>[]</td>\n",
       "    </tr>\n",
       "    <tr>\n",
       "      <th>...</th>\n",
       "      <td>...</td>\n",
       "      <td>...</td>\n",
       "    </tr>\n",
       "    <tr>\n",
       "      <th>ECLI:NL:HR:2009:BJ7832</th>\n",
       "      <td>Sociale zekerheidsrecht. Regresrecht ex art. 8...</td>\n",
       "      <td>[83c zfw, 7:658 bw, 83b zfw]</td>\n",
       "    </tr>\n",
       "    <tr>\n",
       "      <th>ECLI:NL:HR:2010:BK4476</th>\n",
       "      <td>Luchtvaartwet (LVW), schadeloosstelling ex art...</td>\n",
       "      <td>[6:101 bw, 38 luchtvaartwet, 81 ro]</td>\n",
       "    </tr>\n",
       "    <tr>\n",
       "      <th>ECLI:NL:HR:2010:BM7041</th>\n",
       "      <td>Arbeidsrecht. Verjaring van op grond van art. ...</td>\n",
       "      <td>[]</td>\n",
       "    </tr>\n",
       "    <tr>\n",
       "      <th>ECLI:NL:HR:2010:BM7808</th>\n",
       "      <td>Verbintenissenrecht/verzekeringsrecht. Verreke...</td>\n",
       "      <td>[6:100 bw, 6:108 bw, 7:964 bw, 81 ro]</td>\n",
       "    </tr>\n",
       "    <tr>\n",
       "      <th>ECLI:NL:HR:2010:BN3831</th>\n",
       "      <td>Inkomstenbelasting/premie volksverzekeringen; ...</td>\n",
       "      <td>[]</td>\n",
       "    </tr>\n",
       "    <tr>\n",
       "      <th>ECLI:NL:HR:2010:BN6236</th>\n",
       "      <td>Bezittersaansprakelijkheid voor verschuiving k...</td>\n",
       "      <td>[6:162 bw, 6:174 bw]</td>\n",
       "    </tr>\n",
       "    <tr>\n",
       "      <th>ECLI:NL:HR:2010:BN9977</th>\n",
       "      <td>Arbeidsrecht. Arbeidsongeval in de zin van art...</td>\n",
       "      <td>[7:611 bw, 7:658 bw, 7:681 bw, 81 ro]</td>\n",
       "    </tr>\n",
       "    <tr>\n",
       "      <th>ECLI:NL:HR:2010:BO1799</th>\n",
       "      <td>Verbintenissenrecht. Beheerovereenkomst. Zorgp...</td>\n",
       "      <td>[6:98 bw, 81 ro]</td>\n",
       "    </tr>\n",
       "    <tr>\n",
       "      <th>ECLI:NL:HR:2011:BP9991</th>\n",
       "      <td>Arbeidsrecht/Procesrecht. Vordering tot vergoe...</td>\n",
       "      <td>[81 ro]</td>\n",
       "    </tr>\n",
       "    <tr>\n",
       "      <th>ECLI:NL:HR:2011:BQ3514</th>\n",
       "      <td>Arbeidsrecht. Schade werknemer als gevolg van ...</td>\n",
       "      <td>[7:658 bw]</td>\n",
       "    </tr>\n",
       "    <tr>\n",
       "      <th>ECLI:NL:HR:2011:BQ3517</th>\n",
       "      <td>Arbeidsrecht. Schade werknemer als gevolg van ...</td>\n",
       "      <td>[7:658 bw]</td>\n",
       "    </tr>\n",
       "    <tr>\n",
       "      <th>ECLI:NL:HR:2011:BQ3519</th>\n",
       "      <td>Arbeidsrecht. Schade werknemer als gevolg van ...</td>\n",
       "      <td>[7:658 bw]</td>\n",
       "    </tr>\n",
       "    <tr>\n",
       "      <th>ECLI:NL:HR:2011:BR5215</th>\n",
       "      <td>Werkgeversaansprakelijkheid. Letsel werknemer ...</td>\n",
       "      <td>[7:658 bw, 7:611 bw]</td>\n",
       "    </tr>\n",
       "    <tr>\n",
       "      <th>ECLI:NL:HR:2011:BR5223</th>\n",
       "      <td>Werkgeversaansprakelijkheid. Letsel werknemer ...</td>\n",
       "      <td>[7:611 bw, 7:658 bw, 81 ro]</td>\n",
       "    </tr>\n",
       "    <tr>\n",
       "      <th>ECLI:NL:HR:2011:BU7412</th>\n",
       "      <td>Cassatie in belang der wet. Koop. Ook aan part...</td>\n",
       "      <td>[3:39 bw, 7:2 bw, 3:296 bw, 6:2 bw]</td>\n",
       "    </tr>\n",
       "    <tr>\n",
       "      <th>ECLI:NL:HR:2012:BV1295</th>\n",
       "      <td>Uitleg dekkingsomvang AVB-polis. Aansprakelijk...</td>\n",
       "      <td>[7:611 bw, 7:658 bw, 19 ``, 19 polis]</td>\n",
       "    </tr>\n",
       "    <tr>\n",
       "      <th>ECLI:NL:HR:2012:BX0598</th>\n",
       "      <td>(Appel)procesrecht. Recht op pleidooi in incid...</td>\n",
       "      <td>[10 evrm, 8 evrm]</td>\n",
       "    </tr>\n",
       "    <tr>\n",
       "      <th>ECLI:NL:HR:2012:BX7590</th>\n",
       "      <td>Arubaanse zaak. Zorgverplichting werkgever, aa...</td>\n",
       "      <td>[]</td>\n",
       "    </tr>\n",
       "    <tr>\n",
       "      <th>ECLI:NL:HR:2013:BZ1717</th>\n",
       "      <td>Werkgeversaansprakelijkheid voor RSI;, art. 7:...</td>\n",
       "      <td>[7:658 bw, 81 ro]</td>\n",
       "    </tr>\n",
       "    <tr>\n",
       "      <th>ECLI:NL:HR:2013:BZ1721</th>\n",
       "      <td>Werkgeversaansprakelijkheid wegens blootstelli...</td>\n",
       "      <td>[7:658 bw, 6:107 bw, 6:108 bw, 6:99 bw]</td>\n",
       "    </tr>\n",
       "    <tr>\n",
       "      <th>ECLI:NL:HR:2013:BZ1780</th>\n",
       "      <td>Overgang van onderneming in de zin van art. 7:...</td>\n",
       "      <td>[7:663 bw, 7:610 bw, 81 ro]</td>\n",
       "    </tr>\n",
       "    <tr>\n",
       "      <th>ECLI:NL:HR:2014:3519</th>\n",
       "      <td>Werkgeversaansprakelijkheid. Art. 7:658 BW. Zo...</td>\n",
       "      <td>[7:658 bw, 6:74 bw, 7:611 bw, 51 cao]</td>\n",
       "    </tr>\n",
       "    <tr>\n",
       "      <th>ECLI:NL:HR:2014:943</th>\n",
       "      <td>Deelgeschilprocedure, art. 1019w Rv. Doorbreki...</td>\n",
       "      <td>[7:658 bw]</td>\n",
       "    </tr>\n",
       "    <tr>\n",
       "      <th>ECLI:NL:HR:2015:3019</th>\n",
       "      <td>Arbeidsrecht. Toepasselijkheid CAO's uitzendbr...</td>\n",
       "      <td>[7:610 bw, 7:658 bw, 7:690 bw]</td>\n",
       "    </tr>\n",
       "    <tr>\n",
       "      <th>ECLI:NL:HR:2015:644</th>\n",
       "      <td>Artikel 38 Invorderingswet 1990. Aansprakelijk...</td>\n",
       "      <td>[]</td>\n",
       "    </tr>\n",
       "    <tr>\n",
       "      <th>ECLI:NL:XX:1996:AD4440</th>\n",
       "      <td>None</td>\n",
       "      <td>[]</td>\n",
       "    </tr>\n",
       "    <tr>\n",
       "      <th>ECLI:NL:XX:2004:AR5022</th>\n",
       "      <td>None</td>\n",
       "      <td>[]</td>\n",
       "    </tr>\n",
       "    <tr>\n",
       "      <th>ECLI:NL:XX:2006:AY0534</th>\n",
       "      <td>None</td>\n",
       "      <td>[]</td>\n",
       "    </tr>\n",
       "    <tr>\n",
       "      <th>ECLI:NL:XX:2010:BL0510</th>\n",
       "      <td>None</td>\n",
       "      <td>[]</td>\n",
       "    </tr>\n",
       "    <tr>\n",
       "      <th>ECLI:NL:XX:2010:BO3935</th>\n",
       "      <td>None</td>\n",
       "      <td>[]</td>\n",
       "    </tr>\n",
       "  </tbody>\n",
       "</table>\n",
       "<p>156 rows × 2 columns</p>\n",
       "</div>"
      ],
      "text/plain": [
       "                                                              description  \\\n",
       "id                                                                          \n",
       "ECLI:NL:HR:1969:AC4973                                               None   \n",
       "ECLI:NL:HR:1975:AC5607                                               None   \n",
       "ECLI:NL:HR:1976:AC5837                                               None   \n",
       "ECLI:NL:HR:1978:AC3514                                               None   \n",
       "ECLI:NL:HR:1982:AC0442                                               None   \n",
       "ECLI:NL:HR:1982:AG4420                                               None   \n",
       "ECLI:NL:HR:1983:AG4611                                               None   \n",
       "ECLI:NL:HR:1987:AC3826                                               None   \n",
       "ECLI:NL:HR:1987:AG5504                                               None   \n",
       "ECLI:NL:HR:1989:AB9375                                               None   \n",
       "ECLI:NL:HR:1989:AD0808                                               None   \n",
       "ECLI:NL:HR:1990:AB9376                                               None   \n",
       "ECLI:NL:HR:1990:AC4217                                               None   \n",
       "ECLI:NL:HR:1990:ZC0073                                               None   \n",
       "ECLI:NL:HR:1990:ZC8398                                               None   \n",
       "ECLI:NL:HR:1991:ZC0181                                               None   \n",
       "ECLI:NL:HR:1991:ZC0352                                               None   \n",
       "ECLI:NL:HR:1991:ZC0394                                               None   \n",
       "ECLI:NL:HR:1992:ZC0526                                               None   \n",
       "ECLI:NL:HR:1992:ZC0559                                               None   \n",
       "ECLI:NL:HR:1992:ZC0717                                               None   \n",
       "ECLI:NL:HR:1993:AC4282                                               None   \n",
       "ECLI:NL:HR:1993:AD1907                                               None   \n",
       "ECLI:NL:HR:1993:ZC1027                                               None   \n",
       "ECLI:NL:HR:1993:ZC1044                                               None   \n",
       "ECLI:NL:HR:1993:ZC1076                                               None   \n",
       "ECLI:NL:HR:1994:ZC1405                                               None   \n",
       "ECLI:NL:HR:1995:ZC1867                                               None   \n",
       "ECLI:NL:HR:1996:ZC2142                                               None   \n",
       "ECLI:NL:HR:1997:ZC2460                                               None   \n",
       "...                                                                   ...   \n",
       "ECLI:NL:HR:2009:BJ7832  Sociale zekerheidsrecht. Regresrecht ex art. 8...   \n",
       "ECLI:NL:HR:2010:BK4476  Luchtvaartwet (LVW), schadeloosstelling ex art...   \n",
       "ECLI:NL:HR:2010:BM7041  Arbeidsrecht. Verjaring van op grond van art. ...   \n",
       "ECLI:NL:HR:2010:BM7808  Verbintenissenrecht/verzekeringsrecht. Verreke...   \n",
       "ECLI:NL:HR:2010:BN3831  Inkomstenbelasting/premie volksverzekeringen; ...   \n",
       "ECLI:NL:HR:2010:BN6236  Bezittersaansprakelijkheid voor verschuiving k...   \n",
       "ECLI:NL:HR:2010:BN9977  Arbeidsrecht. Arbeidsongeval in de zin van art...   \n",
       "ECLI:NL:HR:2010:BO1799  Verbintenissenrecht. Beheerovereenkomst. Zorgp...   \n",
       "ECLI:NL:HR:2011:BP9991  Arbeidsrecht/Procesrecht. Vordering tot vergoe...   \n",
       "ECLI:NL:HR:2011:BQ3514  Arbeidsrecht. Schade werknemer als gevolg van ...   \n",
       "ECLI:NL:HR:2011:BQ3517  Arbeidsrecht. Schade werknemer als gevolg van ...   \n",
       "ECLI:NL:HR:2011:BQ3519  Arbeidsrecht. Schade werknemer als gevolg van ...   \n",
       "ECLI:NL:HR:2011:BR5215  Werkgeversaansprakelijkheid. Letsel werknemer ...   \n",
       "ECLI:NL:HR:2011:BR5223  Werkgeversaansprakelijkheid. Letsel werknemer ...   \n",
       "ECLI:NL:HR:2011:BU7412  Cassatie in belang der wet. Koop. Ook aan part...   \n",
       "ECLI:NL:HR:2012:BV1295  Uitleg dekkingsomvang AVB-polis. Aansprakelijk...   \n",
       "ECLI:NL:HR:2012:BX0598  (Appel)procesrecht. Recht op pleidooi in incid...   \n",
       "ECLI:NL:HR:2012:BX7590  Arubaanse zaak. Zorgverplichting werkgever, aa...   \n",
       "ECLI:NL:HR:2013:BZ1717  Werkgeversaansprakelijkheid voor RSI;, art. 7:...   \n",
       "ECLI:NL:HR:2013:BZ1721  Werkgeversaansprakelijkheid wegens blootstelli...   \n",
       "ECLI:NL:HR:2013:BZ1780  Overgang van onderneming in de zin van art. 7:...   \n",
       "ECLI:NL:HR:2014:3519    Werkgeversaansprakelijkheid. Art. 7:658 BW. Zo...   \n",
       "ECLI:NL:HR:2014:943     Deelgeschilprocedure, art. 1019w Rv. Doorbreki...   \n",
       "ECLI:NL:HR:2015:3019    Arbeidsrecht. Toepasselijkheid CAO's uitzendbr...   \n",
       "ECLI:NL:HR:2015:644     Artikel 38 Invorderingswet 1990. Aansprakelijk...   \n",
       "ECLI:NL:XX:1996:AD4440                                               None   \n",
       "ECLI:NL:XX:2004:AR5022                                               None   \n",
       "ECLI:NL:XX:2006:AY0534                                               None   \n",
       "ECLI:NL:XX:2010:BL0510                                               None   \n",
       "ECLI:NL:XX:2010:BO3935                                               None   \n",
       "\n",
       "                                                        article  \n",
       "id                                                               \n",
       "ECLI:NL:HR:1969:AC4973                                       []  \n",
       "ECLI:NL:HR:1975:AC5607                                       []  \n",
       "ECLI:NL:HR:1976:AC5837                                       []  \n",
       "ECLI:NL:HR:1978:AC3514                                       []  \n",
       "ECLI:NL:HR:1982:AC0442                                       []  \n",
       "ECLI:NL:HR:1982:AG4420                                       []  \n",
       "ECLI:NL:HR:1983:AG4611                                       []  \n",
       "ECLI:NL:HR:1987:AC3826                                       []  \n",
       "ECLI:NL:HR:1987:AG5504                                       []  \n",
       "ECLI:NL:HR:1989:AB9375                                       []  \n",
       "ECLI:NL:HR:1989:AD0808                                       []  \n",
       "ECLI:NL:HR:1990:AB9376                                       []  \n",
       "ECLI:NL:HR:1990:AC4217                                       []  \n",
       "ECLI:NL:HR:1990:ZC0073                                       []  \n",
       "ECLI:NL:HR:1990:ZC8398                                       []  \n",
       "ECLI:NL:HR:1991:ZC0181                                       []  \n",
       "ECLI:NL:HR:1991:ZC0352                                       []  \n",
       "ECLI:NL:HR:1991:ZC0394                                       []  \n",
       "ECLI:NL:HR:1992:ZC0526                                       []  \n",
       "ECLI:NL:HR:1992:ZC0559                                       []  \n",
       "ECLI:NL:HR:1992:ZC0717                                       []  \n",
       "ECLI:NL:HR:1993:AC4282                                       []  \n",
       "ECLI:NL:HR:1993:AD1907                                       []  \n",
       "ECLI:NL:HR:1993:ZC1027                                       []  \n",
       "ECLI:NL:HR:1993:ZC1044                                       []  \n",
       "ECLI:NL:HR:1993:ZC1076                                       []  \n",
       "ECLI:NL:HR:1994:ZC1405                                       []  \n",
       "ECLI:NL:HR:1995:ZC1867                                       []  \n",
       "ECLI:NL:HR:1996:ZC2142                                       []  \n",
       "ECLI:NL:HR:1997:ZC2460                                       []  \n",
       "...                                                         ...  \n",
       "ECLI:NL:HR:2009:BJ7832             [83c zfw, 7:658 bw, 83b zfw]  \n",
       "ECLI:NL:HR:2010:BK4476      [6:101 bw, 38 luchtvaartwet, 81 ro]  \n",
       "ECLI:NL:HR:2010:BM7041                                       []  \n",
       "ECLI:NL:HR:2010:BM7808    [6:100 bw, 6:108 bw, 7:964 bw, 81 ro]  \n",
       "ECLI:NL:HR:2010:BN3831                                       []  \n",
       "ECLI:NL:HR:2010:BN6236                     [6:162 bw, 6:174 bw]  \n",
       "ECLI:NL:HR:2010:BN9977    [7:611 bw, 7:658 bw, 7:681 bw, 81 ro]  \n",
       "ECLI:NL:HR:2010:BO1799                         [6:98 bw, 81 ro]  \n",
       "ECLI:NL:HR:2011:BP9991                                  [81 ro]  \n",
       "ECLI:NL:HR:2011:BQ3514                               [7:658 bw]  \n",
       "ECLI:NL:HR:2011:BQ3517                               [7:658 bw]  \n",
       "ECLI:NL:HR:2011:BQ3519                               [7:658 bw]  \n",
       "ECLI:NL:HR:2011:BR5215                     [7:658 bw, 7:611 bw]  \n",
       "ECLI:NL:HR:2011:BR5223              [7:611 bw, 7:658 bw, 81 ro]  \n",
       "ECLI:NL:HR:2011:BU7412      [3:39 bw, 7:2 bw, 3:296 bw, 6:2 bw]  \n",
       "ECLI:NL:HR:2012:BV1295    [7:611 bw, 7:658 bw, 19 ``, 19 polis]  \n",
       "ECLI:NL:HR:2012:BX0598                        [10 evrm, 8 evrm]  \n",
       "ECLI:NL:HR:2012:BX7590                                       []  \n",
       "ECLI:NL:HR:2013:BZ1717                        [7:658 bw, 81 ro]  \n",
       "ECLI:NL:HR:2013:BZ1721  [7:658 bw, 6:107 bw, 6:108 bw, 6:99 bw]  \n",
       "ECLI:NL:HR:2013:BZ1780              [7:663 bw, 7:610 bw, 81 ro]  \n",
       "ECLI:NL:HR:2014:3519      [7:658 bw, 6:74 bw, 7:611 bw, 51 cao]  \n",
       "ECLI:NL:HR:2014:943                                  [7:658 bw]  \n",
       "ECLI:NL:HR:2015:3019             [7:610 bw, 7:658 bw, 7:690 bw]  \n",
       "ECLI:NL:HR:2015:644                                          []  \n",
       "ECLI:NL:XX:1996:AD4440                                       []  \n",
       "ECLI:NL:XX:2004:AR5022                                       []  \n",
       "ECLI:NL:XX:2006:AY0534                                       []  \n",
       "ECLI:NL:XX:2010:BL0510                                       []  \n",
       "ECLI:NL:XX:2010:BO3935                                       []  \n",
       "\n",
       "[156 rows x 2 columns]"
      ]
     },
     "execution_count": 30,
     "metadata": {},
     "output_type": "execute_result"
    }
   ],
   "source": [
    "descr_articles_wgaans"
   ]
  },
  {
   "cell_type": "code",
   "execution_count": null,
   "metadata": {
    "collapsed": true
   },
   "outputs": [],
   "source": []
  }
 ],
 "metadata": {
  "anaconda-cloud": {},
  "kernelspec": {
   "display_name": "Python 3",
   "language": "python",
   "name": "python3"
  },
  "language_info": {
   "codemirror_mode": {
    "name": "ipython",
    "version": 3
   },
   "file_extension": ".py",
   "mimetype": "text/x-python",
   "name": "python",
   "nbconvert_exporter": "python",
   "pygments_lexer": "ipython3",
   "version": "3.5.2"
  }
 },
 "nbformat": 4,
 "nbformat_minor": 1
}
