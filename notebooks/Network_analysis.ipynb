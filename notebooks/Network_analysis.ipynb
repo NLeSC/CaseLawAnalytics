{
 "cells": [
  {
   "cell_type": "code",
   "execution_count": 1,
   "metadata": {
    "collapsed": true
   },
   "outputs": [],
   "source": [
    "import os\n",
    "import sys\n",
    "sys.path.insert(0, os.path.abspath('..'))"
   ]
  },
  {
   "cell_type": "code",
   "execution_count": 2,
   "metadata": {
    "collapsed": true
   },
   "outputs": [],
   "source": [
    "from rechtspraak_query_app import network_analysis, query_to_json\n",
    "import pandas as pd\n",
    "import json"
   ]
  },
  {
   "cell_type": "code",
   "execution_count": 3,
   "metadata": {
    "collapsed": false
   },
   "outputs": [],
   "source": [
    "with open('/media/sf_VBox_Shared/CaseLaw/graphs/json_sigma/wgaans_xy.json') as f:\n",
    "    network = json.load(f)"
   ]
  },
  {
   "cell_type": "code",
   "execution_count": 4,
   "metadata": {
    "collapsed": false
   },
   "outputs": [],
   "source": [
    "nodes = network['nodes']\n",
    "links = network['edges']"
   ]
  },
  {
   "cell_type": "code",
   "execution_count": 5,
   "metadata": {
    "collapsed": false
   },
   "outputs": [],
   "source": [
    "nodes = network_analysis.add_network_statistics(nodes, links)"
   ]
  },
  {
   "cell_type": "code",
   "execution_count": 6,
   "metadata": {
    "collapsed": false
   },
   "outputs": [
    {
     "data": {
      "text/plain": [
       "{'abstract': \"Arbeidsrecht. Toepasselijkheid CAO's uitzendbranche. Overeenkomst waarbij een onderneming bemiddelt bij de plaatsing van MBO-leerlingen in leerbedrijven in het kader van in het onderwijs verplichte stages. Gaan de leerlingen een arbeidsovereenkomst aan? Motiveringsgebrek.\",\n",
       " 'articles': ['Burgerlijk Wetboek Boek 7',\n",
       "  'Burgerlijk Wetboek Boek 7 690',\n",
       "  'Burgerlijk Wetboek Boek 7 610'],\n",
       " 'authorities': 0.0,\n",
       " 'betweenness_centrality': 0.0,\n",
       " 'closeness_centrality': 0.012903225806451613,\n",
       " 'count_annotation': 2,\n",
       " 'count_version': 7,\n",
       " 'creator': 'http://standaarden.overheid.nl/owms/terms/Hoge_Raad_der_Nederlanden',\n",
       " 'date': '2015-10-09',\n",
       " 'degree': 2,\n",
       " 'degree_centrality': 0.012903225806451613,\n",
       " 'ecli': 'ECLI:NL:HR:2015:3019',\n",
       " 'hubs': 8.758659252566438e-72,\n",
       " 'id': 'http://deeplink.rechtspraak.nl/uitspraak?id=ECLI:NL:HR:2015:3019',\n",
       " 'in_degree': 0,\n",
       " 'in_degree_centrality': 0.0,\n",
       " 'out_degree': 2,\n",
       " 'out_degree_centrality': 0.012903225806451613,\n",
       " 'pagerank': 0.0038386703423328333,\n",
       " 'rel_in_degree': 0.0,\n",
       " 'subject': 'http://psi.rechtspraak.nl/rechtsgebied#civielRecht',\n",
       " 'title': 'ECLI:NL:HR:2015:3019 Hoge Raad , 09-10-2015 / 14/03393',\n",
       " 'x': 0.8736742310803205,\n",
       " 'y': 0.5082387638290449,\n",
       " 'year': 2015}"
      ]
     },
     "execution_count": 6,
     "metadata": {},
     "output_type": "execute_result"
    }
   ],
   "source": [
    "nodes[0]"
   ]
  },
  {
   "cell_type": "code",
   "execution_count": 7,
   "metadata": {
    "collapsed": false
   },
   "outputs": [],
   "source": [
    "query_to_json.to_sigma_json(nodes, links, network['title'], '/media/sf_VBox_Shared/CaseLaw/graphs/json_sigma/wgaans_xy.json')"
   ]
  },
  {
   "cell_type": "code",
   "execution_count": null,
   "metadata": {
    "collapsed": true
   },
   "outputs": [],
   "source": []
  }
 ],
 "metadata": {
  "anaconda-cloud": {},
  "kernelspec": {
   "display_name": "Python [conda env:caselaw]",
   "language": "python",
   "name": "conda-env-caselaw-py"
  },
  "language_info": {
   "codemirror_mode": {
    "name": "ipython",
    "version": 3
   },
   "file_extension": ".py",
   "mimetype": "text/x-python",
   "name": "python",
   "nbconvert_exporter": "python",
   "pygments_lexer": "ipython3",
   "version": "3.5.2"
  }
 },
 "nbformat": 4,
 "nbformat_minor": 0
}
