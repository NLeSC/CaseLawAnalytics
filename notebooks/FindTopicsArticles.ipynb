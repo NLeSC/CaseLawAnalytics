{
 "cells": [
  {
   "cell_type": "code",
   "execution_count": 1,
   "metadata": {
    "collapsed": true
   },
   "outputs": [],
   "source": [
    "from lxml import etree\n",
    "import re\n",
    "import os\n",
    "import sqlite3"
   ]
  },
  {
   "cell_type": "code",
   "execution_count": 42,
   "metadata": {
    "collapsed": true
   },
   "outputs": [],
   "source": [
    "conn = sqlite3.connect('rechtspraak.db')\n",
    "c = conn.cursor()"
   ]
  },
  {
   "cell_type": "markdown",
   "metadata": {},
   "source": [
    "Dit zijn de mogelijke wetboeken:\n",
    "Ieder wetboek heeft een naam: \n",
    "* Strafrecht (sw of sr), \n",
    "* Strafvorderingen (sv), \n",
    "* Burgelijk WB (bwb, 7 boeken 7:658), \n",
    "* AWB (algemene wet bestuursrecht, meerdere gedeelten)\n",
    "* evrm = europees verdrag rechten van de mens"
   ]
  },
  {
   "cell_type": "code",
   "execution_count": 31,
   "metadata": {
    "collapsed": false
   },
   "outputs": [],
   "source": [
    "import nltk\n",
    "rows = c.execute('SELECT id, text from uitspraken').fetchall()"
   ]
  },
  {
   "cell_type": "code",
   "execution_count": 3,
   "metadata": {
    "collapsed": false
   },
   "outputs": [],
   "source": [
    "texts = [nltk.Text(nltk.word_tokenize(text.lower())) for id0, text in rows]"
   ]
  },
  {
   "cell_type": "code",
   "execution_count": 19,
   "metadata": {
    "collapsed": false
   },
   "outputs": [
    {
     "name": "stdout",
     "output_type": "stream",
     "text": [
      "<Text: art . 1:23 bwb en artikel 4b van...>\n"
     ]
    }
   ],
   "source": [
    "example = nltk.Text(nltk.word_tokenize(\"art. 1:23 BWB en artikel 4b van de flora- en faunawet, art 4, lid 4 awb en ook art 42 van de wet bladibla\".lower()))\n",
    "print(example)"
   ]
  },
  {
   "cell_type": "code",
   "execution_count": 24,
   "metadata": {
    "collapsed": false
   },
   "outputs": [
    {
     "name": "stdout",
     "output_type": "stream",
     "text": [
      "(?:<sw|sr|sv|bwb|bw|awb|evrm|ro|zfw>)\n",
      "<art(?:ikel)?> <\\.>? <[0-9]+(?::[0-9]+)?[a-z]*> (?:<,>? <lid> <[0-9]+>)?(?:<van> <het|de> <wet>? <.*> | (?:<sw|sr|sv|bwb|bw|awb|evrm|ro|zfw>))\n"
     ]
    }
   ],
   "source": [
    "known_books = ['sw','sr', 'sv', 'bwb', 'bw', 'awb', 'evrm', 'ro', 'zfw']\n",
    "regex_knownbooks = r\"(?:<\" + \"|\".join(known_books) +r\">)\"\n",
    "print(regex_knownbooks)\n",
    "article_regex = r\"<art(?:ikel)?> \" +\\\n",
    "                r\"<\\.>? \" +\\\n",
    "                r\"<[0-9]+(?::[0-9]+)?[a-z]*> \" +\\\n",
    "                r\"(?:<,>? <lid> <[0-9]+>)?\" +\\\n",
    "                r\"(?:<van> <het|de> <wet>? <.*> | \" +\\\n",
    "                regex_knownbooks + \")\"\n",
    "print(article_regex)"
   ]
  },
  {
   "cell_type": "code",
   "execution_count": 25,
   "metadata": {
    "collapsed": false
   },
   "outputs": [
    {
     "name": "stdout",
     "output_type": "stream",
     "text": [
      "art . 1:23 bwb; artikel 4b van de flora-; art 4 , lid 4 awb; art 42\n",
      "van de wet bladibla\n"
     ]
    }
   ],
   "source": [
    "example.findall(article_regex)"
   ]
  },
  {
   "cell_type": "code",
   "execution_count": 37,
   "metadata": {
    "collapsed": false
   },
   "outputs": [],
   "source": [
    "def get_articles(text):\n",
    "    verwijzingen = nltk.TokenSearcher(text).findall(article_regex)\n",
    "    result = []\n",
    "    for v in verwijzingen:\n",
    "        art_number = nltk.TokenSearcher(v).findall(\"<[0-9]+(?::[0-9]+)?[a-z]*> \")[0][0]\n",
    "        art_name = v[-1]\n",
    "        result.append((art_number, art_name))\n",
    "    return result"
   ]
  },
  {
   "cell_type": "code",
   "execution_count": 38,
   "metadata": {
    "collapsed": false
   },
   "outputs": [],
   "source": [
    "from collections import Counter\n",
    "uitspraak_article = []\n",
    "for i in range(len(texts)):\n",
    "    articles = get_articles(texts[i])\n",
    "    for (art_number, art_name), cnt in Counter(articles).most_common():\n",
    "        uitspraak_article.append((rows[i][0], art_number, art_name, cnt))"
   ]
  },
  {
   "cell_type": "code",
   "execution_count": 39,
   "metadata": {
    "collapsed": false
   },
   "outputs": [
    {
     "data": {
      "text/html": [
       "<div>\n",
       "<table border=\"1\" class=\"dataframe\">\n",
       "  <thead>\n",
       "    <tr style=\"text-align: right;\">\n",
       "      <th></th>\n",
       "      <th>id</th>\n",
       "      <th>art_number</th>\n",
       "      <th>art_name</th>\n",
       "      <th>cnt</th>\n",
       "    </tr>\n",
       "  </thead>\n",
       "  <tbody>\n",
       "    <tr>\n",
       "      <th>0</th>\n",
       "      <td>ECLI:NL:HR:1988:AD0289</td>\n",
       "      <td>288</td>\n",
       "      <td>sr</td>\n",
       "      <td>3</td>\n",
       "    </tr>\n",
       "    <tr>\n",
       "      <th>1</th>\n",
       "      <td>ECLI:NL:HR:1988:AD0289</td>\n",
       "      <td>225</td>\n",
       "      <td>sr</td>\n",
       "      <td>2</td>\n",
       "    </tr>\n",
       "    <tr>\n",
       "      <th>2</th>\n",
       "      <td>ECLI:NL:HR:1988:AD0289</td>\n",
       "      <td>422</td>\n",
       "      <td>sv</td>\n",
       "      <td>2</td>\n",
       "    </tr>\n",
       "    <tr>\n",
       "      <th>3</th>\n",
       "      <td>ECLI:NL:HR:1988:AD0289</td>\n",
       "      <td>287</td>\n",
       "      <td>sr</td>\n",
       "      <td>1</td>\n",
       "    </tr>\n",
       "    <tr>\n",
       "      <th>4</th>\n",
       "      <td>ECLI:NL:HR:1988:AD0289</td>\n",
       "      <td>297</td>\n",
       "      <td>sv</td>\n",
       "      <td>1</td>\n",
       "    </tr>\n",
       "  </tbody>\n",
       "</table>\n",
       "</div>"
      ],
      "text/plain": [
       "                       id art_number art_name  cnt\n",
       "0  ECLI:NL:HR:1988:AD0289        288       sr    3\n",
       "1  ECLI:NL:HR:1988:AD0289        225       sr    2\n",
       "2  ECLI:NL:HR:1988:AD0289        422       sv    2\n",
       "3  ECLI:NL:HR:1988:AD0289        287       sr    1\n",
       "4  ECLI:NL:HR:1988:AD0289        297       sv    1"
      ]
     },
     "execution_count": 39,
     "metadata": {},
     "output_type": "execute_result"
    }
   ],
   "source": [
    "import pandas as pd\n",
    "uitspraak_article = pd.DataFrame(uitspraak_article, columns=['id', 'art_number', 'art_name', 'cnt'])\n",
    "uitspraak_article.head()"
   ]
  },
  {
   "cell_type": "code",
   "execution_count": 44,
   "metadata": {
    "collapsed": false
   },
   "outputs": [
    {
     "data": {
      "text/plain": [
       "<sqlite3.Cursor at 0x7f6570230d50>"
      ]
     },
     "execution_count": 44,
     "metadata": {},
     "output_type": "execute_result"
    }
   ],
   "source": [
    "c2 = conn.cursor()\n",
    "c2.execute('''\n",
    "        DROP TABLE IF EXISTS uitspraken_articles\n",
    "''')\n",
    "c2.execute(''' CREATE TABLE uitspraken_articles\n",
    "            (id text, \n",
    "            article_name text,\n",
    "            article_number text,\n",
    "            cnt integer\n",
    "            )\n",
    "        ''')"
   ]
  },
  {
   "cell_type": "code",
   "execution_count": 45,
   "metadata": {
    "collapsed": false
   },
   "outputs": [],
   "source": [
    "from collections import Counter\n",
    "\n",
    "for i in range(len(uitspraak_article)):\n",
    "    values = (uitspraak_article['id'][i], uitspraak_article['art_name'][i], \n",
    "              uitspraak_article['art_number'][i], uitspraak_article['cnt'][i])\n",
    "    query = ''' INSERT INTO uitspraken_articles\n",
    "        VALUES (?, ?, ?, ?)\n",
    "        '''\n",
    "    c2.execute(query, values)"
   ]
  },
  {
   "cell_type": "code",
   "execution_count": 46,
   "metadata": {
    "collapsed": false
   },
   "outputs": [
    {
     "name": "stderr",
     "output_type": "stream",
     "text": [
      "/home/dafne/anaconda2/envs/caselaw/lib/python3.5/site-packages/ipykernel/__main__.py:1: FutureWarning: sort(columns=....) is deprecated, use sort_values(by=.....)\n",
      "  if __name__ == '__main__':\n"
     ]
    },
    {
     "data": {
      "text/html": [
       "<div>\n",
       "<table border=\"1\" class=\"dataframe\">\n",
       "  <thead>\n",
       "    <tr style=\"text-align: right;\">\n",
       "      <th></th>\n",
       "      <th></th>\n",
       "      <th>cnt</th>\n",
       "    </tr>\n",
       "    <tr>\n",
       "      <th>art_number</th>\n",
       "      <th>art_name</th>\n",
       "      <th></th>\n",
       "    </tr>\n",
       "  </thead>\n",
       "  <tbody>\n",
       "    <tr>\n",
       "      <th>81</th>\n",
       "      <th>ro</th>\n",
       "      <td>6917</td>\n",
       "    </tr>\n",
       "    <tr>\n",
       "      <th>5a</th>\n",
       "      <th>administratieve</th>\n",
       "      <td>1471</td>\n",
       "    </tr>\n",
       "    <tr>\n",
       "      <th>6</th>\n",
       "      <th>evrm</th>\n",
       "      <td>1307</td>\n",
       "    </tr>\n",
       "    <tr>\n",
       "      <th>81</th>\n",
       "      <th>op</th>\n",
       "      <td>976</td>\n",
       "    </tr>\n",
       "    <tr>\n",
       "      <th rowspan=\"2\" valign=\"top\">80a</th>\n",
       "      <th>op</th>\n",
       "      <td>623</td>\n",
       "    </tr>\n",
       "    <tr>\n",
       "      <th>ro</th>\n",
       "      <td>599</td>\n",
       "    </tr>\n",
       "    <tr>\n",
       "      <th>457</th>\n",
       "      <th>sv</th>\n",
       "      <td>511</td>\n",
       "    </tr>\n",
       "    <tr>\n",
       "      <th>359a</th>\n",
       "      <th>sv</th>\n",
       "      <td>469</td>\n",
       "    </tr>\n",
       "    <tr>\n",
       "      <th>8</th>\n",
       "      <th>evrm</th>\n",
       "      <td>457</td>\n",
       "    </tr>\n",
       "    <tr>\n",
       "      <th>552a</th>\n",
       "      <th>sv</th>\n",
       "      <td>420</td>\n",
       "    </tr>\n",
       "    <tr>\n",
       "      <th>101a</th>\n",
       "      <th>op</th>\n",
       "      <td>416</td>\n",
       "    </tr>\n",
       "    <tr>\n",
       "      <th>440</th>\n",
       "      <th>sv</th>\n",
       "      <td>369</td>\n",
       "    </tr>\n",
       "    <tr>\n",
       "      <th>552a</th>\n",
       "      <th>wetboek</th>\n",
       "      <td>345</td>\n",
       "    </tr>\n",
       "    <tr>\n",
       "      <th>101a</th>\n",
       "      <th>ro</th>\n",
       "      <td>321</td>\n",
       "    </tr>\n",
       "    <tr>\n",
       "      <th>415</th>\n",
       "      <th>sv</th>\n",
       "      <td>276</td>\n",
       "    </tr>\n",
       "    <tr>\n",
       "      <th>7:658</th>\n",
       "      <th>bw</th>\n",
       "      <td>217</td>\n",
       "    </tr>\n",
       "    <tr>\n",
       "      <th>10</th>\n",
       "      <th>evrm</th>\n",
       "      <td>208</td>\n",
       "    </tr>\n",
       "    <tr>\n",
       "      <th>94</th>\n",
       "      <th>sv</th>\n",
       "      <td>200</td>\n",
       "    </tr>\n",
       "    <tr>\n",
       "      <th>1</th>\n",
       "      <th>eerste</th>\n",
       "      <td>189</td>\n",
       "    </tr>\n",
       "    <tr>\n",
       "      <th>94a</th>\n",
       "      <th>sv</th>\n",
       "      <td>177</td>\n",
       "    </tr>\n",
       "    <tr>\n",
       "      <th>14</th>\n",
       "      <th>evrm</th>\n",
       "      <td>156</td>\n",
       "    </tr>\n",
       "    <tr>\n",
       "      <th>36e</th>\n",
       "      <th>sr</th>\n",
       "      <td>154</td>\n",
       "    </tr>\n",
       "    <tr>\n",
       "      <th>6:101</th>\n",
       "      <th>bw</th>\n",
       "      <td>137</td>\n",
       "    </tr>\n",
       "    <tr>\n",
       "      <th>6:162</th>\n",
       "      <th>bw</th>\n",
       "      <td>135</td>\n",
       "    </tr>\n",
       "    <tr>\n",
       "      <th>68</th>\n",
       "      <th>sr</th>\n",
       "      <td>135</td>\n",
       "    </tr>\n",
       "    <tr>\n",
       "      <th>3:305a</th>\n",
       "      <th>bw</th>\n",
       "      <td>130</td>\n",
       "    </tr>\n",
       "    <tr>\n",
       "      <th>359a</th>\n",
       "      <th>wetboek</th>\n",
       "      <td>129</td>\n",
       "    </tr>\n",
       "    <tr>\n",
       "      <th>15</th>\n",
       "      <th>op</th>\n",
       "      <td>126</td>\n",
       "    </tr>\n",
       "    <tr>\n",
       "      <th>3:310</th>\n",
       "      <th>bw</th>\n",
       "      <td>125</td>\n",
       "    </tr>\n",
       "    <tr>\n",
       "      <th>551a</th>\n",
       "      <th>sv</th>\n",
       "      <td>124</td>\n",
       "    </tr>\n",
       "  </tbody>\n",
       "</table>\n",
       "</div>"
      ],
      "text/plain": [
       "                             cnt\n",
       "art_number art_name             \n",
       "81         ro               6917\n",
       "5a         administratieve  1471\n",
       "6          evrm             1307\n",
       "81         op                976\n",
       "80a        op                623\n",
       "           ro                599\n",
       "457        sv                511\n",
       "359a       sv                469\n",
       "8          evrm              457\n",
       "552a       sv                420\n",
       "101a       op                416\n",
       "440        sv                369\n",
       "552a       wetboek           345\n",
       "101a       ro                321\n",
       "415        sv                276\n",
       "7:658      bw                217\n",
       "10         evrm              208\n",
       "94         sv                200\n",
       "1          eerste            189\n",
       "94a        sv                177\n",
       "14         evrm              156\n",
       "36e        sr                154\n",
       "6:101      bw                137\n",
       "6:162      bw                135\n",
       "68         sr                135\n",
       "3:305a     bw                130\n",
       "359a       wetboek           129\n",
       "15         op                126\n",
       "3:310      bw                125\n",
       "551a       sv                124"
      ]
     },
     "execution_count": 46,
     "metadata": {},
     "output_type": "execute_result"
    }
   ],
   "source": [
    "uitspraak_article.groupby(['art_number', 'art_name']).sum().sort('cnt', ascending=False).head(30)"
   ]
  },
  {
   "cell_type": "code",
   "execution_count": 47,
   "metadata": {
    "collapsed": false
   },
   "outputs": [
    {
     "name": "stderr",
     "output_type": "stream",
     "text": [
      "/home/dafne/anaconda2/envs/caselaw/lib/python3.5/site-packages/ipykernel/__main__.py:1: FutureWarning: sort(columns=....) is deprecated, use sort_values(by=.....)\n",
      "  if __name__ == '__main__':\n"
     ]
    },
    {
     "data": {
      "text/html": [
       "<div>\n",
       "<table border=\"1\" class=\"dataframe\">\n",
       "  <thead>\n",
       "    <tr style=\"text-align: right;\">\n",
       "      <th></th>\n",
       "      <th>cnt</th>\n",
       "    </tr>\n",
       "    <tr>\n",
       "      <th>art_name</th>\n",
       "      <th></th>\n",
       "    </tr>\n",
       "  </thead>\n",
       "  <tbody>\n",
       "    <tr>\n",
       "      <th>ro</th>\n",
       "      <td>8106</td>\n",
       "    </tr>\n",
       "    <tr>\n",
       "      <th>bw</th>\n",
       "      <td>7011</td>\n",
       "    </tr>\n",
       "    <tr>\n",
       "      <th>sv</th>\n",
       "      <td>6612</td>\n",
       "    </tr>\n",
       "    <tr>\n",
       "      <th>op</th>\n",
       "      <td>3392</td>\n",
       "    </tr>\n",
       "    <tr>\n",
       "      <th>sr</th>\n",
       "      <td>2999</td>\n",
       "    </tr>\n",
       "    <tr>\n",
       "      <th>evrm</th>\n",
       "      <td>2499</td>\n",
       "    </tr>\n",
       "    <tr>\n",
       "      <th>wetboek</th>\n",
       "      <td>2282</td>\n",
       "    </tr>\n",
       "    <tr>\n",
       "      <th>administratieve</th>\n",
       "      <td>1497</td>\n",
       "    </tr>\n",
       "    <tr>\n",
       "      <th>awb</th>\n",
       "      <td>913</td>\n",
       "    </tr>\n",
       "    <tr>\n",
       "      <th>algemene</th>\n",
       "      <td>841</td>\n",
       "    </tr>\n",
       "    <tr>\n",
       "      <th>verdrag</th>\n",
       "      <td>532</td>\n",
       "    </tr>\n",
       "    <tr>\n",
       "      <th>besluit</th>\n",
       "      <td>430</td>\n",
       "    </tr>\n",
       "    <tr>\n",
       "      <th>verordening</th>\n",
       "      <td>300</td>\n",
       "    </tr>\n",
       "    <tr>\n",
       "      <th>opiumwet</th>\n",
       "      <td>284</td>\n",
       "    </tr>\n",
       "    <tr>\n",
       "      <th>.</th>\n",
       "      <td>284</td>\n",
       "    </tr>\n",
       "    <tr>\n",
       "      <th>gemeentewet</th>\n",
       "      <td>270</td>\n",
       "    </tr>\n",
       "    <tr>\n",
       "      <th>wegenverkeerswet</th>\n",
       "      <td>244</td>\n",
       "    </tr>\n",
       "    <tr>\n",
       "      <th>,</th>\n",
       "      <td>234</td>\n",
       "    </tr>\n",
       "    <tr>\n",
       "      <th>richtlijn</th>\n",
       "      <td>215</td>\n",
       "    </tr>\n",
       "    <tr>\n",
       "      <th>eerste</th>\n",
       "      <td>210</td>\n",
       "    </tr>\n",
       "    <tr>\n",
       "      <th>awr</th>\n",
       "      <td>171</td>\n",
       "    </tr>\n",
       "    <tr>\n",
       "      <th>overeenkomst</th>\n",
       "      <td>162</td>\n",
       "    </tr>\n",
       "    <tr>\n",
       "      <th>uitvoeringsregeling</th>\n",
       "      <td>151</td>\n",
       "    </tr>\n",
       "    <tr>\n",
       "      <th>statuten</th>\n",
       "      <td>141</td>\n",
       "    </tr>\n",
       "    <tr>\n",
       "      <th>europees</th>\n",
       "      <td>126</td>\n",
       "    </tr>\n",
       "    <tr>\n",
       "      <th>zesde</th>\n",
       "      <td>119</td>\n",
       "    </tr>\n",
       "    <tr>\n",
       "      <th>cdw</th>\n",
       "      <td>117</td>\n",
       "    </tr>\n",
       "    <tr>\n",
       "      <th>grondwet</th>\n",
       "      <td>112</td>\n",
       "    </tr>\n",
       "    <tr>\n",
       "      <th>in</th>\n",
       "      <td>111</td>\n",
       "    </tr>\n",
       "    <tr>\n",
       "      <th>uitvoeringsbesluit</th>\n",
       "      <td>108</td>\n",
       "    </tr>\n",
       "  </tbody>\n",
       "</table>\n",
       "</div>"
      ],
      "text/plain": [
       "                      cnt\n",
       "art_name                 \n",
       "ro                   8106\n",
       "bw                   7011\n",
       "sv                   6612\n",
       "op                   3392\n",
       "sr                   2999\n",
       "evrm                 2499\n",
       "wetboek              2282\n",
       "administratieve      1497\n",
       "awb                   913\n",
       "algemene              841\n",
       "verdrag               532\n",
       "besluit               430\n",
       "verordening           300\n",
       "opiumwet              284\n",
       ".                     284\n",
       "gemeentewet           270\n",
       "wegenverkeerswet      244\n",
       ",                     234\n",
       "richtlijn             215\n",
       "eerste                210\n",
       "awr                   171\n",
       "overeenkomst          162\n",
       "uitvoeringsregeling   151\n",
       "statuten              141\n",
       "europees              126\n",
       "zesde                 119\n",
       "cdw                   117\n",
       "grondwet              112\n",
       "in                    111\n",
       "uitvoeringsbesluit    108"
      ]
     },
     "execution_count": 47,
     "metadata": {},
     "output_type": "execute_result"
    }
   ],
   "source": [
    "uitspraak_article.groupby(['art_name']).sum().sort('cnt', ascending=False).head(30)"
   ]
  },
  {
   "cell_type": "code",
   "execution_count": null,
   "metadata": {
    "collapsed": false
   },
   "outputs": [],
   "source": [
    "#How many links do we have?\n",
    "c.execute('''select count(distinct id), count(*) from uitspraken_articles''').fetchall()"
   ]
  },
  {
   "cell_type": "code",
   "execution_count": 49,
   "metadata": {
    "collapsed": false
   },
   "outputs": [
    {
     "ename": "ProgrammingError",
     "evalue": "Cannot operate on a closed database.",
     "output_type": "error",
     "traceback": [
      "\u001b[0;31m---------------------------------------------------------------------------\u001b[0m",
      "\u001b[0;31mProgrammingError\u001b[0m                          Traceback (most recent call last)",
      "\u001b[0;32m<ipython-input-49-aaa5f07e4cdd>\u001b[0m in \u001b[0;36m<module>\u001b[0;34m()\u001b[0m\n\u001b[0;32m----> 1\u001b[0;31m \u001b[0mconn\u001b[0m\u001b[0;34m.\u001b[0m\u001b[0mcommit\u001b[0m\u001b[0;34m(\u001b[0m\u001b[0;34m)\u001b[0m\u001b[0;34m\u001b[0m\u001b[0m\n\u001b[0m\u001b[1;32m      2\u001b[0m \u001b[0mconn\u001b[0m\u001b[0;34m.\u001b[0m\u001b[0mclose\u001b[0m\u001b[0;34m(\u001b[0m\u001b[0;34m)\u001b[0m\u001b[0;34m\u001b[0m\u001b[0m\n",
      "\u001b[0;31mProgrammingError\u001b[0m: Cannot operate on a closed database."
     ]
    }
   ],
   "source": [
    "conn.commit()\n",
    "conn.close()"
   ]
  },
  {
   "cell_type": "code",
   "execution_count": null,
   "metadata": {
    "collapsed": true
   },
   "outputs": [],
   "source": []
  }
 ],
 "metadata": {
  "anaconda-cloud": {},
  "kernelspec": {
   "display_name": "Python [conda env:caselaw]",
   "language": "python",
   "name": "conda-env-caselaw-py"
  },
  "language_info": {
   "codemirror_mode": {
    "name": "ipython",
    "version": 3
   },
   "file_extension": ".py",
   "mimetype": "text/x-python",
   "name": "python",
   "nbconvert_exporter": "python",
   "pygments_lexer": "ipython3",
   "version": "3.5.2"
  }
 },
 "nbformat": 4,
 "nbformat_minor": 0
}
