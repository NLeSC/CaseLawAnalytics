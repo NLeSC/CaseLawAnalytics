{
 "cells": [
  {
   "cell_type": "code",
   "execution_count": 1,
   "metadata": {
    "collapsed": true
   },
   "outputs": [],
   "source": [
    "from lxml import etree\n",
    "import re\n",
    "import os\n",
    "import sqlite3"
   ]
  },
  {
   "cell_type": "code",
   "execution_count": 2,
   "metadata": {
    "collapsed": true
   },
   "outputs": [],
   "source": [
    "conn = sqlite3.connect('rechtspraak.db')\n",
    "c = conn.cursor()"
   ]
  },
  {
   "cell_type": "markdown",
   "metadata": {},
   "source": [
    "Dit zijn de mogelijke wetboeken:\n",
    "Ieder wetboek heeft een naam: \n",
    "* Strafrecht (sw of sr), \n",
    "* Strafvorderingen (sv), \n",
    "* Burgelijk WB (bwb, 7 boeken 7:658), \n",
    "* AWB (algemene wet bestuursrecht, meerdere gedeelten)\n",
    "* evrm = europees verdrag rechten van de mens"
   ]
  },
  {
   "cell_type": "code",
   "execution_count": 4,
   "metadata": {
    "collapsed": false
   },
   "outputs": [],
   "source": [
    "import nltk\n",
    "rows = c.execute('SELECT id, text from uitspraken').fetchall()\n",
    "texts = [nltk.Text(nltk.word_tokenize(text.lower())) for id0, text in rows]"
   ]
  },
  {
   "cell_type": "code",
   "execution_count": 94,
   "metadata": {
    "collapsed": false
   },
   "outputs": [
    {
     "name": "stdout",
     "output_type": "stream",
     "text": [
      "<Text: art . 1:23 bwb en artikel 4 van...>\n"
     ]
    }
   ],
   "source": [
    "example = nltk.Text(nltk.word_tokenize(\"art. 1:23 BWB en artikel 4 van de flora- en faunawet, art 4, lid 4 awb\".lower()))\n",
    "print(example)"
   ]
  },
  {
   "cell_type": "code",
   "execution_count": 100,
   "metadata": {
    "collapsed": false
   },
   "outputs": [
    {
     "name": "stdout",
     "output_type": "stream",
     "text": [
      "(?:<sw|sr|sv|bwb|awb|evrm|ro>)\n",
      "<art(?:ikel)?> <\\.>? <[0-9]+(?::[0-9]+)?> (?:<,>? <lid> <[0-9]+>)?(?:<van> <het|de> <.*> | (?:<sw|sr|sv|bwb|awb|evrm|ro>))\n"
     ]
    }
   ],
   "source": [
    "known_books = ['sw','sr', 'sv', 'bwb', 'awb', 'evrm', 'ro']\n",
    "regex_knownbooks = r\"(?:<\" + \"|\".join(known_books) +r\">)\"\n",
    "print(regex_knownbooks)\n",
    "article_regex = r\"<art(?:ikel)?> \" +\\\n",
    "                r\"<\\.>? \" +\\\n",
    "                r\"<[0-9]+(?::[0-9]+)?> \" +\\\n",
    "                r\"(?:<,>? <lid> <[0-9]+>)?\" +\\\n",
    "                r\"(?:<van> <het|de> <.*> | \" +\\\n",
    "                regex_knownbooks + \")\"\n",
    "print(article_regex)"
   ]
  },
  {
   "cell_type": "code",
   "execution_count": 114,
   "metadata": {
    "collapsed": false
   },
   "outputs": [],
   "source": [
    "def get_articles(text):\n",
    "    verwijzingen = nltk.TokenSearcher(text).findall(article_regex)\n",
    "    result = []\n",
    "    for v in verwijzingen:\n",
    "        art_number = nltk.TokenSearcher(v).findall(\"<[0-9]+(?::[0-9]+)?> \")[0][0]\n",
    "        art_name = v[-1]\n",
    "        result.append((art_number, art_name))\n",
    "    return result"
   ]
  },
  {
   "cell_type": "code",
   "execution_count": 118,
   "metadata": {
    "collapsed": false
   },
   "outputs": [],
   "source": [
    "from collections import Counter\n",
    "uitspraak_article = []\n",
    "for i in range(len(rows)):\n",
    "    articles = get_articles(texts[i])\n",
    "    for (art_number, art_name), cnt in Counter(articles).most_common():\n",
    "        uitspraak_article.append((rows[i][0], art_number, art_name, cnt))"
   ]
  },
  {
   "cell_type": "code",
   "execution_count": 119,
   "metadata": {
    "collapsed": false
   },
   "outputs": [
    {
     "data": {
      "text/html": [
       "<div>\n",
       "<table border=\"1\" class=\"dataframe\">\n",
       "  <thead>\n",
       "    <tr style=\"text-align: right;\">\n",
       "      <th></th>\n",
       "      <th>id</th>\n",
       "      <th>art_number</th>\n",
       "      <th>art_name</th>\n",
       "      <th>cnt</th>\n",
       "    </tr>\n",
       "  </thead>\n",
       "  <tbody>\n",
       "    <tr>\n",
       "      <th>0</th>\n",
       "      <td>ECLI:NL:HR:1988:AD0289</td>\n",
       "      <td>288</td>\n",
       "      <td>sr</td>\n",
       "      <td>3</td>\n",
       "    </tr>\n",
       "    <tr>\n",
       "      <th>1</th>\n",
       "      <td>ECLI:NL:HR:1988:AD0289</td>\n",
       "      <td>225</td>\n",
       "      <td>sr</td>\n",
       "      <td>2</td>\n",
       "    </tr>\n",
       "    <tr>\n",
       "      <th>2</th>\n",
       "      <td>ECLI:NL:HR:1988:AD0289</td>\n",
       "      <td>422</td>\n",
       "      <td>sv</td>\n",
       "      <td>2</td>\n",
       "    </tr>\n",
       "    <tr>\n",
       "      <th>3</th>\n",
       "      <td>ECLI:NL:HR:1988:AD0289</td>\n",
       "      <td>287</td>\n",
       "      <td>sr</td>\n",
       "      <td>1</td>\n",
       "    </tr>\n",
       "    <tr>\n",
       "      <th>4</th>\n",
       "      <td>ECLI:NL:HR:1988:AD0289</td>\n",
       "      <td>297</td>\n",
       "      <td>sv</td>\n",
       "      <td>1</td>\n",
       "    </tr>\n",
       "  </tbody>\n",
       "</table>\n",
       "</div>"
      ],
      "text/plain": [
       "                       id art_number art_name  cnt\n",
       "0  ECLI:NL:HR:1988:AD0289        288       sr    3\n",
       "1  ECLI:NL:HR:1988:AD0289        225       sr    2\n",
       "2  ECLI:NL:HR:1988:AD0289        422       sv    2\n",
       "3  ECLI:NL:HR:1988:AD0289        287       sr    1\n",
       "4  ECLI:NL:HR:1988:AD0289        297       sv    1"
      ]
     },
     "execution_count": 119,
     "metadata": {},
     "output_type": "execute_result"
    }
   ],
   "source": [
    "import pandas as pd\n",
    "uitspraak_article = pd.DataFrame(uitspraak_article, columns=['id', 'art_number', 'art_name', 'cnt'])\n",
    "uitspraak_article.head()"
   ]
  },
  {
   "cell_type": "code",
   "execution_count": 123,
   "metadata": {
    "collapsed": false
   },
   "outputs": [
    {
     "data": {
      "text/plain": [
       "<sqlite3.Cursor at 0x7f7c6aa1e2d0>"
      ]
     },
     "execution_count": 123,
     "metadata": {},
     "output_type": "execute_result"
    }
   ],
   "source": [
    "c2 = conn.cursor()\n",
    "c2.execute('''\n",
    "        DROP TABLE IF EXISTS uitspraken_articles\n",
    "''')\n",
    "c2.execute(''' CREATE TABLE uitspraken_articles\n",
    "            (id text, \n",
    "            article_name text,\n",
    "            article_number text,\n",
    "            cnt integer\n",
    "            )\n",
    "        ''')"
   ]
  },
  {
   "cell_type": "code",
   "execution_count": 144,
   "metadata": {
    "collapsed": false
   },
   "outputs": [],
   "source": [
    "from collections import Counter\n",
    "\n",
    "rows = c.execute('SELECT id, text from uitspraken')\n",
    "\n",
    "for i in range(len(uitspraak_article)):\n",
    "    values = (uitspraak_article['id'][i], uitspraak_article['art_name'][i], \n",
    "              uitspraak_article['art_number'][i], uitspraak_article['cnt'][i])\n",
    "    query = ''' INSERT INTO uitspraken_articles\n",
    "        VALUES (?, ?, ?, ?)\n",
    "        '''\n",
    "    c2.execute(query, values)"
   ]
  },
  {
   "cell_type": "code",
   "execution_count": 122,
   "metadata": {
    "collapsed": false
   },
   "outputs": [
    {
     "name": "stderr",
     "output_type": "stream",
     "text": [
      "/home/dafne/anaconda2/envs/caselaw/lib/python3.5/site-packages/ipykernel/__main__.py:1: FutureWarning: sort(columns=....) is deprecated, use sort_values(by=.....)\n",
      "  if __name__ == '__main__':\n"
     ]
    },
    {
     "data": {
      "text/html": [
       "<div>\n",
       "<table border=\"1\" class=\"dataframe\">\n",
       "  <thead>\n",
       "    <tr style=\"text-align: right;\">\n",
       "      <th></th>\n",
       "      <th></th>\n",
       "      <th>cnt</th>\n",
       "    </tr>\n",
       "    <tr>\n",
       "      <th>art_number</th>\n",
       "      <th>art_name</th>\n",
       "      <th></th>\n",
       "    </tr>\n",
       "  </thead>\n",
       "  <tbody>\n",
       "    <tr>\n",
       "      <th>81</th>\n",
       "      <th>ro</th>\n",
       "      <td>6896</td>\n",
       "    </tr>\n",
       "    <tr>\n",
       "      <th>6</th>\n",
       "      <th>evrm</th>\n",
       "      <td>1307</td>\n",
       "    </tr>\n",
       "    <tr>\n",
       "      <th>81</th>\n",
       "      <th>wet</th>\n",
       "      <td>997</td>\n",
       "    </tr>\n",
       "    <tr>\n",
       "      <th>457</th>\n",
       "      <th>sv</th>\n",
       "      <td>511</td>\n",
       "    </tr>\n",
       "    <tr>\n",
       "      <th>8</th>\n",
       "      <th>evrm</th>\n",
       "      <td>457</td>\n",
       "    </tr>\n",
       "    <tr>\n",
       "      <th>440</th>\n",
       "      <th>sv</th>\n",
       "      <td>369</td>\n",
       "    </tr>\n",
       "    <tr>\n",
       "      <th>415</th>\n",
       "      <th>sv</th>\n",
       "      <td>276</td>\n",
       "    </tr>\n",
       "    <tr>\n",
       "      <th>15</th>\n",
       "      <th>wet</th>\n",
       "      <td>232</td>\n",
       "    </tr>\n",
       "    <tr>\n",
       "      <th>10</th>\n",
       "      <th>evrm</th>\n",
       "      <td>208</td>\n",
       "    </tr>\n",
       "    <tr>\n",
       "      <th>94</th>\n",
       "      <th>sv</th>\n",
       "      <td>200</td>\n",
       "    </tr>\n",
       "    <tr>\n",
       "      <th>1</th>\n",
       "      <th>eerste</th>\n",
       "      <td>189</td>\n",
       "    </tr>\n",
       "    <tr>\n",
       "      <th>7</th>\n",
       "      <th>wet</th>\n",
       "      <td>165</td>\n",
       "    </tr>\n",
       "    <tr>\n",
       "      <th>14</th>\n",
       "      <th>evrm</th>\n",
       "      <td>156</td>\n",
       "    </tr>\n",
       "    <tr>\n",
       "      <th>68</th>\n",
       "      <th>sr</th>\n",
       "      <td>135</td>\n",
       "    </tr>\n",
       "    <tr>\n",
       "      <th>31</th>\n",
       "      <th>wet</th>\n",
       "      <td>129</td>\n",
       "    </tr>\n",
       "    <tr>\n",
       "      <th>13</th>\n",
       "      <th>wet</th>\n",
       "      <td>127</td>\n",
       "    </tr>\n",
       "    <tr>\n",
       "      <th>279</th>\n",
       "      <th>sv</th>\n",
       "      <td>114</td>\n",
       "    </tr>\n",
       "    <tr>\n",
       "      <th>359</th>\n",
       "      <th>sv</th>\n",
       "      <td>113</td>\n",
       "    </tr>\n",
       "    <tr>\n",
       "      <th>140</th>\n",
       "      <th>sr</th>\n",
       "      <td>111</td>\n",
       "    </tr>\n",
       "    <tr>\n",
       "      <th>6:6</th>\n",
       "      <th>awb</th>\n",
       "      <td>109</td>\n",
       "    </tr>\n",
       "    <tr>\n",
       "      <th>10</th>\n",
       "      <th>opiumwet</th>\n",
       "      <td>106</td>\n",
       "    </tr>\n",
       "    <tr>\n",
       "      <th>459</th>\n",
       "      <th>sv</th>\n",
       "      <td>99</td>\n",
       "    </tr>\n",
       "    <tr>\n",
       "      <th>37</th>\n",
       "      <th>wet</th>\n",
       "      <td>98</td>\n",
       "    </tr>\n",
       "    <tr>\n",
       "      <th>5</th>\n",
       "      <th>evrm</th>\n",
       "      <td>96</td>\n",
       "    </tr>\n",
       "    <tr>\n",
       "      <th>35</th>\n",
       "      <th>wet</th>\n",
       "      <td>95</td>\n",
       "    </tr>\n",
       "    <tr>\n",
       "      <th>16</th>\n",
       "      <th>wet</th>\n",
       "      <td>94</td>\n",
       "    </tr>\n",
       "    <tr>\n",
       "      <th>18</th>\n",
       "      <th>wet</th>\n",
       "      <td>94</td>\n",
       "    </tr>\n",
       "    <tr>\n",
       "      <th>1</th>\n",
       "      <th>wet</th>\n",
       "      <td>86</td>\n",
       "    </tr>\n",
       "    <tr>\n",
       "      <th>6</th>\n",
       "      <th>wet</th>\n",
       "      <td>86</td>\n",
       "    </tr>\n",
       "    <tr>\n",
       "      <th>57</th>\n",
       "      <th>wet</th>\n",
       "      <td>85</td>\n",
       "    </tr>\n",
       "  </tbody>\n",
       "</table>\n",
       "</div>"
      ],
      "text/plain": [
       "                      cnt\n",
       "art_number art_name      \n",
       "81         ro        6896\n",
       "6          evrm      1307\n",
       "81         wet        997\n",
       "457        sv         511\n",
       "8          evrm       457\n",
       "440        sv         369\n",
       "415        sv         276\n",
       "15         wet        232\n",
       "10         evrm       208\n",
       "94         sv         200\n",
       "1          eerste     189\n",
       "7          wet        165\n",
       "14         evrm       156\n",
       "68         sr         135\n",
       "31         wet        129\n",
       "13         wet        127\n",
       "279        sv         114\n",
       "359        sv         113\n",
       "140        sr         111\n",
       "6:6        awb        109\n",
       "10         opiumwet   106\n",
       "459        sv          99\n",
       "37         wet         98\n",
       "5          evrm        96\n",
       "35         wet         95\n",
       "16         wet         94\n",
       "18         wet         94\n",
       "1          wet         86\n",
       "6          wet         86\n",
       "57         wet         85"
      ]
     },
     "execution_count": 122,
     "metadata": {},
     "output_type": "execute_result"
    }
   ],
   "source": [
    "uitspraak_article.groupby(['art_number', 'art_name']).sum().sort('cnt', ascending=False).head(30)"
   ]
  },
  {
   "cell_type": "code",
   "execution_count": null,
   "metadata": {
    "collapsed": true
   },
   "outputs": [],
   "source": []
  },
  {
   "cell_type": "code",
   "execution_count": 145,
   "metadata": {
    "collapsed": false
   },
   "outputs": [
    {
     "data": {
      "text/plain": [
       "[(13934, 22159)]"
      ]
     },
     "execution_count": 145,
     "metadata": {},
     "output_type": "execute_result"
    }
   ],
   "source": [
    "#How many links do we have?\n",
    "c.execute('''select count(distinct id), count(*) from uitspraken_articles''').fetchall()"
   ]
  },
  {
   "cell_type": "code",
   "execution_count": 146,
   "metadata": {
    "collapsed": true
   },
   "outputs": [],
   "source": [
    "conn.commit()\n",
    "conn.close()"
   ]
  },
  {
   "cell_type": "code",
   "execution_count": null,
   "metadata": {
    "collapsed": true
   },
   "outputs": [],
   "source": []
  }
 ],
 "metadata": {
  "anaconda-cloud": {},
  "kernelspec": {
   "display_name": "Python [conda env:caselaw]",
   "language": "python",
   "name": "conda-env-caselaw-py"
  },
  "language_info": {
   "codemirror_mode": {
    "name": "ipython",
    "version": 3
   },
   "file_extension": ".py",
   "mimetype": "text/x-python",
   "name": "python",
   "nbconvert_exporter": "python",
   "pygments_lexer": "ipython3",
   "version": "3.5.2"
  }
 },
 "nbformat": 4,
 "nbformat_minor": 0
}
