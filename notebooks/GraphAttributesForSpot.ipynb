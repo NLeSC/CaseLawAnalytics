{
 "cells": [
  {
   "cell_type": "code",
   "execution_count": 16,
   "metadata": {
    "collapsed": false
   },
   "outputs": [],
   "source": [
    "%matplotlib inline\n",
    "import networkx as nx\n",
    "import json\n",
    "from networkx.readwrite import json_graph"
   ]
  },
  {
   "cell_type": "code",
   "execution_count": 17,
   "metadata": {
    "collapsed": true
   },
   "outputs": [],
   "source": [
    "graph = nx.DiGraph()"
   ]
  },
  {
   "cell_type": "code",
   "execution_count": 18,
   "metadata": {
    "collapsed": false
   },
   "outputs": [],
   "source": [
    "def load_sigma_file(filename):\n",
    "    with open(filename, 'r') as jsonfile:\n",
    "        graph_json = json.load(jsonfile)\n",
    "\n",
    "    nodes = graph_json['nodes']\n",
    "    edges = graph_json['edges']\n",
    "    node_indices = {nodes[i]['id']: i for i in range(len(nodes))}\n",
    "    for edge in edges:\n",
    "        edge['source'] = node_indices[edge['source']]\n",
    "        edge['target'] = node_indices[edge['target']]\n",
    "\n",
    "    graph = json_graph.node_link_graph({'nodes': nodes, 'links': edges}, directed=True, multigraph=False)\n",
    "    return nodes, graph"
   ]
  },
  {
   "cell_type": "code",
   "execution_count": 19,
   "metadata": {
    "collapsed": true
   },
   "outputs": [],
   "source": [
    "filename = '/media/sf_VBox_Shared/CaseLaw/graphs/wgaans_sigma_v2.json.json'\n",
    "nodes, graph = load_sigma_file(filename)"
   ]
  },
  {
   "cell_type": "code",
   "execution_count": 20,
   "metadata": {
    "collapsed": false
   },
   "outputs": [
    {
     "data": {
      "text/plain": [
       "110"
      ]
     },
     "execution_count": 20,
     "metadata": {},
     "output_type": "execute_result"
    }
   ],
   "source": [
    "graph.size()"
   ]
  },
  {
   "cell_type": "code",
   "execution_count": 21,
   "metadata": {
    "collapsed": false
   },
   "outputs": [
    {
     "data": {
      "text/plain": [
       "{'abstract': 'Uitleg dekkingsomvang AVB-polis. Aansprakelijkheid werkgever bij verkeersongeval werknemer op grond van art. 7:611 BW (verzekeringsplicht niet nagekomen). Is schade werknemer letselschade in zin van polis? Functie AVB-polis en daarop gebaseerde verwachtingen rechtvaardigen ruime uitleg dekkingsomvang; dekking tegen aansprakelijkheid voor letselschade omvat in beginsel ook dekking tegen op art. 7:611 gebaseerde aansprakelijkheid.',\n",
       " 'creator': 'http://standaarden.overheid.nl/owms/terms/Hoge_Raad_der_Nederlanden',\n",
       " 'date': '2012-03-30',\n",
       " 'id': 'http://deeplink.rechtspraak.nl/uitspraak?id=ECLI:NL:HR:2012:BV1295',\n",
       " 'subject': 'http://psi.rechtspraak.nl/rechtsgebied#civielRecht',\n",
       " 'title': 'ECLI:NL:HR:2012:BV1295 Hoge Raad , 30-03-2012 / 11/01010'}"
      ]
     },
     "execution_count": 21,
     "metadata": {},
     "output_type": "execute_result"
    }
   ],
   "source": [
    "nodes[0]"
   ]
  },
  {
   "cell_type": "code",
   "execution_count": 22,
   "metadata": {
    "collapsed": false
   },
   "outputs": [],
   "source": [
    "hubs, authorities = nx.hits(graph)\n",
    "statistics = {\n",
    "    'degree' : nx.degree(graph),\n",
    "    'in_degree' : graph.in_degree(),\n",
    "    'out_degree' : graph.out_degree(),\n",
    "\n",
    "    'degree_centrality' : nx.degree_centrality(graph),\n",
    "    'in_degree_centrality' : nx.in_degree_centrality(graph),\n",
    "    'out_degree_centrality' : nx.out_degree_centrality(graph),\n",
    "    'betweenness_centrality' : nx.betweenness_centrality(graph),\n",
    "    'hubs': hubs,\n",
    "    'authorities': authorities\n",
    "}"
   ]
  },
  {
   "cell_type": "code",
   "execution_count": 23,
   "metadata": {
    "collapsed": false
   },
   "outputs": [],
   "source": [
    "result = []\n",
    "statistics_variables = [ 'date', 'year', 'subject', 'creator',\n",
    "                        'degree', 'in_degree', 'out_degree', \n",
    "                        'degree_centrality','in_degree_centrality', 'out_degree_centrality', 'betweenness_centrality',\n",
    "                        'hubs', 'authorities'\n",
    "                      ]\n",
    "\n",
    "for node in nodes:\n",
    "    nodeid = node['id']\n",
    "    \n",
    "    atts = {var: statistics[var][nodeid] for var in statistics.keys()}\n",
    "    atts['date'] = node.get('date', '')\n",
    "    atts['year'] = int(nodeid.split('=')[-1].split(':')[3])\n",
    "    atts['subject'] = node['subject']\n",
    "    atts['creator'] = node['creator']\n",
    "    \n",
    "    atts['id'] = nodeid\n",
    "    result.append(atts)"
   ]
  },
  {
   "cell_type": "code",
   "execution_count": 24,
   "metadata": {
    "collapsed": false
   },
   "outputs": [
    {
     "data": {
      "text/html": [
       "<div>\n",
       "<table border=\"1\" class=\"dataframe\">\n",
       "  <thead>\n",
       "    <tr style=\"text-align: right;\">\n",
       "      <th></th>\n",
       "      <th>date</th>\n",
       "      <th>year</th>\n",
       "      <th>subject</th>\n",
       "      <th>creator</th>\n",
       "      <th>degree</th>\n",
       "      <th>in_degree</th>\n",
       "      <th>out_degree</th>\n",
       "      <th>degree_centrality</th>\n",
       "      <th>in_degree_centrality</th>\n",
       "      <th>out_degree_centrality</th>\n",
       "      <th>betweenness_centrality</th>\n",
       "      <th>hubs</th>\n",
       "      <th>authorities</th>\n",
       "    </tr>\n",
       "    <tr>\n",
       "      <th>id</th>\n",
       "      <th></th>\n",
       "      <th></th>\n",
       "      <th></th>\n",
       "      <th></th>\n",
       "      <th></th>\n",
       "      <th></th>\n",
       "      <th></th>\n",
       "      <th></th>\n",
       "      <th></th>\n",
       "      <th></th>\n",
       "      <th></th>\n",
       "      <th></th>\n",
       "      <th></th>\n",
       "    </tr>\n",
       "  </thead>\n",
       "  <tbody>\n",
       "    <tr>\n",
       "      <th>http://deeplink.rechtspraak.nl/uitspraak?id=ECLI:NL:HR:2012:BV1295</th>\n",
       "      <td>2012-03-30</td>\n",
       "      <td>2012</td>\n",
       "      <td>http://psi.rechtspraak.nl/rechtsgebied#civielR...</td>\n",
       "      <td>http://standaarden.overheid.nl/owms/terms/Hoge...</td>\n",
       "      <td>1</td>\n",
       "      <td>0</td>\n",
       "      <td>1</td>\n",
       "      <td>0.009009</td>\n",
       "      <td>0.0</td>\n",
       "      <td>0.009009</td>\n",
       "      <td>0.0</td>\n",
       "      <td>6.404323e-84</td>\n",
       "      <td>0.0</td>\n",
       "    </tr>\n",
       "    <tr>\n",
       "      <th>http://deeplink.rechtspraak.nl/uitspraak?id=ECLI:NL:HR:2005:AT8782</th>\n",
       "      <td>2005-11-25</td>\n",
       "      <td>2005</td>\n",
       "      <td>http://psi.rechtspraak.nl/rechtsgebied#civielR...</td>\n",
       "      <td>http://standaarden.overheid.nl/owms/terms/Hoge...</td>\n",
       "      <td>2</td>\n",
       "      <td>0</td>\n",
       "      <td>2</td>\n",
       "      <td>0.018018</td>\n",
       "      <td>0.0</td>\n",
       "      <td>0.018018</td>\n",
       "      <td>0.0</td>\n",
       "      <td>5.712847e-40</td>\n",
       "      <td>0.0</td>\n",
       "    </tr>\n",
       "    <tr>\n",
       "      <th>http://deeplink.rechtspraak.nl/uitspraak?id=ECLI:NL:HR:2007:BA7217</th>\n",
       "      <td>2007-07-13</td>\n",
       "      <td>2007</td>\n",
       "      <td>http://psi.rechtspraak.nl/rechtsgebied#civielR...</td>\n",
       "      <td>http://standaarden.overheid.nl/owms/terms/Hoge...</td>\n",
       "      <td>1</td>\n",
       "      <td>0</td>\n",
       "      <td>1</td>\n",
       "      <td>0.009009</td>\n",
       "      <td>0.0</td>\n",
       "      <td>0.009009</td>\n",
       "      <td>0.0</td>\n",
       "      <td>6.404323e-84</td>\n",
       "      <td>0.0</td>\n",
       "    </tr>\n",
       "    <tr>\n",
       "      <th>http://deeplink.rechtspraak.nl/uitspraak?id=ECLI:NL:HR:2014:3519</th>\n",
       "      <td>2014-12-05</td>\n",
       "      <td>2014</td>\n",
       "      <td>http://psi.rechtspraak.nl/rechtsgebied#civielR...</td>\n",
       "      <td>http://standaarden.overheid.nl/owms/terms/Hoge...</td>\n",
       "      <td>2</td>\n",
       "      <td>0</td>\n",
       "      <td>2</td>\n",
       "      <td>0.018018</td>\n",
       "      <td>0.0</td>\n",
       "      <td>0.018018</td>\n",
       "      <td>0.0</td>\n",
       "      <td>6.048712e-62</td>\n",
       "      <td>0.0</td>\n",
       "    </tr>\n",
       "    <tr>\n",
       "      <th>http://deeplink.rechtspraak.nl/uitspraak?id=ECLI:NL:HR:2010:BN9977</th>\n",
       "      <td>2010-11-26</td>\n",
       "      <td>2010</td>\n",
       "      <td>http://psi.rechtspraak.nl/rechtsgebied#civielR...</td>\n",
       "      <td>http://standaarden.overheid.nl/owms/terms/Hoge...</td>\n",
       "      <td>2</td>\n",
       "      <td>0</td>\n",
       "      <td>2</td>\n",
       "      <td>0.018018</td>\n",
       "      <td>0.0</td>\n",
       "      <td>0.018018</td>\n",
       "      <td>0.0</td>\n",
       "      <td>2.648397e-04</td>\n",
       "      <td>0.0</td>\n",
       "    </tr>\n",
       "  </tbody>\n",
       "</table>\n",
       "</div>"
      ],
      "text/plain": [
       "                                                          date  year  \\\n",
       "id                                                                     \n",
       "http://deeplink.rechtspraak.nl/uitspraak?id=ECL...  2012-03-30  2012   \n",
       "http://deeplink.rechtspraak.nl/uitspraak?id=ECL...  2005-11-25  2005   \n",
       "http://deeplink.rechtspraak.nl/uitspraak?id=ECL...  2007-07-13  2007   \n",
       "http://deeplink.rechtspraak.nl/uitspraak?id=ECL...  2014-12-05  2014   \n",
       "http://deeplink.rechtspraak.nl/uitspraak?id=ECL...  2010-11-26  2010   \n",
       "\n",
       "                                                                                              subject  \\\n",
       "id                                                                                                      \n",
       "http://deeplink.rechtspraak.nl/uitspraak?id=ECL...  http://psi.rechtspraak.nl/rechtsgebied#civielR...   \n",
       "http://deeplink.rechtspraak.nl/uitspraak?id=ECL...  http://psi.rechtspraak.nl/rechtsgebied#civielR...   \n",
       "http://deeplink.rechtspraak.nl/uitspraak?id=ECL...  http://psi.rechtspraak.nl/rechtsgebied#civielR...   \n",
       "http://deeplink.rechtspraak.nl/uitspraak?id=ECL...  http://psi.rechtspraak.nl/rechtsgebied#civielR...   \n",
       "http://deeplink.rechtspraak.nl/uitspraak?id=ECL...  http://psi.rechtspraak.nl/rechtsgebied#civielR...   \n",
       "\n",
       "                                                                                              creator  \\\n",
       "id                                                                                                      \n",
       "http://deeplink.rechtspraak.nl/uitspraak?id=ECL...  http://standaarden.overheid.nl/owms/terms/Hoge...   \n",
       "http://deeplink.rechtspraak.nl/uitspraak?id=ECL...  http://standaarden.overheid.nl/owms/terms/Hoge...   \n",
       "http://deeplink.rechtspraak.nl/uitspraak?id=ECL...  http://standaarden.overheid.nl/owms/terms/Hoge...   \n",
       "http://deeplink.rechtspraak.nl/uitspraak?id=ECL...  http://standaarden.overheid.nl/owms/terms/Hoge...   \n",
       "http://deeplink.rechtspraak.nl/uitspraak?id=ECL...  http://standaarden.overheid.nl/owms/terms/Hoge...   \n",
       "\n",
       "                                                    degree  in_degree  \\\n",
       "id                                                                      \n",
       "http://deeplink.rechtspraak.nl/uitspraak?id=ECL...       1          0   \n",
       "http://deeplink.rechtspraak.nl/uitspraak?id=ECL...       2          0   \n",
       "http://deeplink.rechtspraak.nl/uitspraak?id=ECL...       1          0   \n",
       "http://deeplink.rechtspraak.nl/uitspraak?id=ECL...       2          0   \n",
       "http://deeplink.rechtspraak.nl/uitspraak?id=ECL...       2          0   \n",
       "\n",
       "                                                    out_degree  \\\n",
       "id                                                               \n",
       "http://deeplink.rechtspraak.nl/uitspraak?id=ECL...           1   \n",
       "http://deeplink.rechtspraak.nl/uitspraak?id=ECL...           2   \n",
       "http://deeplink.rechtspraak.nl/uitspraak?id=ECL...           1   \n",
       "http://deeplink.rechtspraak.nl/uitspraak?id=ECL...           2   \n",
       "http://deeplink.rechtspraak.nl/uitspraak?id=ECL...           2   \n",
       "\n",
       "                                                    degree_centrality  \\\n",
       "id                                                                      \n",
       "http://deeplink.rechtspraak.nl/uitspraak?id=ECL...           0.009009   \n",
       "http://deeplink.rechtspraak.nl/uitspraak?id=ECL...           0.018018   \n",
       "http://deeplink.rechtspraak.nl/uitspraak?id=ECL...           0.009009   \n",
       "http://deeplink.rechtspraak.nl/uitspraak?id=ECL...           0.018018   \n",
       "http://deeplink.rechtspraak.nl/uitspraak?id=ECL...           0.018018   \n",
       "\n",
       "                                                    in_degree_centrality  \\\n",
       "id                                                                         \n",
       "http://deeplink.rechtspraak.nl/uitspraak?id=ECL...                   0.0   \n",
       "http://deeplink.rechtspraak.nl/uitspraak?id=ECL...                   0.0   \n",
       "http://deeplink.rechtspraak.nl/uitspraak?id=ECL...                   0.0   \n",
       "http://deeplink.rechtspraak.nl/uitspraak?id=ECL...                   0.0   \n",
       "http://deeplink.rechtspraak.nl/uitspraak?id=ECL...                   0.0   \n",
       "\n",
       "                                                    out_degree_centrality  \\\n",
       "id                                                                          \n",
       "http://deeplink.rechtspraak.nl/uitspraak?id=ECL...               0.009009   \n",
       "http://deeplink.rechtspraak.nl/uitspraak?id=ECL...               0.018018   \n",
       "http://deeplink.rechtspraak.nl/uitspraak?id=ECL...               0.009009   \n",
       "http://deeplink.rechtspraak.nl/uitspraak?id=ECL...               0.018018   \n",
       "http://deeplink.rechtspraak.nl/uitspraak?id=ECL...               0.018018   \n",
       "\n",
       "                                                    betweenness_centrality  \\\n",
       "id                                                                           \n",
       "http://deeplink.rechtspraak.nl/uitspraak?id=ECL...                     0.0   \n",
       "http://deeplink.rechtspraak.nl/uitspraak?id=ECL...                     0.0   \n",
       "http://deeplink.rechtspraak.nl/uitspraak?id=ECL...                     0.0   \n",
       "http://deeplink.rechtspraak.nl/uitspraak?id=ECL...                     0.0   \n",
       "http://deeplink.rechtspraak.nl/uitspraak?id=ECL...                     0.0   \n",
       "\n",
       "                                                            hubs  authorities  \n",
       "id                                                                             \n",
       "http://deeplink.rechtspraak.nl/uitspraak?id=ECL...  6.404323e-84          0.0  \n",
       "http://deeplink.rechtspraak.nl/uitspraak?id=ECL...  5.712847e-40          0.0  \n",
       "http://deeplink.rechtspraak.nl/uitspraak?id=ECL...  6.404323e-84          0.0  \n",
       "http://deeplink.rechtspraak.nl/uitspraak?id=ECL...  6.048712e-62          0.0  \n",
       "http://deeplink.rechtspraak.nl/uitspraak?id=ECL...  2.648397e-04          0.0  "
      ]
     },
     "execution_count": 24,
     "metadata": {},
     "output_type": "execute_result"
    }
   ],
   "source": [
    "import pandas as pd\n",
    "result_df = pd.DataFrame(result)\n",
    "result_df = result_df.set_index('id')\n",
    "result_df = result_df[statistics_variables]\n",
    "result_df.head()"
   ]
  },
  {
   "cell_type": "code",
   "execution_count": 28,
   "metadata": {
    "collapsed": false
   },
   "outputs": [],
   "source": [
    "outfile = '/media/sf_VBox_Shared/CaseLaw/spot/wgaans.csv'\n",
    "result_df.to_csv(outfile)"
   ]
  },
  {
   "cell_type": "code",
   "execution_count": 29,
   "metadata": {
    "collapsed": false
   },
   "outputs": [],
   "source": [
    "outfile = '/media/sf_VBox_Shared/CaseLaw/spot/wgaans.json'\n",
    "with open(outfile, 'w') as fp:\n",
    "    json.dump(result, fp)"
   ]
  },
  {
   "cell_type": "code",
   "execution_count": 26,
   "metadata": {
    "collapsed": false
   },
   "outputs": [
    {
     "data": {
      "text/plain": [
       "0"
      ]
     },
     "execution_count": 26,
     "metadata": {},
     "output_type": "execute_result"
    }
   ],
   "source": [
    "sum(result_df.date=='')"
   ]
  },
  {
   "cell_type": "code",
   "execution_count": null,
   "metadata": {
    "collapsed": true
   },
   "outputs": [],
   "source": []
  }
 ],
 "metadata": {
  "anaconda-cloud": {},
  "kernelspec": {
   "display_name": "Python [conda env:caselaw]",
   "language": "python",
   "name": "conda-env-caselaw-py"
  },
  "language_info": {
   "codemirror_mode": {
    "name": "ipython",
    "version": 3
   },
   "file_extension": ".py",
   "mimetype": "text/x-python",
   "name": "python",
   "nbconvert_exporter": "python",
   "pygments_lexer": "ipython3",
   "version": "3.5.2"
  }
 },
 "nbformat": 4,
 "nbformat_minor": 0
}
