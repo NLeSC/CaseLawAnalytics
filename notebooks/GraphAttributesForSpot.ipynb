{
 "cells": [
  {
   "cell_type": "code",
   "execution_count": 1,
   "metadata": {
    "collapsed": false
   },
   "outputs": [],
   "source": [
    "%matplotlib inline\n",
    "%load_ext autoreload\n",
    "%autoreload 2\n",
    "import networkx as nx\n",
    "import json\n",
    "import sys\n",
    "import os\n",
    "from networkx.readwrite import json_graph\n",
    "sys.path.insert(0, os.path.abspath('..'))\n",
    "import  parser.matcher as matcher\n",
    "import blazegraph_querier.network_analysis as network_analysis"
   ]
  },
  {
   "cell_type": "code",
   "execution_count": 3,
   "metadata": {
    "collapsed": true
   },
   "outputs": [],
   "source": [
    "graph = nx.DiGraph()"
   ]
  },
  {
   "cell_type": "code",
   "execution_count": 7,
   "metadata": {
    "collapsed": false
   },
   "outputs": [],
   "source": [
    "def load_sigma_file(filename):\n",
    "    with open(filename, 'r') as jsonfile:\n",
    "        graph_json = json.load(jsonfile)\n",
    "\n",
    "    nodes = graph_json['nodes']\n",
    "    edges = graph_json['edges']\n",
    "    graph = network_analysis.get_network(nodes, edges)\n",
    "    return nodes, graph"
   ]
  },
  {
   "cell_type": "code",
   "execution_count": 8,
   "metadata": {
    "collapsed": false
   },
   "outputs": [],
   "source": [
    "rootpath = '/media/sf_VBox_Shared/CaseLaw/graphs/json_sigma/'\n",
    "filename = 'sigma_insolventierecht.json'\n",
    "nodes, graph = load_sigma_file(os.path.join(rootpath, filename))"
   ]
  },
  {
   "cell_type": "code",
   "execution_count": 9,
   "metadata": {
    "collapsed": false
   },
   "outputs": [
    {
     "data": {
      "text/plain": [
       "44"
      ]
     },
     "execution_count": 9,
     "metadata": {},
     "output_type": "execute_result"
    }
   ],
   "source": [
    "graph.size()"
   ]
  },
  {
   "cell_type": "code",
   "execution_count": 54,
   "metadata": {
    "collapsed": false
   },
   "outputs": [],
   "source": [
    "for node in nodes:\n",
    "    article_str = ', '.join(node['articles'].keys())\n",
    "    if article_str == '':\n",
    "        article_str = 'none'\n",
    "    node['article'] = article_str"
   ]
  },
  {
   "cell_type": "code",
   "execution_count": 55,
   "metadata": {
    "collapsed": false,
    "scrolled": true
   },
   "outputs": [
    {
     "data": {
      "text/plain": [
       "{'abstract': 'WSNP. Beëindiging schuldsaneringsregeling zonder schone lei (81 RO).',\n",
       " 'article': 'none',\n",
       " 'articles': {},\n",
       " 'count_annotation': 0,\n",
       " 'count_version': 2,\n",
       " 'creator': 'http://standaarden.overheid.nl/owms/terms/Hoge_Raad_der_Nederlanden',\n",
       " 'date': '2009-11-27',\n",
       " 'id': 'http://deeplink.rechtspraak.nl/uitspraak?id=ECLI:NL:HR:2009:BJ9941',\n",
       " 'subject': 'http://psi.rechtspraak.nl/rechtsgebied#civielRecht',\n",
       " 'title': 'ECLI:NL:HR:2009:BJ9941 Hoge Raad , 27-11-2009 / 09/01158'}"
      ]
     },
     "execution_count": 55,
     "metadata": {},
     "output_type": "execute_result"
    }
   ],
   "source": [
    "nodes[0]"
   ]
  },
  {
   "cell_type": "code",
   "execution_count": 6,
   "metadata": {
    "collapsed": false
   },
   "outputs": [
    {
     "data": {
      "text/plain": [
       "'http://deeplink.rechtspraak.nl/uitspraak?id=ECLI:NL:HR:2016:998'"
      ]
     },
     "execution_count": 6,
     "metadata": {},
     "output_type": "execute_result"
    }
   ],
   "source": [
    "graph.nodes()[0]"
   ]
  },
  {
   "cell_type": "code",
   "execution_count": 56,
   "metadata": {
    "collapsed": false
   },
   "outputs": [],
   "source": [
    "hubs, authorities = nx.hits(graph)\n",
    "statistics = {\n",
    "    'degree' : nx.degree(graph),\n",
    "    'in_degree' : graph.in_degree(),\n",
    "    'out_degree' : graph.out_degree(),\n",
    "\n",
    "    'degree_centrality' : nx.degree_centrality(graph),\n",
    "    'in_degree_centrality' : nx.in_degree_centrality(graph),\n",
    "    'out_degree_centrality' : nx.out_degree_centrality(graph),\n",
    "    'betweenness_centrality' : nx.betweenness_centrality(graph),\n",
    "    'hubs': hubs,\n",
    "    'authorities': authorities\n",
    "}"
   ]
  },
  {
   "cell_type": "code",
   "execution_count": 57,
   "metadata": {
    "collapsed": true
   },
   "outputs": [],
   "source": [
    "def url_to_ecli(url):\n",
    "    return url.split('=')[-1]"
   ]
  },
  {
   "cell_type": "code",
   "execution_count": 58,
   "metadata": {
    "collapsed": false
   },
   "outputs": [],
   "source": [
    "result = []\n",
    "statistics_variables = [ 'references', 'count_version', 'count_annotation', 'article', 'date', 'year', 'subject', 'creator',\n",
    "                        'degree', 'in_degree', 'out_degree', \n",
    "                        'degree_centrality','in_degree_centrality', 'out_degree_centrality', 'betweenness_centrality',\n",
    "                        'hubs', 'authorities'\n",
    "                      ]\n",
    "\n",
    "for node in nodes:\n",
    "    nodeid = node['id']\n",
    "    \n",
    "    atts = {var: statistics[var][nodeid] for var in statistics.keys()}\n",
    "    atts['date'] = node.get('date', '')\n",
    "    atts['year'] = int(url_to_ecli(nodeid).split(':')[3])\n",
    "    atts['subject'] = node['subject']\n",
    "    atts['creator'] = node['creator']\n",
    "    atts['article'] = node['article']\n",
    "    atts['count_version'] = node['count_version']\n",
    "    atts['count_annotation'] = node['count_annotation']\n",
    "    atts['references'] = [url_to_ecli(url) for url in graph[nodeid].keys() ]\n",
    "    atts['id'] = url_to_ecli(nodeid)\n",
    "    result.append(atts)"
   ]
  },
  {
   "cell_type": "code",
   "execution_count": 59,
   "metadata": {
    "collapsed": false
   },
   "outputs": [
    {
     "data": {
      "text/html": [
       "<div>\n",
       "<table border=\"1\" class=\"dataframe\">\n",
       "  <thead>\n",
       "    <tr style=\"text-align: right;\">\n",
       "      <th></th>\n",
       "      <th>references</th>\n",
       "      <th>count_version</th>\n",
       "      <th>count_annotation</th>\n",
       "      <th>article</th>\n",
       "      <th>date</th>\n",
       "      <th>year</th>\n",
       "      <th>subject</th>\n",
       "      <th>creator</th>\n",
       "      <th>degree</th>\n",
       "      <th>in_degree</th>\n",
       "      <th>out_degree</th>\n",
       "      <th>degree_centrality</th>\n",
       "      <th>in_degree_centrality</th>\n",
       "      <th>out_degree_centrality</th>\n",
       "      <th>betweenness_centrality</th>\n",
       "      <th>hubs</th>\n",
       "      <th>authorities</th>\n",
       "    </tr>\n",
       "    <tr>\n",
       "      <th>id</th>\n",
       "      <th></th>\n",
       "      <th></th>\n",
       "      <th></th>\n",
       "      <th></th>\n",
       "      <th></th>\n",
       "      <th></th>\n",
       "      <th></th>\n",
       "      <th></th>\n",
       "      <th></th>\n",
       "      <th></th>\n",
       "      <th></th>\n",
       "      <th></th>\n",
       "      <th></th>\n",
       "      <th></th>\n",
       "      <th></th>\n",
       "      <th></th>\n",
       "      <th></th>\n",
       "    </tr>\n",
       "  </thead>\n",
       "  <tbody>\n",
       "    <tr>\n",
       "      <th>ECLI:NL:HR:2009:BJ9941</th>\n",
       "      <td>[]</td>\n",
       "      <td>2</td>\n",
       "      <td>0</td>\n",
       "      <td>none</td>\n",
       "      <td>2009-11-27</td>\n",
       "      <td>2009</td>\n",
       "      <td>http://psi.rechtspraak.nl/rechtsgebied#civielR...</td>\n",
       "      <td>http://standaarden.overheid.nl/owms/terms/Hoge...</td>\n",
       "      <td>0</td>\n",
       "      <td>0</td>\n",
       "      <td>0</td>\n",
       "      <td>0.0</td>\n",
       "      <td>0.0</td>\n",
       "      <td>0.0</td>\n",
       "      <td>0.0</td>\n",
       "      <td>0.0</td>\n",
       "      <td>0.0</td>\n",
       "    </tr>\n",
       "    <tr>\n",
       "      <th>ECLI:NL:HR:2009:BJ7317</th>\n",
       "      <td>[]</td>\n",
       "      <td>2</td>\n",
       "      <td>0</td>\n",
       "      <td>none</td>\n",
       "      <td>2009-10-16</td>\n",
       "      <td>2009</td>\n",
       "      <td>http://psi.rechtspraak.nl/rechtsgebied#civielR...</td>\n",
       "      <td>http://standaarden.overheid.nl/owms/terms/Hoge...</td>\n",
       "      <td>0</td>\n",
       "      <td>0</td>\n",
       "      <td>0</td>\n",
       "      <td>0.0</td>\n",
       "      <td>0.0</td>\n",
       "      <td>0.0</td>\n",
       "      <td>0.0</td>\n",
       "      <td>0.0</td>\n",
       "      <td>0.0</td>\n",
       "    </tr>\n",
       "    <tr>\n",
       "      <th>ECLI:NL:HR:2009:BJ7535</th>\n",
       "      <td>[]</td>\n",
       "      <td>2</td>\n",
       "      <td>0</td>\n",
       "      <td>none</td>\n",
       "      <td>2009-10-23</td>\n",
       "      <td>2009</td>\n",
       "      <td>http://psi.rechtspraak.nl/rechtsgebied#civielR...</td>\n",
       "      <td>http://standaarden.overheid.nl/owms/terms/Hoge...</td>\n",
       "      <td>0</td>\n",
       "      <td>0</td>\n",
       "      <td>0</td>\n",
       "      <td>0.0</td>\n",
       "      <td>0.0</td>\n",
       "      <td>0.0</td>\n",
       "      <td>0.0</td>\n",
       "      <td>0.0</td>\n",
       "      <td>0.0</td>\n",
       "    </tr>\n",
       "    <tr>\n",
       "      <th>ECLI:NL:HR:2009:BJ7835</th>\n",
       "      <td>[]</td>\n",
       "      <td>2</td>\n",
       "      <td>0</td>\n",
       "      <td>none</td>\n",
       "      <td>2009-10-23</td>\n",
       "      <td>2009</td>\n",
       "      <td>http://psi.rechtspraak.nl/rechtsgebied#civielR...</td>\n",
       "      <td>http://standaarden.overheid.nl/owms/terms/Hoge...</td>\n",
       "      <td>0</td>\n",
       "      <td>0</td>\n",
       "      <td>0</td>\n",
       "      <td>0.0</td>\n",
       "      <td>0.0</td>\n",
       "      <td>0.0</td>\n",
       "      <td>0.0</td>\n",
       "      <td>0.0</td>\n",
       "      <td>0.0</td>\n",
       "    </tr>\n",
       "    <tr>\n",
       "      <th>ECLI:NL:HR:2009:BJ8339</th>\n",
       "      <td>[]</td>\n",
       "      <td>2</td>\n",
       "      <td>0</td>\n",
       "      <td>none</td>\n",
       "      <td>2009-11-13</td>\n",
       "      <td>2009</td>\n",
       "      <td>http://psi.rechtspraak.nl/rechtsgebied#civielR...</td>\n",
       "      <td>http://standaarden.overheid.nl/owms/terms/Hoge...</td>\n",
       "      <td>0</td>\n",
       "      <td>0</td>\n",
       "      <td>0</td>\n",
       "      <td>0.0</td>\n",
       "      <td>0.0</td>\n",
       "      <td>0.0</td>\n",
       "      <td>0.0</td>\n",
       "      <td>0.0</td>\n",
       "      <td>0.0</td>\n",
       "    </tr>\n",
       "  </tbody>\n",
       "</table>\n",
       "</div>"
      ],
      "text/plain": [
       "                       references  count_version  count_annotation article  \\\n",
       "id                                                                           \n",
       "ECLI:NL:HR:2009:BJ9941         []              2                 0    none   \n",
       "ECLI:NL:HR:2009:BJ7317         []              2                 0    none   \n",
       "ECLI:NL:HR:2009:BJ7535         []              2                 0    none   \n",
       "ECLI:NL:HR:2009:BJ7835         []              2                 0    none   \n",
       "ECLI:NL:HR:2009:BJ8339         []              2                 0    none   \n",
       "\n",
       "                              date  year  \\\n",
       "id                                         \n",
       "ECLI:NL:HR:2009:BJ9941  2009-11-27  2009   \n",
       "ECLI:NL:HR:2009:BJ7317  2009-10-16  2009   \n",
       "ECLI:NL:HR:2009:BJ7535  2009-10-23  2009   \n",
       "ECLI:NL:HR:2009:BJ7835  2009-10-23  2009   \n",
       "ECLI:NL:HR:2009:BJ8339  2009-11-13  2009   \n",
       "\n",
       "                                                                  subject  \\\n",
       "id                                                                          \n",
       "ECLI:NL:HR:2009:BJ9941  http://psi.rechtspraak.nl/rechtsgebied#civielR...   \n",
       "ECLI:NL:HR:2009:BJ7317  http://psi.rechtspraak.nl/rechtsgebied#civielR...   \n",
       "ECLI:NL:HR:2009:BJ7535  http://psi.rechtspraak.nl/rechtsgebied#civielR...   \n",
       "ECLI:NL:HR:2009:BJ7835  http://psi.rechtspraak.nl/rechtsgebied#civielR...   \n",
       "ECLI:NL:HR:2009:BJ8339  http://psi.rechtspraak.nl/rechtsgebied#civielR...   \n",
       "\n",
       "                                                                  creator  \\\n",
       "id                                                                          \n",
       "ECLI:NL:HR:2009:BJ9941  http://standaarden.overheid.nl/owms/terms/Hoge...   \n",
       "ECLI:NL:HR:2009:BJ7317  http://standaarden.overheid.nl/owms/terms/Hoge...   \n",
       "ECLI:NL:HR:2009:BJ7535  http://standaarden.overheid.nl/owms/terms/Hoge...   \n",
       "ECLI:NL:HR:2009:BJ7835  http://standaarden.overheid.nl/owms/terms/Hoge...   \n",
       "ECLI:NL:HR:2009:BJ8339  http://standaarden.overheid.nl/owms/terms/Hoge...   \n",
       "\n",
       "                        degree  in_degree  out_degree  degree_centrality  \\\n",
       "id                                                                         \n",
       "ECLI:NL:HR:2009:BJ9941       0          0           0                0.0   \n",
       "ECLI:NL:HR:2009:BJ7317       0          0           0                0.0   \n",
       "ECLI:NL:HR:2009:BJ7535       0          0           0                0.0   \n",
       "ECLI:NL:HR:2009:BJ7835       0          0           0                0.0   \n",
       "ECLI:NL:HR:2009:BJ8339       0          0           0                0.0   \n",
       "\n",
       "                        in_degree_centrality  out_degree_centrality  \\\n",
       "id                                                                    \n",
       "ECLI:NL:HR:2009:BJ9941                   0.0                    0.0   \n",
       "ECLI:NL:HR:2009:BJ7317                   0.0                    0.0   \n",
       "ECLI:NL:HR:2009:BJ7535                   0.0                    0.0   \n",
       "ECLI:NL:HR:2009:BJ7835                   0.0                    0.0   \n",
       "ECLI:NL:HR:2009:BJ8339                   0.0                    0.0   \n",
       "\n",
       "                        betweenness_centrality  hubs  authorities  \n",
       "id                                                                 \n",
       "ECLI:NL:HR:2009:BJ9941                     0.0   0.0          0.0  \n",
       "ECLI:NL:HR:2009:BJ7317                     0.0   0.0          0.0  \n",
       "ECLI:NL:HR:2009:BJ7535                     0.0   0.0          0.0  \n",
       "ECLI:NL:HR:2009:BJ7835                     0.0   0.0          0.0  \n",
       "ECLI:NL:HR:2009:BJ8339                     0.0   0.0          0.0  "
      ]
     },
     "execution_count": 59,
     "metadata": {},
     "output_type": "execute_result"
    }
   ],
   "source": [
    "import pandas as pd\n",
    "result_df = pd.DataFrame(result)\n",
    "result_df = result_df.set_index('id')\n",
    "result_df = result_df[statistics_variables]\n",
    "result_df.head()"
   ]
  },
  {
   "cell_type": "code",
   "execution_count": 60,
   "metadata": {
    "collapsed": false
   },
   "outputs": [],
   "source": [
    "outfile = os.path.join('/media/sf_VBox_Shared/CaseLaw/spot/', 'spot_'+filename[6:-4]+'csv')\n",
    "result_df.to_csv(outfile)"
   ]
  },
  {
   "cell_type": "code",
   "execution_count": 61,
   "metadata": {
    "collapsed": false
   },
   "outputs": [],
   "source": [
    "outfile = os.path.join('/media/sf_VBox_Shared/CaseLaw/spot/', 'spot_'+filename[6:-4]+'json')\n",
    "with open(outfile, 'w') as fp:\n",
    "    json.dump(result, fp)"
   ]
  },
  {
   "cell_type": "code",
   "execution_count": null,
   "metadata": {
    "collapsed": true
   },
   "outputs": [],
   "source": []
  }
 ],
 "metadata": {
  "anaconda-cloud": {},
  "kernelspec": {
   "display_name": "Python [conda env:caselaw]",
   "language": "python",
   "name": "conda-env-caselaw-py"
  },
  "language_info": {
   "codemirror_mode": {
    "name": "ipython",
    "version": 3
   },
   "file_extension": ".py",
   "mimetype": "text/x-python",
   "name": "python",
   "nbconvert_exporter": "python",
   "pygments_lexer": "ipython3",
   "version": "3.5.2"
  }
 },
 "nbformat": 4,
 "nbformat_minor": 0
}
