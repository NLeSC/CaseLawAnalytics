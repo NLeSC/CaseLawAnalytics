{
 "cells": [
  {
   "cell_type": "code",
   "execution_count": 43,
   "metadata": {
    "collapsed": false
   },
   "outputs": [
    {
     "name": "stdout",
     "output_type": "stream",
     "text": [
      "The autoreload extension is already loaded. To reload it, use:\n",
      "  %reload_ext autoreload\n"
     ]
    }
   ],
   "source": [
    "%matplotlib inline\n",
    "%load_ext autoreload\n",
    "%autoreload 2\n",
    "import networkx as nx\n",
    "import json\n",
    "import sys\n",
    "import os\n",
    "from networkx.readwrite import json_graph\n",
    "sys.path.insert(0, os.path.abspath('..'))\n",
    "import  parser.matcher as matcher"
   ]
  },
  {
   "cell_type": "code",
   "execution_count": 44,
   "metadata": {
    "collapsed": true
   },
   "outputs": [],
   "source": [
    "graph = nx.DiGraph()"
   ]
  },
  {
   "cell_type": "code",
   "execution_count": 45,
   "metadata": {
    "collapsed": false
   },
   "outputs": [],
   "source": [
    "def load_sigma_file(filename):\n",
    "    with open(filename, 'r') as jsonfile:\n",
    "        graph_json = json.load(jsonfile)\n",
    "\n",
    "    nodes = graph_json['nodes']\n",
    "    edges = graph_json['edges']\n",
    "    node_indices = {nodes[i]['id']: i for i in range(len(nodes))}\n",
    "    for edge in edges:\n",
    "        edge['source'] = node_indices[edge['source']]\n",
    "        edge['target'] = node_indices[edge['target']]\n",
    "\n",
    "    graph = json_graph.node_link_graph({'nodes': nodes, 'links': edges}, directed=True, multigraph=False)\n",
    "    return nodes, graph"
   ]
  },
  {
   "cell_type": "code",
   "execution_count": 46,
   "metadata": {
    "collapsed": true
   },
   "outputs": [],
   "source": [
    "filename = '/media/sf_VBox_Shared/CaseLaw/graphs/wgaans_sigma_v2.json.json'\n",
    "nodes, graph = load_sigma_file(filename)"
   ]
  },
  {
   "cell_type": "code",
   "execution_count": 47,
   "metadata": {
    "collapsed": false
   },
   "outputs": [
    {
     "data": {
      "text/plain": [
       "110"
      ]
     },
     "execution_count": 47,
     "metadata": {},
     "output_type": "execute_result"
    }
   ],
   "source": [
    "graph.size()"
   ]
  },
  {
   "cell_type": "code",
   "execution_count": 48,
   "metadata": {
    "collapsed": false
   },
   "outputs": [],
   "source": [
    "for node in nodes:\n",
    "    article_str = ', '.join(node['articles'].keys())\n",
    "    if article_str == '':\n",
    "        article_str = 'none'\n",
    "    node['article'] = article_str"
   ]
  },
  {
   "cell_type": "code",
   "execution_count": 49,
   "metadata": {
    "collapsed": false
   },
   "outputs": [
    {
     "data": {
      "text/plain": [
       "{'abstract': 'Uitleg dekkingsomvang AVB-polis. Aansprakelijkheid werkgever bij verkeersongeval werknemer op grond van art. 7:611 BW (verzekeringsplicht niet nagekomen). Is schade werknemer letselschade in zin van polis? Functie AVB-polis en daarop gebaseerde verwachtingen rechtvaardigen ruime uitleg dekkingsomvang; dekking tegen aansprakelijkheid voor letselschade omvat in beginsel ook dekking tegen op art. 7:611 gebaseerde aansprakelijkheid.',\n",
       " 'article': '7:611 bw',\n",
       " 'articles': {'7:611 bw': 1},\n",
       " 'count_annotation': 2,\n",
       " 'count_version': 8,\n",
       " 'creator': 'http://standaarden.overheid.nl/owms/terms/Hoge_Raad_der_Nederlanden',\n",
       " 'date': '2012-03-30',\n",
       " 'hasVersion': '',\n",
       " 'id': 'http://deeplink.rechtspraak.nl/uitspraak?id=ECLI:NL:HR:2012:BV1295',\n",
       " 'subject': 'http://psi.rechtspraak.nl/rechtsgebied#civielRecht',\n",
       " 'title': 'ECLI:NL:HR:2012:BV1295 Hoge Raad , 30-03-2012 / 11/01010'}"
      ]
     },
     "execution_count": 49,
     "metadata": {},
     "output_type": "execute_result"
    }
   ],
   "source": [
    "nodes[0]"
   ]
  },
  {
   "cell_type": "code",
   "execution_count": 50,
   "metadata": {
    "collapsed": false
   },
   "outputs": [],
   "source": [
    "hubs, authorities = nx.hits(graph)\n",
    "statistics = {\n",
    "    'degree' : nx.degree(graph),\n",
    "    'in_degree' : graph.in_degree(),\n",
    "    'out_degree' : graph.out_degree(),\n",
    "\n",
    "    'degree_centrality' : nx.degree_centrality(graph),\n",
    "    'in_degree_centrality' : nx.in_degree_centrality(graph),\n",
    "    'out_degree_centrality' : nx.out_degree_centrality(graph),\n",
    "    'betweenness_centrality' : nx.betweenness_centrality(graph),\n",
    "    'hubs': hubs,\n",
    "    'authorities': authorities\n",
    "}"
   ]
  },
  {
   "cell_type": "code",
   "execution_count": 51,
   "metadata": {
    "collapsed": false
   },
   "outputs": [],
   "source": [
    "result = []\n",
    "statistics_variables = [ 'count_version', 'count_annotation', 'article', 'date', 'year', 'subject', 'creator',\n",
    "                        'degree', 'in_degree', 'out_degree', \n",
    "                        'degree_centrality','in_degree_centrality', 'out_degree_centrality', 'betweenness_centrality',\n",
    "                        'hubs', 'authorities'\n",
    "                      ]\n",
    "\n",
    "for node in nodes:\n",
    "    nodeid = node['id']\n",
    "    \n",
    "    atts = {var: statistics[var][nodeid] for var in statistics.keys()}\n",
    "    atts['date'] = node.get('date', '')\n",
    "    atts['year'] = int(nodeid.split('=')[-1].split(':')[3])\n",
    "    atts['subject'] = node['subject']\n",
    "    atts['creator'] = node['creator']\n",
    "    atts['article'] = node['article']\n",
    "    atts['count_version'] = node['count_version']\n",
    "    atts['count_annotation'] = node['count_annotation']\n",
    "    \n",
    "    atts['id'] = nodeid.split('=')[-1]\n",
    "    result.append(atts)"
   ]
  },
  {
   "cell_type": "code",
   "execution_count": 52,
   "metadata": {
    "collapsed": false
   },
   "outputs": [
    {
     "data": {
      "text/html": [
       "<div>\n",
       "<table border=\"1\" class=\"dataframe\">\n",
       "  <thead>\n",
       "    <tr style=\"text-align: right;\">\n",
       "      <th></th>\n",
       "      <th>count_version</th>\n",
       "      <th>count_annotation</th>\n",
       "      <th>article</th>\n",
       "      <th>date</th>\n",
       "      <th>year</th>\n",
       "      <th>subject</th>\n",
       "      <th>creator</th>\n",
       "      <th>degree</th>\n",
       "      <th>in_degree</th>\n",
       "      <th>out_degree</th>\n",
       "      <th>degree_centrality</th>\n",
       "      <th>in_degree_centrality</th>\n",
       "      <th>out_degree_centrality</th>\n",
       "      <th>betweenness_centrality</th>\n",
       "      <th>hubs</th>\n",
       "      <th>authorities</th>\n",
       "    </tr>\n",
       "    <tr>\n",
       "      <th>id</th>\n",
       "      <th></th>\n",
       "      <th></th>\n",
       "      <th></th>\n",
       "      <th></th>\n",
       "      <th></th>\n",
       "      <th></th>\n",
       "      <th></th>\n",
       "      <th></th>\n",
       "      <th></th>\n",
       "      <th></th>\n",
       "      <th></th>\n",
       "      <th></th>\n",
       "      <th></th>\n",
       "      <th></th>\n",
       "      <th></th>\n",
       "      <th></th>\n",
       "    </tr>\n",
       "  </thead>\n",
       "  <tbody>\n",
       "    <tr>\n",
       "      <th>ECLI:NL:HR:2012:BV1295</th>\n",
       "      <td>8</td>\n",
       "      <td>2</td>\n",
       "      <td>7:611 bw</td>\n",
       "      <td>2012-03-30</td>\n",
       "      <td>2012</td>\n",
       "      <td>http://psi.rechtspraak.nl/rechtsgebied#civielR...</td>\n",
       "      <td>http://standaarden.overheid.nl/owms/terms/Hoge...</td>\n",
       "      <td>1</td>\n",
       "      <td>0</td>\n",
       "      <td>1</td>\n",
       "      <td>0.009009</td>\n",
       "      <td>0.0</td>\n",
       "      <td>0.009009</td>\n",
       "      <td>0.0</td>\n",
       "      <td>6.404323e-84</td>\n",
       "      <td>0.0</td>\n",
       "    </tr>\n",
       "    <tr>\n",
       "      <th>ECLI:NL:HR:2005:AT8782</th>\n",
       "      <td>5</td>\n",
       "      <td>2</td>\n",
       "      <td>none</td>\n",
       "      <td>2005-11-25</td>\n",
       "      <td>2005</td>\n",
       "      <td>http://psi.rechtspraak.nl/rechtsgebied#civielR...</td>\n",
       "      <td>http://standaarden.overheid.nl/owms/terms/Hoge...</td>\n",
       "      <td>2</td>\n",
       "      <td>0</td>\n",
       "      <td>2</td>\n",
       "      <td>0.018018</td>\n",
       "      <td>0.0</td>\n",
       "      <td>0.018018</td>\n",
       "      <td>0.0</td>\n",
       "      <td>5.712847e-40</td>\n",
       "      <td>0.0</td>\n",
       "    </tr>\n",
       "    <tr>\n",
       "      <th>ECLI:NL:HR:2007:BA7217</th>\n",
       "      <td>6</td>\n",
       "      <td>2</td>\n",
       "      <td>none</td>\n",
       "      <td>2007-07-13</td>\n",
       "      <td>2007</td>\n",
       "      <td>http://psi.rechtspraak.nl/rechtsgebied#civielR...</td>\n",
       "      <td>http://standaarden.overheid.nl/owms/terms/Hoge...</td>\n",
       "      <td>1</td>\n",
       "      <td>0</td>\n",
       "      <td>1</td>\n",
       "      <td>0.009009</td>\n",
       "      <td>0.0</td>\n",
       "      <td>0.009009</td>\n",
       "      <td>0.0</td>\n",
       "      <td>6.404323e-84</td>\n",
       "      <td>0.0</td>\n",
       "    </tr>\n",
       "    <tr>\n",
       "      <th>ECLI:NL:HR:2014:3519</th>\n",
       "      <td>8</td>\n",
       "      <td>3</td>\n",
       "      <td>7:658 bw, 6:74 bw</td>\n",
       "      <td>2014-12-05</td>\n",
       "      <td>2014</td>\n",
       "      <td>http://psi.rechtspraak.nl/rechtsgebied#civielR...</td>\n",
       "      <td>http://standaarden.overheid.nl/owms/terms/Hoge...</td>\n",
       "      <td>2</td>\n",
       "      <td>0</td>\n",
       "      <td>2</td>\n",
       "      <td>0.018018</td>\n",
       "      <td>0.0</td>\n",
       "      <td>0.018018</td>\n",
       "      <td>0.0</td>\n",
       "      <td>6.048712e-62</td>\n",
       "      <td>0.0</td>\n",
       "    </tr>\n",
       "    <tr>\n",
       "      <th>ECLI:NL:HR:2010:BN9977</th>\n",
       "      <td>9</td>\n",
       "      <td>1</td>\n",
       "      <td>7:658 bw</td>\n",
       "      <td>2010-11-26</td>\n",
       "      <td>2010</td>\n",
       "      <td>http://psi.rechtspraak.nl/rechtsgebied#civielR...</td>\n",
       "      <td>http://standaarden.overheid.nl/owms/terms/Hoge...</td>\n",
       "      <td>2</td>\n",
       "      <td>0</td>\n",
       "      <td>2</td>\n",
       "      <td>0.018018</td>\n",
       "      <td>0.0</td>\n",
       "      <td>0.018018</td>\n",
       "      <td>0.0</td>\n",
       "      <td>2.648397e-04</td>\n",
       "      <td>0.0</td>\n",
       "    </tr>\n",
       "  </tbody>\n",
       "</table>\n",
       "</div>"
      ],
      "text/plain": [
       "                        count_version  count_annotation            article  \\\n",
       "id                                                                           \n",
       "ECLI:NL:HR:2012:BV1295              8                 2           7:611 bw   \n",
       "ECLI:NL:HR:2005:AT8782              5                 2               none   \n",
       "ECLI:NL:HR:2007:BA7217              6                 2               none   \n",
       "ECLI:NL:HR:2014:3519                8                 3  7:658 bw, 6:74 bw   \n",
       "ECLI:NL:HR:2010:BN9977              9                 1           7:658 bw   \n",
       "\n",
       "                              date  year  \\\n",
       "id                                         \n",
       "ECLI:NL:HR:2012:BV1295  2012-03-30  2012   \n",
       "ECLI:NL:HR:2005:AT8782  2005-11-25  2005   \n",
       "ECLI:NL:HR:2007:BA7217  2007-07-13  2007   \n",
       "ECLI:NL:HR:2014:3519    2014-12-05  2014   \n",
       "ECLI:NL:HR:2010:BN9977  2010-11-26  2010   \n",
       "\n",
       "                                                                  subject  \\\n",
       "id                                                                          \n",
       "ECLI:NL:HR:2012:BV1295  http://psi.rechtspraak.nl/rechtsgebied#civielR...   \n",
       "ECLI:NL:HR:2005:AT8782  http://psi.rechtspraak.nl/rechtsgebied#civielR...   \n",
       "ECLI:NL:HR:2007:BA7217  http://psi.rechtspraak.nl/rechtsgebied#civielR...   \n",
       "ECLI:NL:HR:2014:3519    http://psi.rechtspraak.nl/rechtsgebied#civielR...   \n",
       "ECLI:NL:HR:2010:BN9977  http://psi.rechtspraak.nl/rechtsgebied#civielR...   \n",
       "\n",
       "                                                                  creator  \\\n",
       "id                                                                          \n",
       "ECLI:NL:HR:2012:BV1295  http://standaarden.overheid.nl/owms/terms/Hoge...   \n",
       "ECLI:NL:HR:2005:AT8782  http://standaarden.overheid.nl/owms/terms/Hoge...   \n",
       "ECLI:NL:HR:2007:BA7217  http://standaarden.overheid.nl/owms/terms/Hoge...   \n",
       "ECLI:NL:HR:2014:3519    http://standaarden.overheid.nl/owms/terms/Hoge...   \n",
       "ECLI:NL:HR:2010:BN9977  http://standaarden.overheid.nl/owms/terms/Hoge...   \n",
       "\n",
       "                        degree  in_degree  out_degree  degree_centrality  \\\n",
       "id                                                                         \n",
       "ECLI:NL:HR:2012:BV1295       1          0           1           0.009009   \n",
       "ECLI:NL:HR:2005:AT8782       2          0           2           0.018018   \n",
       "ECLI:NL:HR:2007:BA7217       1          0           1           0.009009   \n",
       "ECLI:NL:HR:2014:3519         2          0           2           0.018018   \n",
       "ECLI:NL:HR:2010:BN9977       2          0           2           0.018018   \n",
       "\n",
       "                        in_degree_centrality  out_degree_centrality  \\\n",
       "id                                                                    \n",
       "ECLI:NL:HR:2012:BV1295                   0.0               0.009009   \n",
       "ECLI:NL:HR:2005:AT8782                   0.0               0.018018   \n",
       "ECLI:NL:HR:2007:BA7217                   0.0               0.009009   \n",
       "ECLI:NL:HR:2014:3519                     0.0               0.018018   \n",
       "ECLI:NL:HR:2010:BN9977                   0.0               0.018018   \n",
       "\n",
       "                        betweenness_centrality          hubs  authorities  \n",
       "id                                                                         \n",
       "ECLI:NL:HR:2012:BV1295                     0.0  6.404323e-84          0.0  \n",
       "ECLI:NL:HR:2005:AT8782                     0.0  5.712847e-40          0.0  \n",
       "ECLI:NL:HR:2007:BA7217                     0.0  6.404323e-84          0.0  \n",
       "ECLI:NL:HR:2014:3519                       0.0  6.048712e-62          0.0  \n",
       "ECLI:NL:HR:2010:BN9977                     0.0  2.648397e-04          0.0  "
      ]
     },
     "execution_count": 52,
     "metadata": {},
     "output_type": "execute_result"
    }
   ],
   "source": [
    "import pandas as pd\n",
    "result_df = pd.DataFrame(result)\n",
    "result_df = result_df.set_index('id')\n",
    "result_df = result_df[statistics_variables]\n",
    "result_df.head()"
   ]
  },
  {
   "cell_type": "code",
   "execution_count": 53,
   "metadata": {
    "collapsed": false
   },
   "outputs": [],
   "source": [
    "outfile = '/media/sf_VBox_Shared/CaseLaw/spot/wgaans.csv'\n",
    "result_df.to_csv(outfile)"
   ]
  },
  {
   "cell_type": "code",
   "execution_count": 54,
   "metadata": {
    "collapsed": false
   },
   "outputs": [],
   "source": [
    "outfile = '/media/sf_VBox_Shared/CaseLaw/spot/wgaans.json'\n",
    "with open(outfile, 'w') as fp:\n",
    "    json.dump(result, fp)"
   ]
  },
  {
   "cell_type": "code",
   "execution_count": null,
   "metadata": {
    "collapsed": true
   },
   "outputs": [],
   "source": []
  }
 ],
 "metadata": {
  "anaconda-cloud": {},
  "kernelspec": {
   "display_name": "Python [conda env:caselaw]",
   "language": "python",
   "name": "conda-env-caselaw-py"
  },
  "language_info": {
   "codemirror_mode": {
    "name": "ipython",
    "version": 3
   },
   "file_extension": ".py",
   "mimetype": "text/x-python",
   "name": "python",
   "nbconvert_exporter": "python",
   "pygments_lexer": "ipython3",
   "version": "3.5.2"
  }
 },
 "nbformat": 4,
 "nbformat_minor": 0
}
