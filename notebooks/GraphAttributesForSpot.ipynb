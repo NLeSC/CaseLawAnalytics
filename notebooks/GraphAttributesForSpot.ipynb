{
 "cells": [
  {
   "cell_type": "code",
   "execution_count": 24,
   "metadata": {
    "collapsed": false
   },
   "outputs": [],
   "source": [
    "%matplotlib inline\n",
    "import networkx as nx\n",
    "import json\n",
    "from networkx.readwrite import json_graph"
   ]
  },
  {
   "cell_type": "code",
   "execution_count": 4,
   "metadata": {
    "collapsed": true
   },
   "outputs": [],
   "source": [
    "graph = nx.DiGraph()"
   ]
  },
  {
   "cell_type": "code",
   "execution_count": 86,
   "metadata": {
    "collapsed": false
   },
   "outputs": [],
   "source": [
    "def load_sigma_file(filename):\n",
    "    with open(filename, 'r') as jsonfile:\n",
    "        graph_json = json.load(jsonfile)\n",
    "\n",
    "    nodes = graph_json['nodes']\n",
    "    edges = graph_json['edges']\n",
    "    node_indices = {nodes[i]['id']: i for i in range(len(nodes))}\n",
    "    for edge in edges:\n",
    "        edge['source'] = node_indices[edge['source']]\n",
    "        edge['target'] = node_indices[edge['target']]\n",
    "\n",
    "    graph = json_graph.node_link_graph({'nodes': nodes, 'links': edges}, directed=True, multigraph=False)\n",
    "    return nodes, graph"
   ]
  },
  {
   "cell_type": "code",
   "execution_count": 87,
   "metadata": {
    "collapsed": true
   },
   "outputs": [],
   "source": [
    "filename = '/media/sf_VBox_Shared/CaseLaw/graphs/wgaans_sigma.json'\n",
    "nodes, graph = load_sigma_file(filename)"
   ]
  },
  {
   "cell_type": "code",
   "execution_count": 88,
   "metadata": {
    "collapsed": false
   },
   "outputs": [
    {
     "data": {
      "text/plain": [
       "177"
      ]
     },
     "execution_count": 88,
     "metadata": {},
     "output_type": "execute_result"
    }
   ],
   "source": [
    "graph.size()"
   ]
  },
  {
   "cell_type": "code",
   "execution_count": 113,
   "metadata": {
    "collapsed": false
   },
   "outputs": [
    {
     "data": {
      "text/plain": [
       "{'abstract': 'Arbeidsrecht. Werkgeversaansprakelijkheid; bij eenzijdig verkeersongeval geleden letselschade door fietsende werknemer (thuiszorger) tijdens uitoefening van haar werkzaamheden; zorgplicht van werkgever ex art. 7:658 BW en aanvullende verzekeringsplicht op grond van art. 7:611 BW; behoorlijke verzekering van aan verkeer op de openbare weg deelnemende werknemers.',\n",
       " 'creator': 'http://standaarden.overheid.nl/owms/terms/Hoge_Raad_der_Nederlanden',\n",
       " 'date': '2008-12-12',\n",
       " 'id': 'http://deeplink.rechtspraak.nl/uitspraak?id=ECLI:NL:HR:2008:BD3129',\n",
       " 'subject': 'http://psi.rechtspraak.nl/rechtsgebied#civielRecht',\n",
       " 'title': 'ECLI:NL:HR:2008:BD3129 Hoge Raad , 12-12-2008 / C07/121HR'}"
      ]
     },
     "execution_count": 113,
     "metadata": {},
     "output_type": "execute_result"
    }
   ],
   "source": [
    "nodes[0]"
   ]
  },
  {
   "cell_type": "code",
   "execution_count": 95,
   "metadata": {
    "collapsed": false
   },
   "outputs": [],
   "source": [
    "hubs, authorities = nx.hits(graph)\n",
    "statistics = {\n",
    "    'degree' : nx.degree(graph),\n",
    "    'in_degree' : graph.in_degree(),\n",
    "    'out_degree' : graph.out_degree(),\n",
    "\n",
    "    'degree_centrality' : nx.degree_centrality(graph),\n",
    "    'in_degree_centrality' : nx.in_degree_centrality(graph),\n",
    "    'out_degree_centrality' : nx.out_degree_centrality(graph),\n",
    "    'betweenness_centrality' : nx.betweenness_centrality(graph),\n",
    "    'hubs': hubs,\n",
    "    'authorities': authorities\n",
    "}"
   ]
  },
  {
   "cell_type": "code",
   "execution_count": 100,
   "metadata": {
    "collapsed": false
   },
   "outputs": [],
   "source": [
    "result = []\n",
    "statistics_variables = [ 'date', 'year', 'subject', 'creator',\n",
    "                        'degree', 'in_degree', 'out_degree', \n",
    "                        'degree_centrality','in_degree_centrality', 'out_degree_centrality', 'betweenness_centrality',\n",
    "                        'hubs', 'authorities'\n",
    "                      ]\n",
    "\n",
    "for node in nodes:\n",
    "    nodeid = node['id']\n",
    "    \n",
    "    atts = {var: statistics[var][nodeid] for var in statistics.keys()}\n",
    "    atts['date'] = node.get('date', '')\n",
    "    atts['year'] = int(nodeid.split('=')[-1].split(':')[3])\n",
    "    atts['subject'] = node['subject']\n",
    "    atts['creator'] = node['creator']\n",
    "    \n",
    "    atts['id'] = nodeid\n",
    "    result.append(atts)"
   ]
  },
  {
   "cell_type": "code",
   "execution_count": 101,
   "metadata": {
    "collapsed": false
   },
   "outputs": [
    {
     "data": {
      "text/html": [
       "<div>\n",
       "<table border=\"1\" class=\"dataframe\">\n",
       "  <thead>\n",
       "    <tr style=\"text-align: right;\">\n",
       "      <th></th>\n",
       "      <th>date</th>\n",
       "      <th>year</th>\n",
       "      <th>subject</th>\n",
       "      <th>creator</th>\n",
       "      <th>degree</th>\n",
       "      <th>in_degree</th>\n",
       "      <th>out_degree</th>\n",
       "      <th>degree_centrality</th>\n",
       "      <th>in_degree_centrality</th>\n",
       "      <th>out_degree_centrality</th>\n",
       "      <th>betweenness_centrality</th>\n",
       "      <th>hubs</th>\n",
       "      <th>authorities</th>\n",
       "    </tr>\n",
       "    <tr>\n",
       "      <th>id</th>\n",
       "      <th></th>\n",
       "      <th></th>\n",
       "      <th></th>\n",
       "      <th></th>\n",
       "      <th></th>\n",
       "      <th></th>\n",
       "      <th></th>\n",
       "      <th></th>\n",
       "      <th></th>\n",
       "      <th></th>\n",
       "      <th></th>\n",
       "      <th></th>\n",
       "      <th></th>\n",
       "    </tr>\n",
       "  </thead>\n",
       "  <tbody>\n",
       "    <tr>\n",
       "      <th>http://deeplink.rechtspraak.nl/uitspraak?id=ECLI:NL:HR:2008:BD3129</th>\n",
       "      <td>2008-12-12</td>\n",
       "      <td>2008</td>\n",
       "      <td>http://psi.rechtspraak.nl/rechtsgebied#civielR...</td>\n",
       "      <td>http://standaarden.overheid.nl/owms/terms/Hoge...</td>\n",
       "      <td>8</td>\n",
       "      <td>2</td>\n",
       "      <td>6</td>\n",
       "      <td>0.051613</td>\n",
       "      <td>0.012903</td>\n",
       "      <td>0.038710</td>\n",
       "      <td>0.000922</td>\n",
       "      <td>8.406351e-03</td>\n",
       "      <td>9.665312e-04</td>\n",
       "    </tr>\n",
       "    <tr>\n",
       "      <th>http://deeplink.rechtspraak.nl/uitspraak?id=ECLI:NL:HR:2006:AU6927</th>\n",
       "      <td>2006-02-17</td>\n",
       "      <td>2006</td>\n",
       "      <td>http://psi.rechtspraak.nl/rechtsgebied#civielR...</td>\n",
       "      <td>http://standaarden.overheid.nl/owms/terms/Hoge...</td>\n",
       "      <td>5</td>\n",
       "      <td>1</td>\n",
       "      <td>4</td>\n",
       "      <td>0.032258</td>\n",
       "      <td>0.006452</td>\n",
       "      <td>0.025806</td>\n",
       "      <td>0.000419</td>\n",
       "      <td>6.609275e-13</td>\n",
       "      <td>1.908324e-13</td>\n",
       "    </tr>\n",
       "    <tr>\n",
       "      <th>http://deeplink.rechtspraak.nl/uitspraak?id=ECLI:NL:HR:2013:BZ1721</th>\n",
       "      <td>2013-06-07</td>\n",
       "      <td>2013</td>\n",
       "      <td>http://psi.rechtspraak.nl/rechtsgebied#civielR...</td>\n",
       "      <td>http://standaarden.overheid.nl/owms/terms/Hoge...</td>\n",
       "      <td>6</td>\n",
       "      <td>0</td>\n",
       "      <td>6</td>\n",
       "      <td>0.038710</td>\n",
       "      <td>0.000000</td>\n",
       "      <td>0.038710</td>\n",
       "      <td>0.000000</td>\n",
       "      <td>1.919922e-01</td>\n",
       "      <td>0.000000e+00</td>\n",
       "    </tr>\n",
       "    <tr>\n",
       "      <th>http://deeplink.rechtspraak.nl/uitspraak?id=ECLI:NL:HR:2010:BM7808</th>\n",
       "      <td>2010-10-01</td>\n",
       "      <td>2010</td>\n",
       "      <td>http://psi.rechtspraak.nl/rechtsgebied#civielR...</td>\n",
       "      <td>http://standaarden.overheid.nl/owms/terms/Hoge...</td>\n",
       "      <td>2</td>\n",
       "      <td>0</td>\n",
       "      <td>2</td>\n",
       "      <td>0.012903</td>\n",
       "      <td>0.000000</td>\n",
       "      <td>0.012903</td>\n",
       "      <td>0.000000</td>\n",
       "      <td>8.758659e-72</td>\n",
       "      <td>0.000000e+00</td>\n",
       "    </tr>\n",
       "    <tr>\n",
       "      <th>http://deeplink.rechtspraak.nl/uitspraak?id=ECLI:NL:HR:2004:AO9053</th>\n",
       "      <td>2004-09-10</td>\n",
       "      <td>2004</td>\n",
       "      <td>http://psi.rechtspraak.nl/rechtsgebied#civielR...</td>\n",
       "      <td>http://standaarden.overheid.nl/owms/terms/Hoge...</td>\n",
       "      <td>4</td>\n",
       "      <td>0</td>\n",
       "      <td>4</td>\n",
       "      <td>0.025806</td>\n",
       "      <td>0.000000</td>\n",
       "      <td>0.025806</td>\n",
       "      <td>0.000000</td>\n",
       "      <td>1.694171e-46</td>\n",
       "      <td>0.000000e+00</td>\n",
       "    </tr>\n",
       "  </tbody>\n",
       "</table>\n",
       "</div>"
      ],
      "text/plain": [
       "                                                          date  year  \\\n",
       "id                                                                     \n",
       "http://deeplink.rechtspraak.nl/uitspraak?id=ECL...  2008-12-12  2008   \n",
       "http://deeplink.rechtspraak.nl/uitspraak?id=ECL...  2006-02-17  2006   \n",
       "http://deeplink.rechtspraak.nl/uitspraak?id=ECL...  2013-06-07  2013   \n",
       "http://deeplink.rechtspraak.nl/uitspraak?id=ECL...  2010-10-01  2010   \n",
       "http://deeplink.rechtspraak.nl/uitspraak?id=ECL...  2004-09-10  2004   \n",
       "\n",
       "                                                                                              subject  \\\n",
       "id                                                                                                      \n",
       "http://deeplink.rechtspraak.nl/uitspraak?id=ECL...  http://psi.rechtspraak.nl/rechtsgebied#civielR...   \n",
       "http://deeplink.rechtspraak.nl/uitspraak?id=ECL...  http://psi.rechtspraak.nl/rechtsgebied#civielR...   \n",
       "http://deeplink.rechtspraak.nl/uitspraak?id=ECL...  http://psi.rechtspraak.nl/rechtsgebied#civielR...   \n",
       "http://deeplink.rechtspraak.nl/uitspraak?id=ECL...  http://psi.rechtspraak.nl/rechtsgebied#civielR...   \n",
       "http://deeplink.rechtspraak.nl/uitspraak?id=ECL...  http://psi.rechtspraak.nl/rechtsgebied#civielR...   \n",
       "\n",
       "                                                                                              creator  \\\n",
       "id                                                                                                      \n",
       "http://deeplink.rechtspraak.nl/uitspraak?id=ECL...  http://standaarden.overheid.nl/owms/terms/Hoge...   \n",
       "http://deeplink.rechtspraak.nl/uitspraak?id=ECL...  http://standaarden.overheid.nl/owms/terms/Hoge...   \n",
       "http://deeplink.rechtspraak.nl/uitspraak?id=ECL...  http://standaarden.overheid.nl/owms/terms/Hoge...   \n",
       "http://deeplink.rechtspraak.nl/uitspraak?id=ECL...  http://standaarden.overheid.nl/owms/terms/Hoge...   \n",
       "http://deeplink.rechtspraak.nl/uitspraak?id=ECL...  http://standaarden.overheid.nl/owms/terms/Hoge...   \n",
       "\n",
       "                                                    degree  in_degree  \\\n",
       "id                                                                      \n",
       "http://deeplink.rechtspraak.nl/uitspraak?id=ECL...       8          2   \n",
       "http://deeplink.rechtspraak.nl/uitspraak?id=ECL...       5          1   \n",
       "http://deeplink.rechtspraak.nl/uitspraak?id=ECL...       6          0   \n",
       "http://deeplink.rechtspraak.nl/uitspraak?id=ECL...       2          0   \n",
       "http://deeplink.rechtspraak.nl/uitspraak?id=ECL...       4          0   \n",
       "\n",
       "                                                    out_degree  \\\n",
       "id                                                               \n",
       "http://deeplink.rechtspraak.nl/uitspraak?id=ECL...           6   \n",
       "http://deeplink.rechtspraak.nl/uitspraak?id=ECL...           4   \n",
       "http://deeplink.rechtspraak.nl/uitspraak?id=ECL...           6   \n",
       "http://deeplink.rechtspraak.nl/uitspraak?id=ECL...           2   \n",
       "http://deeplink.rechtspraak.nl/uitspraak?id=ECL...           4   \n",
       "\n",
       "                                                    degree_centrality  \\\n",
       "id                                                                      \n",
       "http://deeplink.rechtspraak.nl/uitspraak?id=ECL...           0.051613   \n",
       "http://deeplink.rechtspraak.nl/uitspraak?id=ECL...           0.032258   \n",
       "http://deeplink.rechtspraak.nl/uitspraak?id=ECL...           0.038710   \n",
       "http://deeplink.rechtspraak.nl/uitspraak?id=ECL...           0.012903   \n",
       "http://deeplink.rechtspraak.nl/uitspraak?id=ECL...           0.025806   \n",
       "\n",
       "                                                    in_degree_centrality  \\\n",
       "id                                                                         \n",
       "http://deeplink.rechtspraak.nl/uitspraak?id=ECL...              0.012903   \n",
       "http://deeplink.rechtspraak.nl/uitspraak?id=ECL...              0.006452   \n",
       "http://deeplink.rechtspraak.nl/uitspraak?id=ECL...              0.000000   \n",
       "http://deeplink.rechtspraak.nl/uitspraak?id=ECL...              0.000000   \n",
       "http://deeplink.rechtspraak.nl/uitspraak?id=ECL...              0.000000   \n",
       "\n",
       "                                                    out_degree_centrality  \\\n",
       "id                                                                          \n",
       "http://deeplink.rechtspraak.nl/uitspraak?id=ECL...               0.038710   \n",
       "http://deeplink.rechtspraak.nl/uitspraak?id=ECL...               0.025806   \n",
       "http://deeplink.rechtspraak.nl/uitspraak?id=ECL...               0.038710   \n",
       "http://deeplink.rechtspraak.nl/uitspraak?id=ECL...               0.012903   \n",
       "http://deeplink.rechtspraak.nl/uitspraak?id=ECL...               0.025806   \n",
       "\n",
       "                                                    betweenness_centrality  \\\n",
       "id                                                                           \n",
       "http://deeplink.rechtspraak.nl/uitspraak?id=ECL...                0.000922   \n",
       "http://deeplink.rechtspraak.nl/uitspraak?id=ECL...                0.000419   \n",
       "http://deeplink.rechtspraak.nl/uitspraak?id=ECL...                0.000000   \n",
       "http://deeplink.rechtspraak.nl/uitspraak?id=ECL...                0.000000   \n",
       "http://deeplink.rechtspraak.nl/uitspraak?id=ECL...                0.000000   \n",
       "\n",
       "                                                            hubs   authorities  \n",
       "id                                                                              \n",
       "http://deeplink.rechtspraak.nl/uitspraak?id=ECL...  8.406351e-03  9.665312e-04  \n",
       "http://deeplink.rechtspraak.nl/uitspraak?id=ECL...  6.609275e-13  1.908324e-13  \n",
       "http://deeplink.rechtspraak.nl/uitspraak?id=ECL...  1.919922e-01  0.000000e+00  \n",
       "http://deeplink.rechtspraak.nl/uitspraak?id=ECL...  8.758659e-72  0.000000e+00  \n",
       "http://deeplink.rechtspraak.nl/uitspraak?id=ECL...  1.694171e-46  0.000000e+00  "
      ]
     },
     "execution_count": 101,
     "metadata": {},
     "output_type": "execute_result"
    }
   ],
   "source": [
    "import pandas as pd\n",
    "result_df = pd.DataFrame(result)\n",
    "result_df = result_df.set_index('id')\n",
    "result_df = result_df[statistics_variables]\n",
    "result_df.head()"
   ]
  },
  {
   "cell_type": "code",
   "execution_count": 104,
   "metadata": {
    "collapsed": false
   },
   "outputs": [],
   "source": [
    "outfile = '/media/sf_VBox_Shared/CaseLaw/spot/wgaans.csv'\n",
    "result_df.to_csv(outfile)"
   ]
  },
  {
   "cell_type": "code",
   "execution_count": 111,
   "metadata": {
    "collapsed": false
   },
   "outputs": [],
   "source": [
    "outfile = '/media/sf_VBox_Shared/CaseLaw/spot/wgaans.json'\n",
    "with open(outfile, 'w') as fp:\n",
    "    json.dump(result, fp)"
   ]
  },
  {
   "cell_type": "code",
   "execution_count": null,
   "metadata": {
    "collapsed": true
   },
   "outputs": [],
   "source": []
  }
 ],
 "metadata": {
  "anaconda-cloud": {},
  "kernelspec": {
   "display_name": "Python [conda env:caselaw]",
   "language": "python",
   "name": "conda-env-caselaw-py"
  },
  "language_info": {
   "codemirror_mode": {
    "name": "ipython",
    "version": 3
   },
   "file_extension": ".py",
   "mimetype": "text/x-python",
   "name": "python",
   "nbconvert_exporter": "python",
   "pygments_lexer": "ipython3",
   "version": "3.5.2"
  }
 },
 "nbformat": 4,
 "nbformat_minor": 0
}
