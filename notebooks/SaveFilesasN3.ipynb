{
 "cells": [
  {
   "cell_type": "code",
   "execution_count": 24,
   "metadata": {
    "collapsed": false
   },
   "outputs": [],
   "source": [
    "import sqlite3\n",
    "from rdflib import Graph, plugin\n",
    "from rdflib.serializer import Serializer\n",
    "import os\n",
    "import re\n",
    "from urllib.error import HTTPError"
   ]
  },
  {
   "cell_type": "code",
   "execution_count": 25,
   "metadata": {
    "collapsed": true
   },
   "outputs": [],
   "source": [
    "conn = sqlite3.connect('rechtspraak.db')\n",
    "c = conn.cursor()"
   ]
  },
  {
   "cell_type": "code",
   "execution_count": 26,
   "metadata": {
    "collapsed": false
   },
   "outputs": [],
   "source": [
    "def retrieve_from_cloudant(ecli, filepath):\n",
    "    g = Graph()\n",
    "    try:\n",
    "        g.parse(\"https://rechtspraak.cloudant.com/docs/\"+ecli, format=\"json-ld\")\n",
    "        fname = os.path.join(filepath, re.sub(':', '_', ecli)+\".n3\")\n",
    "        g.serialize(destination=fname, format=\"n3\")\n",
    "    except HTTPError:\n",
    "        pass\n",
    "    except Exception as e:\n",
    "        print(ecli, e)"
   ]
  },
  {
   "cell_type": "code",
   "execution_count": 27,
   "metadata": {
    "collapsed": true
   },
   "outputs": [],
   "source": [
    "filepath = '/media/sf_VBox_Shared/CaseLaw/n3files'\n",
    "if not os.path.exists(filepath):\n",
    "    os.mkdir(filepath)"
   ]
  },
  {
   "cell_type": "code",
   "execution_count": 28,
   "metadata": {
    "collapsed": false
   },
   "outputs": [],
   "source": [
    "#retrieve_from_cloudant(\"ECLI:NL:GHSHE:2014:1641\", filepath)"
   ]
  },
  {
   "cell_type": "code",
   "execution_count": 29,
   "metadata": {
    "collapsed": false
   },
   "outputs": [
    {
     "name": "stderr",
     "output_type": "stream",
     "text": [
      "WARNING:rdflib.term:1.0:v:BWB:BWBV0001506&artikel=7 (oud)&g=1992-12-23 does not look like a valid URI, trying to serialize this will break.\n"
     ]
    },
    {
     "name": "stdout",
     "output_type": "stream",
     "text": [
      "ECLI:NL:HR:1992:AA2957 \"1.0:v:BWB:BWBV0001506&artikel=7 (oud)&g=1992-12-23\" does not look like a valid URI, I cannot serialize this as N3/Turtle. Perhaps you wanted to urlencode it?\n"
     ]
    },
    {
     "name": "stderr",
     "output_type": "stream",
     "text": [
      "WARNING:rdflib.term:1.0:v:BWB:BWBR0002672&artikel=13 (oud)&g=1994-10-19 does not look like a valid URI, trying to serialize this will break.\n"
     ]
    },
    {
     "name": "stdout",
     "output_type": "stream",
     "text": [
      "ECLI:NL:HR:1994:AA2954 \"1.0:v:BWB:BWBR0002672&artikel=13 (oud)&g=1994-10-19\" does not look like a valid URI, I cannot serialize this as N3/Turtle. Perhaps you wanted to urlencode it?\n"
     ]
    },
    {
     "name": "stderr",
     "output_type": "stream",
     "text": [
      "WARNING:rdflib.term:1.0:v:BWB:BWBR0002471&artikel=32a (oud)&g=1994-09-14 does not look like a valid URI, trying to serialize this will break.\n"
     ]
    },
    {
     "name": "stdout",
     "output_type": "stream",
     "text": [
      "ECLI:NL:HR:1994:AA2960 \"1.0:v:BWB:BWBR0002471&artikel=32a (oud)&g=1994-09-14\" does not look like a valid URI, I cannot serialize this as N3/Turtle. Perhaps you wanted to urlencode it?\n"
     ]
    },
    {
     "name": "stderr",
     "output_type": "stream",
     "text": [
      "WARNING:rdflib.term:1.0:v:BWB:BWBR0005416&artikel=272 (oud)&g=1994-10-19 does not look like a valid URI, trying to serialize this will break.\n",
      "WARNING:rdflib.term:1.0:v:BWB:BWBR0005416&artikel=273 (oud)&g=1994-10-19 does not look like a valid URI, trying to serialize this will break.\n"
     ]
    },
    {
     "name": "stdout",
     "output_type": "stream",
     "text": [
      "ECLI:NL:HR:1994:AA2966 \"1.0:v:BWB:BWBR0005416&artikel=272 (oud)&g=1994-10-19\" does not look like a valid URI, I cannot serialize this as N3/Turtle. Perhaps you wanted to urlencode it?\n"
     ]
    },
    {
     "name": "stderr",
     "output_type": "stream",
     "text": [
      "WARNING:rdflib.term:1.0:v:BWB:BWBR0002629&artikel=50 (oud)&g=1994-09-21 does not look like a valid URI, trying to serialize this will break.\n"
     ]
    },
    {
     "name": "stdout",
     "output_type": "stream",
     "text": [
      "ECLI:NL:HR:1994:AA2970 \"1.0:v:BWB:BWBR0002629&artikel=50 (oud)&g=1994-09-21\" does not look like a valid URI, I cannot serialize this as N3/Turtle. Perhaps you wanted to urlencode it?\n"
     ]
    },
    {
     "name": "stderr",
     "output_type": "stream",
     "text": [
      "WARNING:rdflib.term:1.0:v:BWB:BWBR0002320&artikel=25 (oud)&g=1994-09-14 does not look like a valid URI, trying to serialize this will break.\n"
     ]
    },
    {
     "name": "stdout",
     "output_type": "stream",
     "text": [
      "ECLI:NL:HR:1994:AA2972 \"1.0:v:BWB:BWBR0002320&artikel=25 (oud)&g=1994-09-14\" does not look like a valid URI, I cannot serialize this as N3/Turtle. Perhaps you wanted to urlencode it?\n"
     ]
    },
    {
     "name": "stderr",
     "output_type": "stream",
     "text": [
      "WARNING:rdflib.term:1.0:v:BWB:BWBR0002320&artikel=30c (oud)&g=1994-11-30 does not look like a valid URI, trying to serialize this will break.\n"
     ]
    },
    {
     "name": "stdout",
     "output_type": "stream",
     "text": [
      "ECLI:NL:HR:1994:AA2980 \"1.0:v:BWB:BWBR0002320&artikel=30c (oud)&g=1994-11-30\" does not look like a valid URI, I cannot serialize this as N3/Turtle. Perhaps you wanted to urlencode it?\n"
     ]
    },
    {
     "name": "stderr",
     "output_type": "stream",
     "text": [
      "WARNING:rdflib.term:1.0:v:BWB:BWBR0002320&artikel=47 (oud)&g=1994-11-23 does not look like a valid URI, trying to serialize this will break.\n"
     ]
    },
    {
     "name": "stdout",
     "output_type": "stream",
     "text": [
      "ECLI:NL:HR:1994:AA2982 \"1.0:v:BWB:BWBR0002320&artikel=47 (oud)&g=1994-11-23\" does not look like a valid URI, I cannot serialize this as N3/Turtle. Perhaps you wanted to urlencode it?\n"
     ]
    },
    {
     "name": "stderr",
     "output_type": "stream",
     "text": [
      "WARNING:rdflib.term:1.0:v:BWB:BWBR0002320&artikel=23 (oud)&g=1994-12-07 does not look like a valid URI, trying to serialize this will break.\n",
      "WARNING:rdflib.term:1.0:v:BWB:BWBR0002320&artikel=60 (oud)&g=1994-12-07 does not look like a valid URI, trying to serialize this will break.\n"
     ]
    },
    {
     "name": "stdout",
     "output_type": "stream",
     "text": [
      "ECLI:NL:HR:1994:AA2993 \"1.0:v:BWB:BWBR0002320&artikel=23 (oud)&g=1994-12-07\" does not look like a valid URI, I cannot serialize this as N3/Turtle. Perhaps you wanted to urlencode it?\n"
     ]
    },
    {
     "name": "stderr",
     "output_type": "stream",
     "text": [
      "WARNING:rdflib.term:1.0:v:BWB:BWBR0002221&artikel=26 (oud)&g=1994-12-21 does not look like a valid URI, trying to serialize this will break.\n"
     ]
    },
    {
     "name": "stdout",
     "output_type": "stream",
     "text": [
      "ECLI:NL:HR:1994:AA2996 \"1.0:v:BWB:BWBR0002221&artikel=26 (oud)&g=1994-12-21\" does not look like a valid URI, I cannot serialize this as N3/Turtle. Perhaps you wanted to urlencode it?\n"
     ]
    },
    {
     "name": "stderr",
     "output_type": "stream",
     "text": [
      "WARNING:rdflib.term:1.0:v:BWB:BWBR0005416&artikel=273 (oud)&g=1994-12-21 does not look like a valid URI, trying to serialize this will break.\n"
     ]
    },
    {
     "name": "stdout",
     "output_type": "stream",
     "text": [
      "ECLI:NL:HR:1994:AA2999 \"1.0:v:BWB:BWBR0005416&artikel=273 (oud)&g=1994-12-21\" does not look like a valid URI, I cannot serialize this as N3/Turtle. Perhaps you wanted to urlencode it?\n"
     ]
    },
    {
     "name": "stderr",
     "output_type": "stream",
     "text": [
      "WARNING:rdflib.term:1.0:v:BWB:BWBR0002740&artikel=35 (oud)&g=1994-07-06 does not look like a valid URI, trying to serialize this will break.\n"
     ]
    },
    {
     "name": "stdout",
     "output_type": "stream",
     "text": [
      "ECLI:NL:HR:1994:AA3084 \"1.0:v:BWB:BWBR0002740&artikel=35 (oud)&g=1994-07-06\" does not look like a valid URI, I cannot serialize this as N3/Turtle. Perhaps you wanted to urlencode it?\n"
     ]
    },
    {
     "name": "stderr",
     "output_type": "stream",
     "text": [
      "WARNING:rdflib.term:1.0:v:BWB:BWBR0005416&artikel=276a (oud)&g=1995-11-08 does not look like a valid URI, trying to serialize this will break.\n",
      "WARNING:rdflib.term:1.0:v:BWB:BWBR0005416&artikel=275 (oud)&g=1995-11-08 does not look like a valid URI, trying to serialize this will break.\n"
     ]
    },
    {
     "name": "stdout",
     "output_type": "stream",
     "text": [
      "ECLI:NL:HR:1995:AA1507 \"1.0:v:BWB:BWBR0005416&artikel=276a (oud)&g=1995-11-08\" does not look like a valid URI, I cannot serialize this as N3/Turtle. Perhaps you wanted to urlencode it?\n",
      "ECLI:NL:HR:1995:AA1508 \"1.0:v:BWB:BWBR0005416&artikel=275 (oud)&g=1995-11-08\" does not look like a valid URI, I cannot serialize this as N3/Turtle. Perhaps you wanted to urlencode it?\n"
     ]
    },
    {
     "name": "stderr",
     "output_type": "stream",
     "text": [
      "WARNING:rdflib.term:1.0:v:BWB:BWBR0002320&artikel=28 (oud)&g=1995-09-27 does not look like a valid URI, trying to serialize this will break.\n"
     ]
    },
    {
     "name": "stdout",
     "output_type": "stream",
     "text": [
      "ECLI:NL:HR:1995:AA1510 \"1.0:v:BWB:BWBR0002320&artikel=28 (oud)&g=1995-09-27\" does not look like a valid URI, I cannot serialize this as N3/Turtle. Perhaps you wanted to urlencode it?\n"
     ]
    },
    {
     "name": "stderr",
     "output_type": "stream",
     "text": [
      "WARNING:rdflib.term:1.0:v:BWB:BWBR0002221&artikel=54 (oud)&g=1995-02-01 does not look like a valid URI, trying to serialize this will break.\n",
      "WARNING:rdflib.term:1.0:v:BWB:BWBR0002320&artikel=27 (oud)&g=1995-12-20 does not look like a valid URI, trying to serialize this will break.\n"
     ]
    },
    {
     "name": "stdout",
     "output_type": "stream",
     "text": [
      "ECLI:NL:HR:1995:AA1514 \"1.0:v:BWB:BWBR0002221&artikel=54 (oud)&g=1995-02-01\" does not look like a valid URI, I cannot serialize this as N3/Turtle. Perhaps you wanted to urlencode it?\n",
      "ECLI:NL:HR:1995:AA1517 \"1.0:v:BWB:BWBR0002320&artikel=27 (oud)&g=1995-12-20\" does not look like a valid URI, I cannot serialize this as N3/Turtle. Perhaps you wanted to urlencode it?\n"
     ]
    },
    {
     "name": "stderr",
     "output_type": "stream",
     "text": [
      "WARNING:rdflib.term:1.0:v:BWB:BWBR0002320&artikel=27 (oud)&g=1995-03-29 does not look like a valid URI, trying to serialize this will break.\n"
     ]
    },
    {
     "name": "stdout",
     "output_type": "stream",
     "text": [
      "ECLI:NL:HR:1995:AA1528 \"1.0:v:BWB:BWBR0002320&artikel=27 (oud)&g=1995-03-29\" does not look like a valid URI, I cannot serialize this as N3/Turtle. Perhaps you wanted to urlencode it?\n"
     ]
    },
    {
     "name": "stderr",
     "output_type": "stream",
     "text": [
      "WARNING:rdflib.term:1.0:v:BWB:BWBR0002672&artikel=13 (oud)&g=1995-04-19 does not look like a valid URI, trying to serialize this will break.\n"
     ]
    },
    {
     "name": "stdout",
     "output_type": "stream",
     "text": [
      "ECLI:NL:HR:1995:AA1532 \"1.0:v:BWB:BWBR0002672&artikel=13 (oud)&g=1995-04-19\" does not look like a valid URI, I cannot serialize this as N3/Turtle. Perhaps you wanted to urlencode it?\n"
     ]
    },
    {
     "name": "stderr",
     "output_type": "stream",
     "text": [
      "WARNING:rdflib.term:1.0:v:BWB:BWBR0005416&artikel=270 (oud)&g=1995-03-15 does not look like a valid URI, trying to serialize this will break.\n"
     ]
    },
    {
     "name": "stdout",
     "output_type": "stream",
     "text": [
      "ECLI:NL:HR:1995:AA1535 \"1.0:v:BWB:BWBR0005416&artikel=270 (oud)&g=1995-03-15\" does not look like a valid URI, I cannot serialize this as N3/Turtle. Perhaps you wanted to urlencode it?\n"
     ]
    },
    {
     "name": "stderr",
     "output_type": "stream",
     "text": [
      "WARNING:rdflib.term:1.0:v:BWB:BWBR0005416&artikel=277 (oud)&g=1995-04-05 does not look like a valid URI, trying to serialize this will break.\n"
     ]
    },
    {
     "name": "stdout",
     "output_type": "stream",
     "text": [
      "ECLI:NL:HR:1995:AA1541 \"1.0:v:BWB:BWBR0005416&artikel=277 (oud)&g=1995-04-05\" does not look like a valid URI, I cannot serialize this as N3/Turtle. Perhaps you wanted to urlencode it?\n"
     ]
    },
    {
     "name": "stderr",
     "output_type": "stream",
     "text": [
      "WARNING:rdflib.term:1.0:v:BWB:BWBR0002320&artikel=30c (oud)&g=1995-05-17 does not look like a valid URI, trying to serialize this will break.\n",
      "WARNING:rdflib.term:1.0:v:BWB:BWBR0005416&artikel=275 (oud)&g=1995-04-26 does not look like a valid URI, trying to serialize this will break.\n"
     ]
    },
    {
     "name": "stdout",
     "output_type": "stream",
     "text": [
      "ECLI:NL:HR:1995:AA1570 \"1.0:v:BWB:BWBR0002320&artikel=30c (oud)&g=1995-05-17\" does not look like a valid URI, I cannot serialize this as N3/Turtle. Perhaps you wanted to urlencode it?\n",
      "ECLI:NL:HR:1995:AA1571 \"1.0:v:BWB:BWBR0005416&artikel=275 (oud)&g=1995-04-26\" does not look like a valid URI, I cannot serialize this as N3/Turtle. Perhaps you wanted to urlencode it?\n"
     ]
    },
    {
     "name": "stderr",
     "output_type": "stream",
     "text": [
      "WARNING:rdflib.term:1.0:v:BWB:BWBR0002672&artikel=13 (oud)&g=1995-05-17 does not look like a valid URI, trying to serialize this will break.\n",
      "WARNING:rdflib.term:1.0:v:BWB:BWBR0002672&artikel=13 (oud)&g=1995-05-17 does not look like a valid URI, trying to serialize this will break.\n",
      "WARNING:rdflib.term:1.0:v:BWB:BWBR0005416&artikel=277 (oud)&g=1995-06-14 does not look like a valid URI, trying to serialize this will break.\n"
     ]
    },
    {
     "name": "stdout",
     "output_type": "stream",
     "text": [
      "ECLI:NL:HR:1995:AA1573 \"1.0:v:BWB:BWBR0002672&artikel=13 (oud)&g=1995-05-17\" does not look like a valid URI, I cannot serialize this as N3/Turtle. Perhaps you wanted to urlencode it?\n",
      "ECLI:NL:HR:1995:AA1574 \"1.0:v:BWB:BWBR0005416&artikel=277 (oud)&g=1995-06-14\" does not look like a valid URI, I cannot serialize this as N3/Turtle. Perhaps you wanted to urlencode it?\n"
     ]
    },
    {
     "name": "stderr",
     "output_type": "stream",
     "text": [
      "WARNING:rdflib.term:1.0:v:BWB:BWBR0005416&artikel=270 (oud)&g=1995-05-03 does not look like a valid URI, trying to serialize this will break.\n",
      "WARNING:rdflib.term:1.0:v:BWB:BWBR0005416&artikel=277 (oud)&g=1995-05-03 does not look like a valid URI, trying to serialize this will break.\n",
      "WARNING:rdflib.term:1.0:v:BWB:BWBR0005416&artikel=279 (oud)&g=1995-05-03 does not look like a valid URI, trying to serialize this will break.\n"
     ]
    },
    {
     "name": "stdout",
     "output_type": "stream",
     "text": [
      "ECLI:NL:HR:1995:AA1590 \"1.0:v:BWB:BWBR0005416&artikel=270 (oud)&g=1995-05-03\" does not look like a valid URI, I cannot serialize this as N3/Turtle. Perhaps you wanted to urlencode it?\n"
     ]
    },
    {
     "name": "stderr",
     "output_type": "stream",
     "text": [
      "WARNING:rdflib.term:1.0:v:BWB:BWBR0005416&artikel=274 (oud)&g=1995-04-05 does not look like a valid URI, trying to serialize this will break.\n"
     ]
    },
    {
     "name": "stdout",
     "output_type": "stream",
     "text": [
      "ECLI:NL:HR:1995:AA1594 \"1.0:v:BWB:BWBR0005416&artikel=274 (oud)&g=1995-04-05\" does not look like a valid URI, I cannot serialize this as N3/Turtle. Perhaps you wanted to urlencode it?\n"
     ]
    },
    {
     "name": "stderr",
     "output_type": "stream",
     "text": [
      "WARNING:rdflib.term:1.0:v:BWB:BWBR0002320&artikel=47 (oud)&g=1995-06-07 does not look like a valid URI, trying to serialize this will break.\n"
     ]
    },
    {
     "name": "stdout",
     "output_type": "stream",
     "text": [
      "ECLI:NL:HR:1995:AA1597 \"1.0:v:BWB:BWBR0002320&artikel=47 (oud)&g=1995-06-07\" does not look like a valid URI, I cannot serialize this as N3/Turtle. Perhaps you wanted to urlencode it?\n"
     ]
    },
    {
     "name": "stderr",
     "output_type": "stream",
     "text": [
      "WARNING:rdflib.term:1.0:v:BWB:BWBR0005645&artikel=82 (oud)&g=1995-04-05 does not look like a valid URI, trying to serialize this will break.\n",
      "WARNING:rdflib.term:1.0:v:BWB:BWBR0002629&artikel=50 (oud)&g=1995-07-10 does not look like a valid URI, trying to serialize this will break.\n"
     ]
    },
    {
     "name": "stdout",
     "output_type": "stream",
     "text": [
      "ECLI:NL:HR:1995:AA1602 \"1.0:v:BWB:BWBR0005645&artikel=82 (oud)&g=1995-04-05\" does not look like a valid URI, I cannot serialize this as N3/Turtle. Perhaps you wanted to urlencode it?\n",
      "ECLI:NL:HR:1995:AA1603 \"1.0:v:BWB:BWBR0002629&artikel=50 (oud)&g=1995-07-10\" does not look like a valid URI, I cannot serialize this as N3/Turtle. Perhaps you wanted to urlencode it?\n"
     ]
    },
    {
     "name": "stderr",
     "output_type": "stream",
     "text": [
      "WARNING:rdflib.term:1.0:v:BWB:BWBR0002629&artikel=50 (oud)&g=1995-06-21 does not look like a valid URI, trying to serialize this will break.\n"
     ]
    },
    {
     "name": "stdout",
     "output_type": "stream",
     "text": [
      "ECLI:NL:HR:1995:AA1613 \"1.0:v:BWB:BWBR0002629&artikel=50 (oud)&g=1995-06-21\" does not look like a valid URI, I cannot serialize this as N3/Turtle. Perhaps you wanted to urlencode it?\n"
     ]
    },
    {
     "name": "stderr",
     "output_type": "stream",
     "text": [
      "WARNING:rdflib.term:1.0:v:BWB:BWBR0005416&artikel=274 (oud)&g=1995-06-28 does not look like a valid URI, trying to serialize this will break.\n"
     ]
    },
    {
     "name": "stdout",
     "output_type": "stream",
     "text": [
      "ECLI:NL:HR:1995:AA1627 \"1.0:v:BWB:BWBR0005416&artikel=274 (oud)&g=1995-06-28\" does not look like a valid URI, I cannot serialize this as N3/Turtle. Perhaps you wanted to urlencode it?\n"
     ]
    },
    {
     "name": "stderr",
     "output_type": "stream",
     "text": [
      "WARNING:rdflib.term:1.0:v:BWB:BWBR0005416&artikel=273 (oud)&g=1995-05-31 does not look like a valid URI, trying to serialize this will break.\n"
     ]
    },
    {
     "name": "stdout",
     "output_type": "stream",
     "text": [
      "ECLI:NL:HR:1995:AA1634 \"1.0:v:BWB:BWBR0005416&artikel=273 (oud)&g=1995-05-31\" does not look like a valid URI, I cannot serialize this as N3/Turtle. Perhaps you wanted to urlencode it?\n"
     ]
    },
    {
     "name": "stderr",
     "output_type": "stream",
     "text": [
      "WARNING:rdflib.term:1.0:v:BWB:BWBR0002629&artikel=50 (oud)&g=1995-09-27 does not look like a valid URI, trying to serialize this will break.\n"
     ]
    },
    {
     "name": "stdout",
     "output_type": "stream",
     "text": [
      "ECLI:NL:HR:1995:AA1649 \"1.0:v:BWB:BWBR0002629&artikel=50 (oud)&g=1995-09-27\" does not look like a valid URI, I cannot serialize this as N3/Turtle. Perhaps you wanted to urlencode it?\n"
     ]
    },
    {
     "name": "stderr",
     "output_type": "stream",
     "text": [
      "WARNING:rdflib.term:1.0:v:BWB:BWBR0005416&artikel=272 (oud)&g=1995-07-24 does not look like a valid URI, trying to serialize this will break.\n",
      "WARNING:rdflib.term:1.0:v:BWB:BWBR0005416&artikel=273 (oud)&g=1995-07-24 does not look like a valid URI, trying to serialize this will break.\n"
     ]
    },
    {
     "name": "stdout",
     "output_type": "stream",
     "text": [
      "ECLI:NL:HR:1995:AA1651 \"1.0:v:BWB:BWBR0005416&artikel=272 (oud)&g=1995-07-24\" does not look like a valid URI, I cannot serialize this as N3/Turtle. Perhaps you wanted to urlencode it?\n"
     ]
    },
    {
     "name": "stderr",
     "output_type": "stream",
     "text": [
      "WARNING:rdflib.term:1.0:v:BWB:BWBR0005416&artikel=273 (oud)&g=1995-06-28 does not look like a valid URI, trying to serialize this will break.\n"
     ]
    },
    {
     "name": "stdout",
     "output_type": "stream",
     "text": [
      "ECLI:NL:HR:1995:AA1653 \"1.0:v:BWB:BWBR0005416&artikel=273 (oud)&g=1995-06-28\" does not look like a valid URI, I cannot serialize this as N3/Turtle. Perhaps you wanted to urlencode it?\n"
     ]
    },
    {
     "name": "stderr",
     "output_type": "stream",
     "text": [
      "WARNING:rdflib.term:1.0:v:BWB:BWBR0002629&artikel=8 (oud)&g=1995-09-13 does not look like a valid URI, trying to serialize this will break.\n",
      "WARNING:rdflib.term:1.0:v:BWB:BWBR0005416&artikel=275 (oud)&g=1995-07-24 does not look like a valid URI, trying to serialize this will break.\n"
     ]
    },
    {
     "name": "stdout",
     "output_type": "stream",
     "text": [
      "ECLI:NL:HR:1995:AA1656 \"1.0:v:BWB:BWBR0002629&artikel=8 (oud)&g=1995-09-13\" does not look like a valid URI, I cannot serialize this as N3/Turtle. Perhaps you wanted to urlencode it?\n",
      "ECLI:NL:HR:1995:AA1657 \"1.0:v:BWB:BWBR0005416&artikel=275 (oud)&g=1995-07-24\" does not look like a valid URI, I cannot serialize this as N3/Turtle. Perhaps you wanted to urlencode it?\n"
     ]
    },
    {
     "name": "stderr",
     "output_type": "stream",
     "text": [
      "WARNING:rdflib.term:1.0:v:BWB:BWBR0002672&artikel=13 (oud)&g=1995-09-06 does not look like a valid URI, trying to serialize this will break.\n"
     ]
    },
    {
     "name": "stdout",
     "output_type": "stream",
     "text": [
      "ECLI:NL:HR:1995:AA1674 \"1.0:v:BWB:BWBR0002672&artikel=13 (oud)&g=1995-09-06\" does not look like a valid URI, I cannot serialize this as N3/Turtle. Perhaps you wanted to urlencode it?\n"
     ]
    },
    {
     "name": "stderr",
     "output_type": "stream",
     "text": [
      "WARNING:rdflib.term:1.0:v:BWB:BWBR0005416&artikel=273 (oud)&g=1995-01-04 does not look like a valid URI, trying to serialize this will break.\n",
      "WARNING:rdflib.term:1.0:v:BWB:BWBR0005416&artikel=270 (oud)&g=1995-02-15 does not look like a valid URI, trying to serialize this will break.\n"
     ]
    },
    {
     "name": "stdout",
     "output_type": "stream",
     "text": [
      "ECLI:NL:HR:1995:AA3021 \"1.0:v:BWB:BWBR0005416&artikel=273 (oud)&g=1995-01-04\" does not look like a valid URI, I cannot serialize this as N3/Turtle. Perhaps you wanted to urlencode it?\n",
      "ECLI:NL:HR:1995:AA3022 \"1.0:v:BWB:BWBR0005416&artikel=270 (oud)&g=1995-02-15\" does not look like a valid URI, I cannot serialize this as N3/Turtle. Perhaps you wanted to urlencode it?\n"
     ]
    },
    {
     "name": "stderr",
     "output_type": "stream",
     "text": [
      "WARNING:rdflib.term:1.0:v:BWB:BWBR0002471&artikel=26a (oud)&g=1995-01-25 does not look like a valid URI, trying to serialize this will break.\n"
     ]
    },
    {
     "name": "stdout",
     "output_type": "stream",
     "text": [
      "ECLI:NL:HR:1995:AA3023 \"1.0:v:BWB:BWBR0002471&artikel=26a (oud)&g=1995-01-25\" does not look like a valid URI, I cannot serialize this as N3/Turtle. Perhaps you wanted to urlencode it?\n"
     ]
    },
    {
     "name": "stderr",
     "output_type": "stream",
     "text": [
      "WARNING:rdflib.term:1.0:v:BWB:BWBR0005416&artikel=270 (oud)&g=1995-02-08 does not look like a valid URI, trying to serialize this will break.\n",
      "WARNING:rdflib.term:1.0:v:BWB:BWBR0005416&artikel=277 (oud)&g=1995-02-08 does not look like a valid URI, trying to serialize this will break.\n"
     ]
    },
    {
     "name": "stdout",
     "output_type": "stream",
     "text": [
      "ECLI:NL:HR:1995:AA3033 \"1.0:v:BWB:BWBR0005416&artikel=270 (oud)&g=1995-02-08\" does not look like a valid URI, I cannot serialize this as N3/Turtle. Perhaps you wanted to urlencode it?\n"
     ]
    },
    {
     "name": "stderr",
     "output_type": "stream",
     "text": [
      "WARNING:rdflib.term:1.0:v:BWB:BWBR0002471&artikel=32a (oud)&g=1995-01-11 does not look like a valid URI, trying to serialize this will break.\n"
     ]
    },
    {
     "name": "stdout",
     "output_type": "stream",
     "text": [
      "ECLI:NL:HR:1995:AA3054 \"1.0:v:BWB:BWBR0002471&artikel=32a (oud)&g=1995-01-11\" does not look like a valid URI, I cannot serialize this as N3/Turtle. Perhaps you wanted to urlencode it?\n"
     ]
    },
    {
     "name": "stderr",
     "output_type": "stream",
     "text": [
      "WARNING:rdflib.term:1.0:v:BWB:BWBR0002320&artikel=47 (oud)&g=1995-03-08 does not look like a valid URI, trying to serialize this will break.\n"
     ]
    },
    {
     "name": "stdout",
     "output_type": "stream",
     "text": [
      "ECLI:NL:HR:1995:AA3068 \"1.0:v:BWB:BWBR0002320&artikel=47 (oud)&g=1995-03-08\" does not look like a valid URI, I cannot serialize this as N3/Turtle. Perhaps you wanted to urlencode it?\n"
     ]
    },
    {
     "name": "stderr",
     "output_type": "stream",
     "text": [
      "WARNING:rdflib.term:1.0:v:BWB:BWBR0002672&artikel=13 (oud)&g=1995-03-15 does not look like a valid URI, trying to serialize this will break.\n"
     ]
    },
    {
     "name": "stdout",
     "output_type": "stream",
     "text": [
      "ECLI:NL:HR:1995:AA3078 \"1.0:v:BWB:BWBR0002672&artikel=13 (oud)&g=1995-03-15\" does not look like a valid URI, I cannot serialize this as N3/Turtle. Perhaps you wanted to urlencode it?\n"
     ]
    },
    {
     "name": "stderr",
     "output_type": "stream",
     "text": [
      "WARNING:rdflib.term:1.0:v:BWB:BWBR0002320&artikel=30c (oud)&g=1995-11-01 does not look like a valid URI, trying to serialize this will break.\n",
      "WARNING:rdflib.term:1.0:v:BWB:BWBR0005416&artikel=274 (oud)&g=1995-03-01 does not look like a valid URI, trying to serialize this will break.\n"
     ]
    },
    {
     "name": "stdout",
     "output_type": "stream",
     "text": [
      "ECLI:NL:HR:1995:AA3087 \"1.0:v:BWB:BWBR0002320&artikel=30c (oud)&g=1995-11-01\" does not look like a valid URI, I cannot serialize this as N3/Turtle. Perhaps you wanted to urlencode it?\n",
      "ECLI:NL:HR:1995:AA3088 \"1.0:v:BWB:BWBR0005416&artikel=274 (oud)&g=1995-03-01\" does not look like a valid URI, I cannot serialize this as N3/Turtle. Perhaps you wanted to urlencode it?\n"
     ]
    },
    {
     "name": "stderr",
     "output_type": "stream",
     "text": [
      "WARNING:rdflib.term:1.0:v:BWB:BWBR0002368&artikel=26 (oud)&g=1995-02-15 does not look like a valid URI, trying to serialize this will break.\n",
      "WARNING:rdflib.term:1.0:v:BWB:BWBR0002614&artikel=20 (oud)&g=1995-02-15 does not look like a valid URI, trying to serialize this will break.\n"
     ]
    },
    {
     "name": "stdout",
     "output_type": "stream",
     "text": [
      "ECLI:NL:HR:1995:AA3090 \"1.0:v:BWB:BWBR0002368&artikel=26 (oud)&g=1995-02-15\" does not look like a valid URI, I cannot serialize this as N3/Turtle. Perhaps you wanted to urlencode it?\n"
     ]
    },
    {
     "name": "stderr",
     "output_type": "stream",
     "text": [
      "WARNING:rdflib.term:1.0:v:BWB:BWBR0005416&artikel=270 (oud)&g=1995-09-20 does not look like a valid URI, trying to serialize this will break.\n",
      "WARNING:rdflib.term:1.0:v:BWB:BWBR0005416&artikel=277 (oud)&g=1995-09-20 does not look like a valid URI, trying to serialize this will break.\n",
      "WARNING:rdflib.term:1.0:v:BWB:BWBR0005416&artikel=277 (oud)&g=1995-09-20 does not look like a valid URI, trying to serialize this will break.\n"
     ]
    },
    {
     "name": "stdout",
     "output_type": "stream",
     "text": [
      "ECLI:NL:HR:1995:AA3102 \"1.0:v:BWB:BWBR0005416&artikel=270 (oud)&g=1995-09-20\" does not look like a valid URI, I cannot serialize this as N3/Turtle. Perhaps you wanted to urlencode it?\n"
     ]
    },
    {
     "name": "stderr",
     "output_type": "stream",
     "text": [
      "WARNING:rdflib.term:1.0:v:BWB:BWBR0002629&artikel=50 (oud)&g=1995-11-15 does not look like a valid URI, trying to serialize this will break.\n"
     ]
    },
    {
     "name": "stdout",
     "output_type": "stream",
     "text": [
      "ECLI:NL:HR:1995:AA3104 \"1.0:v:BWB:BWBR0002629&artikel=50 (oud)&g=1995-11-15\" does not look like a valid URI, I cannot serialize this as N3/Turtle. Perhaps you wanted to urlencode it?\n"
     ]
    },
    {
     "name": "stderr",
     "output_type": "stream",
     "text": [
      "WARNING:rdflib.term:1.0:v:BWB:BWBR0002672&artikel=23b (oud)&g=1995-10-18 does not look like a valid URI, trying to serialize this will break.\n",
      "WARNING:rdflib.term:1.0:v:BWB:BWBR0002672&artikel=23c (oud)&g=1995-10-18 does not look like a valid URI, trying to serialize this will break.\n"
     ]
    },
    {
     "name": "stdout",
     "output_type": "stream",
     "text": [
      "ECLI:NL:HR:1995:AA3113 \"1.0:v:BWB:BWBR0002672&artikel=23b (oud)&g=1995-10-18\" does not look like a valid URI, I cannot serialize this as N3/Turtle. Perhaps you wanted to urlencode it?\n"
     ]
    },
    {
     "name": "stderr",
     "output_type": "stream",
     "text": [
      "WARNING:rdflib.term:1.0:v:BWB:BWBR0005416&artikel=276a (oud)&g=1995-11-22 does not look like a valid URI, trying to serialize this will break.\n",
      "WARNING:rdflib.term:1.0:v:BWB:BWBR0005416&artikel=283a (oud)&g=1995-11-22 does not look like a valid URI, trying to serialize this will break.\n"
     ]
    },
    {
     "name": "stdout",
     "output_type": "stream",
     "text": [
      "ECLI:NL:HR:1995:AA3117 \"1.0:v:BWB:BWBR0005416&artikel=276a (oud)&g=1995-11-22\" does not look like a valid URI, I cannot serialize this as N3/Turtle. Perhaps you wanted to urlencode it?\n"
     ]
    },
    {
     "name": "stderr",
     "output_type": "stream",
     "text": [
      "WARNING:rdflib.term:1.0:v:BWB:BWBR0002629&artikel=50 (oud)&g=1995-09-27 does not look like a valid URI, trying to serialize this will break.\n"
     ]
    },
    {
     "name": "stdout",
     "output_type": "stream",
     "text": [
      "ECLI:NL:HR:1995:AA3120 \"1.0:v:BWB:BWBR0002629&artikel=50 (oud)&g=1995-09-27\" does not look like a valid URI, I cannot serialize this as N3/Turtle. Perhaps you wanted to urlencode it?\n"
     ]
    },
    {
     "name": "stderr",
     "output_type": "stream",
     "text": [
      "WARNING:rdflib.term:1.0:v:BWB:BWBR0005416&artikel=276a (oud)&g=1995-11-22 does not look like a valid URI, trying to serialize this will break.\n",
      "WARNING:rdflib.term:1.0:v:BWB:BWBR0005416&artikel=276a (oud)&g=1995-10-18 does not look like a valid URI, trying to serialize this will break.\n",
      "WARNING:rdflib.term:1.0:v:BWB:BWBR0005416&artikel=283a (oud)&g=1995-10-18 does not look like a valid URI, trying to serialize this will break.\n",
      "WARNING:rdflib.term:1.0:v:BWB:BWBR0005416&artikel=283b (oud)&g=1995-10-18 does not look like a valid URI, trying to serialize this will break.\n"
     ]
    },
    {
     "name": "stdout",
     "output_type": "stream",
     "text": [
      "ECLI:NL:HR:1995:AA3126 \"1.0:v:BWB:BWBR0005416&artikel=276a (oud)&g=1995-11-22\" does not look like a valid URI, I cannot serialize this as N3/Turtle. Perhaps you wanted to urlencode it?\n",
      "ECLI:NL:HR:1995:AA3127 \"1.0:v:BWB:BWBR0005416&artikel=276a (oud)&g=1995-10-18\" does not look like a valid URI, I cannot serialize this as N3/Turtle. Perhaps you wanted to urlencode it?\n"
     ]
    },
    {
     "name": "stderr",
     "output_type": "stream",
     "text": [
      "WARNING:rdflib.term:1.0:v:BWB:BWBR0005416&artikel=273 (oud)&g=1995-12-06 does not look like a valid URI, trying to serialize this will break.\n"
     ]
    },
    {
     "name": "stdout",
     "output_type": "stream",
     "text": [
      "ECLI:NL:HR:1995:AA3129 \"1.0:v:BWB:BWBR0005416&artikel=273 (oud)&g=1995-12-06\" does not look like a valid URI, I cannot serialize this as N3/Turtle. Perhaps you wanted to urlencode it?\n"
     ]
    },
    {
     "name": "stderr",
     "output_type": "stream",
     "text": [
      "WARNING:rdflib.term:1.0:v:BWB:BWBR0005416&artikel=273 (oud)&g=1995-11-29 does not look like a valid URI, trying to serialize this will break.\n"
     ]
    },
    {
     "name": "stdout",
     "output_type": "stream",
     "text": [
      "ECLI:NL:HR:1995:AA3142 \"1.0:v:BWB:BWBR0005416&artikel=273 (oud)&g=1995-11-29\" does not look like a valid URI, I cannot serialize this as N3/Turtle. Perhaps you wanted to urlencode it?\n"
     ]
    },
    {
     "name": "stderr",
     "output_type": "stream",
     "text": [
      "WARNING:rdflib.term:1.0:v:BWB:BWBR0002320&artikel=23 (oud)&g=1995-12-20 does not look like a valid URI, trying to serialize this will break.\n"
     ]
    },
    {
     "name": "stdout",
     "output_type": "stream",
     "text": [
      "ECLI:NL:HR:1995:AA3157 \"1.0:v:BWB:BWBR0002320&artikel=23 (oud)&g=1995-12-20\" does not look like a valid URI, I cannot serialize this as N3/Turtle. Perhaps you wanted to urlencode it?\n"
     ]
    },
    {
     "name": "stderr",
     "output_type": "stream",
     "text": [
      "WARNING:rdflib.term:1.0:v:BWB:BWBR0005416&artikel=273a (oud)&g=1995-12-20 does not look like a valid URI, trying to serialize this will break.\n"
     ]
    },
    {
     "name": "stdout",
     "output_type": "stream",
     "text": [
      "ECLI:NL:HR:1995:AA3163 \"1.0:v:BWB:BWBR0005416&artikel=273a (oud)&g=1995-12-20\" does not look like a valid URI, I cannot serialize this as N3/Turtle. Perhaps you wanted to urlencode it?\n"
     ]
    },
    {
     "name": "stderr",
     "output_type": "stream",
     "text": [
      "WARNING:rdflib.term:1.0:v:BWB:BWBR0002320&artikel=49 (oud)&g=1995-12-13 does not look like a valid URI, trying to serialize this will break.\n",
      "WARNING:rdflib.term:1.0:v:BWB:BWBR0002320&artikel=30a (oud)&g=1995-11-29 does not look like a valid URI, trying to serialize this will break.\n",
      "WARNING:rdflib.term:1.0:v:BWB:BWBR0002320&artikel=30c (oud)&g=1995-11-29 does not look like a valid URI, trying to serialize this will break.\n"
     ]
    },
    {
     "name": "stdout",
     "output_type": "stream",
     "text": [
      "ECLI:NL:HR:1995:AA3171 \"1.0:v:BWB:BWBR0002320&artikel=49 (oud)&g=1995-12-13\" does not look like a valid URI, I cannot serialize this as N3/Turtle. Perhaps you wanted to urlencode it?\n",
      "ECLI:NL:HR:1995:AA3172 \"1.0:v:BWB:BWBR0002320&artikel=30a (oud)&g=1995-11-29\" does not look like a valid URI, I cannot serialize this as N3/Turtle. Perhaps you wanted to urlencode it?\n"
     ]
    },
    {
     "name": "stderr",
     "output_type": "stream",
     "text": [
      "WARNING:rdflib.term:1.0:v:BWB:BWBR0002320&artikel=25 (oud)&g=1996-07-19 does not look like a valid URI, trying to serialize this will break.\n"
     ]
    },
    {
     "name": "stdout",
     "output_type": "stream",
     "text": [
      "ECLI:NL:HR:1996:AA1496 \"1.0:v:BWB:BWBR0002320&artikel=25 (oud)&g=1996-07-19\" does not look like a valid URI, I cannot serialize this as N3/Turtle. Perhaps you wanted to urlencode it?\n"
     ]
    },
    {
     "name": "stderr",
     "output_type": "stream",
     "text": [
      "WARNING:rdflib.term:1.0:v:BWB:BWBR0005645&artikel=82 (oud)&g=1996-10-23 does not look like a valid URI, trying to serialize this will break.\n"
     ]
    },
    {
     "name": "stdout",
     "output_type": "stream",
     "text": [
      "ECLI:NL:HR:1996:AA1503 \"1.0:v:BWB:BWBR0005645&artikel=82 (oud)&g=1996-10-23\" does not look like a valid URI, I cannot serialize this as N3/Turtle. Perhaps you wanted to urlencode it?\n"
     ]
    },
    {
     "name": "stderr",
     "output_type": "stream",
     "text": [
      "WARNING:rdflib.term:1.0:v:BWB:BWBR0002629&artikel=22 (oud)&g=1996-10-02 does not look like a valid URI, trying to serialize this will break.\n"
     ]
    },
    {
     "name": "stdout",
     "output_type": "stream",
     "text": [
      "ECLI:NL:HR:1996:AA1696 \"1.0:v:BWB:BWBR0002629&artikel=22 (oud)&g=1996-10-02\" does not look like a valid URI, I cannot serialize this as N3/Turtle. Perhaps you wanted to urlencode it?\n"
     ]
    },
    {
     "name": "stderr",
     "output_type": "stream",
     "text": [
      "WARNING:rdflib.term:1.0:v:BWB:BWBR0002629&artikel=22 (oud)&g=1996-10-09 does not look like a valid URI, trying to serialize this will break.\n"
     ]
    },
    {
     "name": "stdout",
     "output_type": "stream",
     "text": [
      "ECLI:NL:HR:1996:AA1706 \"1.0:v:BWB:BWBR0002629&artikel=22 (oud)&g=1996-10-09\" does not look like a valid URI, I cannot serialize this as N3/Turtle. Perhaps you wanted to urlencode it?\n"
     ]
    },
    {
     "name": "stderr",
     "output_type": "stream",
     "text": [
      "WARNING:rdflib.term:1.0:v:BWB:BWBR0002320&artikel=30d (oud)&g=1996-10-16 does not look like a valid URI, trying to serialize this will break.\n"
     ]
    },
    {
     "name": "stdout",
     "output_type": "stream",
     "text": [
      "ECLI:NL:HR:1996:AA1714 \"1.0:v:BWB:BWBR0002320&artikel=30d (oud)&g=1996-10-16\" does not look like a valid URI, I cannot serialize this as N3/Turtle. Perhaps you wanted to urlencode it?\n"
     ]
    },
    {
     "name": "stderr",
     "output_type": "stream",
     "text": [
      "WARNING:rdflib.term:1.0:v:BWB:BWBR0005416&artikel=274 (oud)&g=1996-11-06 does not look like a valid URI, trying to serialize this will break.\n"
     ]
    },
    {
     "name": "stdout",
     "output_type": "stream",
     "text": [
      "ECLI:NL:HR:1996:AA1730 \"1.0:v:BWB:BWBR0005416&artikel=274 (oud)&g=1996-11-06\" does not look like a valid URI, I cannot serialize this as N3/Turtle. Perhaps you wanted to urlencode it?\n"
     ]
    },
    {
     "name": "stderr",
     "output_type": "stream",
     "text": [
      "WARNING:rdflib.term:1.0:v:BWB:BWBR0005806&artikel=3 (oud)&g=1996-11-06 does not look like a valid URI, trying to serialize this will break.\n",
      "WARNING:rdflib.term:1.0:v:BWB:BWBR0002672&artikel=23b (oud)&g=1996-10-30 does not look like a valid URI, trying to serialize this will break.\n"
     ]
    },
    {
     "name": "stdout",
     "output_type": "stream",
     "text": [
      "ECLI:NL:HR:1996:AA1733 \"1.0:v:BWB:BWBR0005806&artikel=3 (oud)&g=1996-11-06\" does not look like a valid URI, I cannot serialize this as N3/Turtle. Perhaps you wanted to urlencode it?\n",
      "ECLI:NL:HR:1996:AA1734 \"1.0:v:BWB:BWBR0002672&artikel=23b (oud)&g=1996-10-30\" does not look like a valid URI, I cannot serialize this as N3/Turtle. Perhaps you wanted to urlencode it?\n"
     ]
    },
    {
     "name": "stderr",
     "output_type": "stream",
     "text": [
      "WARNING:rdflib.term:1.0:v:BWB:BWBR0005416&artikel=276 (oud)&g=1996-11-06 does not look like a valid URI, trying to serialize this will break.\n"
     ]
    },
    {
     "name": "stdout",
     "output_type": "stream",
     "text": [
      "ECLI:NL:HR:1996:AA1737 \"1.0:v:BWB:BWBR0005416&artikel=276 (oud)&g=1996-11-06\" does not look like a valid URI, I cannot serialize this as N3/Turtle. Perhaps you wanted to urlencode it?\n"
     ]
    },
    {
     "name": "stderr",
     "output_type": "stream",
     "text": [
      "WARNING:rdflib.term:1.0:v:BWB:BWBR0005416&artikel=273 (oud)&g=1996-09-25 does not look like a valid URI, trying to serialize this will break.\n",
      "WARNING:rdflib.term:1.0:v:BWB:BWBR0005416&artikel=273 (oud)&g=1996-09-25 does not look like a valid URI, trying to serialize this will break.\n"
     ]
    },
    {
     "name": "stdout",
     "output_type": "stream",
     "text": [
      "ECLI:NL:HR:1996:AA1745 \"1.0:v:BWB:BWBR0005416&artikel=273 (oud)&g=1996-09-25\" does not look like a valid URI, I cannot serialize this as N3/Turtle. Perhaps you wanted to urlencode it?\n",
      "ECLI:NL:HR:1996:AA1746 \"1.0:v:BWB:BWBR0005416&artikel=273 (oud)&g=1996-09-25\" does not look like a valid URI, I cannot serialize this as N3/Turtle. Perhaps you wanted to urlencode it?\n"
     ]
    },
    {
     "name": "stderr",
     "output_type": "stream",
     "text": [
      "WARNING:rdflib.term:1.0:v:BWB:BWBR0005416&artikel=220 (oud)&g=1996-11-27 does not look like a valid URI, trying to serialize this will break.\n",
      "WARNING:rdflib.term:1.0:v:BWB:BWBR0002320&artikel=23 (oud)&g=1996-11-20 does not look like a valid URI, trying to serialize this will break.\n"
     ]
    },
    {
     "name": "stdout",
     "output_type": "stream",
     "text": [
      "ECLI:NL:HR:1996:AA1754 \"1.0:v:BWB:BWBR0005416&artikel=220 (oud)&g=1996-11-27\" does not look like a valid URI, I cannot serialize this as N3/Turtle. Perhaps you wanted to urlencode it?\n",
      "ECLI:NL:HR:1996:AA1755 \"1.0:v:BWB:BWBR0002320&artikel=23 (oud)&g=1996-11-20\" does not look like a valid URI, I cannot serialize this as N3/Turtle. Perhaps you wanted to urlencode it?\n"
     ]
    },
    {
     "name": "stderr",
     "output_type": "stream",
     "text": [
      "WARNING:rdflib.term:1.0:v:BWB:BWBR0002672&artikel=13 (oud)&g=1996-11-13 does not look like a valid URI, trying to serialize this will break.\n"
     ]
    },
    {
     "name": "stdout",
     "output_type": "stream",
     "text": [
      "ECLI:NL:HR:1996:AA1757 \"1.0:v:BWB:BWBR0002672&artikel=13 (oud)&g=1996-11-13\" does not look like a valid URI, I cannot serialize this as N3/Turtle. Perhaps you wanted to urlencode it?\n"
     ]
    },
    {
     "name": "stderr",
     "output_type": "stream",
     "text": [
      "WARNING:rdflib.term:1.0:v:BWB:BWBR0002672&artikel=13 (oud)&g=1996-12-04 does not look like a valid URI, trying to serialize this will break.\n"
     ]
    },
    {
     "name": "stdout",
     "output_type": "stream",
     "text": [
      "ECLI:NL:HR:1996:AA1780 \"1.0:v:BWB:BWBR0002672&artikel=13 (oud)&g=1996-12-04\" does not look like a valid URI, I cannot serialize this as N3/Turtle. Perhaps you wanted to urlencode it?\n"
     ]
    },
    {
     "name": "stderr",
     "output_type": "stream",
     "text": [
      "WARNING:rdflib.term:1.0:v:BWB:BWBR0005416&artikel=273 (oud)&g=1996-11-20 does not look like a valid URI, trying to serialize this will break.\n"
     ]
    },
    {
     "name": "stdout",
     "output_type": "stream",
     "text": [
      "ECLI:NL:HR:1996:AA1782 \"1.0:v:BWB:BWBR0005416&artikel=273 (oud)&g=1996-11-20\" does not look like a valid URI, I cannot serialize this as N3/Turtle. Perhaps you wanted to urlencode it?\n"
     ]
    },
    {
     "name": "stderr",
     "output_type": "stream",
     "text": [
      "WARNING:rdflib.term:1.0:v:BWB:BWBR0002320&artikel=25 (oud)&g=1996-07-19 does not look like a valid URI, trying to serialize this will break.\n"
     ]
    },
    {
     "name": "stdout",
     "output_type": "stream",
     "text": [
      "ECLI:NL:HR:1996:AA1793 \"1.0:v:BWB:BWBR0002320&artikel=25 (oud)&g=1996-07-19\" does not look like a valid URI, I cannot serialize this as N3/Turtle. Perhaps you wanted to urlencode it?\n"
     ]
    },
    {
     "name": "stderr",
     "output_type": "stream",
     "text": [
      "WARNING:rdflib.term:1.0:v:BWB:BWBR0005416&artikel=273 (oud)&g=1996-07-19 does not look like a valid URI, trying to serialize this will break.\n"
     ]
    },
    {
     "name": "stdout",
     "output_type": "stream",
     "text": [
      "ECLI:NL:HR:1996:AA1794 \"1.0:v:BWB:BWBR0005416&artikel=273 (oud)&g=1996-07-19\" does not look like a valid URI, I cannot serialize this as N3/Turtle. Perhaps you wanted to urlencode it?\n"
     ]
    },
    {
     "name": "stderr",
     "output_type": "stream",
     "text": [
      "WARNING:rdflib.term:1.0:v:BWB:BWBR0005416&artikel=277 (oud)&g=1996-12-18 does not look like a valid URI, trying to serialize this will break.\n"
     ]
    },
    {
     "name": "stdout",
     "output_type": "stream",
     "text": [
      "ECLI:NL:HR:1996:AA1795 \"1.0:v:BWB:BWBR0005416&artikel=277 (oud)&g=1996-12-18\" does not look like a valid URI, I cannot serialize this as N3/Turtle. Perhaps you wanted to urlencode it?\n"
     ]
    },
    {
     "name": "stderr",
     "output_type": "stream",
     "text": [
      "WARNING:rdflib.term:1.0:v:BWB:BWBR0002320&artikel=24 (oud)&g=1996-07-08 does not look like a valid URI, trying to serialize this will break.\n"
     ]
    },
    {
     "name": "stdout",
     "output_type": "stream",
     "text": [
      "ECLI:NL:HR:1996:AA1798 \"1.0:v:BWB:BWBR0002320&artikel=24 (oud)&g=1996-07-08\" does not look like a valid URI, I cannot serialize this as N3/Turtle. Perhaps you wanted to urlencode it?\n"
     ]
    },
    {
     "name": "stderr",
     "output_type": "stream",
     "text": [
      "WARNING:rdflib.term:1.0:v:BWB:BWBR0005416&artikel=277 (oud)&g=1996-04-10 does not look like a valid URI, trying to serialize this will break.\n"
     ]
    },
    {
     "name": "stdout",
     "output_type": "stream",
     "text": [
      "ECLI:NL:HR:1996:AA1802 \"1.0:v:BWB:BWBR0005416&artikel=277 (oud)&g=1996-04-10\" does not look like a valid URI, I cannot serialize this as N3/Turtle. Perhaps you wanted to urlencode it?\n"
     ]
    },
    {
     "name": "stderr",
     "output_type": "stream",
     "text": [
      "WARNING:rdflib.term:1.0:v:BWB:BWBR0002320&artikel=24 (oud)&g=1996-04-10 does not look like a valid URI, trying to serialize this will break.\n"
     ]
    },
    {
     "name": "stdout",
     "output_type": "stream",
     "text": [
      "ECLI:NL:HR:1996:AA1808 \"1.0:v:BWB:BWBR0002320&artikel=24 (oud)&g=1996-04-10\" does not look like a valid URI, I cannot serialize this as N3/Turtle. Perhaps you wanted to urlencode it?\n"
     ]
    },
    {
     "name": "stderr",
     "output_type": "stream",
     "text": [
      "WARNING:rdflib.term:1.0:v:BWB:BWBR0002770&artikel=12 (oud)&g=1996-04-10 does not look like a valid URI, trying to serialize this will break.\n",
      "WARNING:rdflib.term:1.0:v:BWB:BWBR0002672&artikel=13 (oud)&g=1996-03-13 does not look like a valid URI, trying to serialize this will break.\n"
     ]
    },
    {
     "name": "stdout",
     "output_type": "stream",
     "text": [
      "ECLI:NL:HR:1996:AA1810 \"1.0:v:BWB:BWBR0002770&artikel=12 (oud)&g=1996-04-10\" does not look like a valid URI, I cannot serialize this as N3/Turtle. Perhaps you wanted to urlencode it?\n",
      "ECLI:NL:HR:1996:AA1811 \"1.0:v:BWB:BWBR0002672&artikel=13 (oud)&g=1996-03-13\" does not look like a valid URI, I cannot serialize this as N3/Turtle. Perhaps you wanted to urlencode it?\n"
     ]
    },
    {
     "name": "stderr",
     "output_type": "stream",
     "text": [
      "WARNING:rdflib.term:1.0:v:BWB:BWBR0002740&artikel=35 (oud)&g=1996-02-28 does not look like a valid URI, trying to serialize this will break.\n"
     ]
    },
    {
     "name": "stdout",
     "output_type": "stream",
     "text": [
      "ECLI:NL:HR:1996:AA1812 \"1.0:v:BWB:BWBR0002740&artikel=35 (oud)&g=1996-02-28\" does not look like a valid URI, I cannot serialize this as N3/Turtle. Perhaps you wanted to urlencode it?\n"
     ]
    },
    {
     "name": "stderr",
     "output_type": "stream",
     "text": [
      "WARNING:rdflib.term:1.0:v:BWB:BWBR0002320&artikel=30c (oud)&g=1996-05-29 does not look like a valid URI, trying to serialize this will break.\n",
      "WARNING:rdflib.term:1.0:v:BWB:BWBR0002682&artikel=17 (oud)&g=1996-03-13 does not look like a valid URI, trying to serialize this will break.\n"
     ]
    },
    {
     "name": "stdout",
     "output_type": "stream",
     "text": [
      "ECLI:NL:HR:1996:AA1821 \"1.0:v:BWB:BWBR0002320&artikel=30c (oud)&g=1996-05-29\" does not look like a valid URI, I cannot serialize this as N3/Turtle. Perhaps you wanted to urlencode it?\n",
      "ECLI:NL:HR:1996:AA1822 \"1.0:v:BWB:BWBR0002682&artikel=17 (oud)&g=1996-03-13\" does not look like a valid URI, I cannot serialize this as N3/Turtle. Perhaps you wanted to urlencode it?\n"
     ]
    },
    {
     "name": "stderr",
     "output_type": "stream",
     "text": [
      "WARNING:rdflib.term:1.0:v:BWB:BWBR0002320&artikel=47 (oud)&g=1996-04-17 does not look like a valid URI, trying to serialize this will break.\n"
     ]
    },
    {
     "name": "stdout",
     "output_type": "stream",
     "text": [
      "ECLI:NL:HR:1996:AA1823 \"1.0:v:BWB:BWBR0002320&artikel=47 (oud)&g=1996-04-17\" does not look like a valid URI, I cannot serialize this as N3/Turtle. Perhaps you wanted to urlencode it?\n"
     ]
    },
    {
     "name": "stderr",
     "output_type": "stream",
     "text": [
      "WARNING:rdflib.term:1.0:v:BWB:BWBR0002320&artikel=28 (oud)&g=1996-04-17 does not look like a valid URI, trying to serialize this will break.\n",
      "WARNING:rdflib.term:1.0:v:BWB:BWBR0002629&artikel=50 (oud)&g=1996-03-06 does not look like a valid URI, trying to serialize this will break.\n"
     ]
    },
    {
     "name": "stdout",
     "output_type": "stream",
     "text": [
      "ECLI:NL:HR:1996:AA1826 \"1.0:v:BWB:BWBR0002320&artikel=28 (oud)&g=1996-04-17\" does not look like a valid URI, I cannot serialize this as N3/Turtle. Perhaps you wanted to urlencode it?\n",
      "ECLI:NL:HR:1996:AA1827 \"1.0:v:BWB:BWBR0002629&artikel=50 (oud)&g=1996-03-06\" does not look like a valid URI, I cannot serialize this as N3/Turtle. Perhaps you wanted to urlencode it?\n"
     ]
    },
    {
     "name": "stderr",
     "output_type": "stream",
     "text": [
      "WARNING:rdflib.term:1.0:v:BWB:BWBR0002629&artikel=29 (oud)&g=1996-02-07 does not look like a valid URI, trying to serialize this will break.\n",
      "WARNING:rdflib.term:1.0:v:BWB:BWBR0002634&artikel=34 (oud)&g=1996-02-07 does not look like a valid URI, trying to serialize this will break.\n"
     ]
    },
    {
     "name": "stdout",
     "output_type": "stream",
     "text": [
      "ECLI:NL:HR:1996:AA1837 \"1.0:v:BWB:BWBR0002629&artikel=29 (oud)&g=1996-02-07\" does not look like a valid URI, I cannot serialize this as N3/Turtle. Perhaps you wanted to urlencode it?\n"
     ]
    },
    {
     "name": "stderr",
     "output_type": "stream",
     "text": [
      "WARNING:rdflib.term:1.0:v:BWB:BWBR0002672&artikel=23c (oud)&g=1996-02-07 does not look like a valid URI, trying to serialize this will break.\n",
      "WARNING:rdflib.term:1.0:v:BWB:BWBR0002629&artikel=37 (oud)&g=1996-07-08 does not look like a valid URI, trying to serialize this will break.\n"
     ]
    },
    {
     "name": "stdout",
     "output_type": "stream",
     "text": [
      "ECLI:NL:HR:1996:AA1842 \"1.0:v:BWB:BWBR0002672&artikel=23c (oud)&g=1996-02-07\" does not look like a valid URI, I cannot serialize this as N3/Turtle. Perhaps you wanted to urlencode it?\n",
      "ECLI:NL:HR:1996:AA1843 \"1.0:v:BWB:BWBR0002629&artikel=37 (oud)&g=1996-07-08\" does not look like a valid URI, I cannot serialize this as N3/Turtle. Perhaps you wanted to urlencode it?\n"
     ]
    },
    {
     "name": "stderr",
     "output_type": "stream",
     "text": [
      "WARNING:rdflib.term:1.0:v:BWB:BWBR0002629&artikel=50 (oud)&g=1996-03-27 does not look like a valid URI, trying to serialize this will break.\n",
      "WARNING:rdflib.term:1.0:v:BWB:BWBR0002320&artikel=23 (oud)&g=1996-06-19 does not look like a valid URI, trying to serialize this will break.\n"
     ]
    },
    {
     "name": "stdout",
     "output_type": "stream",
     "text": [
      "ECLI:NL:HR:1996:AA1847 \"1.0:v:BWB:BWBR0002629&artikel=50 (oud)&g=1996-03-27\" does not look like a valid URI, I cannot serialize this as N3/Turtle. Perhaps you wanted to urlencode it?\n",
      "ECLI:NL:HR:1996:AA1848 \"1.0:v:BWB:BWBR0002320&artikel=23 (oud)&g=1996-06-19\" does not look like a valid URI, I cannot serialize this as N3/Turtle. Perhaps you wanted to urlencode it?\n"
     ]
    },
    {
     "name": "stderr",
     "output_type": "stream",
     "text": [
      "WARNING:rdflib.term:1.0:v:BWB:BWBR0002320&artikel=30c (oud)&g=1996-02-07 does not look like a valid URI, trying to serialize this will break.\n",
      "WARNING:rdflib.term:1.0:v:BWB:BWBR0002629&artikel=8 (oud)&g=1996-01-17 does not look like a valid URI, trying to serialize this will break.\n"
     ]
    },
    {
     "name": "stdout",
     "output_type": "stream",
     "text": [
      "ECLI:NL:HR:1996:AA1853 \"1.0:v:BWB:BWBR0002320&artikel=30c (oud)&g=1996-02-07\" does not look like a valid URI, I cannot serialize this as N3/Turtle. Perhaps you wanted to urlencode it?\n",
      "ECLI:NL:HR:1996:AA1854 \"1.0:v:BWB:BWBR0002629&artikel=8 (oud)&g=1996-01-17\" does not look like a valid URI, I cannot serialize this as N3/Turtle. Perhaps you wanted to urlencode it?\n"
     ]
    },
    {
     "name": "stderr",
     "output_type": "stream",
     "text": [
      "WARNING:rdflib.term:1.0:v:BWB:BWBR0005416&artikel=276 (oud)&g=1996-01-03 does not look like a valid URI, trying to serialize this will break.\n"
     ]
    },
    {
     "name": "stdout",
     "output_type": "stream",
     "text": [
      "ECLI:NL:HR:1996:AA1859 \"1.0:v:BWB:BWBR0005416&artikel=276 (oud)&g=1996-01-03\" does not look like a valid URI, I cannot serialize this as N3/Turtle. Perhaps you wanted to urlencode it?\n"
     ]
    },
    {
     "name": "stderr",
     "output_type": "stream",
     "text": [
      "WARNING:rdflib.term:1.0:v:BWB:BWBR0002320&artikel=30a (oud)&g=1996-02-07 does not look like a valid URI, trying to serialize this will break.\n",
      "WARNING:rdflib.term:1.0:v:BWB:BWBR0002320&artikel=30c (oud)&g=1996-02-07 does not look like a valid URI, trying to serialize this will break.\n",
      "WARNING:rdflib.term:1.0:v:BWB:BWBR0005416&artikel=277 (oud)&g=1996-08-09 does not look like a valid URI, trying to serialize this will break.\n"
     ]
    },
    {
     "name": "stdout",
     "output_type": "stream",
     "text": [
      "ECLI:NL:HR:1996:AA1871 \"1.0:v:BWB:BWBR0002320&artikel=30a (oud)&g=1996-02-07\" does not look like a valid URI, I cannot serialize this as N3/Turtle. Perhaps you wanted to urlencode it?\n",
      "ECLI:NL:HR:1996:AA1872 \"1.0:v:BWB:BWBR0005416&artikel=277 (oud)&g=1996-08-09\" does not look like a valid URI, I cannot serialize this as N3/Turtle. Perhaps you wanted to urlencode it?\n"
     ]
    },
    {
     "name": "stderr",
     "output_type": "stream",
     "text": [
      "WARNING:rdflib.term:1.0:v:BWB:BWBR0002629&artikel=50 (oud)&g=1996-02-07 does not look like a valid URI, trying to serialize this will break.\n",
      "WARNING:rdflib.term:1.0:v:BWB:BWBR0002672&artikel=13 (oud)&g=1996-07-08 does not look like a valid URI, trying to serialize this will break.\n"
     ]
    },
    {
     "name": "stdout",
     "output_type": "stream",
     "text": [
      "ECLI:NL:HR:1996:AA1906 \"1.0:v:BWB:BWBR0002629&artikel=50 (oud)&g=1996-02-07\" does not look like a valid URI, I cannot serialize this as N3/Turtle. Perhaps you wanted to urlencode it?\n",
      "ECLI:NL:HR:1996:AA1907 \"1.0:v:BWB:BWBR0002672&artikel=13 (oud)&g=1996-07-08\" does not look like a valid URI, I cannot serialize this as N3/Turtle. Perhaps you wanted to urlencode it?\n"
     ]
    },
    {
     "name": "stderr",
     "output_type": "stream",
     "text": [
      "WARNING:rdflib.term:1.0:v:BWB:BWBR0005416&artikel=279 (oud)&g=1996-07-15 does not look like a valid URI, trying to serialize this will break.\n"
     ]
    },
    {
     "name": "stdout",
     "output_type": "stream",
     "text": [
      "ECLI:NL:HR:1996:AA1917 \"1.0:v:BWB:BWBR0005416&artikel=279 (oud)&g=1996-07-15\" does not look like a valid URI, I cannot serialize this as N3/Turtle. Perhaps you wanted to urlencode it?\n"
     ]
    },
    {
     "name": "stderr",
     "output_type": "stream",
     "text": [
      "WARNING:rdflib.term:1.0:v:BWB:BWBR0005416&artikel=276a (oud)&g=1996-06-26 does not look like a valid URI, trying to serialize this will break.\n"
     ]
    },
    {
     "name": "stdout",
     "output_type": "stream",
     "text": [
      "ECLI:NL:HR:1996:AA1920 \"1.0:v:BWB:BWBR0005416&artikel=276a (oud)&g=1996-06-26\" does not look like a valid URI, I cannot serialize this as N3/Turtle. Perhaps you wanted to urlencode it?\n"
     ]
    },
    {
     "name": "stderr",
     "output_type": "stream",
     "text": [
      "WARNING:rdflib.term:1.0:v:BWB:BWBR0002629&artikel=6 (oud)&g=1996-01-17 does not look like a valid URI, trying to serialize this will break.\n"
     ]
    },
    {
     "name": "stdout",
     "output_type": "stream",
     "text": [
      "ECLI:NL:HR:1996:AA1925 \"1.0:v:BWB:BWBR0002629&artikel=6 (oud)&g=1996-01-17\" does not look like a valid URI, I cannot serialize this as N3/Turtle. Perhaps you wanted to urlencode it?\n"
     ]
    },
    {
     "name": "stderr",
     "output_type": "stream",
     "text": [
      "WARNING:rdflib.term:1.0:v:BWB:BWBR0002672&artikel=23c (oud)&g=1996-03-06 does not look like a valid URI, trying to serialize this will break.\n"
     ]
    },
    {
     "name": "stdout",
     "output_type": "stream",
     "text": [
      "ECLI:NL:HR:1996:AA1934 \"1.0:v:BWB:BWBR0002672&artikel=23c (oud)&g=1996-03-06\" does not look like a valid URI, I cannot serialize this as N3/Turtle. Perhaps you wanted to urlencode it?\n"
     ]
    },
    {
     "name": "stderr",
     "output_type": "stream",
     "text": [
      "WARNING:rdflib.term:1.0:v:BWB:BWBR0002320&artikel=30c (oud)&g=1996-03-13 does not look like a valid URI, trying to serialize this will break.\n"
     ]
    },
    {
     "name": "stdout",
     "output_type": "stream",
     "text": [
      "ECLI:NL:HR:1996:AA1936 \"1.0:v:BWB:BWBR0002320&artikel=30c (oud)&g=1996-03-13\" does not look like a valid URI, I cannot serialize this as N3/Turtle. Perhaps you wanted to urlencode it?\n"
     ]
    },
    {
     "name": "stderr",
     "output_type": "stream",
     "text": [
      "WARNING:rdflib.term:1.0:v:BWB:BWBR0002320&artikel=30a (oud)&g=1996-03-06 does not look like a valid URI, trying to serialize this will break.\n",
      "WARNING:rdflib.term:1.0:v:BWB:BWBR0002320&artikel=30e (oud)&g=1996-04-03 does not look like a valid URI, trying to serialize this will break.\n"
     ]
    },
    {
     "name": "stdout",
     "output_type": "stream",
     "text": [
      "ECLI:NL:HR:1996:AA1942 \"1.0:v:BWB:BWBR0002320&artikel=30a (oud)&g=1996-03-06\" does not look like a valid URI, I cannot serialize this as N3/Turtle. Perhaps you wanted to urlencode it?\n",
      "ECLI:NL:HR:1996:AA1943 \"1.0:v:BWB:BWBR0002320&artikel=30e (oud)&g=1996-04-03\" does not look like a valid URI, I cannot serialize this as N3/Turtle. Perhaps you wanted to urlencode it?\n"
     ]
    },
    {
     "name": "stderr",
     "output_type": "stream",
     "text": [
      "WARNING:rdflib.term:1.0:v:BWB:BWBR0002629&artikel=50 (oud)&g=1996-04-17 does not look like a valid URI, trying to serialize this will break.\n",
      "WARNING:rdflib.term:1.0:v:BWB:BWBR0002320&artikel=60 (oud)&g=1996-03-20 does not look like a valid URI, trying to serialize this will break.\n"
     ]
    },
    {
     "name": "stdout",
     "output_type": "stream",
     "text": [
      "ECLI:NL:HR:1996:AA1953 \"1.0:v:BWB:BWBR0002629&artikel=50 (oud)&g=1996-04-17\" does not look like a valid URI, I cannot serialize this as N3/Turtle. Perhaps you wanted to urlencode it?\n",
      "ECLI:NL:HR:1996:AA1954 \"1.0:v:BWB:BWBR0002320&artikel=60 (oud)&g=1996-03-20\" does not look like a valid URI, I cannot serialize this as N3/Turtle. Perhaps you wanted to urlencode it?\n"
     ]
    },
    {
     "name": "stderr",
     "output_type": "stream",
     "text": [
      "WARNING:rdflib.term:1.0:v:BWB:BWBR0002471&artikel=26a (oud)&g=1996-05-01 does not look like a valid URI, trying to serialize this will break.\n",
      "WARNING:rdflib.term:1.0:v:BWB:BWBR0002629&artikel=50 (oud)&g=1996-06-26 does not look like a valid URI, trying to serialize this will break.\n"
     ]
    },
    {
     "name": "stdout",
     "output_type": "stream",
     "text": [
      "ECLI:NL:HR:1996:AA1959 \"1.0:v:BWB:BWBR0002471&artikel=26a (oud)&g=1996-05-01\" does not look like a valid URI, I cannot serialize this as N3/Turtle. Perhaps you wanted to urlencode it?\n",
      "ECLI:NL:HR:1996:AA1960 \"1.0:v:BWB:BWBR0002629&artikel=50 (oud)&g=1996-06-26\" does not look like a valid URI, I cannot serialize this as N3/Turtle. Perhaps you wanted to urlencode it?\n"
     ]
    },
    {
     "name": "stderr",
     "output_type": "stream",
     "text": [
      "WARNING:rdflib.term:1.0:v:BWB:BWBR0002320&artikel=27 (oud)&g=1996-04-17 does not look like a valid URI, trying to serialize this will break.\n"
     ]
    },
    {
     "name": "stdout",
     "output_type": "stream",
     "text": [
      "ECLI:NL:HR:1996:AA1965 \"1.0:v:BWB:BWBR0002320&artikel=27 (oud)&g=1996-04-17\" does not look like a valid URI, I cannot serialize this as N3/Turtle. Perhaps you wanted to urlencode it?\n"
     ]
    },
    {
     "name": "stderr",
     "output_type": "stream",
     "text": [
      "WARNING:rdflib.term:1.0:v:BWB:BWBR0002634&artikel=25 (oud)&g=1996-04-24 does not look like a valid URI, trying to serialize this will break.\n"
     ]
    },
    {
     "name": "stdout",
     "output_type": "stream",
     "text": [
      "ECLI:NL:HR:1996:AA1970 \"1.0:v:BWB:BWBR0002634&artikel=25 (oud)&g=1996-04-24\" does not look like a valid URI, I cannot serialize this as N3/Turtle. Perhaps you wanted to urlencode it?\n"
     ]
    },
    {
     "name": "stderr",
     "output_type": "stream",
     "text": [
      "WARNING:rdflib.term:1.0:v:BWB:BWBR0005416&artikel=273 (oud)&g=1996-08-09 does not look like a valid URI, trying to serialize this will break.\n"
     ]
    },
    {
     "name": "stdout",
     "output_type": "stream",
     "text": [
      "ECLI:NL:HR:1996:AA1994 \"1.0:v:BWB:BWBR0005416&artikel=273 (oud)&g=1996-08-09\" does not look like a valid URI, I cannot serialize this as N3/Turtle. Perhaps you wanted to urlencode it?\n"
     ]
    },
    {
     "name": "stderr",
     "output_type": "stream",
     "text": [
      "WARNING:rdflib.term:1.0:v:BWB:BWBR0002629&artikel=50 (oud)&g=1996-07-08 does not look like a valid URI, trying to serialize this will break.\n",
      "WARNING:rdflib.term:1.0:v:BWB:BWBR0005416&artikel=283b (oud)&g=1996-04-10 does not look like a valid URI, trying to serialize this will break.\n"
     ]
    },
    {
     "name": "stdout",
     "output_type": "stream",
     "text": [
      "ECLI:NL:HR:1996:AA2006 \"1.0:v:BWB:BWBR0002629&artikel=50 (oud)&g=1996-07-08\" does not look like a valid URI, I cannot serialize this as N3/Turtle. Perhaps you wanted to urlencode it?\n",
      "ECLI:NL:HR:1996:AA2007 \"1.0:v:BWB:BWBR0005416&artikel=283b (oud)&g=1996-04-10\" does not look like a valid URI, I cannot serialize this as N3/Turtle. Perhaps you wanted to urlencode it?\n"
     ]
    },
    {
     "name": "stderr",
     "output_type": "stream",
     "text": [
      "WARNING:rdflib.term:1.0:v:BWB:BWBR0002672&artikel=13 (oud)&g=1996-07-08 does not look like a valid URI, trying to serialize this will break.\n"
     ]
    },
    {
     "name": "stdout",
     "output_type": "stream",
     "text": [
      "ECLI:NL:HR:1996:AA2031 \"1.0:v:BWB:BWBR0002672&artikel=13 (oud)&g=1996-07-08\" does not look like a valid URI, I cannot serialize this as N3/Turtle. Perhaps you wanted to urlencode it?\n"
     ]
    },
    {
     "name": "stderr",
     "output_type": "stream",
     "text": [
      "WARNING:rdflib.term:1.0:v:BWB:BWBR0002320&artikel=23 (oud)&g=1996-06-05 does not look like a valid URI, trying to serialize this will break.\n",
      "WARNING:rdflib.term:1.0:v:BWB:BWBR0005416&artikel=276a (oud)&g=1996-06-05 does not look like a valid URI, trying to serialize this will break.\n"
     ]
    },
    {
     "name": "stdout",
     "output_type": "stream",
     "text": [
      "ECLI:NL:HR:1996:AA2034 \"1.0:v:BWB:BWBR0002320&artikel=23 (oud)&g=1996-06-05\" does not look like a valid URI, I cannot serialize this as N3/Turtle. Perhaps you wanted to urlencode it?\n",
      "ECLI:NL:HR:1996:AD2500 <urlopen error [Errno -2] Name or service not known>\n",
      "ECLI:NL:HR:1996:ZD0604 <urlopen error [Errno -2] Name or service not known>\n"
     ]
    },
    {
     "ename": "KeyboardInterrupt",
     "evalue": "",
     "output_type": "error",
     "traceback": [
      "\u001b[0;31m---------------------------------------------------------------------------\u001b[0m",
      "\u001b[0;31mKeyboardInterrupt\u001b[0m                         Traceback (most recent call last)",
      "\u001b[0;32m<ipython-input-29-a2563af99bab>\u001b[0m in \u001b[0;36m<module>\u001b[0;34m()\u001b[0m\n\u001b[1;32m      3\u001b[0m \u001b[0;32mfor\u001b[0m \u001b[0mrow\u001b[0m \u001b[0;32min\u001b[0m \u001b[0mids\u001b[0m\u001b[0;34m:\u001b[0m\u001b[0;34m\u001b[0m\u001b[0m\n\u001b[1;32m      4\u001b[0m     \u001b[0mecli\u001b[0m \u001b[0;34m=\u001b[0m \u001b[0mrow\u001b[0m\u001b[0;34m[\u001b[0m\u001b[0;36m0\u001b[0m\u001b[0;34m]\u001b[0m\u001b[0;34m\u001b[0m\u001b[0m\n\u001b[0;32m----> 5\u001b[0;31m     \u001b[0mretrieve_from_cloudant\u001b[0m\u001b[0;34m(\u001b[0m\u001b[0mecli\u001b[0m\u001b[0;34m,\u001b[0m \u001b[0mfilepath\u001b[0m\u001b[0;34m)\u001b[0m\u001b[0;34m\u001b[0m\u001b[0m\n\u001b[0m",
      "\u001b[0;32m<ipython-input-26-7945dbe53e22>\u001b[0m in \u001b[0;36mretrieve_from_cloudant\u001b[0;34m(ecli, filepath)\u001b[0m\n\u001b[1;32m      2\u001b[0m     \u001b[0mg\u001b[0m \u001b[0;34m=\u001b[0m \u001b[0mGraph\u001b[0m\u001b[0;34m(\u001b[0m\u001b[0;34m)\u001b[0m\u001b[0;34m\u001b[0m\u001b[0m\n\u001b[1;32m      3\u001b[0m     \u001b[0;32mtry\u001b[0m\u001b[0;34m:\u001b[0m\u001b[0;34m\u001b[0m\u001b[0m\n\u001b[0;32m----> 4\u001b[0;31m         \u001b[0mg\u001b[0m\u001b[0;34m.\u001b[0m\u001b[0mparse\u001b[0m\u001b[0;34m(\u001b[0m\u001b[0;34m\"https://rechtspraak.cloudant.com/docs/\"\u001b[0m\u001b[0;34m+\u001b[0m\u001b[0mecli\u001b[0m\u001b[0;34m,\u001b[0m \u001b[0mformat\u001b[0m\u001b[0;34m=\u001b[0m\u001b[0;34m\"json-ld\"\u001b[0m\u001b[0;34m)\u001b[0m\u001b[0;34m\u001b[0m\u001b[0m\n\u001b[0m\u001b[1;32m      5\u001b[0m         \u001b[0mfname\u001b[0m \u001b[0;34m=\u001b[0m \u001b[0mos\u001b[0m\u001b[0;34m.\u001b[0m\u001b[0mpath\u001b[0m\u001b[0;34m.\u001b[0m\u001b[0mjoin\u001b[0m\u001b[0;34m(\u001b[0m\u001b[0mfilepath\u001b[0m\u001b[0;34m,\u001b[0m \u001b[0mre\u001b[0m\u001b[0;34m.\u001b[0m\u001b[0msub\u001b[0m\u001b[0;34m(\u001b[0m\u001b[0;34m':'\u001b[0m\u001b[0;34m,\u001b[0m \u001b[0;34m'_'\u001b[0m\u001b[0;34m,\u001b[0m \u001b[0mecli\u001b[0m\u001b[0;34m)\u001b[0m\u001b[0;34m+\u001b[0m\u001b[0;34m\".n3\"\u001b[0m\u001b[0;34m)\u001b[0m\u001b[0;34m\u001b[0m\u001b[0m\n\u001b[1;32m      6\u001b[0m         \u001b[0mg\u001b[0m\u001b[0;34m.\u001b[0m\u001b[0mserialize\u001b[0m\u001b[0;34m(\u001b[0m\u001b[0mdestination\u001b[0m\u001b[0;34m=\u001b[0m\u001b[0mfname\u001b[0m\u001b[0;34m,\u001b[0m \u001b[0mformat\u001b[0m\u001b[0;34m=\u001b[0m\u001b[0;34m\"n3\"\u001b[0m\u001b[0;34m)\u001b[0m\u001b[0;34m\u001b[0m\u001b[0m\n",
      "\u001b[0;32m/home/dafne/anaconda2/envs/caselaw/lib/python3.5/site-packages/rdflib/graph.py\u001b[0m in \u001b[0;36mparse\u001b[0;34m(self, source, publicID, format, location, file, data, **args)\u001b[0m\n\u001b[1;32m   1031\u001b[0m         source = create_input_source(source=source, publicID=publicID,\n\u001b[1;32m   1032\u001b[0m                                      \u001b[0mlocation\u001b[0m\u001b[0;34m=\u001b[0m\u001b[0mlocation\u001b[0m\u001b[0;34m,\u001b[0m \u001b[0mfile\u001b[0m\u001b[0;34m=\u001b[0m\u001b[0mfile\u001b[0m\u001b[0;34m,\u001b[0m\u001b[0;34m\u001b[0m\u001b[0m\n\u001b[0;32m-> 1033\u001b[0;31m                                      data=data, format=format)\n\u001b[0m\u001b[1;32m   1034\u001b[0m         \u001b[0;32mif\u001b[0m \u001b[0mformat\u001b[0m \u001b[0;32mis\u001b[0m \u001b[0;32mNone\u001b[0m\u001b[0;34m:\u001b[0m\u001b[0;34m\u001b[0m\u001b[0m\n\u001b[1;32m   1035\u001b[0m             \u001b[0mformat\u001b[0m \u001b[0;34m=\u001b[0m \u001b[0msource\u001b[0m\u001b[0;34m.\u001b[0m\u001b[0mcontent_type\u001b[0m\u001b[0;34m\u001b[0m\u001b[0m\n",
      "\u001b[0;32m/home/dafne/anaconda2/envs/caselaw/lib/python3.5/site-packages/rdflib/parser.py\u001b[0m in \u001b[0;36mcreate_input_source\u001b[0;34m(source, publicID, location, file, data, format)\u001b[0m\n\u001b[1;32m    169\u001b[0m             \u001b[0mfile\u001b[0m \u001b[0;34m=\u001b[0m \u001b[0mopen\u001b[0m\u001b[0;34m(\u001b[0m\u001b[0mfilename\u001b[0m\u001b[0;34m,\u001b[0m \u001b[0;34m\"rb\"\u001b[0m\u001b[0;34m)\u001b[0m\u001b[0;34m\u001b[0m\u001b[0m\n\u001b[1;32m    170\u001b[0m         \u001b[0;32melse\u001b[0m\u001b[0;34m:\u001b[0m\u001b[0;34m\u001b[0m\u001b[0m\n\u001b[0;32m--> 171\u001b[0;31m             \u001b[0minput_source\u001b[0m \u001b[0;34m=\u001b[0m \u001b[0mURLInputSource\u001b[0m\u001b[0;34m(\u001b[0m\u001b[0mabsolute_location\u001b[0m\u001b[0;34m,\u001b[0m \u001b[0mformat\u001b[0m\u001b[0;34m)\u001b[0m\u001b[0;34m\u001b[0m\u001b[0m\n\u001b[0m\u001b[1;32m    172\u001b[0m         \u001b[0;31m# publicID = publicID or absolute_location  # Further to fix\u001b[0m\u001b[0;34m\u001b[0m\u001b[0;34m\u001b[0m\u001b[0m\n\u001b[1;32m    173\u001b[0m                                                     \u001b[0;31m# for issue 130\u001b[0m\u001b[0;34m\u001b[0m\u001b[0;34m\u001b[0m\u001b[0m\n",
      "\u001b[0;32m/home/dafne/anaconda2/envs/caselaw/lib/python3.5/site-packages/rdflib/parser.py\u001b[0m in \u001b[0;36m__init__\u001b[0;34m(self, system_id, format)\u001b[0m\n\u001b[1;32m     98\u001b[0m \u001b[0;34m\u001b[0m\u001b[0m\n\u001b[1;32m     99\u001b[0m         \u001b[0mreq\u001b[0m \u001b[0;34m=\u001b[0m \u001b[0mRequest\u001b[0m\u001b[0;34m(\u001b[0m\u001b[0msystem_id\u001b[0m\u001b[0;34m,\u001b[0m \u001b[0;32mNone\u001b[0m\u001b[0;34m,\u001b[0m \u001b[0mmyheaders\u001b[0m\u001b[0;34m)\u001b[0m\u001b[0;34m\u001b[0m\u001b[0m\n\u001b[0;32m--> 100\u001b[0;31m         \u001b[0mfile\u001b[0m \u001b[0;34m=\u001b[0m \u001b[0murlopen\u001b[0m\u001b[0;34m(\u001b[0m\u001b[0mreq\u001b[0m\u001b[0;34m)\u001b[0m\u001b[0;34m\u001b[0m\u001b[0m\n\u001b[0m\u001b[1;32m    101\u001b[0m         \u001b[0;31m# Fix for issue 130 https://github.com/RDFLib/rdflib/issues/130\u001b[0m\u001b[0;34m\u001b[0m\u001b[0;34m\u001b[0m\u001b[0m\n\u001b[1;32m    102\u001b[0m         \u001b[0mself\u001b[0m\u001b[0;34m.\u001b[0m\u001b[0murl\u001b[0m \u001b[0;34m=\u001b[0m \u001b[0mfile\u001b[0m\u001b[0;34m.\u001b[0m\u001b[0mgeturl\u001b[0m\u001b[0;34m(\u001b[0m\u001b[0;34m)\u001b[0m    \u001b[0;31m# in case redirections took place\u001b[0m\u001b[0;34m\u001b[0m\u001b[0m\n",
      "\u001b[0;32m/home/dafne/anaconda2/envs/caselaw/lib/python3.5/urllib/request.py\u001b[0m in \u001b[0;36murlopen\u001b[0;34m(url, data, timeout, cafile, capath, cadefault, context)\u001b[0m\n\u001b[1;32m    161\u001b[0m     \u001b[0;32melse\u001b[0m\u001b[0;34m:\u001b[0m\u001b[0;34m\u001b[0m\u001b[0m\n\u001b[1;32m    162\u001b[0m         \u001b[0mopener\u001b[0m \u001b[0;34m=\u001b[0m \u001b[0m_opener\u001b[0m\u001b[0;34m\u001b[0m\u001b[0m\n\u001b[0;32m--> 163\u001b[0;31m     \u001b[0;32mreturn\u001b[0m \u001b[0mopener\u001b[0m\u001b[0;34m.\u001b[0m\u001b[0mopen\u001b[0m\u001b[0;34m(\u001b[0m\u001b[0murl\u001b[0m\u001b[0;34m,\u001b[0m \u001b[0mdata\u001b[0m\u001b[0;34m,\u001b[0m \u001b[0mtimeout\u001b[0m\u001b[0;34m)\u001b[0m\u001b[0;34m\u001b[0m\u001b[0m\n\u001b[0m\u001b[1;32m    164\u001b[0m \u001b[0;34m\u001b[0m\u001b[0m\n\u001b[1;32m    165\u001b[0m \u001b[0;32mdef\u001b[0m \u001b[0minstall_opener\u001b[0m\u001b[0;34m(\u001b[0m\u001b[0mopener\u001b[0m\u001b[0;34m)\u001b[0m\u001b[0;34m:\u001b[0m\u001b[0;34m\u001b[0m\u001b[0m\n",
      "\u001b[0;32m/home/dafne/anaconda2/envs/caselaw/lib/python3.5/urllib/request.py\u001b[0m in \u001b[0;36mopen\u001b[0;34m(self, fullurl, data, timeout)\u001b[0m\n\u001b[1;32m    464\u001b[0m             \u001b[0mreq\u001b[0m \u001b[0;34m=\u001b[0m \u001b[0mmeth\u001b[0m\u001b[0;34m(\u001b[0m\u001b[0mreq\u001b[0m\u001b[0;34m)\u001b[0m\u001b[0;34m\u001b[0m\u001b[0m\n\u001b[1;32m    465\u001b[0m \u001b[0;34m\u001b[0m\u001b[0m\n\u001b[0;32m--> 466\u001b[0;31m         \u001b[0mresponse\u001b[0m \u001b[0;34m=\u001b[0m \u001b[0mself\u001b[0m\u001b[0;34m.\u001b[0m\u001b[0m_open\u001b[0m\u001b[0;34m(\u001b[0m\u001b[0mreq\u001b[0m\u001b[0;34m,\u001b[0m \u001b[0mdata\u001b[0m\u001b[0;34m)\u001b[0m\u001b[0;34m\u001b[0m\u001b[0m\n\u001b[0m\u001b[1;32m    467\u001b[0m \u001b[0;34m\u001b[0m\u001b[0m\n\u001b[1;32m    468\u001b[0m         \u001b[0;31m# post-process response\u001b[0m\u001b[0;34m\u001b[0m\u001b[0;34m\u001b[0m\u001b[0m\n",
      "\u001b[0;32m/home/dafne/anaconda2/envs/caselaw/lib/python3.5/urllib/request.py\u001b[0m in \u001b[0;36m_open\u001b[0;34m(self, req, data)\u001b[0m\n\u001b[1;32m    482\u001b[0m         \u001b[0mprotocol\u001b[0m \u001b[0;34m=\u001b[0m \u001b[0mreq\u001b[0m\u001b[0;34m.\u001b[0m\u001b[0mtype\u001b[0m\u001b[0;34m\u001b[0m\u001b[0m\n\u001b[1;32m    483\u001b[0m         result = self._call_chain(self.handle_open, protocol, protocol +\n\u001b[0;32m--> 484\u001b[0;31m                                   '_open', req)\n\u001b[0m\u001b[1;32m    485\u001b[0m         \u001b[0;32mif\u001b[0m \u001b[0mresult\u001b[0m\u001b[0;34m:\u001b[0m\u001b[0;34m\u001b[0m\u001b[0m\n\u001b[1;32m    486\u001b[0m             \u001b[0;32mreturn\u001b[0m \u001b[0mresult\u001b[0m\u001b[0;34m\u001b[0m\u001b[0m\n",
      "\u001b[0;32m/home/dafne/anaconda2/envs/caselaw/lib/python3.5/urllib/request.py\u001b[0m in \u001b[0;36m_call_chain\u001b[0;34m(self, chain, kind, meth_name, *args)\u001b[0m\n\u001b[1;32m    442\u001b[0m         \u001b[0;32mfor\u001b[0m \u001b[0mhandler\u001b[0m \u001b[0;32min\u001b[0m \u001b[0mhandlers\u001b[0m\u001b[0;34m:\u001b[0m\u001b[0;34m\u001b[0m\u001b[0m\n\u001b[1;32m    443\u001b[0m             \u001b[0mfunc\u001b[0m \u001b[0;34m=\u001b[0m \u001b[0mgetattr\u001b[0m\u001b[0;34m(\u001b[0m\u001b[0mhandler\u001b[0m\u001b[0;34m,\u001b[0m \u001b[0mmeth_name\u001b[0m\u001b[0;34m)\u001b[0m\u001b[0;34m\u001b[0m\u001b[0m\n\u001b[0;32m--> 444\u001b[0;31m             \u001b[0mresult\u001b[0m \u001b[0;34m=\u001b[0m \u001b[0mfunc\u001b[0m\u001b[0;34m(\u001b[0m\u001b[0;34m*\u001b[0m\u001b[0margs\u001b[0m\u001b[0;34m)\u001b[0m\u001b[0;34m\u001b[0m\u001b[0m\n\u001b[0m\u001b[1;32m    445\u001b[0m             \u001b[0;32mif\u001b[0m \u001b[0mresult\u001b[0m \u001b[0;32mis\u001b[0m \u001b[0;32mnot\u001b[0m \u001b[0;32mNone\u001b[0m\u001b[0;34m:\u001b[0m\u001b[0;34m\u001b[0m\u001b[0m\n\u001b[1;32m    446\u001b[0m                 \u001b[0;32mreturn\u001b[0m \u001b[0mresult\u001b[0m\u001b[0;34m\u001b[0m\u001b[0m\n",
      "\u001b[0;32m/home/dafne/anaconda2/envs/caselaw/lib/python3.5/urllib/request.py\u001b[0m in \u001b[0;36mhttps_open\u001b[0;34m(self, req)\u001b[0m\n\u001b[1;32m   1295\u001b[0m         \u001b[0;32mdef\u001b[0m \u001b[0mhttps_open\u001b[0m\u001b[0;34m(\u001b[0m\u001b[0mself\u001b[0m\u001b[0;34m,\u001b[0m \u001b[0mreq\u001b[0m\u001b[0;34m)\u001b[0m\u001b[0;34m:\u001b[0m\u001b[0;34m\u001b[0m\u001b[0m\n\u001b[1;32m   1296\u001b[0m             return self.do_open(http.client.HTTPSConnection, req,\n\u001b[0;32m-> 1297\u001b[0;31m                 context=self._context, check_hostname=self._check_hostname)\n\u001b[0m\u001b[1;32m   1298\u001b[0m \u001b[0;34m\u001b[0m\u001b[0m\n\u001b[1;32m   1299\u001b[0m         \u001b[0mhttps_request\u001b[0m \u001b[0;34m=\u001b[0m \u001b[0mAbstractHTTPHandler\u001b[0m\u001b[0;34m.\u001b[0m\u001b[0mdo_request_\u001b[0m\u001b[0;34m\u001b[0m\u001b[0m\n",
      "\u001b[0;32m/home/dafne/anaconda2/envs/caselaw/lib/python3.5/urllib/request.py\u001b[0m in \u001b[0;36mdo_open\u001b[0;34m(self, http_class, req, **http_conn_args)\u001b[0m\n\u001b[1;32m   1252\u001b[0m         \u001b[0;32mtry\u001b[0m\u001b[0;34m:\u001b[0m\u001b[0;34m\u001b[0m\u001b[0m\n\u001b[1;32m   1253\u001b[0m             \u001b[0;32mtry\u001b[0m\u001b[0;34m:\u001b[0m\u001b[0;34m\u001b[0m\u001b[0m\n\u001b[0;32m-> 1254\u001b[0;31m                 \u001b[0mh\u001b[0m\u001b[0;34m.\u001b[0m\u001b[0mrequest\u001b[0m\u001b[0;34m(\u001b[0m\u001b[0mreq\u001b[0m\u001b[0;34m.\u001b[0m\u001b[0mget_method\u001b[0m\u001b[0;34m(\u001b[0m\u001b[0;34m)\u001b[0m\u001b[0;34m,\u001b[0m \u001b[0mreq\u001b[0m\u001b[0;34m.\u001b[0m\u001b[0mselector\u001b[0m\u001b[0;34m,\u001b[0m \u001b[0mreq\u001b[0m\u001b[0;34m.\u001b[0m\u001b[0mdata\u001b[0m\u001b[0;34m,\u001b[0m \u001b[0mheaders\u001b[0m\u001b[0;34m)\u001b[0m\u001b[0;34m\u001b[0m\u001b[0m\n\u001b[0m\u001b[1;32m   1255\u001b[0m             \u001b[0;32mexcept\u001b[0m \u001b[0mOSError\u001b[0m \u001b[0;32mas\u001b[0m \u001b[0merr\u001b[0m\u001b[0;34m:\u001b[0m \u001b[0;31m# timeout error\u001b[0m\u001b[0;34m\u001b[0m\u001b[0m\n\u001b[1;32m   1256\u001b[0m                 \u001b[0;32mraise\u001b[0m \u001b[0mURLError\u001b[0m\u001b[0;34m(\u001b[0m\u001b[0merr\u001b[0m\u001b[0;34m)\u001b[0m\u001b[0;34m\u001b[0m\u001b[0m\n",
      "\u001b[0;32m/home/dafne/anaconda2/envs/caselaw/lib/python3.5/http/client.py\u001b[0m in \u001b[0;36mrequest\u001b[0;34m(self, method, url, body, headers)\u001b[0m\n\u001b[1;32m   1104\u001b[0m     \u001b[0;32mdef\u001b[0m \u001b[0mrequest\u001b[0m\u001b[0;34m(\u001b[0m\u001b[0mself\u001b[0m\u001b[0;34m,\u001b[0m \u001b[0mmethod\u001b[0m\u001b[0;34m,\u001b[0m \u001b[0murl\u001b[0m\u001b[0;34m,\u001b[0m \u001b[0mbody\u001b[0m\u001b[0;34m=\u001b[0m\u001b[0;32mNone\u001b[0m\u001b[0;34m,\u001b[0m \u001b[0mheaders\u001b[0m\u001b[0;34m=\u001b[0m\u001b[0;34m{\u001b[0m\u001b[0;34m}\u001b[0m\u001b[0;34m)\u001b[0m\u001b[0;34m:\u001b[0m\u001b[0;34m\u001b[0m\u001b[0m\n\u001b[1;32m   1105\u001b[0m         \u001b[0;34m\"\"\"Send a complete request to the server.\"\"\"\u001b[0m\u001b[0;34m\u001b[0m\u001b[0m\n\u001b[0;32m-> 1106\u001b[0;31m         \u001b[0mself\u001b[0m\u001b[0;34m.\u001b[0m\u001b[0m_send_request\u001b[0m\u001b[0;34m(\u001b[0m\u001b[0mmethod\u001b[0m\u001b[0;34m,\u001b[0m \u001b[0murl\u001b[0m\u001b[0;34m,\u001b[0m \u001b[0mbody\u001b[0m\u001b[0;34m,\u001b[0m \u001b[0mheaders\u001b[0m\u001b[0;34m)\u001b[0m\u001b[0;34m\u001b[0m\u001b[0m\n\u001b[0m\u001b[1;32m   1107\u001b[0m \u001b[0;34m\u001b[0m\u001b[0m\n\u001b[1;32m   1108\u001b[0m     \u001b[0;32mdef\u001b[0m \u001b[0m_set_content_length\u001b[0m\u001b[0;34m(\u001b[0m\u001b[0mself\u001b[0m\u001b[0;34m,\u001b[0m \u001b[0mbody\u001b[0m\u001b[0;34m,\u001b[0m \u001b[0mmethod\u001b[0m\u001b[0;34m)\u001b[0m\u001b[0;34m:\u001b[0m\u001b[0;34m\u001b[0m\u001b[0m\n",
      "\u001b[0;32m/home/dafne/anaconda2/envs/caselaw/lib/python3.5/http/client.py\u001b[0m in \u001b[0;36m_send_request\u001b[0;34m(self, method, url, body, headers)\u001b[0m\n\u001b[1;32m   1149\u001b[0m             \u001b[0;31m# default charset of iso-8859-1.\u001b[0m\u001b[0;34m\u001b[0m\u001b[0;34m\u001b[0m\u001b[0m\n\u001b[1;32m   1150\u001b[0m             \u001b[0mbody\u001b[0m \u001b[0;34m=\u001b[0m \u001b[0m_encode\u001b[0m\u001b[0;34m(\u001b[0m\u001b[0mbody\u001b[0m\u001b[0;34m,\u001b[0m \u001b[0;34m'body'\u001b[0m\u001b[0;34m)\u001b[0m\u001b[0;34m\u001b[0m\u001b[0m\n\u001b[0;32m-> 1151\u001b[0;31m         \u001b[0mself\u001b[0m\u001b[0;34m.\u001b[0m\u001b[0mendheaders\u001b[0m\u001b[0;34m(\u001b[0m\u001b[0mbody\u001b[0m\u001b[0;34m)\u001b[0m\u001b[0;34m\u001b[0m\u001b[0m\n\u001b[0m\u001b[1;32m   1152\u001b[0m \u001b[0;34m\u001b[0m\u001b[0m\n\u001b[1;32m   1153\u001b[0m     \u001b[0;32mdef\u001b[0m \u001b[0mgetresponse\u001b[0m\u001b[0;34m(\u001b[0m\u001b[0mself\u001b[0m\u001b[0;34m)\u001b[0m\u001b[0;34m:\u001b[0m\u001b[0;34m\u001b[0m\u001b[0m\n",
      "\u001b[0;32m/home/dafne/anaconda2/envs/caselaw/lib/python3.5/http/client.py\u001b[0m in \u001b[0;36mendheaders\u001b[0;34m(self, message_body)\u001b[0m\n\u001b[1;32m   1100\u001b[0m         \u001b[0;32melse\u001b[0m\u001b[0;34m:\u001b[0m\u001b[0;34m\u001b[0m\u001b[0m\n\u001b[1;32m   1101\u001b[0m             \u001b[0;32mraise\u001b[0m \u001b[0mCannotSendHeader\u001b[0m\u001b[0;34m(\u001b[0m\u001b[0;34m)\u001b[0m\u001b[0;34m\u001b[0m\u001b[0m\n\u001b[0;32m-> 1102\u001b[0;31m         \u001b[0mself\u001b[0m\u001b[0;34m.\u001b[0m\u001b[0m_send_output\u001b[0m\u001b[0;34m(\u001b[0m\u001b[0mmessage_body\u001b[0m\u001b[0;34m)\u001b[0m\u001b[0;34m\u001b[0m\u001b[0m\n\u001b[0m\u001b[1;32m   1103\u001b[0m \u001b[0;34m\u001b[0m\u001b[0m\n\u001b[1;32m   1104\u001b[0m     \u001b[0;32mdef\u001b[0m \u001b[0mrequest\u001b[0m\u001b[0;34m(\u001b[0m\u001b[0mself\u001b[0m\u001b[0;34m,\u001b[0m \u001b[0mmethod\u001b[0m\u001b[0;34m,\u001b[0m \u001b[0murl\u001b[0m\u001b[0;34m,\u001b[0m \u001b[0mbody\u001b[0m\u001b[0;34m=\u001b[0m\u001b[0;32mNone\u001b[0m\u001b[0;34m,\u001b[0m \u001b[0mheaders\u001b[0m\u001b[0;34m=\u001b[0m\u001b[0;34m{\u001b[0m\u001b[0;34m}\u001b[0m\u001b[0;34m)\u001b[0m\u001b[0;34m:\u001b[0m\u001b[0;34m\u001b[0m\u001b[0m\n",
      "\u001b[0;32m/home/dafne/anaconda2/envs/caselaw/lib/python3.5/http/client.py\u001b[0m in \u001b[0;36m_send_output\u001b[0;34m(self, message_body)\u001b[0m\n\u001b[1;32m    932\u001b[0m         \u001b[0;32mdel\u001b[0m \u001b[0mself\u001b[0m\u001b[0;34m.\u001b[0m\u001b[0m_buffer\u001b[0m\u001b[0;34m[\u001b[0m\u001b[0;34m:\u001b[0m\u001b[0;34m]\u001b[0m\u001b[0;34m\u001b[0m\u001b[0m\n\u001b[1;32m    933\u001b[0m \u001b[0;34m\u001b[0m\u001b[0m\n\u001b[0;32m--> 934\u001b[0;31m         \u001b[0mself\u001b[0m\u001b[0;34m.\u001b[0m\u001b[0msend\u001b[0m\u001b[0;34m(\u001b[0m\u001b[0mmsg\u001b[0m\u001b[0;34m)\u001b[0m\u001b[0;34m\u001b[0m\u001b[0m\n\u001b[0m\u001b[1;32m    935\u001b[0m         \u001b[0;32mif\u001b[0m \u001b[0mmessage_body\u001b[0m \u001b[0;32mis\u001b[0m \u001b[0;32mnot\u001b[0m \u001b[0;32mNone\u001b[0m\u001b[0;34m:\u001b[0m\u001b[0;34m\u001b[0m\u001b[0m\n\u001b[1;32m    936\u001b[0m             \u001b[0mself\u001b[0m\u001b[0;34m.\u001b[0m\u001b[0msend\u001b[0m\u001b[0;34m(\u001b[0m\u001b[0mmessage_body\u001b[0m\u001b[0;34m)\u001b[0m\u001b[0;34m\u001b[0m\u001b[0m\n",
      "\u001b[0;32m/home/dafne/anaconda2/envs/caselaw/lib/python3.5/http/client.py\u001b[0m in \u001b[0;36msend\u001b[0;34m(self, data)\u001b[0m\n\u001b[1;32m    875\u001b[0m         \u001b[0;32mif\u001b[0m \u001b[0mself\u001b[0m\u001b[0;34m.\u001b[0m\u001b[0msock\u001b[0m \u001b[0;32mis\u001b[0m \u001b[0;32mNone\u001b[0m\u001b[0;34m:\u001b[0m\u001b[0;34m\u001b[0m\u001b[0m\n\u001b[1;32m    876\u001b[0m             \u001b[0;32mif\u001b[0m \u001b[0mself\u001b[0m\u001b[0;34m.\u001b[0m\u001b[0mauto_open\u001b[0m\u001b[0;34m:\u001b[0m\u001b[0;34m\u001b[0m\u001b[0m\n\u001b[0;32m--> 877\u001b[0;31m                 \u001b[0mself\u001b[0m\u001b[0;34m.\u001b[0m\u001b[0mconnect\u001b[0m\u001b[0;34m(\u001b[0m\u001b[0;34m)\u001b[0m\u001b[0;34m\u001b[0m\u001b[0m\n\u001b[0m\u001b[1;32m    878\u001b[0m             \u001b[0;32melse\u001b[0m\u001b[0;34m:\u001b[0m\u001b[0;34m\u001b[0m\u001b[0m\n\u001b[1;32m    879\u001b[0m                 \u001b[0;32mraise\u001b[0m \u001b[0mNotConnected\u001b[0m\u001b[0;34m(\u001b[0m\u001b[0;34m)\u001b[0m\u001b[0;34m\u001b[0m\u001b[0m\n",
      "\u001b[0;32m/home/dafne/anaconda2/envs/caselaw/lib/python3.5/http/client.py\u001b[0m in \u001b[0;36mconnect\u001b[0;34m(self)\u001b[0m\n\u001b[1;32m   1250\u001b[0m             \u001b[0;34m\"Connect to a host on a given (SSL) port.\"\u001b[0m\u001b[0;34m\u001b[0m\u001b[0m\n\u001b[1;32m   1251\u001b[0m \u001b[0;34m\u001b[0m\u001b[0m\n\u001b[0;32m-> 1252\u001b[0;31m             \u001b[0msuper\u001b[0m\u001b[0;34m(\u001b[0m\u001b[0;34m)\u001b[0m\u001b[0;34m.\u001b[0m\u001b[0mconnect\u001b[0m\u001b[0;34m(\u001b[0m\u001b[0;34m)\u001b[0m\u001b[0;34m\u001b[0m\u001b[0m\n\u001b[0m\u001b[1;32m   1253\u001b[0m \u001b[0;34m\u001b[0m\u001b[0m\n\u001b[1;32m   1254\u001b[0m             \u001b[0;32mif\u001b[0m \u001b[0mself\u001b[0m\u001b[0;34m.\u001b[0m\u001b[0m_tunnel_host\u001b[0m\u001b[0;34m:\u001b[0m\u001b[0;34m\u001b[0m\u001b[0m\n",
      "\u001b[0;32m/home/dafne/anaconda2/envs/caselaw/lib/python3.5/http/client.py\u001b[0m in \u001b[0;36mconnect\u001b[0;34m(self)\u001b[0m\n\u001b[1;32m    847\u001b[0m         \u001b[0;34m\"\"\"Connect to the host and port specified in __init__.\"\"\"\u001b[0m\u001b[0;34m\u001b[0m\u001b[0m\n\u001b[1;32m    848\u001b[0m         self.sock = self._create_connection(\n\u001b[0;32m--> 849\u001b[0;31m             (self.host,self.port), self.timeout, self.source_address)\n\u001b[0m\u001b[1;32m    850\u001b[0m         \u001b[0mself\u001b[0m\u001b[0;34m.\u001b[0m\u001b[0msock\u001b[0m\u001b[0;34m.\u001b[0m\u001b[0msetsockopt\u001b[0m\u001b[0;34m(\u001b[0m\u001b[0msocket\u001b[0m\u001b[0;34m.\u001b[0m\u001b[0mIPPROTO_TCP\u001b[0m\u001b[0;34m,\u001b[0m \u001b[0msocket\u001b[0m\u001b[0;34m.\u001b[0m\u001b[0mTCP_NODELAY\u001b[0m\u001b[0;34m,\u001b[0m \u001b[0;36m1\u001b[0m\u001b[0;34m)\u001b[0m\u001b[0;34m\u001b[0m\u001b[0m\n\u001b[1;32m    851\u001b[0m \u001b[0;34m\u001b[0m\u001b[0m\n",
      "\u001b[0;32m/home/dafne/anaconda2/envs/caselaw/lib/python3.5/socket.py\u001b[0m in \u001b[0;36mcreate_connection\u001b[0;34m(address, timeout, source_address)\u001b[0m\n\u001b[1;32m    700\u001b[0m             \u001b[0;32mif\u001b[0m \u001b[0msource_address\u001b[0m\u001b[0;34m:\u001b[0m\u001b[0;34m\u001b[0m\u001b[0m\n\u001b[1;32m    701\u001b[0m                 \u001b[0msock\u001b[0m\u001b[0;34m.\u001b[0m\u001b[0mbind\u001b[0m\u001b[0;34m(\u001b[0m\u001b[0msource_address\u001b[0m\u001b[0;34m)\u001b[0m\u001b[0;34m\u001b[0m\u001b[0m\n\u001b[0;32m--> 702\u001b[0;31m             \u001b[0msock\u001b[0m\u001b[0;34m.\u001b[0m\u001b[0mconnect\u001b[0m\u001b[0;34m(\u001b[0m\u001b[0msa\u001b[0m\u001b[0;34m)\u001b[0m\u001b[0;34m\u001b[0m\u001b[0m\n\u001b[0m\u001b[1;32m    703\u001b[0m             \u001b[0;32mreturn\u001b[0m \u001b[0msock\u001b[0m\u001b[0;34m\u001b[0m\u001b[0m\n\u001b[1;32m    704\u001b[0m \u001b[0;34m\u001b[0m\u001b[0m\n",
      "\u001b[0;31mKeyboardInterrupt\u001b[0m: "
     ]
    }
   ],
   "source": [
    "ids = c.execute('SELECT id from uitspraken_meta')\n",
    "c2 = conn.cursor()\n",
    "for row in ids:\n",
    "    ecli = row[0]\n",
    "    retrieve_from_cloudant(ecli, filepath)"
   ]
  },
  {
   "cell_type": "code",
   "execution_count": 30,
   "metadata": {
    "collapsed": true
   },
   "outputs": [],
   "source": [
    "conn.commit()"
   ]
  },
  {
   "cell_type": "code",
   "execution_count": 32,
   "metadata": {
    "collapsed": true
   },
   "outputs": [],
   "source": [
    "conn.close()"
   ]
  },
  {
   "cell_type": "code",
   "execution_count": null,
   "metadata": {
    "collapsed": true
   },
   "outputs": [],
   "source": []
  }
 ],
 "metadata": {
  "anaconda-cloud": {},
  "kernelspec": {
   "display_name": "Python [conda env:caselaw]",
   "language": "python",
   "name": "conda-env-caselaw-py"
  },
  "language_info": {
   "codemirror_mode": {
    "name": "ipython",
    "version": 3
   },
   "file_extension": ".py",
   "mimetype": "text/x-python",
   "name": "python",
   "nbconvert_exporter": "python",
   "pygments_lexer": "ipython3",
   "version": "3.5.2"
  }
 },
 "nbformat": 4,
 "nbformat_minor": 0
}
