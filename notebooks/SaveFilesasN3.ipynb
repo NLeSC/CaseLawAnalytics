{
 "cells": [
  {
   "cell_type": "code",
   "execution_count": 12,
   "metadata": {
    "collapsed": false
   },
   "outputs": [],
   "source": [
    "import sqlite3\n",
    "from rdflib import Graph, plugin\n",
    "from rdflib.serializer import Serializer\n",
    "import os\n",
    "import re\n",
    "from urllib.error import HTTPError"
   ]
  },
  {
   "cell_type": "code",
   "execution_count": 13,
   "metadata": {
    "collapsed": true
   },
   "outputs": [],
   "source": [
    "conn = sqlite3.connect('rechtspraak.db')\n",
    "c = conn.cursor()"
   ]
  },
  {
   "cell_type": "markdown",
   "metadata": {},
   "source": [
    "TODO: why does serializing to n3 replace `owl:sameAs` by `=`?"
   ]
  },
  {
   "cell_type": "code",
   "execution_count": 20,
   "metadata": {
    "collapsed": false
   },
   "outputs": [],
   "source": [
    "def retrieve_from_cloudant(ecli, filepath, form='n3'):\n",
    "    g = Graph()\n",
    "    try:\n",
    "        g.parse(\"https://rechtspraak.cloudant.com/docs/\"+ecli, format=\"json-ld\")\n",
    "        fname = os.path.join(filepath, re.sub(':', '_', ecli)+'.'+form)\n",
    "        g.serialize(destination=fname, format=form)\n",
    "        return g\n",
    "    except HTTPError:\n",
    "        pass\n",
    "    except Exception as e:\n",
    "        print(ecli, e)"
   ]
  },
  {
   "cell_type": "code",
   "execution_count": 38,
   "metadata": {
    "collapsed": true
   },
   "outputs": [],
   "source": [
    "def retrieve_from_filesystem(ecli, filepath_input, form='n3'):\n",
    "    g = Graph()\n",
    "    try:\n",
    "        fname_basis = re.sub(':', '_', ecli)\n",
    "        g.parse(os.path.join(filepath_input, fname_basis+\".json\"), format=\"json-ld\")\n",
    "        #fname = os.path.join(filepath, fname_basis+\".n3\")\n",
    "        g.serialize(destination=fname+'.'+form, format=form)\n",
    "        return g\n",
    "    except Exception as e:\n",
    "        print(ecli, e)"
   ]
  },
  {
   "cell_type": "code",
   "execution_count": 22,
   "metadata": {
    "collapsed": false
   },
   "outputs": [],
   "source": [
    "ecli = \"ECLI:NL:HR:2009:BB0681\"\n",
    "filepath_input = '/media/sf_VBox_Shared/CaseLaw/json-ld/'\n",
    "g = Graph()\n",
    "fname_basis = re.sub(':', '_', ecli)\n",
    "g = g.parse(os.path.join(filepath_input, fname_basis+\".json\"), format=\"json-ld\")\n"
   ]
  },
  {
   "cell_type": "code",
   "execution_count": 10,
   "metadata": {
    "collapsed": false
   },
   "outputs": [],
   "source": [
    "ecli = \"ECLI:NL:CBB:2001:AB0307\"\n",
    "g = retrieve_from_cloudant(ecli, filepath)"
   ]
  },
  {
   "cell_type": "code",
   "execution_count": 18,
   "metadata": {
    "collapsed": true
   },
   "outputs": [],
   "source": [
    "#filepath = '/media/sf_VBox_Shared/CaseLaw/n3files'\n",
    "filepath = '/media/sf_VBox_Shared/CaseLaw/turtlefiles'\n",
    "if not os.path.exists(filepath):\n",
    "    os.mkdir(filepath)"
   ]
  },
  {
   "cell_type": "code",
   "execution_count": 21,
   "metadata": {
    "collapsed": false
   },
   "outputs": [
    {
     "name": "stderr",
     "output_type": "stream",
     "text": [
      "WARNING:rdflib.term:1.0:v:BWB:BWBV0001506&artikel=7 (oud)&g=1992-12-23 does not look like a valid URI, trying to serialize this will break.\n"
     ]
    },
    {
     "name": "stdout",
     "output_type": "stream",
     "text": [
      "ECLI:NL:HR:1992:AA2957 \"1.0:v:BWB:BWBV0001506&artikel=7 (oud)&g=1992-12-23\" does not look like a valid URI, I cannot serialize this as N3/Turtle. Perhaps you wanted to urlencode it?\n"
     ]
    },
    {
     "name": "stderr",
     "output_type": "stream",
     "text": [
      "WARNING:rdflib.term:1.0:v:BWB:BWBR0002672&artikel=13 (oud)&g=1994-10-19 does not look like a valid URI, trying to serialize this will break.\n"
     ]
    },
    {
     "name": "stdout",
     "output_type": "stream",
     "text": [
      "ECLI:NL:HR:1994:AA2954 \"1.0:v:BWB:BWBR0002672&artikel=13 (oud)&g=1994-10-19\" does not look like a valid URI, I cannot serialize this as N3/Turtle. Perhaps you wanted to urlencode it?\n"
     ]
    },
    {
     "name": "stderr",
     "output_type": "stream",
     "text": [
      "WARNING:rdflib.term:1.0:v:BWB:BWBR0002471&artikel=32a (oud)&g=1994-09-14 does not look like a valid URI, trying to serialize this will break.\n"
     ]
    },
    {
     "name": "stdout",
     "output_type": "stream",
     "text": [
      "ECLI:NL:HR:1994:AA2960 \"1.0:v:BWB:BWBR0002471&artikel=32a (oud)&g=1994-09-14\" does not look like a valid URI, I cannot serialize this as N3/Turtle. Perhaps you wanted to urlencode it?\n"
     ]
    },
    {
     "name": "stderr",
     "output_type": "stream",
     "text": [
      "WARNING:rdflib.term:1.0:v:BWB:BWBR0005416&artikel=272 (oud)&g=1994-10-19 does not look like a valid URI, trying to serialize this will break.\n",
      "WARNING:rdflib.term:1.0:v:BWB:BWBR0005416&artikel=273 (oud)&g=1994-10-19 does not look like a valid URI, trying to serialize this will break.\n"
     ]
    },
    {
     "name": "stdout",
     "output_type": "stream",
     "text": [
      "ECLI:NL:HR:1994:AA2966 \"1.0:v:BWB:BWBR0005416&artikel=272 (oud)&g=1994-10-19\" does not look like a valid URI, I cannot serialize this as N3/Turtle. Perhaps you wanted to urlencode it?\n"
     ]
    },
    {
     "name": "stderr",
     "output_type": "stream",
     "text": [
      "WARNING:rdflib.term:1.0:v:BWB:BWBR0002629&artikel=50 (oud)&g=1994-09-21 does not look like a valid URI, trying to serialize this will break.\n"
     ]
    },
    {
     "name": "stdout",
     "output_type": "stream",
     "text": [
      "ECLI:NL:HR:1994:AA2970 \"1.0:v:BWB:BWBR0002629&artikel=50 (oud)&g=1994-09-21\" does not look like a valid URI, I cannot serialize this as N3/Turtle. Perhaps you wanted to urlencode it?\n"
     ]
    },
    {
     "name": "stderr",
     "output_type": "stream",
     "text": [
      "WARNING:rdflib.term:1.0:v:BWB:BWBR0002320&artikel=25 (oud)&g=1994-09-14 does not look like a valid URI, trying to serialize this will break.\n"
     ]
    },
    {
     "name": "stdout",
     "output_type": "stream",
     "text": [
      "ECLI:NL:HR:1994:AA2972 \"1.0:v:BWB:BWBR0002320&artikel=25 (oud)&g=1994-09-14\" does not look like a valid URI, I cannot serialize this as N3/Turtle. Perhaps you wanted to urlencode it?\n"
     ]
    },
    {
     "name": "stderr",
     "output_type": "stream",
     "text": [
      "WARNING:rdflib.term:1.0:v:BWB:BWBR0002320&artikel=30c (oud)&g=1994-11-30 does not look like a valid URI, trying to serialize this will break.\n"
     ]
    },
    {
     "name": "stdout",
     "output_type": "stream",
     "text": [
      "ECLI:NL:HR:1994:AA2980 \"1.0:v:BWB:BWBR0002320&artikel=30c (oud)&g=1994-11-30\" does not look like a valid URI, I cannot serialize this as N3/Turtle. Perhaps you wanted to urlencode it?\n"
     ]
    },
    {
     "name": "stderr",
     "output_type": "stream",
     "text": [
      "WARNING:rdflib.term:1.0:v:BWB:BWBR0002320&artikel=47 (oud)&g=1994-11-23 does not look like a valid URI, trying to serialize this will break.\n"
     ]
    },
    {
     "name": "stdout",
     "output_type": "stream",
     "text": [
      "ECLI:NL:HR:1994:AA2982 \"1.0:v:BWB:BWBR0002320&artikel=47 (oud)&g=1994-11-23\" does not look like a valid URI, I cannot serialize this as N3/Turtle. Perhaps you wanted to urlencode it?\n"
     ]
    },
    {
     "name": "stderr",
     "output_type": "stream",
     "text": [
      "WARNING:rdflib.term:1.0:v:BWB:BWBR0002320&artikel=23 (oud)&g=1994-12-07 does not look like a valid URI, trying to serialize this will break.\n",
      "WARNING:rdflib.term:1.0:v:BWB:BWBR0002320&artikel=60 (oud)&g=1994-12-07 does not look like a valid URI, trying to serialize this will break.\n"
     ]
    },
    {
     "name": "stdout",
     "output_type": "stream",
     "text": [
      "ECLI:NL:HR:1994:AA2993 \"1.0:v:BWB:BWBR0002320&artikel=23 (oud)&g=1994-12-07\" does not look like a valid URI, I cannot serialize this as N3/Turtle. Perhaps you wanted to urlencode it?\n"
     ]
    },
    {
     "name": "stderr",
     "output_type": "stream",
     "text": [
      "WARNING:rdflib.term:1.0:v:BWB:BWBR0002221&artikel=26 (oud)&g=1994-12-21 does not look like a valid URI, trying to serialize this will break.\n"
     ]
    },
    {
     "name": "stdout",
     "output_type": "stream",
     "text": [
      "ECLI:NL:HR:1994:AA2996 \"1.0:v:BWB:BWBR0002221&artikel=26 (oud)&g=1994-12-21\" does not look like a valid URI, I cannot serialize this as N3/Turtle. Perhaps you wanted to urlencode it?\n"
     ]
    },
    {
     "name": "stderr",
     "output_type": "stream",
     "text": [
      "WARNING:rdflib.term:1.0:v:BWB:BWBR0005416&artikel=273 (oud)&g=1994-12-21 does not look like a valid URI, trying to serialize this will break.\n"
     ]
    },
    {
     "name": "stdout",
     "output_type": "stream",
     "text": [
      "ECLI:NL:HR:1994:AA2999 \"1.0:v:BWB:BWBR0005416&artikel=273 (oud)&g=1994-12-21\" does not look like a valid URI, I cannot serialize this as N3/Turtle. Perhaps you wanted to urlencode it?\n"
     ]
    },
    {
     "name": "stderr",
     "output_type": "stream",
     "text": [
      "WARNING:rdflib.term:1.0:v:BWB:BWBR0002740&artikel=35 (oud)&g=1994-07-06 does not look like a valid URI, trying to serialize this will break.\n"
     ]
    },
    {
     "name": "stdout",
     "output_type": "stream",
     "text": [
      "ECLI:NL:HR:1994:AA3084 \"1.0:v:BWB:BWBR0002740&artikel=35 (oud)&g=1994-07-06\" does not look like a valid URI, I cannot serialize this as N3/Turtle. Perhaps you wanted to urlencode it?\n"
     ]
    },
    {
     "name": "stderr",
     "output_type": "stream",
     "text": [
      "WARNING:rdflib.term:1.0:v:BWB:BWBR0005416&artikel=276a (oud)&g=1995-11-08 does not look like a valid URI, trying to serialize this will break.\n"
     ]
    },
    {
     "name": "stdout",
     "output_type": "stream",
     "text": [
      "ECLI:NL:HR:1995:AA1507 \"1.0:v:BWB:BWBR0005416&artikel=276a (oud)&g=1995-11-08\" does not look like a valid URI, I cannot serialize this as N3/Turtle. Perhaps you wanted to urlencode it?\n"
     ]
    },
    {
     "name": "stderr",
     "output_type": "stream",
     "text": [
      "WARNING:rdflib.term:1.0:v:BWB:BWBR0005416&artikel=275 (oud)&g=1995-11-08 does not look like a valid URI, trying to serialize this will break.\n"
     ]
    },
    {
     "name": "stdout",
     "output_type": "stream",
     "text": [
      "ECLI:NL:HR:1995:AA1508 \"1.0:v:BWB:BWBR0005416&artikel=275 (oud)&g=1995-11-08\" does not look like a valid URI, I cannot serialize this as N3/Turtle. Perhaps you wanted to urlencode it?\n"
     ]
    },
    {
     "name": "stderr",
     "output_type": "stream",
     "text": [
      "WARNING:rdflib.term:1.0:v:BWB:BWBR0002320&artikel=28 (oud)&g=1995-09-27 does not look like a valid URI, trying to serialize this will break.\n"
     ]
    },
    {
     "name": "stdout",
     "output_type": "stream",
     "text": [
      "ECLI:NL:HR:1995:AA1510 \"1.0:v:BWB:BWBR0002320&artikel=28 (oud)&g=1995-09-27\" does not look like a valid URI, I cannot serialize this as N3/Turtle. Perhaps you wanted to urlencode it?\n"
     ]
    },
    {
     "name": "stderr",
     "output_type": "stream",
     "text": [
      "WARNING:rdflib.term:1.0:v:BWB:BWBR0002221&artikel=54 (oud)&g=1995-02-01 does not look like a valid URI, trying to serialize this will break.\n"
     ]
    },
    {
     "name": "stdout",
     "output_type": "stream",
     "text": [
      "ECLI:NL:HR:1995:AA1514 \"1.0:v:BWB:BWBR0002221&artikel=54 (oud)&g=1995-02-01\" does not look like a valid URI, I cannot serialize this as N3/Turtle. Perhaps you wanted to urlencode it?\n"
     ]
    },
    {
     "name": "stderr",
     "output_type": "stream",
     "text": [
      "WARNING:rdflib.term:1.0:v:BWB:BWBR0002320&artikel=27 (oud)&g=1995-12-20 does not look like a valid URI, trying to serialize this will break.\n"
     ]
    },
    {
     "name": "stdout",
     "output_type": "stream",
     "text": [
      "ECLI:NL:HR:1995:AA1517 \"1.0:v:BWB:BWBR0002320&artikel=27 (oud)&g=1995-12-20\" does not look like a valid URI, I cannot serialize this as N3/Turtle. Perhaps you wanted to urlencode it?\n"
     ]
    },
    {
     "name": "stderr",
     "output_type": "stream",
     "text": [
      "WARNING:rdflib.term:1.0:v:BWB:BWBR0002320&artikel=27 (oud)&g=1995-03-29 does not look like a valid URI, trying to serialize this will break.\n"
     ]
    },
    {
     "name": "stdout",
     "output_type": "stream",
     "text": [
      "ECLI:NL:HR:1995:AA1528 \"1.0:v:BWB:BWBR0002320&artikel=27 (oud)&g=1995-03-29\" does not look like a valid URI, I cannot serialize this as N3/Turtle. Perhaps you wanted to urlencode it?\n"
     ]
    },
    {
     "name": "stderr",
     "output_type": "stream",
     "text": [
      "WARNING:rdflib.term:1.0:v:BWB:BWBR0002672&artikel=13 (oud)&g=1995-04-19 does not look like a valid URI, trying to serialize this will break.\n"
     ]
    },
    {
     "name": "stdout",
     "output_type": "stream",
     "text": [
      "ECLI:NL:HR:1995:AA1532 \"1.0:v:BWB:BWBR0002672&artikel=13 (oud)&g=1995-04-19\" does not look like a valid URI, I cannot serialize this as N3/Turtle. Perhaps you wanted to urlencode it?\n"
     ]
    },
    {
     "name": "stderr",
     "output_type": "stream",
     "text": [
      "WARNING:rdflib.term:1.0:v:BWB:BWBR0005416&artikel=270 (oud)&g=1995-03-15 does not look like a valid URI, trying to serialize this will break.\n"
     ]
    },
    {
     "name": "stdout",
     "output_type": "stream",
     "text": [
      "ECLI:NL:HR:1995:AA1535 \"1.0:v:BWB:BWBR0005416&artikel=270 (oud)&g=1995-03-15\" does not look like a valid URI, I cannot serialize this as N3/Turtle. Perhaps you wanted to urlencode it?\n"
     ]
    },
    {
     "name": "stderr",
     "output_type": "stream",
     "text": [
      "WARNING:rdflib.term:1.0:v:BWB:BWBR0005416&artikel=277 (oud)&g=1995-04-05 does not look like a valid URI, trying to serialize this will break.\n"
     ]
    },
    {
     "name": "stdout",
     "output_type": "stream",
     "text": [
      "ECLI:NL:HR:1995:AA1541 \"1.0:v:BWB:BWBR0005416&artikel=277 (oud)&g=1995-04-05\" does not look like a valid URI, I cannot serialize this as N3/Turtle. Perhaps you wanted to urlencode it?\n"
     ]
    },
    {
     "name": "stderr",
     "output_type": "stream",
     "text": [
      "WARNING:rdflib.term:1.0:v:BWB:BWBR0002320&artikel=30c (oud)&g=1995-05-17 does not look like a valid URI, trying to serialize this will break.\n"
     ]
    },
    {
     "name": "stdout",
     "output_type": "stream",
     "text": [
      "ECLI:NL:HR:1995:AA1570 \"1.0:v:BWB:BWBR0002320&artikel=30c (oud)&g=1995-05-17\" does not look like a valid URI, I cannot serialize this as N3/Turtle. Perhaps you wanted to urlencode it?\n"
     ]
    },
    {
     "name": "stderr",
     "output_type": "stream",
     "text": [
      "WARNING:rdflib.term:1.0:v:BWB:BWBR0005416&artikel=275 (oud)&g=1995-04-26 does not look like a valid URI, trying to serialize this will break.\n"
     ]
    },
    {
     "name": "stdout",
     "output_type": "stream",
     "text": [
      "ECLI:NL:HR:1995:AA1571 \"1.0:v:BWB:BWBR0005416&artikel=275 (oud)&g=1995-04-26\" does not look like a valid URI, I cannot serialize this as N3/Turtle. Perhaps you wanted to urlencode it?\n"
     ]
    },
    {
     "name": "stderr",
     "output_type": "stream",
     "text": [
      "WARNING:rdflib.term:1.0:v:BWB:BWBR0002672&artikel=13 (oud)&g=1995-05-17 does not look like a valid URI, trying to serialize this will break.\n",
      "WARNING:rdflib.term:1.0:v:BWB:BWBR0002672&artikel=13 (oud)&g=1995-05-17 does not look like a valid URI, trying to serialize this will break.\n"
     ]
    },
    {
     "name": "stdout",
     "output_type": "stream",
     "text": [
      "ECLI:NL:HR:1995:AA1573 \"1.0:v:BWB:BWBR0002672&artikel=13 (oud)&g=1995-05-17\" does not look like a valid URI, I cannot serialize this as N3/Turtle. Perhaps you wanted to urlencode it?\n"
     ]
    },
    {
     "name": "stderr",
     "output_type": "stream",
     "text": [
      "WARNING:rdflib.term:1.0:v:BWB:BWBR0005416&artikel=277 (oud)&g=1995-06-14 does not look like a valid URI, trying to serialize this will break.\n"
     ]
    },
    {
     "name": "stdout",
     "output_type": "stream",
     "text": [
      "ECLI:NL:HR:1995:AA1574 \"1.0:v:BWB:BWBR0005416&artikel=277 (oud)&g=1995-06-14\" does not look like a valid URI, I cannot serialize this as N3/Turtle. Perhaps you wanted to urlencode it?\n"
     ]
    },
    {
     "name": "stderr",
     "output_type": "stream",
     "text": [
      "WARNING:rdflib.term:1.0:v:BWB:BWBR0005416&artikel=270 (oud)&g=1995-05-03 does not look like a valid URI, trying to serialize this will break.\n",
      "WARNING:rdflib.term:1.0:v:BWB:BWBR0005416&artikel=277 (oud)&g=1995-05-03 does not look like a valid URI, trying to serialize this will break.\n",
      "WARNING:rdflib.term:1.0:v:BWB:BWBR0005416&artikel=279 (oud)&g=1995-05-03 does not look like a valid URI, trying to serialize this will break.\n"
     ]
    },
    {
     "name": "stdout",
     "output_type": "stream",
     "text": [
      "ECLI:NL:HR:1995:AA1590 \"1.0:v:BWB:BWBR0005416&artikel=270 (oud)&g=1995-05-03\" does not look like a valid URI, I cannot serialize this as N3/Turtle. Perhaps you wanted to urlencode it?\n"
     ]
    },
    {
     "name": "stderr",
     "output_type": "stream",
     "text": [
      "WARNING:rdflib.term:1.0:v:BWB:BWBR0005416&artikel=274 (oud)&g=1995-04-05 does not look like a valid URI, trying to serialize this will break.\n"
     ]
    },
    {
     "name": "stdout",
     "output_type": "stream",
     "text": [
      "ECLI:NL:HR:1995:AA1594 \"1.0:v:BWB:BWBR0005416&artikel=274 (oud)&g=1995-04-05\" does not look like a valid URI, I cannot serialize this as N3/Turtle. Perhaps you wanted to urlencode it?\n"
     ]
    },
    {
     "name": "stderr",
     "output_type": "stream",
     "text": [
      "WARNING:rdflib.term:1.0:v:BWB:BWBR0002320&artikel=47 (oud)&g=1995-06-07 does not look like a valid URI, trying to serialize this will break.\n"
     ]
    },
    {
     "name": "stdout",
     "output_type": "stream",
     "text": [
      "ECLI:NL:HR:1995:AA1597 \"1.0:v:BWB:BWBR0002320&artikel=47 (oud)&g=1995-06-07\" does not look like a valid URI, I cannot serialize this as N3/Turtle. Perhaps you wanted to urlencode it?\n"
     ]
    },
    {
     "name": "stderr",
     "output_type": "stream",
     "text": [
      "WARNING:rdflib.term:1.0:v:BWB:BWBR0005645&artikel=82 (oud)&g=1995-04-05 does not look like a valid URI, trying to serialize this will break.\n"
     ]
    },
    {
     "name": "stdout",
     "output_type": "stream",
     "text": [
      "ECLI:NL:HR:1995:AA1602 \"1.0:v:BWB:BWBR0005645&artikel=82 (oud)&g=1995-04-05\" does not look like a valid URI, I cannot serialize this as N3/Turtle. Perhaps you wanted to urlencode it?\n"
     ]
    },
    {
     "name": "stderr",
     "output_type": "stream",
     "text": [
      "WARNING:rdflib.term:1.0:v:BWB:BWBR0002629&artikel=50 (oud)&g=1995-07-10 does not look like a valid URI, trying to serialize this will break.\n"
     ]
    },
    {
     "name": "stdout",
     "output_type": "stream",
     "text": [
      "ECLI:NL:HR:1995:AA1603 \"1.0:v:BWB:BWBR0002629&artikel=50 (oud)&g=1995-07-10\" does not look like a valid URI, I cannot serialize this as N3/Turtle. Perhaps you wanted to urlencode it?\n"
     ]
    },
    {
     "name": "stderr",
     "output_type": "stream",
     "text": [
      "WARNING:rdflib.term:1.0:v:BWB:BWBR0002629&artikel=50 (oud)&g=1995-06-21 does not look like a valid URI, trying to serialize this will break.\n"
     ]
    },
    {
     "name": "stdout",
     "output_type": "stream",
     "text": [
      "ECLI:NL:HR:1995:AA1613 \"1.0:v:BWB:BWBR0002629&artikel=50 (oud)&g=1995-06-21\" does not look like a valid URI, I cannot serialize this as N3/Turtle. Perhaps you wanted to urlencode it?\n"
     ]
    },
    {
     "name": "stderr",
     "output_type": "stream",
     "text": [
      "WARNING:rdflib.term:1.0:v:BWB:BWBR0005416&artikel=274 (oud)&g=1995-06-28 does not look like a valid URI, trying to serialize this will break.\n"
     ]
    },
    {
     "name": "stdout",
     "output_type": "stream",
     "text": [
      "ECLI:NL:HR:1995:AA1627 \"1.0:v:BWB:BWBR0005416&artikel=274 (oud)&g=1995-06-28\" does not look like a valid URI, I cannot serialize this as N3/Turtle. Perhaps you wanted to urlencode it?\n"
     ]
    },
    {
     "name": "stderr",
     "output_type": "stream",
     "text": [
      "WARNING:rdflib.term:1.0:v:BWB:BWBR0005416&artikel=273 (oud)&g=1995-05-31 does not look like a valid URI, trying to serialize this will break.\n"
     ]
    },
    {
     "name": "stdout",
     "output_type": "stream",
     "text": [
      "ECLI:NL:HR:1995:AA1634 \"1.0:v:BWB:BWBR0005416&artikel=273 (oud)&g=1995-05-31\" does not look like a valid URI, I cannot serialize this as N3/Turtle. Perhaps you wanted to urlencode it?\n"
     ]
    },
    {
     "name": "stderr",
     "output_type": "stream",
     "text": [
      "WARNING:rdflib.term:1.0:v:BWB:BWBR0002629&artikel=50 (oud)&g=1995-09-27 does not look like a valid URI, trying to serialize this will break.\n"
     ]
    },
    {
     "name": "stdout",
     "output_type": "stream",
     "text": [
      "ECLI:NL:HR:1995:AA1649 \"1.0:v:BWB:BWBR0002629&artikel=50 (oud)&g=1995-09-27\" does not look like a valid URI, I cannot serialize this as N3/Turtle. Perhaps you wanted to urlencode it?\n"
     ]
    },
    {
     "name": "stderr",
     "output_type": "stream",
     "text": [
      "WARNING:rdflib.term:1.0:v:BWB:BWBR0005416&artikel=272 (oud)&g=1995-07-24 does not look like a valid URI, trying to serialize this will break.\n",
      "WARNING:rdflib.term:1.0:v:BWB:BWBR0005416&artikel=273 (oud)&g=1995-07-24 does not look like a valid URI, trying to serialize this will break.\n"
     ]
    },
    {
     "name": "stdout",
     "output_type": "stream",
     "text": [
      "ECLI:NL:HR:1995:AA1651 \"1.0:v:BWB:BWBR0005416&artikel=272 (oud)&g=1995-07-24\" does not look like a valid URI, I cannot serialize this as N3/Turtle. Perhaps you wanted to urlencode it?\n"
     ]
    },
    {
     "name": "stderr",
     "output_type": "stream",
     "text": [
      "WARNING:rdflib.term:1.0:v:BWB:BWBR0005416&artikel=273 (oud)&g=1995-06-28 does not look like a valid URI, trying to serialize this will break.\n"
     ]
    },
    {
     "name": "stdout",
     "output_type": "stream",
     "text": [
      "ECLI:NL:HR:1995:AA1653 \"1.0:v:BWB:BWBR0005416&artikel=273 (oud)&g=1995-06-28\" does not look like a valid URI, I cannot serialize this as N3/Turtle. Perhaps you wanted to urlencode it?\n"
     ]
    },
    {
     "name": "stderr",
     "output_type": "stream",
     "text": [
      "WARNING:rdflib.term:1.0:v:BWB:BWBR0002629&artikel=8 (oud)&g=1995-09-13 does not look like a valid URI, trying to serialize this will break.\n"
     ]
    },
    {
     "name": "stdout",
     "output_type": "stream",
     "text": [
      "ECLI:NL:HR:1995:AA1656 \"1.0:v:BWB:BWBR0002629&artikel=8 (oud)&g=1995-09-13\" does not look like a valid URI, I cannot serialize this as N3/Turtle. Perhaps you wanted to urlencode it?\n"
     ]
    },
    {
     "name": "stderr",
     "output_type": "stream",
     "text": [
      "WARNING:rdflib.term:1.0:v:BWB:BWBR0005416&artikel=275 (oud)&g=1995-07-24 does not look like a valid URI, trying to serialize this will break.\n"
     ]
    },
    {
     "name": "stdout",
     "output_type": "stream",
     "text": [
      "ECLI:NL:HR:1995:AA1657 \"1.0:v:BWB:BWBR0005416&artikel=275 (oud)&g=1995-07-24\" does not look like a valid URI, I cannot serialize this as N3/Turtle. Perhaps you wanted to urlencode it?\n"
     ]
    },
    {
     "name": "stderr",
     "output_type": "stream",
     "text": [
      "WARNING:rdflib.term:1.0:v:BWB:BWBR0002672&artikel=13 (oud)&g=1995-09-06 does not look like a valid URI, trying to serialize this will break.\n"
     ]
    },
    {
     "name": "stdout",
     "output_type": "stream",
     "text": [
      "ECLI:NL:HR:1995:AA1674 \"1.0:v:BWB:BWBR0002672&artikel=13 (oud)&g=1995-09-06\" does not look like a valid URI, I cannot serialize this as N3/Turtle. Perhaps you wanted to urlencode it?\n"
     ]
    },
    {
     "name": "stderr",
     "output_type": "stream",
     "text": [
      "WARNING:rdflib.term:1.0:v:BWB:BWBR0005416&artikel=273 (oud)&g=1995-01-04 does not look like a valid URI, trying to serialize this will break.\n"
     ]
    },
    {
     "name": "stdout",
     "output_type": "stream",
     "text": [
      "ECLI:NL:HR:1995:AA3021 \"1.0:v:BWB:BWBR0005416&artikel=273 (oud)&g=1995-01-04\" does not look like a valid URI, I cannot serialize this as N3/Turtle. Perhaps you wanted to urlencode it?\n"
     ]
    },
    {
     "name": "stderr",
     "output_type": "stream",
     "text": [
      "WARNING:rdflib.term:1.0:v:BWB:BWBR0005416&artikel=270 (oud)&g=1995-02-15 does not look like a valid URI, trying to serialize this will break.\n"
     ]
    },
    {
     "name": "stdout",
     "output_type": "stream",
     "text": [
      "ECLI:NL:HR:1995:AA3022 \"1.0:v:BWB:BWBR0005416&artikel=270 (oud)&g=1995-02-15\" does not look like a valid URI, I cannot serialize this as N3/Turtle. Perhaps you wanted to urlencode it?\n"
     ]
    },
    {
     "name": "stderr",
     "output_type": "stream",
     "text": [
      "WARNING:rdflib.term:1.0:v:BWB:BWBR0002471&artikel=26a (oud)&g=1995-01-25 does not look like a valid URI, trying to serialize this will break.\n"
     ]
    },
    {
     "name": "stdout",
     "output_type": "stream",
     "text": [
      "ECLI:NL:HR:1995:AA3023 \"1.0:v:BWB:BWBR0002471&artikel=26a (oud)&g=1995-01-25\" does not look like a valid URI, I cannot serialize this as N3/Turtle. Perhaps you wanted to urlencode it?\n"
     ]
    },
    {
     "name": "stderr",
     "output_type": "stream",
     "text": [
      "WARNING:rdflib.term:1.0:v:BWB:BWBR0005416&artikel=270 (oud)&g=1995-02-08 does not look like a valid URI, trying to serialize this will break.\n",
      "WARNING:rdflib.term:1.0:v:BWB:BWBR0005416&artikel=277 (oud)&g=1995-02-08 does not look like a valid URI, trying to serialize this will break.\n"
     ]
    },
    {
     "name": "stdout",
     "output_type": "stream",
     "text": [
      "ECLI:NL:HR:1995:AA3033 \"1.0:v:BWB:BWBR0005416&artikel=270 (oud)&g=1995-02-08\" does not look like a valid URI, I cannot serialize this as N3/Turtle. Perhaps you wanted to urlencode it?\n"
     ]
    },
    {
     "name": "stderr",
     "output_type": "stream",
     "text": [
      "WARNING:rdflib.term:1.0:v:BWB:BWBR0002471&artikel=32a (oud)&g=1995-01-11 does not look like a valid URI, trying to serialize this will break.\n"
     ]
    },
    {
     "name": "stdout",
     "output_type": "stream",
     "text": [
      "ECLI:NL:HR:1995:AA3054 \"1.0:v:BWB:BWBR0002471&artikel=32a (oud)&g=1995-01-11\" does not look like a valid URI, I cannot serialize this as N3/Turtle. Perhaps you wanted to urlencode it?\n"
     ]
    },
    {
     "name": "stderr",
     "output_type": "stream",
     "text": [
      "WARNING:rdflib.term:1.0:v:BWB:BWBR0002320&artikel=47 (oud)&g=1995-03-08 does not look like a valid URI, trying to serialize this will break.\n"
     ]
    },
    {
     "name": "stdout",
     "output_type": "stream",
     "text": [
      "ECLI:NL:HR:1995:AA3068 \"1.0:v:BWB:BWBR0002320&artikel=47 (oud)&g=1995-03-08\" does not look like a valid URI, I cannot serialize this as N3/Turtle. Perhaps you wanted to urlencode it?\n"
     ]
    },
    {
     "name": "stderr",
     "output_type": "stream",
     "text": [
      "WARNING:rdflib.term:1.0:v:BWB:BWBR0002672&artikel=13 (oud)&g=1995-03-15 does not look like a valid URI, trying to serialize this will break.\n"
     ]
    },
    {
     "name": "stdout",
     "output_type": "stream",
     "text": [
      "ECLI:NL:HR:1995:AA3078 \"1.0:v:BWB:BWBR0002672&artikel=13 (oud)&g=1995-03-15\" does not look like a valid URI, I cannot serialize this as N3/Turtle. Perhaps you wanted to urlencode it?\n"
     ]
    },
    {
     "name": "stderr",
     "output_type": "stream",
     "text": [
      "WARNING:rdflib.term:1.0:v:BWB:BWBR0002320&artikel=30c (oud)&g=1995-11-01 does not look like a valid URI, trying to serialize this will break.\n"
     ]
    },
    {
     "name": "stdout",
     "output_type": "stream",
     "text": [
      "ECLI:NL:HR:1995:AA3087 \"1.0:v:BWB:BWBR0002320&artikel=30c (oud)&g=1995-11-01\" does not look like a valid URI, I cannot serialize this as N3/Turtle. Perhaps you wanted to urlencode it?\n"
     ]
    },
    {
     "name": "stderr",
     "output_type": "stream",
     "text": [
      "WARNING:rdflib.term:1.0:v:BWB:BWBR0005416&artikel=274 (oud)&g=1995-03-01 does not look like a valid URI, trying to serialize this will break.\n"
     ]
    },
    {
     "name": "stdout",
     "output_type": "stream",
     "text": [
      "ECLI:NL:HR:1995:AA3088 \"1.0:v:BWB:BWBR0005416&artikel=274 (oud)&g=1995-03-01\" does not look like a valid URI, I cannot serialize this as N3/Turtle. Perhaps you wanted to urlencode it?\n"
     ]
    },
    {
     "name": "stderr",
     "output_type": "stream",
     "text": [
      "WARNING:rdflib.term:1.0:v:BWB:BWBR0002368&artikel=26 (oud)&g=1995-02-15 does not look like a valid URI, trying to serialize this will break.\n",
      "WARNING:rdflib.term:1.0:v:BWB:BWBR0002614&artikel=20 (oud)&g=1995-02-15 does not look like a valid URI, trying to serialize this will break.\n"
     ]
    },
    {
     "name": "stdout",
     "output_type": "stream",
     "text": [
      "ECLI:NL:HR:1995:AA3090 \"1.0:v:BWB:BWBR0002368&artikel=26 (oud)&g=1995-02-15\" does not look like a valid URI, I cannot serialize this as N3/Turtle. Perhaps you wanted to urlencode it?\n"
     ]
    },
    {
     "name": "stderr",
     "output_type": "stream",
     "text": [
      "WARNING:rdflib.term:1.0:v:BWB:BWBR0005416&artikel=270 (oud)&g=1995-09-20 does not look like a valid URI, trying to serialize this will break.\n",
      "WARNING:rdflib.term:1.0:v:BWB:BWBR0005416&artikel=277 (oud)&g=1995-09-20 does not look like a valid URI, trying to serialize this will break.\n",
      "WARNING:rdflib.term:1.0:v:BWB:BWBR0005416&artikel=277 (oud)&g=1995-09-20 does not look like a valid URI, trying to serialize this will break.\n"
     ]
    },
    {
     "name": "stdout",
     "output_type": "stream",
     "text": [
      "ECLI:NL:HR:1995:AA3102 \"1.0:v:BWB:BWBR0005416&artikel=270 (oud)&g=1995-09-20\" does not look like a valid URI, I cannot serialize this as N3/Turtle. Perhaps you wanted to urlencode it?\n"
     ]
    },
    {
     "name": "stderr",
     "output_type": "stream",
     "text": [
      "WARNING:rdflib.term:1.0:v:BWB:BWBR0002629&artikel=50 (oud)&g=1995-11-15 does not look like a valid URI, trying to serialize this will break.\n"
     ]
    },
    {
     "name": "stdout",
     "output_type": "stream",
     "text": [
      "ECLI:NL:HR:1995:AA3104 \"1.0:v:BWB:BWBR0002629&artikel=50 (oud)&g=1995-11-15\" does not look like a valid URI, I cannot serialize this as N3/Turtle. Perhaps you wanted to urlencode it?\n"
     ]
    },
    {
     "name": "stderr",
     "output_type": "stream",
     "text": [
      "WARNING:rdflib.term:1.0:v:BWB:BWBR0002672&artikel=23b (oud)&g=1995-10-18 does not look like a valid URI, trying to serialize this will break.\n",
      "WARNING:rdflib.term:1.0:v:BWB:BWBR0002672&artikel=23c (oud)&g=1995-10-18 does not look like a valid URI, trying to serialize this will break.\n"
     ]
    },
    {
     "name": "stdout",
     "output_type": "stream",
     "text": [
      "ECLI:NL:HR:1995:AA3113 \"1.0:v:BWB:BWBR0002672&artikel=23b (oud)&g=1995-10-18\" does not look like a valid URI, I cannot serialize this as N3/Turtle. Perhaps you wanted to urlencode it?\n"
     ]
    },
    {
     "name": "stderr",
     "output_type": "stream",
     "text": [
      "WARNING:rdflib.term:1.0:v:BWB:BWBR0005416&artikel=276a (oud)&g=1995-11-22 does not look like a valid URI, trying to serialize this will break.\n",
      "WARNING:rdflib.term:1.0:v:BWB:BWBR0005416&artikel=283a (oud)&g=1995-11-22 does not look like a valid URI, trying to serialize this will break.\n"
     ]
    },
    {
     "name": "stdout",
     "output_type": "stream",
     "text": [
      "ECLI:NL:HR:1995:AA3117 \"1.0:v:BWB:BWBR0005416&artikel=276a (oud)&g=1995-11-22\" does not look like a valid URI, I cannot serialize this as N3/Turtle. Perhaps you wanted to urlencode it?\n"
     ]
    },
    {
     "name": "stderr",
     "output_type": "stream",
     "text": [
      "WARNING:rdflib.term:1.0:v:BWB:BWBR0002629&artikel=50 (oud)&g=1995-09-27 does not look like a valid URI, trying to serialize this will break.\n"
     ]
    },
    {
     "name": "stdout",
     "output_type": "stream",
     "text": [
      "ECLI:NL:HR:1995:AA3120 \"1.0:v:BWB:BWBR0002629&artikel=50 (oud)&g=1995-09-27\" does not look like a valid URI, I cannot serialize this as N3/Turtle. Perhaps you wanted to urlencode it?\n"
     ]
    },
    {
     "name": "stderr",
     "output_type": "stream",
     "text": [
      "WARNING:rdflib.term:1.0:v:BWB:BWBR0005416&artikel=276a (oud)&g=1995-11-22 does not look like a valid URI, trying to serialize this will break.\n"
     ]
    },
    {
     "name": "stdout",
     "output_type": "stream",
     "text": [
      "ECLI:NL:HR:1995:AA3126 \"1.0:v:BWB:BWBR0005416&artikel=276a (oud)&g=1995-11-22\" does not look like a valid URI, I cannot serialize this as N3/Turtle. Perhaps you wanted to urlencode it?\n"
     ]
    },
    {
     "name": "stderr",
     "output_type": "stream",
     "text": [
      "WARNING:rdflib.term:1.0:v:BWB:BWBR0005416&artikel=276a (oud)&g=1995-10-18 does not look like a valid URI, trying to serialize this will break.\n",
      "WARNING:rdflib.term:1.0:v:BWB:BWBR0005416&artikel=283a (oud)&g=1995-10-18 does not look like a valid URI, trying to serialize this will break.\n",
      "WARNING:rdflib.term:1.0:v:BWB:BWBR0005416&artikel=283b (oud)&g=1995-10-18 does not look like a valid URI, trying to serialize this will break.\n"
     ]
    },
    {
     "name": "stdout",
     "output_type": "stream",
     "text": [
      "ECLI:NL:HR:1995:AA3127 \"1.0:v:BWB:BWBR0005416&artikel=276a (oud)&g=1995-10-18\" does not look like a valid URI, I cannot serialize this as N3/Turtle. Perhaps you wanted to urlencode it?\n"
     ]
    },
    {
     "name": "stderr",
     "output_type": "stream",
     "text": [
      "WARNING:rdflib.term:1.0:v:BWB:BWBR0005416&artikel=273 (oud)&g=1995-12-06 does not look like a valid URI, trying to serialize this will break.\n"
     ]
    },
    {
     "name": "stdout",
     "output_type": "stream",
     "text": [
      "ECLI:NL:HR:1995:AA3129 \"1.0:v:BWB:BWBR0005416&artikel=273 (oud)&g=1995-12-06\" does not look like a valid URI, I cannot serialize this as N3/Turtle. Perhaps you wanted to urlencode it?\n"
     ]
    },
    {
     "name": "stderr",
     "output_type": "stream",
     "text": [
      "WARNING:rdflib.term:1.0:v:BWB:BWBR0005416&artikel=273 (oud)&g=1995-11-29 does not look like a valid URI, trying to serialize this will break.\n"
     ]
    },
    {
     "name": "stdout",
     "output_type": "stream",
     "text": [
      "ECLI:NL:HR:1995:AA3142 \"1.0:v:BWB:BWBR0005416&artikel=273 (oud)&g=1995-11-29\" does not look like a valid URI, I cannot serialize this as N3/Turtle. Perhaps you wanted to urlencode it?\n"
     ]
    },
    {
     "name": "stderr",
     "output_type": "stream",
     "text": [
      "WARNING:rdflib.term:1.0:v:BWB:BWBR0002320&artikel=23 (oud)&g=1995-12-20 does not look like a valid URI, trying to serialize this will break.\n"
     ]
    },
    {
     "name": "stdout",
     "output_type": "stream",
     "text": [
      "ECLI:NL:HR:1995:AA3157 \"1.0:v:BWB:BWBR0002320&artikel=23 (oud)&g=1995-12-20\" does not look like a valid URI, I cannot serialize this as N3/Turtle. Perhaps you wanted to urlencode it?\n"
     ]
    },
    {
     "name": "stderr",
     "output_type": "stream",
     "text": [
      "WARNING:rdflib.term:1.0:v:BWB:BWBR0005416&artikel=273a (oud)&g=1995-12-20 does not look like a valid URI, trying to serialize this will break.\n"
     ]
    },
    {
     "name": "stdout",
     "output_type": "stream",
     "text": [
      "ECLI:NL:HR:1995:AA3163 \"1.0:v:BWB:BWBR0005416&artikel=273a (oud)&g=1995-12-20\" does not look like a valid URI, I cannot serialize this as N3/Turtle. Perhaps you wanted to urlencode it?\n"
     ]
    },
    {
     "name": "stderr",
     "output_type": "stream",
     "text": [
      "WARNING:rdflib.term:1.0:v:BWB:BWBR0002320&artikel=49 (oud)&g=1995-12-13 does not look like a valid URI, trying to serialize this will break.\n"
     ]
    },
    {
     "name": "stdout",
     "output_type": "stream",
     "text": [
      "ECLI:NL:HR:1995:AA3171 \"1.0:v:BWB:BWBR0002320&artikel=49 (oud)&g=1995-12-13\" does not look like a valid URI, I cannot serialize this as N3/Turtle. Perhaps you wanted to urlencode it?\n"
     ]
    },
    {
     "name": "stderr",
     "output_type": "stream",
     "text": [
      "WARNING:rdflib.term:1.0:v:BWB:BWBR0002320&artikel=30a (oud)&g=1995-11-29 does not look like a valid URI, trying to serialize this will break.\n",
      "WARNING:rdflib.term:1.0:v:BWB:BWBR0002320&artikel=30c (oud)&g=1995-11-29 does not look like a valid URI, trying to serialize this will break.\n"
     ]
    },
    {
     "name": "stdout",
     "output_type": "stream",
     "text": [
      "ECLI:NL:HR:1995:AA3172 \"1.0:v:BWB:BWBR0002320&artikel=30a (oud)&g=1995-11-29\" does not look like a valid URI, I cannot serialize this as N3/Turtle. Perhaps you wanted to urlencode it?\n"
     ]
    },
    {
     "name": "stderr",
     "output_type": "stream",
     "text": [
      "WARNING:rdflib.term:1.0:v:BWB:BWBR0002320&artikel=25 (oud)&g=1996-07-19 does not look like a valid URI, trying to serialize this will break.\n"
     ]
    },
    {
     "name": "stdout",
     "output_type": "stream",
     "text": [
      "ECLI:NL:HR:1996:AA1496 \"1.0:v:BWB:BWBR0002320&artikel=25 (oud)&g=1996-07-19\" does not look like a valid URI, I cannot serialize this as N3/Turtle. Perhaps you wanted to urlencode it?\n"
     ]
    },
    {
     "name": "stderr",
     "output_type": "stream",
     "text": [
      "WARNING:rdflib.term:1.0:v:BWB:BWBR0005645&artikel=82 (oud)&g=1996-10-23 does not look like a valid URI, trying to serialize this will break.\n"
     ]
    },
    {
     "name": "stdout",
     "output_type": "stream",
     "text": [
      "ECLI:NL:HR:1996:AA1503 \"1.0:v:BWB:BWBR0005645&artikel=82 (oud)&g=1996-10-23\" does not look like a valid URI, I cannot serialize this as N3/Turtle. Perhaps you wanted to urlencode it?\n"
     ]
    },
    {
     "name": "stderr",
     "output_type": "stream",
     "text": [
      "WARNING:rdflib.term:1.0:v:BWB:BWBR0002629&artikel=22 (oud)&g=1996-10-02 does not look like a valid URI, trying to serialize this will break.\n"
     ]
    },
    {
     "name": "stdout",
     "output_type": "stream",
     "text": [
      "ECLI:NL:HR:1996:AA1696 \"1.0:v:BWB:BWBR0002629&artikel=22 (oud)&g=1996-10-02\" does not look like a valid URI, I cannot serialize this as N3/Turtle. Perhaps you wanted to urlencode it?\n"
     ]
    },
    {
     "name": "stderr",
     "output_type": "stream",
     "text": [
      "WARNING:rdflib.term:1.0:v:BWB:BWBR0002629&artikel=22 (oud)&g=1996-10-09 does not look like a valid URI, trying to serialize this will break.\n"
     ]
    },
    {
     "name": "stdout",
     "output_type": "stream",
     "text": [
      "ECLI:NL:HR:1996:AA1706 \"1.0:v:BWB:BWBR0002629&artikel=22 (oud)&g=1996-10-09\" does not look like a valid URI, I cannot serialize this as N3/Turtle. Perhaps you wanted to urlencode it?\n"
     ]
    },
    {
     "name": "stderr",
     "output_type": "stream",
     "text": [
      "WARNING:rdflib.term:1.0:v:BWB:BWBR0002320&artikel=30d (oud)&g=1996-10-16 does not look like a valid URI, trying to serialize this will break.\n"
     ]
    },
    {
     "name": "stdout",
     "output_type": "stream",
     "text": [
      "ECLI:NL:HR:1996:AA1714 \"1.0:v:BWB:BWBR0002320&artikel=30d (oud)&g=1996-10-16\" does not look like a valid URI, I cannot serialize this as N3/Turtle. Perhaps you wanted to urlencode it?\n"
     ]
    },
    {
     "name": "stderr",
     "output_type": "stream",
     "text": [
      "WARNING:rdflib.term:1.0:v:BWB:BWBR0005416&artikel=274 (oud)&g=1996-11-06 does not look like a valid URI, trying to serialize this will break.\n"
     ]
    },
    {
     "name": "stdout",
     "output_type": "stream",
     "text": [
      "ECLI:NL:HR:1996:AA1730 \"1.0:v:BWB:BWBR0005416&artikel=274 (oud)&g=1996-11-06\" does not look like a valid URI, I cannot serialize this as N3/Turtle. Perhaps you wanted to urlencode it?\n"
     ]
    },
    {
     "name": "stderr",
     "output_type": "stream",
     "text": [
      "WARNING:rdflib.term:1.0:v:BWB:BWBR0005806&artikel=3 (oud)&g=1996-11-06 does not look like a valid URI, trying to serialize this will break.\n"
     ]
    },
    {
     "name": "stdout",
     "output_type": "stream",
     "text": [
      "ECLI:NL:HR:1996:AA1733 \"1.0:v:BWB:BWBR0005806&artikel=3 (oud)&g=1996-11-06\" does not look like a valid URI, I cannot serialize this as N3/Turtle. Perhaps you wanted to urlencode it?\n"
     ]
    },
    {
     "name": "stderr",
     "output_type": "stream",
     "text": [
      "WARNING:rdflib.term:1.0:v:BWB:BWBR0002672&artikel=23b (oud)&g=1996-10-30 does not look like a valid URI, trying to serialize this will break.\n"
     ]
    },
    {
     "name": "stdout",
     "output_type": "stream",
     "text": [
      "ECLI:NL:HR:1996:AA1734 \"1.0:v:BWB:BWBR0002672&artikel=23b (oud)&g=1996-10-30\" does not look like a valid URI, I cannot serialize this as N3/Turtle. Perhaps you wanted to urlencode it?\n"
     ]
    },
    {
     "name": "stderr",
     "output_type": "stream",
     "text": [
      "WARNING:rdflib.term:1.0:v:BWB:BWBR0005416&artikel=276 (oud)&g=1996-11-06 does not look like a valid URI, trying to serialize this will break.\n"
     ]
    },
    {
     "name": "stdout",
     "output_type": "stream",
     "text": [
      "ECLI:NL:HR:1996:AA1737 \"1.0:v:BWB:BWBR0005416&artikel=276 (oud)&g=1996-11-06\" does not look like a valid URI, I cannot serialize this as N3/Turtle. Perhaps you wanted to urlencode it?\n"
     ]
    },
    {
     "name": "stderr",
     "output_type": "stream",
     "text": [
      "WARNING:rdflib.term:1.0:v:BWB:BWBR0005416&artikel=273 (oud)&g=1996-09-25 does not look like a valid URI, trying to serialize this will break.\n"
     ]
    },
    {
     "name": "stdout",
     "output_type": "stream",
     "text": [
      "ECLI:NL:HR:1996:AA1745 \"1.0:v:BWB:BWBR0005416&artikel=273 (oud)&g=1996-09-25\" does not look like a valid URI, I cannot serialize this as N3/Turtle. Perhaps you wanted to urlencode it?\n"
     ]
    },
    {
     "name": "stderr",
     "output_type": "stream",
     "text": [
      "WARNING:rdflib.term:1.0:v:BWB:BWBR0005416&artikel=273 (oud)&g=1996-09-25 does not look like a valid URI, trying to serialize this will break.\n"
     ]
    },
    {
     "name": "stdout",
     "output_type": "stream",
     "text": [
      "ECLI:NL:HR:1996:AA1746 \"1.0:v:BWB:BWBR0005416&artikel=273 (oud)&g=1996-09-25\" does not look like a valid URI, I cannot serialize this as N3/Turtle. Perhaps you wanted to urlencode it?\n"
     ]
    },
    {
     "name": "stderr",
     "output_type": "stream",
     "text": [
      "WARNING:rdflib.term:1.0:v:BWB:BWBR0005416&artikel=220 (oud)&g=1996-11-27 does not look like a valid URI, trying to serialize this will break.\n"
     ]
    },
    {
     "name": "stdout",
     "output_type": "stream",
     "text": [
      "ECLI:NL:HR:1996:AA1754 \"1.0:v:BWB:BWBR0005416&artikel=220 (oud)&g=1996-11-27\" does not look like a valid URI, I cannot serialize this as N3/Turtle. Perhaps you wanted to urlencode it?\n"
     ]
    },
    {
     "name": "stderr",
     "output_type": "stream",
     "text": [
      "WARNING:rdflib.term:1.0:v:BWB:BWBR0002320&artikel=23 (oud)&g=1996-11-20 does not look like a valid URI, trying to serialize this will break.\n"
     ]
    },
    {
     "name": "stdout",
     "output_type": "stream",
     "text": [
      "ECLI:NL:HR:1996:AA1755 \"1.0:v:BWB:BWBR0002320&artikel=23 (oud)&g=1996-11-20\" does not look like a valid URI, I cannot serialize this as N3/Turtle. Perhaps you wanted to urlencode it?\n"
     ]
    },
    {
     "name": "stderr",
     "output_type": "stream",
     "text": [
      "WARNING:rdflib.term:1.0:v:BWB:BWBR0002672&artikel=13 (oud)&g=1996-11-13 does not look like a valid URI, trying to serialize this will break.\n"
     ]
    },
    {
     "name": "stdout",
     "output_type": "stream",
     "text": [
      "ECLI:NL:HR:1996:AA1757 \"1.0:v:BWB:BWBR0002672&artikel=13 (oud)&g=1996-11-13\" does not look like a valid URI, I cannot serialize this as N3/Turtle. Perhaps you wanted to urlencode it?\n"
     ]
    },
    {
     "name": "stderr",
     "output_type": "stream",
     "text": [
      "WARNING:rdflib.term:1.0:v:BWB:BWBR0002672&artikel=13 (oud)&g=1996-12-04 does not look like a valid URI, trying to serialize this will break.\n"
     ]
    },
    {
     "name": "stdout",
     "output_type": "stream",
     "text": [
      "ECLI:NL:HR:1996:AA1780 \"1.0:v:BWB:BWBR0002672&artikel=13 (oud)&g=1996-12-04\" does not look like a valid URI, I cannot serialize this as N3/Turtle. Perhaps you wanted to urlencode it?\n"
     ]
    },
    {
     "name": "stderr",
     "output_type": "stream",
     "text": [
      "WARNING:rdflib.term:1.0:v:BWB:BWBR0005416&artikel=273 (oud)&g=1996-11-20 does not look like a valid URI, trying to serialize this will break.\n"
     ]
    },
    {
     "name": "stdout",
     "output_type": "stream",
     "text": [
      "ECLI:NL:HR:1996:AA1782 \"1.0:v:BWB:BWBR0005416&artikel=273 (oud)&g=1996-11-20\" does not look like a valid URI, I cannot serialize this as N3/Turtle. Perhaps you wanted to urlencode it?\n"
     ]
    },
    {
     "name": "stderr",
     "output_type": "stream",
     "text": [
      "WARNING:rdflib.term:1.0:v:BWB:BWBR0002320&artikel=25 (oud)&g=1996-07-19 does not look like a valid URI, trying to serialize this will break.\n"
     ]
    },
    {
     "name": "stdout",
     "output_type": "stream",
     "text": [
      "ECLI:NL:HR:1996:AA1793 \"1.0:v:BWB:BWBR0002320&artikel=25 (oud)&g=1996-07-19\" does not look like a valid URI, I cannot serialize this as N3/Turtle. Perhaps you wanted to urlencode it?\n"
     ]
    },
    {
     "name": "stderr",
     "output_type": "stream",
     "text": [
      "WARNING:rdflib.term:1.0:v:BWB:BWBR0005416&artikel=273 (oud)&g=1996-07-19 does not look like a valid URI, trying to serialize this will break.\n"
     ]
    },
    {
     "name": "stdout",
     "output_type": "stream",
     "text": [
      "ECLI:NL:HR:1996:AA1794 \"1.0:v:BWB:BWBR0005416&artikel=273 (oud)&g=1996-07-19\" does not look like a valid URI, I cannot serialize this as N3/Turtle. Perhaps you wanted to urlencode it?\n"
     ]
    },
    {
     "name": "stderr",
     "output_type": "stream",
     "text": [
      "WARNING:rdflib.term:1.0:v:BWB:BWBR0005416&artikel=277 (oud)&g=1996-12-18 does not look like a valid URI, trying to serialize this will break.\n"
     ]
    },
    {
     "name": "stdout",
     "output_type": "stream",
     "text": [
      "ECLI:NL:HR:1996:AA1795 \"1.0:v:BWB:BWBR0005416&artikel=277 (oud)&g=1996-12-18\" does not look like a valid URI, I cannot serialize this as N3/Turtle. Perhaps you wanted to urlencode it?\n"
     ]
    },
    {
     "name": "stderr",
     "output_type": "stream",
     "text": [
      "WARNING:rdflib.term:1.0:v:BWB:BWBR0002320&artikel=24 (oud)&g=1996-07-08 does not look like a valid URI, trying to serialize this will break.\n"
     ]
    },
    {
     "name": "stdout",
     "output_type": "stream",
     "text": [
      "ECLI:NL:HR:1996:AA1798 \"1.0:v:BWB:BWBR0002320&artikel=24 (oud)&g=1996-07-08\" does not look like a valid URI, I cannot serialize this as N3/Turtle. Perhaps you wanted to urlencode it?\n"
     ]
    },
    {
     "name": "stderr",
     "output_type": "stream",
     "text": [
      "WARNING:rdflib.term:1.0:v:BWB:BWBR0005416&artikel=277 (oud)&g=1996-04-10 does not look like a valid URI, trying to serialize this will break.\n"
     ]
    },
    {
     "name": "stdout",
     "output_type": "stream",
     "text": [
      "ECLI:NL:HR:1996:AA1802 \"1.0:v:BWB:BWBR0005416&artikel=277 (oud)&g=1996-04-10\" does not look like a valid URI, I cannot serialize this as N3/Turtle. Perhaps you wanted to urlencode it?\n"
     ]
    },
    {
     "name": "stderr",
     "output_type": "stream",
     "text": [
      "WARNING:rdflib.term:1.0:v:BWB:BWBR0002320&artikel=24 (oud)&g=1996-04-10 does not look like a valid URI, trying to serialize this will break.\n"
     ]
    },
    {
     "name": "stdout",
     "output_type": "stream",
     "text": [
      "ECLI:NL:HR:1996:AA1808 \"1.0:v:BWB:BWBR0002320&artikel=24 (oud)&g=1996-04-10\" does not look like a valid URI, I cannot serialize this as N3/Turtle. Perhaps you wanted to urlencode it?\n"
     ]
    },
    {
     "name": "stderr",
     "output_type": "stream",
     "text": [
      "WARNING:rdflib.term:1.0:v:BWB:BWBR0002770&artikel=12 (oud)&g=1996-04-10 does not look like a valid URI, trying to serialize this will break.\n"
     ]
    },
    {
     "name": "stdout",
     "output_type": "stream",
     "text": [
      "ECLI:NL:HR:1996:AA1810 \"1.0:v:BWB:BWBR0002770&artikel=12 (oud)&g=1996-04-10\" does not look like a valid URI, I cannot serialize this as N3/Turtle. Perhaps you wanted to urlencode it?\n"
     ]
    },
    {
     "name": "stderr",
     "output_type": "stream",
     "text": [
      "WARNING:rdflib.term:1.0:v:BWB:BWBR0002672&artikel=13 (oud)&g=1996-03-13 does not look like a valid URI, trying to serialize this will break.\n"
     ]
    },
    {
     "name": "stdout",
     "output_type": "stream",
     "text": [
      "ECLI:NL:HR:1996:AA1811 \"1.0:v:BWB:BWBR0002672&artikel=13 (oud)&g=1996-03-13\" does not look like a valid URI, I cannot serialize this as N3/Turtle. Perhaps you wanted to urlencode it?\n"
     ]
    },
    {
     "name": "stderr",
     "output_type": "stream",
     "text": [
      "WARNING:rdflib.term:1.0:v:BWB:BWBR0002740&artikel=35 (oud)&g=1996-02-28 does not look like a valid URI, trying to serialize this will break.\n"
     ]
    },
    {
     "name": "stdout",
     "output_type": "stream",
     "text": [
      "ECLI:NL:HR:1996:AA1812 \"1.0:v:BWB:BWBR0002740&artikel=35 (oud)&g=1996-02-28\" does not look like a valid URI, I cannot serialize this as N3/Turtle. Perhaps you wanted to urlencode it?\n"
     ]
    },
    {
     "name": "stderr",
     "output_type": "stream",
     "text": [
      "WARNING:rdflib.term:1.0:v:BWB:BWBR0002320&artikel=30c (oud)&g=1996-05-29 does not look like a valid URI, trying to serialize this will break.\n"
     ]
    },
    {
     "name": "stdout",
     "output_type": "stream",
     "text": [
      "ECLI:NL:HR:1996:AA1821 \"1.0:v:BWB:BWBR0002320&artikel=30c (oud)&g=1996-05-29\" does not look like a valid URI, I cannot serialize this as N3/Turtle. Perhaps you wanted to urlencode it?\n"
     ]
    },
    {
     "name": "stderr",
     "output_type": "stream",
     "text": [
      "WARNING:rdflib.term:1.0:v:BWB:BWBR0002682&artikel=17 (oud)&g=1996-03-13 does not look like a valid URI, trying to serialize this will break.\n"
     ]
    },
    {
     "name": "stdout",
     "output_type": "stream",
     "text": [
      "ECLI:NL:HR:1996:AA1822 \"1.0:v:BWB:BWBR0002682&artikel=17 (oud)&g=1996-03-13\" does not look like a valid URI, I cannot serialize this as N3/Turtle. Perhaps you wanted to urlencode it?\n"
     ]
    },
    {
     "name": "stderr",
     "output_type": "stream",
     "text": [
      "WARNING:rdflib.term:1.0:v:BWB:BWBR0002320&artikel=47 (oud)&g=1996-04-17 does not look like a valid URI, trying to serialize this will break.\n"
     ]
    },
    {
     "name": "stdout",
     "output_type": "stream",
     "text": [
      "ECLI:NL:HR:1996:AA1823 \"1.0:v:BWB:BWBR0002320&artikel=47 (oud)&g=1996-04-17\" does not look like a valid URI, I cannot serialize this as N3/Turtle. Perhaps you wanted to urlencode it?\n"
     ]
    },
    {
     "name": "stderr",
     "output_type": "stream",
     "text": [
      "WARNING:rdflib.term:1.0:v:BWB:BWBR0002320&artikel=28 (oud)&g=1996-04-17 does not look like a valid URI, trying to serialize this will break.\n"
     ]
    },
    {
     "name": "stdout",
     "output_type": "stream",
     "text": [
      "ECLI:NL:HR:1996:AA1826 \"1.0:v:BWB:BWBR0002320&artikel=28 (oud)&g=1996-04-17\" does not look like a valid URI, I cannot serialize this as N3/Turtle. Perhaps you wanted to urlencode it?\n"
     ]
    },
    {
     "name": "stderr",
     "output_type": "stream",
     "text": [
      "WARNING:rdflib.term:1.0:v:BWB:BWBR0002629&artikel=50 (oud)&g=1996-03-06 does not look like a valid URI, trying to serialize this will break.\n"
     ]
    },
    {
     "name": "stdout",
     "output_type": "stream",
     "text": [
      "ECLI:NL:HR:1996:AA1827 \"1.0:v:BWB:BWBR0002629&artikel=50 (oud)&g=1996-03-06\" does not look like a valid URI, I cannot serialize this as N3/Turtle. Perhaps you wanted to urlencode it?\n"
     ]
    },
    {
     "name": "stderr",
     "output_type": "stream",
     "text": [
      "WARNING:rdflib.term:1.0:v:BWB:BWBR0002629&artikel=29 (oud)&g=1996-02-07 does not look like a valid URI, trying to serialize this will break.\n",
      "WARNING:rdflib.term:1.0:v:BWB:BWBR0002634&artikel=34 (oud)&g=1996-02-07 does not look like a valid URI, trying to serialize this will break.\n"
     ]
    },
    {
     "name": "stdout",
     "output_type": "stream",
     "text": [
      "ECLI:NL:HR:1996:AA1837 \"1.0:v:BWB:BWBR0002629&artikel=29 (oud)&g=1996-02-07\" does not look like a valid URI, I cannot serialize this as N3/Turtle. Perhaps you wanted to urlencode it?\n"
     ]
    },
    {
     "name": "stderr",
     "output_type": "stream",
     "text": [
      "WARNING:rdflib.term:1.0:v:BWB:BWBR0002672&artikel=23c (oud)&g=1996-02-07 does not look like a valid URI, trying to serialize this will break.\n"
     ]
    },
    {
     "name": "stdout",
     "output_type": "stream",
     "text": [
      "ECLI:NL:HR:1996:AA1842 \"1.0:v:BWB:BWBR0002672&artikel=23c (oud)&g=1996-02-07\" does not look like a valid URI, I cannot serialize this as N3/Turtle. Perhaps you wanted to urlencode it?\n"
     ]
    },
    {
     "name": "stderr",
     "output_type": "stream",
     "text": [
      "WARNING:rdflib.term:1.0:v:BWB:BWBR0002629&artikel=37 (oud)&g=1996-07-08 does not look like a valid URI, trying to serialize this will break.\n"
     ]
    },
    {
     "name": "stdout",
     "output_type": "stream",
     "text": [
      "ECLI:NL:HR:1996:AA1843 \"1.0:v:BWB:BWBR0002629&artikel=37 (oud)&g=1996-07-08\" does not look like a valid URI, I cannot serialize this as N3/Turtle. Perhaps you wanted to urlencode it?\n"
     ]
    },
    {
     "name": "stderr",
     "output_type": "stream",
     "text": [
      "WARNING:rdflib.term:1.0:v:BWB:BWBR0002629&artikel=50 (oud)&g=1996-03-27 does not look like a valid URI, trying to serialize this will break.\n"
     ]
    },
    {
     "name": "stdout",
     "output_type": "stream",
     "text": [
      "ECLI:NL:HR:1996:AA1847 \"1.0:v:BWB:BWBR0002629&artikel=50 (oud)&g=1996-03-27\" does not look like a valid URI, I cannot serialize this as N3/Turtle. Perhaps you wanted to urlencode it?\n"
     ]
    },
    {
     "name": "stderr",
     "output_type": "stream",
     "text": [
      "WARNING:rdflib.term:1.0:v:BWB:BWBR0002320&artikel=23 (oud)&g=1996-06-19 does not look like a valid URI, trying to serialize this will break.\n"
     ]
    },
    {
     "name": "stdout",
     "output_type": "stream",
     "text": [
      "ECLI:NL:HR:1996:AA1848 \"1.0:v:BWB:BWBR0002320&artikel=23 (oud)&g=1996-06-19\" does not look like a valid URI, I cannot serialize this as N3/Turtle. Perhaps you wanted to urlencode it?\n"
     ]
    },
    {
     "name": "stderr",
     "output_type": "stream",
     "text": [
      "WARNING:rdflib.term:1.0:v:BWB:BWBR0002320&artikel=30c (oud)&g=1996-02-07 does not look like a valid URI, trying to serialize this will break.\n"
     ]
    },
    {
     "name": "stdout",
     "output_type": "stream",
     "text": [
      "ECLI:NL:HR:1996:AA1853 \"1.0:v:BWB:BWBR0002320&artikel=30c (oud)&g=1996-02-07\" does not look like a valid URI, I cannot serialize this as N3/Turtle. Perhaps you wanted to urlencode it?\n"
     ]
    },
    {
     "name": "stderr",
     "output_type": "stream",
     "text": [
      "WARNING:rdflib.term:1.0:v:BWB:BWBR0002629&artikel=8 (oud)&g=1996-01-17 does not look like a valid URI, trying to serialize this will break.\n"
     ]
    },
    {
     "name": "stdout",
     "output_type": "stream",
     "text": [
      "ECLI:NL:HR:1996:AA1854 \"1.0:v:BWB:BWBR0002629&artikel=8 (oud)&g=1996-01-17\" does not look like a valid URI, I cannot serialize this as N3/Turtle. Perhaps you wanted to urlencode it?\n"
     ]
    },
    {
     "name": "stderr",
     "output_type": "stream",
     "text": [
      "WARNING:rdflib.term:1.0:v:BWB:BWBR0005416&artikel=276 (oud)&g=1996-01-03 does not look like a valid URI, trying to serialize this will break.\n"
     ]
    },
    {
     "name": "stdout",
     "output_type": "stream",
     "text": [
      "ECLI:NL:HR:1996:AA1859 \"1.0:v:BWB:BWBR0005416&artikel=276 (oud)&g=1996-01-03\" does not look like a valid URI, I cannot serialize this as N3/Turtle. Perhaps you wanted to urlencode it?\n"
     ]
    },
    {
     "name": "stderr",
     "output_type": "stream",
     "text": [
      "WARNING:rdflib.term:1.0:v:BWB:BWBR0002320&artikel=30a (oud)&g=1996-02-07 does not look like a valid URI, trying to serialize this will break.\n",
      "WARNING:rdflib.term:1.0:v:BWB:BWBR0002320&artikel=30c (oud)&g=1996-02-07 does not look like a valid URI, trying to serialize this will break.\n"
     ]
    },
    {
     "name": "stdout",
     "output_type": "stream",
     "text": [
      "ECLI:NL:HR:1996:AA1871 \"1.0:v:BWB:BWBR0002320&artikel=30a (oud)&g=1996-02-07\" does not look like a valid URI, I cannot serialize this as N3/Turtle. Perhaps you wanted to urlencode it?\n"
     ]
    },
    {
     "name": "stderr",
     "output_type": "stream",
     "text": [
      "WARNING:rdflib.term:1.0:v:BWB:BWBR0005416&artikel=277 (oud)&g=1996-08-09 does not look like a valid URI, trying to serialize this will break.\n"
     ]
    },
    {
     "name": "stdout",
     "output_type": "stream",
     "text": [
      "ECLI:NL:HR:1996:AA1872 \"1.0:v:BWB:BWBR0005416&artikel=277 (oud)&g=1996-08-09\" does not look like a valid URI, I cannot serialize this as N3/Turtle. Perhaps you wanted to urlencode it?\n"
     ]
    },
    {
     "name": "stderr",
     "output_type": "stream",
     "text": [
      "WARNING:rdflib.term:1.0:v:BWB:BWBR0002629&artikel=50 (oud)&g=1996-02-07 does not look like a valid URI, trying to serialize this will break.\n"
     ]
    },
    {
     "name": "stdout",
     "output_type": "stream",
     "text": [
      "ECLI:NL:HR:1996:AA1906 \"1.0:v:BWB:BWBR0002629&artikel=50 (oud)&g=1996-02-07\" does not look like a valid URI, I cannot serialize this as N3/Turtle. Perhaps you wanted to urlencode it?\n"
     ]
    },
    {
     "name": "stderr",
     "output_type": "stream",
     "text": [
      "WARNING:rdflib.term:1.0:v:BWB:BWBR0002672&artikel=13 (oud)&g=1996-07-08 does not look like a valid URI, trying to serialize this will break.\n"
     ]
    },
    {
     "name": "stdout",
     "output_type": "stream",
     "text": [
      "ECLI:NL:HR:1996:AA1907 \"1.0:v:BWB:BWBR0002672&artikel=13 (oud)&g=1996-07-08\" does not look like a valid URI, I cannot serialize this as N3/Turtle. Perhaps you wanted to urlencode it?\n"
     ]
    },
    {
     "name": "stderr",
     "output_type": "stream",
     "text": [
      "WARNING:rdflib.term:1.0:v:BWB:BWBR0005416&artikel=279 (oud)&g=1996-07-15 does not look like a valid URI, trying to serialize this will break.\n"
     ]
    },
    {
     "name": "stdout",
     "output_type": "stream",
     "text": [
      "ECLI:NL:HR:1996:AA1917 \"1.0:v:BWB:BWBR0005416&artikel=279 (oud)&g=1996-07-15\" does not look like a valid URI, I cannot serialize this as N3/Turtle. Perhaps you wanted to urlencode it?\n"
     ]
    },
    {
     "name": "stderr",
     "output_type": "stream",
     "text": [
      "WARNING:rdflib.term:1.0:v:BWB:BWBR0005416&artikel=276a (oud)&g=1996-06-26 does not look like a valid URI, trying to serialize this will break.\n"
     ]
    },
    {
     "name": "stdout",
     "output_type": "stream",
     "text": [
      "ECLI:NL:HR:1996:AA1920 \"1.0:v:BWB:BWBR0005416&artikel=276a (oud)&g=1996-06-26\" does not look like a valid URI, I cannot serialize this as N3/Turtle. Perhaps you wanted to urlencode it?\n"
     ]
    },
    {
     "name": "stderr",
     "output_type": "stream",
     "text": [
      "WARNING:rdflib.term:1.0:v:BWB:BWBR0002629&artikel=6 (oud)&g=1996-01-17 does not look like a valid URI, trying to serialize this will break.\n"
     ]
    },
    {
     "name": "stdout",
     "output_type": "stream",
     "text": [
      "ECLI:NL:HR:1996:AA1925 \"1.0:v:BWB:BWBR0002629&artikel=6 (oud)&g=1996-01-17\" does not look like a valid URI, I cannot serialize this as N3/Turtle. Perhaps you wanted to urlencode it?\n"
     ]
    },
    {
     "name": "stderr",
     "output_type": "stream",
     "text": [
      "WARNING:rdflib.term:1.0:v:BWB:BWBR0002672&artikel=23c (oud)&g=1996-03-06 does not look like a valid URI, trying to serialize this will break.\n"
     ]
    },
    {
     "name": "stdout",
     "output_type": "stream",
     "text": [
      "ECLI:NL:HR:1996:AA1934 \"1.0:v:BWB:BWBR0002672&artikel=23c (oud)&g=1996-03-06\" does not look like a valid URI, I cannot serialize this as N3/Turtle. Perhaps you wanted to urlencode it?\n"
     ]
    },
    {
     "name": "stderr",
     "output_type": "stream",
     "text": [
      "WARNING:rdflib.term:1.0:v:BWB:BWBR0002320&artikel=30c (oud)&g=1996-03-13 does not look like a valid URI, trying to serialize this will break.\n"
     ]
    },
    {
     "name": "stdout",
     "output_type": "stream",
     "text": [
      "ECLI:NL:HR:1996:AA1936 \"1.0:v:BWB:BWBR0002320&artikel=30c (oud)&g=1996-03-13\" does not look like a valid URI, I cannot serialize this as N3/Turtle. Perhaps you wanted to urlencode it?\n"
     ]
    },
    {
     "name": "stderr",
     "output_type": "stream",
     "text": [
      "WARNING:rdflib.term:1.0:v:BWB:BWBR0002320&artikel=30a (oud)&g=1996-03-06 does not look like a valid URI, trying to serialize this will break.\n"
     ]
    },
    {
     "name": "stdout",
     "output_type": "stream",
     "text": [
      "ECLI:NL:HR:1996:AA1942 \"1.0:v:BWB:BWBR0002320&artikel=30a (oud)&g=1996-03-06\" does not look like a valid URI, I cannot serialize this as N3/Turtle. Perhaps you wanted to urlencode it?\n"
     ]
    },
    {
     "name": "stderr",
     "output_type": "stream",
     "text": [
      "WARNING:rdflib.term:1.0:v:BWB:BWBR0002320&artikel=30e (oud)&g=1996-04-03 does not look like a valid URI, trying to serialize this will break.\n"
     ]
    },
    {
     "name": "stdout",
     "output_type": "stream",
     "text": [
      "ECLI:NL:HR:1996:AA1943 \"1.0:v:BWB:BWBR0002320&artikel=30e (oud)&g=1996-04-03\" does not look like a valid URI, I cannot serialize this as N3/Turtle. Perhaps you wanted to urlencode it?\n"
     ]
    },
    {
     "name": "stderr",
     "output_type": "stream",
     "text": [
      "WARNING:rdflib.term:1.0:v:BWB:BWBR0002629&artikel=50 (oud)&g=1996-04-17 does not look like a valid URI, trying to serialize this will break.\n"
     ]
    },
    {
     "name": "stdout",
     "output_type": "stream",
     "text": [
      "ECLI:NL:HR:1996:AA1953 \"1.0:v:BWB:BWBR0002629&artikel=50 (oud)&g=1996-04-17\" does not look like a valid URI, I cannot serialize this as N3/Turtle. Perhaps you wanted to urlencode it?\n"
     ]
    },
    {
     "name": "stderr",
     "output_type": "stream",
     "text": [
      "WARNING:rdflib.term:1.0:v:BWB:BWBR0002320&artikel=60 (oud)&g=1996-03-20 does not look like a valid URI, trying to serialize this will break.\n"
     ]
    },
    {
     "name": "stdout",
     "output_type": "stream",
     "text": [
      "ECLI:NL:HR:1996:AA1954 \"1.0:v:BWB:BWBR0002320&artikel=60 (oud)&g=1996-03-20\" does not look like a valid URI, I cannot serialize this as N3/Turtle. Perhaps you wanted to urlencode it?\n"
     ]
    },
    {
     "name": "stderr",
     "output_type": "stream",
     "text": [
      "WARNING:rdflib.term:1.0:v:BWB:BWBR0002471&artikel=26a (oud)&g=1996-05-01 does not look like a valid URI, trying to serialize this will break.\n"
     ]
    },
    {
     "name": "stdout",
     "output_type": "stream",
     "text": [
      "ECLI:NL:HR:1996:AA1959 \"1.0:v:BWB:BWBR0002471&artikel=26a (oud)&g=1996-05-01\" does not look like a valid URI, I cannot serialize this as N3/Turtle. Perhaps you wanted to urlencode it?\n"
     ]
    },
    {
     "name": "stderr",
     "output_type": "stream",
     "text": [
      "WARNING:rdflib.term:1.0:v:BWB:BWBR0002629&artikel=50 (oud)&g=1996-06-26 does not look like a valid URI, trying to serialize this will break.\n"
     ]
    },
    {
     "name": "stdout",
     "output_type": "stream",
     "text": [
      "ECLI:NL:HR:1996:AA1960 \"1.0:v:BWB:BWBR0002629&artikel=50 (oud)&g=1996-06-26\" does not look like a valid URI, I cannot serialize this as N3/Turtle. Perhaps you wanted to urlencode it?\n"
     ]
    },
    {
     "name": "stderr",
     "output_type": "stream",
     "text": [
      "WARNING:rdflib.term:1.0:v:BWB:BWBR0002320&artikel=27 (oud)&g=1996-04-17 does not look like a valid URI, trying to serialize this will break.\n"
     ]
    },
    {
     "name": "stdout",
     "output_type": "stream",
     "text": [
      "ECLI:NL:HR:1996:AA1965 \"1.0:v:BWB:BWBR0002320&artikel=27 (oud)&g=1996-04-17\" does not look like a valid URI, I cannot serialize this as N3/Turtle. Perhaps you wanted to urlencode it?\n"
     ]
    },
    {
     "name": "stderr",
     "output_type": "stream",
     "text": [
      "WARNING:rdflib.term:1.0:v:BWB:BWBR0002634&artikel=25 (oud)&g=1996-04-24 does not look like a valid URI, trying to serialize this will break.\n"
     ]
    },
    {
     "name": "stdout",
     "output_type": "stream",
     "text": [
      "ECLI:NL:HR:1996:AA1970 \"1.0:v:BWB:BWBR0002634&artikel=25 (oud)&g=1996-04-24\" does not look like a valid URI, I cannot serialize this as N3/Turtle. Perhaps you wanted to urlencode it?\n"
     ]
    },
    {
     "name": "stderr",
     "output_type": "stream",
     "text": [
      "WARNING:rdflib.term:1.0:v:BWB:BWBR0005416&artikel=273 (oud)&g=1996-08-09 does not look like a valid URI, trying to serialize this will break.\n"
     ]
    },
    {
     "name": "stdout",
     "output_type": "stream",
     "text": [
      "ECLI:NL:HR:1996:AA1994 \"1.0:v:BWB:BWBR0005416&artikel=273 (oud)&g=1996-08-09\" does not look like a valid URI, I cannot serialize this as N3/Turtle. Perhaps you wanted to urlencode it?\n"
     ]
    },
    {
     "name": "stderr",
     "output_type": "stream",
     "text": [
      "WARNING:rdflib.term:1.0:v:BWB:BWBR0002629&artikel=50 (oud)&g=1996-07-08 does not look like a valid URI, trying to serialize this will break.\n"
     ]
    },
    {
     "name": "stdout",
     "output_type": "stream",
     "text": [
      "ECLI:NL:HR:1996:AA2006 \"1.0:v:BWB:BWBR0002629&artikel=50 (oud)&g=1996-07-08\" does not look like a valid URI, I cannot serialize this as N3/Turtle. Perhaps you wanted to urlencode it?\n"
     ]
    },
    {
     "name": "stderr",
     "output_type": "stream",
     "text": [
      "WARNING:rdflib.term:1.0:v:BWB:BWBR0005416&artikel=283b (oud)&g=1996-04-10 does not look like a valid URI, trying to serialize this will break.\n"
     ]
    },
    {
     "name": "stdout",
     "output_type": "stream",
     "text": [
      "ECLI:NL:HR:1996:AA2007 \"1.0:v:BWB:BWBR0005416&artikel=283b (oud)&g=1996-04-10\" does not look like a valid URI, I cannot serialize this as N3/Turtle. Perhaps you wanted to urlencode it?\n"
     ]
    },
    {
     "name": "stderr",
     "output_type": "stream",
     "text": [
      "WARNING:rdflib.term:1.0:v:BWB:BWBR0002672&artikel=13 (oud)&g=1996-07-08 does not look like a valid URI, trying to serialize this will break.\n"
     ]
    },
    {
     "name": "stdout",
     "output_type": "stream",
     "text": [
      "ECLI:NL:HR:1996:AA2031 \"1.0:v:BWB:BWBR0002672&artikel=13 (oud)&g=1996-07-08\" does not look like a valid URI, I cannot serialize this as N3/Turtle. Perhaps you wanted to urlencode it?\n"
     ]
    },
    {
     "name": "stderr",
     "output_type": "stream",
     "text": [
      "WARNING:rdflib.term:1.0:v:BWB:BWBR0002320&artikel=23 (oud)&g=1996-06-05 does not look like a valid URI, trying to serialize this will break.\n",
      "WARNING:rdflib.term:1.0:v:BWB:BWBR0005416&artikel=276a (oud)&g=1996-06-05 does not look like a valid URI, trying to serialize this will break.\n"
     ]
    },
    {
     "name": "stdout",
     "output_type": "stream",
     "text": [
      "ECLI:NL:HR:1996:AA2034 \"1.0:v:BWB:BWBR0002320&artikel=23 (oud)&g=1996-06-05\" does not look like a valid URI, I cannot serialize this as N3/Turtle. Perhaps you wanted to urlencode it?\n",
      "ECLI:NL:HR:1997:AA2066 [Errno 104] Connection reset by peer\n"
     ]
    },
    {
     "name": "stderr",
     "output_type": "stream",
     "text": [
      "WARNING:rdflib.term:1.0:v:BWB:BWBR0005416&artikel=277 (oud)&g=1997-02-12 does not look like a valid URI, trying to serialize this will break.\n"
     ]
    },
    {
     "name": "stdout",
     "output_type": "stream",
     "text": [
      "ECLI:NL:HR:1997:AA2073 \"1.0:v:BWB:BWBR0005416&artikel=277 (oud)&g=1997-02-12\" does not look like a valid URI, I cannot serialize this as N3/Turtle. Perhaps you wanted to urlencode it?\n"
     ]
    },
    {
     "name": "stderr",
     "output_type": "stream",
     "text": [
      "WARNING:rdflib.term:1.0:v:BWB:BWBR0005416&artikel=229 (oud)&g=1997-05-07 does not look like a valid URI, trying to serialize this will break.\n",
      "WARNING:rdflib.term:1.0:v:BWB:BWBR0005416&artikel=277 (oud)&g=1997-05-07 does not look like a valid URI, trying to serialize this will break.\n"
     ]
    },
    {
     "name": "stdout",
     "output_type": "stream",
     "text": [
      "ECLI:NL:HR:1997:AA2075 \"1.0:v:BWB:BWBR0005416&artikel=229 (oud)&g=1997-05-07\" does not look like a valid URI, I cannot serialize this as N3/Turtle. Perhaps you wanted to urlencode it?\n"
     ]
    },
    {
     "name": "stderr",
     "output_type": "stream",
     "text": [
      "WARNING:rdflib.term:1.0:v:BWB:BWBR0005416&artikel=277 (oud)&g=1997-05-07 does not look like a valid URI, trying to serialize this will break.\n"
     ]
    },
    {
     "name": "stdout",
     "output_type": "stream",
     "text": [
      "ECLI:NL:HR:1997:AA2090 \"1.0:v:BWB:BWBR0005416&artikel=277 (oud)&g=1997-05-07\" does not look like a valid URI, I cannot serialize this as N3/Turtle. Perhaps you wanted to urlencode it?\n"
     ]
    },
    {
     "name": "stderr",
     "output_type": "stream",
     "text": [
      "WARNING:rdflib.term:1.0:v:BWB:BWBR0002320&artikel=9 (oud)&g=1997-01-29 does not look like a valid URI, trying to serialize this will break.\n"
     ]
    },
    {
     "name": "stdout",
     "output_type": "stream",
     "text": [
      "ECLI:NL:HR:1997:AA2092 \"1.0:v:BWB:BWBR0002320&artikel=9 (oud)&g=1997-01-29\" does not look like a valid URI, I cannot serialize this as N3/Turtle. Perhaps you wanted to urlencode it?\n",
      "ECLI:NL:HR:1997:AA2106 [Errno 104] Connection reset by peer\n"
     ]
    },
    {
     "name": "stderr",
     "output_type": "stream",
     "text": [
      "WARNING:rdflib.term:1.0:v:BWB:BWBR0002320&artikel=18 (oud)&g=1997-04-23 does not look like a valid URI, trying to serialize this will break.\n"
     ]
    },
    {
     "name": "stdout",
     "output_type": "stream",
     "text": [
      "ECLI:NL:HR:1997:AA2109 \"1.0:v:BWB:BWBR0002320&artikel=18 (oud)&g=1997-04-23\" does not look like a valid URI, I cannot serialize this as N3/Turtle. Perhaps you wanted to urlencode it?\n"
     ]
    },
    {
     "name": "stderr",
     "output_type": "stream",
     "text": [
      "WARNING:rdflib.term:1.0:v:BWB:BWBR0002320&artikel=25 (oud)&g=1997-06-11 does not look like a valid URI, trying to serialize this will break.\n"
     ]
    },
    {
     "name": "stdout",
     "output_type": "stream",
     "text": [
      "ECLI:NL:HR:1997:AA2153 \"1.0:v:BWB:BWBR0002320&artikel=25 (oud)&g=1997-06-11\" does not look like a valid URI, I cannot serialize this as N3/Turtle. Perhaps you wanted to urlencode it?\n"
     ]
    },
    {
     "name": "stderr",
     "output_type": "stream",
     "text": [
      "WARNING:rdflib.term:1.0:v:BWB:BWBR0005806&artikel=1 (oud)&g=1997-04-23 does not look like a valid URI, trying to serialize this will break.\n"
     ]
    },
    {
     "name": "stdout",
     "output_type": "stream",
     "text": [
      "ECLI:NL:HR:1997:AA2156 \"1.0:v:BWB:BWBR0005806&artikel=1 (oud)&g=1997-04-23\" does not look like a valid URI, I cannot serialize this as N3/Turtle. Perhaps you wanted to urlencode it?\n"
     ]
    },
    {
     "name": "stderr",
     "output_type": "stream",
     "text": [
      "WARNING:rdflib.term:1.0:v:BWB:BWBR0002629&artikel=8 (oud)&g=1997-06-11 does not look like a valid URI, trying to serialize this will break.\n"
     ]
    },
    {
     "name": "stdout",
     "output_type": "stream",
     "text": [
      "ECLI:NL:HR:1997:AA2161 \"1.0:v:BWB:BWBR0002629&artikel=8 (oud)&g=1997-06-11\" does not look like a valid URI, I cannot serialize this as N3/Turtle. Perhaps you wanted to urlencode it?\n"
     ]
    },
    {
     "name": "stderr",
     "output_type": "stream",
     "text": [
      "WARNING:rdflib.term:1.0:v:BWB:BWBR0002320&artikel=21 (oud)&g=1997-06-18 does not look like a valid URI, trying to serialize this will break.\n",
      "WARNING:rdflib.term:1.0:v:BWB:BWBR0002672&artikel=13 (oud)&g=1997-06-18 does not look like a valid URI, trying to serialize this will break.\n",
      "WARNING:rdflib.term:1.0:v:BWB:BWBR0002672&artikel=13 (oud)&g=1997-06-18 does not look like a valid URI, trying to serialize this will break.\n"
     ]
    },
    {
     "name": "stdout",
     "output_type": "stream",
     "text": [
      "ECLI:NL:HR:1997:AA2164 \"1.0:v:BWB:BWBR0002320&artikel=21 (oud)&g=1997-06-18\" does not look like a valid URI, I cannot serialize this as N3/Turtle. Perhaps you wanted to urlencode it?\n"
     ]
    },
    {
     "name": "stderr",
     "output_type": "stream",
     "text": [
      "WARNING:rdflib.term:1.0:v:BWB:BWBR0002629&artikel=22 (oud)&g=1997-06-11 does not look like a valid URI, trying to serialize this will break.\n"
     ]
    },
    {
     "name": "stdout",
     "output_type": "stream",
     "text": [
      "ECLI:NL:HR:1997:AA2172 \"1.0:v:BWB:BWBR0002629&artikel=22 (oud)&g=1997-06-11\" does not look like a valid URI, I cannot serialize this as N3/Turtle. Perhaps you wanted to urlencode it?\n"
     ]
    },
    {
     "name": "stderr",
     "output_type": "stream",
     "text": [
      "WARNING:rdflib.term:1.0:v:BWB:BWBR0005645&artikel=148 (oud)&g=1997-06-11 does not look like a valid URI, trying to serialize this will break.\n"
     ]
    },
    {
     "name": "stdout",
     "output_type": "stream",
     "text": [
      "ECLI:NL:HR:1997:AA2174 \"1.0:v:BWB:BWBR0005645&artikel=148 (oud)&g=1997-06-11\" does not look like a valid URI, I cannot serialize this as N3/Turtle. Perhaps you wanted to urlencode it?\n"
     ]
    },
    {
     "name": "stderr",
     "output_type": "stream",
     "text": [
      "WARNING:rdflib.term:1.0:v:BWB:BWBR0002740&artikel=35 (oud)&g=1997-06-04 does not look like a valid URI, trying to serialize this will break.\n"
     ]
    },
    {
     "name": "stdout",
     "output_type": "stream",
     "text": [
      "ECLI:NL:HR:1997:AA2175 \"1.0:v:BWB:BWBR0002740&artikel=35 (oud)&g=1997-06-04\" does not look like a valid URI, I cannot serialize this as N3/Turtle. Perhaps you wanted to urlencode it?\n"
     ]
    },
    {
     "name": "stderr",
     "output_type": "stream",
     "text": [
      "WARNING:rdflib.term:1.0:v:BWB:BWBR0005416&artikel=277 (oud)&g=1997-06-11 does not look like a valid URI, trying to serialize this will break.\n"
     ]
    },
    {
     "name": "stdout",
     "output_type": "stream",
     "text": [
      "ECLI:NL:HR:1997:AA2176 \"1.0:v:BWB:BWBR0005416&artikel=277 (oud)&g=1997-06-11\" does not look like a valid URI, I cannot serialize this as N3/Turtle. Perhaps you wanted to urlencode it?\n"
     ]
    },
    {
     "name": "stderr",
     "output_type": "stream",
     "text": [
      "WARNING:rdflib.term:1.0:v:BWB:BWBR0002614&artikel=20 (oud)&g=1997-06-18 does not look like a valid URI, trying to serialize this will break.\n"
     ]
    },
    {
     "name": "stdout",
     "output_type": "stream",
     "text": [
      "ECLI:NL:HR:1997:AA2183 \"1.0:v:BWB:BWBR0002614&artikel=20 (oud)&g=1997-06-18\" does not look like a valid URI, I cannot serialize this as N3/Turtle. Perhaps you wanted to urlencode it?\n"
     ]
    },
    {
     "name": "stderr",
     "output_type": "stream",
     "text": [
      "WARNING:rdflib.term:1.0:v:BWB:BWBR0002471&artikel=32a (oud)&g=1997-06-25 does not look like a valid URI, trying to serialize this will break.\n"
     ]
    },
    {
     "name": "stdout",
     "output_type": "stream",
     "text": [
      "ECLI:NL:HR:1997:AA2207 \"1.0:v:BWB:BWBR0002471&artikel=32a (oud)&g=1997-06-25\" does not look like a valid URI, I cannot serialize this as N3/Turtle. Perhaps you wanted to urlencode it?\n"
     ]
    },
    {
     "name": "stderr",
     "output_type": "stream",
     "text": [
      "WARNING:rdflib.term:1.0:v:BWB:BWBR0002471&artikel=32 (oud)&g=1997-06-25 does not look like a valid URI, trying to serialize this will break.\n",
      "WARNING:rdflib.term:1.0:v:BWB:BWBR0002471&artikel=32a (oud)&g=1997-06-25 does not look like a valid URI, trying to serialize this will break.\n"
     ]
    },
    {
     "name": "stdout",
     "output_type": "stream",
     "text": [
      "ECLI:NL:HR:1997:AA2218 \"1.0:v:BWB:BWBR0002471&artikel=32 (oud)&g=1997-06-25\" does not look like a valid URI, I cannot serialize this as N3/Turtle. Perhaps you wanted to urlencode it?\n"
     ]
    },
    {
     "name": "stderr",
     "output_type": "stream",
     "text": [
      "WARNING:rdflib.term:1.0:v:BWB:BWBR0005416&artikel=274 (oud)&g=1997-07-08 does not look like a valid URI, trying to serialize this will break.\n"
     ]
    },
    {
     "name": "stdout",
     "output_type": "stream",
     "text": [
      "ECLI:NL:HR:1997:AA2219 \"1.0:v:BWB:BWBR0005416&artikel=274 (oud)&g=1997-07-08\" does not look like a valid URI, I cannot serialize this as N3/Turtle. Perhaps you wanted to urlencode it?\n"
     ]
    },
    {
     "name": "stderr",
     "output_type": "stream",
     "text": [
      "WARNING:rdflib.term:1.0:v:BWB:BWBR0005416&artikel=274 (oud)&g=1997-07-08 does not look like a valid URI, trying to serialize this will break.\n"
     ]
    },
    {
     "name": "stdout",
     "output_type": "stream",
     "text": [
      "ECLI:NL:HR:1997:AA2220 \"1.0:v:BWB:BWBR0005416&artikel=274 (oud)&g=1997-07-08\" does not look like a valid URI, I cannot serialize this as N3/Turtle. Perhaps you wanted to urlencode it?\n"
     ]
    },
    {
     "name": "stderr",
     "output_type": "stream",
     "text": [
      "WARNING:rdflib.term:1.0:v:BWB:BWBR0005416&artikel=274 (oud)&g=1997-07-08 does not look like a valid URI, trying to serialize this will break.\n"
     ]
    },
    {
     "name": "stdout",
     "output_type": "stream",
     "text": [
      "ECLI:NL:HR:1997:AA2221 \"1.0:v:BWB:BWBR0005416&artikel=274 (oud)&g=1997-07-08\" does not look like a valid URI, I cannot serialize this as N3/Turtle. Perhaps you wanted to urlencode it?\n"
     ]
    },
    {
     "name": "stderr",
     "output_type": "stream",
     "text": [
      "WARNING:rdflib.term:1.0:v:BWB:BWBR0002320&artikel=23 (oud)&g=1997-07-08 does not look like a valid URI, trying to serialize this will break.\n",
      "WARNING:rdflib.term:1.0:v:BWB:BWBR0002320&artikel=25 (oud)&g=1997-07-08 does not look like a valid URI, trying to serialize this will break.\n",
      "WARNING:rdflib.term:1.0:v:BWB:BWBR0005416&artikel=274 (oud)&g=1997-07-08 does not look like a valid URI, trying to serialize this will break.\n"
     ]
    },
    {
     "name": "stdout",
     "output_type": "stream",
     "text": [
      "ECLI:NL:HR:1997:AA2222 \"1.0:v:BWB:BWBR0002320&artikel=23 (oud)&g=1997-07-08\" does not look like a valid URI, I cannot serialize this as N3/Turtle. Perhaps you wanted to urlencode it?\n"
     ]
    },
    {
     "name": "stderr",
     "output_type": "stream",
     "text": [
      "WARNING:rdflib.term:1.0:v:BWB:BWBR0005416&artikel=273 (oud)&g=1997-07-08 does not look like a valid URI, trying to serialize this will break.\n",
      "WARNING:rdflib.term:1.0:v:BWB:BWBR0005416&artikel=273 (oud)&g=1997-07-08 does not look like a valid URI, trying to serialize this will break.\n",
      "WARNING:rdflib.term:1.0:v:BWB:BWBR0005416&artikel=273 (oud)&g=1997-07-08 does not look like a valid URI, trying to serialize this will break.\n"
     ]
    },
    {
     "name": "stdout",
     "output_type": "stream",
     "text": [
      "ECLI:NL:HR:1997:AA2223 \"1.0:v:BWB:BWBR0005416&artikel=273 (oud)&g=1997-07-08\" does not look like a valid URI, I cannot serialize this as N3/Turtle. Perhaps you wanted to urlencode it?\n"
     ]
    },
    {
     "name": "stderr",
     "output_type": "stream",
     "text": [
      "WARNING:rdflib.term:1.0:v:BWB:BWBR0005806&artikel=3 (oud)&g=1997-09-10 does not look like a valid URI, trying to serialize this will break.\n"
     ]
    },
    {
     "name": "stdout",
     "output_type": "stream",
     "text": [
      "ECLI:NL:HR:1997:AA2225 \"1.0:v:BWB:BWBR0005806&artikel=3 (oud)&g=1997-09-10\" does not look like a valid URI, I cannot serialize this as N3/Turtle. Perhaps you wanted to urlencode it?\n"
     ]
    },
    {
     "name": "stderr",
     "output_type": "stream",
     "text": [
      "WARNING:rdflib.term:1.0:v:BWB:BWBR0005645&artikel=87 (oud)&g=1997-07-22 does not look like a valid URI, trying to serialize this will break.\n",
      "WARNING:rdflib.term:1.0:v:BWB:BWBR0005645&artikel=152a (oud)&g=1997-07-22 does not look like a valid URI, trying to serialize this will break.\n"
     ]
    },
    {
     "name": "stdout",
     "output_type": "stream",
     "text": [
      "ECLI:NL:HR:1997:AA2241 \"1.0:v:BWB:BWBR0005645&artikel=152a (oud)&g=1997-07-22\" does not look like a valid URI, I cannot serialize this as N3/Turtle. Perhaps you wanted to urlencode it?\n"
     ]
    },
    {
     "name": "stderr",
     "output_type": "stream",
     "text": [
      "WARNING:rdflib.term:1.0:v:BWB:BWBR0005416&artikel=273 (oud)&g=1997-08-29 does not look like a valid URI, trying to serialize this will break.\n",
      "WARNING:rdflib.term:1.0:v:BWB:BWBR0005416&artikel=273 (oud)&g=1997-08-29 does not look like a valid URI, trying to serialize this will break.\n"
     ]
    },
    {
     "name": "stdout",
     "output_type": "stream",
     "text": [
      "ECLI:NL:HR:1997:AA2242 \"1.0:v:BWB:BWBR0005416&artikel=273 (oud)&g=1997-08-29\" does not look like a valid URI, I cannot serialize this as N3/Turtle. Perhaps you wanted to urlencode it?\n"
     ]
    },
    {
     "name": "stderr",
     "output_type": "stream",
     "text": [
      "WARNING:rdflib.term:1.0:v:BWB:BWBR0005806&artikel=1 (oud)&g=1997-09-03 does not look like a valid URI, trying to serialize this will break.\n"
     ]
    },
    {
     "name": "stdout",
     "output_type": "stream",
     "text": [
      "ECLI:NL:HR:1997:AA2243 \"1.0:v:BWB:BWBR0005806&artikel=1 (oud)&g=1997-09-03\" does not look like a valid URI, I cannot serialize this as N3/Turtle. Perhaps you wanted to urlencode it?\n"
     ]
    },
    {
     "name": "stderr",
     "output_type": "stream",
     "text": [
      "WARNING:rdflib.term:1.0:v:BWB:BWBR0002221&artikel=42 (oud)&g=1997-09-03 does not look like a valid URI, trying to serialize this will break.\n",
      "WARNING:rdflib.term:1.0:v:BWB:BWBR0002221&artikel=54 (oud)&g=1997-09-03 does not look like a valid URI, trying to serialize this will break.\n"
     ]
    },
    {
     "name": "stdout",
     "output_type": "stream",
     "text": [
      "ECLI:NL:HR:1997:AA2244 \"1.0:v:BWB:BWBR0002221&artikel=42 (oud)&g=1997-09-03\" does not look like a valid URI, I cannot serialize this as N3/Turtle. Perhaps you wanted to urlencode it?\n"
     ]
    },
    {
     "name": "stderr",
     "output_type": "stream",
     "text": [
      "WARNING:rdflib.term:1.0:v:BWB:BWBR0002672&artikel=13 (oud)&g=1997-08-29 does not look like a valid URI, trying to serialize this will break.\n"
     ]
    },
    {
     "name": "stdout",
     "output_type": "stream",
     "text": [
      "ECLI:NL:HR:1997:AA2249 \"1.0:v:BWB:BWBR0002672&artikel=13 (oud)&g=1997-08-29\" does not look like a valid URI, I cannot serialize this as N3/Turtle. Perhaps you wanted to urlencode it?\n"
     ]
    },
    {
     "name": "stderr",
     "output_type": "stream",
     "text": [
      "WARNING:rdflib.term:1.0:v:BWB:BWBR0002320&artikel=30c (oud)&g=1997-06-11 does not look like a valid URI, trying to serialize this will break.\n"
     ]
    },
    {
     "name": "stdout",
     "output_type": "stream",
     "text": [
      "ECLI:NL:HR:1997:AA3180 \"1.0:v:BWB:BWBR0002320&artikel=30c (oud)&g=1997-06-11\" does not look like a valid URI, I cannot serialize this as N3/Turtle. Perhaps you wanted to urlencode it?\n"
     ]
    },
    {
     "name": "stderr",
     "output_type": "stream",
     "text": [
      "WARNING:rdflib.term:1.0:v:BWB:BWBR0005416&artikel=226 (oud)&g=1997-01-08 does not look like a valid URI, trying to serialize this will break.\n"
     ]
    },
    {
     "name": "stdout",
     "output_type": "stream",
     "text": [
      "ECLI:NL:HR:1997:AA3187 \"1.0:v:BWB:BWBR0005416&artikel=226 (oud)&g=1997-01-08\" does not look like a valid URI, I cannot serialize this as N3/Turtle. Perhaps you wanted to urlencode it?\n"
     ]
    },
    {
     "name": "stderr",
     "output_type": "stream",
     "text": [
      "WARNING:rdflib.term:1.0:v:BWB:BWBR0002629&artikel=50 (oud)&g=1997-01-22 does not look like a valid URI, trying to serialize this will break.\n"
     ]
    },
    {
     "name": "stdout",
     "output_type": "stream",
     "text": [
      "ECLI:NL:HR:1997:AA3188 \"1.0:v:BWB:BWBR0002629&artikel=50 (oud)&g=1997-01-22\" does not look like a valid URI, I cannot serialize this as N3/Turtle. Perhaps you wanted to urlencode it?\n"
     ]
    },
    {
     "name": "stderr",
     "output_type": "stream",
     "text": [
      "WARNING:rdflib.term:1.0:v:BWB:BWBR0005416&artikel=273 (oud)&g=1997-01-08 does not look like a valid URI, trying to serialize this will break.\n"
     ]
    },
    {
     "name": "stdout",
     "output_type": "stream",
     "text": [
      "ECLI:NL:HR:1997:AA3190 \"1.0:v:BWB:BWBR0005416&artikel=273 (oud)&g=1997-01-08\" does not look like a valid URI, I cannot serialize this as N3/Turtle. Perhaps you wanted to urlencode it?\n"
     ]
    },
    {
     "name": "stderr",
     "output_type": "stream",
     "text": [
      "WARNING:rdflib.term:1.0:v:BWB:BWBR0005416&artikel=226 (oud)&g=1997-01-08 does not look like a valid URI, trying to serialize this will break.\n"
     ]
    },
    {
     "name": "stdout",
     "output_type": "stream",
     "text": [
      "ECLI:NL:HR:1997:AA3200 \"1.0:v:BWB:BWBR0005416&artikel=226 (oud)&g=1997-01-08\" does not look like a valid URI, I cannot serialize this as N3/Turtle. Perhaps you wanted to urlencode it?\n"
     ]
    },
    {
     "name": "stderr",
     "output_type": "stream",
     "text": [
      "WARNING:rdflib.term:1.0:v:BWB:BWBR0005806&artikel=1 (oud)&g=1997-01-22 does not look like a valid URI, trying to serialize this will break.\n"
     ]
    },
    {
     "name": "stdout",
     "output_type": "stream",
     "text": [
      "ECLI:NL:HR:1997:AA3208 \"1.0:v:BWB:BWBR0005806&artikel=1 (oud)&g=1997-01-22\" does not look like a valid URI, I cannot serialize this as N3/Turtle. Perhaps you wanted to urlencode it?\n"
     ]
    },
    {
     "name": "stderr",
     "output_type": "stream",
     "text": [
      "WARNING:rdflib.term:1.0:v:BWB:BWBR0005416&artikel=273 (oud)&g=1997-02-19 does not look like a valid URI, trying to serialize this will break.\n"
     ]
    },
    {
     "name": "stdout",
     "output_type": "stream",
     "text": [
      "ECLI:NL:HR:1997:AA3213 \"1.0:v:BWB:BWBR0005416&artikel=273 (oud)&g=1997-02-19\" does not look like a valid URI, I cannot serialize this as N3/Turtle. Perhaps you wanted to urlencode it?\n"
     ]
    },
    {
     "name": "stderr",
     "output_type": "stream",
     "text": [
      "WARNING:rdflib.term:1.0:v:BWB:BWBR0002221&artikel=26 (oud)&g=1997-07-02 does not look like a valid URI, trying to serialize this will break.\n"
     ]
    },
    {
     "name": "stdout",
     "output_type": "stream",
     "text": [
      "ECLI:NL:HR:1997:AA3216 \"1.0:v:BWB:BWBR0002221&artikel=26 (oud)&g=1997-07-02\" does not look like a valid URI, I cannot serialize this as N3/Turtle. Perhaps you wanted to urlencode it?\n"
     ]
    },
    {
     "name": "stderr",
     "output_type": "stream",
     "text": [
      "WARNING:rdflib.term:1.0:v:BWB:BWBR0002320&artikel=21 (oud)&g=1997-01-22 does not look like a valid URI, trying to serialize this will break.\n"
     ]
    },
    {
     "name": "stdout",
     "output_type": "stream",
     "text": [
      "ECLI:NL:HR:1997:AA3223 \"1.0:v:BWB:BWBR0002320&artikel=21 (oud)&g=1997-01-22\" does not look like a valid URI, I cannot serialize this as N3/Turtle. Perhaps you wanted to urlencode it?\n"
     ]
    },
    {
     "name": "stderr",
     "output_type": "stream",
     "text": [
      "WARNING:rdflib.term:1.0:v:BWB:BWBR0002672&artikel=13 (oud)&g=1997-01-08 does not look like a valid URI, trying to serialize this will break.\n"
     ]
    },
    {
     "name": "stdout",
     "output_type": "stream",
     "text": [
      "ECLI:NL:HR:1997:AA3224 \"1.0:v:BWB:BWBR0002672&artikel=13 (oud)&g=1997-01-08\" does not look like a valid URI, I cannot serialize this as N3/Turtle. Perhaps you wanted to urlencode it?\n"
     ]
    },
    {
     "name": "stderr",
     "output_type": "stream",
     "text": [
      "WARNING:rdflib.term:1.0:v:BWB:BWBR0002221&artikel=42 (oud)&g=1997-05-07 does not look like a valid URI, trying to serialize this will break.\n",
      "WARNING:rdflib.term:1.0:v:BWB:BWBR0002221&artikel=54 (oud)&g=1997-05-07 does not look like a valid URI, trying to serialize this will break.\n"
     ]
    },
    {
     "name": "stdout",
     "output_type": "stream",
     "text": [
      "ECLI:NL:HR:1997:AA3231 \"1.0:v:BWB:BWBR0002221&artikel=42 (oud)&g=1997-05-07\" does not look like a valid URI, I cannot serialize this as N3/Turtle. Perhaps you wanted to urlencode it?\n"
     ]
    },
    {
     "name": "stderr",
     "output_type": "stream",
     "text": [
      "WARNING:rdflib.term:1.0:v:BWB:BWBR0002320&artikel=21 (oud)&g=1997-05-07 does not look like a valid URI, trying to serialize this will break.\n"
     ]
    },
    {
     "name": "stdout",
     "output_type": "stream",
     "text": [
      "ECLI:NL:HR:1997:AA3243 \"1.0:v:BWB:BWBR0002320&artikel=21 (oud)&g=1997-05-07\" does not look like a valid URI, I cannot serialize this as N3/Turtle. Perhaps you wanted to urlencode it?\n"
     ]
    },
    {
     "name": "stderr",
     "output_type": "stream",
     "text": [
      "WARNING:rdflib.term:1.0:v:BWB:BWBR0005416&artikel=273 (oud)&g=1997-09-24 does not look like a valid URI, trying to serialize this will break.\n"
     ]
    },
    {
     "name": "stdout",
     "output_type": "stream",
     "text": [
      "ECLI:NL:HR:1997:AA3284 \"1.0:v:BWB:BWBR0005416&artikel=273 (oud)&g=1997-09-24\" does not look like a valid URI, I cannot serialize this as N3/Turtle. Perhaps you wanted to urlencode it?\n"
     ]
    },
    {
     "name": "stderr",
     "output_type": "stream",
     "text": [
      "WARNING:rdflib.term:1.0:v:BWB:BWBR0005416&artikel=273 (oud)&g=1997-09-24 does not look like a valid URI, trying to serialize this will break.\n"
     ]
    },
    {
     "name": "stdout",
     "output_type": "stream",
     "text": [
      "ECLI:NL:HR:1997:AA3288 \"1.0:v:BWB:BWBR0005416&artikel=273 (oud)&g=1997-09-24\" does not look like a valid URI, I cannot serialize this as N3/Turtle. Perhaps you wanted to urlencode it?\n"
     ]
    },
    {
     "name": "stderr",
     "output_type": "stream",
     "text": [
      "WARNING:rdflib.term:1.0:v:BWB:BWBR0002672&artikel=23b (oud)&g=1997-08-27 does not look like a valid URI, trying to serialize this will break.\n"
     ]
    },
    {
     "name": "stdout",
     "output_type": "stream",
     "text": [
      "ECLI:NL:HR:1997:AA3302 \"1.0:v:BWB:BWBR0002672&artikel=23b (oud)&g=1997-08-27\" does not look like a valid URI, I cannot serialize this as N3/Turtle. Perhaps you wanted to urlencode it?\n"
     ]
    },
    {
     "name": "stderr",
     "output_type": "stream",
     "text": [
      "WARNING:rdflib.term:1.0:v:BWB:BWBR0002320&artikel=21 (oud)&g=1997-11-05 does not look like a valid URI, trying to serialize this will break.\n"
     ]
    },
    {
     "name": "stdout",
     "output_type": "stream",
     "text": [
      "ECLI:NL:HR:1997:AA3309 \"1.0:v:BWB:BWBR0002320&artikel=21 (oud)&g=1997-11-05\" does not look like a valid URI, I cannot serialize this as N3/Turtle. Perhaps you wanted to urlencode it?\n"
     ]
    },
    {
     "name": "stderr",
     "output_type": "stream",
     "text": [
      "WARNING:rdflib.term:1.0:v:BWB:BWBR0002629&artikel=8 (oud)&g=1997-08-27 does not look like a valid URI, trying to serialize this will break.\n"
     ]
    },
    {
     "name": "stdout",
     "output_type": "stream",
     "text": [
      "ECLI:NL:HR:1997:AA3319 \"1.0:v:BWB:BWBR0002629&artikel=8 (oud)&g=1997-08-27\" does not look like a valid URI, I cannot serialize this as N3/Turtle. Perhaps you wanted to urlencode it?\n"
     ]
    },
    {
     "name": "stderr",
     "output_type": "stream",
     "text": [
      "WARNING:rdflib.term:1.0:v:BWB:BWBR0005416&artikel=276 (oud)&g=1997-11-12 does not look like a valid URI, trying to serialize this will break.\n"
     ]
    },
    {
     "name": "stdout",
     "output_type": "stream",
     "text": [
      "ECLI:NL:HR:1997:AA3329 \"1.0:v:BWB:BWBR0005416&artikel=276 (oud)&g=1997-11-12\" does not look like a valid URI, I cannot serialize this as N3/Turtle. Perhaps you wanted to urlencode it?\n"
     ]
    },
    {
     "name": "stderr",
     "output_type": "stream",
     "text": [
      "WARNING:rdflib.term:1.0:v:BWB:BWBR0005416&artikel=226 (oud)&g=1997-12-17 does not look like a valid URI, trying to serialize this will break.\n"
     ]
    },
    {
     "name": "stdout",
     "output_type": "stream",
     "text": [
      "ECLI:NL:HR:1997:AA3336 \"1.0:v:BWB:BWBR0005416&artikel=226 (oud)&g=1997-12-17\" does not look like a valid URI, I cannot serialize this as N3/Turtle. Perhaps you wanted to urlencode it?\n"
     ]
    },
    {
     "name": "stderr",
     "output_type": "stream",
     "text": [
      "WARNING:rdflib.term:1.0:v:BWB:BWBR0005416&artikel=270 (oud)&g=1997-12-24 does not look like a valid URI, trying to serialize this will break.\n",
      "WARNING:rdflib.term:1.0:v:BWB:BWBR0005416&artikel=271 (oud)&g=1997-12-24 does not look like a valid URI, trying to serialize this will break.\n",
      "WARNING:rdflib.term:1.0:v:BWB:BWBR0005416&artikel=279 (oud)&g=1997-12-24 does not look like a valid URI, trying to serialize this will break.\n",
      "WARNING:rdflib.term:1.0:v:BWB:BWBR0005416&artikel=139 (oud)&g=1997-12-24 does not look like a valid URI, trying to serialize this will break.\n",
      "WARNING:rdflib.term:1.0:v:BWB:BWBR0005416&artikel=218 (oud)&g=1997-12-24 does not look like a valid URI, trying to serialize this will break.\n"
     ]
    },
    {
     "name": "stdout",
     "output_type": "stream",
     "text": [
      "ECLI:NL:HR:1997:AA3345 \"1.0:v:BWB:BWBR0005416&artikel=139 (oud)&g=1997-12-24\" does not look like a valid URI, I cannot serialize this as N3/Turtle. Perhaps you wanted to urlencode it?\n"
     ]
    },
    {
     "name": "stderr",
     "output_type": "stream",
     "text": [
      "WARNING:rdflib.term:1.0:v:BWB:BWBR0005416&artikel=273 (oud)&g=1997-12-03 does not look like a valid URI, trying to serialize this will break.\n"
     ]
    },
    {
     "name": "stdout",
     "output_type": "stream",
     "text": [
      "ECLI:NL:HR:1997:AA3351 \"1.0:v:BWB:BWBR0005416&artikel=273 (oud)&g=1997-12-03\" does not look like a valid URI, I cannot serialize this as N3/Turtle. Perhaps you wanted to urlencode it?\n"
     ]
    },
    {
     "name": "stderr",
     "output_type": "stream",
     "text": [
      "WARNING:rdflib.term:1.0:v:BWB:BWBR0002672&artikel=13 (oud)&g=1997-11-05 does not look like a valid URI, trying to serialize this will break.\n"
     ]
    },
    {
     "name": "stdout",
     "output_type": "stream",
     "text": [
      "ECLI:NL:HR:1997:AA3353 \"1.0:v:BWB:BWBR0002672&artikel=13 (oud)&g=1997-11-05\" does not look like a valid URI, I cannot serialize this as N3/Turtle. Perhaps you wanted to urlencode it?\n"
     ]
    },
    {
     "name": "stderr",
     "output_type": "stream",
     "text": [
      "WARNING:rdflib.term:1.0:v:BWB:BWBR0005416&artikel=227 (oud)&g=1997-12-03 does not look like a valid URI, trying to serialize this will break.\n",
      "WARNING:rdflib.term:1.0:v:BWB:BWBR0005416&artikel=277 (oud)&g=1997-12-03 does not look like a valid URI, trying to serialize this will break.\n",
      "WARNING:rdflib.term:1.0:v:BWB:BWBR0005416&artikel=227 (oud)&g=1997-12-03 does not look like a valid URI, trying to serialize this will break.\n"
     ]
    },
    {
     "name": "stdout",
     "output_type": "stream",
     "text": [
      "ECLI:NL:HR:1997:AA3357 \"1.0:v:BWB:BWBR0005416&artikel=227 (oud)&g=1997-12-03\" does not look like a valid URI, I cannot serialize this as N3/Turtle. Perhaps you wanted to urlencode it?\n"
     ]
    },
    {
     "name": "stderr",
     "output_type": "stream",
     "text": [
      "WARNING:rdflib.term:1.0:v:BWB:BWBR0005416&artikel=277 (oud)&g=1998-12-23 does not look like a valid URI, trying to serialize this will break.\n"
     ]
    },
    {
     "name": "stdout",
     "output_type": "stream",
     "text": [
      "ECLI:NL:HR:1998:AA2271 \"1.0:v:BWB:BWBR0005416&artikel=277 (oud)&g=1998-12-23\" does not look like a valid URI, I cannot serialize this as N3/Turtle. Perhaps you wanted to urlencode it?\n"
     ]
    },
    {
     "name": "stderr",
     "output_type": "stream",
     "text": [
      "WARNING:rdflib.term:1.0:v:BWB:BWBR0002320&artikel=23 (oud)&g=1998-08-17 does not look like a valid URI, trying to serialize this will break.\n"
     ]
    },
    {
     "name": "stdout",
     "output_type": "stream",
     "text": [
      "ECLI:NL:HR:1998:AA2285 \"1.0:v:BWB:BWBR0002320&artikel=23 (oud)&g=1998-08-17\" does not look like a valid URI, I cannot serialize this as N3/Turtle. Perhaps you wanted to urlencode it?\n"
     ]
    },
    {
     "name": "stderr",
     "output_type": "stream",
     "text": [
      "WARNING:rdflib.term:1.0:v:BWB:BWBR0005416&artikel=273 (oud)&g=1998-06-03 does not look like a valid URI, trying to serialize this will break.\n"
     ]
    },
    {
     "name": "stdout",
     "output_type": "stream",
     "text": [
      "ECLI:NL:HR:1998:AA2293 \"1.0:v:BWB:BWBR0005416&artikel=273 (oud)&g=1998-06-03\" does not look like a valid URI, I cannot serialize this as N3/Turtle. Perhaps you wanted to urlencode it?\n"
     ]
    },
    {
     "name": "stderr",
     "output_type": "stream",
     "text": [
      "WARNING:rdflib.term:1.0:v:BWB:BWBR0005416&artikel=270 (oud)&g=1998-10-07 does not look like a valid URI, trying to serialize this will break.\n",
      "WARNING:rdflib.term:1.0:v:BWB:BWBR0005416&artikel=272e (oud)&g=1998-10-07 does not look like a valid URI, trying to serialize this will break.\n"
     ]
    },
    {
     "name": "stdout",
     "output_type": "stream",
     "text": [
      "ECLI:NL:HR:1998:AA2314 \"1.0:v:BWB:BWBR0005416&artikel=270 (oud)&g=1998-10-07\" does not look like a valid URI, I cannot serialize this as N3/Turtle. Perhaps you wanted to urlencode it?\n"
     ]
    },
    {
     "name": "stderr",
     "output_type": "stream",
     "text": [
      "WARNING:rdflib.term:1.0:v:BWB:BWBR0005416&artikel=220c (oud)&g=1998-10-07 does not look like a valid URI, trying to serialize this will break.\n"
     ]
    },
    {
     "name": "stdout",
     "output_type": "stream",
     "text": [
      "ECLI:NL:HR:1998:AA2317 \"1.0:v:BWB:BWBR0005416&artikel=220c (oud)&g=1998-10-07\" does not look like a valid URI, I cannot serialize this as N3/Turtle. Perhaps you wanted to urlencode it?\n",
      "ECLI:NL:HR:1998:AA2323 [Errno 104] Connection reset by peer\n"
     ]
    },
    {
     "name": "stderr",
     "output_type": "stream",
     "text": [
      "WARNING:rdflib.term:1.0:v:BWB:BWBR0002320&artikel=26 (oud)&g=1998-07-08 does not look like a valid URI, trying to serialize this will break.\n"
     ]
    },
    {
     "name": "stdout",
     "output_type": "stream",
     "text": [
      "ECLI:NL:HR:1998:AA2339 \"1.0:v:BWB:BWBR0002320&artikel=26 (oud)&g=1998-07-08\" does not look like a valid URI, I cannot serialize this as N3/Turtle. Perhaps you wanted to urlencode it?\n"
     ]
    },
    {
     "name": "stderr",
     "output_type": "stream",
     "text": [
      "WARNING:rdflib.term:1.0:v:BWB:BWBR0005416&artikel=277 (oud)&g=1998-07-15 does not look like a valid URI, trying to serialize this will break.\n"
     ]
    },
    {
     "name": "stdout",
     "output_type": "stream",
     "text": [
      "ECLI:NL:HR:1998:AA2343 \"1.0:v:BWB:BWBR0005416&artikel=277 (oud)&g=1998-07-15\" does not look like a valid URI, I cannot serialize this as N3/Turtle. Perhaps you wanted to urlencode it?\n",
      "ECLI:NL:HR:1998:AA2344 [Errno 104] Connection reset by peer\n"
     ]
    },
    {
     "name": "stderr",
     "output_type": "stream",
     "text": [
      "WARNING:rdflib.term:1.0:v:BWB:BWBR0005416&artikel=220 (oud)&g=1998-09-23 does not look like a valid URI, trying to serialize this will break.\n"
     ]
    },
    {
     "name": "stdout",
     "output_type": "stream",
     "text": [
      "ECLI:NL:HR:1998:AA2375 \"1.0:v:BWB:BWBR0005416&artikel=220 (oud)&g=1998-09-23\" does not look like a valid URI, I cannot serialize this as N3/Turtle. Perhaps you wanted to urlencode it?\n"
     ]
    },
    {
     "name": "stderr",
     "output_type": "stream",
     "text": [
      "WARNING:rdflib.term:1.0:v:BWB:BWBR0005416&artikel=274 (oud)&g=1998-02-04 does not look like a valid URI, trying to serialize this will break.\n"
     ]
    },
    {
     "name": "stdout",
     "output_type": "stream",
     "text": [
      "ECLI:NL:HR:1998:AA2418 \"1.0:v:BWB:BWBR0005416&artikel=274 (oud)&g=1998-02-04\" does not look like a valid URI, I cannot serialize this as N3/Turtle. Perhaps you wanted to urlencode it?\n"
     ]
    },
    {
     "name": "stderr",
     "output_type": "stream",
     "text": [
      "WARNING:rdflib.term:1.0:v:BWB:BWBR0002320&artikel=21 (oud)&g=1998-04-22 does not look like a valid URI, trying to serialize this will break.\n",
      "WARNING:rdflib.term:1.0:v:BWB:BWBR0005806&artikel=1 (oud)&g=1998-04-22 does not look like a valid URI, trying to serialize this will break.\n"
     ]
    },
    {
     "name": "stdout",
     "output_type": "stream",
     "text": [
      "ECLI:NL:HR:1998:AA2426 \"1.0:v:BWB:BWBR0002320&artikel=21 (oud)&g=1998-04-22\" does not look like a valid URI, I cannot serialize this as N3/Turtle. Perhaps you wanted to urlencode it?\n"
     ]
    },
    {
     "name": "stderr",
     "output_type": "stream",
     "text": [
      "WARNING:rdflib.term:1.0:v:BWB:BWBR0005416&artikel=225 (oud)&g=1998-04-22 does not look like a valid URI, trying to serialize this will break.\n",
      "WARNING:rdflib.term:1.0:v:BWB:BWBR0005416&artikel=276 (oud)&g=1998-04-22 does not look like a valid URI, trying to serialize this will break.\n"
     ]
    },
    {
     "name": "stdout",
     "output_type": "stream",
     "text": [
      "ECLI:NL:HR:1998:AA2435 \"1.0:v:BWB:BWBR0005416&artikel=225 (oud)&g=1998-04-22\" does not look like a valid URI, I cannot serialize this as N3/Turtle. Perhaps you wanted to urlencode it?\n"
     ]
    },
    {
     "name": "stderr",
     "output_type": "stream",
     "text": [
      "WARNING:rdflib.term:1.0:v:BWB:BWBR0002672&artikel=13 (oud)&g=1998-03-11 does not look like a valid URI, trying to serialize this will break.\n"
     ]
    },
    {
     "name": "stdout",
     "output_type": "stream",
     "text": [
      "ECLI:NL:HR:1998:AA2455 \"1.0:v:BWB:BWBR0002672&artikel=13 (oud)&g=1998-03-11\" does not look like a valid URI, I cannot serialize this as N3/Turtle. Perhaps you wanted to urlencode it?\n"
     ]
    },
    {
     "name": "stderr",
     "output_type": "stream",
     "text": [
      "WARNING:rdflib.term:1.0:v:BWB:BWBR0002471&artikel=32 (oud)&g=1998-03-25 does not look like a valid URI, trying to serialize this will break.\n"
     ]
    },
    {
     "name": "stdout",
     "output_type": "stream",
     "text": [
      "ECLI:NL:HR:1998:AA2473 \"1.0:v:BWB:BWBR0002471&artikel=32 (oud)&g=1998-03-25\" does not look like a valid URI, I cannot serialize this as N3/Turtle. Perhaps you wanted to urlencode it?\n"
     ]
    },
    {
     "name": "stderr",
     "output_type": "stream",
     "text": [
      "WARNING:rdflib.term:1.0:v:BWB:BWBR0005806&artikel=1 (oud)&g=1998-03-18 does not look like a valid URI, trying to serialize this will break.\n"
     ]
    },
    {
     "name": "stdout",
     "output_type": "stream",
     "text": [
      "ECLI:NL:HR:1998:AA2486 \"1.0:v:BWB:BWBR0005806&artikel=1 (oud)&g=1998-03-18\" does not look like a valid URI, I cannot serialize this as N3/Turtle. Perhaps you wanted to urlencode it?\n"
     ]
    },
    {
     "name": "stderr",
     "output_type": "stream",
     "text": [
      "WARNING:rdflib.term:1.0:v:BWB:BWBR0002320&artikel=23 (oud)&g=1998-04-15 does not look like a valid URI, trying to serialize this will break.\n"
     ]
    },
    {
     "name": "stdout",
     "output_type": "stream",
     "text": [
      "ECLI:NL:HR:1998:AA2492 \"1.0:v:BWB:BWBR0002320&artikel=23 (oud)&g=1998-04-15\" does not look like a valid URI, I cannot serialize this as N3/Turtle. Perhaps you wanted to urlencode it?\n"
     ]
    },
    {
     "name": "stderr",
     "output_type": "stream",
     "text": [
      "WARNING:rdflib.term:1.0:v:BWB:BWBR0005416&artikel=222 (oud)&g=1998-04-15 does not look like a valid URI, trying to serialize this will break.\n",
      "WARNING:rdflib.term:1.0:v:BWB:BWBR0005416&artikel=274 (oud)&g=1998-04-15 does not look like a valid URI, trying to serialize this will break.\n"
     ]
    },
    {
     "name": "stdout",
     "output_type": "stream",
     "text": [
      "ECLI:NL:HR:1998:AA2499 \"1.0:v:BWB:BWBR0005416&artikel=222 (oud)&g=1998-04-15\" does not look like a valid URI, I cannot serialize this as N3/Turtle. Perhaps you wanted to urlencode it?\n"
     ]
    },
    {
     "name": "stderr",
     "output_type": "stream",
     "text": [
      "WARNING:rdflib.term:1.0:v:BWB:BWBR0002320&artikel=21 (oud)&g=1998-04-01 does not look like a valid URI, trying to serialize this will break.\n"
     ]
    },
    {
     "name": "stdout",
     "output_type": "stream",
     "text": [
      "ECLI:NL:HR:1998:AA2504 \"1.0:v:BWB:BWBR0002320&artikel=21 (oud)&g=1998-04-01\" does not look like a valid URI, I cannot serialize this as N3/Turtle. Perhaps you wanted to urlencode it?\n"
     ]
    },
    {
     "name": "stderr",
     "output_type": "stream",
     "text": [
      "WARNING:rdflib.term:1.0:v:BWB:BWBR0002629&artikel=8 (oud)&g=1998-05-06 does not look like a valid URI, trying to serialize this will break.\n"
     ]
    },
    {
     "name": "stdout",
     "output_type": "stream",
     "text": [
      "ECLI:NL:HR:1998:AA2510 \"1.0:v:BWB:BWBR0002629&artikel=8 (oud)&g=1998-05-06\" does not look like a valid URI, I cannot serialize this as N3/Turtle. Perhaps you wanted to urlencode it?\n"
     ]
    },
    {
     "name": "stderr",
     "output_type": "stream",
     "text": [
      "WARNING:rdflib.term:1.0:v:BWB:BWBR0005806&artikel=1 (oud)&g=1998-05-20 does not look like a valid URI, trying to serialize this will break.\n"
     ]
    },
    {
     "name": "stdout",
     "output_type": "stream",
     "text": [
      "ECLI:NL:HR:1998:AA2516 \"1.0:v:BWB:BWBR0005806&artikel=1 (oud)&g=1998-05-20\" does not look like a valid URI, I cannot serialize this as N3/Turtle. Perhaps you wanted to urlencode it?\n"
     ]
    },
    {
     "name": "stderr",
     "output_type": "stream",
     "text": [
      "WARNING:rdflib.term:1.0:v:BWB:BWBR0005416&artikel=221 (oud)&g=1998-06-10 does not look like a valid URI, trying to serialize this will break.\n",
      "WARNING:rdflib.term:1.0:v:BWB:BWBR0005416&artikel=273a (oud)&g=1998-06-10 does not look like a valid URI, trying to serialize this will break.\n"
     ]
    },
    {
     "name": "stdout",
     "output_type": "stream",
     "text": [
      "ECLI:NL:HR:1998:AA2522 \"1.0:v:BWB:BWBR0005416&artikel=221 (oud)&g=1998-06-10\" does not look like a valid URI, I cannot serialize this as N3/Turtle. Perhaps you wanted to urlencode it?\n"
     ]
    },
    {
     "name": "stderr",
     "output_type": "stream",
     "text": [
      "WARNING:rdflib.term:1.0:v:BWB:BWBR0002672&artikel=13 (oud)&g=1998-08-26 does not look like a valid URI, trying to serialize this will break.\n"
     ]
    },
    {
     "name": "stdout",
     "output_type": "stream",
     "text": [
      "ECLI:NL:HR:1998:AA2530 \"1.0:v:BWB:BWBR0002672&artikel=13 (oud)&g=1998-08-26\" does not look like a valid URI, I cannot serialize this as N3/Turtle. Perhaps you wanted to urlencode it?\n",
      "ECLI:NL:HR:1998:AA2534 [Errno 104] Connection reset by peer\n"
     ]
    },
    {
     "name": "stderr",
     "output_type": "stream",
     "text": [
      "WARNING:rdflib.term:1.0:v:BWB:BWBR0002633&artikel=8 (oud)&g=1998-08-26 does not look like a valid URI, trying to serialize this will break.\n"
     ]
    },
    {
     "name": "stdout",
     "output_type": "stream",
     "text": [
      "ECLI:NL:HR:1998:AA2557 \"1.0:v:BWB:BWBR0002633&artikel=8 (oud)&g=1998-08-26\" does not look like a valid URI, I cannot serialize this as N3/Turtle. Perhaps you wanted to urlencode it?\n"
     ]
    },
    {
     "name": "stderr",
     "output_type": "stream",
     "text": [
      "WARNING:rdflib.term:1.0:v:BWB:BWBR0005416&artikel=220 (oud)&g=1998-11-25 does not look like a valid URI, trying to serialize this will break.\n"
     ]
    },
    {
     "name": "stdout",
     "output_type": "stream",
     "text": [
      "ECLI:NL:HR:1998:AA2572 \"1.0:v:BWB:BWBR0005416&artikel=220 (oud)&g=1998-11-25\" does not look like a valid URI, I cannot serialize this as N3/Turtle. Perhaps you wanted to urlencode it?\n"
     ]
    },
    {
     "name": "stderr",
     "output_type": "stream",
     "text": [
      "WARNING:rdflib.term:1.0:v:BWB:BWBR0002320&artikel=9 (oud)&g=1998-12-16 does not look like a valid URI, trying to serialize this will break.\n"
     ]
    },
    {
     "name": "stdout",
     "output_type": "stream",
     "text": [
      "ECLI:NL:HR:1998:AA2584 \"1.0:v:BWB:BWBR0002320&artikel=9 (oud)&g=1998-12-16\" does not look like a valid URI, I cannot serialize this as N3/Turtle. Perhaps you wanted to urlencode it?\n"
     ]
    },
    {
     "name": "stderr",
     "output_type": "stream",
     "text": [
      "WARNING:rdflib.term:1.0:v:BWB:BWBR0002672&artikel=23d (oud)&g=1998-12-16 does not look like a valid URI, trying to serialize this will break.\n"
     ]
    },
    {
     "name": "stdout",
     "output_type": "stream",
     "text": [
      "ECLI:NL:HR:1998:AA2587 \"1.0:v:BWB:BWBR0002672&artikel=23d (oud)&g=1998-12-16\" does not look like a valid URI, I cannot serialize this as N3/Turtle. Perhaps you wanted to urlencode it?\n"
     ]
    },
    {
     "name": "stderr",
     "output_type": "stream",
     "text": [
      "WARNING:rdflib.term:1.0:v:BWB:BWBV0001506&artikel=7 (oud)&g=1998-12-16 does not look like a valid URI, trying to serialize this will break.\n"
     ]
    },
    {
     "name": "stdout",
     "output_type": "stream",
     "text": [
      "ECLI:NL:HR:1998:AA2598 \"1.0:v:BWB:BWBV0001506&artikel=7 (oud)&g=1998-12-16\" does not look like a valid URI, I cannot serialize this as N3/Turtle. Perhaps you wanted to urlencode it?\n"
     ]
    },
    {
     "name": "stderr",
     "output_type": "stream",
     "text": [
      "WARNING:rdflib.term:1.0:v:BWB:BWBR0002740&artikel=35 (oud)&g=1998-12-02 does not look like a valid URI, trying to serialize this will break.\n"
     ]
    },
    {
     "name": "stdout",
     "output_type": "stream",
     "text": [
      "ECLI:NL:HR:1998:AA2614 \"1.0:v:BWB:BWBR0002740&artikel=35 (oud)&g=1998-12-02\" does not look like a valid URI, I cannot serialize this as N3/Turtle. Perhaps you wanted to urlencode it?\n"
     ]
    },
    {
     "name": "stderr",
     "output_type": "stream",
     "text": [
      "WARNING:rdflib.term:1.0:v:BWB:BWBR0002770&artikel=12 (oud)&g=1998-12-02 does not look like a valid URI, trying to serialize this will break.\n",
      "WARNING:rdflib.term:1.0:v:BWB:BWBR0002740&artikel=35 (oud)&g=1998-12-02 does not look like a valid URI, trying to serialize this will break.\n"
     ]
    },
    {
     "name": "stdout",
     "output_type": "stream",
     "text": [
      "ECLI:NL:HR:1998:AA2615 \"1.0:v:BWB:BWBR0002740&artikel=35 (oud)&g=1998-12-02\" does not look like a valid URI, I cannot serialize this as N3/Turtle. Perhaps you wanted to urlencode it?\n"
     ]
    },
    {
     "name": "stderr",
     "output_type": "stream",
     "text": [
      "WARNING:rdflib.term:1.0:v:BWB:BWBR0002629&artikel=8 (oud)&g=1998-03-25 does not look like a valid URI, trying to serialize this will break.\n"
     ]
    },
    {
     "name": "stdout",
     "output_type": "stream",
     "text": [
      "ECLI:NL:HR:1998:AA2702 \"1.0:v:BWB:BWBR0002629&artikel=8 (oud)&g=1998-03-25\" does not look like a valid URI, I cannot serialize this as N3/Turtle. Perhaps you wanted to urlencode it?\n"
     ]
    },
    {
     "name": "stderr",
     "output_type": "stream",
     "text": [
      "WARNING:rdflib.term:1.0:v:BWB:BWBR0005416&artikel=273 (oud)&g=1998-04-29 does not look like a valid URI, trying to serialize this will break.\n"
     ]
    },
    {
     "name": "stdout",
     "output_type": "stream",
     "text": [
      "ECLI:NL:HR:1998:ZC7052 \"1.0:v:BWB:BWBR0005416&artikel=273 (oud)&g=1998-04-29\" does not look like a valid URI, I cannot serialize this as N3/Turtle. Perhaps you wanted to urlencode it?\n"
     ]
    },
    {
     "name": "stderr",
     "output_type": "stream",
     "text": [
      "WARNING:rdflib.term:1.0:v:BWB:BWBR0002629&artikel=8 (oud)&g=1999-11-10 does not look like a valid URI, trying to serialize this will break.\n"
     ]
    },
    {
     "name": "stdout",
     "output_type": "stream",
     "text": [
      "ECLI:NL:HR:1999:AA2617 \"1.0:v:BWB:BWBR0002629&artikel=8 (oud)&g=1999-11-10\" does not look like a valid URI, I cannot serialize this as N3/Turtle. Perhaps you wanted to urlencode it?\n"
     ]
    },
    {
     "name": "stderr",
     "output_type": "stream",
     "text": [
      "WARNING:rdflib.term:1.0:v:BWB:BWBR0005416&artikel=277 (oud)&g=1999-02-03 does not look like a valid URI, trying to serialize this will break.\n"
     ]
    },
    {
     "name": "stdout",
     "output_type": "stream",
     "text": [
      "ECLI:NL:HR:1999:AA2639 \"1.0:v:BWB:BWBR0005416&artikel=277 (oud)&g=1999-02-03\" does not look like a valid URI, I cannot serialize this as N3/Turtle. Perhaps you wanted to urlencode it?\n"
     ]
    },
    {
     "name": "stderr",
     "output_type": "stream",
     "text": [
      "WARNING:rdflib.term:1.0:v:BWB:BWBR0005416&artikel=273 (oud)&g=1999-02-17 does not look like a valid URI, trying to serialize this will break.\n",
      "WARNING:rdflib.term:1.0:v:BWB:BWBR0005416&artikel=273 (oud)&g=1999-02-17 does not look like a valid URI, trying to serialize this will break.\n"
     ]
    },
    {
     "name": "stdout",
     "output_type": "stream",
     "text": [
      "ECLI:NL:HR:1999:AA2661 \"1.0:v:BWB:BWBR0005416&artikel=273 (oud)&g=1999-02-17\" does not look like a valid URI, I cannot serialize this as N3/Turtle. Perhaps you wanted to urlencode it?\n"
     ]
    },
    {
     "name": "stderr",
     "output_type": "stream",
     "text": [
      "WARNING:rdflib.term:1.0:v:BWB:BWBR0005416&artikel=277 (oud)&g=1999-03-03 does not look like a valid URI, trying to serialize this will break.\n"
     ]
    },
    {
     "name": "stdout",
     "output_type": "stream",
     "text": [
      "ECLI:NL:HR:1999:AA2687 \"1.0:v:BWB:BWBR0005416&artikel=277 (oud)&g=1999-03-03\" does not look like a valid URI, I cannot serialize this as N3/Turtle. Perhaps you wanted to urlencode it?\n"
     ]
    },
    {
     "name": "stderr",
     "output_type": "stream",
     "text": [
      "WARNING:rdflib.term:1.0:v:BWB:BWBR0005416&artikel=220e (oud)&g=1999-03-03 does not look like a valid URI, trying to serialize this will break.\n"
     ]
    },
    {
     "name": "stdout",
     "output_type": "stream",
     "text": [
      "ECLI:NL:HR:1999:AA2689 \"1.0:v:BWB:BWBR0005416&artikel=220e (oud)&g=1999-03-03\" does not look like a valid URI, I cannot serialize this as N3/Turtle. Perhaps you wanted to urlencode it?\n"
     ]
    },
    {
     "name": "stderr",
     "output_type": "stream",
     "text": [
      "WARNING:rdflib.term:1.0:v:BWB:BWBR0005416&artikel=139 (oud)&g=1999-03-10 does not look like a valid URI, trying to serialize this will break.\n"
     ]
    },
    {
     "name": "stdout",
     "output_type": "stream",
     "text": [
      "ECLI:NL:HR:1999:AA2712 \"1.0:v:BWB:BWBR0005416&artikel=139 (oud)&g=1999-03-10\" does not look like a valid URI, I cannot serialize this as N3/Turtle. Perhaps you wanted to urlencode it?\n"
     ]
    },
    {
     "name": "stderr",
     "output_type": "stream",
     "text": [
      "WARNING:rdflib.term:1.0:v:BWB:BWBR0002320&artikel=21 (oud)&g=1999-03-10 does not look like a valid URI, trying to serialize this will break.\n"
     ]
    },
    {
     "name": "stdout",
     "output_type": "stream",
     "text": [
      "ECLI:NL:HR:1999:AA2715 \"1.0:v:BWB:BWBR0002320&artikel=21 (oud)&g=1999-03-10\" does not look like a valid URI, I cannot serialize this as N3/Turtle. Perhaps you wanted to urlencode it?\n"
     ]
    },
    {
     "name": "stderr",
     "output_type": "stream",
     "text": [
      "WARNING:rdflib.term:1.0:v:BWB:BWBR0005416&artikel=277 (oud0&g=1999-03-31 does not look like a valid URI, trying to serialize this will break.\n",
      "WARNING:rdflib.term:1.0:v:BWB:BWBR0005416&artikel=279 (oud)&g=1999-03-31 does not look like a valid URI, trying to serialize this will break.\n"
     ]
    },
    {
     "name": "stdout",
     "output_type": "stream",
     "text": [
      "ECLI:NL:HR:1999:AA2720 \"1.0:v:BWB:BWBR0005416&artikel=277 (oud0&g=1999-03-31\" does not look like a valid URI, I cannot serialize this as N3/Turtle. Perhaps you wanted to urlencode it?\n"
     ]
    },
    {
     "name": "stderr",
     "output_type": "stream",
     "text": [
      "WARNING:rdflib.term:1.0:v:BWB:BWBR0005416&artikel=220c (oud)&g=1999-04-14 does not look like a valid URI, trying to serialize this will break.\n"
     ]
    },
    {
     "name": "stdout",
     "output_type": "stream",
     "text": [
      "ECLI:NL:HR:1999:AA2728 \"1.0:v:BWB:BWBR0005416&artikel=220c (oud)&g=1999-04-14\" does not look like a valid URI, I cannot serialize this as N3/Turtle. Perhaps you wanted to urlencode it?\n"
     ]
    },
    {
     "name": "stderr",
     "output_type": "stream",
     "text": [
      "WARNING:rdflib.term:1.0:v:BWB:BWBR0002320&artikel=60 (oud)&g=1999-04-21 does not look like a valid URI, trying to serialize this will break.\n"
     ]
    },
    {
     "name": "stdout",
     "output_type": "stream",
     "text": [
      "ECLI:NL:HR:1999:AA2732 \"1.0:v:BWB:BWBR0002320&artikel=60 (oud)&g=1999-04-21\" does not look like a valid URI, I cannot serialize this as N3/Turtle. Perhaps you wanted to urlencode it?\n"
     ]
    },
    {
     "name": "stderr",
     "output_type": "stream",
     "text": [
      "WARNING:rdflib.term:1.0:v:BWB:BWBR0005416&artikel=220c (oud)&g=1999-05-12 does not look like a valid URI, trying to serialize this will break.\n"
     ]
    },
    {
     "name": "stdout",
     "output_type": "stream",
     "text": [
      "ECLI:NL:HR:1999:AA2752 \"1.0:v:BWB:BWBR0005416&artikel=220c (oud)&g=1999-05-12\" does not look like a valid URI, I cannot serialize this as N3/Turtle. Perhaps you wanted to urlencode it?\n"
     ]
    },
    {
     "name": "stderr",
     "output_type": "stream",
     "text": [
      "WARNING:rdflib.term:1.0:v:BWB:BWBR0005416&artikel=226 (oud)&g=1999-05-12 does not look like a valid URI, trying to serialize this will break.\n"
     ]
    },
    {
     "name": "stdout",
     "output_type": "stream",
     "text": [
      "ECLI:NL:HR:1999:AA2760 \"1.0:v:BWB:BWBR0005416&artikel=226 (oud)&g=1999-05-12\" does not look like a valid URI, I cannot serialize this as N3/Turtle. Perhaps you wanted to urlencode it?\n"
     ]
    },
    {
     "name": "stderr",
     "output_type": "stream",
     "text": [
      "WARNING:rdflib.term:1.0:v:BWB:BWBR0005108&artikel=131 (oud)&g=1999-06-16 does not look like a valid URI, trying to serialize this will break.\n"
     ]
    },
    {
     "name": "stdout",
     "output_type": "stream",
     "text": [
      "ECLI:NL:HR:1999:AA2773 \"1.0:v:BWB:BWBR0005108&artikel=131 (oud)&g=1999-06-16\" does not look like a valid URI, I cannot serialize this as N3/Turtle. Perhaps you wanted to urlencode it?\n"
     ]
    },
    {
     "name": "stderr",
     "output_type": "stream",
     "text": [
      "WARNING:rdflib.term:1.0:v:BWB:BWBR0005416&artikel=220 (oud)&g=1999-07-09 does not look like a valid URI, trying to serialize this will break.\n"
     ]
    },
    {
     "name": "stdout",
     "output_type": "stream",
     "text": [
      "ECLI:NL:HR:1999:AA2804 \"1.0:v:BWB:BWBR0005416&artikel=220 (oud)&g=1999-07-09\" does not look like a valid URI, I cannot serialize this as N3/Turtle. Perhaps you wanted to urlencode it?\n"
     ]
    },
    {
     "name": "stderr",
     "output_type": "stream",
     "text": [
      "WARNING:rdflib.term:1.0:v:BWB:BWBR0002471&artikel=32d (oud)&g=1999-07-09 does not look like a valid URI, trying to serialize this will break.\n",
      "WARNING:rdflib.term:1.0:v:BWB:BWBR0002471&artikel=26a (oud)&g=1999-07-09 does not look like a valid URI, trying to serialize this will break.\n"
     ]
    },
    {
     "name": "stdout",
     "output_type": "stream",
     "text": [
      "ECLI:NL:HR:1999:AA2806 \"1.0:v:BWB:BWBR0002471&artikel=26a (oud)&g=1999-07-09\" does not look like a valid URI, I cannot serialize this as N3/Turtle. Perhaps you wanted to urlencode it?\n"
     ]
    },
    {
     "name": "stderr",
     "output_type": "stream",
     "text": [
      "WARNING:rdflib.term:1.0:v:BWB:BWBR0002226&artikel=66 (oud)&g=1999-06-30 does not look like a valid URI, trying to serialize this will break.\n"
     ]
    },
    {
     "name": "stdout",
     "output_type": "stream",
     "text": [
      "ECLI:NL:HR:1999:AA2811 \"1.0:v:BWB:BWBR0002226&artikel=66 (oud)&g=1999-06-30\" does not look like a valid URI, I cannot serialize this as N3/Turtle. Perhaps you wanted to urlencode it?\n"
     ]
    },
    {
     "name": "stderr",
     "output_type": "stream",
     "text": [
      "WARNING:rdflib.term:1.0:v:BWB:BWBR0005416&artikel=273 (oud)&g=1999-06-30 does not look like a valid URI, trying to serialize this will break.\n"
     ]
    },
    {
     "name": "stdout",
     "output_type": "stream",
     "text": [
      "ECLI:NL:HR:1999:AA2814 \"1.0:v:BWB:BWBR0005416&artikel=273 (oud)&g=1999-06-30\" does not look like a valid URI, I cannot serialize this as N3/Turtle. Perhaps you wanted to urlencode it?\n"
     ]
    },
    {
     "name": "stderr",
     "output_type": "stream",
     "text": [
      "WARNING:rdflib.term:1.0:v:BWB:BWBR0002672&artikel=13 (oud)&g=1999-07-09 does not look like a valid URI, trying to serialize this will break.\n",
      "WARNING:rdflib.term:1.0:v:BWB:BWBR0002672&artikel=13 (oud)&g=1999-07-09 does not look like a valid URI, trying to serialize this will break.\n"
     ]
    },
    {
     "name": "stdout",
     "output_type": "stream",
     "text": [
      "ECLI:NL:HR:1999:AA2819 \"1.0:v:BWB:BWBR0002672&artikel=13 (oud)&g=1999-07-09\" does not look like a valid URI, I cannot serialize this as N3/Turtle. Perhaps you wanted to urlencode it?\n"
     ]
    },
    {
     "name": "stderr",
     "output_type": "stream",
     "text": [
      "WARNING:rdflib.term:1.0:v:BWB:BWBR0004770&artikel=2 (oud)&g=1999-07-20 does not look like a valid URI, trying to serialize this will break.\n"
     ]
    },
    {
     "name": "stdout",
     "output_type": "stream",
     "text": [
      "ECLI:NL:HR:1999:AA2824 \"1.0:v:BWB:BWBR0004770&artikel=2 (oud)&g=1999-07-20\" does not look like a valid URI, I cannot serialize this as N3/Turtle. Perhaps you wanted to urlencode it?\n"
     ]
    },
    {
     "name": "stderr",
     "output_type": "stream",
     "text": [
      "WARNING:rdflib.term:1.0:v:BWB:BWBR0002320&artikel=21 (oud)&g=1999-08-24 does not look like a valid URI, trying to serialize this will break.\n",
      "WARNING:rdflib.term:1.0:v:BWB:BWBV0001506&artikel=7 (oud)&g=1999-08-24 does not look like a valid URI, trying to serialize this will break.\n"
     ]
    },
    {
     "name": "stdout",
     "output_type": "stream",
     "text": [
      "ECLI:NL:HR:1999:AA2845 \"1.0:v:BWB:BWBR0002320&artikel=21 (oud)&g=1999-08-24\" does not look like a valid URI, I cannot serialize this as N3/Turtle. Perhaps you wanted to urlencode it?\n"
     ]
    },
    {
     "name": "stderr",
     "output_type": "stream",
     "text": [
      "WARNING:rdflib.term:1.0:v:BWB:BWBR0002320&artikel=21 (oud)&g=1999-09-22 does not look like a valid URI, trying to serialize this will break.\n"
     ]
    },
    {
     "name": "stdout",
     "output_type": "stream",
     "text": [
      "ECLI:NL:HR:1999:AA2870 \"1.0:v:BWB:BWBR0002320&artikel=21 (oud)&g=1999-09-22\" does not look like a valid URI, I cannot serialize this as N3/Turtle. Perhaps you wanted to urlencode it?\n"
     ]
    },
    {
     "name": "stderr",
     "output_type": "stream",
     "text": [
      "WARNING:rdflib.term:1.0:v:BWB:BWBR0005416&artikel=274 (oud)&g=1999-09-29 does not look like a valid URI, trying to serialize this will break.\n",
      "WARNING:rdflib.term:1.0:v:BWB:BWBR0005416&artikel=271 (oud)&g=1999-09-29 does not look like a valid URI, trying to serialize this will break.\n",
      "WARNING:rdflib.term:1.0:v:BWB:BWBR0005416&artikel=274 (oud)&g=1999-09-29 does not look like a valid URI, trying to serialize this will break.\n"
     ]
    },
    {
     "name": "stdout",
     "output_type": "stream",
     "text": [
      "ECLI:NL:HR:1999:AA2901 \"1.0:v:BWB:BWBR0005416&artikel=271 (oud)&g=1999-09-29\" does not look like a valid URI, I cannot serialize this as N3/Turtle. Perhaps you wanted to urlencode it?\n"
     ]
    },
    {
     "name": "stderr",
     "output_type": "stream",
     "text": [
      "WARNING:rdflib.term:1.0:v:BWB:BWBR0002320&artikel=21 (oud)&g=1999-09-29 does not look like a valid URI, trying to serialize this will break.\n",
      "WARNING:rdflib.term:1.0:v:BWB:BWBR0002320&artikel=22 (oud)&g=1999-09-29 does not look like a valid URI, trying to serialize this will break.\n"
     ]
    },
    {
     "name": "stdout",
     "output_type": "stream",
     "text": [
      "ECLI:NL:HR:1999:AA2903 \"1.0:v:BWB:BWBR0002320&artikel=21 (oud)&g=1999-09-29\" does not look like a valid URI, I cannot serialize this as N3/Turtle. Perhaps you wanted to urlencode it?\n"
     ]
    },
    {
     "name": "stderr",
     "output_type": "stream",
     "text": [
      "WARNING:rdflib.term:1.0:v:BWB:BWBR0002320&artikel=22j (oud)&g=1999-10-06 does not look like a valid URI, trying to serialize this will break.\n"
     ]
    },
    {
     "name": "stdout",
     "output_type": "stream",
     "text": [
      "ECLI:NL:HR:1999:AA2916 \"1.0:v:BWB:BWBR0002320&artikel=22j (oud)&g=1999-10-06\" does not look like a valid URI, I cannot serialize this as N3/Turtle. Perhaps you wanted to urlencode it?\n"
     ]
    },
    {
     "name": "stderr",
     "output_type": "stream",
     "text": [
      "WARNING:rdflib.term:1.0:v:BWB:BWBR0003245&artikel=15.10 (oud)&g=1999-10-27 does not look like a valid URI, trying to serialize this will break.\n",
      "WARNING:rdflib.term:1.0:v:BWB:BWBR0003245&artikel=15.11 (oud)&g=1999-10-27 does not look like a valid URI, trying to serialize this will break.\n"
     ]
    },
    {
     "name": "stdout",
     "output_type": "stream",
     "text": [
      "ECLI:NL:HR:1999:AA2932 \"1.0:v:BWB:BWBR0003245&artikel=15.10 (oud)&g=1999-10-27\" does not look like a valid URI, I cannot serialize this as N3/Turtle. Perhaps you wanted to urlencode it?\n"
     ]
    },
    {
     "name": "stderr",
     "output_type": "stream",
     "text": [
      "WARNING:rdflib.term:1.0:v:BWB:BWBV0001506&artikel=119 (oud)&g=1999-12-03 does not look like a valid URI, trying to serialize this will break.\n"
     ]
    },
    {
     "name": "stdout",
     "output_type": "stream",
     "text": [
      "ECLI:NL:HR:1999:AA3816 \"1.0:v:BWB:BWBV0001506&artikel=119 (oud)&g=1999-12-03\" does not look like a valid URI, I cannot serialize this as N3/Turtle. Perhaps you wanted to urlencode it?\n"
     ]
    },
    {
     "name": "stderr",
     "output_type": "stream",
     "text": [
      "WARNING:rdflib.term:1.0:v:BWB:BWBR0001903&artikel=118 (oud)&g=1999-12-10 does not look like a valid URI, trying to serialize this will break.\n"
     ]
    },
    {
     "name": "stdout",
     "output_type": "stream",
     "text": [
      "ECLI:NL:HR:1999:AA3840 \"1.0:v:BWB:BWBR0001903&artikel=118 (oud)&g=1999-12-10\" does not look like a valid URI, I cannot serialize this as N3/Turtle. Perhaps you wanted to urlencode it?\n"
     ]
    },
    {
     "name": "stderr",
     "output_type": "stream",
     "text": [
      "WARNING:rdflib.term:1.0:v:BWB:BWBR0002471&artikel=11 (oud)&g=1999-12-15 does not look like a valid URI, trying to serialize this will break.\n"
     ]
    },
    {
     "name": "stdout",
     "output_type": "stream",
     "text": [
      "ECLI:NL:HR:1999:AA3859 \"1.0:v:BWB:BWBR0002471&artikel=11 (oud)&g=1999-12-15\" does not look like a valid URI, I cannot serialize this as N3/Turtle. Perhaps you wanted to urlencode it?\n",
      "ECLI:NL:HR:1999:AA3860 [Errno 104] Connection reset by peer\n"
     ]
    },
    {
     "name": "stderr",
     "output_type": "stream",
     "text": [
      "WARNING:rdflib.term:1.0:v:BWB:BWBR0002471&artikel=31 (oud)&g=1999-12-15 does not look like a valid URI, trying to serialize this will break.\n"
     ]
    },
    {
     "name": "stdout",
     "output_type": "stream",
     "text": [
      "ECLI:NL:HR:1999:AA3862 \"1.0:v:BWB:BWBR0002471&artikel=31 (oud)&g=1999-12-15\" does not look like a valid URI, I cannot serialize this as N3/Turtle. Perhaps you wanted to urlencode it?\n"
     ]
    },
    {
     "name": "stderr",
     "output_type": "stream",
     "text": [
      "WARNING:rdflib.term:1.0:v:BWB:BWBR0002320&artikel=18 (oud)&g=1999-07-27 does not look like a valid URI, trying to serialize this will break.\n"
     ]
    },
    {
     "name": "stdout",
     "output_type": "stream",
     "text": [
      "ECLI:NL:HR:1999:AA4794 \"1.0:v:BWB:BWBR0002320&artikel=18 (oud)&g=1999-07-27\" does not look like a valid URI, I cannot serialize this as N3/Turtle. Perhaps you wanted to urlencode it?\n"
     ]
    },
    {
     "name": "stderr",
     "output_type": "stream",
     "text": [
      "WARNING:rdflib.term:1.0:v:BWB:BWBR0005806&artikel=1 (oud)&g=1999-09-15 does not look like a valid URI, trying to serialize this will break.\n"
     ]
    },
    {
     "name": "stdout",
     "output_type": "stream",
     "text": [
      "ECLI:NL:HR:1999:AA4798 \"1.0:v:BWB:BWBR0005806&artikel=1 (oud)&g=1999-09-15\" does not look like a valid URI, I cannot serialize this as N3/Turtle. Perhaps you wanted to urlencode it?\n"
     ]
    },
    {
     "ename": "KeyboardInterrupt",
     "evalue": "",
     "output_type": "error",
     "traceback": [
      "\u001b[0;31m---------------------------------------------------------------------------\u001b[0m",
      "\u001b[0;31mKeyboardInterrupt\u001b[0m                         Traceback (most recent call last)",
      "\u001b[0;32m<ipython-input-21-b3e1c6ca8465>\u001b[0m in \u001b[0;36m<module>\u001b[0;34m()\u001b[0m\n\u001b[1;32m      2\u001b[0m \u001b[0;32mfor\u001b[0m \u001b[0mrow\u001b[0m \u001b[0;32min\u001b[0m \u001b[0mids\u001b[0m\u001b[0;34m:\u001b[0m\u001b[0;34m\u001b[0m\u001b[0m\n\u001b[1;32m      3\u001b[0m     \u001b[0mecli\u001b[0m \u001b[0;34m=\u001b[0m \u001b[0mrow\u001b[0m\u001b[0;34m[\u001b[0m\u001b[0;36m0\u001b[0m\u001b[0;34m]\u001b[0m\u001b[0;34m\u001b[0m\u001b[0m\n\u001b[0;32m----> 4\u001b[0;31m     \u001b[0mretrieve_from_cloudant\u001b[0m\u001b[0;34m(\u001b[0m\u001b[0mecli\u001b[0m\u001b[0;34m,\u001b[0m \u001b[0mfilepath\u001b[0m\u001b[0;34m,\u001b[0m \u001b[0;34m'turtle'\u001b[0m\u001b[0;34m)\u001b[0m\u001b[0;34m\u001b[0m\u001b[0m\n\u001b[0m",
      "\u001b[0;32m<ipython-input-20-446d6187e9a5>\u001b[0m in \u001b[0;36mretrieve_from_cloudant\u001b[0;34m(ecli, filepath, form)\u001b[0m\n\u001b[1;32m      2\u001b[0m     \u001b[0mg\u001b[0m \u001b[0;34m=\u001b[0m \u001b[0mGraph\u001b[0m\u001b[0;34m(\u001b[0m\u001b[0;34m)\u001b[0m\u001b[0;34m\u001b[0m\u001b[0m\n\u001b[1;32m      3\u001b[0m     \u001b[0;32mtry\u001b[0m\u001b[0;34m:\u001b[0m\u001b[0;34m\u001b[0m\u001b[0m\n\u001b[0;32m----> 4\u001b[0;31m         \u001b[0mg\u001b[0m\u001b[0;34m.\u001b[0m\u001b[0mparse\u001b[0m\u001b[0;34m(\u001b[0m\u001b[0;34m\"https://rechtspraak.cloudant.com/docs/\"\u001b[0m\u001b[0;34m+\u001b[0m\u001b[0mecli\u001b[0m\u001b[0;34m,\u001b[0m \u001b[0mformat\u001b[0m\u001b[0;34m=\u001b[0m\u001b[0;34m\"json-ld\"\u001b[0m\u001b[0;34m)\u001b[0m\u001b[0;34m\u001b[0m\u001b[0m\n\u001b[0m\u001b[1;32m      5\u001b[0m         \u001b[0mfname\u001b[0m \u001b[0;34m=\u001b[0m \u001b[0mos\u001b[0m\u001b[0;34m.\u001b[0m\u001b[0mpath\u001b[0m\u001b[0;34m.\u001b[0m\u001b[0mjoin\u001b[0m\u001b[0;34m(\u001b[0m\u001b[0mfilepath\u001b[0m\u001b[0;34m,\u001b[0m \u001b[0mre\u001b[0m\u001b[0;34m.\u001b[0m\u001b[0msub\u001b[0m\u001b[0;34m(\u001b[0m\u001b[0;34m':'\u001b[0m\u001b[0;34m,\u001b[0m \u001b[0;34m'_'\u001b[0m\u001b[0;34m,\u001b[0m \u001b[0mecli\u001b[0m\u001b[0;34m)\u001b[0m\u001b[0;34m+\u001b[0m\u001b[0;34m'.'\u001b[0m\u001b[0;34m+\u001b[0m\u001b[0mform\u001b[0m\u001b[0;34m)\u001b[0m\u001b[0;34m\u001b[0m\u001b[0m\n\u001b[1;32m      6\u001b[0m         \u001b[0mg\u001b[0m\u001b[0;34m.\u001b[0m\u001b[0mserialize\u001b[0m\u001b[0;34m(\u001b[0m\u001b[0mdestination\u001b[0m\u001b[0;34m=\u001b[0m\u001b[0mfname\u001b[0m\u001b[0;34m,\u001b[0m \u001b[0mformat\u001b[0m\u001b[0;34m=\u001b[0m\u001b[0mform\u001b[0m\u001b[0;34m)\u001b[0m\u001b[0;34m\u001b[0m\u001b[0m\n",
      "\u001b[0;32m/home/dafne/anaconda2/envs/caselaw/lib/python3.5/site-packages/rdflib/graph.py\u001b[0m in \u001b[0;36mparse\u001b[0;34m(self, source, publicID, format, location, file, data, **args)\u001b[0m\n\u001b[1;32m   1039\u001b[0m             \u001b[0mformat\u001b[0m \u001b[0;34m=\u001b[0m \u001b[0;34m\"application/rdf+xml\"\u001b[0m\u001b[0;34m\u001b[0m\u001b[0m\n\u001b[1;32m   1040\u001b[0m         \u001b[0mparser\u001b[0m \u001b[0;34m=\u001b[0m \u001b[0mplugin\u001b[0m\u001b[0;34m.\u001b[0m\u001b[0mget\u001b[0m\u001b[0;34m(\u001b[0m\u001b[0mformat\u001b[0m\u001b[0;34m,\u001b[0m \u001b[0mParser\u001b[0m\u001b[0;34m)\u001b[0m\u001b[0;34m(\u001b[0m\u001b[0;34m)\u001b[0m\u001b[0;34m\u001b[0m\u001b[0m\n\u001b[0;32m-> 1041\u001b[0;31m         \u001b[0mparser\u001b[0m\u001b[0;34m.\u001b[0m\u001b[0mparse\u001b[0m\u001b[0;34m(\u001b[0m\u001b[0msource\u001b[0m\u001b[0;34m,\u001b[0m \u001b[0mself\u001b[0m\u001b[0;34m,\u001b[0m \u001b[0;34m**\u001b[0m\u001b[0margs\u001b[0m\u001b[0;34m)\u001b[0m\u001b[0;34m\u001b[0m\u001b[0m\n\u001b[0m\u001b[1;32m   1042\u001b[0m         \u001b[0;32mreturn\u001b[0m \u001b[0mself\u001b[0m\u001b[0;34m\u001b[0m\u001b[0m\n\u001b[1;32m   1043\u001b[0m \u001b[0;34m\u001b[0m\u001b[0m\n",
      "\u001b[0;32m/home/dafne/anaconda2/envs/caselaw/lib/python3.5/site-packages/rdflib_jsonld/parser.py\u001b[0m in \u001b[0;36mparse\u001b[0;34m(self, source, sink, **kwargs)\u001b[0m\n\u001b[1;32m     74\u001b[0m         conj_sink = ConjunctiveGraph(\n\u001b[1;32m     75\u001b[0m             store=sink.store, identifier=sink.identifier)\n\u001b[0;32m---> 76\u001b[0;31m         \u001b[0mto_rdf\u001b[0m\u001b[0;34m(\u001b[0m\u001b[0mdata\u001b[0m\u001b[0;34m,\u001b[0m \u001b[0mconj_sink\u001b[0m\u001b[0;34m,\u001b[0m \u001b[0mbase\u001b[0m\u001b[0;34m,\u001b[0m \u001b[0mcontext_data\u001b[0m\u001b[0;34m)\u001b[0m\u001b[0;34m\u001b[0m\u001b[0m\n\u001b[0m\u001b[1;32m     77\u001b[0m \u001b[0;34m\u001b[0m\u001b[0m\n\u001b[1;32m     78\u001b[0m \u001b[0;34m\u001b[0m\u001b[0m\n",
      "\u001b[0;32m/home/dafne/anaconda2/envs/caselaw/lib/python3.5/site-packages/rdflib_jsonld/parser.py\u001b[0m in \u001b[0;36mto_rdf\u001b[0;34m(data, graph, base, context_data, produce_generalized_rdf, allow_lists_of_lists)\u001b[0m\n\u001b[1;32m     86\u001b[0m     parser = Parser(generalized_rdf=produce_generalized_rdf,\n\u001b[1;32m     87\u001b[0m             allow_lists_of_lists=allow_lists_of_lists)\n\u001b[0;32m---> 88\u001b[0;31m     \u001b[0;32mreturn\u001b[0m \u001b[0mparser\u001b[0m\u001b[0;34m.\u001b[0m\u001b[0mparse\u001b[0m\u001b[0;34m(\u001b[0m\u001b[0mdata\u001b[0m\u001b[0;34m,\u001b[0m \u001b[0mcontext\u001b[0m\u001b[0;34m,\u001b[0m \u001b[0mgraph\u001b[0m\u001b[0;34m)\u001b[0m\u001b[0;34m\u001b[0m\u001b[0m\n\u001b[0m\u001b[1;32m     89\u001b[0m \u001b[0;34m\u001b[0m\u001b[0m\n\u001b[1;32m     90\u001b[0m \u001b[0;34m\u001b[0m\u001b[0m\n",
      "\u001b[0;32m/home/dafne/anaconda2/envs/caselaw/lib/python3.5/site-packages/rdflib_jsonld/parser.py\u001b[0m in \u001b[0;36mparse\u001b[0;34m(self, data, context, graph)\u001b[0m\n\u001b[1;32m    104\u001b[0m             \u001b[0ml_ctx\u001b[0m \u001b[0;34m=\u001b[0m \u001b[0mdata\u001b[0m\u001b[0;34m.\u001b[0m\u001b[0mget\u001b[0m\u001b[0;34m(\u001b[0m\u001b[0mCONTEXT\u001b[0m\u001b[0;34m)\u001b[0m\u001b[0;34m\u001b[0m\u001b[0m\n\u001b[1;32m    105\u001b[0m             \u001b[0;32mif\u001b[0m \u001b[0ml_ctx\u001b[0m\u001b[0;34m:\u001b[0m\u001b[0;34m\u001b[0m\u001b[0m\n\u001b[0;32m--> 106\u001b[0;31m                 \u001b[0mcontext\u001b[0m\u001b[0;34m.\u001b[0m\u001b[0mload\u001b[0m\u001b[0;34m(\u001b[0m\u001b[0ml_ctx\u001b[0m\u001b[0;34m,\u001b[0m \u001b[0mcontext\u001b[0m\u001b[0;34m.\u001b[0m\u001b[0mbase\u001b[0m\u001b[0;34m)\u001b[0m\u001b[0;34m\u001b[0m\u001b[0m\n\u001b[0m\u001b[1;32m    107\u001b[0m                 \u001b[0mtopcontext\u001b[0m \u001b[0;34m=\u001b[0m \u001b[0;32mTrue\u001b[0m\u001b[0;34m\u001b[0m\u001b[0m\n\u001b[1;32m    108\u001b[0m             \u001b[0mresources\u001b[0m \u001b[0;34m=\u001b[0m \u001b[0mdata\u001b[0m\u001b[0;34m\u001b[0m\u001b[0m\n",
      "\u001b[0;32m/home/dafne/anaconda2/envs/caselaw/lib/python3.5/site-packages/rdflib_jsonld/context.py\u001b[0m in \u001b[0;36mload\u001b[0;34m(self, source, base)\u001b[0m\n\u001b[1;32m    190\u001b[0m         \u001b[0msources\u001b[0m \u001b[0;34m=\u001b[0m \u001b[0;34m[\u001b[0m\u001b[0;34m]\u001b[0m\u001b[0;34m\u001b[0m\u001b[0m\n\u001b[1;32m    191\u001b[0m         \u001b[0msource\u001b[0m \u001b[0;34m=\u001b[0m \u001b[0msource\u001b[0m \u001b[0;32mif\u001b[0m \u001b[0misinstance\u001b[0m\u001b[0;34m(\u001b[0m\u001b[0msource\u001b[0m\u001b[0;34m,\u001b[0m \u001b[0mlist\u001b[0m\u001b[0;34m)\u001b[0m \u001b[0;32melse\u001b[0m \u001b[0;34m[\u001b[0m\u001b[0msource\u001b[0m\u001b[0;34m]\u001b[0m\u001b[0;34m\u001b[0m\u001b[0m\n\u001b[0;32m--> 192\u001b[0;31m         \u001b[0mself\u001b[0m\u001b[0;34m.\u001b[0m\u001b[0m_prep_sources\u001b[0m\u001b[0;34m(\u001b[0m\u001b[0mbase\u001b[0m\u001b[0;34m,\u001b[0m \u001b[0msource\u001b[0m\u001b[0;34m,\u001b[0m \u001b[0msources\u001b[0m\u001b[0;34m)\u001b[0m\u001b[0;34m\u001b[0m\u001b[0m\n\u001b[0m\u001b[1;32m    193\u001b[0m         \u001b[0;32mfor\u001b[0m \u001b[0msource_url\u001b[0m\u001b[0;34m,\u001b[0m \u001b[0msource\u001b[0m \u001b[0;32min\u001b[0m \u001b[0msources\u001b[0m\u001b[0;34m:\u001b[0m\u001b[0;34m\u001b[0m\u001b[0m\n\u001b[1;32m    194\u001b[0m             \u001b[0mself\u001b[0m\u001b[0;34m.\u001b[0m\u001b[0m_read_source\u001b[0m\u001b[0;34m(\u001b[0m\u001b[0msource\u001b[0m\u001b[0;34m,\u001b[0m \u001b[0msource_url\u001b[0m\u001b[0;34m)\u001b[0m\u001b[0;34m\u001b[0m\u001b[0m\n",
      "\u001b[0;32m/home/dafne/anaconda2/envs/caselaw/lib/python3.5/site-packages/rdflib_jsonld/context.py\u001b[0m in \u001b[0;36m_prep_sources\u001b[0;34m(self, base, inputs, sources, referenced_contexts, in_source_url)\u001b[0m\n\u001b[1;32m    203\u001b[0m                     \u001b[0;32mraise\u001b[0m \u001b[0merrors\u001b[0m\u001b[0;34m.\u001b[0m\u001b[0mRECURSIVE_CONTEXT_INCLUSION\u001b[0m\u001b[0;34m\u001b[0m\u001b[0m\n\u001b[1;32m    204\u001b[0m                 \u001b[0mreferenced_contexts\u001b[0m\u001b[0;34m.\u001b[0m\u001b[0madd\u001b[0m\u001b[0;34m(\u001b[0m\u001b[0msource_url\u001b[0m\u001b[0;34m)\u001b[0m\u001b[0;34m\u001b[0m\u001b[0m\n\u001b[0;32m--> 205\u001b[0;31m                 \u001b[0msource\u001b[0m \u001b[0;34m=\u001b[0m \u001b[0msource_to_json\u001b[0m\u001b[0;34m(\u001b[0m\u001b[0msource_url\u001b[0m\u001b[0;34m)\u001b[0m\u001b[0;34m\u001b[0m\u001b[0m\n\u001b[0m\u001b[1;32m    206\u001b[0m                 \u001b[0;32mif\u001b[0m \u001b[0mCONTEXT\u001b[0m \u001b[0;32mnot\u001b[0m \u001b[0;32min\u001b[0m \u001b[0msource\u001b[0m\u001b[0;34m:\u001b[0m\u001b[0;34m\u001b[0m\u001b[0m\n\u001b[1;32m    207\u001b[0m                     \u001b[0;32mraise\u001b[0m \u001b[0merrors\u001b[0m\u001b[0;34m.\u001b[0m\u001b[0mINVALID_REMOTE_CONTEXT\u001b[0m\u001b[0;34m\u001b[0m\u001b[0m\n",
      "\u001b[0;32m/home/dafne/anaconda2/envs/caselaw/lib/python3.5/site-packages/rdflib_jsonld/util.py\u001b[0m in \u001b[0;36msource_to_json\u001b[0;34m(source)\u001b[0m\n\u001b[1;32m     21\u001b[0m \u001b[0;32mdef\u001b[0m \u001b[0msource_to_json\u001b[0m\u001b[0;34m(\u001b[0m\u001b[0msource\u001b[0m\u001b[0;34m)\u001b[0m\u001b[0;34m:\u001b[0m\u001b[0;34m\u001b[0m\u001b[0m\n\u001b[1;32m     22\u001b[0m     \u001b[0;31m# TODO: conneg for JSON (fix support in rdflib's URLInputSource!)\u001b[0m\u001b[0;34m\u001b[0m\u001b[0;34m\u001b[0m\u001b[0m\n\u001b[0;32m---> 23\u001b[0;31m     \u001b[0msource\u001b[0m \u001b[0;34m=\u001b[0m \u001b[0mcreate_input_source\u001b[0m\u001b[0;34m(\u001b[0m\u001b[0msource\u001b[0m\u001b[0;34m,\u001b[0m \u001b[0mformat\u001b[0m\u001b[0;34m=\u001b[0m\u001b[0;34m'json-ld'\u001b[0m\u001b[0;34m)\u001b[0m\u001b[0;34m\u001b[0m\u001b[0m\n\u001b[0m\u001b[1;32m     24\u001b[0m \u001b[0;34m\u001b[0m\u001b[0m\n\u001b[1;32m     25\u001b[0m     \u001b[0mstream\u001b[0m \u001b[0;34m=\u001b[0m \u001b[0msource\u001b[0m\u001b[0;34m.\u001b[0m\u001b[0mgetByteStream\u001b[0m\u001b[0;34m(\u001b[0m\u001b[0;34m)\u001b[0m\u001b[0;34m\u001b[0m\u001b[0m\n",
      "\u001b[0;32m/home/dafne/anaconda2/envs/caselaw/lib/python3.5/site-packages/rdflib/parser.py\u001b[0m in \u001b[0;36mcreate_input_source\u001b[0;34m(source, publicID, location, file, data, format)\u001b[0m\n\u001b[1;32m    169\u001b[0m             \u001b[0mfile\u001b[0m \u001b[0;34m=\u001b[0m \u001b[0mopen\u001b[0m\u001b[0;34m(\u001b[0m\u001b[0mfilename\u001b[0m\u001b[0;34m,\u001b[0m \u001b[0;34m\"rb\"\u001b[0m\u001b[0;34m)\u001b[0m\u001b[0;34m\u001b[0m\u001b[0m\n\u001b[1;32m    170\u001b[0m         \u001b[0;32melse\u001b[0m\u001b[0;34m:\u001b[0m\u001b[0;34m\u001b[0m\u001b[0m\n\u001b[0;32m--> 171\u001b[0;31m             \u001b[0minput_source\u001b[0m \u001b[0;34m=\u001b[0m \u001b[0mURLInputSource\u001b[0m\u001b[0;34m(\u001b[0m\u001b[0mabsolute_location\u001b[0m\u001b[0;34m,\u001b[0m \u001b[0mformat\u001b[0m\u001b[0;34m)\u001b[0m\u001b[0;34m\u001b[0m\u001b[0m\n\u001b[0m\u001b[1;32m    172\u001b[0m         \u001b[0;31m# publicID = publicID or absolute_location  # Further to fix\u001b[0m\u001b[0;34m\u001b[0m\u001b[0;34m\u001b[0m\u001b[0m\n\u001b[1;32m    173\u001b[0m                                                     \u001b[0;31m# for issue 130\u001b[0m\u001b[0;34m\u001b[0m\u001b[0;34m\u001b[0m\u001b[0m\n",
      "\u001b[0;32m/home/dafne/anaconda2/envs/caselaw/lib/python3.5/site-packages/rdflib/parser.py\u001b[0m in \u001b[0;36m__init__\u001b[0;34m(self, system_id, format)\u001b[0m\n\u001b[1;32m     98\u001b[0m \u001b[0;34m\u001b[0m\u001b[0m\n\u001b[1;32m     99\u001b[0m         \u001b[0mreq\u001b[0m \u001b[0;34m=\u001b[0m \u001b[0mRequest\u001b[0m\u001b[0;34m(\u001b[0m\u001b[0msystem_id\u001b[0m\u001b[0;34m,\u001b[0m \u001b[0;32mNone\u001b[0m\u001b[0;34m,\u001b[0m \u001b[0mmyheaders\u001b[0m\u001b[0;34m)\u001b[0m\u001b[0;34m\u001b[0m\u001b[0m\n\u001b[0;32m--> 100\u001b[0;31m         \u001b[0mfile\u001b[0m \u001b[0;34m=\u001b[0m \u001b[0murlopen\u001b[0m\u001b[0;34m(\u001b[0m\u001b[0mreq\u001b[0m\u001b[0;34m)\u001b[0m\u001b[0;34m\u001b[0m\u001b[0m\n\u001b[0m\u001b[1;32m    101\u001b[0m         \u001b[0;31m# Fix for issue 130 https://github.com/RDFLib/rdflib/issues/130\u001b[0m\u001b[0;34m\u001b[0m\u001b[0;34m\u001b[0m\u001b[0m\n\u001b[1;32m    102\u001b[0m         \u001b[0mself\u001b[0m\u001b[0;34m.\u001b[0m\u001b[0murl\u001b[0m \u001b[0;34m=\u001b[0m \u001b[0mfile\u001b[0m\u001b[0;34m.\u001b[0m\u001b[0mgeturl\u001b[0m\u001b[0;34m(\u001b[0m\u001b[0;34m)\u001b[0m    \u001b[0;31m# in case redirections took place\u001b[0m\u001b[0;34m\u001b[0m\u001b[0m\n",
      "\u001b[0;32m/home/dafne/anaconda2/envs/caselaw/lib/python3.5/urllib/request.py\u001b[0m in \u001b[0;36murlopen\u001b[0;34m(url, data, timeout, cafile, capath, cadefault, context)\u001b[0m\n\u001b[1;32m    161\u001b[0m     \u001b[0;32melse\u001b[0m\u001b[0;34m:\u001b[0m\u001b[0;34m\u001b[0m\u001b[0m\n\u001b[1;32m    162\u001b[0m         \u001b[0mopener\u001b[0m \u001b[0;34m=\u001b[0m \u001b[0m_opener\u001b[0m\u001b[0;34m\u001b[0m\u001b[0m\n\u001b[0;32m--> 163\u001b[0;31m     \u001b[0;32mreturn\u001b[0m \u001b[0mopener\u001b[0m\u001b[0;34m.\u001b[0m\u001b[0mopen\u001b[0m\u001b[0;34m(\u001b[0m\u001b[0murl\u001b[0m\u001b[0;34m,\u001b[0m \u001b[0mdata\u001b[0m\u001b[0;34m,\u001b[0m \u001b[0mtimeout\u001b[0m\u001b[0;34m)\u001b[0m\u001b[0;34m\u001b[0m\u001b[0m\n\u001b[0m\u001b[1;32m    164\u001b[0m \u001b[0;34m\u001b[0m\u001b[0m\n\u001b[1;32m    165\u001b[0m \u001b[0;32mdef\u001b[0m \u001b[0minstall_opener\u001b[0m\u001b[0;34m(\u001b[0m\u001b[0mopener\u001b[0m\u001b[0;34m)\u001b[0m\u001b[0;34m:\u001b[0m\u001b[0;34m\u001b[0m\u001b[0m\n",
      "\u001b[0;32m/home/dafne/anaconda2/envs/caselaw/lib/python3.5/urllib/request.py\u001b[0m in \u001b[0;36mopen\u001b[0;34m(self, fullurl, data, timeout)\u001b[0m\n\u001b[1;32m    464\u001b[0m             \u001b[0mreq\u001b[0m \u001b[0;34m=\u001b[0m \u001b[0mmeth\u001b[0m\u001b[0;34m(\u001b[0m\u001b[0mreq\u001b[0m\u001b[0;34m)\u001b[0m\u001b[0;34m\u001b[0m\u001b[0m\n\u001b[1;32m    465\u001b[0m \u001b[0;34m\u001b[0m\u001b[0m\n\u001b[0;32m--> 466\u001b[0;31m         \u001b[0mresponse\u001b[0m \u001b[0;34m=\u001b[0m \u001b[0mself\u001b[0m\u001b[0;34m.\u001b[0m\u001b[0m_open\u001b[0m\u001b[0;34m(\u001b[0m\u001b[0mreq\u001b[0m\u001b[0;34m,\u001b[0m \u001b[0mdata\u001b[0m\u001b[0;34m)\u001b[0m\u001b[0;34m\u001b[0m\u001b[0m\n\u001b[0m\u001b[1;32m    467\u001b[0m \u001b[0;34m\u001b[0m\u001b[0m\n\u001b[1;32m    468\u001b[0m         \u001b[0;31m# post-process response\u001b[0m\u001b[0;34m\u001b[0m\u001b[0;34m\u001b[0m\u001b[0m\n",
      "\u001b[0;32m/home/dafne/anaconda2/envs/caselaw/lib/python3.5/urllib/request.py\u001b[0m in \u001b[0;36m_open\u001b[0;34m(self, req, data)\u001b[0m\n\u001b[1;32m    482\u001b[0m         \u001b[0mprotocol\u001b[0m \u001b[0;34m=\u001b[0m \u001b[0mreq\u001b[0m\u001b[0;34m.\u001b[0m\u001b[0mtype\u001b[0m\u001b[0;34m\u001b[0m\u001b[0m\n\u001b[1;32m    483\u001b[0m         result = self._call_chain(self.handle_open, protocol, protocol +\n\u001b[0;32m--> 484\u001b[0;31m                                   '_open', req)\n\u001b[0m\u001b[1;32m    485\u001b[0m         \u001b[0;32mif\u001b[0m \u001b[0mresult\u001b[0m\u001b[0;34m:\u001b[0m\u001b[0;34m\u001b[0m\u001b[0m\n\u001b[1;32m    486\u001b[0m             \u001b[0;32mreturn\u001b[0m \u001b[0mresult\u001b[0m\u001b[0;34m\u001b[0m\u001b[0m\n",
      "\u001b[0;32m/home/dafne/anaconda2/envs/caselaw/lib/python3.5/urllib/request.py\u001b[0m in \u001b[0;36m_call_chain\u001b[0;34m(self, chain, kind, meth_name, *args)\u001b[0m\n\u001b[1;32m    442\u001b[0m         \u001b[0;32mfor\u001b[0m \u001b[0mhandler\u001b[0m \u001b[0;32min\u001b[0m \u001b[0mhandlers\u001b[0m\u001b[0;34m:\u001b[0m\u001b[0;34m\u001b[0m\u001b[0m\n\u001b[1;32m    443\u001b[0m             \u001b[0mfunc\u001b[0m \u001b[0;34m=\u001b[0m \u001b[0mgetattr\u001b[0m\u001b[0;34m(\u001b[0m\u001b[0mhandler\u001b[0m\u001b[0;34m,\u001b[0m \u001b[0mmeth_name\u001b[0m\u001b[0;34m)\u001b[0m\u001b[0;34m\u001b[0m\u001b[0m\n\u001b[0;32m--> 444\u001b[0;31m             \u001b[0mresult\u001b[0m \u001b[0;34m=\u001b[0m \u001b[0mfunc\u001b[0m\u001b[0;34m(\u001b[0m\u001b[0;34m*\u001b[0m\u001b[0margs\u001b[0m\u001b[0;34m)\u001b[0m\u001b[0;34m\u001b[0m\u001b[0m\n\u001b[0m\u001b[1;32m    445\u001b[0m             \u001b[0;32mif\u001b[0m \u001b[0mresult\u001b[0m \u001b[0;32mis\u001b[0m \u001b[0;32mnot\u001b[0m \u001b[0;32mNone\u001b[0m\u001b[0;34m:\u001b[0m\u001b[0;34m\u001b[0m\u001b[0m\n\u001b[1;32m    446\u001b[0m                 \u001b[0;32mreturn\u001b[0m \u001b[0mresult\u001b[0m\u001b[0;34m\u001b[0m\u001b[0m\n",
      "\u001b[0;32m/home/dafne/anaconda2/envs/caselaw/lib/python3.5/urllib/request.py\u001b[0m in \u001b[0;36mhttps_open\u001b[0;34m(self, req)\u001b[0m\n\u001b[1;32m   1295\u001b[0m         \u001b[0;32mdef\u001b[0m \u001b[0mhttps_open\u001b[0m\u001b[0;34m(\u001b[0m\u001b[0mself\u001b[0m\u001b[0;34m,\u001b[0m \u001b[0mreq\u001b[0m\u001b[0;34m)\u001b[0m\u001b[0;34m:\u001b[0m\u001b[0;34m\u001b[0m\u001b[0m\n\u001b[1;32m   1296\u001b[0m             return self.do_open(http.client.HTTPSConnection, req,\n\u001b[0;32m-> 1297\u001b[0;31m                 context=self._context, check_hostname=self._check_hostname)\n\u001b[0m\u001b[1;32m   1298\u001b[0m \u001b[0;34m\u001b[0m\u001b[0m\n\u001b[1;32m   1299\u001b[0m         \u001b[0mhttps_request\u001b[0m \u001b[0;34m=\u001b[0m \u001b[0mAbstractHTTPHandler\u001b[0m\u001b[0;34m.\u001b[0m\u001b[0mdo_request_\u001b[0m\u001b[0;34m\u001b[0m\u001b[0m\n",
      "\u001b[0;32m/home/dafne/anaconda2/envs/caselaw/lib/python3.5/urllib/request.py\u001b[0m in \u001b[0;36mdo_open\u001b[0;34m(self, http_class, req, **http_conn_args)\u001b[0m\n\u001b[1;32m   1252\u001b[0m         \u001b[0;32mtry\u001b[0m\u001b[0;34m:\u001b[0m\u001b[0;34m\u001b[0m\u001b[0m\n\u001b[1;32m   1253\u001b[0m             \u001b[0;32mtry\u001b[0m\u001b[0;34m:\u001b[0m\u001b[0;34m\u001b[0m\u001b[0m\n\u001b[0;32m-> 1254\u001b[0;31m                 \u001b[0mh\u001b[0m\u001b[0;34m.\u001b[0m\u001b[0mrequest\u001b[0m\u001b[0;34m(\u001b[0m\u001b[0mreq\u001b[0m\u001b[0;34m.\u001b[0m\u001b[0mget_method\u001b[0m\u001b[0;34m(\u001b[0m\u001b[0;34m)\u001b[0m\u001b[0;34m,\u001b[0m \u001b[0mreq\u001b[0m\u001b[0;34m.\u001b[0m\u001b[0mselector\u001b[0m\u001b[0;34m,\u001b[0m \u001b[0mreq\u001b[0m\u001b[0;34m.\u001b[0m\u001b[0mdata\u001b[0m\u001b[0;34m,\u001b[0m \u001b[0mheaders\u001b[0m\u001b[0;34m)\u001b[0m\u001b[0;34m\u001b[0m\u001b[0m\n\u001b[0m\u001b[1;32m   1255\u001b[0m             \u001b[0;32mexcept\u001b[0m \u001b[0mOSError\u001b[0m \u001b[0;32mas\u001b[0m \u001b[0merr\u001b[0m\u001b[0;34m:\u001b[0m \u001b[0;31m# timeout error\u001b[0m\u001b[0;34m\u001b[0m\u001b[0m\n\u001b[1;32m   1256\u001b[0m                 \u001b[0;32mraise\u001b[0m \u001b[0mURLError\u001b[0m\u001b[0;34m(\u001b[0m\u001b[0merr\u001b[0m\u001b[0;34m)\u001b[0m\u001b[0;34m\u001b[0m\u001b[0m\n",
      "\u001b[0;32m/home/dafne/anaconda2/envs/caselaw/lib/python3.5/http/client.py\u001b[0m in \u001b[0;36mrequest\u001b[0;34m(self, method, url, body, headers)\u001b[0m\n\u001b[1;32m   1104\u001b[0m     \u001b[0;32mdef\u001b[0m \u001b[0mrequest\u001b[0m\u001b[0;34m(\u001b[0m\u001b[0mself\u001b[0m\u001b[0;34m,\u001b[0m \u001b[0mmethod\u001b[0m\u001b[0;34m,\u001b[0m \u001b[0murl\u001b[0m\u001b[0;34m,\u001b[0m \u001b[0mbody\u001b[0m\u001b[0;34m=\u001b[0m\u001b[0;32mNone\u001b[0m\u001b[0;34m,\u001b[0m \u001b[0mheaders\u001b[0m\u001b[0;34m=\u001b[0m\u001b[0;34m{\u001b[0m\u001b[0;34m}\u001b[0m\u001b[0;34m)\u001b[0m\u001b[0;34m:\u001b[0m\u001b[0;34m\u001b[0m\u001b[0m\n\u001b[1;32m   1105\u001b[0m         \u001b[0;34m\"\"\"Send a complete request to the server.\"\"\"\u001b[0m\u001b[0;34m\u001b[0m\u001b[0m\n\u001b[0;32m-> 1106\u001b[0;31m         \u001b[0mself\u001b[0m\u001b[0;34m.\u001b[0m\u001b[0m_send_request\u001b[0m\u001b[0;34m(\u001b[0m\u001b[0mmethod\u001b[0m\u001b[0;34m,\u001b[0m \u001b[0murl\u001b[0m\u001b[0;34m,\u001b[0m \u001b[0mbody\u001b[0m\u001b[0;34m,\u001b[0m \u001b[0mheaders\u001b[0m\u001b[0;34m)\u001b[0m\u001b[0;34m\u001b[0m\u001b[0m\n\u001b[0m\u001b[1;32m   1107\u001b[0m \u001b[0;34m\u001b[0m\u001b[0m\n\u001b[1;32m   1108\u001b[0m     \u001b[0;32mdef\u001b[0m \u001b[0m_set_content_length\u001b[0m\u001b[0;34m(\u001b[0m\u001b[0mself\u001b[0m\u001b[0;34m,\u001b[0m \u001b[0mbody\u001b[0m\u001b[0;34m,\u001b[0m \u001b[0mmethod\u001b[0m\u001b[0;34m)\u001b[0m\u001b[0;34m:\u001b[0m\u001b[0;34m\u001b[0m\u001b[0m\n",
      "\u001b[0;32m/home/dafne/anaconda2/envs/caselaw/lib/python3.5/http/client.py\u001b[0m in \u001b[0;36m_send_request\u001b[0;34m(self, method, url, body, headers)\u001b[0m\n\u001b[1;32m   1149\u001b[0m             \u001b[0;31m# default charset of iso-8859-1.\u001b[0m\u001b[0;34m\u001b[0m\u001b[0;34m\u001b[0m\u001b[0m\n\u001b[1;32m   1150\u001b[0m             \u001b[0mbody\u001b[0m \u001b[0;34m=\u001b[0m \u001b[0m_encode\u001b[0m\u001b[0;34m(\u001b[0m\u001b[0mbody\u001b[0m\u001b[0;34m,\u001b[0m \u001b[0;34m'body'\u001b[0m\u001b[0;34m)\u001b[0m\u001b[0;34m\u001b[0m\u001b[0m\n\u001b[0;32m-> 1151\u001b[0;31m         \u001b[0mself\u001b[0m\u001b[0;34m.\u001b[0m\u001b[0mendheaders\u001b[0m\u001b[0;34m(\u001b[0m\u001b[0mbody\u001b[0m\u001b[0;34m)\u001b[0m\u001b[0;34m\u001b[0m\u001b[0m\n\u001b[0m\u001b[1;32m   1152\u001b[0m \u001b[0;34m\u001b[0m\u001b[0m\n\u001b[1;32m   1153\u001b[0m     \u001b[0;32mdef\u001b[0m \u001b[0mgetresponse\u001b[0m\u001b[0;34m(\u001b[0m\u001b[0mself\u001b[0m\u001b[0;34m)\u001b[0m\u001b[0;34m:\u001b[0m\u001b[0;34m\u001b[0m\u001b[0m\n",
      "\u001b[0;32m/home/dafne/anaconda2/envs/caselaw/lib/python3.5/http/client.py\u001b[0m in \u001b[0;36mendheaders\u001b[0;34m(self, message_body)\u001b[0m\n\u001b[1;32m   1100\u001b[0m         \u001b[0;32melse\u001b[0m\u001b[0;34m:\u001b[0m\u001b[0;34m\u001b[0m\u001b[0m\n\u001b[1;32m   1101\u001b[0m             \u001b[0;32mraise\u001b[0m \u001b[0mCannotSendHeader\u001b[0m\u001b[0;34m(\u001b[0m\u001b[0;34m)\u001b[0m\u001b[0;34m\u001b[0m\u001b[0m\n\u001b[0;32m-> 1102\u001b[0;31m         \u001b[0mself\u001b[0m\u001b[0;34m.\u001b[0m\u001b[0m_send_output\u001b[0m\u001b[0;34m(\u001b[0m\u001b[0mmessage_body\u001b[0m\u001b[0;34m)\u001b[0m\u001b[0;34m\u001b[0m\u001b[0m\n\u001b[0m\u001b[1;32m   1103\u001b[0m \u001b[0;34m\u001b[0m\u001b[0m\n\u001b[1;32m   1104\u001b[0m     \u001b[0;32mdef\u001b[0m \u001b[0mrequest\u001b[0m\u001b[0;34m(\u001b[0m\u001b[0mself\u001b[0m\u001b[0;34m,\u001b[0m \u001b[0mmethod\u001b[0m\u001b[0;34m,\u001b[0m \u001b[0murl\u001b[0m\u001b[0;34m,\u001b[0m \u001b[0mbody\u001b[0m\u001b[0;34m=\u001b[0m\u001b[0;32mNone\u001b[0m\u001b[0;34m,\u001b[0m \u001b[0mheaders\u001b[0m\u001b[0;34m=\u001b[0m\u001b[0;34m{\u001b[0m\u001b[0;34m}\u001b[0m\u001b[0;34m)\u001b[0m\u001b[0;34m:\u001b[0m\u001b[0;34m\u001b[0m\u001b[0m\n",
      "\u001b[0;32m/home/dafne/anaconda2/envs/caselaw/lib/python3.5/http/client.py\u001b[0m in \u001b[0;36m_send_output\u001b[0;34m(self, message_body)\u001b[0m\n\u001b[1;32m    932\u001b[0m         \u001b[0;32mdel\u001b[0m \u001b[0mself\u001b[0m\u001b[0;34m.\u001b[0m\u001b[0m_buffer\u001b[0m\u001b[0;34m[\u001b[0m\u001b[0;34m:\u001b[0m\u001b[0;34m]\u001b[0m\u001b[0;34m\u001b[0m\u001b[0m\n\u001b[1;32m    933\u001b[0m \u001b[0;34m\u001b[0m\u001b[0m\n\u001b[0;32m--> 934\u001b[0;31m         \u001b[0mself\u001b[0m\u001b[0;34m.\u001b[0m\u001b[0msend\u001b[0m\u001b[0;34m(\u001b[0m\u001b[0mmsg\u001b[0m\u001b[0;34m)\u001b[0m\u001b[0;34m\u001b[0m\u001b[0m\n\u001b[0m\u001b[1;32m    935\u001b[0m         \u001b[0;32mif\u001b[0m \u001b[0mmessage_body\u001b[0m \u001b[0;32mis\u001b[0m \u001b[0;32mnot\u001b[0m \u001b[0;32mNone\u001b[0m\u001b[0;34m:\u001b[0m\u001b[0;34m\u001b[0m\u001b[0m\n\u001b[1;32m    936\u001b[0m             \u001b[0mself\u001b[0m\u001b[0;34m.\u001b[0m\u001b[0msend\u001b[0m\u001b[0;34m(\u001b[0m\u001b[0mmessage_body\u001b[0m\u001b[0;34m)\u001b[0m\u001b[0;34m\u001b[0m\u001b[0m\n",
      "\u001b[0;32m/home/dafne/anaconda2/envs/caselaw/lib/python3.5/http/client.py\u001b[0m in \u001b[0;36msend\u001b[0;34m(self, data)\u001b[0m\n\u001b[1;32m    875\u001b[0m         \u001b[0;32mif\u001b[0m \u001b[0mself\u001b[0m\u001b[0;34m.\u001b[0m\u001b[0msock\u001b[0m \u001b[0;32mis\u001b[0m \u001b[0;32mNone\u001b[0m\u001b[0;34m:\u001b[0m\u001b[0;34m\u001b[0m\u001b[0m\n\u001b[1;32m    876\u001b[0m             \u001b[0;32mif\u001b[0m \u001b[0mself\u001b[0m\u001b[0;34m.\u001b[0m\u001b[0mauto_open\u001b[0m\u001b[0;34m:\u001b[0m\u001b[0;34m\u001b[0m\u001b[0m\n\u001b[0;32m--> 877\u001b[0;31m                 \u001b[0mself\u001b[0m\u001b[0;34m.\u001b[0m\u001b[0mconnect\u001b[0m\u001b[0;34m(\u001b[0m\u001b[0;34m)\u001b[0m\u001b[0;34m\u001b[0m\u001b[0m\n\u001b[0m\u001b[1;32m    878\u001b[0m             \u001b[0;32melse\u001b[0m\u001b[0;34m:\u001b[0m\u001b[0;34m\u001b[0m\u001b[0m\n\u001b[1;32m    879\u001b[0m                 \u001b[0;32mraise\u001b[0m \u001b[0mNotConnected\u001b[0m\u001b[0;34m(\u001b[0m\u001b[0;34m)\u001b[0m\u001b[0;34m\u001b[0m\u001b[0m\n",
      "\u001b[0;32m/home/dafne/anaconda2/envs/caselaw/lib/python3.5/http/client.py\u001b[0m in \u001b[0;36mconnect\u001b[0;34m(self)\u001b[0m\n\u001b[1;32m   1258\u001b[0m \u001b[0;34m\u001b[0m\u001b[0m\n\u001b[1;32m   1259\u001b[0m             self.sock = self._context.wrap_socket(self.sock,\n\u001b[0;32m-> 1260\u001b[0;31m                                                   server_hostname=server_hostname)\n\u001b[0m\u001b[1;32m   1261\u001b[0m             \u001b[0;32mif\u001b[0m \u001b[0;32mnot\u001b[0m \u001b[0mself\u001b[0m\u001b[0;34m.\u001b[0m\u001b[0m_context\u001b[0m\u001b[0;34m.\u001b[0m\u001b[0mcheck_hostname\u001b[0m \u001b[0;32mand\u001b[0m \u001b[0mself\u001b[0m\u001b[0;34m.\u001b[0m\u001b[0m_check_hostname\u001b[0m\u001b[0;34m:\u001b[0m\u001b[0;34m\u001b[0m\u001b[0m\n\u001b[1;32m   1262\u001b[0m                 \u001b[0;32mtry\u001b[0m\u001b[0;34m:\u001b[0m\u001b[0;34m\u001b[0m\u001b[0m\n",
      "\u001b[0;32m/home/dafne/anaconda2/envs/caselaw/lib/python3.5/ssl.py\u001b[0m in \u001b[0;36mwrap_socket\u001b[0;34m(self, sock, server_side, do_handshake_on_connect, suppress_ragged_eofs, server_hostname)\u001b[0m\n\u001b[1;32m    375\u001b[0m                          \u001b[0msuppress_ragged_eofs\u001b[0m\u001b[0;34m=\u001b[0m\u001b[0msuppress_ragged_eofs\u001b[0m\u001b[0;34m,\u001b[0m\u001b[0;34m\u001b[0m\u001b[0m\n\u001b[1;32m    376\u001b[0m                          \u001b[0mserver_hostname\u001b[0m\u001b[0;34m=\u001b[0m\u001b[0mserver_hostname\u001b[0m\u001b[0;34m,\u001b[0m\u001b[0;34m\u001b[0m\u001b[0m\n\u001b[0;32m--> 377\u001b[0;31m                          _context=self)\n\u001b[0m\u001b[1;32m    378\u001b[0m \u001b[0;34m\u001b[0m\u001b[0m\n\u001b[1;32m    379\u001b[0m     def wrap_bio(self, incoming, outgoing, server_side=False,\n",
      "\u001b[0;32m/home/dafne/anaconda2/envs/caselaw/lib/python3.5/ssl.py\u001b[0m in \u001b[0;36m__init__\u001b[0;34m(self, sock, keyfile, certfile, server_side, cert_reqs, ssl_version, ca_certs, do_handshake_on_connect, family, type, proto, fileno, suppress_ragged_eofs, npn_protocols, ciphers, server_hostname, _context)\u001b[0m\n\u001b[1;32m    750\u001b[0m                         \u001b[0;31m# non-blocking\u001b[0m\u001b[0;34m\u001b[0m\u001b[0;34m\u001b[0m\u001b[0m\n\u001b[1;32m    751\u001b[0m                         \u001b[0;32mraise\u001b[0m \u001b[0mValueError\u001b[0m\u001b[0;34m(\u001b[0m\u001b[0;34m\"do_handshake_on_connect should not be specified for non-blocking sockets\"\u001b[0m\u001b[0;34m)\u001b[0m\u001b[0;34m\u001b[0m\u001b[0m\n\u001b[0;32m--> 752\u001b[0;31m                     \u001b[0mself\u001b[0m\u001b[0;34m.\u001b[0m\u001b[0mdo_handshake\u001b[0m\u001b[0;34m(\u001b[0m\u001b[0;34m)\u001b[0m\u001b[0;34m\u001b[0m\u001b[0m\n\u001b[0m\u001b[1;32m    753\u001b[0m \u001b[0;34m\u001b[0m\u001b[0m\n\u001b[1;32m    754\u001b[0m             \u001b[0;32mexcept\u001b[0m \u001b[0;34m(\u001b[0m\u001b[0mOSError\u001b[0m\u001b[0;34m,\u001b[0m \u001b[0mValueError\u001b[0m\u001b[0;34m)\u001b[0m\u001b[0;34m:\u001b[0m\u001b[0;34m\u001b[0m\u001b[0m\n",
      "\u001b[0;32m/home/dafne/anaconda2/envs/caselaw/lib/python3.5/ssl.py\u001b[0m in \u001b[0;36mdo_handshake\u001b[0;34m(self, block)\u001b[0m\n\u001b[1;32m    986\u001b[0m             \u001b[0;32mif\u001b[0m \u001b[0mtimeout\u001b[0m \u001b[0;34m==\u001b[0m \u001b[0;36m0.0\u001b[0m \u001b[0;32mand\u001b[0m \u001b[0mblock\u001b[0m\u001b[0;34m:\u001b[0m\u001b[0;34m\u001b[0m\u001b[0m\n\u001b[1;32m    987\u001b[0m                 \u001b[0mself\u001b[0m\u001b[0;34m.\u001b[0m\u001b[0msettimeout\u001b[0m\u001b[0;34m(\u001b[0m\u001b[0;32mNone\u001b[0m\u001b[0;34m)\u001b[0m\u001b[0;34m\u001b[0m\u001b[0m\n\u001b[0;32m--> 988\u001b[0;31m             \u001b[0mself\u001b[0m\u001b[0;34m.\u001b[0m\u001b[0m_sslobj\u001b[0m\u001b[0;34m.\u001b[0m\u001b[0mdo_handshake\u001b[0m\u001b[0;34m(\u001b[0m\u001b[0;34m)\u001b[0m\u001b[0;34m\u001b[0m\u001b[0m\n\u001b[0m\u001b[1;32m    989\u001b[0m         \u001b[0;32mfinally\u001b[0m\u001b[0;34m:\u001b[0m\u001b[0;34m\u001b[0m\u001b[0m\n\u001b[1;32m    990\u001b[0m             \u001b[0mself\u001b[0m\u001b[0;34m.\u001b[0m\u001b[0msettimeout\u001b[0m\u001b[0;34m(\u001b[0m\u001b[0mtimeout\u001b[0m\u001b[0;34m)\u001b[0m\u001b[0;34m\u001b[0m\u001b[0m\n",
      "\u001b[0;32m/home/dafne/anaconda2/envs/caselaw/lib/python3.5/ssl.py\u001b[0m in \u001b[0;36mdo_handshake\u001b[0;34m(self)\u001b[0m\n\u001b[1;32m    631\u001b[0m     \u001b[0;32mdef\u001b[0m \u001b[0mdo_handshake\u001b[0m\u001b[0;34m(\u001b[0m\u001b[0mself\u001b[0m\u001b[0;34m)\u001b[0m\u001b[0;34m:\u001b[0m\u001b[0;34m\u001b[0m\u001b[0m\n\u001b[1;32m    632\u001b[0m         \u001b[0;34m\"\"\"Start the SSL/TLS handshake.\"\"\"\u001b[0m\u001b[0;34m\u001b[0m\u001b[0m\n\u001b[0;32m--> 633\u001b[0;31m         \u001b[0mself\u001b[0m\u001b[0;34m.\u001b[0m\u001b[0m_sslobj\u001b[0m\u001b[0;34m.\u001b[0m\u001b[0mdo_handshake\u001b[0m\u001b[0;34m(\u001b[0m\u001b[0;34m)\u001b[0m\u001b[0;34m\u001b[0m\u001b[0m\n\u001b[0m\u001b[1;32m    634\u001b[0m         \u001b[0;32mif\u001b[0m \u001b[0mself\u001b[0m\u001b[0;34m.\u001b[0m\u001b[0mcontext\u001b[0m\u001b[0;34m.\u001b[0m\u001b[0mcheck_hostname\u001b[0m\u001b[0;34m:\u001b[0m\u001b[0;34m\u001b[0m\u001b[0m\n\u001b[1;32m    635\u001b[0m             \u001b[0;32mif\u001b[0m \u001b[0;32mnot\u001b[0m \u001b[0mself\u001b[0m\u001b[0;34m.\u001b[0m\u001b[0mserver_hostname\u001b[0m\u001b[0;34m:\u001b[0m\u001b[0;34m\u001b[0m\u001b[0m\n",
      "\u001b[0;31mKeyboardInterrupt\u001b[0m: "
     ]
    }
   ],
   "source": [
    "ids = c.execute('SELECT id from uitspraken_meta')\n",
    "for row in ids:\n",
    "    ecli = row[0]\n",
    "    retrieve_from_cloudant(ecli, filepath, 'turtle')"
   ]
  },
  {
   "cell_type": "code",
   "execution_count": 30,
   "metadata": {
    "collapsed": true
   },
   "outputs": [],
   "source": [
    "conn.commit()"
   ]
  },
  {
   "cell_type": "code",
   "execution_count": 32,
   "metadata": {
    "collapsed": true
   },
   "outputs": [],
   "source": [
    "conn.close()"
   ]
  },
  {
   "cell_type": "code",
   "execution_count": 25,
   "metadata": {
    "collapsed": true
   },
   "outputs": [],
   "source": [
    "ecli = \"ECLI:NL:HR:1996:AA1786\"\n",
    "g = retrieve_from_cloudant(ecli, filepath, form='n3')"
   ]
  },
  {
   "cell_type": "code",
   "execution_count": 30,
   "metadata": {
    "collapsed": false,
    "scrolled": true
   },
   "outputs": [
    {
     "name": "stdout",
     "output_type": "stream",
     "text": [
      "http://purl.org/dc/terms/replaces <class 'rdflib.term.URIRef'> https://rechtspraak.cloudant.com/docs/AA1786\n",
      "https://rechtspraak.lawreader.nl/vocab/htmlIssued <class 'rdflib.term.Literal'> 2001-07-04\n",
      "http://purl.org/dc/terms/hasVersion <class 'rdflib.term.Literal'> FED 1996/1012 met annotatie door P. VAN DER WAL\n",
      "http://purl.org/dc/terms/subject <class 'rdflib.term.URIRef'> http://psi.rechtspraak.nl/rechtsgebied#bestuursrecht_belastingrecht\n",
      "http://www.w3.org/2000/01/rdf-schema#label <class 'rdflib.term.Literal'> Nederland\n",
      "http://purl.org/dc/terms/creator <class 'rdflib.term.URIRef'> http://standaarden.overheid.nl/owms/terms/Hoge_Raad_der_Nederlanden\n",
      "http://www.w3.org/2000/01/rdf-schema#label <class 'rdflib.term.Literal'> Internationaal Verdrag inzake burgerrechten en politieke rechten, New York, 16-12-1966 26\n",
      "http://purl.org/dc/terms/references <class 'rdflib.term.URIRef'> 1.0:v:BWB:BWBV0001506&artikel=7&g=1996-11-13\n",
      "http://purl.org/dc/terms/abstract <class 'rdflib.term.BNode'> N39000698ff044f1594f3a12baf299f4e\n",
      "http://www.w3.org/2000/01/rdf-schema#label <class 'rdflib.term.Literal'> Nederlands\n",
      "http://psi.rechtspraak.nl/procedure <class 'rdflib.term.URIRef'> http://psi.rechtspraak.nl/procedure#cassatie\n",
      "http://psi.rechtspraak.nl/zaaknummer <class 'rdflib.term.Literal'> 30136\n",
      "http://purl.org/dc/terms/modified <class 'rdflib.term.Literal'> 2013-04-04T15:35:59+02:00\n",
      "https://e-justice.europa.eu/ecli <class 'rdflib.term.Literal'> ECLI:NL:HR:1996:AA1786\n",
      "http://purl.org/dc/terms/issued <class 'rdflib.term.Literal'> 2013-04-04\n",
      "http://purl.org/dc/terms/references <class 'rdflib.term.URIRef'> 1.0:v:BWB:BWBV0001017&artikel=26&g=1996-11-13\n",
      "http://purl.org/dc/terms/coverage <class 'rdflib.term.URIRef'> https://rechtspraak.cloudant.com/docs/nl\n",
      "http://purl.org/dc/terms/hasVersion <class 'rdflib.term.Literal'> V-N 1997/706, 5 met annotatie door Kluwer\n",
      "http://purl.org/dc/terms/title <class 'rdflib.term.Literal'> ECLI:NL:HR:1996:AA1786 Hoge Raad , 13-11-1996 / 30136\n",
      "http://purl.org/dc/terms/hasVersion <class 'rdflib.term.Literal'> BNB 1997/54 met annotatie door P.J. Wattel\n",
      "https://rechtspraak.lawreader.nl/vocab/metadataModified <class 'rdflib.term.Literal'> 2015-09-15T01:50:04+02:00\n",
      "http://purl.org/dc/terms/hasVersion <class 'rdflib.term.Literal'> FED 1996/935\n",
      "http://purl.org/dc/terms/language <class 'rdflib.term.URIRef'> https://rechtspraak.cloudant.com/docs/nl\n",
      "http://www.w3.org/2000/01/rdf-schema#label <class 'rdflib.term.Literal'> Cassatie\n",
      "http://www.w3.org/2002/07/owl#sameAs <class 'rdflib.term.URIRef'> http://deeplink.rechtspraak.nl/uitspraak?id=ECLI:NL:HR:1996:AA1786\n",
      "http://purl.org/dc/terms/hasVersion <class 'rdflib.term.Literal'> Rechtspraak.nl\n",
      "http://www.w3.org/1999/02/22-rdf-syntax-ns#type <class 'rdflib.term.URIRef'> http://purl.org/vocab/frbr/core#LegalWork\n",
      "http://www.w3.org/2000/01/rdf-schema#label <class 'rdflib.term.Literal'> Uitspraak\n",
      "http://www.w3.org/2000/01/rdf-schema#label <class 'rdflib.term.Literal'> Hoge Raad\n",
      "http://www.w3.org/2000/01/rdf-schema#label <class 'rdflib.term.Literal'> Bestuursrecht; Belastingrecht\n",
      "http://purl.org/dc/terms/accessRights <class 'rdflib.term.URIRef'> https://rechtspraak.cloudant.com/docs/public\n",
      "http://purl.org/dc/terms/type <class 'rdflib.term.URIRef'> http://psi.rechtspraak.nl/uitspraak\n",
      "http://purl.org/dc/terms/hasVersion <class 'rdflib.term.Literal'> WFR 1996/1738\n",
      "http://purl.org/dc/terms/date <class 'rdflib.term.Literal'> 1996-11-13\n",
      "http://www.w3.org/2000/01/rdf-schema#label <class 'rdflib.term.Literal'> Verdrag betreffende de werking van de Europese Unie, Rome, 25-03-1957 7\n"
     ]
    }
   ],
   "source": [
    "for subj, pred, obj in g:\n",
    "    print(pred, type(obj), obj)"
   ]
  },
  {
   "cell_type": "code",
   "execution_count": 28,
   "metadata": {
    "collapsed": false
   },
   "outputs": [
    {
     "data": {
      "text/plain": [
       "False"
      ]
     },
     "execution_count": 28,
     "metadata": {},
     "output_type": "execute_result"
    }
   ],
   "source": [
    "(None, 'http://purl.org/dc/terms/abstract', None) in g"
   ]
  },
  {
   "cell_type": "code",
   "execution_count": null,
   "metadata": {
    "collapsed": true
   },
   "outputs": [],
   "source": []
  }
 ],
 "metadata": {
  "anaconda-cloud": {},
  "kernelspec": {
   "display_name": "Python [conda env:caselaw]",
   "language": "python",
   "name": "conda-env-caselaw-py"
  },
  "language_info": {
   "codemirror_mode": {
    "name": "ipython",
    "version": 3
   },
   "file_extension": ".py",
   "mimetype": "text/x-python",
   "name": "python",
   "nbconvert_exporter": "python",
   "pygments_lexer": "ipython3",
   "version": "3.5.2"
  }
 },
 "nbformat": 4,
 "nbformat_minor": 0
}
