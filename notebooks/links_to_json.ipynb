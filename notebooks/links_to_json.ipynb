{
 "cells": [
  {
   "cell_type": "code",
   "execution_count": 1,
   "metadata": {
    "collapsed": false
   },
   "outputs": [
    {
     "name": "stderr",
     "output_type": "stream",
     "text": [
      "INFO:rdflib:RDFLib Version: 4.2.1\n"
     ]
    }
   ],
   "source": [
    "import os\n",
    "import sys\n",
    "sys.path.insert(0, os.path.abspath('..'))\n",
    "from query_app import query_to_json, links_to_json\n",
    "import traceback\n",
    "\n",
    "import io\n",
    "import pandas as pd"
   ]
  },
  {
   "cell_type": "code",
   "execution_count": 2,
   "metadata": {
    "collapsed": false
   },
   "outputs": [],
   "source": [
    "#links_csv='ECLI:NL:HR:2012:BX7943,ECLI:NL:HR:2010:BL1943'\n",
    "links_csv='ECLI:NL:PHR:2012:BX7590,ECLI:NL:HR:2012:BX7590'\n",
    "path = io.StringIO(links_csv)\n",
    "links_df, eclis = links_to_json.read_csv(path,\n",
    "                                                     sep=',', header=None)"
   ]
  },
  {
   "cell_type": "code",
   "execution_count": 3,
   "metadata": {
    "collapsed": true
   },
   "outputs": [],
   "source": [
    "graph, existing_eclis = links_to_json.make_graph(links_df, eclis)"
   ]
  },
  {
   "cell_type": "code",
   "execution_count": 9,
   "metadata": {
    "collapsed": false
   },
   "outputs": [
    {
     "data": {
      "text/plain": [
       "['ECLI:NL:PHR:2012:BX7590', 'ECLI:NL:HR:2012:BX7590']"
      ]
     },
     "execution_count": 9,
     "metadata": {},
     "output_type": "execute_result"
    }
   ],
   "source": [
    "existing_eclis"
   ]
  },
  {
   "cell_type": "code",
   "execution_count": 12,
   "metadata": {
    "collapsed": false
   },
   "outputs": [
    {
     "name": "stdout",
     "output_type": "stream",
     "text": [
      "http://deeplink.rechtspraak.nl/uitspraak?id=ECLI:NL:HR:2012:BX7590 http://purl.org/dc/terms/subject http://psi.rechtspraak.nl/rechtsgebied#civielRecht\n",
      "http://deeplink.rechtspraak.nl/uitspraak?id=ECLI:NL:HR:2012:BX7590 http://purl.org/dc/terms/hasVersion NJ 2013/11\n",
      "http://deeplink.rechtspraak.nl/uitspraak?id=ECLI:NL:PHR:2012:BX7590 http://purl.org/dc/terms/hasVersion JAR 2013/16 met annotatie van B. Barentsen\n",
      "http://deeplink.rechtspraak.nl/uitspraak?id=ECLI:NL:PHR:2012:BX7590 http://purl.org/dc/terms/type http://psi.rechtspraak.nl/conclusie\n",
      "http://deeplink.rechtspraak.nl/uitspraak?id=ECLI:NL:PHR:2012:BX7590 http://purl.org/dc/terms/date 2012-12-07\n",
      "http://deeplink.rechtspraak.nl/uitspraak?id=ECLI:NL:HR:2012:BX7590 http://purl.org/dc/terms/hasVersion VR 2013/54\n",
      "http://deeplink.rechtspraak.nl/uitspraak?id=ECLI:NL:PHR:2012:BX7590 http://purl.org/dc/terms/hasVersion RvdW 2013/6\n",
      "http://deeplink.rechtspraak.nl/uitspraak?id=ECLI:NL:PHR:2012:BX7590 http://purl.org/dc/terms/creator http://standaarden.overheid.nl/owms/terms/Parket_bij_de_Hoge_Raad\n",
      "http://deeplink.rechtspraak.nl/uitspraak?id=ECLI:NL:PHR:2012:BX7590 http://purl.org/dc/terms/abstract Arubaanse zaak. Zorgverplichting werkgever, aansprakelijkheid; toezicht op naleving veiligheidsmaatregelen door (ervaren) werknemers. Beschikbaarheid veiligheidsmateriaal; instructies door werkgever. Art. 7A:1614x BWA (art. 7:658 BW).\n",
      "http://deeplink.rechtspraak.nl/uitspraak?id=ECLI:NL:HR:2012:BX7590 http://purl.org/dc/terms/hasVersion NJB 2013/18\n",
      "http://deeplink.rechtspraak.nl/uitspraak?id=ECLI:NL:HR:2012:BX7590 http://purl.org/dc/terms/hasVersion AR-Updates.nl 2012-1056\n",
      "http://deeplink.rechtspraak.nl/uitspraak?id=ECLI:NL:PHR:2012:BX7590 http://purl.org/dc/terms/subject http://psi.rechtspraak.nl/rechtsgebied#civielRecht\n",
      "http://deeplink.rechtspraak.nl/uitspraak?id=ECLI:NL:HR:2012:BX7590 http://purl.org/dc/terms/hasVersion JAR 2013/16 met annotatie van B. Barentsen\n",
      "http://deeplink.rechtspraak.nl/uitspraak?id=ECLI:NL:HR:2012:BX7590 http://purl.org/dc/terms/description \n",
      "       7 december 2012 Eerste Kamer 11/05535 EE/DH Hoge Raad der Nederlanden Arrest in de zaak van: \n",
      "       [Eiser], wonende in Aruba, EISER tot cassatie, advocaat: mr. A.H.M. van den Steenhoven, t e g e n \n",
      "       DALTRA ANTILLES NV,  gevestigd in Aruba VERWEERSTER in cassatie, advocaat: mr. R.A.A. Duk. Partijen zullen hierna ook worden aangeduid als [eiser] en Daltra. 1. Het geding in feitelijke instanties \n",
      "       Voor het verloop van het geding in feitelijke instanties verwijst de Hoge Raad naar de navolgende stukken:  a. de vonnissen in de zaak AR no. 2361 van 2007 van het gerecht in eerste aanleg van Aruba van 10 september 2008 en 13 januari 2010; b. het vonnis in de zaak AR 2361/07-H.84/11 van het Gemeenschappelijk Hof van Justitie van Aruba, Curaçao, Sint Maarten en van Bonaire, Sint Eustatius en Saba van 20 september 2011.  Het vonnis van het hof is aan dit arrest gehecht.  2. Het geding in cassatie \n",
      "       Tegen het vonnis van het hof heeft [eiser] beroep in cassatie ingesteld. Het cassatierekest is aan dit arrest gehecht en maakt daarvan deel uit. Daltra heeft geconcludeerd tot verwerping van het beroep. De zaak is voor partijen toegelicht door hun advocaten.  De conclusie van de Advocaat-Generaal J. Spier strekt tot vernietiging van het bestreden vonnis, tot bekrachtiging van het vonnis van het gerecht van 13 januari 2010 en tot verwijzing naar dit gerecht ter fine van verdere behandeling en afdoening. De advocaat van Daltra heeft bij brief van 20 september 2012 op die conclusie gereageerd.  3. Beoordeling van het middel  \n",
      "       3.1 In cassatie kan van het volgende worden uitgegaan: (i) [Eiser] is op 1 augustus 2001 als \"asbestos safety worker\" bij Daltra in dienst getreden.  Hij was laatstelijk werkzaam als voorman.  (ii) Op 2 september 2004 was [eiser] met (een) collega('s) een dak aan het maken op het terrein van het hoofdkantoor van Daltra te Parkietenbos.  Daarbij is [eiser] een ongeval overkomen. Hij is van het dak gevallen en ongeveer 6 meter lager op de grond terechtgekomen. (iii) Door de Dienst voor Technische Inspecties (DTI) van het Ministerie van Justitie is op 21 oktober 2005 een ongevallenrapport opgemaakt. Daarin staat onder meer: \"Op 2 september 2004, omstreeks 3:00 p.m. was er een ongeval gebeurd op het terrein van het hoofdkantoor van Daltra Antilles. [Eiser], getroffene, en [getuige 1], getuige, waren samen op een platte dak van ± 6 meter hoog, 13 meter lang en 11 meter breed, aluminium golfplaten aan het bevestigen op de stalen gordingen. Bij het opstellen van deze aluminium golfplaten van 6 meter lang hadden zij samen al 14 platen aangebracht. De getroffene stond ± 1 meter van de rand van het dak op een al vastgemaakte aluminium golfplaat. Op een gegeven moment bij het optillen (kniehoogte) van één van de losse aluminium golfplaten, deed zich plotseling een hevige rukwind voor, die de aluminium golfplaat omdraaide en de getroffene zodanig stootte dat hij van de dakrand is komen te vallen en op de begane grond terecht kwam. De getroffene, die als voorman werkte, verklaarde: dat zijn superieuren hem hadden aangezegd om veiligheidsgordel(s) te gebruiken, maar hij wilde deze niet dragen.\" (iv) In een op 16 februari 2006 door de neurochirurg Vallejo Lopez afgegeven verklaring staat onder meer dat [eiser] een \"dorsal spine trauma\" heeft waardoor hij moet vermijden \"the flexion, extension or to bend the dorsal spine\". \n",
      "       3.2 Stellende dat Daltra op grond van art. 7A:1614x BWA aansprakelijk is, vordert [eiser] in de onderhavige procedure schadevergoeding, op te maken bij staat.  Daltra had ervoor moeten zorgen dat hij op een veilige manier werkte, maar heeft dat nagelaten en heeft toegestaan dat hij zonder veiligheidsgordel heeft gewerkt, aldus [eiser].  3.3 Het gerecht in eerste aanleg heeft Daltra opgedragen te bewijzen (i.) dat zij voor het door [eiser] op 2 september 2004 uitgevoerde werk een complete goed functionerende veiligheidsgordel ter beschikking heeft gesteld, die op adequate wijze bij dat werk kon dienen als valbeveiliging en (ii.) dat zij [eiser] uitdrukkelijk opdracht heeft gegeven deze veiligheidsgordel te gebruiken. In zijn vonnis van 13 januari 2010 heeft het gerecht, voor zover thans van belang, geoordeeld dat Daltra aan geen van beide bewijsopdrachten heeft voldaan, het subsidiaire verweer van Daltra dat [eiser] bewust roekeloos heeft gehandeld verworpen en voor recht verklaard dat Daltra aansprakelijk is voor de schade die [eiser] als gevolg van het ongeval van 2 september 2004 heeft geleden en nog zal lijden. In het kader van de beoordeling van de tweede bewijsopdracht oordeelde het gerecht onder meer dat de onder de gegeven omstandigheden vereiste zorg met zich bracht dat Daltra uitdrukkelijk opdracht had moeten geven tot het dragen van de harnasgordel, dat het enkel ter beschikking stellen van harnassen te vrijblijvend was en dat zij in elk geval haar impliciete instructie uitdrukkelijk had moeten herhalen toen zij kon constateren dat alle werknemers, waaronder [eiser], zonder valbescherming aan het werk waren op het dak. 3.4 In hoger beroep heeft Daltra tegen laatstvermeld oordeel, onder meer, aangevoerd (memorie van grieven blz. 6) dat [eiser] als \"supervisor en leidinggevende\" zelf zorg ervoor kon en moest dragen dat er adequate valbeschermingsmiddelen gebruikt werden en dat als een werknemer veiligheidscursussen volgt je ervan mag uitgaan dat hij doet wat hij leert. [Eiser] heeft zijnerzijds aangevoerd (memorie van antwoord nrs. 35 en 38) dat er geen sprake was van (gerichte) aanwijzingen, instructies en/of toezicht, dat er ook nimmer geëist is van de werknemers om van het dak af te komen en dat het, zeker onder de gegeven omstandigheden - harde wind, hoog golfplatendak - , op de weg van de werkgever lag om te controleren of inderdaad de werknemers zich aan de veiligheidseisen hielden en ze desnoods van het dak te halen. Het hof heeft hierop geoordeeld (rov. 4.9) dat het te ver gaat van Daltra te vergen, nu het ging om een ervaren werknemer, dat zij controleerde of liet controleren of [eiser] wel een veiligheidsgordel gebruikte. Mede op deze grond heeft het hof het vonnis van het gerecht vernietigd en, opnieuw rechtdoende, de vordering van [eiser] afgewezen.  \n",
      "       3.5 Het middel bestrijdt onder 2.1-2.9 het oordeel van het hof in rov. 4.9. Het hof is, aldus het middel, uitgegaan van een onjuiste rechtsopvatting omtrent de zorgplicht die op de werkgever rust, althans heeft het zijn beslissing ter zake onvoldoende gemotiveerd.  De rechtsklacht slaagt. De in art. 7A:1614x BWA geregelde zorgplicht van de werkgever houdt niet alleen in dat deze ervoor moet zorgen dat voldoende veiligheidsmateriaal op de werkplek beschikbaar is, maar - zoals de klachten terecht benadrukken - ook dat hij erop toeziet dat zijn werknemers dat materiaal op de juiste wijze gebruiken als de omstandigheden waaronder moet worden gewerkt daarom vragen. Al aangenomen dat het gebruik van de door Daltra ter beschikking gestelde veiligheidsgordels voor de onderhavige werkzaamheden (zes meter lange aliminiumgolfplaten op een winderige dag bevestigen op een dak op zes meter hoogte) een toereikende maatregel tegen het gevaar van vallen vormde, bracht de op Daltra als werkgever rustende zorgplicht dus niet alleen mee dat zij die veiligheidsgordels aan haar werknemers ter beschikking stelde, maar ook dat zij erop toezag dat die gordels daadwerkelijk en op de juiste wijze werden gebruikt. De door het hof vermelde omstandigheid dat [eiser] een \"ervaren werknemer\" was maakt dat niet anders, nu een werkgever, naar het hof onvoldoende heeft onderkend, ook verantwoordelijk is voor de veiligheid van ervaren werknemers en steeds rekening dient te houden met het verschijnsel dat ook die werknemers wel eens nalaten de voorzichtigheid in acht te nemen die ter voorkoming van ongelukken geraden is.  3.6 Onderdeel 1.3 klaagt terecht dat ook de door het hof in rov. 4.5 aangenomen alternatieve beschikbaarheid van twee hydraulische hoogwerkers met een bak van waaruit aan het dak had kunnen worden gewerkt, niet kan meebrengen dat Daltra aan haar zorgplicht heeft voldaan, nu niet is vastgesteld (en Daltra ook niet heeft aangevoerd) dat zij [eiser] heeft gewezen op de mogelijkheid die hoogwerkers te gebruiken en daarvoor instructies heeft gegeven. De overige klachten van het middel behoeven geen behandeling. 4. Beslissing \n",
      "       De Hoge Raad: vernietigt het arrest van het Gemeenschappelijk Hof van Justitie van 20 september 2011,  verwijst het geding ter verdere behandeling en beslissing naar dat hof; veroordeelt Daltra in de kosten van het geding in cassatie, tot op deze uitspraak aan de zijde van [eiser] begroot op € 375,18 aan verschotten en € 2.600,-- voor salaris. Dit arrest is gewezen door de vice-president E.J. Numann als voorzitter en de raadsheren A.M.J. van Buchem-Spapens, J.C. van Oven, A.H.T. Heisterkamp en C.E. Drion, en in het openbaar uitgesproken door de raadsheer J.C. van Oven op 7 december 2012.\n",
      "http://deeplink.rechtspraak.nl/uitspraak?id=ECLI:NL:HR:2012:BX7590 http://purl.org/dc/terms/creator http://standaarden.overheid.nl/owms/terms/Hoge_Raad_der_Nederlanden\n",
      "http://deeplink.rechtspraak.nl/uitspraak?id=ECLI:NL:PHR:2012:BX7590 http://purl.org/dc/terms/hasVersion Rechtspraak.nl\n",
      "http://deeplink.rechtspraak.nl/uitspraak?id=ECLI:NL:PHR:2012:BX7590 http://purl.org/dc/terms/references http://deeplink.rechtspraak.nl/uitspraak?id=ECLI:NL:HR:2012:BX7590\n",
      "http://deeplink.rechtspraak.nl/uitspraak?id=ECLI:NL:HR:2012:BX7590 http://purl.org/dc/terms/hasVersion RvdW 2013/6\n",
      "http://deeplink.rechtspraak.nl/uitspraak?id=ECLI:NL:PHR:2012:BX7590 http://purl.org/dc/terms/hasVersion NJB 2013/18\n",
      "http://deeplink.rechtspraak.nl/uitspraak?id=ECLI:NL:HR:2012:BX7590 http://purl.org/dc/terms/date 2012-12-07\n",
      "http://deeplink.rechtspraak.nl/uitspraak?id=ECLI:NL:HR:2012:BX7590 http://purl.org/dc/terms/abstract Arubaanse zaak. Zorgverplichting werkgever, aansprakelijkheid; toezicht op naleving veiligheidsmaatregelen door (ervaren) werknemers. Beschikbaarheid veiligheidsmateriaal; instructies door werkgever. Art. 7A:1614x BWA (art. 7:658 BW).\n",
      "http://deeplink.rechtspraak.nl/uitspraak?id=ECLI:NL:PHR:2012:BX7590 http://purl.org/dc/terms/hasVersion VR 2013/54\n",
      "http://deeplink.rechtspraak.nl/uitspraak?id=ECLI:NL:HR:2012:BX7590 http://purl.org/dc/terms/title ECLI:NL:HR:2012:BX7590 Hoge Raad , 07-12-2012 / 11/05535\n",
      "http://deeplink.rechtspraak.nl/uitspraak?id=ECLI:NL:HR:2012:BX7590 http://purl.org/dc/terms/hasVersion Rechtspraak.nl\n",
      "http://deeplink.rechtspraak.nl/uitspraak?id=ECLI:NL:HR:2012:BX7590 http://purl.org/dc/terms/type http://psi.rechtspraak.nl/uitspraak\n",
      "http://deeplink.rechtspraak.nl/uitspraak?id=ECLI:NL:PHR:2012:BX7590 http://purl.org/dc/terms/title ECLI:NL:PHR:2012:BX7590 Parket bij de Hoge Raad , 07-12-2012 / 11/05535\n"
     ]
    }
   ],
   "source": [
    "for s,p,o in graph:\n",
    "    print(s,p,o)"
   ]
  },
  {
   "cell_type": "code",
   "execution_count": 4,
   "metadata": {
    "collapsed": false
   },
   "outputs": [
    {
     "name": "stdout",
     "output_type": "stream",
     "text": [
      "Automatic pdb calling has been turned ON\n"
     ]
    }
   ],
   "source": [
    "%pdb\n",
    "nodes, links = links_to_json.graph_to_network(graph)"
   ]
  },
  {
   "cell_type": "code",
   "execution_count": null,
   "metadata": {
    "collapsed": true
   },
   "outputs": [],
   "source": []
  },
  {
   "cell_type": "code",
   "execution_count": 15,
   "metadata": {
    "collapsed": false
   },
   "outputs": [
    {
     "ename": "TypeError",
     "evalue": "raise: exception class must be a subclass of BaseException",
     "output_type": "error",
     "traceback": [
      "\u001b[0;31m---------------------------------------------------------------------------\u001b[0m",
      "\u001b[0;31mTypeError\u001b[0m                                 Traceback (most recent call last)",
      "\u001b[0;32m<ipython-input-15-f743a149d5b7>\u001b[0m in \u001b[0;36m<module>\u001b[0;34m()\u001b[0m\n\u001b[0;32m----> 1\u001b[0;31m \u001b[0mlinks_df\u001b[0m \u001b[0;34m=\u001b[0m \u001b[0mpd\u001b[0m\u001b[0;34m.\u001b[0m\u001b[0mread_csv\u001b[0m\u001b[0;34m(\u001b[0m\u001b[0mpath\u001b[0m\u001b[0;34m,\u001b[0m \u001b[0msep\u001b[0m\u001b[0;34m=\u001b[0m\u001b[0;34m','\u001b[0m\u001b[0;34m,\u001b[0m \u001b[0mheader\u001b[0m\u001b[0;34m=\u001b[0m\u001b[0;36m0\u001b[0m\u001b[0;34m)\u001b[0m\u001b[0;34m\u001b[0m\u001b[0m\n\u001b[0m\u001b[1;32m      2\u001b[0m \u001b[0mlinks_df\u001b[0m\u001b[0;34m.\u001b[0m\u001b[0mcolumns\u001b[0m \u001b[0;34m=\u001b[0m \u001b[0;34m[\u001b[0m\u001b[0;34m'id'\u001b[0m\u001b[0;34m,\u001b[0m \u001b[0;34m'reference'\u001b[0m\u001b[0;34m]\u001b[0m\u001b[0;34m\u001b[0m\u001b[0m\n\u001b[1;32m      3\u001b[0m \u001b[0mlinks_df\u001b[0m \u001b[0;34m=\u001b[0m \u001b[0mlinks_df\u001b[0m\u001b[0;34m.\u001b[0m\u001b[0mdrop_duplicates\u001b[0m\u001b[0;34m(\u001b[0m\u001b[0;34m)\u001b[0m\u001b[0;34m\u001b[0m\u001b[0m\n\u001b[1;32m      4\u001b[0m \u001b[0meclis\u001b[0m \u001b[0;34m=\u001b[0m \u001b[0mlist\u001b[0m\u001b[0;34m(\u001b[0m\u001b[0mpd\u001b[0m\u001b[0;34m.\u001b[0m\u001b[0mconcat\u001b[0m\u001b[0;34m(\u001b[0m\u001b[0;34m[\u001b[0m\u001b[0mlinks_df\u001b[0m\u001b[0;34m[\u001b[0m\u001b[0;34m'id'\u001b[0m\u001b[0;34m]\u001b[0m\u001b[0;34m,\u001b[0m \u001b[0mlinks_df\u001b[0m\u001b[0;34m[\u001b[0m\u001b[0;34m'reference'\u001b[0m\u001b[0;34m]\u001b[0m\u001b[0;34m]\u001b[0m\u001b[0;34m)\u001b[0m\u001b[0;34m.\u001b[0m\u001b[0munique\u001b[0m\u001b[0;34m(\u001b[0m\u001b[0;34m)\u001b[0m\u001b[0;34m)\u001b[0m\u001b[0;34m\u001b[0m\u001b[0m\n",
      "\u001b[0;32m/home/dafne/anaconda2/envs/caselaw/lib/python3.5/site-packages/pandas/io/parsers.py\u001b[0m in \u001b[0;36mparser_f\u001b[0;34m(filepath_or_buffer, sep, delimiter, header, names, index_col, usecols, squeeze, prefix, mangle_dupe_cols, dtype, engine, converters, true_values, false_values, skipinitialspace, skiprows, nrows, na_values, keep_default_na, na_filter, verbose, skip_blank_lines, parse_dates, infer_datetime_format, keep_date_col, date_parser, dayfirst, iterator, chunksize, compression, thousands, decimal, lineterminator, quotechar, quoting, escapechar, comment, encoding, dialect, tupleize_cols, error_bad_lines, warn_bad_lines, skipfooter, skip_footer, doublequote, delim_whitespace, as_recarray, compact_ints, use_unsigned, low_memory, buffer_lines, memory_map, float_precision)\u001b[0m\n\u001b[1;32m    643\u001b[0m                     skip_blank_lines=skip_blank_lines)\n\u001b[1;32m    644\u001b[0m \u001b[0;34m\u001b[0m\u001b[0m\n\u001b[0;32m--> 645\u001b[0;31m         \u001b[0;32mreturn\u001b[0m \u001b[0m_read\u001b[0m\u001b[0;34m(\u001b[0m\u001b[0mfilepath_or_buffer\u001b[0m\u001b[0;34m,\u001b[0m \u001b[0mkwds\u001b[0m\u001b[0;34m)\u001b[0m\u001b[0;34m\u001b[0m\u001b[0m\n\u001b[0m\u001b[1;32m    646\u001b[0m \u001b[0;34m\u001b[0m\u001b[0m\n\u001b[1;32m    647\u001b[0m     \u001b[0mparser_f\u001b[0m\u001b[0;34m.\u001b[0m\u001b[0m__name__\u001b[0m \u001b[0;34m=\u001b[0m \u001b[0mname\u001b[0m\u001b[0;34m\u001b[0m\u001b[0m\n",
      "\u001b[0;32m/home/dafne/anaconda2/envs/caselaw/lib/python3.5/site-packages/pandas/io/parsers.py\u001b[0m in \u001b[0;36m_read\u001b[0;34m(filepath_or_buffer, kwds)\u001b[0m\n\u001b[1;32m    386\u001b[0m \u001b[0;34m\u001b[0m\u001b[0m\n\u001b[1;32m    387\u001b[0m     \u001b[0;31m# Create the parser.\u001b[0m\u001b[0;34m\u001b[0m\u001b[0;34m\u001b[0m\u001b[0m\n\u001b[0;32m--> 388\u001b[0;31m     \u001b[0mparser\u001b[0m \u001b[0;34m=\u001b[0m \u001b[0mTextFileReader\u001b[0m\u001b[0;34m(\u001b[0m\u001b[0mfilepath_or_buffer\u001b[0m\u001b[0;34m,\u001b[0m \u001b[0;34m**\u001b[0m\u001b[0mkwds\u001b[0m\u001b[0;34m)\u001b[0m\u001b[0;34m\u001b[0m\u001b[0m\n\u001b[0m\u001b[1;32m    389\u001b[0m \u001b[0;34m\u001b[0m\u001b[0m\n\u001b[1;32m    390\u001b[0m     \u001b[0;32mif\u001b[0m \u001b[0;34m(\u001b[0m\u001b[0mnrows\u001b[0m \u001b[0;32mis\u001b[0m \u001b[0;32mnot\u001b[0m \u001b[0;32mNone\u001b[0m\u001b[0;34m)\u001b[0m \u001b[0;32mand\u001b[0m \u001b[0;34m(\u001b[0m\u001b[0mchunksize\u001b[0m \u001b[0;32mis\u001b[0m \u001b[0;32mnot\u001b[0m \u001b[0;32mNone\u001b[0m\u001b[0;34m)\u001b[0m\u001b[0;34m:\u001b[0m\u001b[0;34m\u001b[0m\u001b[0m\n",
      "\u001b[0;32m/home/dafne/anaconda2/envs/caselaw/lib/python3.5/site-packages/pandas/io/parsers.py\u001b[0m in \u001b[0;36m__init__\u001b[0;34m(self, f, engine, **kwds)\u001b[0m\n\u001b[1;32m    727\u001b[0m             \u001b[0mself\u001b[0m\u001b[0;34m.\u001b[0m\u001b[0moptions\u001b[0m\u001b[0;34m[\u001b[0m\u001b[0;34m'has_index_names'\u001b[0m\u001b[0;34m]\u001b[0m \u001b[0;34m=\u001b[0m \u001b[0mkwds\u001b[0m\u001b[0;34m[\u001b[0m\u001b[0;34m'has_index_names'\u001b[0m\u001b[0;34m]\u001b[0m\u001b[0;34m\u001b[0m\u001b[0m\n\u001b[1;32m    728\u001b[0m \u001b[0;34m\u001b[0m\u001b[0m\n\u001b[0;32m--> 729\u001b[0;31m         \u001b[0mself\u001b[0m\u001b[0;34m.\u001b[0m\u001b[0m_make_engine\u001b[0m\u001b[0;34m(\u001b[0m\u001b[0mself\u001b[0m\u001b[0;34m.\u001b[0m\u001b[0mengine\u001b[0m\u001b[0;34m)\u001b[0m\u001b[0;34m\u001b[0m\u001b[0m\n\u001b[0m\u001b[1;32m    730\u001b[0m \u001b[0;34m\u001b[0m\u001b[0m\n\u001b[1;32m    731\u001b[0m     \u001b[0;32mdef\u001b[0m \u001b[0mclose\u001b[0m\u001b[0;34m(\u001b[0m\u001b[0mself\u001b[0m\u001b[0;34m)\u001b[0m\u001b[0;34m:\u001b[0m\u001b[0;34m\u001b[0m\u001b[0m\n",
      "\u001b[0;32m/home/dafne/anaconda2/envs/caselaw/lib/python3.5/site-packages/pandas/io/parsers.py\u001b[0m in \u001b[0;36m_make_engine\u001b[0;34m(self, engine)\u001b[0m\n\u001b[1;32m    920\u001b[0m     \u001b[0;32mdef\u001b[0m \u001b[0m_make_engine\u001b[0m\u001b[0;34m(\u001b[0m\u001b[0mself\u001b[0m\u001b[0;34m,\u001b[0m \u001b[0mengine\u001b[0m\u001b[0;34m=\u001b[0m\u001b[0;34m'c'\u001b[0m\u001b[0;34m)\u001b[0m\u001b[0;34m:\u001b[0m\u001b[0;34m\u001b[0m\u001b[0m\n\u001b[1;32m    921\u001b[0m         \u001b[0;32mif\u001b[0m \u001b[0mengine\u001b[0m \u001b[0;34m==\u001b[0m \u001b[0;34m'c'\u001b[0m\u001b[0;34m:\u001b[0m\u001b[0;34m\u001b[0m\u001b[0m\n\u001b[0;32m--> 922\u001b[0;31m             \u001b[0mself\u001b[0m\u001b[0;34m.\u001b[0m\u001b[0m_engine\u001b[0m \u001b[0;34m=\u001b[0m \u001b[0mCParserWrapper\u001b[0m\u001b[0;34m(\u001b[0m\u001b[0mself\u001b[0m\u001b[0;34m.\u001b[0m\u001b[0mf\u001b[0m\u001b[0;34m,\u001b[0m \u001b[0;34m**\u001b[0m\u001b[0mself\u001b[0m\u001b[0;34m.\u001b[0m\u001b[0moptions\u001b[0m\u001b[0;34m)\u001b[0m\u001b[0;34m\u001b[0m\u001b[0m\n\u001b[0m\u001b[1;32m    923\u001b[0m         \u001b[0;32melse\u001b[0m\u001b[0;34m:\u001b[0m\u001b[0;34m\u001b[0m\u001b[0m\n\u001b[1;32m    924\u001b[0m             \u001b[0;32mif\u001b[0m \u001b[0mengine\u001b[0m \u001b[0;34m==\u001b[0m \u001b[0;34m'python'\u001b[0m\u001b[0;34m:\u001b[0m\u001b[0;34m\u001b[0m\u001b[0m\n",
      "\u001b[0;32m/home/dafne/anaconda2/envs/caselaw/lib/python3.5/site-packages/pandas/io/parsers.py\u001b[0m in \u001b[0;36m__init__\u001b[0;34m(self, src, **kwds)\u001b[0m\n\u001b[1;32m   1387\u001b[0m         \u001b[0mkwds\u001b[0m\u001b[0;34m[\u001b[0m\u001b[0;34m'allow_leading_cols'\u001b[0m\u001b[0;34m]\u001b[0m \u001b[0;34m=\u001b[0m \u001b[0mself\u001b[0m\u001b[0;34m.\u001b[0m\u001b[0mindex_col\u001b[0m \u001b[0;32mis\u001b[0m \u001b[0;32mnot\u001b[0m \u001b[0;32mFalse\u001b[0m\u001b[0;34m\u001b[0m\u001b[0m\n\u001b[1;32m   1388\u001b[0m \u001b[0;34m\u001b[0m\u001b[0m\n\u001b[0;32m-> 1389\u001b[0;31m         \u001b[0mself\u001b[0m\u001b[0;34m.\u001b[0m\u001b[0m_reader\u001b[0m \u001b[0;34m=\u001b[0m \u001b[0m_parser\u001b[0m\u001b[0;34m.\u001b[0m\u001b[0mTextReader\u001b[0m\u001b[0;34m(\u001b[0m\u001b[0msrc\u001b[0m\u001b[0;34m,\u001b[0m \u001b[0;34m**\u001b[0m\u001b[0mkwds\u001b[0m\u001b[0;34m)\u001b[0m\u001b[0;34m\u001b[0m\u001b[0m\n\u001b[0m\u001b[1;32m   1390\u001b[0m \u001b[0;34m\u001b[0m\u001b[0m\n\u001b[1;32m   1391\u001b[0m         \u001b[0;31m# XXX\u001b[0m\u001b[0;34m\u001b[0m\u001b[0;34m\u001b[0m\u001b[0m\n",
      "\u001b[0;32mpandas/parser.pyx\u001b[0m in \u001b[0;36mpandas.parser.TextReader.__cinit__ (pandas/parser.c:5811)\u001b[0;34m()\u001b[0m\n",
      "\u001b[0;32mpandas/parser.pyx\u001b[0m in \u001b[0;36mpandas.parser.TextReader._get_header (pandas/parser.c:8374)\u001b[0;34m()\u001b[0m\n",
      "\u001b[0;32mpandas/parser.pyx\u001b[0m in \u001b[0;36mpandas.parser.TextReader._tokenize_rows (pandas/parser.c:10741)\u001b[0;34m()\u001b[0m\n",
      "\u001b[0;32mpandas/parser.pyx\u001b[0m in \u001b[0;36mpandas.parser.raise_parser_error (pandas/parser.c:25721)\u001b[0;34m()\u001b[0m\n",
      "\u001b[0;31mTypeError\u001b[0m: raise: exception class must be a subclass of BaseException"
     ]
    }
   ],
   "source": [
    "links_df = pd.read_csv(path, sep=',', header=0)\n",
    "links_df.columns = ['id', 'reference']\n",
    "links_df = links_df.drop_duplicates()\n",
    "eclis = list(pd.concat([links_df['id'], links_df['reference']]).unique())"
   ]
  },
  {
   "cell_type": "code",
   "execution_count": null,
   "metadata": {
    "collapsed": true
   },
   "outputs": [],
   "source": [
    "[{'creator': 'http://standaarden.overheid.nl/owms/terms/Hoge_Raad_der_Nederlanden', 'subject': 'http://psi.rechtspraak.nl/rechtsgebied#bestuursrecht_belastingrecht', 'date': '2012-09-21', 'abstract': 'Bestuurdersaansprakelijkheid. Artikel 36 Invorderingswet 1990. Is artikel 36, lid 4, van de Invorderingswet 1990 in strijd met het Eerste Protocol bij het EVRM? Melding die voor een tijdvak te laat is, is tijdig voor latere tijdvakken.', 'ecli': 'ECLI:NL:HR:2012:BX7943', 'articles': ['Uitvoeringsbesluit Invorderingswet 1990 7', 'Uitvoeringsbesluit Invorderingswet 1990', 'Invorderingswet 1990 36', 'Invorderingswet 1990'], 'count_annotation': 3, 'count_version': 7, 'year': 2012, 'title': 'ECLI:NL:HR:2012:BX7943 Hoge Raad , 21-09-2012 / 11/04755', \n",
    "  'id': 'http://deeplink.rechtspraak.nl/uitspraak?id=ECLI:NL:HR:2012:BX7943'}] \n",
    "\n",
    "[{'target': 'http://deeplink.rechtspraak.nl/uitspraak?id=ECLI:NL:HR:2012:BX7943', \n",
    "  'source': 'http://deeplink.rechtspraak.nl/uitspraak?id=ECLI:NL:HR:2012:BX7943', \n",
    "  'id': 'http://deeplink.rechtspraak.nl/uitspraak?id=ECLI:NL:HR:2012:BX7943_http://deeplink.rechtspraak.nl/uitspraak?id=ECLI:NL:HR:2012:BX7943'}] \n",
    "\n",
    "{'http://deeplink.rechtspraak.nl/uitspraak?id=ECLI:NL:HR:2012:BX7943': 2}\n"
   ]
  }
 ],
 "metadata": {
  "anaconda-cloud": {},
  "kernelspec": {
   "display_name": "Python [conda env:caselaw]",
   "language": "python",
   "name": "conda-env-caselaw-py"
  },
  "language_info": {
   "codemirror_mode": {
    "name": "ipython",
    "version": 3
   },
   "file_extension": ".py",
   "mimetype": "text/x-python",
   "name": "python",
   "nbconvert_exporter": "python",
   "pygments_lexer": "ipython3",
   "version": "3.5.2"
  }
 },
 "nbformat": 4,
 "nbformat_minor": 0
}
