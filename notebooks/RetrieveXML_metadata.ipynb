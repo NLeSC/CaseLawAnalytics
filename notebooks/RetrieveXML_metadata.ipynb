{
 "cells": [
  {
   "cell_type": "code",
   "execution_count": 103,
   "metadata": {
    "collapsed": true
   },
   "outputs": [],
   "source": [
    "from lxml import etree\n",
    "import re\n",
    "import os\n",
    "import sqlite3"
   ]
  },
  {
   "cell_type": "code",
   "execution_count": 104,
   "metadata": {
    "collapsed": false
   },
   "outputs": [],
   "source": [
    "def get_entries_from_link(fr=0, \\\n",
    "                          maximum=1000, \\\n",
    "                          baselink=None):\n",
    "    if baselink is None:\n",
    "        baselink = 'http://data.rechtspraak.nl/uitspraken/zoeken?return=DOC&creator=http://standaarden.overheid.nl/owms/terms/Hoge_Raad_der_Nederlanden'\n",
    "    link = baselink+'&max='+str(maximum)+'&from='+str(fr)\n",
    "    xml_element = etree.ElementTree().parse(link)\n",
    "    entries = list(xml_element.iter('{*}entry'))\n",
    "    return entries"
   ]
  },
  {
   "cell_type": "markdown",
   "metadata": {
    "collapsed": false
   },
   "source": [
    "## Make a database"
   ]
  },
  {
   "cell_type": "code",
   "execution_count": 105,
   "metadata": {
    "collapsed": true
   },
   "outputs": [],
   "source": [
    "conn = sqlite3.connect('rechtspraak.db')"
   ]
  },
  {
   "cell_type": "code",
   "execution_count": 106,
   "metadata": {
    "collapsed": true
   },
   "outputs": [],
   "source": [
    "c = conn.cursor()"
   ]
  },
  {
   "cell_type": "code",
   "execution_count": 108,
   "metadata": {
    "collapsed": false
   },
   "outputs": [
    {
     "data": {
      "text/plain": [
       "<sqlite3.Cursor at 0x7f2be8088d50>"
      ]
     },
     "execution_count": 108,
     "metadata": {},
     "output_type": "execute_result"
    }
   ],
   "source": [
    "c.execute(''' DROP TABLE IF EXISTS uitspraken_meta''')\n",
    "c.execute(''' CREATE TABLE uitspraken_meta\n",
    "            (id text PRIMARY KEY, \n",
    "            title text,\n",
    "            summary text,\n",
    "            updated text\n",
    "            )\n",
    "        ''')"
   ]
  },
  {
   "cell_type": "markdown",
   "metadata": {},
   "source": [
    "Now populate the table"
   ]
  },
  {
   "cell_type": "code",
   "execution_count": 109,
   "metadata": {
    "collapsed": false
   },
   "outputs": [],
   "source": [
    "def get_first_content(el, tag):\n",
    "    return list(el.iter('{*}'+tag))[0].text\n",
    "\n",
    "def insert_into_uitspraken_meta(entry, curs, table='uitspraken_meta'):\n",
    "    id0 = get_first_content(entry, 'id')\n",
    "    title = get_first_content(entry, 'title')\n",
    "    summary = get_first_content(entry, 'summary')\n",
    "    updated = get_first_content(entry, 'updated')\n",
    "    query = ''' INSERT OR REPLACE INTO uitspraken_meta\n",
    "        VALUES (?, ?, ?, ?)\n",
    "    '''\n",
    "    curs.execute(query, (id0, title, summary, updated))"
   ]
  },
  {
   "cell_type": "code",
   "execution_count": 110,
   "metadata": {
    "collapsed": false
   },
   "outputs": [
    {
     "name": "stdout",
     "output_type": "stream",
     "text": [
      "(0, 1000)\n",
      "(1000, 1000)\n",
      "(2000, 1000)\n",
      "(3000, 1000)\n",
      "(4000, 1000)\n",
      "(5000, 1000)\n",
      "(6000, 1000)\n",
      "(7000, 1000)\n",
      "(8000, 1000)\n",
      "(9000, 1000)\n",
      "(10000, 1000)\n",
      "(11000, 1000)\n",
      "(12000, 1000)\n",
      "(13000, 1000)\n",
      "(14000, 1000)\n",
      "(15000, 1000)\n",
      "(16000, 1000)\n",
      "(17000, 1000)\n",
      "(18000, 1000)\n",
      "(19000, 1000)\n",
      "(20000, 1000)\n",
      "(21000, 1000)\n",
      "(22000, 1000)\n",
      "(23000, 1000)\n",
      "(24000, 1000)\n",
      "(25000, 1000)\n",
      "(26000, 1000)\n",
      "(27000, 1000)\n",
      "(28000, 1000)\n",
      "(29000, 39)\n"
     ]
    }
   ],
   "source": [
    "size = 1000\n",
    "end = 30000\n",
    "for start in range(0, end, size):\n",
    "    entries = get_entries_from_link(start, size)\n",
    "    print(start, len(entries))\n",
    "    for entry in entries:\n",
    "        insert_into_uitspraken_meta(entry, c)"
   ]
  },
  {
   "cell_type": "code",
   "execution_count": 111,
   "metadata": {
    "collapsed": true
   },
   "outputs": [],
   "source": [
    "conn.commit()"
   ]
  },
  {
   "cell_type": "code",
   "execution_count": 114,
   "metadata": {
    "collapsed": true
   },
   "outputs": [],
   "source": [
    "conn.close()"
   ]
  }
 ],
 "metadata": {
  "kernelspec": {
   "display_name": "Python 2",
   "language": "python",
   "name": "python2"
  },
  "language_info": {
   "codemirror_mode": {
    "name": "ipython",
    "version": 2
   },
   "file_extension": ".py",
   "mimetype": "text/x-python",
   "name": "python",
   "nbconvert_exporter": "python",
   "pygments_lexer": "ipython2",
   "version": "2.7.12"
  }
 },
 "nbformat": 4,
 "nbformat_minor": 0
}
