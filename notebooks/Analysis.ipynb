{
 "cells": [
  {
   "cell_type": "code",
   "execution_count": 2,
   "metadata": {
    "collapsed": false
   },
   "outputs": [],
   "source": [
    "import re\n",
    "import os\n",
    "import sqlite3\n",
    "import pandas as pd"
   ]
  },
  {
   "cell_type": "code",
   "execution_count": 3,
   "metadata": {
    "collapsed": false
   },
   "outputs": [],
   "source": [
    "conn = sqlite3.connect('rechtspraak.db')\n",
    "c = conn.cursor()"
   ]
  },
  {
   "cell_type": "code",
   "execution_count": 4,
   "metadata": {
    "collapsed": false
   },
   "outputs": [
    {
     "data": {
      "text/html": [
       "<div>\n",
       "<table border=\"1\" class=\"dataframe\">\n",
       "  <thead>\n",
       "    <tr style=\"text-align: right;\">\n",
       "      <th></th>\n",
       "      <th>0</th>\n",
       "      <th>1</th>\n",
       "      <th>2</th>\n",
       "      <th>3</th>\n",
       "    </tr>\n",
       "  </thead>\n",
       "  <tbody>\n",
       "    <tr>\n",
       "      <th>0</th>\n",
       "      <td>ECLI:NL:HR:1999:AA2833</td>\n",
       "      <td>ECLI:NL:HR:1999:AA2833, Hoge Raad, 12-05-1999,...</td>\n",
       "      <td>-</td>\n",
       "      <td>2013-04-04T15:46:26+02:00</td>\n",
       "    </tr>\n",
       "    <tr>\n",
       "      <th>1</th>\n",
       "      <td>ECLI:NL:HR:1999:AA2862</td>\n",
       "      <td>ECLI:NL:HR:1999:AA2862, Hoge Raad, 22-09-1999,...</td>\n",
       "      <td>-</td>\n",
       "      <td>2013-04-04T15:46:47+02:00</td>\n",
       "    </tr>\n",
       "    <tr>\n",
       "      <th>2</th>\n",
       "      <td>ECLI:NL:HR:1999:AA2863</td>\n",
       "      <td>ECLI:NL:HR:1999:AA2863, Hoge Raad, 22-09-1999,...</td>\n",
       "      <td>-</td>\n",
       "      <td>2013-04-04T15:46:47+02:00</td>\n",
       "    </tr>\n",
       "    <tr>\n",
       "      <th>3</th>\n",
       "      <td>ECLI:NL:HR:1999:AA2867</td>\n",
       "      <td>ECLI:NL:HR:1999:AA2867, Hoge Raad, 22-09-1999,...</td>\n",
       "      <td>-</td>\n",
       "      <td>2013-04-04T15:46:50+02:00</td>\n",
       "    </tr>\n",
       "    <tr>\n",
       "      <th>4</th>\n",
       "      <td>ECLI:NL:HR:1999:AA2868</td>\n",
       "      <td>ECLI:NL:HR:1999:AA2868, Hoge Raad, 22-09-1999,...</td>\n",
       "      <td>-</td>\n",
       "      <td>2013-04-04T15:46:51+02:00</td>\n",
       "    </tr>\n",
       "    <tr>\n",
       "      <th>5</th>\n",
       "      <td>ECLI:NL:HR:1999:AA2869</td>\n",
       "      <td>ECLI:NL:HR:1999:AA2869, Hoge Raad, 22-09-1999,...</td>\n",
       "      <td>-</td>\n",
       "      <td>2013-04-04T15:46:51+02:00</td>\n",
       "    </tr>\n",
       "    <tr>\n",
       "      <th>6</th>\n",
       "      <td>ECLI:NL:HR:1999:AA2871</td>\n",
       "      <td>ECLI:NL:HR:1999:AA2871, Hoge Raad, 22-09-1999,...</td>\n",
       "      <td>-</td>\n",
       "      <td>2013-04-04T15:46:53+02:00</td>\n",
       "    </tr>\n",
       "    <tr>\n",
       "      <th>7</th>\n",
       "      <td>ECLI:NL:HR:1999:AA2872</td>\n",
       "      <td>ECLI:NL:HR:1999:AA2872, Hoge Raad, 22-09-1999,...</td>\n",
       "      <td>-</td>\n",
       "      <td>2013-04-04T15:46:53+02:00</td>\n",
       "    </tr>\n",
       "    <tr>\n",
       "      <th>8</th>\n",
       "      <td>ECLI:NL:HR:1999:AA2873</td>\n",
       "      <td>ECLI:NL:HR:1999:AA2873, Hoge Raad, 22-09-1999,...</td>\n",
       "      <td>-</td>\n",
       "      <td>2013-04-04T15:46:53+02:00</td>\n",
       "    </tr>\n",
       "    <tr>\n",
       "      <th>9</th>\n",
       "      <td>ECLI:NL:HR:1999:AA2874</td>\n",
       "      <td>ECLI:NL:HR:1999:AA2874, Hoge Raad, 22-09-1999,...</td>\n",
       "      <td>-</td>\n",
       "      <td>2013-04-04T15:46:54+02:00</td>\n",
       "    </tr>\n",
       "  </tbody>\n",
       "</table>\n",
       "</div>"
      ],
      "text/plain": [
       "                        0                                                  1  \\\n",
       "0  ECLI:NL:HR:1999:AA2833  ECLI:NL:HR:1999:AA2833, Hoge Raad, 12-05-1999,...   \n",
       "1  ECLI:NL:HR:1999:AA2862  ECLI:NL:HR:1999:AA2862, Hoge Raad, 22-09-1999,...   \n",
       "2  ECLI:NL:HR:1999:AA2863  ECLI:NL:HR:1999:AA2863, Hoge Raad, 22-09-1999,...   \n",
       "3  ECLI:NL:HR:1999:AA2867  ECLI:NL:HR:1999:AA2867, Hoge Raad, 22-09-1999,...   \n",
       "4  ECLI:NL:HR:1999:AA2868  ECLI:NL:HR:1999:AA2868, Hoge Raad, 22-09-1999,...   \n",
       "5  ECLI:NL:HR:1999:AA2869  ECLI:NL:HR:1999:AA2869, Hoge Raad, 22-09-1999,...   \n",
       "6  ECLI:NL:HR:1999:AA2871  ECLI:NL:HR:1999:AA2871, Hoge Raad, 22-09-1999,...   \n",
       "7  ECLI:NL:HR:1999:AA2872  ECLI:NL:HR:1999:AA2872, Hoge Raad, 22-09-1999,...   \n",
       "8  ECLI:NL:HR:1999:AA2873  ECLI:NL:HR:1999:AA2873, Hoge Raad, 22-09-1999,...   \n",
       "9  ECLI:NL:HR:1999:AA2874  ECLI:NL:HR:1999:AA2874, Hoge Raad, 22-09-1999,...   \n",
       "\n",
       "   2                          3  \n",
       "0  -  2013-04-04T15:46:26+02:00  \n",
       "1  -  2013-04-04T15:46:47+02:00  \n",
       "2  -  2013-04-04T15:46:47+02:00  \n",
       "3  -  2013-04-04T15:46:50+02:00  \n",
       "4  -  2013-04-04T15:46:51+02:00  \n",
       "5  -  2013-04-04T15:46:51+02:00  \n",
       "6  -  2013-04-04T15:46:53+02:00  \n",
       "7  -  2013-04-04T15:46:53+02:00  \n",
       "8  -  2013-04-04T15:46:53+02:00  \n",
       "9  -  2013-04-04T15:46:54+02:00  "
      ]
     },
     "execution_count": 4,
     "metadata": {},
     "output_type": "execute_result"
    }
   ],
   "source": [
    "pd.DataFrame(c.execute('''SELECT * FROM uitspraken_meta''').fetchmany(10))"
   ]
  },
  {
   "cell_type": "code",
   "execution_count": 5,
   "metadata": {
    "collapsed": false
   },
   "outputs": [
    {
     "data": {
      "text/plain": [
       "(29043,)"
      ]
     },
     "execution_count": 5,
     "metadata": {},
     "output_type": "execute_result"
    }
   ],
   "source": [
    "s = c.execute('SELECT COUNT(*) FROM UITSPRAKEN_META').fetchall()[0]\n",
    "s"
   ]
  },
  {
   "cell_type": "code",
   "execution_count": 6,
   "metadata": {
    "collapsed": false
   },
   "outputs": [
    {
     "data": {
      "text/html": [
       "<div>\n",
       "<table border=\"1\" class=\"dataframe\">\n",
       "  <thead>\n",
       "    <tr style=\"text-align: right;\">\n",
       "      <th></th>\n",
       "      <th>0</th>\n",
       "      <th>1</th>\n",
       "    </tr>\n",
       "  </thead>\n",
       "  <tbody>\n",
       "    <tr>\n",
       "      <th>0</th>\n",
       "      <td>-</td>\n",
       "      <td>5426</td>\n",
       "    </tr>\n",
       "    <tr>\n",
       "      <th>1</th>\n",
       "      <td>De Hoge Raad heeft het beroep in cassatie afge...</td>\n",
       "      <td>860</td>\n",
       "    </tr>\n",
       "    <tr>\n",
       "      <th>2</th>\n",
       "      <td>HR: 81.1 RO.</td>\n",
       "      <td>756</td>\n",
       "    </tr>\n",
       "    <tr>\n",
       "      <th>3</th>\n",
       "      <td>HR verklaart het beroep in cassatie n-o met to...</td>\n",
       "      <td>401</td>\n",
       "    </tr>\n",
       "    <tr>\n",
       "      <th>4</th>\n",
       "      <td>HR verklaart het beroep in cassatie n-o.</td>\n",
       "      <td>288</td>\n",
       "    </tr>\n",
       "    <tr>\n",
       "      <th>5</th>\n",
       "      <td>HR: art. 81.1 RO.</td>\n",
       "      <td>253</td>\n",
       "    </tr>\n",
       "    <tr>\n",
       "      <th>6</th>\n",
       "      <td>De Hoge Raad heeft het beroep in cassatie niet...</td>\n",
       "      <td>239</td>\n",
       "    </tr>\n",
       "    <tr>\n",
       "      <th>7</th>\n",
       "      <td>De Hoge Raad heeft het beroep in cassatie afge...</td>\n",
       "      <td>203</td>\n",
       "    </tr>\n",
       "    <tr>\n",
       "      <th>8</th>\n",
       "      <td>De Hoge Raad heeft het beroep in cassatie niet...</td>\n",
       "      <td>192</td>\n",
       "    </tr>\n",
       "    <tr>\n",
       "      <th>9</th>\n",
       "      <td>De Hoge Raad heeft het beroep in cassatie afge...</td>\n",
       "      <td>179</td>\n",
       "    </tr>\n",
       "    <tr>\n",
       "      <th>10</th>\n",
       "      <td>Herziening.</td>\n",
       "      <td>137</td>\n",
       "    </tr>\n",
       "    <tr>\n",
       "      <th>11</th>\n",
       "      <td>HR: art. 80a RO.</td>\n",
       "      <td>108</td>\n",
       "    </tr>\n",
       "    <tr>\n",
       "      <th>12</th>\n",
       "      <td>HR: 81 RO.</td>\n",
       "      <td>98</td>\n",
       "    </tr>\n",
       "    <tr>\n",
       "      <th>13</th>\n",
       "      <td>HR: art. 81 RO.</td>\n",
       "      <td>67</td>\n",
       "    </tr>\n",
       "    <tr>\n",
       "      <th>14</th>\n",
       "      <td>Herziening</td>\n",
       "      <td>64</td>\n",
       "    </tr>\n",
       "    <tr>\n",
       "      <th>15</th>\n",
       "      <td>KB-Lux.</td>\n",
       "      <td>55</td>\n",
       "    </tr>\n",
       "    <tr>\n",
       "      <th>16</th>\n",
       "      <td>De Hoge Raad verklaart het beroep in cassatie ...</td>\n",
       "      <td>49</td>\n",
       "    </tr>\n",
       "    <tr>\n",
       "      <th>17</th>\n",
       "      <td>De Hoge Raad heeft het beroep in cassatie afge...</td>\n",
       "      <td>45</td>\n",
       "    </tr>\n",
       "    <tr>\n",
       "      <th>18</th>\n",
       "      <td>HR: 81RO.</td>\n",
       "      <td>45</td>\n",
       "    </tr>\n",
       "    <tr>\n",
       "      <th>19</th>\n",
       "      <td>De Hoge Raad heeft het beroep in cassatie onge...</td>\n",
       "      <td>43</td>\n",
       "    </tr>\n",
       "  </tbody>\n",
       "</table>\n",
       "</div>"
      ],
      "text/plain": [
       "                                                    0     1\n",
       "0                                                   -  5426\n",
       "1   De Hoge Raad heeft het beroep in cassatie afge...   860\n",
       "2                                        HR: 81.1 RO.   756\n",
       "3   HR verklaart het beroep in cassatie n-o met to...   401\n",
       "4            HR verklaart het beroep in cassatie n-o.   288\n",
       "5                                   HR: art. 81.1 RO.   253\n",
       "6   De Hoge Raad heeft het beroep in cassatie niet...   239\n",
       "7   De Hoge Raad heeft het beroep in cassatie afge...   203\n",
       "8   De Hoge Raad heeft het beroep in cassatie niet...   192\n",
       "9   De Hoge Raad heeft het beroep in cassatie afge...   179\n",
       "10                                        Herziening.   137\n",
       "11                                   HR: art. 80a RO.   108\n",
       "12                                         HR: 81 RO.    98\n",
       "13                                    HR: art. 81 RO.    67\n",
       "14                                         Herziening    64\n",
       "15                                            KB-Lux.    55\n",
       "16  De Hoge Raad verklaart het beroep in cassatie ...    49\n",
       "17  De Hoge Raad heeft het beroep in cassatie afge...    45\n",
       "18                                          HR: 81RO.    45\n",
       "19  De Hoge Raad heeft het beroep in cassatie onge...    43"
      ]
     },
     "execution_count": 6,
     "metadata": {},
     "output_type": "execute_result"
    }
   ],
   "source": [
    "summary_counts = c.execute(''' SELECT * FROM (\n",
    "                SELECT SUMMARY, COUNT(*) AS cnt\n",
    "                FROM UITSPRAKEN_META\n",
    "                GROUP BY SUMMARY\n",
    "            ) ORDER BY CNT DESC\n",
    "''') #.fetchall()\n",
    "pd.DataFrame(summary_counts.fetchmany(20))"
   ]
  },
  {
   "cell_type": "code",
   "execution_count": 7,
   "metadata": {
    "collapsed": false
   },
   "outputs": [
    {
     "data": {
      "text/html": [
       "<div>\n",
       "<table border=\"1\" class=\"dataframe\">\n",
       "  <thead>\n",
       "    <tr style=\"text-align: right;\">\n",
       "      <th></th>\n",
       "      <th>0</th>\n",
       "      <th>1</th>\n",
       "    </tr>\n",
       "  </thead>\n",
       "  <tbody>\n",
       "    <tr>\n",
       "      <th>0</th>\n",
       "      <td>17</td>\n",
       "      <td>37</td>\n",
       "    </tr>\n",
       "    <tr>\n",
       "      <th>1</th>\n",
       "      <td>18</td>\n",
       "      <td>356</td>\n",
       "    </tr>\n",
       "    <tr>\n",
       "      <th>2</th>\n",
       "      <td>19</td>\n",
       "      <td>2524</td>\n",
       "    </tr>\n",
       "    <tr>\n",
       "      <th>3</th>\n",
       "      <td>20</td>\n",
       "      <td>4005</td>\n",
       "    </tr>\n",
       "    <tr>\n",
       "      <th>4</th>\n",
       "      <td>22</td>\n",
       "      <td>22121</td>\n",
       "    </tr>\n",
       "  </tbody>\n",
       "</table>\n",
       "</div>"
      ],
      "text/plain": [
       "    0      1\n",
       "0  17     37\n",
       "1  18    356\n",
       "2  19   2524\n",
       "3  20   4005\n",
       "4  22  22121"
      ]
     },
     "execution_count": 7,
     "metadata": {},
     "output_type": "execute_result"
    }
   ],
   "source": [
    "lenid_counts = c.execute(''' SELECT length(id), count(*) FROM UITSPRAKEN_META group by length(id)\n",
    "''')\n",
    "pd.DataFrame(lenid_counts.fetchall())"
   ]
  },
  {
   "cell_type": "code",
   "execution_count": 8,
   "metadata": {
    "collapsed": true
   },
   "outputs": [],
   "source": [
    "def nr_of_fields_id(text):\n",
    "    return len(text.split(':'))\n",
    "\n",
    "def year_from_id(text):\n",
    "    return text.split(':')[3]\n",
    "\n",
    "def instantie_from_id(text):\n",
    "    return text.split(':')[2]\n",
    "\n",
    "conn.create_function('nr_of_fields_id', 1, nr_of_fields_id)\n",
    "conn.create_function('year_from_id', 1, year_from_id)\n",
    "conn.create_function('instantie_from_id', 1, instantie_from_id)\n",
    "conn.commit()"
   ]
  },
  {
   "cell_type": "code",
   "execution_count": 9,
   "metadata": {
    "collapsed": false
   },
   "outputs": [
    {
     "data": {
      "text/plain": [
       "[]"
      ]
     },
     "execution_count": 9,
     "metadata": {},
     "output_type": "execute_result"
    }
   ],
   "source": [
    "ECLIs = c.execute('SELECT id FROM uitspraken_meta where year_from_id(id) = 2014').fetchmany(10)\n",
    "ECLIs = [s[0] for s in ECLIs]\n",
    "ECLIs"
   ]
  },
  {
   "cell_type": "code",
   "execution_count": 10,
   "metadata": {
    "collapsed": false
   },
   "outputs": [
    {
     "data": {
      "text/html": [
       "<div>\n",
       "<table border=\"1\" class=\"dataframe\">\n",
       "  <thead>\n",
       "    <tr style=\"text-align: right;\">\n",
       "      <th></th>\n",
       "      <th>0</th>\n",
       "      <th>1</th>\n",
       "    </tr>\n",
       "  </thead>\n",
       "  <tbody>\n",
       "    <tr>\n",
       "      <th>0</th>\n",
       "      <td>5</td>\n",
       "      <td>29043</td>\n",
       "    </tr>\n",
       "  </tbody>\n",
       "</table>\n",
       "</div>"
      ],
      "text/plain": [
       "   0      1\n",
       "0  5  29043"
      ]
     },
     "execution_count": 10,
     "metadata": {},
     "output_type": "execute_result"
    }
   ],
   "source": [
    "nrfields_counts = c.execute(''' SELECT nr_of_fields_id(id), count(*) FROM UITSPRAKEN_META group by nr_of_fields_id(id)\n",
    "''')\n",
    "pd.DataFrame(nrfields_counts.fetchall())"
   ]
  },
  {
   "cell_type": "code",
   "execution_count": 11,
   "metadata": {
    "collapsed": false
   },
   "outputs": [
    {
     "data": {
      "text/html": [
       "<div>\n",
       "<table border=\"1\" class=\"dataframe\">\n",
       "  <thead>\n",
       "    <tr style=\"text-align: right;\">\n",
       "      <th></th>\n",
       "      <th>0</th>\n",
       "      <th>1</th>\n",
       "    </tr>\n",
       "  </thead>\n",
       "  <tbody>\n",
       "    <tr>\n",
       "      <th>0</th>\n",
       "      <td>HR</td>\n",
       "      <td>29043</td>\n",
       "    </tr>\n",
       "  </tbody>\n",
       "</table>\n",
       "</div>"
      ],
      "text/plain": [
       "    0      1\n",
       "0  HR  29043"
      ]
     },
     "execution_count": 11,
     "metadata": {},
     "output_type": "execute_result"
    }
   ],
   "source": [
    "instantie_counts = c.execute(''' SELECT instantie_from_id(id), count(*) \n",
    "                FROM UITSPRAKEN_META group by instantie_from_id(id) \n",
    "''')\n",
    "pd.DataFrame(instantie_counts.fetchall())"
   ]
  },
  {
   "cell_type": "code",
   "execution_count": 12,
   "metadata": {
    "collapsed": false
   },
   "outputs": [
    {
     "data": {
      "text/html": [
       "<div>\n",
       "<table border=\"1\" class=\"dataframe\">\n",
       "  <thead>\n",
       "    <tr style=\"text-align: right;\">\n",
       "      <th></th>\n",
       "      <th>0</th>\n",
       "      <th>1</th>\n",
       "    </tr>\n",
       "  </thead>\n",
       "  <tbody>\n",
       "    <tr>\n",
       "      <th>0</th>\n",
       "      <td>1968</td>\n",
       "      <td>1</td>\n",
       "    </tr>\n",
       "    <tr>\n",
       "      <th>1</th>\n",
       "      <td>1984</td>\n",
       "      <td>1</td>\n",
       "    </tr>\n",
       "    <tr>\n",
       "      <th>2</th>\n",
       "      <td>1988</td>\n",
       "      <td>1</td>\n",
       "    </tr>\n",
       "    <tr>\n",
       "      <th>3</th>\n",
       "      <td>1989</td>\n",
       "      <td>1</td>\n",
       "    </tr>\n",
       "    <tr>\n",
       "      <th>4</th>\n",
       "      <td>1991</td>\n",
       "      <td>2</td>\n",
       "    </tr>\n",
       "    <tr>\n",
       "      <th>5</th>\n",
       "      <td>1992</td>\n",
       "      <td>6</td>\n",
       "    </tr>\n",
       "    <tr>\n",
       "      <th>6</th>\n",
       "      <td>1993</td>\n",
       "      <td>3</td>\n",
       "    </tr>\n",
       "    <tr>\n",
       "      <th>7</th>\n",
       "      <td>1994</td>\n",
       "      <td>84</td>\n",
       "    </tr>\n",
       "    <tr>\n",
       "      <th>8</th>\n",
       "      <td>1995</td>\n",
       "      <td>332</td>\n",
       "    </tr>\n",
       "    <tr>\n",
       "      <th>9</th>\n",
       "      <td>1996</td>\n",
       "      <td>355</td>\n",
       "    </tr>\n",
       "    <tr>\n",
       "      <th>10</th>\n",
       "      <td>1997</td>\n",
       "      <td>369</td>\n",
       "    </tr>\n",
       "    <tr>\n",
       "      <th>11</th>\n",
       "      <td>1998</td>\n",
       "      <td>365</td>\n",
       "    </tr>\n",
       "    <tr>\n",
       "      <th>12</th>\n",
       "      <td>1999</td>\n",
       "      <td>489</td>\n",
       "    </tr>\n",
       "    <tr>\n",
       "      <th>13</th>\n",
       "      <td>2000</td>\n",
       "      <td>829</td>\n",
       "    </tr>\n",
       "    <tr>\n",
       "      <th>14</th>\n",
       "      <td>2001</td>\n",
       "      <td>1073</td>\n",
       "    </tr>\n",
       "    <tr>\n",
       "      <th>15</th>\n",
       "      <td>2002</td>\n",
       "      <td>1155</td>\n",
       "    </tr>\n",
       "    <tr>\n",
       "      <th>16</th>\n",
       "      <td>2003</td>\n",
       "      <td>1099</td>\n",
       "    </tr>\n",
       "    <tr>\n",
       "      <th>17</th>\n",
       "      <td>2004</td>\n",
       "      <td>1127</td>\n",
       "    </tr>\n",
       "    <tr>\n",
       "      <th>18</th>\n",
       "      <td>2005</td>\n",
       "      <td>1215</td>\n",
       "    </tr>\n",
       "    <tr>\n",
       "      <th>19</th>\n",
       "      <td>2006</td>\n",
       "      <td>1237</td>\n",
       "    </tr>\n",
       "    <tr>\n",
       "      <th>20</th>\n",
       "      <td>2007</td>\n",
       "      <td>1268</td>\n",
       "    </tr>\n",
       "    <tr>\n",
       "      <th>21</th>\n",
       "      <td>2008</td>\n",
       "      <td>1354</td>\n",
       "    </tr>\n",
       "    <tr>\n",
       "      <th>22</th>\n",
       "      <td>2009</td>\n",
       "      <td>1585</td>\n",
       "    </tr>\n",
       "    <tr>\n",
       "      <th>23</th>\n",
       "      <td>2010</td>\n",
       "      <td>2218</td>\n",
       "    </tr>\n",
       "    <tr>\n",
       "      <th>24</th>\n",
       "      <td>2011</td>\n",
       "      <td>2330</td>\n",
       "    </tr>\n",
       "    <tr>\n",
       "      <th>25</th>\n",
       "      <td>2012</td>\n",
       "      <td>2456</td>\n",
       "    </tr>\n",
       "    <tr>\n",
       "      <th>26</th>\n",
       "      <td>2013</td>\n",
       "      <td>2195</td>\n",
       "    </tr>\n",
       "    <tr>\n",
       "      <th>27</th>\n",
       "      <td>2014</td>\n",
       "      <td>2224</td>\n",
       "    </tr>\n",
       "    <tr>\n",
       "      <th>28</th>\n",
       "      <td>2015</td>\n",
       "      <td>2107</td>\n",
       "    </tr>\n",
       "    <tr>\n",
       "      <th>29</th>\n",
       "      <td>2016</td>\n",
       "      <td>1562</td>\n",
       "    </tr>\n",
       "  </tbody>\n",
       "</table>\n",
       "</div>"
      ],
      "text/plain": [
       "       0     1\n",
       "0   1968     1\n",
       "1   1984     1\n",
       "2   1988     1\n",
       "3   1989     1\n",
       "4   1991     2\n",
       "5   1992     6\n",
       "6   1993     3\n",
       "7   1994    84\n",
       "8   1995   332\n",
       "9   1996   355\n",
       "10  1997   369\n",
       "11  1998   365\n",
       "12  1999   489\n",
       "13  2000   829\n",
       "14  2001  1073\n",
       "15  2002  1155\n",
       "16  2003  1099\n",
       "17  2004  1127\n",
       "18  2005  1215\n",
       "19  2006  1237\n",
       "20  2007  1268\n",
       "21  2008  1354\n",
       "22  2009  1585\n",
       "23  2010  2218\n",
       "24  2011  2330\n",
       "25  2012  2456\n",
       "26  2013  2195\n",
       "27  2014  2224\n",
       "28  2015  2107\n",
       "29  2016  1562"
      ]
     },
     "execution_count": 12,
     "metadata": {},
     "output_type": "execute_result"
    }
   ],
   "source": [
    "year_counts = c.execute(''' SELECT year_from_id(id), count(*) \n",
    "                FROM UITSPRAKEN_META group by year_from_id(id) \n",
    "                order by year_from_id(id) \n",
    "''')\n",
    "pd.DataFrame(year_counts.fetchall())"
   ]
  },
  {
   "cell_type": "code",
   "execution_count": 15,
   "metadata": {
    "collapsed": false
   },
   "outputs": [
    {
     "data": {
      "text/plain": [
       "[(27057,)]"
      ]
     },
     "execution_count": 15,
     "metadata": {},
     "output_type": "execute_result"
    }
   ],
   "source": [
    "#How many 'uitspraken' do we have?\n",
    "c.execute('''select count(*) from uitspraken''').fetchall()"
   ]
  },
  {
   "cell_type": "code",
   "execution_count": 13,
   "metadata": {
    "collapsed": false
   },
   "outputs": [
    {
     "data": {
      "text/plain": [
       "[(1837, 3332)]"
      ]
     },
     "execution_count": 13,
     "metadata": {},
     "output_type": "execute_result"
    }
   ],
   "source": [
    "#How many links do we have?\n",
    "c.execute('''select count(distinct id), count(*) from uitspraken_links''').fetchall()"
   ]
  },
  {
   "cell_type": "code",
   "execution_count": 14,
   "metadata": {
    "collapsed": false
   },
   "outputs": [
    {
     "data": {
      "text/plain": [
       "[(1646, 2502)]"
      ]
     },
     "execution_count": 14,
     "metadata": {},
     "output_type": "execute_result"
    }
   ],
   "source": [
    "#How many of those are to other HR cases?\n",
    "c.execute('''select count(distinct l.id), count(*) \n",
    "            from uitspraken_links l join \n",
    "                ( select id from uitspraken_meta ) s\n",
    "                on s.id = l.reference\n",
    "        ''').fetchall()"
   ]
  },
  {
   "cell_type": "code",
   "execution_count": 17,
   "metadata": {
    "collapsed": false
   },
   "outputs": [
    {
     "data": {
      "text/html": [
       "<div>\n",
       "<table border=\"1\" class=\"dataframe\">\n",
       "  <thead>\n",
       "    <tr style=\"text-align: right;\">\n",
       "      <th></th>\n",
       "      <th>0</th>\n",
       "      <th>1</th>\n",
       "    </tr>\n",
       "  </thead>\n",
       "  <tbody>\n",
       "    <tr>\n",
       "      <th>0</th>\n",
       "      <td>2013</td>\n",
       "      <td>406</td>\n",
       "    </tr>\n",
       "    <tr>\n",
       "      <th>1</th>\n",
       "      <td>2014</td>\n",
       "      <td>1119</td>\n",
       "    </tr>\n",
       "    <tr>\n",
       "      <th>2</th>\n",
       "      <td>2015</td>\n",
       "      <td>1396</td>\n",
       "    </tr>\n",
       "    <tr>\n",
       "      <th>3</th>\n",
       "      <td>2016</td>\n",
       "      <td>411</td>\n",
       "    </tr>\n",
       "  </tbody>\n",
       "</table>\n",
       "</div>"
      ],
      "text/plain": [
       "      0     1\n",
       "0  2013   406\n",
       "1  2014  1119\n",
       "2  2015  1396\n",
       "3  2016   411"
      ]
     },
     "execution_count": 17,
     "metadata": {},
     "output_type": "execute_result"
    }
   ],
   "source": [
    "#In which year did they link?\n",
    "year_counts = c.execute(''' SELECT year_from_id(id), count(*) \n",
    "                FROM uitspraken_links group by year_from_id(id) \n",
    "                order by year_from_id(id) \n",
    "''')\n",
    "pd.DataFrame(year_counts.fetchall())"
   ]
  },
  {
   "cell_type": "code",
   "execution_count": 37,
   "metadata": {
    "collapsed": true
   },
   "outputs": [],
   "source": [
    "c.close()"
   ]
  },
  {
   "cell_type": "code",
   "execution_count": null,
   "metadata": {
    "collapsed": true
   },
   "outputs": [],
   "source": []
  }
 ],
 "metadata": {
  "anaconda-cloud": {},
  "kernelspec": {
   "display_name": "Python [conda env:caselaw]",
   "language": "python",
   "name": "conda-env-caselaw-py"
  },
  "language_info": {
   "codemirror_mode": {
    "name": "ipython",
    "version": 3
   },
   "file_extension": ".py",
   "mimetype": "text/x-python",
   "name": "python",
   "nbconvert_exporter": "python",
   "pygments_lexer": "ipython3",
   "version": "3.5.2"
  }
 },
 "nbformat": 4,
 "nbformat_minor": 0
}
