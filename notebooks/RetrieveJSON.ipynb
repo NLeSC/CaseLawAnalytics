{
 "cells": [
  {
   "cell_type": "code",
   "execution_count": 2,
   "metadata": {
    "collapsed": false
   },
   "outputs": [
    {
     "name": "stderr",
     "output_type": "stream",
     "text": [
      "INFO:rdflib:RDFLib Version: 4.2.1\n"
     ]
    }
   ],
   "source": [
    "import os\n",
    "import json\n",
    "from rdflib import Graph\n",
    "import six.moves.urllib as urllib"
   ]
  },
  {
   "cell_type": "code",
   "execution_count": 7,
   "metadata": {
    "collapsed": false
   },
   "outputs": [],
   "source": [
    "def json_from_url(url):\n",
    "    hdr = {\n",
    "    'Accept':'application/ld+json, application/json;p=0.9, */*;q=0.1',\n",
    "    'User-agent':\n",
    "    'Mozilla/5.0 (X11; Linux x86_64) AppleWebKit/537.36 (KHTML, like Gecko) Chrome/54.0.2840.71 Safari/537.36'\n",
    "    }\n",
    "    req = urllib.request.Request(url,headers=hdr)\n",
    "    page = urllib.request.urlopen(req)\n",
    "    all_json = json.loads(page.read().decode('utf-8'))\n",
    "    return all_json\n",
    "\n",
    "def serialize_metadata(maximum, skip, outputpath, form):\n",
    "    g = Graph()\n",
    "    #base_url = \"https://rechtspraak.lawreader.nl/_all/\"\n",
    "    base_url = \"https://rechtspraak.cloudant.com/ecli/_design/linked-data/_list/json-ld/\"+\\\n",
    "                \"by-creator?stale=ok&type=json-ld&limit={}&skip={}&\"+\\\n",
    "                \"keys=%5b%22http://standaarden.overheid.nl/owms/terms/Hoge_Raad_der_Nederlanden%22%5d\"\n",
    "    #url = base_url+'?limit='+str(maximum)+'&skip='+str(skip)\n",
    "    url = base_url.format(maximum, skip)\n",
    "    try:\n",
    "        all_json = json_from_url(url)\n",
    "        context = all_json['@context']\n",
    "        for graph in all_json['@graph']:\n",
    "            g.parse(data=json.dumps(graph), format='json-ld', context=context)\n",
    "        g.serialize(outputpath, format=form)\n",
    "    except Exception as e:\n",
    "        print(e)\n",
    "    return g\n",
    "    "
   ]
  },
  {
   "cell_type": "code",
   "execution_count": 8,
   "metadata": {
    "collapsed": false
   },
   "outputs": [
    {
     "name": "stdout",
     "output_type": "stream",
     "text": [
      "Done with batch0\n",
      "Done with batch5000\n",
      "Done with batch10000\n",
      "Done with batch15000\n",
      "Done with batch20000\n",
      "Done with batch25000\n",
      "Done with batch30000\n",
      "Done with batch35000\n",
      "Done with batch40000\n",
      "Done with batch45000\n",
      "Done with batch50000\n",
      "Done with batch55000\n",
      "Done with batch60000\n",
      "Done with batch65000\n",
      "Done with batch70000\n",
      "Done with batch75000\n",
      "Done with batch80000\n",
      "Done with batch85000\n",
      "Done with batch90000\n",
      "Done with batch95000\n",
      "Done with batch100000\n",
      "Done with batch105000\n",
      "Done with batch110000\n",
      "Done with batch115000\n",
      "Done with batch120000\n",
      "Done with batch125000\n",
      "Done with batch130000\n",
      "Done with batch135000\n",
      "Done with batch140000\n",
      "Done with batch145000\n",
      "Done with batch150000\n",
      "Done with batch155000\n",
      "Done with batch160000\n",
      "Done with batch165000\n",
      "Done with batch170000\n",
      "Done with batch175000\n",
      "Done with batch180000\n",
      "Done with batch185000\n",
      "Done with batch190000\n",
      "Done with batch195000\n",
      "Done with batch200000\n",
      "Done with batch205000\n",
      "Done with batch210000\n",
      "Done with batch215000\n",
      "Done with batch220000\n",
      "Done with batch225000\n",
      "Done with batch230000\n",
      "Done with batch235000\n",
      "Done with batch240000\n",
      "Done with batch245000\n",
      "Done with batch250000\n",
      "Done with batch255000\n",
      "Done with batch260000\n",
      "Done with batch265000\n",
      "Done with batch270000\n",
      "Done with batch275000\n",
      "Done with batch280000\n",
      "Done with batch285000\n",
      "Done with batch290000\n",
      "Done with batch295000\n"
     ]
    }
   ],
   "source": [
    "form = 'turtle'\n",
    "\n",
    "totalnrdocs = 300000#1983501\n",
    "start = 0\n",
    "batchsize = 5000\n",
    "outputpath_base = '/media/sf_VBox_Shared/CaseLaw/metadata/' + form + '/'\n",
    "for i in range(start, totalnrdocs, batchsize):\n",
    "    outputpath = outputpath_base + 'meta_hr_' + str(i) + '.ttl' #+ form\n",
    "    serialize_metadata(batchsize, i, outputpath, form)\n",
    "    print(\"Done with batch\"+str(i))"
   ]
  },
  {
   "cell_type": "code",
   "execution_count": null,
   "metadata": {
    "collapsed": true
   },
   "outputs": [],
   "source": []
  }
 ],
 "metadata": {
  "anaconda-cloud": {},
  "kernelspec": {
   "display_name": "Python [conda env:caselaw]",
   "language": "python",
   "name": "conda-env-caselaw-py"
  },
  "language_info": {
   "codemirror_mode": {
    "name": "ipython",
    "version": 3
   },
   "file_extension": ".py",
   "mimetype": "text/x-python",
   "name": "python",
   "nbconvert_exporter": "python",
   "pygments_lexer": "ipython3",
   "version": "3.5.2"
  }
 },
 "nbformat": 4,
 "nbformat_minor": 0
}
