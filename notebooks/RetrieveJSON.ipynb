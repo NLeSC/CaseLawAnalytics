{
 "cells": [
  {
   "cell_type": "code",
   "execution_count": 3,
   "metadata": {
    "collapsed": false
   },
   "outputs": [
    {
     "name": "stderr",
     "output_type": "stream",
     "text": [
      "INFO:rdflib:RDFLib Version: 4.2.1\n"
     ]
    }
   ],
   "source": [
    "import os\n",
    "import json\n",
    "from rdflib import Graph\n",
    "import six.moves.urllib as urllib"
   ]
  },
  {
   "cell_type": "code",
   "execution_count": 56,
   "metadata": {
    "collapsed": false
   },
   "outputs": [],
   "source": [
    "def json_from_url(url):\n",
    "    hdr = {\n",
    "    'Accept':'application/ld+json, application/json;p=0.9, */*;q=0.1',\n",
    "    'User-agent':\n",
    "    'Mozilla/5.0 (X11; Linux x86_64) AppleWebKit/537.36 (KHTML, like Gecko) Chrome/54.0.2840.71 Safari/537.36'\n",
    "    }\n",
    "    req = urllib.request.Request(url,headers=hdr)\n",
    "    page = urllib.request.urlopen(req)\n",
    "    all_json = json.loads(page.read().decode('utf-8'))\n",
    "    return all_json\n",
    "\n",
    "def serialize_metadata(maximum, skip, outputpath, form):\n",
    "    base_url = \"https://rechtspraak.lawreader.nl/_all/\"\n",
    "    url = base_url+'?limit='+str(maximum)+'&skip='+str(skip)\n",
    "    all_json = json_from_url(url)\n",
    "    g = Graph()\n",
    "    context = all_json['@context']\n",
    "    for graph in all_json['@graph']:\n",
    "        g.parse(data=json.dumps(graph), format='json-ld', context=context)\n",
    "    g.serialize(outputpath, format=form)\n",
    "    return g\n",
    "    "
   ]
  },
  {
   "cell_type": "code",
   "execution_count": 58,
   "metadata": {
    "collapsed": false
   },
   "outputs": [
    {
     "name": "stdout",
     "output_type": "stream",
     "text": [
      "Done with batch0\n",
      "Done with batch1000\n",
      "Done with batch2000\n",
      "Done with batch3000\n",
      "Done with batch4000\n",
      "Done with batch5000\n",
      "Done with batch6000\n",
      "Done with batch7000\n",
      "Done with batch8000\n",
      "Done with batch9000\n",
      "Done with batch10000\n",
      "Done with batch11000\n",
      "Done with batch12000\n",
      "Done with batch13000\n",
      "Done with batch14000\n",
      "Done with batch15000\n",
      "Done with batch16000\n",
      "Done with batch17000\n",
      "Done with batch18000\n",
      "Done with batch19000\n",
      "Done with batch20000\n",
      "Done with batch21000\n",
      "Done with batch22000\n",
      "Done with batch23000\n",
      "Done with batch24000\n",
      "Done with batch25000\n",
      "Done with batch26000\n",
      "Done with batch27000\n",
      "Done with batch28000\n",
      "Done with batch29000\n",
      "Done with batch30000\n",
      "Done with batch31000\n",
      "Done with batch32000\n",
      "Done with batch33000\n",
      "Done with batch34000\n",
      "Done with batch35000\n",
      "Done with batch36000\n",
      "Done with batch37000\n",
      "Done with batch38000\n",
      "Done with batch39000\n",
      "Done with batch40000\n",
      "Done with batch41000\n",
      "Done with batch42000\n",
      "Done with batch43000\n",
      "Done with batch44000\n",
      "Done with batch45000\n",
      "Done with batch46000\n",
      "Done with batch47000\n",
      "Done with batch48000\n",
      "Done with batch49000\n",
      "Done with batch50000\n",
      "Done with batch51000\n",
      "Done with batch52000\n",
      "Done with batch53000\n",
      "Done with batch54000\n",
      "Done with batch55000\n",
      "Done with batch56000\n",
      "Done with batch57000\n",
      "Done with batch58000\n",
      "Done with batch59000\n",
      "Done with batch60000\n",
      "Done with batch61000\n",
      "Done with batch62000\n",
      "Done with batch63000\n",
      "Done with batch64000\n",
      "Done with batch65000\n",
      "Done with batch66000\n",
      "Done with batch67000\n",
      "Done with batch68000\n",
      "Done with batch69000\n",
      "Done with batch70000\n",
      "Done with batch71000\n",
      "Done with batch72000\n",
      "Done with batch73000\n",
      "Done with batch74000\n",
      "Done with batch75000\n",
      "Done with batch76000\n",
      "Done with batch77000\n",
      "Done with batch78000\n",
      "Done with batch79000\n",
      "Done with batch80000\n",
      "Done with batch81000\n",
      "Done with batch82000\n",
      "Done with batch83000\n",
      "Done with batch84000\n",
      "Done with batch85000\n",
      "Done with batch86000\n",
      "Done with batch87000\n",
      "Done with batch88000\n",
      "Done with batch89000\n",
      "Done with batch90000\n",
      "Done with batch91000\n",
      "Done with batch92000\n",
      "Done with batch93000\n",
      "Done with batch94000\n",
      "Done with batch95000\n",
      "Done with batch96000\n",
      "Done with batch97000\n",
      "Done with batch98000\n",
      "Done with batch99000\n",
      "Done with batch100000\n",
      "Done with batch101000\n",
      "Done with batch102000\n",
      "Done with batch103000\n",
      "Done with batch104000\n",
      "Done with batch105000\n",
      "Done with batch106000\n",
      "Done with batch107000\n",
      "Done with batch108000\n",
      "Done with batch109000\n",
      "Done with batch110000\n",
      "Done with batch111000\n",
      "Done with batch112000\n",
      "Done with batch113000\n",
      "Done with batch114000\n",
      "Done with batch115000\n",
      "Done with batch116000\n",
      "Done with batch117000\n",
      "Done with batch118000\n",
      "Done with batch119000\n",
      "Done with batch120000\n",
      "Done with batch121000\n",
      "Done with batch122000\n",
      "Done with batch123000\n",
      "Done with batch124000\n",
      "Done with batch125000\n",
      "Done with batch126000\n",
      "Done with batch127000\n",
      "Done with batch128000\n",
      "Done with batch129000\n",
      "Done with batch130000\n",
      "Done with batch131000\n",
      "Done with batch132000\n",
      "Done with batch133000\n",
      "Done with batch134000\n",
      "Done with batch135000\n",
      "Done with batch136000\n",
      "Done with batch137000\n",
      "Done with batch138000\n",
      "Done with batch139000\n",
      "Done with batch140000\n",
      "Done with batch141000\n",
      "Done with batch142000\n",
      "Done with batch143000\n",
      "Done with batch144000\n",
      "Done with batch145000\n",
      "Done with batch146000\n",
      "Done with batch147000\n",
      "Done with batch148000\n",
      "Done with batch149000\n",
      "Done with batch150000\n",
      "Done with batch151000\n",
      "Done with batch152000\n",
      "Done with batch153000\n",
      "Done with batch154000\n",
      "Done with batch155000\n",
      "Done with batch156000\n",
      "Done with batch157000\n",
      "Done with batch158000\n",
      "Done with batch159000\n",
      "Done with batch160000\n",
      "Done with batch161000\n",
      "Done with batch162000\n",
      "Done with batch163000\n",
      "Done with batch164000\n",
      "Done with batch165000\n",
      "Done with batch166000\n",
      "Done with batch167000\n",
      "Done with batch168000\n",
      "Done with batch169000\n",
      "Done with batch170000\n",
      "Done with batch171000\n",
      "Done with batch172000\n",
      "Done with batch173000\n",
      "Done with batch174000\n",
      "Done with batch175000\n",
      "Done with batch176000\n",
      "Done with batch177000\n",
      "Done with batch178000\n",
      "Done with batch179000\n",
      "Done with batch180000\n",
      "Done with batch181000\n",
      "Done with batch182000\n",
      "Done with batch183000\n",
      "Done with batch184000\n",
      "Done with batch185000\n",
      "Done with batch186000\n",
      "Done with batch187000\n",
      "Done with batch188000\n",
      "Done with batch189000\n",
      "Done with batch190000\n",
      "Done with batch191000\n",
      "Done with batch192000\n",
      "Done with batch193000\n",
      "Done with batch194000\n",
      "Done with batch195000\n",
      "Done with batch196000\n",
      "Done with batch197000\n",
      "Done with batch198000\n",
      "Done with batch199000\n",
      "Done with batch200000\n",
      "Done with batch201000\n",
      "Done with batch202000\n",
      "Done with batch203000\n",
      "Done with batch204000\n",
      "Done with batch205000\n",
      "Done with batch206000\n",
      "Done with batch207000\n",
      "Done with batch208000\n",
      "Done with batch209000\n",
      "Done with batch210000\n",
      "Done with batch211000\n",
      "Done with batch212000\n",
      "Done with batch213000\n",
      "Done with batch214000\n",
      "Done with batch215000\n",
      "Done with batch216000\n",
      "Done with batch217000\n",
      "Done with batch218000\n",
      "Done with batch219000\n",
      "Done with batch220000\n",
      "Done with batch221000\n",
      "Done with batch222000\n",
      "Done with batch223000\n",
      "Done with batch224000\n",
      "Done with batch225000\n",
      "Done with batch226000\n",
      "Done with batch227000\n",
      "Done with batch228000\n",
      "Done with batch229000\n",
      "Done with batch230000\n",
      "Done with batch231000\n",
      "Done with batch232000\n",
      "Done with batch233000\n",
      "Done with batch234000\n",
      "Done with batch235000\n",
      "Done with batch236000\n",
      "Done with batch237000\n",
      "Done with batch238000\n",
      "Done with batch239000\n",
      "Done with batch240000\n",
      "Done with batch241000\n",
      "Done with batch242000\n",
      "Done with batch243000\n",
      "Done with batch244000\n",
      "Done with batch245000\n",
      "Done with batch246000\n",
      "Done with batch247000\n",
      "Done with batch248000\n",
      "Done with batch249000\n",
      "Done with batch250000\n",
      "Done with batch251000\n",
      "Done with batch252000\n",
      "Done with batch253000\n",
      "Done with batch254000\n",
      "Done with batch255000\n",
      "Done with batch256000\n",
      "Done with batch257000\n",
      "Done with batch258000\n",
      "Done with batch259000\n",
      "Done with batch260000\n",
      "Done with batch261000\n",
      "Done with batch262000\n",
      "Done with batch263000\n",
      "Done with batch264000\n",
      "Done with batch265000\n",
      "Done with batch266000\n",
      "Done with batch267000\n",
      "Done with batch268000\n",
      "Done with batch269000\n",
      "Done with batch270000\n",
      "Done with batch271000\n",
      "Done with batch272000\n",
      "Done with batch273000\n",
      "Done with batch274000\n",
      "Done with batch275000\n",
      "Done with batch276000\n",
      "Done with batch277000\n",
      "Done with batch278000\n",
      "Done with batch279000\n",
      "Done with batch280000\n",
      "Done with batch281000\n",
      "Done with batch282000\n",
      "Done with batch283000\n",
      "Done with batch284000\n",
      "Done with batch285000\n",
      "Done with batch286000\n",
      "Done with batch287000\n",
      "Done with batch288000\n",
      "Done with batch289000\n",
      "Done with batch290000\n",
      "Done with batch291000\n",
      "Done with batch292000\n",
      "Done with batch293000\n",
      "Done with batch294000\n",
      "Done with batch295000\n",
      "Done with batch296000\n",
      "Done with batch297000\n",
      "Done with batch298000\n",
      "Done with batch299000\n",
      "Done with batch300000\n",
      "Done with batch301000\n",
      "Done with batch302000\n",
      "Done with batch303000\n",
      "Done with batch304000\n",
      "Done with batch305000\n",
      "Done with batch306000\n",
      "Done with batch307000\n",
      "Done with batch308000\n",
      "Done with batch309000\n",
      "Done with batch310000\n",
      "Done with batch311000\n",
      "Done with batch312000\n",
      "Done with batch313000\n",
      "Done with batch314000\n",
      "Done with batch315000\n",
      "Done with batch316000\n",
      "Done with batch317000\n",
      "Done with batch318000\n",
      "Done with batch319000\n",
      "Done with batch320000\n",
      "Done with batch321000\n",
      "Done with batch322000\n",
      "Done with batch323000\n",
      "Done with batch324000\n",
      "Done with batch325000\n",
      "Done with batch326000\n",
      "Done with batch327000\n",
      "Done with batch328000\n",
      "Done with batch329000\n",
      "Done with batch330000\n",
      "Done with batch331000\n",
      "Done with batch332000\n",
      "Done with batch333000\n",
      "Done with batch334000\n",
      "Done with batch335000\n",
      "Done with batch336000\n",
      "Done with batch337000\n",
      "Done with batch338000\n",
      "Done with batch339000\n",
      "Done with batch340000\n",
      "Done with batch341000\n",
      "Done with batch342000\n",
      "Done with batch343000\n",
      "Done with batch344000\n",
      "Done with batch345000\n",
      "Done with batch346000\n",
      "Done with batch347000\n",
      "Done with batch348000\n",
      "Done with batch349000\n",
      "Done with batch350000\n",
      "Done with batch351000\n",
      "Done with batch352000\n",
      "Done with batch353000\n",
      "Done with batch354000\n",
      "Done with batch355000\n",
      "Done with batch356000\n",
      "Done with batch357000\n",
      "Done with batch358000\n",
      "Done with batch359000\n",
      "Done with batch360000\n",
      "Done with batch361000\n",
      "Done with batch362000\n",
      "Done with batch363000\n",
      "Done with batch364000\n",
      "Done with batch365000\n",
      "Done with batch366000\n"
     ]
    },
    {
     "name": "stderr",
     "output_type": "stream",
     "text": [
      "WARNING:rdflib.term:http://psi.rechtspraak.nl/ArrKR Arn does not look like a valid URI, trying to serialize this will break.\n",
      "WARNING:rdflib.term:http://psi.rechtspraak.nl/ArrKR Arn does not look like a valid URI, trying to serialize this will break.\n",
      "WARNING:rdflib.term:http://psi.rechtspraak.nl/ArrKR Arn does not look like a valid URI, trying to serialize this will break.\n",
      "WARNING:rdflib.term:http://psi.rechtspraak.nl/ArrKR Arn does not look like a valid URI, trying to serialize this will break.\n",
      "WARNING:rdflib.term:http://psi.rechtspraak.nl/ArrKR Arn does not look like a valid URI, trying to serialize this will break.\n"
     ]
    },
    {
     "ename": "Exception",
     "evalue": "\"http://psi.rechtspraak.nl/ArrKR Arn\" does not look like a valid URI, I cannot serialize this as N3/Turtle. Perhaps you wanted to urlencode it?",
     "output_type": "error",
     "traceback": [
      "\u001b[0;31m---------------------------------------------------------------------------\u001b[0m",
      "\u001b[0;31mException\u001b[0m                                 Traceback (most recent call last)",
      "\u001b[0;32m<ipython-input-58-8ca7ab95dcb1>\u001b[0m in \u001b[0;36m<module>\u001b[0;34m()\u001b[0m\n\u001b[1;32m      6\u001b[0m \u001b[0;32mfor\u001b[0m \u001b[0mi\u001b[0m \u001b[0;32min\u001b[0m \u001b[0mrange\u001b[0m\u001b[0;34m(\u001b[0m\u001b[0;36m0\u001b[0m\u001b[0;34m,\u001b[0m \u001b[0mtotalnrdocs\u001b[0m\u001b[0;34m,\u001b[0m \u001b[0mbatchsize\u001b[0m\u001b[0;34m)\u001b[0m\u001b[0;34m:\u001b[0m\u001b[0;34m\u001b[0m\u001b[0m\n\u001b[1;32m      7\u001b[0m     \u001b[0moutputpath\u001b[0m \u001b[0;34m=\u001b[0m \u001b[0moutputpath_base\u001b[0m \u001b[0;34m+\u001b[0m \u001b[0;34m'meta_'\u001b[0m \u001b[0;34m+\u001b[0m \u001b[0mstr\u001b[0m\u001b[0;34m(\u001b[0m\u001b[0mi\u001b[0m\u001b[0;34m)\u001b[0m \u001b[0;34m+\u001b[0m \u001b[0;34m'.'\u001b[0m \u001b[0;34m+\u001b[0m \u001b[0mform\u001b[0m\u001b[0;34m\u001b[0m\u001b[0m\n\u001b[0;32m----> 8\u001b[0;31m     \u001b[0mserialize_metadata\u001b[0m\u001b[0;34m(\u001b[0m\u001b[0mbatchsize\u001b[0m\u001b[0;34m,\u001b[0m \u001b[0mi\u001b[0m\u001b[0;34m,\u001b[0m \u001b[0moutputpath\u001b[0m\u001b[0;34m,\u001b[0m \u001b[0mform\u001b[0m\u001b[0;34m)\u001b[0m\u001b[0;34m\u001b[0m\u001b[0m\n\u001b[0m\u001b[1;32m      9\u001b[0m     \u001b[0mprint\u001b[0m\u001b[0;34m(\u001b[0m\u001b[0;34m\"Done with batch\"\u001b[0m\u001b[0;34m+\u001b[0m\u001b[0mstr\u001b[0m\u001b[0;34m(\u001b[0m\u001b[0mi\u001b[0m\u001b[0;34m)\u001b[0m\u001b[0;34m)\u001b[0m\u001b[0;34m\u001b[0m\u001b[0m\n",
      "\u001b[0;32m<ipython-input-56-d2660ac75d3b>\u001b[0m in \u001b[0;36mserialize_metadata\u001b[0;34m(maximum, skip, outputpath, form)\u001b[0m\n\u001b[1;32m     18\u001b[0m     \u001b[0;32mfor\u001b[0m \u001b[0mgraph\u001b[0m \u001b[0;32min\u001b[0m \u001b[0mall_json\u001b[0m\u001b[0;34m[\u001b[0m\u001b[0;34m'@graph'\u001b[0m\u001b[0;34m]\u001b[0m\u001b[0;34m:\u001b[0m\u001b[0;34m\u001b[0m\u001b[0m\n\u001b[1;32m     19\u001b[0m         \u001b[0mg\u001b[0m\u001b[0;34m.\u001b[0m\u001b[0mparse\u001b[0m\u001b[0;34m(\u001b[0m\u001b[0mdata\u001b[0m\u001b[0;34m=\u001b[0m\u001b[0mjson\u001b[0m\u001b[0;34m.\u001b[0m\u001b[0mdumps\u001b[0m\u001b[0;34m(\u001b[0m\u001b[0mgraph\u001b[0m\u001b[0;34m)\u001b[0m\u001b[0;34m,\u001b[0m \u001b[0mformat\u001b[0m\u001b[0;34m=\u001b[0m\u001b[0;34m'json-ld'\u001b[0m\u001b[0;34m,\u001b[0m \u001b[0mcontext\u001b[0m\u001b[0;34m=\u001b[0m\u001b[0mcontext\u001b[0m\u001b[0;34m)\u001b[0m\u001b[0;34m\u001b[0m\u001b[0m\n\u001b[0;32m---> 20\u001b[0;31m     \u001b[0mg\u001b[0m\u001b[0;34m.\u001b[0m\u001b[0mserialize\u001b[0m\u001b[0;34m(\u001b[0m\u001b[0moutputpath\u001b[0m\u001b[0;34m,\u001b[0m \u001b[0mformat\u001b[0m\u001b[0;34m=\u001b[0m\u001b[0mform\u001b[0m\u001b[0;34m)\u001b[0m\u001b[0;34m\u001b[0m\u001b[0m\n\u001b[0m\u001b[1;32m     21\u001b[0m \u001b[0;34m\u001b[0m\u001b[0m\n",
      "\u001b[0;32m/home/dafne/anaconda2/envs/caselaw/lib/python3.5/site-packages/rdflib/graph.py\u001b[0m in \u001b[0;36mserialize\u001b[0;34m(self, destination, format, base, encoding, **args)\u001b[0m\n\u001b[1;32m    954\u001b[0m             \u001b[0mfd\u001b[0m\u001b[0;34m,\u001b[0m \u001b[0mname\u001b[0m \u001b[0;34m=\u001b[0m \u001b[0mtempfile\u001b[0m\u001b[0;34m.\u001b[0m\u001b[0mmkstemp\u001b[0m\u001b[0;34m(\u001b[0m\u001b[0;34m)\u001b[0m\u001b[0;34m\u001b[0m\u001b[0m\n\u001b[1;32m    955\u001b[0m             \u001b[0mstream\u001b[0m \u001b[0;34m=\u001b[0m \u001b[0mos\u001b[0m\u001b[0;34m.\u001b[0m\u001b[0mfdopen\u001b[0m\u001b[0;34m(\u001b[0m\u001b[0mfd\u001b[0m\u001b[0;34m,\u001b[0m \u001b[0;34m\"wb\"\u001b[0m\u001b[0;34m)\u001b[0m\u001b[0;34m\u001b[0m\u001b[0m\n\u001b[0;32m--> 956\u001b[0;31m             \u001b[0mserializer\u001b[0m\u001b[0;34m.\u001b[0m\u001b[0mserialize\u001b[0m\u001b[0;34m(\u001b[0m\u001b[0mstream\u001b[0m\u001b[0;34m,\u001b[0m \u001b[0mbase\u001b[0m\u001b[0;34m=\u001b[0m\u001b[0mbase\u001b[0m\u001b[0;34m,\u001b[0m \u001b[0mencoding\u001b[0m\u001b[0;34m=\u001b[0m\u001b[0mencoding\u001b[0m\u001b[0;34m,\u001b[0m \u001b[0;34m**\u001b[0m\u001b[0margs\u001b[0m\u001b[0;34m)\u001b[0m\u001b[0;34m\u001b[0m\u001b[0m\n\u001b[0m\u001b[1;32m    957\u001b[0m             \u001b[0mstream\u001b[0m\u001b[0;34m.\u001b[0m\u001b[0mclose\u001b[0m\u001b[0;34m(\u001b[0m\u001b[0;34m)\u001b[0m\u001b[0;34m\u001b[0m\u001b[0m\n\u001b[1;32m    958\u001b[0m             \u001b[0;32mif\u001b[0m \u001b[0mhasattr\u001b[0m\u001b[0;34m(\u001b[0m\u001b[0mshutil\u001b[0m\u001b[0;34m,\u001b[0m \u001b[0;34m\"move\"\u001b[0m\u001b[0;34m)\u001b[0m\u001b[0;34m:\u001b[0m\u001b[0;34m\u001b[0m\u001b[0m\n",
      "\u001b[0;32m/home/dafne/anaconda2/envs/caselaw/lib/python3.5/site-packages/rdflib/plugins/serializers/turtle.py\u001b[0m in \u001b[0;36mserialize\u001b[0;34m(self, stream, base, encoding, spacious, **args)\u001b[0m\n\u001b[1;32m    207\u001b[0m             \u001b[0;32mif\u001b[0m \u001b[0mfirstTime\u001b[0m\u001b[0;34m:\u001b[0m\u001b[0;34m\u001b[0m\u001b[0m\n\u001b[1;32m    208\u001b[0m                 \u001b[0mfirstTime\u001b[0m \u001b[0;34m=\u001b[0m \u001b[0;32mFalse\u001b[0m\u001b[0;34m\u001b[0m\u001b[0m\n\u001b[0;32m--> 209\u001b[0;31m             \u001b[0;32mif\u001b[0m \u001b[0mself\u001b[0m\u001b[0;34m.\u001b[0m\u001b[0mstatement\u001b[0m\u001b[0;34m(\u001b[0m\u001b[0msubject\u001b[0m\u001b[0;34m)\u001b[0m \u001b[0;32mand\u001b[0m \u001b[0;32mnot\u001b[0m \u001b[0mfirstTime\u001b[0m\u001b[0;34m:\u001b[0m\u001b[0;34m\u001b[0m\u001b[0m\n\u001b[0m\u001b[1;32m    210\u001b[0m                 \u001b[0mself\u001b[0m\u001b[0;34m.\u001b[0m\u001b[0mwrite\u001b[0m\u001b[0;34m(\u001b[0m\u001b[0;34m'\\n'\u001b[0m\u001b[0;34m)\u001b[0m\u001b[0;34m\u001b[0m\u001b[0m\n\u001b[1;32m    211\u001b[0m \u001b[0;34m\u001b[0m\u001b[0m\n",
      "\u001b[0;32m/home/dafne/anaconda2/envs/caselaw/lib/python3.5/site-packages/rdflib/plugins/serializers/turtle.py\u001b[0m in \u001b[0;36mstatement\u001b[0;34m(self, subject)\u001b[0m\n\u001b[1;32m    268\u001b[0m     \u001b[0;32mdef\u001b[0m \u001b[0mstatement\u001b[0m\u001b[0;34m(\u001b[0m\u001b[0mself\u001b[0m\u001b[0;34m,\u001b[0m \u001b[0msubject\u001b[0m\u001b[0;34m)\u001b[0m\u001b[0;34m:\u001b[0m\u001b[0;34m\u001b[0m\u001b[0m\n\u001b[1;32m    269\u001b[0m         \u001b[0mself\u001b[0m\u001b[0;34m.\u001b[0m\u001b[0msubjectDone\u001b[0m\u001b[0;34m(\u001b[0m\u001b[0msubject\u001b[0m\u001b[0;34m)\u001b[0m\u001b[0;34m\u001b[0m\u001b[0m\n\u001b[0;32m--> 270\u001b[0;31m         \u001b[0;32mreturn\u001b[0m \u001b[0mself\u001b[0m\u001b[0;34m.\u001b[0m\u001b[0ms_squared\u001b[0m\u001b[0;34m(\u001b[0m\u001b[0msubject\u001b[0m\u001b[0;34m)\u001b[0m \u001b[0;32mor\u001b[0m \u001b[0mself\u001b[0m\u001b[0;34m.\u001b[0m\u001b[0ms_default\u001b[0m\u001b[0;34m(\u001b[0m\u001b[0msubject\u001b[0m\u001b[0;34m)\u001b[0m\u001b[0;34m\u001b[0m\u001b[0m\n\u001b[0m\u001b[1;32m    271\u001b[0m \u001b[0;34m\u001b[0m\u001b[0m\n\u001b[1;32m    272\u001b[0m     \u001b[0;32mdef\u001b[0m \u001b[0ms_default\u001b[0m\u001b[0;34m(\u001b[0m\u001b[0mself\u001b[0m\u001b[0;34m,\u001b[0m \u001b[0msubject\u001b[0m\u001b[0;34m)\u001b[0m\u001b[0;34m:\u001b[0m\u001b[0;34m\u001b[0m\u001b[0m\n",
      "\u001b[0;32m/home/dafne/anaconda2/envs/caselaw/lib/python3.5/site-packages/rdflib/plugins/serializers/turtle.py\u001b[0m in \u001b[0;36ms_default\u001b[0;34m(self, subject)\u001b[0m\n\u001b[1;32m    273\u001b[0m         \u001b[0mself\u001b[0m\u001b[0;34m.\u001b[0m\u001b[0mwrite\u001b[0m\u001b[0;34m(\u001b[0m\u001b[0;34m'\\n'\u001b[0m \u001b[0;34m+\u001b[0m \u001b[0mself\u001b[0m\u001b[0;34m.\u001b[0m\u001b[0mindent\u001b[0m\u001b[0;34m(\u001b[0m\u001b[0;34m)\u001b[0m\u001b[0;34m)\u001b[0m\u001b[0;34m\u001b[0m\u001b[0m\n\u001b[1;32m    274\u001b[0m         \u001b[0mself\u001b[0m\u001b[0;34m.\u001b[0m\u001b[0mpath\u001b[0m\u001b[0;34m(\u001b[0m\u001b[0msubject\u001b[0m\u001b[0;34m,\u001b[0m \u001b[0mSUBJECT\u001b[0m\u001b[0;34m)\u001b[0m\u001b[0;34m\u001b[0m\u001b[0m\n\u001b[0;32m--> 275\u001b[0;31m         \u001b[0mself\u001b[0m\u001b[0;34m.\u001b[0m\u001b[0mpredicateList\u001b[0m\u001b[0;34m(\u001b[0m\u001b[0msubject\u001b[0m\u001b[0;34m)\u001b[0m\u001b[0;34m\u001b[0m\u001b[0m\n\u001b[0m\u001b[1;32m    276\u001b[0m         \u001b[0mself\u001b[0m\u001b[0;34m.\u001b[0m\u001b[0mwrite\u001b[0m\u001b[0;34m(\u001b[0m\u001b[0;34m' .'\u001b[0m\u001b[0;34m)\u001b[0m\u001b[0;34m\u001b[0m\u001b[0m\n\u001b[1;32m    277\u001b[0m         \u001b[0;32mreturn\u001b[0m \u001b[0;32mTrue\u001b[0m\u001b[0;34m\u001b[0m\u001b[0m\n",
      "\u001b[0;32m/home/dafne/anaconda2/envs/caselaw/lib/python3.5/site-packages/rdflib/plugins/serializers/turtle.py\u001b[0m in \u001b[0;36mpredicateList\u001b[0;34m(self, subject, newline)\u001b[0m\n\u001b[1;32m    376\u001b[0m             \u001b[0mself\u001b[0m\u001b[0;34m.\u001b[0m\u001b[0mwrite\u001b[0m\u001b[0;34m(\u001b[0m\u001b[0;34m' ;\\n'\u001b[0m \u001b[0;34m+\u001b[0m \u001b[0mself\u001b[0m\u001b[0;34m.\u001b[0m\u001b[0mindent\u001b[0m\u001b[0;34m(\u001b[0m\u001b[0;36m1\u001b[0m\u001b[0;34m)\u001b[0m\u001b[0;34m)\u001b[0m\u001b[0;34m\u001b[0m\u001b[0m\n\u001b[1;32m    377\u001b[0m             \u001b[0mself\u001b[0m\u001b[0;34m.\u001b[0m\u001b[0mverb\u001b[0m\u001b[0;34m(\u001b[0m\u001b[0mpredicate\u001b[0m\u001b[0;34m,\u001b[0m \u001b[0mnewline\u001b[0m\u001b[0;34m=\u001b[0m\u001b[0;32mTrue\u001b[0m\u001b[0;34m)\u001b[0m\u001b[0;34m\u001b[0m\u001b[0m\n\u001b[0;32m--> 378\u001b[0;31m             \u001b[0mself\u001b[0m\u001b[0;34m.\u001b[0m\u001b[0mobjectList\u001b[0m\u001b[0;34m(\u001b[0m\u001b[0mproperties\u001b[0m\u001b[0;34m[\u001b[0m\u001b[0mpredicate\u001b[0m\u001b[0;34m]\u001b[0m\u001b[0;34m)\u001b[0m\u001b[0;34m\u001b[0m\u001b[0m\n\u001b[0m\u001b[1;32m    379\u001b[0m \u001b[0;34m\u001b[0m\u001b[0m\n\u001b[1;32m    380\u001b[0m     \u001b[0;32mdef\u001b[0m \u001b[0mverb\u001b[0m\u001b[0;34m(\u001b[0m\u001b[0mself\u001b[0m\u001b[0;34m,\u001b[0m \u001b[0mnode\u001b[0m\u001b[0;34m,\u001b[0m \u001b[0mnewline\u001b[0m\u001b[0;34m=\u001b[0m\u001b[0;32mFalse\u001b[0m\u001b[0;34m)\u001b[0m\u001b[0;34m:\u001b[0m\u001b[0;34m\u001b[0m\u001b[0m\n",
      "\u001b[0;32m/home/dafne/anaconda2/envs/caselaw/lib/python3.5/site-packages/rdflib/plugins/serializers/turtle.py\u001b[0m in \u001b[0;36mobjectList\u001b[0;34m(self, objects)\u001b[0m\n\u001b[1;32m    387\u001b[0m         \u001b[0mdepthmod\u001b[0m \u001b[0;34m=\u001b[0m \u001b[0;34m(\u001b[0m\u001b[0mcount\u001b[0m \u001b[0;34m==\u001b[0m \u001b[0;36m1\u001b[0m\u001b[0;34m)\u001b[0m \u001b[0;32mand\u001b[0m \u001b[0;36m0\u001b[0m \u001b[0;32mor\u001b[0m \u001b[0;36m1\u001b[0m\u001b[0;34m\u001b[0m\u001b[0m\n\u001b[1;32m    388\u001b[0m         \u001b[0mself\u001b[0m\u001b[0;34m.\u001b[0m\u001b[0mdepth\u001b[0m \u001b[0;34m+=\u001b[0m \u001b[0mdepthmod\u001b[0m\u001b[0;34m\u001b[0m\u001b[0m\n\u001b[0;32m--> 389\u001b[0;31m         \u001b[0mself\u001b[0m\u001b[0;34m.\u001b[0m\u001b[0mpath\u001b[0m\u001b[0;34m(\u001b[0m\u001b[0mobjects\u001b[0m\u001b[0;34m[\u001b[0m\u001b[0;36m0\u001b[0m\u001b[0;34m]\u001b[0m\u001b[0;34m,\u001b[0m \u001b[0mOBJECT\u001b[0m\u001b[0;34m)\u001b[0m\u001b[0;34m\u001b[0m\u001b[0m\n\u001b[0m\u001b[1;32m    390\u001b[0m         \u001b[0;32mfor\u001b[0m \u001b[0mobj\u001b[0m \u001b[0;32min\u001b[0m \u001b[0mobjects\u001b[0m\u001b[0;34m[\u001b[0m\u001b[0;36m1\u001b[0m\u001b[0;34m:\u001b[0m\u001b[0;34m]\u001b[0m\u001b[0;34m:\u001b[0m\u001b[0;34m\u001b[0m\u001b[0m\n\u001b[1;32m    391\u001b[0m             \u001b[0mself\u001b[0m\u001b[0;34m.\u001b[0m\u001b[0mwrite\u001b[0m\u001b[0;34m(\u001b[0m\u001b[0;34m',\\n'\u001b[0m \u001b[0;34m+\u001b[0m \u001b[0mself\u001b[0m\u001b[0;34m.\u001b[0m\u001b[0mindent\u001b[0m\u001b[0;34m(\u001b[0m\u001b[0;36m1\u001b[0m\u001b[0;34m)\u001b[0m\u001b[0;34m)\u001b[0m\u001b[0;34m\u001b[0m\u001b[0m\n",
      "\u001b[0;32m/home/dafne/anaconda2/envs/caselaw/lib/python3.5/site-packages/rdflib/plugins/serializers/turtle.py\u001b[0m in \u001b[0;36mpath\u001b[0;34m(self, node, position, newline)\u001b[0m\n\u001b[1;32m    287\u001b[0m     \u001b[0;32mdef\u001b[0m \u001b[0mpath\u001b[0m\u001b[0;34m(\u001b[0m\u001b[0mself\u001b[0m\u001b[0;34m,\u001b[0m \u001b[0mnode\u001b[0m\u001b[0;34m,\u001b[0m \u001b[0mposition\u001b[0m\u001b[0;34m,\u001b[0m \u001b[0mnewline\u001b[0m\u001b[0;34m=\u001b[0m\u001b[0;32mFalse\u001b[0m\u001b[0;34m)\u001b[0m\u001b[0;34m:\u001b[0m\u001b[0;34m\u001b[0m\u001b[0m\n\u001b[1;32m    288\u001b[0m         if not (self.p_squared(node, position, newline)\n\u001b[0;32m--> 289\u001b[0;31m                 or self.p_default(node, position, newline)):\n\u001b[0m\u001b[1;32m    290\u001b[0m             \u001b[0;32mraise\u001b[0m \u001b[0mError\u001b[0m\u001b[0;34m(\u001b[0m\u001b[0;34m\"Cannot serialize node '%s'\"\u001b[0m \u001b[0;34m%\u001b[0m \u001b[0;34m(\u001b[0m\u001b[0mnode\u001b[0m\u001b[0;34m,\u001b[0m \u001b[0;34m)\u001b[0m\u001b[0;34m)\u001b[0m\u001b[0;34m\u001b[0m\u001b[0m\n\u001b[1;32m    291\u001b[0m \u001b[0;34m\u001b[0m\u001b[0m\n",
      "\u001b[0;32m/home/dafne/anaconda2/envs/caselaw/lib/python3.5/site-packages/rdflib/plugins/serializers/turtle.py\u001b[0m in \u001b[0;36mp_default\u001b[0;34m(self, node, position, newline)\u001b[0m\n\u001b[1;32m    293\u001b[0m         \u001b[0;32mif\u001b[0m \u001b[0mposition\u001b[0m \u001b[0;34m!=\u001b[0m \u001b[0mSUBJECT\u001b[0m \u001b[0;32mand\u001b[0m \u001b[0;32mnot\u001b[0m \u001b[0mnewline\u001b[0m\u001b[0;34m:\u001b[0m\u001b[0;34m\u001b[0m\u001b[0m\n\u001b[1;32m    294\u001b[0m             \u001b[0mself\u001b[0m\u001b[0;34m.\u001b[0m\u001b[0mwrite\u001b[0m\u001b[0;34m(\u001b[0m\u001b[0;34m' '\u001b[0m\u001b[0;34m)\u001b[0m\u001b[0;34m\u001b[0m\u001b[0m\n\u001b[0;32m--> 295\u001b[0;31m         \u001b[0mself\u001b[0m\u001b[0;34m.\u001b[0m\u001b[0mwrite\u001b[0m\u001b[0;34m(\u001b[0m\u001b[0mself\u001b[0m\u001b[0;34m.\u001b[0m\u001b[0mlabel\u001b[0m\u001b[0;34m(\u001b[0m\u001b[0mnode\u001b[0m\u001b[0;34m,\u001b[0m \u001b[0mposition\u001b[0m\u001b[0;34m)\u001b[0m\u001b[0;34m)\u001b[0m\u001b[0;34m\u001b[0m\u001b[0m\n\u001b[0m\u001b[1;32m    296\u001b[0m         \u001b[0;32mreturn\u001b[0m \u001b[0;32mTrue\u001b[0m\u001b[0;34m\u001b[0m\u001b[0m\n\u001b[1;32m    297\u001b[0m \u001b[0;34m\u001b[0m\u001b[0m\n",
      "\u001b[0;32m/home/dafne/anaconda2/envs/caselaw/lib/python3.5/site-packages/rdflib/plugins/serializers/turtle.py\u001b[0m in \u001b[0;36mlabel\u001b[0;34m(self, node, position)\u001b[0m\n\u001b[1;32m    309\u001b[0m             \u001b[0mnode\u001b[0m \u001b[0;34m=\u001b[0m \u001b[0mself\u001b[0m\u001b[0;34m.\u001b[0m\u001b[0mrelativize\u001b[0m\u001b[0;34m(\u001b[0m\u001b[0mnode\u001b[0m\u001b[0;34m)\u001b[0m\u001b[0;34m\u001b[0m\u001b[0m\n\u001b[1;32m    310\u001b[0m \u001b[0;34m\u001b[0m\u001b[0m\n\u001b[0;32m--> 311\u001b[0;31m             \u001b[0;32mreturn\u001b[0m \u001b[0mself\u001b[0m\u001b[0;34m.\u001b[0m\u001b[0mgetQName\u001b[0m\u001b[0;34m(\u001b[0m\u001b[0mnode\u001b[0m\u001b[0;34m,\u001b[0m \u001b[0mposition\u001b[0m \u001b[0;34m==\u001b[0m \u001b[0mVERB\u001b[0m\u001b[0;34m)\u001b[0m \u001b[0;32mor\u001b[0m \u001b[0mnode\u001b[0m\u001b[0;34m.\u001b[0m\u001b[0mn3\u001b[0m\u001b[0;34m(\u001b[0m\u001b[0;34m)\u001b[0m\u001b[0;34m\u001b[0m\u001b[0m\n\u001b[0m\u001b[1;32m    312\u001b[0m \u001b[0;34m\u001b[0m\u001b[0m\n\u001b[1;32m    313\u001b[0m     \u001b[0;32mdef\u001b[0m \u001b[0mp_squared\u001b[0m\u001b[0;34m(\u001b[0m\u001b[0mself\u001b[0m\u001b[0;34m,\u001b[0m \u001b[0mnode\u001b[0m\u001b[0;34m,\u001b[0m \u001b[0mposition\u001b[0m\u001b[0;34m,\u001b[0m \u001b[0mnewline\u001b[0m\u001b[0;34m=\u001b[0m\u001b[0;32mFalse\u001b[0m\u001b[0;34m)\u001b[0m\u001b[0;34m:\u001b[0m\u001b[0;34m\u001b[0m\u001b[0m\n",
      "\u001b[0;32m/home/dafne/anaconda2/envs/caselaw/lib/python3.5/site-packages/rdflib/term.py\u001b[0m in \u001b[0;36mn3\u001b[0;34m(self, namespace_manager)\u001b[0m\n\u001b[1;32m    228\u001b[0m \u001b[0;34m\u001b[0m\u001b[0m\n\u001b[1;32m    229\u001b[0m         \u001b[0;32mif\u001b[0m \u001b[0;32mnot\u001b[0m \u001b[0m_is_valid_uri\u001b[0m\u001b[0;34m(\u001b[0m\u001b[0mself\u001b[0m\u001b[0;34m)\u001b[0m\u001b[0;34m:\u001b[0m\u001b[0;34m\u001b[0m\u001b[0m\n\u001b[0;32m--> 230\u001b[0;31m             \u001b[0;32mraise\u001b[0m \u001b[0mException\u001b[0m\u001b[0;34m(\u001b[0m\u001b[0;34m'\"%s\" does not look like a valid URI, I cannot serialize this as N3/Turtle. Perhaps you wanted to urlencode it?'\u001b[0m\u001b[0;34m%\u001b[0m\u001b[0mself\u001b[0m\u001b[0;34m)\u001b[0m\u001b[0;34m\u001b[0m\u001b[0m\n\u001b[0m\u001b[1;32m    231\u001b[0m \u001b[0;34m\u001b[0m\u001b[0m\n\u001b[1;32m    232\u001b[0m         \u001b[0;32mif\u001b[0m \u001b[0mnamespace_manager\u001b[0m\u001b[0;34m:\u001b[0m\u001b[0;34m\u001b[0m\u001b[0m\n",
      "\u001b[0;31mException\u001b[0m: \"http://psi.rechtspraak.nl/ArrKR Arn\" does not look like a valid URI, I cannot serialize this as N3/Turtle. Perhaps you wanted to urlencode it?"
     ]
    }
   ],
   "source": [
    "form = 'turtle'\n",
    "\n",
    "totalnrdocs = 663546\n",
    "batchsize = 1000\n",
    "outputpath_base = '/media/sf_VBox_Shared/CaseLaw/metadata/' + form + '/'\n",
    "for i in range(0, totalnrdocs, batchsize):\n",
    "    outputpath = outputpath_base + 'meta_' + str(i) + '.ttl' #+ form\n",
    "    serialize_metadata(batchsize, i, outputpath, form)\n",
    "    print(\"Done with batch\"+str(i))"
   ]
  },
  {
   "cell_type": "code",
   "execution_count": 57,
   "metadata": {
    "collapsed": false
   },
   "outputs": [],
   "source": [
    "dumppath = '/media/sf_VBox_Shared/CaseLaw/metadata/n3/meta.n3'\n",
    "g = serialize_metadata(500, 0, dumppath, 'n3')\n"
   ]
  },
  {
   "cell_type": "code",
   "execution_count": 55,
   "metadata": {
    "collapsed": true
   },
   "outputs": [],
   "source": [
    "dumppath = '/media/sf_VBox_Shared/CaseLaw/metadata/turtle/meta.turtle'\n",
    "g.serialize(dumppath, format='turtle')"
   ]
  },
  {
   "cell_type": "code",
   "execution_count": 26,
   "metadata": {
    "collapsed": false
   },
   "outputs": [],
   "source": [
    "rdfs = {}\n",
    "for row in all_json['rows']:\n",
    "    #print(row['key'])\n",
    "    rdfs[row['key']] = row['value']"
   ]
  },
  {
   "cell_type": "code",
   "execution_count": 34,
   "metadata": {
    "collapsed": false
   },
   "outputs": [],
   "source": [
    "g = Graph()\n",
    "for k,v in rdfs.items():\n",
    "    g.parse(data=json.dumps(v), format='json-ld')"
   ]
  },
  {
   "cell_type": "code",
   "execution_count": 41,
   "metadata": {
    "collapsed": false
   },
   "outputs": [
    {
     "name": "stdout",
     "output_type": "stream",
     "text": [
      "('rdfs', rdflib.term.URIRef('http://www.w3.org/2000/01/rdf-schema#'))\n",
      "('xml', rdflib.term.URIRef('http://www.w3.org/XML/1998/namespace'))\n",
      "('rdf', rdflib.term.URIRef('http://www.w3.org/1999/02/22-rdf-syntax-ns#'))\n",
      "('xsd', rdflib.term.URIRef('http://www.w3.org/2001/XMLSchema#'))\n"
     ]
    }
   ],
   "source": [
    "for n in g.namespaces():\n",
    "    print(n)"
   ]
  },
  {
   "cell_type": "code",
   "execution_count": 55,
   "metadata": {
    "collapsed": false
   },
   "outputs": [
    {
     "name": "stdout",
     "output_type": "stream",
     "text": [
      "3\n"
     ]
    }
   ],
   "source": [
    "g2 = Graph()\n",
    "g2.parse(data=context_json, format='json-ld')\n",
    "g2.parse(data=json.dumps(v), format='json-ld')\n",
    "print(len(g2))"
   ]
  },
  {
   "cell_type": "code",
   "execution_count": 56,
   "metadata": {
    "collapsed": false
   },
   "outputs": [
    {
     "name": "stdout",
     "output_type": "stream",
     "text": [
      "http://www.w3.org/1999/02/22-rdf-syntax-ns#type frbr:LegalWork\n",
      "http://www.w3.org/1999/02/22-rdf-syntax-ns#type schema:CreativeWork\n",
      "owl:sameAs http://deeplink.rechtspraak.nl/uitspraak?id=ECLI:NL:CBB:2001:AB0307\n"
     ]
    }
   ],
   "source": [
    "for subj, pred, obj in g2:\n",
    "    print(pred, obj)"
   ]
  },
  {
   "cell_type": "code",
   "execution_count": 57,
   "metadata": {
    "collapsed": false
   },
   "outputs": [
    {
     "name": "stdout",
     "output_type": "stream",
     "text": [
      "('cvdr', rdflib.term.URIRef('http://decentrale.regelgeving.overheid.nl/cvdr/'))\n",
      "('foaf', rdflib.term.URIRef('http://xmlns.com/foaf/0.1/'))\n",
      "('schema', rdflib.term.URIRef('http://schema.org/'))\n",
      "('lawly', rdflib.term.URIRef('https://rechtspraak.lawreader.nl/vocab/'))\n",
      "('xml', rdflib.term.URIRef('http://www.w3.org/XML/1998/namespace'))\n",
      "('dcterms', rdflib.term.URIRef('http://purl.org/dc/terms/'))\n",
      "('rdfs', rdflib.term.URIRef('http://www.w3.org/2000/01/rdf-schema#'))\n",
      "('xsd', rdflib.term.URIRef('http://www.w3.org/2001/XMLSchema#'))\n",
      "('tr', rdflib.term.URIRef('http://tuchtrecht.overheid.nl/'))\n",
      "('owl', rdflib.term.URIRef('http://www.w3.org/2002/07/owl#'))\n",
      "('frbr', rdflib.term.URIRef('http://purl.org/vocab/frbr/core#'))\n",
      "('ECLI', rdflib.term.URIRef('https://rechtspraak.lawreader.nl/id/ECLI:'))\n",
      "('psi', rdflib.term.URIRef('http://psi.rechtspraak.nl/'))\n",
      "('rdf', rdflib.term.URIRef('http://www.w3.org/1999/02/22-rdf-syntax-ns#'))\n",
      "('eu', rdflib.term.URIRef('http://publications.europa.eu/celex/'))\n"
     ]
    }
   ],
   "source": [
    "for n in g2.namespaces():\n",
    "    print(n)"
   ]
  },
  {
   "cell_type": "code",
   "execution_count": 48,
   "metadata": {
    "collapsed": false
   },
   "outputs": [
    {
     "name": "stdout",
     "output_type": "stream",
     "text": [
      "{\"hasVersion\": [\"Rechtspraak.nl\"], \"publisher\": {\"rdfs:label\": [{\"@value\": \"Raad voor de Rechtspraak\", \"@language\": \"nl\"}], \"@id\": \"http://rechtspraak.nl/\"}, \"ecli\": \"ECLI:NL:CBB:2001:AB0307\", \"_rev\": \"6-18731ca4cfe0575e03e50ea68e4dd95e\", \"procedure\": [{\"rdfs:label\": [{\"@value\": \"Eerste aanleg - enkelvoudig\", \"@language\": \"nl\"}], \"@id\": \"http://psi.rechtspraak.nl/procedure#eersteAanlegEnkelvoudig\"}], \"date\": \"2001-02-22T00:00:00.000+01:00\", \"contentModified\": \"2013-04-04T16:22:04.000+02:00\", \"type\": {\"rdfs:label\": [{\"@value\": \"Uitspraak\", \"@language\": \"nl\"}], \"@id\": \"http://psi.rechtspraak.nl/uitspraak\"}, \"htmlIssued\": \"2003-05-14T00:00:00.000+02:00\", \"page\": \"http://rechtspraak.lawreader.nl/ecli/ECLI:NL:CBB:2001:AB0307\", \"references\": [{\"rdfs:label\": [{\"@value\": \"Algemene wet bestuursrecht 6:10\", \"@language\": \"nl\"}], \"@id\": \"https://id.lawreader.nl/juriconnect/1.0:v:BWB:BWBR0005537&artikel=6:10&g=2001-02-22\"}], \"subject\": [{\"rdfs:label\": [{\"@value\": \"Bestuursrecht\", \"@language\": \"nl\"}], \"@id\": \"http://psi.rechtspraak.nl/rechtsgebied#bestuursrecht\"}], \"fullHtmlAddedToCouch\": \"2016-02-05T14:33:57.915Z\", \"issued\": \"2013-04-04T00:00:00.000+02:00\", \"zaaknummer\": [\"AWB 99/630\"], \"_id\": \"ECLI:NL:CBB:2001:AB0307\", \"@type\": [\"frbr:LegalWork\", \"schema:CreativeWork\"], \"corpus\": \"Rechtspraak.nl\", \"title\": {\"@value\": \"ECLI:NL:CBB:2001:AB0307 College van Beroep voor het bedrijfsleven , 22-02-2001 / AWB 99/630\", \"@language\": \"nl\"}, \"_attachments\": {\"data.html\": {\"stub\": true, \"digest\": \"md5-u6dDqO242AXFxPtnXdManw==\", \"content_type\": \"text/html\", \"revpos\": 6, \"length\": 24915}, \"data.htm\": {\"stub\": true, \"digest\": \"md5-h7/0UTv6KyGJQW0VXGfhKw==\", \"content_type\": \"text/html;charset=utf-8\", \"revpos\": 3, \"length\": 24139}, \"data.xml\": {\"stub\": true, \"digest\": \"md5-IGKyvX3frFlbCNpEjbT4IA==\", \"content_type\": \"text/xml;charset=utf-8\", \"revpos\": 3, \"length\": 24006}}, \"metadataModified\": \"2014-04-13T10:29:26.000+02:00\", \"couchDbUpdated\": \"2015-11-21T18:31:13.303+01:00\", \"creator\": {\"rdfs:label\": [{\"@value\": \"College van Beroep voor het bedrijfsleven\", \"@language\": \"nl\"}], \"scheme\": \"overheid.RechterlijkeMacht\", \"@id\": \"http://standaarden.overheid.nl/owms/terms/College_van_Beroep_voor_het_bedrijfsleven\"}, \"about\": \"http://deeplink.rechtspraak.nl/uitspraak?id=ECLI:NL:CBB:2001:AB0307\", \"owl:sameAs\": \"http://deeplink.rechtspraak.nl/uitspraak?id=ECLI:NL:CBB:2001:AB0307\", \"coverage\": {\"rdfs:label\": [{\"@value\": \"Nederland\", \"@language\": \"nl\"}], \"@id\": \"nl\"}, \"source\": \"http://data.rechtspraak.nl/uitspraken/content?id=ECLI:NL:CBB:2001:AB0307\", \"replaces\": [\"AB0307\"], \"accessRights\": \"https://rechtspraak.lawreader.nl/vocab/accessRights/public\", \"language\": {\"rdfs:label\": [{\"@value\": \"Nederlands\", \"@language\": \"nl\"}], \"@id\": \"nl\"}}\n"
     ]
    }
   ],
   "source": [
    "print(json.dumps(v))"
   ]
  },
  {
   "cell_type": "code",
   "execution_count": null,
   "metadata": {
    "collapsed": true
   },
   "outputs": [],
   "source": []
  }
 ],
 "metadata": {
  "anaconda-cloud": {},
  "kernelspec": {
   "display_name": "Python [conda env:caselaw]",
   "language": "python",
   "name": "conda-env-caselaw-py"
  },
  "language_info": {
   "codemirror_mode": {
    "name": "ipython",
    "version": 3
   },
   "file_extension": ".py",
   "mimetype": "text/x-python",
   "name": "python",
   "nbconvert_exporter": "python",
   "pygments_lexer": "ipython3",
   "version": "3.5.2"
  }
 },
 "nbformat": 4,
 "nbformat_minor": 0
}
