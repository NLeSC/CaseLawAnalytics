{
 "cells": [
  {
   "cell_type": "code",
   "execution_count": 1,
   "metadata": {
    "collapsed": false
   },
   "outputs": [
    {
     "name": "stderr",
     "output_type": "stream",
     "text": [
      "INFO:rdflib:RDFLib Version: 4.2.1\n"
     ]
    }
   ],
   "source": [
    "%load_ext autoreload\n",
    "%autoreload 2\n",
    "import sys\n",
    "import os\n",
    "sys.path.insert(0, os.path.abspath('..'))\n",
    "import parser.parser as parser\n",
    "from lxml import etree\n",
    "import re\n",
    "import os\n",
    "from SPARQLWrapper import SPARQLWrapper, JSON\n",
    "from rdflib import Graph, plugin\n",
    "from rdflib.serializer import Serializer\n",
    "import rdflib\n",
    "from rdflib.namespace import DCTERMS, RDFS"
   ]
  },
  {
   "cell_type": "code",
   "execution_count": 2,
   "metadata": {
    "collapsed": false
   },
   "outputs": [],
   "source": [
    "rootpath = '/media/sf_VBox_Shared/CaseLaw/OpenDataUitspraken/'\n",
    "#ecli = 'ECLI:NL:HR:2009:BH2815'\n",
    "ecli = 'ECLI:NL:HR:1992:AA2957'\n",
    "element = parser.retrieve_from_any(ecli, rootpath)"
   ]
  },
  {
   "cell_type": "code",
   "execution_count": 15,
   "metadata": {
    "collapsed": false
   },
   "outputs": [],
   "source": [
    "g = Graph()\n",
    "g = parser.parse_xml_element(g, element, ecli)"
   ]
  },
  {
   "cell_type": "code",
   "execution_count": 14,
   "metadata": {
    "collapsed": false
   },
   "outputs": [
    {
     "data": {
      "text/plain": [
       "rdflib.term.URIRef('bwb-dl1.0:v:BWB:BWBV0001506&artikel=7%20%28oud%29&g=1992-12-23')"
      ]
     },
     "execution_count": 14,
     "metadata": {},
     "output_type": "execute_result"
    }
   ],
   "source": [
    "import urllib.parse\n",
    "uri = \"bwb-dl1.0:v:BWB:BWBV0001506&artikel=7 (oud)&g=1992-12-23\"\n",
    "rdflib.URIRef(urllib.parse.quote(uri, safe=';/?:@&=+$,'))"
   ]
  },
  {
   "cell_type": "code",
   "execution_count": 10,
   "metadata": {
    "collapsed": true
   },
   "outputs": [],
   "source": [
    "urllib.parse.quote?"
   ]
  },
  {
   "cell_type": "code",
   "execution_count": 76,
   "metadata": {
    "collapsed": false
   },
   "outputs": [
    {
     "name": "stdout",
     "output_type": "stream",
     "text": [
      "4\n"
     ]
    }
   ],
   "source": [
    "print(len(g))"
   ]
  },
  {
   "cell_type": "code",
   "execution_count": 4,
   "metadata": {
    "collapsed": false
   },
   "outputs": [
    {
     "name": "stdout",
     "output_type": "stream",
     "text": [
      "http://deeplink.rechtspraak.nl/uitspraak?id=ECLI:NL:HR:1992:AA2957 http://purl.org/dc/terms/reference bwb-dl1.0:v:BWB:BWBR0002770&artikel=6&g=1992-12-23\n",
      "bwb-dl1.0:v:BWB:BWBV0001506&artikel=58&g=1992-12-23 http://www.w3.org/2000/01/rdf-schema#label Wetsverwijzing\n",
      "bwb-dl1.0:v:BWB:BWBV0001506&artikel=58&g=1992-12-23 http://purl.org/dc/terms/title Verdrag betreffende de werking van de Europese Unie 58\n",
      "bwb-dl1.0:v:BWB:BWBR0002770&artikel=5&g=1992-12-23 http://www.w3.org/2000/01/rdf-schema#label Wetsverwijzing\n",
      "bwb-dl1.0:v:BWB:BWBR0002770&artikel=3&g=1992-12-23 http://purl.org/dc/terms/title Uitvoeringsbesluit belastingen van rechtsverkeer 3\n",
      "http://deeplink.rechtspraak.nl/uitspraak?id=ECLI:NL:HR:1992:AA2957 http://purl.org/dc/terms/hasVersion WFR 1993/89, 2\n",
      "bwb-dl1.0:v:BWB:BWBR0002770&artikel=5&g=1992-12-23 http://purl.org/dc/terms/title Uitvoeringsbesluit belastingen van rechtsverkeer 5\n",
      "bwb-dl1.0:v:BWB:BWBR0002770&artikel=6&g=1992-12-23 http://www.w3.org/2000/01/rdf-schema#label Wetsverwijzing\n",
      "http://deeplink.rechtspraak.nl/uitspraak?id=ECLI:NL:HR:1992:AA2957 http://purl.org/dc/terms/abstract -\n",
      "http://deeplink.rechtspraak.nl/uitspraak?id=ECLI:NL:HR:1992:AA2957 http://purl.org/dc/terms/hasVersion WFR 1993/89\n",
      "bwb-dl1.0:v:BWB:BWBR0002770&artikel=6&g=1992-12-23 http://purl.org/dc/terms/title Uitvoeringsbesluit belastingen van rechtsverkeer 6\n",
      "bwb-dl1.0:v:BWB:BWBV0001506&artikel=52&g=1992-12-23 http://purl.org/dc/terms/title Verdrag betreffende de werking van de Europese Unie 52\n",
      "http://deeplink.rechtspraak.nl/uitspraak?id=ECLI:NL:HR:1992:AA2957 http://purl.org/dc/terms/reference bwb-dl1.0:v:BWB:BWBR0002770&artikel=4&g=1992-12-23\n",
      "bwb-dl1.0:v:BWB:BWBR0002740&artikel=15&g=1992-12-23 http://www.w3.org/2000/01/rdf-schema#label Wetsverwijzing\n",
      "http://deeplink.rechtspraak.nl/uitspraak?id=ECLI:NL:HR:1992:AA2957 http://purl.org/dc/terms/hasVersion Rechtspraak.nl\n",
      "http://deeplink.rechtspraak.nl/uitspraak?id=ECLI:NL:HR:1992:AA2957 http://purl.org/dc/terms/hasVersion BNB 1993/71\n",
      "bwb-dl1.0:v:BWB:BWBR0002770&artikel=4&g=1992-12-23 http://purl.org/dc/terms/title Uitvoeringsbesluit belastingen van rechtsverkeer 4\n",
      "http://deeplink.rechtspraak.nl/uitspraak?id=ECLI:NL:HR:1992:AA2957 http://purl.org/dc/terms/hasVersion FED 1993/230 met annotatie van J.S. RIJKELS\n",
      "http://deeplink.rechtspraak.nl/uitspraak?id=ECLI:NL:HR:1992:AA2957 http://purl.org/dc/terms/creator http://standaarden.overheid.nl/owms/terms/Hoge_Raad_der_Nederlanden\n",
      "bwb-dl1.0:v:BWB:BWBV0001506&artikel=7 (oud)&g=1992-12-23 http://purl.org/dc/terms/title Verdrag betreffende de werking van de Europese Unie 7 (oud)\n",
      "bwb-dl1.0:v:BWB:BWBR0002740&artikel=15&g=1992-12-23 http://purl.org/dc/terms/title Wet op belastingen van rechtsverkeer 15\n",
      "http://deeplink.rechtspraak.nl/uitspraak?id=ECLI:NL:HR:1992:AA2957 http://purl.org/dc/terms/reference bwb-dl1.0:v:BWB:BWBV0001506&artikel=7 (oud)&g=1992-12-23\n",
      "bwb-dl1.0:v:BWB:BWBR0002770&artikel=4&g=1992-12-23 http://www.w3.org/2000/01/rdf-schema#label Wetsverwijzing\n",
      "http://deeplink.rechtspraak.nl/uitspraak?id=ECLI:NL:HR:1992:AA2957 http://purl.org/dc/terms/hasVersion FED 1993/63\n",
      "http://deeplink.rechtspraak.nl/uitspraak?id=ECLI:NL:HR:1992:AA2957 http://purl.org/dc/terms/hasVersion V-N 1993/1451, 33 met annotatie van Kluwer\n",
      "http://deeplink.rechtspraak.nl/uitspraak?id=ECLI:NL:HR:1992:AA2957 http://purl.org/dc/terms/reference bwb-dl1.0:v:BWB:BWBR0002770&artikel=3&g=1992-12-23\n",
      "http://deeplink.rechtspraak.nl/uitspraak?id=ECLI:NL:HR:1992:AA2957 http://purl.org/dc/terms/title ECLI:NL:HR:1992:AA2957 Hoge Raad , 23-12-1992 / 27843\n",
      "http://deeplink.rechtspraak.nl/uitspraak?id=ECLI:NL:HR:1992:AA2957 http://purl.org/dc/terms/subject http://psi.rechtspraak.nl/rechtsgebied#bestuursrecht_belastingrecht\n",
      "http://deeplink.rechtspraak.nl/uitspraak?id=ECLI:NL:HR:1992:AA2957 http://purl.org/dc/terms/date 1992-12-23\n",
      "http://deeplink.rechtspraak.nl/uitspraak?id=ECLI:NL:HR:1992:AA2957 http://purl.org/dc/terms/type http://psi.rechtspraak.nl/uitspraak\n",
      "http://deeplink.rechtspraak.nl/uitspraak?id=ECLI:NL:HR:1992:AA2957 http://purl.org/dc/terms/reference bwb-dl1.0:v:BWB:BWBV0001506&artikel=52&g=1992-12-23\n",
      "bwb-dl1.0:v:BWB:BWBV0001506&artikel=7 (oud)&g=1992-12-23 http://www.w3.org/2000/01/rdf-schema#label Wetsverwijzing\n",
      "http://deeplink.rechtspraak.nl/uitspraak?id=ECLI:NL:HR:1992:AA2957 http://purl.org/dc/terms/reference bwb-dl1.0:v:BWB:BWBR0002770&artikel=5&g=1992-12-23\n",
      "http://deeplink.rechtspraak.nl/uitspraak?id=ECLI:NL:HR:1992:AA2957 http://purl.org/dc/terms/reference bwb-dl1.0:v:BWB:BWBV0001506&artikel=58&g=1992-12-23\n",
      "http://deeplink.rechtspraak.nl/uitspraak?id=ECLI:NL:HR:1992:AA2957 http://purl.org/dc/terms/description \n",
      "         gewezen op het beroep in cassatie van de besloten vennootschap met beperkte aansprakelijkheid Halliburton Services B.V. te 's-Gravenhage tegen de uitspraak van het Gerechtshof te 's-Gravenhage van 11 december 1990 betreffende de haar ter zake van na te melden verkrijging opgelegde aanslag tot naheffing van overdrachtsbelasting.  1. Aanslag, bezwaar en geding voor het Hof Aan belanghebbende is ter zake van de verkrijging op 22 december 1986 van onroerend goed te Emmen een naheffingsaanslag in de overdrachtsbelasting ten bedrage van f 1.247.868,-- opgelegd, zonder verhoging. Deze aanslag is, na daartegen gemaakt bezwaar, bij uitspraak van de Inspecteur verminderd tot f 190.734,--. Belanghebbende is van de uitspraak van de Inspecteur in beroep gekomen bij het Hof. Het Hof, dat belanghebbende ten onrechte aanduidt als Halliburton Oilfield Services B.V., heeft de uitspraak van de Inspecteur bevestigd. De uitspraak van het Hof is aan dit arrest gehecht.  2. Geding in cassatie Belanghebbende heeft tegen de uitspraak van het Hof beroep in cassatie ingesteld en daarbij een uit vijf onderdelen bestaand middel aangevoerd. Het beroepschrift in cassatie is aan dit arrest gehecht en maakt daarvan deel uit. De Staatssecretaris van Financiën heeft bij vertoogschrift het cassatieberoep bestreden. De Advocaat-Generaal Moltmaker heeft op 2 september 1992 geconcludeerd tot het voorleggen van één of meer vragen aan het Hof van Justitie van de Europese Gemeenschappen.  3. Beoordeling van het middel 3.1. In cassatie kan van het volgende worden uitgegaan: Halliburton Inc., een in de Verenigde Staten van Amerika gevestigde vennootschap, is houdster van onder meer alle aandelen in Halliburton Company Germany GmbH, een in Celle (BRD) gevestigde vennootschap naar het recht van de Bondsrepubliek Duitsland, en in de besloten vennootschap met beperkte aansprakelijkheid Halliburton Oilfield Services B.V. Deze laatste is houdster van alle aandelen in belanghebbende. Bij notariële akte van 22 december 1986 heeft Halliburton Company Germany GmbH haar onderneming voor zover gedreven in haar in Nederland gevestigde vaste inrichting verkocht en overgedragen aan belanghebbende. In deze verkoop en overdracht was begrepen onroerend goed te Emmen ter waarde van f 3.178.926,--. De transactie vond plaats in het kader van een reorganisatie van het internationaal  opererende Halliburton-concern, waarbij men het \"Nederlandse\" deel van de Duitse vennootschap wilde overbrengen naar een Nederlandse vennootschap. 3.2. De onderdelen van het middel hebben alle betrekking op de, door het Hof ontkennend beantwoorde, vraag of de beperking van de vrijstellingsregeling van artikel 15, eerste lid, letter h, van de Wet op belastingen van rechtsverkeer (de Wet) in verbinding met artikel 5 van het Uitvoeringsbesluit belastingen van rechtsverkeer (het Uitvoeringsbesluit) (tekst 1986) tot overdrachten tussen naamloze vennootschappen en/of besloten vennootschappen met beperkte aansprakelijkheid die deel uitmaken van een concern waarvan ook de houdstermaatschappij een van die beide rechtsvormen heeft een door enige een ieder verbindende regel van verdragsrecht verboden discriminatie naar nationaliteit oplevert. 3.3. Onderdeel I bestrijdt onder meer het oordeel van het Hof, dat vorenbedoelde beperking niet in strijd is met het bepaalde in artikel 24, eerste lid, van de Overeenkomst tussen het Koninkrijk der Nederlanden en de Bondsrepubliek Duitsland tot het vermijden van dubbele belasting op het gebied van belastingen van het inkomen en van het vermogen alsmede van verscheidene andere belastingen en tot het regelen van andere aangelegenheden op belastinggebied (Trb. 1959,85). Belanghebbende betoogt in dit verband dat de achterstelling naar nationaliteit daarin bestaat dat de Duitse vennootschap, zij het op indirecte wijze door middel van een belastingheffing bij de verkrijgende partij, aan een hogere (Nederlandse) belasting wordt onderworpen dan een Nederlandse onderdaan in vergelijkbare omstandigheden.  Dit betoog miskent, dat bovengenoemde bepaling uitsluitend verbiedt om bij de belastingheffing onderscheid te maken naar de nationaliteit van de belastingplichtige. Een dergelijk onderscheid wordt noch in de Wet, bepalende dat belasting wordt geheven van de verkrijger - hij die binnen het Rijk gelegen onroerende goederen of zakelijke rechten daarop verkrijgt - noch in het Uitvoeringsbesluit gemaakt. Onderdeel I faalt derhalve in zoverre. 3.4. Omdat belanghebbende slechts ingeval onderdeel V slaagt belang heeft bij hetgeen overigens in onderdeel I is aangevoerd en bij de onderdelen II, III en IV, zal nu eerst onderdeel V worden besproken, waarbij veronderstellenderwijs ervan zal worden uitgegaan dat de rechtsvorm van de vervreemder - Halliburton Company Germany GmbH - geen belemmering vormt voor toepassing van de vrijstellingsregeling. 3.5. Onderdeel V richt zich tegen de opvatting van het Hof, dat het voor het niet van toepassing zijn van de vrijstellingsregeling van belang is dat de rechtsvorm van de moedermaatschappij van belanghebbende - Halliburton Inc. - niet die van een naamloze of een besloten vennootschap is maar dat dit op zich met nationaliteit niets te maken heeft. 3.6. Artikel 5, lid 3, in verbinding met lid 4, van het Uitvoeringsbesluit beperkt de vrijstelling inderdaad tot verkrijgingen bij interne reorganisaties binnen concerns waarvan de moedermaatschappij een naamloze of een besloten vennootschap is. Terecht echter gaat onderdeel V ervan uit dat deze beperking in dit geval - dat wil zeggen: uitgaande van de in 3.4 vermelde veronderstelling - onverenigbaar is met het bepaalde in artikel XXV, vierde lid van het Verdrag tussen het Koninkrijk der Nederlanden en de Verenigde Staten van Amerika met betrekking tot belastingen van inkomsten en bepaalde andere belastingen (Trb. 1955,124). Gevolg van de beperking is immers dat belanghebbende in Nederland aan een zwaardere belasting wordt onderworpen dan het geval zou zijn wanneer haar moedermaatschappij een naamloze of een besloten vennootschap geweest zou zijn, hetgeen genoemde verdragsbepaling verbiedt. De omstandigheid dat Halliburton Inc. slechts middellijk houdster is van alle aandelen in belanghebbende brengt gelet op de strekking van die bepaling in dit oordeel geen wijziging. Onderdeel V is derhalve in zoverre terecht voorgesteld. 3.7. Daarmee is echter nog niet beslist dat het ook tot cassatie kan leiden. Of dat het geval is hangt af van de beantwoording van de in de overige onderdelen aan de orde gestelde vraag of het juist is dat, zoals in 3.4 veronderstellenderwijs werd aangenomen, de rechtsvorm van Halliburton Company Germany GmbH geen belemmering vormt voor toepassing van de vrijstellingsregeling. Daarbij zijn vragen van uitlegging van het EEG-Verdrag aan de orde. De Hoge Raad zal daarom ingevolge artikel 177, eerste en derde lid, van het Verdrag tot oprichting van de Europese Economische Gemeenschap aan het Hof van Justitie van de Europese Gemeenschappen een prejudiciële uitspraak verzoeken omtrent de hierna onder 4 vermelde vraag.  4. Beslissing De Hoge Raad verzoekt het Hof van Justitie van de Europese Gemeenschappen uitspraak te doen over de volgende vraag: Als een Lid-Staat een belasting heft ter zake van de verkrijging van in die Staat gelegen onroerende goederen of van zakelijke rechten daarop en voor  een verkrijging in het kader van een interne reorganisatie een vrijstelling kent - verwezen zij naar de artikelen 2 en 15, eerste lid, letter h, van de Wet op belastingen van rechtsverkeer in verbinding met artikel 5 van het Uitvoeringsbesluit belastingen van rechtsverkeer (tekst 1986) -, laat dan artikel 7 van het Verdrag tot oprichting van de Europese Economische Gemeenschap, mede gelet op de artikelen 52 tot en met 58 van het Verdrag, toe dat die vrijstelling wel wordt toegekend ingeval wordt verkregen van een naar het recht van die Lid-Staat opgerichte vennootschap - hier een naamloze vennootschap of een besloten vennootschap met beperkte aansprakelijkheid - maar niet als van een overeenkomstige, naar het recht van een andere Lid-Staat opgerichte en in die andere Lid-Staat gevestigde vennootschap - hier een Gesellschaft mit beschränkter Haftung - wordt verkregen? De Hoge Raad houdt iedere verdere uitspraak aan en schorst het geding totdat het Hof van Justitie van de Europese Gemeenschappen naar aanleiding van het vorenomschreven verzoek uitspraak zal hebben gedaan.  Dit arrest is gewezen door de vice-president Stoffer als voorzitter, en de raadsheren Wildeboer, Urlings, Zuurmond en Fleers, in tegenwoordigheid van de waarnemend griffier Van der Vegt, in raadkamer van 23 december 1992.\n",
      "http://deeplink.rechtspraak.nl/uitspraak?id=ECLI:NL:HR:1992:AA2957 http://purl.org/dc/terms/reference bwb-dl1.0:v:BWB:BWBR0002740&artikel=15&g=1992-12-23\n",
      "bwb-dl1.0:v:BWB:BWBR0002770&artikel=3&g=1992-12-23 http://www.w3.org/2000/01/rdf-schema#label Wetsverwijzing\n",
      "bwb-dl1.0:v:BWB:BWBV0001506&artikel=52&g=1992-12-23 http://www.w3.org/2000/01/rdf-schema#label Wetsverwijzing\n"
     ]
    }
   ],
   "source": [
    "for s, p, o in g:\n",
    "    print(s, p, o)"
   ]
  },
  {
   "cell_type": "code",
   "execution_count": 63,
   "metadata": {
    "collapsed": false
   },
   "outputs": [],
   "source": [
    "g = Graph()\n",
    "rdf = list(element.iterdescendants('{*}RDF'))[0]\n",
    "nsmap = rdf.nsmap\n",
    "for k, v in nsmap.items():\n",
    "    g.bind(k, v)\n",
    "descriptions = list(rdf.iterchildren('{*}Description'))"
   ]
  },
  {
   "cell_type": "code",
   "execution_count": 66,
   "metadata": {
    "collapsed": false
   },
   "outputs": [
    {
     "data": {
      "text/plain": [
       "[<Element {http://www.w3.org/1999/02/22-rdf-syntax-ns#}Description at 0x7f3856d7b908>,\n",
       " <Element {http://www.w3.org/1999/02/22-rdf-syntax-ns#}Description at 0x7f3856d7b9c8>]"
      ]
     },
     "execution_count": 66,
     "metadata": {},
     "output_type": "execute_result"
    }
   ],
   "source": [
    "descriptions"
   ]
  },
  {
   "cell_type": "code",
   "execution_count": 68,
   "metadata": {
    "collapsed": false
   },
   "outputs": [
    {
     "data": {
      "text/plain": [
       "<Graph identifier=N036626edc64a4d1f8351084d4de89f59 (<class 'rdflib.graph.Graph'>)>"
      ]
     },
     "execution_count": 68,
     "metadata": {},
     "output_type": "execute_result"
    }
   ],
   "source": [
    "ecli_node = parser.get_identifier(descriptions, ecli)\n",
    "#parser.add_version(descriptions, g, ecli_node)\n",
    "parser.add_reference(descriptions, g, ecli_node)"
   ]
  },
  {
   "cell_type": "code",
   "execution_count": 69,
   "metadata": {
    "collapsed": false
   },
   "outputs": [
    {
     "name": "stdout",
     "output_type": "stream",
     "text": [
      "http://purl.org/dc/terms/title Wet op het consumentenkrediet\n",
      "http://www.w3.org/2000/01/rdf-schema#label Wetsverwijzing\n",
      "http://purl.org/dc/terms/reference bwb-dl1.0:v:BWB:BWBR0004815&g=2009-06-05\n"
     ]
    }
   ],
   "source": [
    "for s, p, o in g:\n",
    "    print(p, o)"
   ]
  },
  {
   "cell_type": "code",
   "execution_count": 60,
   "metadata": {
    "collapsed": false
   },
   "outputs": [],
   "source": [
    "reference_list = parser.get_from_descriptions(descriptions, 'dcterms', 'references')\n",
    "for reference in reference_list:\n",
    "    g = add_reference(reference, g, ecli_node)"
   ]
  },
  {
   "cell_type": "code",
   "execution_count": 62,
   "metadata": {
    "collapsed": false
   },
   "outputs": [
    {
     "name": "stdout",
     "output_type": "stream",
     "text": [
      "bwb-dl1.0:v:BWB:BWBR0004815&g=2009-06-05 http://www.w3.org/2000/01/rdf-schema#label Wetsverwijzing\n",
      "bwb-dl1.0:v:BWB:BWBR0004815&g=2009-06-05 http://purl.org/dc/terms/title Wet op het consumentenkrediet\n",
      "http://deeplink.rechtspraak.nl/uitspraak?id=ECLI:NL:HR:2009:BH2815 http://purl.org/dc/terms/reference bwb-dl1.0:v:BWB:BWBR0004815&g=2009-06-05\n"
     ]
    }
   ],
   "source": [
    "for s, p, o in g:\n",
    "    print(s, p, o)"
   ]
  },
  {
   "cell_type": "code",
   "execution_count": 51,
   "metadata": {
    "collapsed": false
   },
   "outputs": [
    {
     "data": {
      "text/plain": [
       "'1.0:v:BWB:BWBR0004815&g=2009-06-05'"
      ]
     },
     "execution_count": 51,
     "metadata": {},
     "output_type": "execute_result"
    }
   ],
   "source": [
    "resourceIdentifier"
   ]
  },
  {
   "cell_type": "code",
   "execution_count": 35,
   "metadata": {
    "collapsed": false
   },
   "outputs": [
    {
     "name": "stdout",
     "output_type": "stream",
     "text": [
      "<dcterms:references xmlns:dcterms=\"http://purl.org/dc/terms/\" xmlns:rdfs=\"http://www.w3.org/2000/01/rdf-schema#\" xmlns:bwb=\"bwb-dl\" xmlns:rdf=\"http://www.w3.org/1999/02/22-rdf-syntax-ns#\" xmlns:ecli=\"https://e-justice.europa.eu/ecli\" xmlns:tr=\"http://tuchtrecht.overheid.nl/\" xmlns:eu=\"http://publications.europa.eu/celex/\" xmlns:cvdr=\"http://decentrale.regelgeving.overheid.nl/cvdr/\" xmlns:psi=\"http://psi.rechtspraak.nl/\" rdfs:label=\"Wetsverwijzing\" bwb:resourceIdentifier=\"1.0:v:BWB:BWBR0004815&amp;g=2009-06-05\">Wet op het consumentenkrediet</dcterms:references>\n",
      "      \n",
      "\n"
     ]
    }
   ],
   "source": [
    "xmlstr = etree.tostring(reference, encoding=str, pretty_print=True)\n",
    "print(xmlstr)"
   ]
  },
  {
   "cell_type": "code",
   "execution_count": 22,
   "metadata": {
    "collapsed": false
   },
   "outputs": [
    {
     "data": {
      "text/plain": [
       "{'bwb': rdflib.term.URIRef('bwb-dl'),\n",
       " 'cvdr': rdflib.term.URIRef('http://decentrale.regelgeving.overheid.nl/cvdr/'),\n",
       " 'dcterms': rdflib.term.URIRef('http://purl.org/dc/terms/'),\n",
       " 'ecli': rdflib.term.URIRef('https://e-justice.europa.eu/ecli'),\n",
       " 'eu': rdflib.term.URIRef('http://publications.europa.eu/celex/'),\n",
       " 'ns1': rdflib.term.URIRef('bwb:'),\n",
       " 'psi': rdflib.term.URIRef('http://psi.rechtspraak.nl/'),\n",
       " 'rdf': rdflib.term.URIRef('http://www.w3.org/1999/02/22-rdf-syntax-ns#'),\n",
       " 'rdfs': rdflib.term.URIRef('http://www.w3.org/2000/01/rdf-schema#'),\n",
       " 'tr': rdflib.term.URIRef('http://tuchtrecht.overheid.nl/'),\n",
       " 'xml': rdflib.term.URIRef('http://www.w3.org/XML/1998/namespace'),\n",
       " 'xsd': rdflib.term.URIRef('http://www.w3.org/2001/XMLSchema#')}"
      ]
     },
     "execution_count": 22,
     "metadata": {},
     "output_type": "execute_result"
    }
   ],
   "source": [
    "dict(g.namespaces())"
   ]
  },
  {
   "cell_type": "code",
   "execution_count": null,
   "metadata": {
    "collapsed": true
   },
   "outputs": [],
   "source": []
  }
 ],
 "metadata": {
  "anaconda-cloud": {},
  "kernelspec": {
   "display_name": "Python [conda env:caselaw]",
   "language": "python",
   "name": "conda-env-caselaw-py"
  },
  "language_info": {
   "codemirror_mode": {
    "name": "ipython",
    "version": 3
   },
   "file_extension": ".py",
   "mimetype": "text/x-python",
   "name": "python",
   "nbconvert_exporter": "python",
   "pygments_lexer": "ipython3",
   "version": "3.5.2"
  }
 },
 "nbformat": 4,
 "nbformat_minor": 0
}
