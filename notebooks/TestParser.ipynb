{
 "cells": [
  {
   "cell_type": "code",
   "execution_count": 2,
   "metadata": {
    "collapsed": false
   },
   "outputs": [
    {
     "name": "stderr",
     "output_type": "stream",
     "text": [
      "INFO:rdflib:RDFLib Version: 4.2.1\n"
     ]
    }
   ],
   "source": [
    "%load_ext autoreload\n",
    "%autoreload 2\n",
    "import sys\n",
    "import os\n",
    "sys.path.insert(0, os.path.abspath('..'))\n",
    "import parser.parser as parser\n",
    "from lxml import etree\n",
    "import re\n",
    "import os\n",
    "from SPARQLWrapper import SPARQLWrapper, JSON\n",
    "from rdflib import Graph, plugin\n",
    "from rdflib.serializer import Serializer\n",
    "import rdflib\n",
    "from rdflib.namespace import DCTERMS"
   ]
  },
  {
   "cell_type": "code",
   "execution_count": 3,
   "metadata": {
    "collapsed": false
   },
   "outputs": [],
   "source": [
    "rootpath = '/media/sf_VBox_Shared/CaseLaw/OpenDataUitspraken/'\n",
    "ecli = 'ECLI:NL:HR:2009:BH2815'\n",
    "element = parser.retrieve_from_any(ecli, rootpath)"
   ]
  },
  {
   "cell_type": "code",
   "execution_count": 4,
   "metadata": {
    "collapsed": false
   },
   "outputs": [],
   "source": [
    "g = Graph()\n",
    "rdf = list(element.iterdescendants('{*}RDF'))[0]\n",
    "nsmap = rdf.nsmap\n",
    "for k, v in nsmap.items():\n",
    "    g.bind(k, v)\n",
    "descriptions = list(rdf.iterchildren('{*}Description'))"
   ]
  },
  {
   "cell_type": "code",
   "execution_count": 5,
   "metadata": {
    "collapsed": false
   },
   "outputs": [
    {
     "data": {
      "text/plain": [
       "[<Element {http://www.w3.org/1999/02/22-rdf-syntax-ns#}Description at 0x7f8f92fd5fc8>,\n",
       " <Element {http://www.w3.org/1999/02/22-rdf-syntax-ns#}Description at 0x7f8f92fdc0c8>]"
      ]
     },
     "execution_count": 5,
     "metadata": {},
     "output_type": "execute_result"
    }
   ],
   "source": [
    "descriptions"
   ]
  },
  {
   "cell_type": "code",
   "execution_count": 6,
   "metadata": {
    "collapsed": false
   },
   "outputs": [
    {
     "name": "stdout",
     "output_type": "stream",
     "text": [
      "http://psi.rechtspraak.nl/vindplaats\n"
     ]
    }
   ],
   "source": [
    "version_list = parser.get_from_descriptions(descriptions, 'dcterms', 'hasVersion')\n",
    "for version in version_list:\n",
    "    value = version.attrib.get('resourceIdentifier', None)\n",
    "    if value == 'http://psi.rechtspraak.nl/vindplaats':\n",
    "        print(rdflib.URIRef(value))"
   ]
  },
  {
   "cell_type": "code",
   "execution_count": 7,
   "metadata": {
    "collapsed": false
   },
   "outputs": [
    {
     "name": "stdout",
     "output_type": "stream",
     "text": [
      "Rechtspraak.nl\n",
      "RvdW 2009, 683\n",
      "JOR 2009/199 met annotatie van mr. C.W.M. Lieverse onder «JOR» 2004/105\n",
      "JA 2009/117 met annotatie van W.H. van Boom\n",
      "NJB 2009, 1206\n",
      "JONDR 2009, 322\n",
      "TGMA 2009/17\n",
      "NJ 2012/182 met annotatie van J.B.M. Vranken\n",
      "JE 2009, 322\n"
     ]
    }
   ],
   "source": [
    "for l in parser.get_children(version, 'rdf', 'list'):\n",
    "    for i in parser.get_children(l, 'rdf', 'li'):\n",
    "        print(i.text)"
   ]
  },
  {
   "cell_type": "code",
   "execution_count": 8,
   "metadata": {
    "collapsed": false
   },
   "outputs": [
    {
     "data": {
      "text/plain": [
       "<Graph identifier=N48b598291b3a4679bbdd3a64f514e039 (<class 'rdflib.graph.Graph'>)>"
      ]
     },
     "execution_count": 8,
     "metadata": {},
     "output_type": "execute_result"
    }
   ],
   "source": [
    "ecli_node = parser.get_identifier(descriptions, ecli)\n",
    "parser.add_version(descriptions, g, ecli_node)"
   ]
  },
  {
   "cell_type": "code",
   "execution_count": 9,
   "metadata": {
    "collapsed": false
   },
   "outputs": [
    {
     "name": "stdout",
     "output_type": "stream",
     "text": [
      "http://purl.org/dc/terms/hasVersion RvdW 2009, 683\n",
      "http://purl.org/dc/terms/hasVersion Rechtspraak.nl\n",
      "http://purl.org/dc/terms/hasVersion JOR 2009/199 met annotatie van mr. C.W.M. Lieverse onder «JOR» 2004/105\n",
      "http://purl.org/dc/terms/hasVersion JE 2009, 322\n",
      "http://purl.org/dc/terms/hasVersion JONDR 2009, 322\n",
      "http://purl.org/dc/terms/hasVersion JA 2009/117 met annotatie van W.H. van Boom\n",
      "http://purl.org/dc/terms/hasVersion NJB 2009, 1206\n",
      "http://purl.org/dc/terms/hasVersion NJ 2012/182 met annotatie van J.B.M. Vranken\n",
      "http://purl.org/dc/terms/hasVersion TGMA 2009/17\n"
     ]
    }
   ],
   "source": [
    "for s, p, o in g:\n",
    "    print(p, o)"
   ]
  },
  {
   "cell_type": "code",
   "execution_count": 10,
   "metadata": {
    "collapsed": false
   },
   "outputs": [
    {
     "ename": "TypeError",
     "evalue": "argument of type 'NoneType' is not iterable",
     "output_type": "error",
     "traceback": [
      "\u001b[0;31m---------------------------------------------------------------------------\u001b[0m",
      "\u001b[0;31mTypeError\u001b[0m                                 Traceback (most recent call last)",
      "\u001b[0;32m<ipython-input-10-b07bb6d0382d>\u001b[0m in \u001b[0;36m<module>\u001b[0;34m()\u001b[0m\n\u001b[1;32m      3\u001b[0m     \u001b[0muri\u001b[0m \u001b[0;34m=\u001b[0m \u001b[0mreference\u001b[0m\u001b[0;34m.\u001b[0m\u001b[0mattrib\u001b[0m\u001b[0;34m.\u001b[0m\u001b[0mget\u001b[0m\u001b[0;34m(\u001b[0m\u001b[0;34m'bwb:resourceIdentifier'\u001b[0m\u001b[0;34m,\u001b[0m \u001b[0;32mNone\u001b[0m\u001b[0;34m)\u001b[0m\u001b[0;34m\u001b[0m\u001b[0m\n\u001b[1;32m      4\u001b[0m     \u001b[0mdtype\u001b[0m \u001b[0;34m=\u001b[0m \u001b[0mreference\u001b[0m\u001b[0;34m.\u001b[0m\u001b[0mattrib\u001b[0m\u001b[0;34m.\u001b[0m\u001b[0mget\u001b[0m\u001b[0;34m(\u001b[0m\u001b[0;34m'rdfs:label'\u001b[0m\u001b[0;34m,\u001b[0m \u001b[0;32mNone\u001b[0m\u001b[0;34m)\u001b[0m\u001b[0;34m\u001b[0m\u001b[0m\n\u001b[0;32m----> 5\u001b[0;31m     \u001b[0mg\u001b[0m\u001b[0;34m.\u001b[0m\u001b[0madd\u001b[0m\u001b[0;34m(\u001b[0m\u001b[0;34m(\u001b[0m\u001b[0mecli_node\u001b[0m\u001b[0;34m,\u001b[0m \u001b[0mDCTERMS\u001b[0m\u001b[0;34m.\u001b[0m\u001b[0mreference\u001b[0m\u001b[0;34m,\u001b[0m \u001b[0mrdflib\u001b[0m\u001b[0;34m.\u001b[0m\u001b[0mURIRef\u001b[0m\u001b[0;34m(\u001b[0m\u001b[0muri\u001b[0m\u001b[0;34m)\u001b[0m\u001b[0;34m)\u001b[0m\u001b[0;34m)\u001b[0m\u001b[0;34m\u001b[0m\u001b[0m\n\u001b[0m\u001b[1;32m      6\u001b[0m     \u001b[0mg\u001b[0m\u001b[0;34m.\u001b[0m\u001b[0madd\u001b[0m\u001b[0;34m(\u001b[0m\u001b[0;34m(\u001b[0m\u001b[0mrdflib\u001b[0m\u001b[0;34m.\u001b[0m\u001b[0mURIRef\u001b[0m\u001b[0;34m(\u001b[0m\u001b[0muri\u001b[0m\u001b[0;34m)\u001b[0m\u001b[0;34m,\u001b[0m \u001b[0mDCTERMS\u001b[0m\u001b[0;34m.\u001b[0m\u001b[0mtype\u001b[0m\u001b[0;34m,\u001b[0m \u001b[0mrdflib\u001b[0m\u001b[0;34m.\u001b[0m\u001b[0mLiteral\u001b[0m\u001b[0;34m(\u001b[0m\u001b[0mdtype\u001b[0m\u001b[0;34m)\u001b[0m\u001b[0;34m)\u001b[0m\u001b[0;34m)\u001b[0m\u001b[0;34m\u001b[0m\u001b[0m\n",
      "\u001b[0;32m/home/dafne/anaconda2/envs/caselaw/lib/python3.5/site-packages/rdflib/term.py\u001b[0m in \u001b[0;36m__new__\u001b[0;34m(cls, value, base)\u001b[0m\n\u001b[1;32m    204\u001b[0m                     \u001b[0mvalue\u001b[0m \u001b[0;34m+=\u001b[0m \u001b[0;34m\"#\"\u001b[0m\u001b[0;34m\u001b[0m\u001b[0m\n\u001b[1;32m    205\u001b[0m \u001b[0;34m\u001b[0m\u001b[0m\n\u001b[0;32m--> 206\u001b[0;31m         \u001b[0;32mif\u001b[0m \u001b[0;32mnot\u001b[0m \u001b[0m_is_valid_uri\u001b[0m\u001b[0;34m(\u001b[0m\u001b[0mvalue\u001b[0m\u001b[0;34m)\u001b[0m\u001b[0;34m:\u001b[0m\u001b[0;34m\u001b[0m\u001b[0m\n\u001b[0m\u001b[1;32m    207\u001b[0m             \u001b[0mlogger\u001b[0m\u001b[0;34m.\u001b[0m\u001b[0mwarning\u001b[0m\u001b[0;34m(\u001b[0m\u001b[0;34m'%s does not look like a valid URI, trying to serialize this will break.'\u001b[0m\u001b[0;34m%\u001b[0m\u001b[0mvalue\u001b[0m\u001b[0;34m)\u001b[0m\u001b[0;34m\u001b[0m\u001b[0m\n\u001b[1;32m    208\u001b[0m \u001b[0;34m\u001b[0m\u001b[0m\n",
      "\u001b[0;32m/home/dafne/anaconda2/envs/caselaw/lib/python3.5/site-packages/rdflib/term.py\u001b[0m in \u001b[0;36m_is_valid_uri\u001b[0;34m(uri)\u001b[0m\n\u001b[1;32m     75\u001b[0m \u001b[0;32mdef\u001b[0m \u001b[0m_is_valid_uri\u001b[0m\u001b[0;34m(\u001b[0m\u001b[0muri\u001b[0m\u001b[0;34m)\u001b[0m\u001b[0;34m:\u001b[0m\u001b[0;34m\u001b[0m\u001b[0m\n\u001b[1;32m     76\u001b[0m     \u001b[0;32mfor\u001b[0m \u001b[0mc\u001b[0m \u001b[0;32min\u001b[0m \u001b[0m_invalid_uri_chars\u001b[0m\u001b[0;34m:\u001b[0m\u001b[0;34m\u001b[0m\u001b[0m\n\u001b[0;32m---> 77\u001b[0;31m         \u001b[0;32mif\u001b[0m \u001b[0mc\u001b[0m \u001b[0;32min\u001b[0m \u001b[0muri\u001b[0m\u001b[0;34m:\u001b[0m \u001b[0;32mreturn\u001b[0m \u001b[0;32mFalse\u001b[0m\u001b[0;34m\u001b[0m\u001b[0m\n\u001b[0m\u001b[1;32m     78\u001b[0m     \u001b[0;32mreturn\u001b[0m \u001b[0;32mTrue\u001b[0m\u001b[0;34m\u001b[0m\u001b[0m\n\u001b[1;32m     79\u001b[0m \u001b[0;34m\u001b[0m\u001b[0m\n",
      "\u001b[0;31mTypeError\u001b[0m: argument of type 'NoneType' is not iterable"
     ]
    }
   ],
   "source": [
    "reference_list = parser.get_from_descriptions(descriptions, 'dcterms', 'references')\n",
    "for reference in reference_list:\n",
    "    uri = reference.attrib.get('bwb:resourceIdentifier', None)\n",
    "    dtype = reference.attrib.get('rdfs:label', None)\n",
    "    g.add((ecli_node, DCTERMS.reference, rdflib.URIRef(uri)))\n",
    "    g.add((rdflib.URIRef(uri), DCTERMS.type, rdflib.Literal(dtype)))"
   ]
  },
  {
   "cell_type": "code",
   "execution_count": 28,
   "metadata": {
    "collapsed": false
   },
   "outputs": [
    {
     "data": {
      "text/plain": [
       "{'{http://www.w3.org/2000/01/rdf-schema#}label': 'Wetsverwijzing', '{bwb-dl}resourceIdentifier': '1.0:v:BWB:BWBR0004815&g=2009-06-05'}"
      ]
     },
     "execution_count": 28,
     "metadata": {},
     "output_type": "execute_result"
    }
   ],
   "source": [
    "reference.attrib.get(g.na'bwb'+'resourceIdentifier', None)"
   ]
  },
  {
   "cell_type": "code",
   "execution_count": 12,
   "metadata": {
    "collapsed": false
   },
   "outputs": [
    {
     "data": {
      "text/plain": [
       "'<bwb:resourceIdentifier>'"
      ]
     },
     "execution_count": 12,
     "metadata": {},
     "output_type": "execute_result"
    }
   ],
   "source": [
    "g.namespace_manager.normalizeUri('bwb:resourceIdentifier')"
   ]
  },
  {
   "cell_type": "code",
   "execution_count": null,
   "metadata": {
    "collapsed": true
   },
   "outputs": [],
   "source": []
  }
 ],
 "metadata": {
  "anaconda-cloud": {},
  "kernelspec": {
   "display_name": "Python [conda env:caselaw]",
   "language": "python",
   "name": "conda-env-caselaw-py"
  },
  "language_info": {
   "codemirror_mode": {
    "name": "ipython",
    "version": 3
   },
   "file_extension": ".py",
   "mimetype": "text/x-python",
   "name": "python",
   "nbconvert_exporter": "python",
   "pygments_lexer": "ipython3",
   "version": "3.5.2"
  }
 },
 "nbformat": 4,
 "nbformat_minor": 0
}
