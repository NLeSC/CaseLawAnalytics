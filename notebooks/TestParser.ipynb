{
 "cells": [
  {
   "cell_type": "code",
   "execution_count": 46,
   "metadata": {
    "collapsed": false
   },
   "outputs": [
    {
     "name": "stdout",
     "output_type": "stream",
     "text": [
      "The autoreload extension is already loaded. To reload it, use:\n",
      "  %reload_ext autoreload\n"
     ]
    }
   ],
   "source": [
    "%load_ext autoreload\n",
    "%autoreload 2\n",
    "import sys\n",
    "import os\n",
    "sys.path.insert(0, os.path.abspath('..'))\n",
    "import parser.parser as parser\n",
    "from lxml import etree\n",
    "import re\n",
    "import os\n",
    "from SPARQLWrapper import SPARQLWrapper, JSON\n",
    "from rdflib import Graph, plugin\n",
    "from rdflib.serializer import Serializer\n",
    "import rdflib\n",
    "from rdflib.namespace import DCTERMS, RDFS"
   ]
  },
  {
   "cell_type": "code",
   "execution_count": 74,
   "metadata": {
    "collapsed": false
   },
   "outputs": [],
   "source": [
    "rootpath = '/media/sf_VBox_Shared/CaseLaw/OpenDataUitspraken/'\n",
    "#ecli = 'ECLI:NL:HR:2009:BH2815'\n",
    "ecli = 'ECLI:NL:XX:2006:AY0534'\n",
    "element = parser.retrieve_from_any(ecli, rootpath)"
   ]
  },
  {
   "cell_type": "code",
   "execution_count": 75,
   "metadata": {
    "collapsed": false
   },
   "outputs": [],
   "source": [
    "g = Graph()\n",
    "g = parser.parse_xml_element(g, element, ecli)"
   ]
  },
  {
   "cell_type": "code",
   "execution_count": 76,
   "metadata": {
    "collapsed": false
   },
   "outputs": [
    {
     "name": "stdout",
     "output_type": "stream",
     "text": [
      "4\n"
     ]
    }
   ],
   "source": [
    "print(len(g))"
   ]
  },
  {
   "cell_type": "code",
   "execution_count": 78,
   "metadata": {
    "collapsed": false
   },
   "outputs": [
    {
     "name": "stdout",
     "output_type": "stream",
     "text": [
      "http://deeplink.rechtspraak.nl/uitspraak?ECLI:NL:XX:2006:AY0534 http://purl.org/dc/terms/type http://psi.rechtspraak.nl/uitspraak\n",
      "http://deeplink.rechtspraak.nl/uitspraak?ECLI:NL:XX:2006:AY0534 http://purl.org/dc/terms/hasVersion NJ 2006, 593 met annotatie van M.R. Mok\n",
      "http://deeplink.rechtspraak.nl/uitspraak?ECLI:NL:XX:2006:AY0534 http://purl.org/dc/terms/date 2006-07-04\n",
      "http://deeplink.rechtspraak.nl/uitspraak?ECLI:NL:XX:2006:AY0534 http://purl.org/dc/terms/hasVersion RvdW 2006, 755\n"
     ]
    }
   ],
   "source": [
    "for s, p, o in g:\n",
    "    print(s, p, o)"
   ]
  },
  {
   "cell_type": "code",
   "execution_count": 63,
   "metadata": {
    "collapsed": false
   },
   "outputs": [],
   "source": [
    "g = Graph()\n",
    "rdf = list(element.iterdescendants('{*}RDF'))[0]\n",
    "nsmap = rdf.nsmap\n",
    "for k, v in nsmap.items():\n",
    "    g.bind(k, v)\n",
    "descriptions = list(rdf.iterchildren('{*}Description'))"
   ]
  },
  {
   "cell_type": "code",
   "execution_count": 66,
   "metadata": {
    "collapsed": false
   },
   "outputs": [
    {
     "data": {
      "text/plain": [
       "[<Element {http://www.w3.org/1999/02/22-rdf-syntax-ns#}Description at 0x7f3856d7b908>,\n",
       " <Element {http://www.w3.org/1999/02/22-rdf-syntax-ns#}Description at 0x7f3856d7b9c8>]"
      ]
     },
     "execution_count": 66,
     "metadata": {},
     "output_type": "execute_result"
    }
   ],
   "source": [
    "descriptions"
   ]
  },
  {
   "cell_type": "code",
   "execution_count": 68,
   "metadata": {
    "collapsed": false
   },
   "outputs": [
    {
     "data": {
      "text/plain": [
       "<Graph identifier=N036626edc64a4d1f8351084d4de89f59 (<class 'rdflib.graph.Graph'>)>"
      ]
     },
     "execution_count": 68,
     "metadata": {},
     "output_type": "execute_result"
    }
   ],
   "source": [
    "ecli_node = parser.get_identifier(descriptions, ecli)\n",
    "#parser.add_version(descriptions, g, ecli_node)\n",
    "parser.add_reference(descriptions, g, ecli_node)"
   ]
  },
  {
   "cell_type": "code",
   "execution_count": 69,
   "metadata": {
    "collapsed": false
   },
   "outputs": [
    {
     "name": "stdout",
     "output_type": "stream",
     "text": [
      "http://purl.org/dc/terms/title Wet op het consumentenkrediet\n",
      "http://www.w3.org/2000/01/rdf-schema#label Wetsverwijzing\n",
      "http://purl.org/dc/terms/reference bwb-dl1.0:v:BWB:BWBR0004815&g=2009-06-05\n"
     ]
    }
   ],
   "source": [
    "for s, p, o in g:\n",
    "    print(p, o)"
   ]
  },
  {
   "cell_type": "code",
   "execution_count": 60,
   "metadata": {
    "collapsed": false
   },
   "outputs": [],
   "source": [
    "reference_list = parser.get_from_descriptions(descriptions, 'dcterms', 'references')\n",
    "for reference in reference_list:\n",
    "    g = add_reference(reference, g, ecli_node)"
   ]
  },
  {
   "cell_type": "code",
   "execution_count": 62,
   "metadata": {
    "collapsed": false
   },
   "outputs": [
    {
     "name": "stdout",
     "output_type": "stream",
     "text": [
      "bwb-dl1.0:v:BWB:BWBR0004815&g=2009-06-05 http://www.w3.org/2000/01/rdf-schema#label Wetsverwijzing\n",
      "bwb-dl1.0:v:BWB:BWBR0004815&g=2009-06-05 http://purl.org/dc/terms/title Wet op het consumentenkrediet\n",
      "http://deeplink.rechtspraak.nl/uitspraak?id=ECLI:NL:HR:2009:BH2815 http://purl.org/dc/terms/reference bwb-dl1.0:v:BWB:BWBR0004815&g=2009-06-05\n"
     ]
    }
   ],
   "source": [
    "for s, p, o in g:\n",
    "    print(s, p, o)"
   ]
  },
  {
   "cell_type": "code",
   "execution_count": 51,
   "metadata": {
    "collapsed": false
   },
   "outputs": [
    {
     "data": {
      "text/plain": [
       "'1.0:v:BWB:BWBR0004815&g=2009-06-05'"
      ]
     },
     "execution_count": 51,
     "metadata": {},
     "output_type": "execute_result"
    }
   ],
   "source": [
    "resourceIdentifier"
   ]
  },
  {
   "cell_type": "code",
   "execution_count": 35,
   "metadata": {
    "collapsed": false
   },
   "outputs": [
    {
     "name": "stdout",
     "output_type": "stream",
     "text": [
      "<dcterms:references xmlns:dcterms=\"http://purl.org/dc/terms/\" xmlns:rdfs=\"http://www.w3.org/2000/01/rdf-schema#\" xmlns:bwb=\"bwb-dl\" xmlns:rdf=\"http://www.w3.org/1999/02/22-rdf-syntax-ns#\" xmlns:ecli=\"https://e-justice.europa.eu/ecli\" xmlns:tr=\"http://tuchtrecht.overheid.nl/\" xmlns:eu=\"http://publications.europa.eu/celex/\" xmlns:cvdr=\"http://decentrale.regelgeving.overheid.nl/cvdr/\" xmlns:psi=\"http://psi.rechtspraak.nl/\" rdfs:label=\"Wetsverwijzing\" bwb:resourceIdentifier=\"1.0:v:BWB:BWBR0004815&amp;g=2009-06-05\">Wet op het consumentenkrediet</dcterms:references>\n",
      "      \n",
      "\n"
     ]
    }
   ],
   "source": [
    "xmlstr = etree.tostring(reference, encoding=str, pretty_print=True)\n",
    "print(xmlstr)"
   ]
  },
  {
   "cell_type": "code",
   "execution_count": 22,
   "metadata": {
    "collapsed": false
   },
   "outputs": [
    {
     "data": {
      "text/plain": [
       "{'bwb': rdflib.term.URIRef('bwb-dl'),\n",
       " 'cvdr': rdflib.term.URIRef('http://decentrale.regelgeving.overheid.nl/cvdr/'),\n",
       " 'dcterms': rdflib.term.URIRef('http://purl.org/dc/terms/'),\n",
       " 'ecli': rdflib.term.URIRef('https://e-justice.europa.eu/ecli'),\n",
       " 'eu': rdflib.term.URIRef('http://publications.europa.eu/celex/'),\n",
       " 'ns1': rdflib.term.URIRef('bwb:'),\n",
       " 'psi': rdflib.term.URIRef('http://psi.rechtspraak.nl/'),\n",
       " 'rdf': rdflib.term.URIRef('http://www.w3.org/1999/02/22-rdf-syntax-ns#'),\n",
       " 'rdfs': rdflib.term.URIRef('http://www.w3.org/2000/01/rdf-schema#'),\n",
       " 'tr': rdflib.term.URIRef('http://tuchtrecht.overheid.nl/'),\n",
       " 'xml': rdflib.term.URIRef('http://www.w3.org/XML/1998/namespace'),\n",
       " 'xsd': rdflib.term.URIRef('http://www.w3.org/2001/XMLSchema#')}"
      ]
     },
     "execution_count": 22,
     "metadata": {},
     "output_type": "execute_result"
    }
   ],
   "source": [
    "dict(g.namespaces())"
   ]
  },
  {
   "cell_type": "code",
   "execution_count": null,
   "metadata": {
    "collapsed": true
   },
   "outputs": [],
   "source": []
  }
 ],
 "metadata": {
  "anaconda-cloud": {},
  "kernelspec": {
   "display_name": "Python [conda env:caselaw]",
   "language": "python",
   "name": "conda-env-caselaw-py"
  },
  "language_info": {
   "codemirror_mode": {
    "name": "ipython",
    "version": 3
   },
   "file_extension": ".py",
   "mimetype": "text/x-python",
   "name": "python",
   "nbconvert_exporter": "python",
   "pygments_lexer": "ipython3",
   "version": "3.5.2"
  }
 },
 "nbformat": 4,
 "nbformat_minor": 0
}
