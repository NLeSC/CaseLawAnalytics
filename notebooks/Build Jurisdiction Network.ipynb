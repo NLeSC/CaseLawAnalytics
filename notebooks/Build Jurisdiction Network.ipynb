{
 "cells": [
  {
   "cell_type": "code",
   "execution_count": 1,
   "metadata": {},
   "outputs": [],
   "source": [
    "%load_ext autoreload\n",
    "%autoreload 2"
   ]
  },
  {
   "cell_type": "code",
   "execution_count": 2,
   "metadata": {},
   "outputs": [
    {
     "name": "stdout",
     "output_type": "stream",
     "text": [
      "[nltk_data] Downloading package punkt to /home/carlosm/nltk_data...\n",
      "[nltk_data]   Package punkt is already up-to-date!\n"
     ]
    }
   ],
   "source": [
    "import caselawnet\n",
    "import json\n",
    "from caselawnet import echrapi as echr"
   ]
  },
  {
   "cell_type": "code",
   "execution_count": 3,
   "metadata": {},
   "outputs": [],
   "source": [
    "def buildEdge(source, target):\n",
    "    id = source + '_' + target\n",
    "    return {\n",
    "      \"source\": source,\n",
    "      \"target\": target,\n",
    "      \"id\": id\n",
    "    }"
   ]
  },
  {
   "cell_type": "code",
   "execution_count": 4,
   "metadata": {},
   "outputs": [
    {
     "name": "stdout",
     "output_type": "stream",
     "text": [
      "Initial results:  80\n"
     ]
    }
   ],
   "source": [
    "kpthesaurus_keyword = '(Art. 1) Jurisdiction of States'\n",
    "nodes = echr.getDataForKeyword(kpthesaurus_keyword)\n",
    "\n",
    "print('Initial results: ', len(nodes))"
   ]
  },
  {
   "cell_type": "markdown",
   "metadata": {},
   "source": [
    "For each case mentioning article 1\n",
    " - Find all cases which cite these cases\n",
    " "
   ]
  },
  {
   "cell_type": "code",
   "execution_count": 5,
   "metadata": {},
   "outputs": [
    {
     "name": "stdout",
     "output_type": "stream",
     "text": [
      "AppNo 48787/99 already included -- skip\n",
      "AppNo 20652/92 already included -- skip\n",
      "AppNo 6231/73 already included -- skip\n",
      "AppNo 45036/98 already included -- skip\n",
      "AppNo 15318/89 already included -- skip\n"
     ]
    }
   ],
   "source": [
    "citations = {}\n",
    "for node in nodes:\n",
    "    appno = node['appno']\n",
    "    if appno in citations:\n",
    "        print('AppNo %s already included -- skip'%appno)\n",
    "    else:\n",
    "        # print('calling for ',appno)\n",
    "        cases = echr.getCasesCiting(appno)\n",
    "        citations[appno] = cases\n"
   ]
  },
  {
   "cell_type": "markdown",
   "metadata": {},
   "source": [
    "Index cases by appno"
   ]
  },
  {
   "cell_type": "code",
   "execution_count": 6,
   "metadata": {},
   "outputs": [
    {
     "name": "stdout",
     "output_type": "stream",
     "text": [
      "appno already known -- skip\n",
      "appno already known -- skip\n",
      "appno already known -- skip\n",
      "appno already known -- skip\n",
      "appno already known -- skip\n"
     ]
    }
   ],
   "source": [
    "nodeDict = {}\n",
    "for node in nodes:\n",
    "    if node['appno'] not in nodeDict:\n",
    "        nodeDict[node['appno']] = node\n",
    "    else:\n",
    "        print('appno already known -- skip')\n",
    "\n",
    "for appno, refNodes in citations.items():\n",
    "    for node in refNodes:\n",
    "        if node['appno'] not in nodeDict:\n",
    "            nodeDict[node['appno']] = node\n"
   ]
  },
  {
   "cell_type": "code",
   "execution_count": 7,
   "metadata": {},
   "outputs": [
    {
     "name": "stdout",
     "output_type": "stream",
     "text": [
      "Total number of cases considered:  697\n"
     ]
    }
   ],
   "source": [
    "nodesAll = nodeDict.values()\n",
    "nodesAll = list(nodesAll) # 80 base cases + all cases that cite them\n",
    "print('Total number of cases considered: ', len(nodesAll))"
   ]
  },
  {
   "cell_type": "code",
   "execution_count": 8,
   "metadata": {},
   "outputs": [
    {
     "name": "stdout",
     "output_type": "stream",
     "text": [
      "In total, out cases contain a total number of citations:  18160\n"
     ]
    }
   ],
   "source": [
    "#For each node in nodesAll\n",
    "# - Get its appNo and refersTo\n",
    "# - build table of links (appno, refertTo*)\n",
    "\n",
    "#For each link in table of links\n",
    "# - Get the link source and target appNos\n",
    "# - Check source and target appNos exist in nodeDict\n",
    "#   - If they do, preserve link\n",
    "\n",
    "\n",
    "links = []\n",
    "\n",
    "for node in nodesAll:\n",
    "    appno = node['appno']\n",
    "    refers = node['refersTo']\n",
    "    for refAppNo in refers:\n",
    "        links.append((appno, refAppNo))\n",
    "links = list(set(links))\n",
    "\n",
    "print('In total, out cases contain a total number of citations: ', len(links))\n"
   ]
  },
  {
   "cell_type": "code",
   "execution_count": 9,
   "metadata": {},
   "outputs": [
    {
     "name": "stdout",
     "output_type": "stream",
     "text": [
      "But we are only interested in the citations inside our set of cases:  3234\n"
     ]
    }
   ],
   "source": [
    "appnos = [ node['appno'] for node in nodeDict.values() ]\n",
    "\n",
    "filtered_links = []\n",
    "for source_appno, target_appno in links:\n",
    "    if (source_appno in appnos) and (target_appno in appnos):\n",
    "        source_id = nodeDict[source_appno]['id']\n",
    "        target_id = nodeDict[target_appno]['id']\n",
    "        filtered_links.append((source_id, target_id))\n",
    "\n",
    "print('But we are only interested in the citations inside our set of cases: ', len(filtered_links))"
   ]
  },
  {
   "cell_type": "code",
   "execution_count": 10,
   "metadata": {},
   "outputs": [],
   "source": [
    "edges = [ buildEdge(source, target) for source, target in list(set(filtered_links)) ]\n",
    "nodesAllEnriched = caselawnet.network_analysis.add_network_statistics(nodesAll, edges)\n",
    "\n",
    "network = {\n",
    "    'title': kpthesaurus_keyword,\n",
    "    'nodes': nodesAllEnriched,\n",
    "    'edges': edges\n",
    "}\n",
    "\n",
    "with open('juristiction.json', 'w') as fout:\n",
    "    net_str = json.dumps(network)\n",
    "    fout.write(net_str)"
   ]
  }
 ],
 "metadata": {
  "kernelspec": {
   "display_name": "Python 3",
   "language": "python",
   "name": "python3"
  },
  "language_info": {
   "codemirror_mode": {
    "name": "ipython",
    "version": 3
   },
   "file_extension": ".py",
   "mimetype": "text/x-python",
   "name": "python",
   "nbconvert_exporter": "python",
   "pygments_lexer": "ipython3",
   "version": "3.6.5"
  }
 },
 "nbformat": 4,
 "nbformat_minor": 2
}
