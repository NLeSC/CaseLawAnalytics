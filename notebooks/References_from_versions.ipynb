{
 "cells": [
  {
   "cell_type": "code",
   "execution_count": 1,
   "metadata": {
    "collapsed": true
   },
   "outputs": [],
   "source": [
    "from SPARQLWrapper import SPARQLWrapper, JSON\n",
    "import re"
   ]
  },
  {
   "cell_type": "code",
   "execution_count": 2,
   "metadata": {
    "collapsed": true
   },
   "outputs": [],
   "source": [
    "sparql = SPARQLWrapper(\"http://localhost:9999/blazegraph/namespace/hogeraad/sparql\")"
   ]
  },
  {
   "cell_type": "code",
   "execution_count": 3,
   "metadata": {
    "collapsed": true
   },
   "outputs": [],
   "source": [
    "def create_link(ecli_from, ecli_to, sparql):\n",
    "    base_query = '''\n",
    "    prefix dcterm: <http://purl.org/dc/terms/>\n",
    "    insert data \n",
    "    {{<http://deeplink.rechtspraak.nl/uitspraak?id={}>\n",
    "        dcterm:references \n",
    "        <http://deeplink.rechtspraak.nl/uitspraak?id={}> \n",
    "    .}}'''\n",
    "    query = base_query.format(ecli_from, ecli_to)\n",
    "    sparql.method = 'POST'\n",
    "    sparql.setQuery(query)\n",
    "    res = sparql.query()"
   ]
  },
  {
   "cell_type": "code",
   "execution_count": 4,
   "metadata": {
    "collapsed": false
   },
   "outputs": [],
   "source": [
    "query = '''\n",
    "prefix dcterm: <http://purl.org/dc/terms/>\n",
    "select ?id ?name\n",
    "where {\n",
    "    ?id dcterm:hasVersion ?name.\n",
    "    filter (?name != \"Rechtspraak.nl\").\n",
    "  }\n",
    "'''\n",
    "\n",
    "sparql.setQuery(query)\n",
    "sparql.setReturnFormat(JSON)\n",
    "ret = sparql.query()\n",
    "id_name = ret.convert()"
   ]
  },
  {
   "cell_type": "code",
   "execution_count": 5,
   "metadata": {
    "collapsed": false
   },
   "outputs": [
    {
     "data": {
      "text/plain": [
       "{'id': {'type': 'uri',\n",
       "  'value': 'http://deeplink.rechtspraak.nl/uitspraak?id=ECLI:NL:HR:2007:BA7217'},\n",
       " 'name': {'type': 'literal',\n",
       "  'value': 'JA 2007/157 met annotatie van W. Bouman'}}"
      ]
     },
     "execution_count": 5,
     "metadata": {},
     "output_type": "execute_result"
    }
   ],
   "source": [
    "id_name['results']['bindings'][10]"
   ]
  },
  {
   "cell_type": "code",
   "execution_count": 6,
   "metadata": {
    "collapsed": false
   },
   "outputs": [
    {
     "data": {
      "text/plain": [
       "81208"
      ]
     },
     "execution_count": 6,
     "metadata": {},
     "output_type": "execute_result"
    }
   ],
   "source": [
    "len(id_name['results']['bindings'])"
   ]
  },
  {
   "cell_type": "code",
   "execution_count": 7,
   "metadata": {
    "collapsed": false
   },
   "outputs": [],
   "source": [
    "regex = r'(.*)( met annotatie van .*$)'\n",
    "\n",
    "aliases = {}\n",
    "\n",
    "for item in id_name['results']['bindings']:\n",
    "    id0 = item['id']['value']\n",
    "    name = item['name']['value']\n",
    "    # If the name contains an annotation, remove that one\n",
    "    match = re.match(regex, name)\n",
    "    if match is not None:\n",
    "        name = match.groups()[0]\n",
    "    \n",
    "    aliases[name] = id0"
   ]
  },
  {
   "cell_type": "code",
   "execution_count": 19,
   "metadata": {
    "collapsed": false
   },
   "outputs": [
    {
     "data": {
      "text/plain": [
       "[(('2009', '250'), 'NJ 2009, 250'),\n",
       " (('2006', '339'), 'NJ 2006, 339'),\n",
       " (('2012', '409'), 'NJ 2012/409'),\n",
       " (('2006', '36'), 'NJ 2006, 36'),\n",
       " (('2002', '198'), 'NJ 2002, 198'),\n",
       " (('2007', '529'), 'NJ 2007, 529'),\n",
       " (('2000', '330'), 'NJ 2000, 330'),\n",
       " (('2007', '243'), 'NJ 2007, 243'),\n",
       " (('2014', '447'), 'NJ 2014/447'),\n",
       " (('2004', '576'), 'NJ 2004, 576')]"
      ]
     },
     "execution_count": 19,
     "metadata": {},
     "output_type": "execute_result"
    }
   ],
   "source": [
    "list([(re.match('NJ ([0-9]*)[^0-9]{1,2}([0-9]*)', k).groups(), k) for k in aliases.keys() if re.match('NJ ', k) is not None])[:10]"
   ]
  },
  {
   "cell_type": "code",
   "execution_count": 40,
   "metadata": {
    "collapsed": false
   },
   "outputs": [
    {
     "ename": "AttributeError",
     "evalue": "'NoneType' object has no attribute 'groups'",
     "output_type": "error",
     "traceback": [
      "\u001b[0;31m---------------------------------------------------------------------------\u001b[0m",
      "\u001b[0;31mAttributeError\u001b[0m                            Traceback (most recent call last)",
      "\u001b[0;32m<ipython-input-40-8e0cd8653a09>\u001b[0m in \u001b[0;36m<module>\u001b[0;34m()\u001b[0m\n\u001b[1;32m      1\u001b[0m \u001b[0;34m\u001b[0m\u001b[0m\n\u001b[1;32m      2\u001b[0m \u001b[0mmatch\u001b[0m \u001b[0;34m=\u001b[0m \u001b[0mre\u001b[0m\u001b[0;34m.\u001b[0m\u001b[0mmatch\u001b[0m\u001b[0;34m(\u001b[0m\u001b[0mregex\u001b[0m\u001b[0;34m,\u001b[0m \u001b[0;34m'Jaea e 32351'\u001b[0m\u001b[0;34m)\u001b[0m\u001b[0;34m\u001b[0m\u001b[0m\n\u001b[0;32m----> 3\u001b[0;31m \u001b[0mmatch\u001b[0m\u001b[0;34m.\u001b[0m\u001b[0mgroups\u001b[0m\u001b[0;34m(\u001b[0m\u001b[0;34m)\u001b[0m\u001b[0;34m\u001b[0m\u001b[0m\n\u001b[0m",
      "\u001b[0;31mAttributeError\u001b[0m: 'NoneType' object has no attribute 'groups'"
     ]
    }
   ],
   "source": [
    "\n",
    "match = re.match(regex, 'Jaea e 32351')\n",
    "match.groups()"
   ]
  },
  {
   "cell_type": "code",
   "execution_count": 30,
   "metadata": {
    "collapsed": false
   },
   "outputs": [],
   "source": [
    "regex = r'(.*)(met annotatie van W. Bouman)'\n",
    "match = re.match(regex, ex_name)"
   ]
  },
  {
   "cell_type": "code",
   "execution_count": 34,
   "metadata": {
    "collapsed": false
   },
   "outputs": [
    {
     "data": {
      "text/plain": [
       "('JA 2007/157 ', 'met annotatie van W. Bouman')"
      ]
     },
     "execution_count": 34,
     "metadata": {},
     "output_type": "execute_result"
    }
   ],
   "source": []
  },
  {
   "cell_type": "markdown",
   "metadata": {},
   "source": []
  }
 ],
 "metadata": {
  "anaconda-cloud": {},
  "kernelspec": {
   "display_name": "Python [conda env:caselaw]",
   "language": "python",
   "name": "conda-env-caselaw-py"
  },
  "language_info": {
   "codemirror_mode": {
    "name": "ipython",
    "version": 3
   },
   "file_extension": ".py",
   "mimetype": "text/x-python",
   "name": "python",
   "nbconvert_exporter": "python",
   "pygments_lexer": "ipython3",
   "version": "3.5.2"
  }
 },
 "nbformat": 4,
 "nbformat_minor": 0
}
