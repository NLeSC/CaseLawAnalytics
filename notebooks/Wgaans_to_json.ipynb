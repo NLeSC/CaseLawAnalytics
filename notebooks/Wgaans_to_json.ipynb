{
 "cells": [
  {
   "cell_type": "markdown",
   "metadata": {},
   "source": [
    "This notebook is to create a network including the nodes and links from Gijs' \"werkgevers aansprakelijkheid\" network."
   ]
  },
  {
   "cell_type": "code",
   "execution_count": 1,
   "metadata": {
    "collapsed": false
   },
   "outputs": [],
   "source": [
    "from SPARQLWrapper import SPARQLWrapper, JSON\n",
    "import os\n",
    "import sys\n",
    "sys.path.insert(0, os.path.abspath('..'))\n",
    "import  parser.matcher as matcher\n",
    "from blazegraph_querier import query_to_json"
   ]
  },
  {
   "cell_type": "code",
   "execution_count": 2,
   "metadata": {
    "collapsed": true
   },
   "outputs": [],
   "source": [
    "sparql = SPARQLWrapper(\"http://localhost:9999/blazegraph/namespace/hogeraad/sparql\")"
   ]
  },
  {
   "cell_type": "code",
   "execution_count": 3,
   "metadata": {
    "collapsed": true
   },
   "outputs": [],
   "source": [
    "import pandas as pd\n",
    "filepath_csv = '/media/sf_VBox_Shared/CaseLaw/graphs/test3 wg aanspr.csv'\n",
    "links_wgaans = pd.read_csv(filepath_csv, sep=';', header=0)\n",
    "links_wgaans.columns = ['id', 'reference']\n",
    "links_wgaans = links_wgaans.drop_duplicates()"
   ]
  },
  {
   "cell_type": "code",
   "execution_count": 4,
   "metadata": {
    "collapsed": false
   },
   "outputs": [],
   "source": [
    "links_wgaans = links_wgaans.applymap(lambda ecli: 'http://deeplink.rechtspraak.nl/uitspraak?id='+ecli)"
   ]
  },
  {
   "cell_type": "code",
   "execution_count": 35,
   "metadata": {
    "collapsed": false
   },
   "outputs": [
    {
     "data": {
      "text/html": [
       "<div>\n",
       "<table border=\"1\" class=\"dataframe\">\n",
       "  <thead>\n",
       "    <tr style=\"text-align: right;\">\n",
       "      <th></th>\n",
       "      <th>id</th>\n",
       "      <th>reference</th>\n",
       "    </tr>\n",
       "  </thead>\n",
       "  <tbody>\n",
       "    <tr>\n",
       "      <th>0</th>\n",
       "      <td>http://deeplink.rechtspraak.nl/uitspraak?id=EC...</td>\n",
       "      <td>http://deeplink.rechtspraak.nl/uitspraak?id=EC...</td>\n",
       "    </tr>\n",
       "    <tr>\n",
       "      <th>1</th>\n",
       "      <td>http://deeplink.rechtspraak.nl/uitspraak?id=EC...</td>\n",
       "      <td>http://deeplink.rechtspraak.nl/uitspraak?id=EC...</td>\n",
       "    </tr>\n",
       "    <tr>\n",
       "      <th>2</th>\n",
       "      <td>http://deeplink.rechtspraak.nl/uitspraak?id=EC...</td>\n",
       "      <td>http://deeplink.rechtspraak.nl/uitspraak?id=EC...</td>\n",
       "    </tr>\n",
       "    <tr>\n",
       "      <th>3</th>\n",
       "      <td>http://deeplink.rechtspraak.nl/uitspraak?id=EC...</td>\n",
       "      <td>http://deeplink.rechtspraak.nl/uitspraak?id=EC...</td>\n",
       "    </tr>\n",
       "    <tr>\n",
       "      <th>4</th>\n",
       "      <td>http://deeplink.rechtspraak.nl/uitspraak?id=EC...</td>\n",
       "      <td>http://deeplink.rechtspraak.nl/uitspraak?id=EC...</td>\n",
       "    </tr>\n",
       "  </tbody>\n",
       "</table>\n",
       "</div>"
      ],
      "text/plain": [
       "                                                  id  \\\n",
       "0  http://deeplink.rechtspraak.nl/uitspraak?id=EC...   \n",
       "1  http://deeplink.rechtspraak.nl/uitspraak?id=EC...   \n",
       "2  http://deeplink.rechtspraak.nl/uitspraak?id=EC...   \n",
       "3  http://deeplink.rechtspraak.nl/uitspraak?id=EC...   \n",
       "4  http://deeplink.rechtspraak.nl/uitspraak?id=EC...   \n",
       "\n",
       "                                           reference  \n",
       "0  http://deeplink.rechtspraak.nl/uitspraak?id=EC...  \n",
       "1  http://deeplink.rechtspraak.nl/uitspraak?id=EC...  \n",
       "2  http://deeplink.rechtspraak.nl/uitspraak?id=EC...  \n",
       "3  http://deeplink.rechtspraak.nl/uitspraak?id=EC...  \n",
       "4  http://deeplink.rechtspraak.nl/uitspraak?id=EC...  "
      ]
     },
     "execution_count": 35,
     "metadata": {},
     "output_type": "execute_result"
    }
   ],
   "source": [
    "links_wgaans.head()"
   ]
  },
  {
   "cell_type": "code",
   "execution_count": 5,
   "metadata": {
    "collapsed": true
   },
   "outputs": [],
   "source": [
    "ids_wgaans = list(pd.concat([links_wgaans['id'], links_wgaans['reference']]).unique())"
   ]
  },
  {
   "cell_type": "code",
   "execution_count": 6,
   "metadata": {
    "collapsed": false
   },
   "outputs": [
    {
     "data": {
      "text/plain": [
       "'http://deeplink.rechtspraak.nl/uitspraak?id=ECLI:NL:HR:2012:BV1295'"
      ]
     },
     "execution_count": 6,
     "metadata": {},
     "output_type": "execute_result"
    }
   ],
   "source": [
    "ids_wgaans[0]"
   ]
  },
  {
   "cell_type": "code",
   "execution_count": 7,
   "metadata": {
    "collapsed": false
   },
   "outputs": [],
   "source": [
    "result = []\n",
    "for ecli in ids_wgaans:\n",
    "    querystring = '''\n",
    "            prefix dcterm: <http://purl.org/dc/terms/>\n",
    "            select ?type ?id ?to ?title ?creator ?date ?subject ?abstract ?hasVersion ?article\n",
    "            where {\n",
    "                {\n",
    "                BIND(\"node\" AS ?type).\n",
    "                ?id dcterm:type\t<http://psi.rechtspraak.nl/uitspraak>.\n",
    "                filter (?id = <''' + ecli+'''>).\n",
    "                optional { ?id dcterm:creator ?creator}.\n",
    "                   optional { ?id dcterm:abstract ?abstract}.\n",
    "                   optional { ?id dcterm:subject ?subject}.\n",
    "                   optional { ?id dcterm:date ?date}.\n",
    "                   optional { ?id dcterm:title ?title}\n",
    "                }\n",
    "                \n",
    "                union\n",
    "                {\n",
    "                BIND(\"vindplaats\" AS ?type).\n",
    "                ?id dcterm:hasVersion ?hasVersion\n",
    "                filter (?id = <''' + ecli+'''>).\n",
    "                }\n",
    "                union\n",
    "                  {\n",
    "                    BIND(\"article\" AS ?type).\n",
    "                    ?id dcterm:reference ?articleid .\n",
    "                    ?articleid rdfs:label \"Wetsverwijzing\".\n",
    "                    ?articleid dcterm:title ?article\n",
    "                    filter (?id = <''' + ecli+'''>).\n",
    "                  }\n",
    "              }\n",
    "            '''\n",
    "    #print(querystring)\n",
    "    sparql.setQuery(querystring)\n",
    "    sparql.setReturnFormat(JSON)\n",
    "    ret = sparql.query()\n",
    "    result.append(ret.convert())"
   ]
  },
  {
   "cell_type": "code",
   "execution_count": 8,
   "metadata": {
    "collapsed": false
   },
   "outputs": [],
   "source": [
    "variables = [x for x in result[0]['head']['vars'] if\n",
    "                 x not in ['type', 'from', 'to', 'hasVersion', 'article']]"
   ]
  },
  {
   "cell_type": "code",
   "execution_count": 21,
   "metadata": {
    "collapsed": true
   },
   "outputs": [],
   "source": [
    "node_list = [res for node in result for res in node['results']['bindings'] ]"
   ]
  },
  {
   "cell_type": "code",
   "execution_count": 22,
   "metadata": {
    "collapsed": false
   },
   "outputs": [],
   "source": [
    "nodes = [res for res in node_list if res['type']['value']=='node']"
   ]
  },
  {
   "cell_type": "code",
   "execution_count": 23,
   "metadata": {
    "collapsed": true
   },
   "outputs": [],
   "source": [
    "vindplaatsen = [res for res in node_list if\n",
    "                    res['type']['value'] == 'vindplaats']\n",
    "articles = [res for res in node_list if\n",
    "                res['type']['value'] == 'article']"
   ]
  },
  {
   "cell_type": "code",
   "execution_count": 24,
   "metadata": {
    "collapsed": true
   },
   "outputs": [],
   "source": [
    "nodes_json, node_ids = query_to_json.parse_nodes(nodes, variables)"
   ]
  },
  {
   "cell_type": "code",
   "execution_count": 25,
   "metadata": {
    "collapsed": false
   },
   "outputs": [],
   "source": [
    "# Add nodes for the empty nodes\n",
    "empty_node = {var: '' for var in variables if var != 'id'}\n",
    "node_ids = [node['id'] for node in nodes_json]\n",
    "\n",
    "for ecli in ids_wgaans:\n",
    "    id0 = ecli\n",
    "    if id0 not in node_ids:\n",
    "        nodes_json.append({'id':id0, **empty_node})"
   ]
  },
  {
   "cell_type": "code",
   "execution_count": 26,
   "metadata": {
    "collapsed": false
   },
   "outputs": [],
   "source": [
    "nodes_json = query_to_json.enrich_nodes(nodes_json, vindplaatsen, articles)"
   ]
  },
  {
   "cell_type": "code",
   "execution_count": 38,
   "metadata": {
    "collapsed": false
   },
   "outputs": [],
   "source": [
    "links = [{'source': row['id'], 'target': row['reference'], 'id': row['id']+'_'+row['reference']} \n",
    "         for ind, row in links_wgaans.iterrows()]"
   ]
  },
  {
   "cell_type": "code",
   "execution_count": 28,
   "metadata": {
    "collapsed": false
   },
   "outputs": [],
   "source": [
    "nodes_json = query_to_json.network_analysis.add_network_statistics(nodes_json, links)"
   ]
  },
  {
   "cell_type": "code",
   "execution_count": 29,
   "metadata": {
    "collapsed": false
   },
   "outputs": [
    {
     "data": {
      "text/plain": [
       "156"
      ]
     },
     "execution_count": 29,
     "metadata": {},
     "output_type": "execute_result"
    }
   ],
   "source": [
    "len(nodes_json)"
   ]
  },
  {
   "cell_type": "code",
   "execution_count": 34,
   "metadata": {
    "collapsed": false
   },
   "outputs": [
    {
     "name": "stdout",
     "output_type": "stream",
     "text": [
      "156 156\n"
     ]
    }
   ],
   "source": [
    "print(len(ids_wgaans), len(nodes_json))"
   ]
  },
  {
   "cell_type": "code",
   "execution_count": 42,
   "metadata": {
    "collapsed": false
   },
   "outputs": [
    {
     "data": {
      "text/plain": [
       "{'abstract': 'Uitleg dekkingsomvang AVB-polis. Aansprakelijkheid werkgever bij verkeersongeval werknemer op grond van art. 7:611 BW (verzekeringsplicht niet nagekomen). Is schade werknemer letselschade in zin van polis? Functie AVB-polis en daarop gebaseerde verwachtingen rechtvaardigen ruime uitleg dekkingsomvang; dekking tegen aansprakelijkheid voor letselschade omvat in beginsel ook dekking tegen op art. 7:611 gebaseerde aansprakelijkheid.',\n",
       " 'articles': ['7:611 bw',\n",
       "  'Burgerlijk Wetboek Boek 7',\n",
       "  'Burgerlijk Wetboek Boek 7 685',\n",
       "  'Burgerlijk Wetboek Boek 7 611'],\n",
       " 'authorities': 0.0,\n",
       " 'betweenness_centrality': 0.0,\n",
       " 'count_annotation': 2,\n",
       " 'count_version': 8,\n",
       " 'creator': 'http://standaarden.overheid.nl/owms/terms/Hoge_Raad_der_Nederlanden',\n",
       " 'date': '2012-03-30',\n",
       " 'degree': 1,\n",
       " 'degree_centrality': 0.0064516129032258064,\n",
       " 'ecli': 'ECLI:NL:HR:2012:BV1295',\n",
       " 'hubs': 4.5281207035507266e-97,\n",
       " 'id': 'http://deeplink.rechtspraak.nl/uitspraak?id=ECLI:NL:HR:2012:BV1295',\n",
       " 'in_degree': 0,\n",
       " 'in_degree_centrality': 0.0,\n",
       " 'out_degree': 1,\n",
       " 'out_degree_centrality': 0.0064516129032258064,\n",
       " 'subject': 'http://psi.rechtspraak.nl/rechtsgebied#civielRecht',\n",
       " 'title': 'ECLI:NL:HR:2012:BV1295 Hoge Raad , 30-03-2012 / 11/01010',\n",
       " 'year': 2012}"
      ]
     },
     "execution_count": 42,
     "metadata": {},
     "output_type": "execute_result"
    }
   ],
   "source": [
    "nodes_json[0]"
   ]
  },
  {
   "cell_type": "code",
   "execution_count": 40,
   "metadata": {
    "collapsed": false
   },
   "outputs": [
    {
     "data": {
      "text/plain": [
       "{'id': 'http://deeplink.rechtspraak.nl/uitspraak?id=ECLI:NL:HR:2012:BV1295_http://deeplink.rechtspraak.nl/uitspraak?id=ECLI:NL:HR:2011:BR5215',\n",
       " 'source': 'http://deeplink.rechtspraak.nl/uitspraak?id=ECLI:NL:HR:2012:BV1295',\n",
       " 'target': 'http://deeplink.rechtspraak.nl/uitspraak?id=ECLI:NL:HR:2011:BR5215'}"
      ]
     },
     "execution_count": 40,
     "metadata": {},
     "output_type": "execute_result"
    }
   ],
   "source": [
    "links[0]"
   ]
  },
  {
   "cell_type": "code",
   "execution_count": 41,
   "metadata": {
    "collapsed": true
   },
   "outputs": [],
   "source": [
    "import json\n",
    "\n",
    "filename = '/media/sf_VBox_Shared/CaseLaw/graphs/json_sigma/wgaans.json'\n",
    "\n",
    "with open(filename, 'w') as outfile:\n",
    "    json.dump({'nodes': nodes_json, 'edges': links}, fp=outfile)"
   ]
  },
  {
   "cell_type": "code",
   "execution_count": 33,
   "metadata": {
    "collapsed": false
   },
   "outputs": [],
   "source": [
    "import json\n",
    "\n",
    "filename = '/media/sf_VBox_Shared/CaseLaw/graphs/d3_wgaans.json'\n",
    "\n",
    "with open(filename, 'w') as outfile:\n",
    "    json.dump({'nodes': nodes_json, 'links': links}, fp=outfile)"
   ]
  },
  {
   "cell_type": "code",
   "execution_count": null,
   "metadata": {
    "collapsed": true
   },
   "outputs": [],
   "source": []
  }
 ],
 "metadata": {
  "anaconda-cloud": {},
  "kernelspec": {
   "display_name": "Python [conda env:caselaw]",
   "language": "python",
   "name": "conda-env-caselaw-py"
  },
  "language_info": {
   "codemirror_mode": {
    "name": "ipython",
    "version": 3
   },
   "file_extension": ".py",
   "mimetype": "text/x-python",
   "name": "python",
   "nbconvert_exporter": "python",
   "pygments_lexer": "ipython3",
   "version": "3.5.2"
  }
 },
 "nbformat": 4,
 "nbformat_minor": 0
}
