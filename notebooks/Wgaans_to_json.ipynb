{
 "cells": [
  {
   "cell_type": "markdown",
   "metadata": {},
   "source": [
    "This notebook is to create a network including the nodes and links from Gijs' \"werkgevers aansprakelijkheid\" network."
   ]
  },
  {
   "cell_type": "code",
   "execution_count": 2,
   "metadata": {
    "collapsed": false
   },
   "outputs": [],
   "source": [
    "from SPARQLWrapper import SPARQLWrapper, JSON\n",
    "import os\n",
    "import sys\n",
    "sys.path.insert(0, os.path.abspath('..'))\n",
    "import  parser.matcher as matcher"
   ]
  },
  {
   "cell_type": "code",
   "execution_count": 3,
   "metadata": {
    "collapsed": true
   },
   "outputs": [],
   "source": [
    "sparql = SPARQLWrapper(\"http://localhost:9999/blazegraph/namespace/hogeraad/sparql\")"
   ]
  },
  {
   "cell_type": "code",
   "execution_count": 4,
   "metadata": {
    "collapsed": true
   },
   "outputs": [],
   "source": [
    "import pandas as pd\n",
    "filepath_csv = '/media/sf_VBox_Shared/CaseLaw/graphs/test3 wg aanspr.csv'\n",
    "links_wgaans = pd.read_csv(filepath_csv, sep=';', header=0)\n",
    "links_wgaans.columns = ['id', 'reference']\n",
    "links_wgaans = links_wgaans.drop_duplicates()"
   ]
  },
  {
   "cell_type": "code",
   "execution_count": 5,
   "metadata": {
    "collapsed": false
   },
   "outputs": [],
   "source": [
    "links_wgaans = links_wgaans.applymap(lambda ecli: 'http://deeplink.rechtspraak.nl/uitspraak?id='+ecli)"
   ]
  },
  {
   "cell_type": "code",
   "execution_count": 6,
   "metadata": {
    "collapsed": true
   },
   "outputs": [],
   "source": [
    "ids_wgaans = list(pd.concat([links_wgaans['id'], links_wgaans['reference']]).unique())"
   ]
  },
  {
   "cell_type": "code",
   "execution_count": 7,
   "metadata": {
    "collapsed": false
   },
   "outputs": [
    {
     "data": {
      "text/plain": [
       "'http://deeplink.rechtspraak.nl/uitspraak?id=ECLI:NL:HR:2012:BV1295'"
      ]
     },
     "execution_count": 7,
     "metadata": {},
     "output_type": "execute_result"
    }
   ],
   "source": [
    "ids_wgaans[0]"
   ]
  },
  {
   "cell_type": "code",
   "execution_count": 8,
   "metadata": {
    "collapsed": false
   },
   "outputs": [],
   "source": [
    "node_list = []\n",
    "for ecli in ids_wgaans:\n",
    "    querystring = '''\n",
    "            prefix dcterm: <http://purl.org/dc/terms/>\n",
    "            select ?type ?id ?to ?title ?creator ?date ?subject ?abstract ?hasVersion\n",
    "            where {\n",
    "                {\n",
    "                BIND(\"node\" AS ?type).\n",
    "                ?id dcterm:type\t<http://psi.rechtspraak.nl/uitspraak>.\n",
    "                filter (?id = <''' + ecli+'''>).\n",
    "                optional { ?id dcterm:creator ?creator}.\n",
    "                   optional { ?id dcterm:abstract ?abstract}.\n",
    "                   optional { ?id dcterm:subject ?subject}.\n",
    "                   optional { ?id dcterm:date ?date}.\n",
    "                   optional { ?id dcterm:title ?title}\n",
    "                }\n",
    "                \n",
    "                union\n",
    "                {\n",
    "                BIND(\"vindplaats\" AS ?type).\n",
    "                ?id dcterm:hasVersion ?hasVersion\n",
    "                filter (?id = <''' + ecli+'''>).\n",
    "                }\n",
    "              }\n",
    "            '''\n",
    "    #print(querystring)\n",
    "    sparql.setQuery(querystring)\n",
    "    sparql.setReturnFormat(JSON)\n",
    "    ret = sparql.query()\n",
    "    node_list.append(ret.convert())"
   ]
  },
  {
   "cell_type": "code",
   "execution_count": 9,
   "metadata": {
    "collapsed": false
   },
   "outputs": [],
   "source": [
    "nodes = [res for node in node_list for res in node['results']['bindings'] if res['type']['value']=='node']"
   ]
  },
  {
   "cell_type": "code",
   "execution_count": 10,
   "metadata": {
    "collapsed": false
   },
   "outputs": [
    {
     "data": {
      "text/plain": [
       "153"
      ]
     },
     "execution_count": 10,
     "metadata": {},
     "output_type": "execute_result"
    }
   ],
   "source": [
    "len(nodes)"
   ]
  },
  {
   "cell_type": "code",
   "execution_count": 11,
   "metadata": {
    "collapsed": false
   },
   "outputs": [
    {
     "data": {
      "text/plain": [
       "{'abstract': {'type': 'literal',\n",
       "  'value': 'Uitleg dekkingsomvang AVB-polis. Aansprakelijkheid werkgever bij verkeersongeval werknemer op grond van art. 7:611 BW (verzekeringsplicht niet nagekomen). Is schade werknemer letselschade in zin van polis? Functie AVB-polis en daarop gebaseerde verwachtingen rechtvaardigen ruime uitleg dekkingsomvang; dekking tegen aansprakelijkheid voor letselschade omvat in beginsel ook dekking tegen op art. 7:611 gebaseerde aansprakelijkheid.'},\n",
       " 'creator': {'type': 'uri',\n",
       "  'value': 'http://standaarden.overheid.nl/owms/terms/Hoge_Raad_der_Nederlanden'},\n",
       " 'date': {'datatype': 'http://www.w3.org/2001/XMLSchema#date',\n",
       "  'type': 'literal',\n",
       "  'value': '2012-03-30'},\n",
       " 'id': {'type': 'uri',\n",
       "  'value': 'http://deeplink.rechtspraak.nl/uitspraak?id=ECLI:NL:HR:2012:BV1295'},\n",
       " 'subject': {'type': 'uri',\n",
       "  'value': 'http://psi.rechtspraak.nl/rechtsgebied#civielRecht'},\n",
       " 'title': {'type': 'literal',\n",
       "  'value': 'ECLI:NL:HR:2012:BV1295 Hoge Raad , 30-03-2012 / 11/01010'},\n",
       " 'type': {'type': 'literal', 'value': 'node'}}"
      ]
     },
     "execution_count": 11,
     "metadata": {},
     "output_type": "execute_result"
    }
   ],
   "source": [
    "nodes[0]"
   ]
  },
  {
   "cell_type": "code",
   "execution_count": 12,
   "metadata": {
    "collapsed": true
   },
   "outputs": [],
   "source": [
    "vindplaatsen = [res for node in node_list for res in node['results']['bindings'] if res['type']['value']=='vindplaats']"
   ]
  },
  {
   "cell_type": "code",
   "execution_count": 13,
   "metadata": {
    "collapsed": false
   },
   "outputs": [
    {
     "data": {
      "text/plain": [
       "812"
      ]
     },
     "execution_count": 13,
     "metadata": {},
     "output_type": "execute_result"
    }
   ],
   "source": [
    "len(vindplaatsen)"
   ]
  },
  {
   "cell_type": "code",
   "execution_count": 14,
   "metadata": {
    "collapsed": false
   },
   "outputs": [],
   "source": [
    "def nodes_to_json(nodes_in, variables):\n",
    "    id_to_node = {}\n",
    "    for d in nodes_in:\n",
    "        id0 = d['id']['value']\n",
    "        dout = {}\n",
    "        for var in variables:\n",
    "            if var in d.keys():\n",
    "                dout[var] = d[var]['value']#d.get(var, {'value':''})['value']\n",
    "            else:\n",
    "                dout[var] = ''\n",
    "        id_to_node[id0] = dout\n",
    "            \n",
    "    return id_to_node"
   ]
  },
  {
   "cell_type": "code",
   "execution_count": 15,
   "metadata": {
    "collapsed": false
   },
   "outputs": [],
   "source": [
    "variables = [x for x in node_list[0]['head']['vars'] if x not in ['type', 'from', 'to']]\n",
    "id_to_node = nodes_to_json(nodes, variables)"
   ]
  },
  {
   "cell_type": "code",
   "execution_count": 16,
   "metadata": {
    "collapsed": false
   },
   "outputs": [
    {
     "data": {
      "text/plain": [
       "['id', 'title', 'creator', 'date', 'subject', 'abstract', 'hasVersion']"
      ]
     },
     "execution_count": 16,
     "metadata": {},
     "output_type": "execute_result"
    }
   ],
   "source": [
    "variables"
   ]
  },
  {
   "cell_type": "code",
   "execution_count": 17,
   "metadata": {
    "collapsed": false
   },
   "outputs": [],
   "source": [
    "node_example = id_to_node['http://deeplink.rechtspraak.nl/uitspraak?id=ECLI:NL:HR:2012:BV1295']\n"
   ]
  },
  {
   "cell_type": "code",
   "execution_count": 18,
   "metadata": {
    "collapsed": true
   },
   "outputs": [],
   "source": [
    "empty_node = {var: '' for var in variables if var != 'id'}\n",
    "\n",
    "nodes_json = []\n",
    "for ecli in ids_wgaans:\n",
    "    id0 = ecli\n",
    "    nodes_json.append(id_to_node.get(id0, {'id':id0, **empty_node}))"
   ]
  },
  {
   "cell_type": "code",
   "execution_count": 19,
   "metadata": {
    "collapsed": false
   },
   "outputs": [
    {
     "name": "stdout",
     "output_type": "stream",
     "text": [
      "[{'id': 'http://deeplink.rechtspraak.nl/uitspraak?id=ECLI:NL:HR:2012:BV1295', 'subject': 'http://psi.rechtspraak.nl/rechtsgebied#civielRecht', 'creator': 'http://standaarden.overheid.nl/owms/terms/Hoge_Raad_der_Nederlanden', 'hasVersion': '', 'title': 'ECLI:NL:HR:2012:BV1295 Hoge Raad , 30-03-2012 / 11/01010', 'abstract': 'Uitleg dekkingsomvang AVB-polis. Aansprakelijkheid werkgever bij verkeersongeval werknemer op grond van art. 7:611 BW (verzekeringsplicht niet nagekomen). Is schade werknemer letselschade in zin van polis? Functie AVB-polis en daarop gebaseerde verwachtingen rechtvaardigen ruime uitleg dekkingsomvang; dekking tegen aansprakelijkheid voor letselschade omvat in beginsel ook dekking tegen op art. 7:611 gebaseerde aansprakelijkheid.', 'date': '2012-03-30'}]\n"
     ]
    }
   ],
   "source": [
    "print([node for node in nodes_json if node['id']=='http://deeplink.rechtspraak.nl/uitspraak?id=ECLI:NL:HR:2012:BV1295'])"
   ]
  },
  {
   "cell_type": "code",
   "execution_count": 20,
   "metadata": {
    "collapsed": false
   },
   "outputs": [
    {
     "name": "stdout",
     "output_type": "stream",
     "text": [
      "156 156 153\n"
     ]
    }
   ],
   "source": [
    "print(len(ids_wgaans), len(nodes_json), len(id_to_node))"
   ]
  },
  {
   "cell_type": "code",
   "execution_count": 21,
   "metadata": {
    "collapsed": false
   },
   "outputs": [],
   "source": [
    "# Extra preprocessing step: add articles:\n",
    "for node in nodes_json:\n",
    "    articles = matcher.get_articles(node['abstract'])\n",
    "    node['articles'] = {art+' '+book:cnt for (art,book), cnt in articles.items()}"
   ]
  },
  {
   "cell_type": "code",
   "execution_count": 22,
   "metadata": {
    "collapsed": true
   },
   "outputs": [],
   "source": [
    "# Add the number and nr of annotations of vindplaatsen\n",
    "count_version = {}\n",
    "count_annotation = {}\n",
    "for item in vindplaatsen:\n",
    "    id0 = item['id']['value']\n",
    "    val = item['hasVersion']['value']\n",
    "    count_version[id0] = count_version.get(id0 , 0) + 1\n",
    "    if val.lower().find('met annotatie') >= 0:\n",
    "        count_annotation[id0] = count_annotation.get(id0 , 0) + 1"
   ]
  },
  {
   "cell_type": "code",
   "execution_count": 23,
   "metadata": {
    "collapsed": false
   },
   "outputs": [],
   "source": [
    "for node in nodes_json:\n",
    "    node['count_version'] = count_version.get(node['id'], 0)\n",
    "    node['count_annotation'] = count_annotation.get(node['id'], 0)"
   ]
  },
  {
   "cell_type": "code",
   "execution_count": 24,
   "metadata": {
    "collapsed": false
   },
   "outputs": [],
   "source": [
    "links = [{'source': row['id'], 'target': row['reference'], 'id': row['id']+'_'+row['reference']} \n",
    "         for ind, row in links_wgaans.iterrows()]"
   ]
  },
  {
   "cell_type": "code",
   "execution_count": 25,
   "metadata": {
    "collapsed": false
   },
   "outputs": [
    {
     "data": {
      "text/plain": [
       "{'id': 'http://deeplink.rechtspraak.nl/uitspraak?id=ECLI:NL:HR:2012:BV1295_http://deeplink.rechtspraak.nl/uitspraak?id=ECLI:NL:HR:2011:BR5215',\n",
       " 'source': 'http://deeplink.rechtspraak.nl/uitspraak?id=ECLI:NL:HR:2012:BV1295',\n",
       " 'target': 'http://deeplink.rechtspraak.nl/uitspraak?id=ECLI:NL:HR:2011:BR5215'}"
      ]
     },
     "execution_count": 25,
     "metadata": {},
     "output_type": "execute_result"
    }
   ],
   "source": [
    "links[0]"
   ]
  },
  {
   "cell_type": "code",
   "execution_count": 27,
   "metadata": {
    "collapsed": false
   },
   "outputs": [
    {
     "name": "stdout",
     "output_type": "stream",
     "text": [
      "177 177\n"
     ]
    }
   ],
   "source": [
    "print(len(links), len(links_wgaans))"
   ]
  },
  {
   "cell_type": "code",
   "execution_count": 28,
   "metadata": {
    "collapsed": false
   },
   "outputs": [
    {
     "data": {
      "text/plain": [
       "{'abstract': 'Arbeidsrecht. Werkgeversaansprakelijkheid; bij eenzijdig verkeersongeval geleden letselschade door fietsende werknemer (thuiszorger) tijdens uitoefening van haar werkzaamheden; zorgplicht van werkgever ex art. 7:658 BW en aanvullende verzekeringsplicht op grond van art. 7:611 BW; behoorlijke verzekering van aan verkeer op de openbare weg deelnemende werknemers.',\n",
       " 'articles': {'7:611 bw': 1, '7:658 bw': 1},\n",
       " 'count_annotation': 2,\n",
       " 'count_version': 9,\n",
       " 'creator': 'http://standaarden.overheid.nl/owms/terms/Hoge_Raad_der_Nederlanden',\n",
       " 'date': '2008-12-12',\n",
       " 'hasVersion': '',\n",
       " 'id': 'http://deeplink.rechtspraak.nl/uitspraak?id=ECLI:NL:HR:2008:BD3129',\n",
       " 'subject': 'http://psi.rechtspraak.nl/rechtsgebied#civielRecht',\n",
       " 'title': 'ECLI:NL:HR:2008:BD3129 Hoge Raad , 12-12-2008 / C07/121HR'}"
      ]
     },
     "execution_count": 28,
     "metadata": {},
     "output_type": "execute_result"
    }
   ],
   "source": [
    "nodes_json[6]"
   ]
  },
  {
   "cell_type": "code",
   "execution_count": 29,
   "metadata": {
    "collapsed": true
   },
   "outputs": [],
   "source": [
    "import json\n",
    "\n",
    "filename = '/media/sf_VBox_Shared/CaseLaw/graphs/json_sigma/wgaans.json'\n",
    "\n",
    "with open(filename, 'w') as outfile:\n",
    "    json.dump({'nodes': nodes_json, 'edges': links}, fp=outfile)"
   ]
  },
  {
   "cell_type": "code",
   "execution_count": 30,
   "metadata": {
    "collapsed": false
   },
   "outputs": [],
   "source": [
    "import json\n",
    "\n",
    "filename = '/media/sf_VBox_Shared/CaseLaw/graphs/d3_wgaans.json'\n",
    "\n",
    "with open(filename, 'w') as outfile:\n",
    "    json.dump({'nodes': nodes_json, 'links': links}, fp=outfile)"
   ]
  },
  {
   "cell_type": "code",
   "execution_count": null,
   "metadata": {
    "collapsed": true
   },
   "outputs": [],
   "source": []
  }
 ],
 "metadata": {
  "anaconda-cloud": {},
  "kernelspec": {
   "display_name": "Python [conda env:caselaw]",
   "language": "python",
   "name": "conda-env-caselaw-py"
  },
  "language_info": {
   "codemirror_mode": {
    "name": "ipython",
    "version": 3
   },
   "file_extension": ".py",
   "mimetype": "text/x-python",
   "name": "python",
   "nbconvert_exporter": "python",
   "pygments_lexer": "ipython3",
   "version": "3.5.2"
  }
 },
 "nbformat": 4,
 "nbformat_minor": 0
}
