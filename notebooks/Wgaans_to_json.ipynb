{
 "cells": [
  {
   "cell_type": "code",
   "execution_count": 2,
   "metadata": {
    "collapsed": false
   },
   "outputs": [],
   "source": [
    "from SPARQLWrapper import SPARQLWrapper, JSON\n",
    "import os\n",
    "import sys\n",
    "sys.path.insert(0, os.path.abspath('..'))\n",
    "import  parser.matcher as matcher"
   ]
  },
  {
   "cell_type": "code",
   "execution_count": 3,
   "metadata": {
    "collapsed": true
   },
   "outputs": [],
   "source": [
    "sparql = SPARQLWrapper(\"http://localhost:9999/blazegraph/namespace/hogeraad/sparql\")"
   ]
  },
  {
   "cell_type": "code",
   "execution_count": 18,
   "metadata": {
    "collapsed": true
   },
   "outputs": [],
   "source": [
    "import pandas as pd\n",
    "filepath_csv = '/media/sf_VBox_Shared/CaseLaw/graphs/test3 wg aanspr.csv'\n",
    "links_wgaans = pd.read_csv(filepath_csv, sep=';', header=0)\n",
    "links_wgaans.columns = ['id', 'reference']\n",
    "links_wgaans = links_wgaans.drop_duplicates()\n",
    "ids_wgaans = list(pd.concat([links_wgaans['id'], links_wgaans['reference']]).unique())"
   ]
  },
  {
   "cell_type": "code",
   "execution_count": 19,
   "metadata": {
    "collapsed": false
   },
   "outputs": [],
   "source": [
    "node_list = []\n",
    "for ecli in ids_wgaans:\n",
    "    querystring = '''\n",
    "            prefix dcterm: <http://purl.org/dc/terms/>\n",
    "            select ?type ?id ?to ?title ?creator ?date ?subject ?abstract ?hasVersion\n",
    "            where {\n",
    "                {\n",
    "                BIND(\"node\" AS ?type).\n",
    "                ?id dcterm:type\t<http://psi.rechtspraak.nl/uitspraak>.\n",
    "                filter (?id = <http://deeplink.rechtspraak.nl/uitspraak?id=''' + ecli+'''>).\n",
    "                optional { ?id dcterm:creator ?creator}.\n",
    "                   optional { ?id dcterm:abstract ?abstract}.\n",
    "                   optional { ?id dcterm:subject ?subject}.\n",
    "                   optional { ?id dcterm:date ?date}.\n",
    "                   optional { ?id dcterm:title ?title}\n",
    "                }\n",
    "                \n",
    "                union\n",
    "                {\n",
    "                BIND(\"link\" AS ?type).\n",
    "                ?id dcterm:references ?to.\n",
    "                filter (?id = <http://deeplink.rechtspraak.nl/uitspraak?id=''' + ecli+'''>).\n",
    "                }\n",
    "                union\n",
    "                {\n",
    "                BIND(\"vindplaats\" AS ?type).\n",
    "                ?id dcterm:hasVersion ?hasVersion\n",
    "                filter (?id = <http://deeplink.rechtspraak.nl/uitspraak?id=''' + ecli+'''>).\n",
    "                }\n",
    "              }\n",
    "            '''\n",
    "    #print(querystring)\n",
    "    sparql.setQuery(querystring)\n",
    "    sparql.setReturnFormat(JSON)\n",
    "    ret = sparql.query()\n",
    "    node_list.append(ret.convert())"
   ]
  },
  {
   "cell_type": "code",
   "execution_count": 20,
   "metadata": {
    "collapsed": false
   },
   "outputs": [],
   "source": [
    "nodes = [res for node in node_list for res in node['results']['bindings'] if res['type']['value']=='node']\n",
    "links = [res for node in node_list for res in node['results']['bindings'] if res['type']['value']=='link']"
   ]
  },
  {
   "cell_type": "code",
   "execution_count": 21,
   "metadata": {
    "collapsed": false
   },
   "outputs": [
    {
     "data": {
      "text/plain": [
       "[{'id': {'type': 'uri',\n",
       "   'value': 'http://deeplink.rechtspraak.nl/uitspraak?id=ECLI:NL:HR:2003:AF5891'},\n",
       "  'to': {'type': 'uri',\n",
       "   'value': 'http://deeplink.rechtspraak.nl/uitspraak?id=ECLI:NL:HR:1999:ZC2912'},\n",
       "  'type': {'type': 'literal', 'value': 'link'}}]"
      ]
     },
     "execution_count": 21,
     "metadata": {},
     "output_type": "execute_result"
    }
   ],
   "source": [
    "[link for link in links if link['id']['value'].find('AF5891')>0]"
   ]
  },
  {
   "cell_type": "code",
   "execution_count": 22,
   "metadata": {
    "collapsed": true
   },
   "outputs": [],
   "source": [
    "vindplaatsen = [res for node in node_list for res in node['results']['bindings'] if res['type']['value']=='vindplaats']"
   ]
  },
  {
   "cell_type": "code",
   "execution_count": 23,
   "metadata": {
    "collapsed": false
   },
   "outputs": [
    {
     "data": {
      "text/plain": [
       "812"
      ]
     },
     "execution_count": 23,
     "metadata": {},
     "output_type": "execute_result"
    }
   ],
   "source": [
    "len(vindplaatsen)"
   ]
  },
  {
   "cell_type": "code",
   "execution_count": 24,
   "metadata": {
    "collapsed": false
   },
   "outputs": [
    {
     "data": {
      "text/plain": [
       "{'hasVersion': {'type': 'literal', 'value': 'JA 2012/125'},\n",
       " 'id': {'type': 'uri',\n",
       "  'value': 'http://deeplink.rechtspraak.nl/uitspraak?id=ECLI:NL:HR:2012:BV1295'},\n",
       " 'type': {'type': 'literal', 'value': 'vindplaats'}}"
      ]
     },
     "execution_count": 24,
     "metadata": {},
     "output_type": "execute_result"
    }
   ],
   "source": [
    "vindplaatsen[0]"
   ]
  },
  {
   "cell_type": "code",
   "execution_count": 25,
   "metadata": {
    "collapsed": true
   },
   "outputs": [],
   "source": [
    "def nodes_to_json(nodes_in, variables):\n",
    "    nodes_json = []\n",
    "    unique_ids = []\n",
    "    for d in nodes_in:\n",
    "        if d['id']['value'] not in unique_ids:\n",
    "            dout = {}\n",
    "            for var in variables:\n",
    "                dout[var] = d.get(var,{'value':''})['value']\n",
    "            nodes_json.append(dout)\n",
    "            unique_ids.append(d['id']['value'] )\n",
    "    return nodes_json, unique_ids"
   ]
  },
  {
   "cell_type": "code",
   "execution_count": 26,
   "metadata": {
    "collapsed": false
   },
   "outputs": [],
   "source": [
    "variables = [x for x in node_list[0]['head']['vars'] if x not in ['type', 'from', 'to']]\n",
    "nodes_json, unique_ids = nodes_to_json(nodes, variables)"
   ]
  },
  {
   "cell_type": "code",
   "execution_count": 27,
   "metadata": {
    "collapsed": false
   },
   "outputs": [],
   "source": [
    "# Extra preprocessing step: add articles:\n",
    "for node in nodes_json:\n",
    "    articles = matcher.get_articles(node['abstract'])\n",
    "    node['articles'] = {art+' '+book:cnt for (art,book), cnt in articles.items()}"
   ]
  },
  {
   "cell_type": "code",
   "execution_count": 28,
   "metadata": {
    "collapsed": true
   },
   "outputs": [],
   "source": [
    "# Add the number and nr of annotations of vindplaatsen\n",
    "count_version = {}\n",
    "count_annotation = {}\n",
    "for item in vindplaatsen:\n",
    "    id0 = item['id']['value']\n",
    "    val = item['hasVersion']['value']\n",
    "    count_version[id0] = count_version.get(id0 , 0) + 1\n",
    "    if val.lower().find('met annotatie') >= 0:\n",
    "        count_annotation[id0] = count_annotation.get(id0 , 0) + 1"
   ]
  },
  {
   "cell_type": "code",
   "execution_count": 29,
   "metadata": {
    "collapsed": false
   },
   "outputs": [],
   "source": [
    "for node in nodes_json:\n",
    "    node['count_version'] = count_version.get(node['id'], 0)\n",
    "    node['count_annotation'] = count_annotation.get(node['id'], 0)"
   ]
  },
  {
   "cell_type": "code",
   "execution_count": 30,
   "metadata": {
    "collapsed": false
   },
   "outputs": [
    {
     "name": "stdout",
     "output_type": "stream",
     "text": [
      "196 177\n"
     ]
    }
   ],
   "source": [
    "print(len(links), len(links_wgaans))"
   ]
  },
  {
   "cell_type": "code",
   "execution_count": 31,
   "metadata": {
    "collapsed": true
   },
   "outputs": [],
   "source": [
    "def links_to_json(links_in, node_ids):\n",
    "    links_json = []\n",
    "    for d in links_in:\n",
    "        target = d['to']['value']\n",
    "        if target in node_ids:\n",
    "            dout = {'source': d['id']['value'],\n",
    "                    'target': target }\n",
    "            dout['id'] = dout\n",
    "            links_json.append(dout)\n",
    "    return links_json"
   ]
  },
  {
   "cell_type": "code",
   "execution_count": 32,
   "metadata": {
    "collapsed": true
   },
   "outputs": [],
   "source": [
    "references = links_to_json(links, unique_ids)"
   ]
  },
  {
   "cell_type": "code",
   "execution_count": 33,
   "metadata": {
    "collapsed": true
   },
   "outputs": [],
   "source": [
    "import json\n",
    "\n",
    "filename = '/media/sf_VBox_Shared/CaseLaw/graphs/wgaans_sigma_v2.json.json'\n",
    "#Set id for sigma\n",
    "for r in references:\n",
    "    r['id'] = r['source'] + '_' + r['target']\n",
    "\n",
    "with open(filename, 'w') as outfile:\n",
    "    json.dump({'nodes': nodes_json, 'edges': references}, fp=outfile)"
   ]
  },
  {
   "cell_type": "code",
   "execution_count": null,
   "metadata": {
    "collapsed": true
   },
   "outputs": [],
   "source": []
  }
 ],
 "metadata": {
  "anaconda-cloud": {},
  "kernelspec": {
   "display_name": "Python [conda env:caselaw]",
   "language": "python",
   "name": "conda-env-caselaw-py"
  },
  "language_info": {
   "codemirror_mode": {
    "name": "ipython",
    "version": 3
   },
   "file_extension": ".py",
   "mimetype": "text/x-python",
   "name": "python",
   "nbconvert_exporter": "python",
   "pygments_lexer": "ipython3",
   "version": "3.5.2"
  }
 },
 "nbformat": 4,
 "nbformat_minor": 0
}
