{
 "cells": [
  {
   "cell_type": "code",
   "execution_count": 1,
   "metadata": {
    "collapsed": true
   },
   "outputs": [],
   "source": [
    "from lxml import etree\n",
    "import re\n",
    "import os\n",
    "import sqlite3\n",
    "import whoosh.index\n",
    "import whoosh.fields"
   ]
  },
  {
   "cell_type": "code",
   "execution_count": 2,
   "metadata": {
    "collapsed": true
   },
   "outputs": [],
   "source": [
    "conn = sqlite3.connect('rechtspraak.db')\n",
    "c = conn.cursor()"
   ]
  },
  {
   "cell_type": "code",
   "execution_count": 3,
   "metadata": {
    "collapsed": true
   },
   "outputs": [],
   "source": [
    "def retrieve_from_web(ecli):\n",
    "    link = 'http://data.rechtspraak.nl/uitspraken/content?id='+ecli\n",
    "    return etree.ElementTree().parse(link)\n",
    "\n",
    "def retrieve_from_filesystem(ecli, rootpath):\n",
    "    year = ecli[11:15]\n",
    "    fn = str(year)+'/'+re.sub(':', '_', ecli)+'.xml'\n",
    "    path = os.path.join(rootpath, fn)\n",
    "    try:\n",
    "        return etree.ElementTree().parse(path)\n",
    "    except Exception as e: \n",
    "        print('Exception: ', path)\n",
    "        print(e)\n",
    "        return None"
   ]
  },
  {
   "cell_type": "code",
   "execution_count": 2,
   "metadata": {
    "collapsed": true
   },
   "outputs": [],
   "source": [
    "rootpath = '/media/sf_VBox_Shared/CaseLaw/'\n",
    "xml_path = os.path.join(rootpath, 'OpenDataUitspraken/')"
   ]
  },
  {
   "cell_type": "code",
   "execution_count": 3,
   "metadata": {
    "collapsed": true
   },
   "outputs": [],
   "source": [
    "indexpath = os.path.join(rootpath, 'index')\n",
    "if not os.path.exists(indexpath):\n",
    "        os.makedirs(indexpath)"
   ]
  },
  {
   "cell_type": "code",
   "execution_count": 6,
   "metadata": {
    "collapsed": false
   },
   "outputs": [],
   "source": [
    "schema = whoosh.fields.Schema(path=whoosh.fields.ID(stored=True), \n",
    "                              content=whoosh.fields.TEXT)"
   ]
  },
  {
   "cell_type": "code",
   "execution_count": 4,
   "metadata": {
    "collapsed": false
   },
   "outputs": [],
   "source": [
    "#ix = whoosh.index.create_in(indexpath, schema)\n",
    "ix = whoosh.index.open_dir(indexpath)"
   ]
  },
  {
   "cell_type": "code",
   "execution_count": 8,
   "metadata": {
    "collapsed": true
   },
   "outputs": [],
   "source": [
    "def get_uitspraak_text(id0, element):\n",
    "    uitspraken = list(element.iterchildren('{*}uitspraak'))\n",
    "    if len(uitspraken)>0:\n",
    "        uitspraak = uitspraken[0]\n",
    "        uitspraak_xml = etree.tostring(uitspraak)\n",
    "        uitspraak_text = ' '.join([e.text for e in uitspraak.iterdescendants() if e.text is not None])\n",
    "        #remove consecutive spaces\n",
    "        uitspraak_text = re.sub(' +',' ', uitspraak_text)\n",
    "        return uitspraak_text"
   ]
  },
  {
   "cell_type": "code",
   "execution_count": null,
   "metadata": {
    "collapsed": false
   },
   "outputs": [],
   "source": [
    "ids = c.execute('SELECT id from uitspraken_meta').fetchall()#.fetchmany(10)\n",
    "writer = ix.writer()\n",
    "i = 0\n",
    "batchsize = 100\n",
    "for row in ids:\n",
    "    ecli = row[0]\n",
    "    xml_tree = retrieve_from_filesystem(ecli, xml_path)\n",
    "    if xml_tree is not None:\n",
    "        uitspraak_text = get_uitspraak_text(ecli, xml_tree)\n",
    "        writer.add_document(path=re.sub(':', '_', ecli)+'.xml',\n",
    "                    content=uitspraak_text)\n",
    "        i += 1\n",
    "        if i%batchsize == 0:\n",
    "            print(i)\n",
    "            writer.commit()\n",
    "            writer = ix.writer()\n",
    "writer.commit()"
   ]
  },
  {
   "cell_type": "code",
   "execution_count": 5,
   "metadata": {
    "collapsed": false
   },
   "outputs": [
    {
     "data": {
      "text/plain": [
       "27000"
      ]
     },
     "execution_count": 5,
     "metadata": {},
     "output_type": "execute_result"
    }
   ],
   "source": [
    "ix.doc_count()"
   ]
  },
  {
   "cell_type": "code",
   "execution_count": 10,
   "metadata": {
    "collapsed": false
   },
   "outputs": [
    {
     "name": "stdout",
     "output_type": "stream",
     "text": [
      "False\n"
     ]
    }
   ],
   "source": [
    "from whoosh.qparser import QueryParser\n",
    "query = 'aansprakelijkheid'\n",
    "with ix.searcher() as searcher:\n",
    "    query = QueryParser(\"content\", ix.schema).parse(query)\n",
    "    results = searcher.search(query)\n",
    "    print(results.is_empty())"
   ]
  },
  {
   "cell_type": "code",
   "execution_count": 11,
   "metadata": {
    "collapsed": false
   },
   "outputs": [
    {
     "data": {
      "text/plain": [
       "<generator object Results.items.<locals>.<genexpr> at 0x7f5b8a749e08>"
      ]
     },
     "execution_count": 11,
     "metadata": {},
     "output_type": "execute_result"
    }
   ],
   "source": [
    "results.items()"
   ]
  },
  {
   "cell_type": "code",
   "execution_count": 14,
   "metadata": {
    "collapsed": false
   },
   "outputs": [
    {
     "name": "stdout",
     "output_type": "stream",
     "text": [
      "[(8.00556356228712, 13078), (8.002779512479837, 26714), (7.769660772177065, 16000), (7.754754740713833, 20992), (7.686062655462563, 23641), (7.611378204505405, 5856), (7.5558330897620385, 26527), (7.5512970325708055, 26168), (7.523949516783552, 14232), (7.448067248644524, 19224)]\n"
     ]
    }
   ],
   "source": [
    "print(results.top_n)"
   ]
  },
  {
   "cell_type": "code",
   "execution_count": 30,
   "metadata": {
    "collapsed": true
   },
   "outputs": [],
   "source": [
    "ix.close()"
   ]
  },
  {
   "cell_type": "code",
   "execution_count": 13,
   "metadata": {
    "collapsed": true
   },
   "outputs": [],
   "source": [
    "conn.close()"
   ]
  },
  {
   "cell_type": "code",
   "execution_count": null,
   "metadata": {
    "collapsed": true
   },
   "outputs": [],
   "source": []
  }
 ],
 "metadata": {
  "anaconda-cloud": {},
  "kernelspec": {
   "display_name": "Python [conda env:caselaw]",
   "language": "python",
   "name": "conda-env-caselaw-py"
  },
  "language_info": {
   "codemirror_mode": {
    "name": "ipython",
    "version": 3
   },
   "file_extension": ".py",
   "mimetype": "text/x-python",
   "name": "python",
   "nbconvert_exporter": "python",
   "pygments_lexer": "ipython3",
   "version": "3.5.2"
  }
 },
 "nbformat": 4,
 "nbformat_minor": 0
}
