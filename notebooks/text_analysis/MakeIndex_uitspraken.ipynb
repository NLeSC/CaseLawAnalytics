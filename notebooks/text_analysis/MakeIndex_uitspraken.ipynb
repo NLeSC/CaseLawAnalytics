{
 "cells": [
  {
   "cell_type": "code",
   "execution_count": 1,
   "metadata": {
    "collapsed": true
   },
   "outputs": [],
   "source": [
    "from lxml import etree\n",
    "import re\n",
    "import os\n",
    "import sqlite3\n",
    "import whoosh.index\n",
    "import whoosh.fields"
   ]
  },
  {
   "cell_type": "code",
   "execution_count": 2,
   "metadata": {
    "collapsed": true
   },
   "outputs": [],
   "source": [
    "conn = sqlite3.connect('../rechtspraak.db')\n",
    "c = conn.cursor()"
   ]
  },
  {
   "cell_type": "code",
   "execution_count": 3,
   "metadata": {
    "collapsed": true
   },
   "outputs": [],
   "source": [
    "def retrieve_from_web(ecli):\n",
    "    link = 'http://data.rechtspraak.nl/uitspraken/content?id='+ecli\n",
    "    return etree.ElementTree().parse(link)\n",
    "\n",
    "def retrieve_from_filesystem(ecli, rootpath):\n",
    "    year = ecli[11:15]\n",
    "    fn = str(year)+'/'+re.sub(':', '_', ecli)+'.xml'\n",
    "    path = os.path.join(rootpath, fn)\n",
    "    try:\n",
    "        return etree.ElementTree().parse(path)\n",
    "    except Exception as e: \n",
    "        print('Exception: ', path)\n",
    "        print(e)\n",
    "        return None"
   ]
  },
  {
   "cell_type": "code",
   "execution_count": 2,
   "metadata": {
    "collapsed": true
   },
   "outputs": [],
   "source": [
    "rootpath = '/media/sf_VBox_Shared/CaseLaw/'\n",
    "xml_path = os.path.join(rootpath, 'OpenDataUitspraken/')"
   ]
  },
  {
   "cell_type": "code",
   "execution_count": 3,
   "metadata": {
    "collapsed": true
   },
   "outputs": [],
   "source": [
    "indexpath = os.path.join(rootpath, 'index')\n",
    "if not os.path.exists(indexpath):\n",
    "        os.makedirs(indexpath)"
   ]
  },
  {
   "cell_type": "code",
   "execution_count": 6,
   "metadata": {
    "collapsed": false
   },
   "outputs": [],
   "source": [
    "schema = whoosh.fields.Schema(path=whoosh.fields.ID(stored=True), \n",
    "                              content=whoosh.fields.TEXT)"
   ]
  },
  {
   "cell_type": "code",
   "execution_count": 4,
   "metadata": {
    "collapsed": false
   },
   "outputs": [],
   "source": [
    "#ix = whoosh.index.create_in(indexpath, schema)\n",
    "ix = whoosh.index.open_dir(indexpath)"
   ]
  },
  {
   "cell_type": "code",
   "execution_count": 8,
   "metadata": {
    "collapsed": true
   },
   "outputs": [],
   "source": [
    "def get_uitspraak_text(id0, element):\n",
    "    uitspraken = list(element.iterchildren('{*}uitspraak'))\n",
    "    if len(uitspraken)>0:\n",
    "        uitspraak = uitspraken[0]\n",
    "        uitspraak_xml = etree.tostring(uitspraak)\n",
    "        uitspraak_text = ' '.join([e.text for e in uitspraak.iterdescendants() if e.text is not None])\n",
    "        #remove consecutive spaces\n",
    "        uitspraak_text = re.sub(' +',' ', uitspraak_text)\n",
    "        return uitspraak_text"
   ]
  },
  {
   "cell_type": "code",
   "execution_count": null,
   "metadata": {
    "collapsed": false
   },
   "outputs": [],
   "source": [
    "ids = c.execute('SELECT id from uitspraken_meta').fetchall()#.fetchmany(10)\n",
    "writer = ix.writer()\n",
    "i = 0\n",
    "batchsize = 100\n",
    "for row in ids:\n",
    "    ecli = row[0]\n",
    "    xml_tree = retrieve_from_filesystem(ecli, xml_path)\n",
    "    if xml_tree is not None:\n",
    "        uitspraak_text = get_uitspraak_text(ecli, xml_tree)\n",
    "        writer.add_document(path=re.sub(':', '_', ecli)+'.xml',\n",
    "                    content=uitspraak_text)\n",
    "        i += 1\n",
    "        if i%batchsize == 0:\n",
    "            print(i)\n",
    "            writer.commit()\n",
    "            writer = ix.writer()\n",
    "writer.commit()"
   ]
  },
  {
   "cell_type": "code",
   "execution_count": 5,
   "metadata": {
    "collapsed": false
   },
   "outputs": [
    {
     "data": {
      "text/plain": [
       "27000"
      ]
     },
     "execution_count": 5,
     "metadata": {},
     "output_type": "execute_result"
    }
   ],
   "source": [
    "ix.doc_count()"
   ]
  },
  {
   "cell_type": "code",
   "execution_count": 41,
   "metadata": {
    "collapsed": false
   },
   "outputs": [
    {
     "name": "stdout",
     "output_type": "stream",
     "text": [
      "False\n",
      "90\n",
      "<Hit {'path': 'ECLI_NL_HR_2012_BV0616.xml'}>\n"
     ]
    }
   ],
   "source": [
    "from whoosh.qparser import QueryParser\n",
    "#query = 'werkgever aansprakelijkheid'\n",
    "query = '7:658'\n",
    "searcher = ix.searcher()\n",
    "query = QueryParser(\"content\", ix.schema).parse(query)\n",
    "results = searcher.search(query, limit=None)\n",
    "print(results.is_empty())\n",
    "print(len(results))\n",
    "print(results[0])"
   ]
  },
  {
   "cell_type": "code",
   "execution_count": 20,
   "metadata": {
    "collapsed": false
   },
   "outputs": [
    {
     "name": "stdout",
     "output_type": "stream",
     "text": [
      "(13078, 16.87403299472294)\n",
      "(10291, 15.319609413568433)\n",
      "(12075, 15.276825549466025)\n",
      "(17727, 14.310729606720846)\n",
      "(4471, 14.298012191872104)\n",
      "(7925, 14.045200000942202)\n",
      "(9715, 13.698638314053806)\n",
      "(9588, 13.548476398463475)\n",
      "(9693, 13.53002331979911)\n",
      "(5632, 13.514518668271261)\n"
     ]
    }
   ],
   "source": [
    "for it in results.items():\n",
    "    print(it)"
   ]
  },
  {
   "cell_type": "code",
   "execution_count": 37,
   "metadata": {
    "collapsed": false
   },
   "outputs": [
    {
     "data": {
      "text/plain": [
       "122"
      ]
     },
     "execution_count": 37,
     "metadata": {},
     "output_type": "execute_result"
    }
   ],
   "source": [
    "results.scored_length()"
   ]
  },
  {
   "cell_type": "code",
   "execution_count": 38,
   "metadata": {
    "collapsed": false
   },
   "outputs": [
    {
     "name": "stdout",
     "output_type": "stream",
     "text": [
      "<Hit {'path': 'ECLI_NL_HR_2012_BV1295.xml'}>\n"
     ]
    }
   ],
   "source": [
    "res0 = results[0]\n",
    "print(res0)"
   ]
  },
  {
   "cell_type": "code",
   "execution_count": 39,
   "metadata": {
    "collapsed": false
   },
   "outputs": [
    {
     "ename": "NoTermsException",
     "evalue": "",
     "output_type": "error",
     "traceback": [
      "\u001b[0;31m---------------------------------------------------------------------------\u001b[0m",
      "\u001b[0;31mNoTermsException\u001b[0m                          Traceback (most recent call last)",
      "\u001b[0;32m<ipython-input-39-6660e39a0040>\u001b[0m in \u001b[0;36m<module>\u001b[0;34m()\u001b[0m\n\u001b[0;32m----> 1\u001b[0;31m \u001b[0mres0\u001b[0m\u001b[0;34m.\u001b[0m\u001b[0mmatched_terms\u001b[0m\u001b[0;34m(\u001b[0m\u001b[0;34m)\u001b[0m\u001b[0;34m\u001b[0m\u001b[0m\n\u001b[0m",
      "\u001b[0;32m/home/dafne/anaconda2/envs/caselaw/lib/python3.5/site-packages/whoosh/searching.py\u001b[0m in \u001b[0;36mmatched_terms\u001b[0;34m(self)\u001b[0m\n\u001b[1;32m   1412\u001b[0m \u001b[0;34m\u001b[0m\u001b[0m\n\u001b[1;32m   1413\u001b[0m         \u001b[0;32mif\u001b[0m \u001b[0;32mnot\u001b[0m \u001b[0mself\u001b[0m\u001b[0;34m.\u001b[0m\u001b[0mresults\u001b[0m\u001b[0;34m.\u001b[0m\u001b[0mhas_matched_terms\u001b[0m\u001b[0;34m(\u001b[0m\u001b[0;34m)\u001b[0m\u001b[0;34m:\u001b[0m\u001b[0;34m\u001b[0m\u001b[0m\n\u001b[0;32m-> 1414\u001b[0;31m             \u001b[0;32mraise\u001b[0m \u001b[0mNoTermsException\u001b[0m\u001b[0;34m\u001b[0m\u001b[0m\n\u001b[0m\u001b[1;32m   1415\u001b[0m         \u001b[0;32mreturn\u001b[0m \u001b[0mself\u001b[0m\u001b[0;34m.\u001b[0m\u001b[0mresults\u001b[0m\u001b[0;34m.\u001b[0m\u001b[0mdocterms\u001b[0m\u001b[0;34m.\u001b[0m\u001b[0mget\u001b[0m\u001b[0;34m(\u001b[0m\u001b[0mself\u001b[0m\u001b[0;34m.\u001b[0m\u001b[0mdocnum\u001b[0m\u001b[0;34m,\u001b[0m \u001b[0;34m[\u001b[0m\u001b[0;34m]\u001b[0m\u001b[0;34m)\u001b[0m\u001b[0;34m\u001b[0m\u001b[0m\n\u001b[1;32m   1416\u001b[0m \u001b[0;34m\u001b[0m\u001b[0m\n",
      "\u001b[0;31mNoTermsException\u001b[0m: "
     ]
    }
   ],
   "source": [
    "res0.matched_terms()"
   ]
  },
  {
   "cell_type": "code",
   "execution_count": 42,
   "metadata": {
    "collapsed": false
   },
   "outputs": [],
   "source": [
    "searcher.close()"
   ]
  },
  {
   "cell_type": "code",
   "execution_count": 43,
   "metadata": {
    "collapsed": true
   },
   "outputs": [],
   "source": [
    "ix.close()"
   ]
  },
  {
   "cell_type": "code",
   "execution_count": 13,
   "metadata": {
    "collapsed": true
   },
   "outputs": [],
   "source": [
    "conn.close()"
   ]
  },
  {
   "cell_type": "code",
   "execution_count": null,
   "metadata": {
    "collapsed": true
   },
   "outputs": [],
   "source": []
  }
 ],
 "metadata": {
  "anaconda-cloud": {},
  "kernelspec": {
   "display_name": "Python [conda env:caselaw]",
   "language": "python",
   "name": "conda-env-caselaw-py"
  },
  "language_info": {
   "codemirror_mode": {
    "name": "ipython",
    "version": 3
   },
   "file_extension": ".py",
   "mimetype": "text/x-python",
   "name": "python",
   "nbconvert_exporter": "python",
   "pygments_lexer": "ipython3",
   "version": "3.5.2"
  }
 },
 "nbformat": 4,
 "nbformat_minor": 0
}
