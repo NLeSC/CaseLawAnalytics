{
 "cells": [
  {
   "cell_type": "code",
   "execution_count": 1,
   "metadata": {
    "collapsed": true
   },
   "outputs": [],
   "source": [
    "from SPARQLWrapper import SPARQLWrapper, JSON"
   ]
  },
  {
   "cell_type": "code",
   "execution_count": 2,
   "metadata": {
    "collapsed": false
   },
   "outputs": [],
   "source": [
    "#from pymantic import sparql"
   ]
  },
  {
   "cell_type": "code",
   "execution_count": 2,
   "metadata": {
    "collapsed": false
   },
   "outputs": [],
   "source": [
    "sparql = SPARQLWrapper(\"http://localhost:9999/blazegraph/namespace/hogeraad/sparql\")"
   ]
  },
  {
   "cell_type": "code",
   "execution_count": 22,
   "metadata": {
    "collapsed": false
   },
   "outputs": [],
   "source": [
    "# Load a datafile\n",
    "# filepath = \"/media/sf_VBox_Shared/CaseLaw/metadata/turtle/meta_1000.ttl\"\n",
    "# sparql.method = 'POST'\n",
    "# sparql.setQuery('LOAD <file://{}>'.format(filepath))\n",
    "# res = sparql.query()"
   ]
  },
  {
   "cell_type": "code",
   "execution_count": 3,
   "metadata": {
    "collapsed": false
   },
   "outputs": [
    {
     "data": {
      "text/plain": [
       "{'head': {'vars': ['count']},\n",
       " 'results': {'bindings': [{'count': {'datatype': 'http://www.w3.org/2001/XMLSchema#integer',\n",
       "     'type': 'literal',\n",
       "     'value': '115359'}}]}}"
      ]
     },
     "execution_count": 3,
     "metadata": {},
     "output_type": "execute_result"
    }
   ],
   "source": [
    "#Make a query\n",
    "queryString = \"select (COUNT(*) as ?count) {?s ?p ?o}\"\n",
    "sparql.setQuery(queryString)\n",
    "sparql.setReturnFormat(JSON)\n",
    "ret = sparql.query()\n",
    "ret.convert()"
   ]
  },
  {
   "cell_type": "code",
   "execution_count": 4,
   "metadata": {
    "collapsed": false
   },
   "outputs": [
    {
     "data": {
      "text/plain": [
       "{'head': {'vars': ['count']},\n",
       " 'results': {'bindings': [{'count': {'datatype': 'http://www.w3.org/2001/XMLSchema#integer',\n",
       "     'type': 'literal',\n",
       "     'value': '16389'}}]}}"
      ]
     },
     "execution_count": 4,
     "metadata": {},
     "output_type": "execute_result"
    }
   ],
   "source": [
    "queryString = \"prefix dcterm: <http://purl.org/dc/terms/> select (COUNT(*) as ?count) {?s dcterm:type <http://psi.rechtspraak.nl/uitspraak>}\"\n",
    "sparql.setQuery(queryString)\n",
    "sparql.setReturnFormat(JSON)\n",
    "ret = sparql.query()\n",
    "ret.convert()"
   ]
  },
  {
   "cell_type": "code",
   "execution_count": 5,
   "metadata": {
    "collapsed": true
   },
   "outputs": [],
   "source": [
    "query_allnodes1 = \"\"\"prefix dcterm: <http://purl.org/dc/terms/>\n",
    "select ?id ?title ?creator ?date ?subject ?abstract \n",
    "where {\n",
    "  ?id dcterm:references ?o1.\n",
    "  optional { ?id dcterm:creator ?creator}.\n",
    "   optional { ?id dcterm:abstract ?abstract}.\n",
    "   optional { ?id dcterm:subject ?subject}.\n",
    "   optional { ?id dcterm:date ?date}.\n",
    "   optional { ?id dcterm:title ?title}\n",
    "  \n",
    "}\n",
    "\"\"\"\n",
    "sparql.setQuery(query_allnodes1)\n",
    "sparql.setReturnFormat(JSON)\n",
    "ret = sparql.query()\n",
    "allnodes1 = ret.convert()"
   ]
  },
  {
   "cell_type": "code",
   "execution_count": 6,
   "metadata": {
    "collapsed": true
   },
   "outputs": [],
   "source": [
    "query_allnodes2 = \"\"\"prefix dcterm: <http://purl.org/dc/terms/>\n",
    "select ?id ?title ?creator ?date ?subject ?abstract \n",
    "where {\n",
    "  ?o dcterm:references ?id.\n",
    " optional { ?id dcterm:creator ?creator}.\n",
    "   optional { ?id dcterm:abstract ?abstract}.\n",
    "   optional { ?id dcterm:subject ?subject}.\n",
    "   optional { ?id dcterm:date ?date}.\n",
    "   optional { ?id dcterm:title ?title}\n",
    "}\n",
    "\"\"\"\n",
    "sparql.setQuery(query_allnodes2)\n",
    "sparql.setReturnFormat(JSON)\n",
    "ret = sparql.query()\n",
    "allnodes2 = ret.convert()"
   ]
  },
  {
   "cell_type": "code",
   "execution_count": 7,
   "metadata": {
    "collapsed": false
   },
   "outputs": [],
   "source": [
    "query_allreferences = \"\"\"prefix dcterm: <http://purl.org/dc/terms/>\n",
    "select ?from ?to \n",
    "where {\n",
    "  ?from dcterm:references ?to.\n",
    "}\n",
    "\"\"\"\n",
    "sparql.setQuery(query_allreferences)\n",
    "sparql.setReturnFormat(JSON)\n",
    "ret = sparql.query()\n",
    "allreferences = ret.convert()"
   ]
  },
  {
   "cell_type": "code",
   "execution_count": 8,
   "metadata": {
    "collapsed": false
   },
   "outputs": [],
   "source": [
    "references = [{'source': d['from']['value'], 'target': d['to']['value']} for d in allreferences['results']['bindings']]"
   ]
  },
  {
   "cell_type": "code",
   "execution_count": 9,
   "metadata": {
    "collapsed": false
   },
   "outputs": [],
   "source": [
    "nodes = []\n",
    "unique_ids = []\n",
    "for d in allnodes1['results']['bindings'] + allnodes2['results']['bindings']:\n",
    "    if d['id']['value'] not in unique_ids:\n",
    "        dout = {}\n",
    "        for var in allnodes1['head']['vars']:\n",
    "            dout[var] = d.get(var,{'value':''})['value']\n",
    "        nodes.append(dout)\n",
    "        unique_ids.append(d['id']['value'] )"
   ]
  },
  {
   "cell_type": "code",
   "execution_count": 10,
   "metadata": {
    "collapsed": false
   },
   "outputs": [],
   "source": [
    "ids_ref = set([d['source'] for d in references] + [d['target'] for d in references])\n",
    "ids_nodes = set([d['id'] for d in nodes])"
   ]
  },
  {
   "cell_type": "code",
   "execution_count": 45,
   "metadata": {
    "collapsed": false
   },
   "outputs": [
    {
     "name": "stdout",
     "output_type": "stream",
     "text": [
      "156 156 156\n"
     ]
    }
   ],
   "source": [
    "print(len(ids_ref), len(ids_nodes), len(nodes))"
   ]
  },
  {
   "cell_type": "code",
   "execution_count": 46,
   "metadata": {
    "collapsed": false
   },
   "outputs": [],
   "source": [
    "import json\n",
    "with open('/media/sf_VBox_Shared/CaseLaw/graphs/wgaans.json', 'w') as outfile:\n",
    "    json.dump({'nodes': nodes, 'links': references}, fp=outfile)"
   ]
  },
  {
   "cell_type": "code",
   "execution_count": 13,
   "metadata": {
    "collapsed": false
   },
   "outputs": [],
   "source": [
    "import json\n",
    "#Set id for sigma\n",
    "for r in references:\n",
    "    r['id'] = r['source'] + '_' + r['target']\n",
    "\n",
    "with open('/media/sf_VBox_Shared/CaseLaw/graphs/wgaans_sigma.json', 'w') as outfile:\n",
    "    json.dump({'nodes': nodes, 'edges': references}, fp=outfile)"
   ]
  },
  {
   "cell_type": "code",
   "execution_count": null,
   "metadata": {
    "collapsed": true
   },
   "outputs": [],
   "source": []
  }
 ],
 "metadata": {
  "anaconda-cloud": {},
  "kernelspec": {
   "display_name": "Python [conda env:caselaw]",
   "language": "python",
   "name": "conda-env-caselaw-py"
  },
  "language_info": {
   "codemirror_mode": {
    "name": "ipython",
    "version": 3
   },
   "file_extension": ".py",
   "mimetype": "text/x-python",
   "name": "python",
   "nbconvert_exporter": "python",
   "pygments_lexer": "ipython3",
   "version": "3.5.2"
  }
 },
 "nbformat": 4,
 "nbformat_minor": 0
}
