{
 "cells": [
  {
   "cell_type": "code",
   "execution_count": 1,
   "metadata": {
    "collapsed": true
   },
   "outputs": [],
   "source": [
    "from SPARQLWrapper import SPARQLWrapper, JSON"
   ]
  },
  {
   "cell_type": "code",
   "execution_count": 2,
   "metadata": {
    "collapsed": false
   },
   "outputs": [],
   "source": [
    "sparql = SPARQLWrapper(\"http://localhost:9999/blazegraph/namespace/hogeraad/sparql\")"
   ]
  },
  {
   "cell_type": "code",
   "execution_count": 3,
   "metadata": {
    "collapsed": false
   },
   "outputs": [
    {
     "data": {
      "text/plain": [
       "{'head': {'vars': ['count']},\n",
       " 'results': {'bindings': [{'count': {'datatype': 'http://www.w3.org/2001/XMLSchema#integer',\n",
       "     'type': 'literal',\n",
       "     'value': '16389'}}]}}"
      ]
     },
     "execution_count": 3,
     "metadata": {},
     "output_type": "execute_result"
    }
   ],
   "source": [
    "queryString = \"prefix dcterm: <http://purl.org/dc/terms/> select (COUNT(*) as ?count) {?s dcterm:type <http://psi.rechtspraak.nl/uitspraak>}\"\n",
    "sparql.setQuery(queryString)\n",
    "sparql.setReturnFormat(JSON)\n",
    "ret = sparql.query()\n",
    "ret.convert()"
   ]
  },
  {
   "cell_type": "code",
   "execution_count": 4,
   "metadata": {
    "collapsed": true
   },
   "outputs": [],
   "source": [
    "searchstring = \"werkgever aansprakelijkheid\""
   ]
  },
  {
   "cell_type": "code",
   "execution_count": 5,
   "metadata": {
    "collapsed": false
   },
   "outputs": [],
   "source": [
    "query_nodesandrefs = '''prefix dcterm: <http://purl.org/dc/terms/>\n",
    "prefix bds: <http://www.bigdata.com/rdf/search#>\n",
    "select ?type ?id ?to ?title ?creator ?date ?subject ?abstract\n",
    "with {\n",
    " \tselect ?id\n",
    "\twhere { \n",
    "      ?o bds:search \"''' + searchstring + '''\" .\n",
    "      ?id ?p ?o .\n",
    "      ?id dcterm:type\t<http://psi.rechtspraak.nl/uitspraak>.\n",
    "     }\n",
    "} as %matcheddocs\n",
    "where {\n",
    "  {\n",
    "    BIND(\"link\" AS ?type).\n",
    "    ?id dcterm:references ?to.\n",
    "    include %matcheddocs\n",
    "  }\n",
    "   union\n",
    "    {\n",
    "    include %matcheddocs\n",
    "    BIND(\"node\" AS ?type).\n",
    "   ?id dcterm:type\t<http://psi.rechtspraak.nl/uitspraak>.\n",
    "       optional { ?id dcterm:creator ?creator}.\n",
    "   optional { ?id dcterm:abstract ?abstract}.\n",
    "   optional { ?id dcterm:subject ?subject}.\n",
    "   optional { ?id dcterm:date ?date}.\n",
    "   optional { ?id dcterm:title ?title}\n",
    "  }\n",
    "}\n",
    "'''\n",
    "sparql.setQuery(query_nodesandrefs)\n",
    "sparql.setReturnFormat(JSON)\n",
    "ret = sparql.query()\n",
    "nodesandrefs = ret.convert()"
   ]
  },
  {
   "cell_type": "code",
   "execution_count": 6,
   "metadata": {
    "collapsed": false
   },
   "outputs": [
    {
     "name": "stdout",
     "output_type": "stream",
     "text": [
      "865 286\n"
     ]
    }
   ],
   "source": [
    "nodes = [res for res in nodesandrefs['results']['bindings'] if res['type']['value']=='node']\n",
    "links = [res for res in nodesandrefs['results']['bindings'] if res['type']['value']=='link']\n",
    "print(len(nodes), len(links))"
   ]
  },
  {
   "cell_type": "code",
   "execution_count": 7,
   "metadata": {
    "collapsed": false
   },
   "outputs": [
    {
     "data": {
      "text/plain": [
       "['type', 'id', 'to', 'title', 'creator', 'date', 'subject', 'abstract']"
      ]
     },
     "execution_count": 7,
     "metadata": {},
     "output_type": "execute_result"
    }
   ],
   "source": [
    "nodesandrefs['head']['vars']"
   ]
  },
  {
   "cell_type": "code",
   "execution_count": 8,
   "metadata": {
    "collapsed": false
   },
   "outputs": [],
   "source": [
    "def nodes_to_json(nodes_in, variables):\n",
    "    nodes_json = []\n",
    "    unique_ids = []\n",
    "    for d in nodes_in:\n",
    "        if d['id']['value'] not in unique_ids:\n",
    "            dout = {}\n",
    "            for var in variables:\n",
    "                dout[var] = d.get(var,{'value':''})['value']\n",
    "            nodes_json.append(dout)\n",
    "            unique_ids.append(d['id']['value'] )\n",
    "    return nodes_json, unique_ids"
   ]
  },
  {
   "cell_type": "code",
   "execution_count": 9,
   "metadata": {
    "collapsed": false
   },
   "outputs": [],
   "source": [
    "variables = [x for x in nodesandrefs['head']['vars'] if x not in ['type', 'from', 'to']]\n",
    "nodes_json, unique_ids = nodes_to_json(nodes, variables)"
   ]
  },
  {
   "cell_type": "code",
   "execution_count": 10,
   "metadata": {
    "collapsed": false
   },
   "outputs": [
    {
     "data": {
      "text/plain": [
       "{'abstract': 'Faillissementsrecht. Bestuurdersaansprakelijkheid boedeltekort; kennelijk onbehoorlijke bestuur; hoofdelijke aansprakelijkheid van een rechtspersoon als bestuurder van een andere rechtspersoon als bedoeld in art. 2:11 BW (81 RO).',\n",
       " 'creator': 'http://standaarden.overheid.nl/owms/terms/Hoge_Raad_der_Nederlanden',\n",
       " 'date': '2008-12-19',\n",
       " 'id': 'http://deeplink.rechtspraak.nl/uitspraak?id=ECLI:NL:HR:2008:BG3579',\n",
       " 'subject': 'http://psi.rechtspraak.nl/rechtsgebied#civielRecht',\n",
       " 'title': 'ECLI:NL:HR:2008:BG3579 Hoge Raad , 19-12-2008 / C07/120HR'}"
      ]
     },
     "execution_count": 10,
     "metadata": {},
     "output_type": "execute_result"
    }
   ],
   "source": [
    "nodes_json[0]"
   ]
  },
  {
   "cell_type": "code",
   "execution_count": 11,
   "metadata": {
    "collapsed": false
   },
   "outputs": [
    {
     "data": {
      "text/plain": [
       "286"
      ]
     },
     "execution_count": 11,
     "metadata": {},
     "output_type": "execute_result"
    }
   ],
   "source": [
    "len(links)"
   ]
  },
  {
   "cell_type": "code",
   "execution_count": 12,
   "metadata": {
    "collapsed": false
   },
   "outputs": [],
   "source": [
    "#\n",
    "def links_to_json(links_in, node_ids):\n",
    "    links_json = []\n",
    "    for d in links_in:\n",
    "        target = d['to']['value']\n",
    "        if target in node_ids:\n",
    "            dout = {'source': d['id']['value'],\n",
    "                    'target': target }\n",
    "            dout['id'] = dout\n",
    "            links_json.append(dout)\n",
    "    return links_json"
   ]
  },
  {
   "cell_type": "code",
   "execution_count": 13,
   "metadata": {
    "collapsed": true
   },
   "outputs": [],
   "source": [
    "references = links_to_json(links, unique_ids)"
   ]
  },
  {
   "cell_type": "code",
   "execution_count": 14,
   "metadata": {
    "collapsed": false
   },
   "outputs": [],
   "source": [
    "ids_ref = set([d['source'] for d in references] + [d['target'] for d in references])\n",
    "ids_nodes = set([d['id'] for d in nodes_json])"
   ]
  },
  {
   "cell_type": "code",
   "execution_count": 15,
   "metadata": {
    "collapsed": false
   },
   "outputs": [
    {
     "name": "stdout",
     "output_type": "stream",
     "text": [
      "87 286 705 865\n"
     ]
    }
   ],
   "source": [
    "print(len(ids_ref), len(links), len(ids_nodes), len(nodes))"
   ]
  },
  {
   "cell_type": "code",
   "execution_count": 46,
   "metadata": {
    "collapsed": false
   },
   "outputs": [],
   "source": [
    "import json\n",
    "filename = '/media/sf_VBox_Shared/CaseLaw/graphs/d3.json'\n",
    "\n",
    "with open(filenaam, 'w') as outfile:\n",
    "    json.dump({'nodes': nodes_json, 'links': references}, fp=outfile)"
   ]
  },
  {
   "cell_type": "code",
   "execution_count": 18,
   "metadata": {
    "collapsed": false
   },
   "outputs": [],
   "source": [
    "import json\n",
    "\n",
    "filename = '/media/sf_VBox_Shared/CaseLaw/graphs/sigma.json'\n",
    "#Set id for sigma\n",
    "for r in references:\n",
    "    r['id'] = r['source'] + '_' + r['target']\n",
    "\n",
    "with open(filename, 'w') as outfile:\n",
    "    json.dump({'nodes': nodes_json, 'edges': references}, fp=outfile)"
   ]
  },
  {
   "cell_type": "code",
   "execution_count": 21,
   "metadata": {
    "collapsed": false
   },
   "outputs": [
    {
     "data": {
      "text/plain": [
       "0"
      ]
     },
     "execution_count": 21,
     "metadata": {},
     "output_type": "execute_result"
    }
   ],
   "source": [
    "sum([node['date']=='' for node in nodes_json])"
   ]
  },
  {
   "cell_type": "code",
   "execution_count": null,
   "metadata": {
    "collapsed": true
   },
   "outputs": [],
   "source": []
  }
 ],
 "metadata": {
  "anaconda-cloud": {},
  "kernelspec": {
   "display_name": "Python [conda env:caselaw]",
   "language": "python",
   "name": "conda-env-caselaw-py"
  },
  "language_info": {
   "codemirror_mode": {
    "name": "ipython",
    "version": 3
   },
   "file_extension": ".py",
   "mimetype": "text/x-python",
   "name": "python",
   "nbconvert_exporter": "python",
   "pygments_lexer": "ipython3",
   "version": "3.5.2"
  }
 },
 "nbformat": 4,
 "nbformat_minor": 0
}
