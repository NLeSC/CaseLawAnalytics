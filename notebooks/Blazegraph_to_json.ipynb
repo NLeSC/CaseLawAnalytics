{
 "cells": [
  {
   "cell_type": "code",
   "execution_count": 39,
   "metadata": {
    "collapsed": false
   },
   "outputs": [
    {
     "name": "stdout",
     "output_type": "stream",
     "text": [
      "The autoreload extension is already loaded. To reload it, use:\n",
      "  %reload_ext autoreload\n"
     ]
    }
   ],
   "source": [
    "%load_ext autoreload\n",
    "%autoreload 2\n",
    "\n",
    "from SPARQLWrapper import SPARQLWrapper, JSON\n",
    "import os\n",
    "import sys\n",
    "sys.path.insert(0, os.path.abspath('..'))\n",
    "import  parser.matcher as matcher\n",
    "import blazegraph_querier.query_to_json as query_to_json"
   ]
  },
  {
   "cell_type": "code",
   "execution_count": 2,
   "metadata": {
    "collapsed": false
   },
   "outputs": [],
   "source": [
    "sparql = SPARQLWrapper(\"http://localhost:9999/blazegraph/namespace/hogeraad/sparql\")"
   ]
  },
  {
   "cell_type": "code",
   "execution_count": 44,
   "metadata": {
    "collapsed": false
   },
   "outputs": [
    {
     "data": {
      "text/plain": [
       "{'head': {'vars': ['count']},\n",
       " 'results': {'bindings': [{'count': {'datatype': 'http://www.w3.org/2001/XMLSchema#integer',\n",
       "     'type': 'literal',\n",
       "     'value': '29605'}}]}}"
      ]
     },
     "execution_count": 44,
     "metadata": {},
     "output_type": "execute_result"
    }
   ],
   "source": [
    "queryString = \"prefix dcterm: <http://purl.org/dc/terms/> select (COUNT(*) as ?count) {?s dcterm:type <http://psi.rechtspraak.nl/uitspraak>}\"\n",
    "sparql.setQuery(queryString)\n",
    "sparql.setReturnFormat(JSON)\n",
    "ret = sparql.query()\n",
    "ret.convert()"
   ]
  },
  {
   "cell_type": "code",
   "execution_count": 59,
   "metadata": {
    "collapsed": false
   },
   "outputs": [],
   "source": [
    "searchstring = 'insolventierecht'\n",
    "pred = 'dcterm:subject'\n",
    "obj = '<http://psi.rechtspraak.nl/rechtsgebied#civielRecht_insolventierecht>'\n",
    "nodes_json, links_json = query_to_json.query(None, only_linked=False, sparql=None, pred=pred, obj=obj)"
   ]
  },
  {
   "cell_type": "code",
   "execution_count": 45,
   "metadata": {
    "collapsed": false
   },
   "outputs": [],
   "source": [
    "searchstring =  'werkgever aansprakelijkheid'\n",
    "\n",
    "nodes_json, links_json = query_to_json.query(searchstring, only_linked=False, sparql=None)"
   ]
  },
  {
   "cell_type": "code",
   "execution_count": 60,
   "metadata": {
    "collapsed": false
   },
   "outputs": [
    {
     "data": {
      "text/plain": [
       "809"
      ]
     },
     "execution_count": 60,
     "metadata": {},
     "output_type": "execute_result"
    }
   ],
   "source": [
    "len(nodes_json)"
   ]
  },
  {
   "cell_type": "code",
   "execution_count": 61,
   "metadata": {
    "collapsed": true
   },
   "outputs": [],
   "source": [
    "import urllib"
   ]
  },
  {
   "cell_type": "code",
   "execution_count": 62,
   "metadata": {
    "collapsed": false
   },
   "outputs": [],
   "source": [
    "filename = '/media/sf_VBox_Shared/CaseLaw/graphs/json_sigma/sigma_'+ urllib.parse.quote(searchstring) + '.json'\n",
    "query_to_json.to_sigma_json(nodes_json, links_json, filename)"
   ]
  },
  {
   "cell_type": "code",
   "execution_count": 63,
   "metadata": {
    "collapsed": false
   },
   "outputs": [],
   "source": [
    "filename_d3 = '/media/sf_VBox_Shared/CaseLaw/graphs/d3_' + searchstring +'.json'\n",
    "query_to_json.to_d3_json(nodes_json, links_json, filename_d3)"
   ]
  },
  {
   "cell_type": "code",
   "execution_count": null,
   "metadata": {
    "collapsed": true
   },
   "outputs": [],
   "source": []
  }
 ],
 "metadata": {
  "anaconda-cloud": {},
  "kernelspec": {
   "display_name": "Python [conda env:caselaw]",
   "language": "python",
   "name": "conda-env-caselaw-py"
  },
  "language_info": {
   "codemirror_mode": {
    "name": "ipython",
    "version": 3
   },
   "file_extension": ".py",
   "mimetype": "text/x-python",
   "name": "python",
   "nbconvert_exporter": "python",
   "pygments_lexer": "ipython3",
   "version": "3.5.2"
  }
 },
 "nbformat": 4,
 "nbformat_minor": 0
}
