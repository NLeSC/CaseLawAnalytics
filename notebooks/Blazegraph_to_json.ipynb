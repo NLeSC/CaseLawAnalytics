{
 "cells": [
  {
   "cell_type": "code",
   "execution_count": 1,
   "metadata": {
    "collapsed": false
   },
   "outputs": [],
   "source": [
    "%load_ext autoreload\n",
    "%autoreload 2\n",
    "\n",
    "from SPARQLWrapper import SPARQLWrapper, JSON\n",
    "import os\n",
    "import sys\n",
    "sys.path.insert(0, os.path.abspath('..'))\n",
    "import  rechtspraak_parser.matcher as matcher\n",
    "import blazegraph_querier.query_to_json as query_to_json"
   ]
  },
  {
   "cell_type": "code",
   "execution_count": 2,
   "metadata": {
    "collapsed": false
   },
   "outputs": [],
   "source": [
    "sparql = SPARQLWrapper(\"http://localhost:9999/blazegraph/namespace/hogeraad/sparql\")"
   ]
  },
  {
   "cell_type": "code",
   "execution_count": 44,
   "metadata": {
    "collapsed": false
   },
   "outputs": [
    {
     "data": {
      "text/plain": [
       "{'head': {'vars': ['count']},\n",
       " 'results': {'bindings': [{'count': {'datatype': 'http://www.w3.org/2001/XMLSchema#integer',\n",
       "     'type': 'literal',\n",
       "     'value': '29605'}}]}}"
      ]
     },
     "execution_count": 44,
     "metadata": {},
     "output_type": "execute_result"
    }
   ],
   "source": [
    "queryString = \"prefix dcterm: <http://purl.org/dc/terms/> select (COUNT(*) as ?count) {?s dcterm:type <http://psi.rechtspraak.nl/uitspraak>}\"\n",
    "sparql.setQuery(queryString)\n",
    "sparql.setReturnFormat(JSON)\n",
    "ret = sparql.query()\n",
    "ret.convert()"
   ]
  },
  {
   "cell_type": "code",
   "execution_count": 11,
   "metadata": {
    "collapsed": false
   },
   "outputs": [],
   "source": [
    "searchstring = 'Personen- en familierecht'\n",
    "pred = 'dcterm:subject'\n",
    "obj = '<http://psi.rechtspraak.nl/rechtsgebied#civielRecht_personenEnFamilierecht>'\n",
    "nodes_json, links_json = query_to_json.query(None, only_linked=False, sparql=None, pred=pred, obj=obj)"
   ]
  },
  {
   "cell_type": "code",
   "execution_count": 8,
   "metadata": {
    "collapsed": true
   },
   "outputs": [],
   "source": [
    "searchstring = 'BWB7-685'\n",
    "pred = 'dcterm:reference'\n",
    "obj = '<bwb-dl1.0:v:BWB:BWBR0005290&artikel=685>'\n",
    "nodes_json, links_json = query_to_json.query(None, only_linked=False, sparql=None, pred=pred, obj=obj)"
   ]
  },
  {
   "cell_type": "code",
   "execution_count": 3,
   "metadata": {
    "collapsed": false
   },
   "outputs": [],
   "source": [
    "searchstring =  'werkgever aansprakelijkheid'\n",
    "\n",
    "nodes_json, links_json = query_to_json.query(searchstring, only_linked=False, sparql=None)"
   ]
  },
  {
   "cell_type": "code",
   "execution_count": 12,
   "metadata": {
    "collapsed": false
   },
   "outputs": [
    {
     "data": {
      "text/plain": [
       "1038"
      ]
     },
     "execution_count": 12,
     "metadata": {},
     "output_type": "execute_result"
    }
   ],
   "source": [
    "len(nodes_json)"
   ]
  },
  {
   "cell_type": "code",
   "execution_count": 13,
   "metadata": {
    "collapsed": false
   },
   "outputs": [
    {
     "data": {
      "text/plain": [
       "{'abstract': 'Art. 81 lid 1 RO. Personen- en familierecht. Kinderalimentatie. Draagkracht. Overleggen van nieuwe stukken nadat advocaat zich heeft onttrokken. Verplichte procesvertegenwoordiging; art. 282 lid 1 Rv, art. 278 lid 3 Rv, art. 279 Rv.',\n",
       " 'articles': ['81 ro'],\n",
       " 'authorities': 0.0,\n",
       " 'betweenness_centrality': 0.0,\n",
       " 'count_annotation': 0,\n",
       " 'count_version': 3,\n",
       " 'creator': 'http://standaarden.overheid.nl/owms/terms/Hoge_Raad_der_Nederlanden',\n",
       " 'date': '2015-09-25',\n",
       " 'degree': 0,\n",
       " 'degree_centrality': 0.0,\n",
       " 'ecli': 'ECLI:NL:HR:2015:2822',\n",
       " 'hubs': 0.0,\n",
       " 'id': 'http://deeplink.rechtspraak.nl/uitspraak?id=ECLI:NL:HR:2015:2822',\n",
       " 'in_degree': 0,\n",
       " 'in_degree_centrality': 0.0,\n",
       " 'out_degree': 0,\n",
       " 'out_degree_centrality': 0.0,\n",
       " 'subject': 'http://psi.rechtspraak.nl/rechtsgebied#civielRecht_personenEnFamilierecht',\n",
       " 'title': 'ECLI:NL:HR:2015:2822 Hoge Raad , 25-09-2015 / 14/06585',\n",
       " 'year': 2015}"
      ]
     },
     "execution_count": 13,
     "metadata": {},
     "output_type": "execute_result"
    }
   ],
   "source": [
    "nodes_json[0]"
   ]
  },
  {
   "cell_type": "code",
   "execution_count": 23,
   "metadata": {
    "collapsed": true
   },
   "outputs": [],
   "source": [
    "import urllib"
   ]
  },
  {
   "cell_type": "code",
   "execution_count": 24,
   "metadata": {
    "collapsed": false
   },
   "outputs": [],
   "source": [
    "filename = '/media/sf_VBox_Shared/CaseLaw/graphs/json_sigma/sigma_'+ urllib.parse.quote(searchstring) + '.json'\n",
    "query_to_json.to_sigma_json(nodes_json, links_json, searchstring, filename)"
   ]
  },
  {
   "cell_type": "code",
   "execution_count": 25,
   "metadata": {
    "collapsed": false
   },
   "outputs": [],
   "source": [
    "filename_csv = '/media/sf_VBox_Shared/CaseLaw/spot/'+ urllib.parse.quote(searchstring) + '.csv'\n",
    "query_to_json.to_csv(nodes_json, filename_csv)"
   ]
  },
  {
   "cell_type": "code",
   "execution_count": 3,
   "metadata": {
    "collapsed": false
   },
   "outputs": [],
   "source": [
    "nodes_and_links = query_to_json.retrieve_from_sparql(\"werkgever aansprakelijkheid\", sparql)"
   ]
  },
  {
   "cell_type": "code",
   "execution_count": 4,
   "metadata": {
    "collapsed": false
   },
   "outputs": [],
   "source": [
    "data = nodes_and_links['results']['bindings']"
   ]
  },
  {
   "cell_type": "code",
   "execution_count": 5,
   "metadata": {
    "collapsed": false
   },
   "outputs": [
    {
     "data": {
      "text/plain": [
       "{'id': {'type': 'uri',\n",
       "  'value': 'http://deeplink.rechtspraak.nl/uitspraak?id=ECLI:NL:HR:2011:BR5223'},\n",
       " 'to': {'type': 'uri',\n",
       "  'value': 'http://deeplink.rechtspraak.nl/uitspraak?id=ECLI:NL:HR:2008:BD3129'},\n",
       " 'type': {'type': 'literal', 'value': 'link'}}"
      ]
     },
     "execution_count": 5,
     "metadata": {},
     "output_type": "execute_result"
    }
   ],
   "source": [
    "data[0]"
   ]
  },
  {
   "cell_type": "code",
   "execution_count": 9,
   "metadata": {
    "collapsed": false
   },
   "outputs": [],
   "source": [
    "def transform_data_point(data_point):\n",
    "    return {k: data_point[k]['value'] for k in data_point} "
   ]
  },
  {
   "cell_type": "code",
   "execution_count": 10,
   "metadata": {
    "collapsed": false
   },
   "outputs": [
    {
     "data": {
      "text/plain": [
       "{'id': 'http://deeplink.rechtspraak.nl/uitspraak?id=ECLI:NL:HR:2011:BR5223',\n",
       " 'to': 'http://deeplink.rechtspraak.nl/uitspraak?id=ECLI:NL:HR:2008:BD3129',\n",
       " 'type': 'link'}"
      ]
     },
     "execution_count": 10,
     "metadata": {},
     "output_type": "execute_result"
    }
   ],
   "source": [
    "transform_data_point(data[0])"
   ]
  },
  {
   "cell_type": "code",
   "execution_count": null,
   "metadata": {
    "collapsed": true
   },
   "outputs": [],
   "source": []
  }
 ],
 "metadata": {
  "anaconda-cloud": {},
  "kernelspec": {
   "display_name": "Python [conda env:caselaw]",
   "language": "python",
   "name": "conda-env-caselaw-py"
  },
  "language_info": {
   "codemirror_mode": {
    "name": "ipython",
    "version": 3
   },
   "file_extension": ".py",
   "mimetype": "text/x-python",
   "name": "python",
   "nbconvert_exporter": "python",
   "pygments_lexer": "ipython3",
   "version": "3.5.2"
  }
 },
 "nbformat": 4,
 "nbformat_minor": 0
}
