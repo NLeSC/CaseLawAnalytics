{
 "cells": [
  {
   "cell_type": "code",
   "execution_count": 1,
   "metadata": {
    "collapsed": false
   },
   "outputs": [],
   "source": [
    "%load_ext autoreload\n",
    "%autoreload 2\n",
    "\n",
    "from SPARQLWrapper import SPARQLWrapper, JSON\n",
    "import os\n",
    "import sys\n",
    "sys.path.insert(0, os.path.abspath('..'))\n",
    "import  parser.matcher as matcher\n",
    "import blazegraph_querier.query_to_json as query_to_json"
   ]
  },
  {
   "cell_type": "code",
   "execution_count": 2,
   "metadata": {
    "collapsed": false
   },
   "outputs": [],
   "source": [
    "sparql = SPARQLWrapper(\"http://localhost:9999/blazegraph/namespace/hogeraad/sparql\")"
   ]
  },
  {
   "cell_type": "code",
   "execution_count": 44,
   "metadata": {
    "collapsed": false
   },
   "outputs": [
    {
     "data": {
      "text/plain": [
       "{'head': {'vars': ['count']},\n",
       " 'results': {'bindings': [{'count': {'datatype': 'http://www.w3.org/2001/XMLSchema#integer',\n",
       "     'type': 'literal',\n",
       "     'value': '29605'}}]}}"
      ]
     },
     "execution_count": 44,
     "metadata": {},
     "output_type": "execute_result"
    }
   ],
   "source": [
    "queryString = \"prefix dcterm: <http://purl.org/dc/terms/> select (COUNT(*) as ?count) {?s dcterm:type <http://psi.rechtspraak.nl/uitspraak>}\"\n",
    "sparql.setQuery(queryString)\n",
    "sparql.setReturnFormat(JSON)\n",
    "ret = sparql.query()\n",
    "ret.convert()"
   ]
  },
  {
   "cell_type": "code",
   "execution_count": 20,
   "metadata": {
    "collapsed": false
   },
   "outputs": [],
   "source": [
    "searchstring = 'insolventierecht'\n",
    "pred = 'dcterm:subject'\n",
    "obj = '<http://psi.rechtspraak.nl/rechtsgebied#civielRecht_insolventierecht>'\n",
    "nodes_json, links_json = query_to_json.query(None, only_linked=False, sparql=None, pred=pred, obj=obj)"
   ]
  },
  {
   "cell_type": "code",
   "execution_count": 27,
   "metadata": {
    "collapsed": true
   },
   "outputs": [],
   "source": [
    "searchstring = 'BWB7-685'\n",
    "pred = 'dcterm:reference'\n",
    "obj = '<bwb-dl1.0:v:BWB:BWBR0005290&artikel=685>'\n",
    "nodes_json, links_json = query_to_json.query(None, only_linked=False, sparql=None, pred=pred, obj=obj)"
   ]
  },
  {
   "cell_type": "code",
   "execution_count": 30,
   "metadata": {
    "collapsed": false
   },
   "outputs": [],
   "source": [
    "searchstring =  'werkgever aansprakelijkheid'\n",
    "\n",
    "nodes_json, links_json = query_to_json.query(searchstring, only_linked=False, sparql=None)"
   ]
  },
  {
   "cell_type": "code",
   "execution_count": 31,
   "metadata": {
    "collapsed": false
   },
   "outputs": [
    {
     "data": {
      "text/plain": [
       "138"
      ]
     },
     "execution_count": 31,
     "metadata": {},
     "output_type": "execute_result"
    }
   ],
   "source": [
    "len(nodes_json)"
   ]
  },
  {
   "cell_type": "code",
   "execution_count": 33,
   "metadata": {
    "collapsed": false
   },
   "outputs": [
    {
     "data": {
      "text/plain": [
       "{'abstract': 'Arbeidsrecht. Verjaring van op grond van art. 7:658 BW tegen werkgever ingestelde vordering tot vergoeding schade als gevolg van RSI-klachten. Om de verjaringstermijn te doen aanvangen is geen bekendheid van benadeelde met alle schadecomponenten vereist. Voldoende is dat benadeelde bekend is met schade die hij lijdt of heeft geleden als gevolg van foutief handelen. Verjaring die op de voet van art. 3:310 BW begint te lopen, geldt mede voor de vordering tot vergoeding van schade waarvan de benadeelde kon verwachten dat hij die als gevolg van datzelfde tekortschietend handelen zou kunnen gaan lijden. Maatstaf verjaring: HR 9 oktober 2009, LJN BJ 4850.',\n",
       " 'articles': ['3:310 bw', '7:658 bw'],\n",
       " 'authorities': 0.0,\n",
       " 'betweenness_centrality': 0.0,\n",
       " 'count_annotation': 1,\n",
       " 'count_version': 9,\n",
       " 'creator': 'http://standaarden.overheid.nl/owms/terms/Hoge_Raad_der_Nederlanden',\n",
       " 'date': '2010-09-10',\n",
       " 'degree': 0,\n",
       " 'degree_centrality': 0.0,\n",
       " 'ecli': 'ECLI:NL:HR:2010:BM7041',\n",
       " 'hubs': 0.0,\n",
       " 'id': 'http://deeplink.rechtspraak.nl/uitspraak?id=ECLI:NL:HR:2010:BM7041',\n",
       " 'in_degree': 0,\n",
       " 'in_degree_centrality': 0.0,\n",
       " 'out_degree': 0,\n",
       " 'out_degree_centrality': 0.0,\n",
       " 'subject': 'http://psi.rechtspraak.nl/rechtsgebied#civielRecht',\n",
       " 'title': 'ECLI:NL:HR:2010:BM7041 Hoge Raad , 10-09-2010 / 08/04220',\n",
       " 'year': 2010}"
      ]
     },
     "execution_count": 33,
     "metadata": {},
     "output_type": "execute_result"
    }
   ],
   "source": [
    "nodes_json[0]"
   ]
  },
  {
   "cell_type": "code",
   "execution_count": 35,
   "metadata": {
    "collapsed": true
   },
   "outputs": [],
   "source": [
    "import urllib"
   ]
  },
  {
   "cell_type": "code",
   "execution_count": 36,
   "metadata": {
    "collapsed": false
   },
   "outputs": [],
   "source": [
    "filename = '/media/sf_VBox_Shared/CaseLaw/graphs/json_sigma/sigma_'+ urllib.parse.quote(searchstring) + '.json'\n",
    "query_to_json.to_sigma_json(nodes_json, links_json, filename)"
   ]
  },
  {
   "cell_type": "code",
   "execution_count": 43,
   "metadata": {
    "collapsed": false
   },
   "outputs": [],
   "source": [
    "filename_csv = '/media/sf_VBox_Shared/CaseLaw/spot/'+ urllib.parse.quote(searchstring) + '.csv'\n",
    "query_to_json.to_csv(nodes_json, filename_csv)"
   ]
  },
  {
   "cell_type": "code",
   "execution_count": null,
   "metadata": {
    "collapsed": true
   },
   "outputs": [],
   "source": []
  }
 ],
 "metadata": {
  "anaconda-cloud": {},
  "kernelspec": {
   "display_name": "Python [conda env:caselaw]",
   "language": "python",
   "name": "conda-env-caselaw-py"
  },
  "language_info": {
   "codemirror_mode": {
    "name": "ipython",
    "version": 3
   },
   "file_extension": ".py",
   "mimetype": "text/x-python",
   "name": "python",
   "nbconvert_exporter": "python",
   "pygments_lexer": "ipython3",
   "version": "3.5.2"
  }
 },
 "nbformat": 4,
 "nbformat_minor": 0
}
