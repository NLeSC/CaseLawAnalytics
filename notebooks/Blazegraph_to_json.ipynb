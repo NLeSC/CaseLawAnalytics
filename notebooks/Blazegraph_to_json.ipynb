{
 "cells": [
  {
   "cell_type": "code",
   "execution_count": 1,
   "metadata": {
    "collapsed": false
   },
   "outputs": [],
   "source": [
    "%load_ext autoreload\n",
    "%autoreload 2\n",
    "\n",
    "from SPARQLWrapper import SPARQLWrapper, JSON\n",
    "import os\n",
    "import sys\n",
    "sys.path.insert(0, os.path.abspath('..'))\n",
    "import  parser.matcher as matcher\n",
    "import blazegraph_querier.query_to_json as query_to_json"
   ]
  },
  {
   "cell_type": "code",
   "execution_count": 2,
   "metadata": {
    "collapsed": false
   },
   "outputs": [],
   "source": [
    "sparql = SPARQLWrapper(\"http://localhost:9999/blazegraph/namespace/hogeraad/sparql\")"
   ]
  },
  {
   "cell_type": "code",
   "execution_count": 44,
   "metadata": {
    "collapsed": false
   },
   "outputs": [
    {
     "data": {
      "text/plain": [
       "{'head': {'vars': ['count']},\n",
       " 'results': {'bindings': [{'count': {'datatype': 'http://www.w3.org/2001/XMLSchema#integer',\n",
       "     'type': 'literal',\n",
       "     'value': '29605'}}]}}"
      ]
     },
     "execution_count": 44,
     "metadata": {},
     "output_type": "execute_result"
    }
   ],
   "source": [
    "queryString = \"prefix dcterm: <http://purl.org/dc/terms/> select (COUNT(*) as ?count) {?s dcterm:type <http://psi.rechtspraak.nl/uitspraak>}\"\n",
    "sparql.setQuery(queryString)\n",
    "sparql.setReturnFormat(JSON)\n",
    "ret = sparql.query()\n",
    "ret.convert()"
   ]
  },
  {
   "cell_type": "code",
   "execution_count": 20,
   "metadata": {
    "collapsed": false
   },
   "outputs": [],
   "source": [
    "searchstring = 'Personen- en familierecht'\n",
    "pred = 'dcterm:subject'\n",
    "obj = '<http://psi.rechtspraak.nl/rechtsgebied#civielRecht_personenEnFamilierecht>'\n",
    "nodes_json, links_json = query_to_json.query(None, only_linked=False, sparql=None, pred=pred, obj=obj)"
   ]
  },
  {
   "cell_type": "code",
   "execution_count": 8,
   "metadata": {
    "collapsed": true
   },
   "outputs": [],
   "source": [
    "searchstring = 'BWB7-685'\n",
    "pred = 'dcterm:reference'\n",
    "obj = '<bwb-dl1.0:v:BWB:BWBR0005290&artikel=685>'\n",
    "nodes_json, links_json = query_to_json.query(None, only_linked=False, sparql=None, pred=pred, obj=obj)"
   ]
  },
  {
   "cell_type": "code",
   "execution_count": 3,
   "metadata": {
    "collapsed": false
   },
   "outputs": [],
   "source": [
    "searchstring =  'werkgever aansprakelijkheid'\n",
    "\n",
    "nodes_json, links_json = query_to_json.query(searchstring, only_linked=False, sparql=None)"
   ]
  },
  {
   "cell_type": "code",
   "execution_count": 21,
   "metadata": {
    "collapsed": false
   },
   "outputs": [
    {
     "data": {
      "text/plain": [
       "1038"
      ]
     },
     "execution_count": 21,
     "metadata": {},
     "output_type": "execute_result"
    }
   ],
   "source": [
    "len(nodes_json)"
   ]
  },
  {
   "cell_type": "code",
   "execution_count": 22,
   "metadata": {
    "collapsed": false
   },
   "outputs": [
    {
     "data": {
      "text/plain": [
       "{'abstract': '-',\n",
       " 'articles': [],\n",
       " 'authorities': 0.0,\n",
       " 'betweenness_centrality': 0.0,\n",
       " 'count_annotation': 0,\n",
       " 'count_version': 1,\n",
       " 'creator': 'http://standaarden.overheid.nl/owms/terms/Hoge_Raad_der_Nederlanden',\n",
       " 'date': '1999-09-03',\n",
       " 'degree': 0,\n",
       " 'degree_centrality': 0.0,\n",
       " 'ecli': 'ECLI:NL:HR:1999:AA4775',\n",
       " 'hubs': 0.0,\n",
       " 'id': 'http://deeplink.rechtspraak.nl/uitspraak?id=ECLI:NL:HR:1999:AA4775',\n",
       " 'in_degree': 0,\n",
       " 'in_degree_centrality': 0.0,\n",
       " 'out_degree': 0,\n",
       " 'out_degree_centrality': 0.0,\n",
       " 'subject': 'http://psi.rechtspraak.nl/rechtsgebied#civielRecht_personenEnFamilierecht',\n",
       " 'title': 'ECLI:NL:HR:1999:AA4775 Hoge Raad , 03-09-1999 / R98/128HR',\n",
       " 'year': 1999}"
      ]
     },
     "execution_count": 22,
     "metadata": {},
     "output_type": "execute_result"
    }
   ],
   "source": [
    "nodes_json[0]"
   ]
  },
  {
   "cell_type": "code",
   "execution_count": 23,
   "metadata": {
    "collapsed": true
   },
   "outputs": [],
   "source": [
    "import urllib"
   ]
  },
  {
   "cell_type": "code",
   "execution_count": 24,
   "metadata": {
    "collapsed": false
   },
   "outputs": [],
   "source": [
    "filename = '/media/sf_VBox_Shared/CaseLaw/graphs/json_sigma/sigma_'+ urllib.parse.quote(searchstring) + '.json'\n",
    "query_to_json.to_sigma_json(nodes_json, links_json, searchstring, filename)"
   ]
  },
  {
   "cell_type": "code",
   "execution_count": 25,
   "metadata": {
    "collapsed": false
   },
   "outputs": [],
   "source": [
    "filename_csv = '/media/sf_VBox_Shared/CaseLaw/spot/'+ urllib.parse.quote(searchstring) + '.csv'\n",
    "query_to_json.to_csv(nodes_json, filename_csv)"
   ]
  },
  {
   "cell_type": "code",
   "execution_count": 21,
   "metadata": {
    "collapsed": true
   },
   "outputs": [],
   "source": [
    "links = [res for res in nodes_and_links['results']['bindings'] if\n",
    "             res['type']['value'] == 'link']"
   ]
  },
  {
   "cell_type": "code",
   "execution_count": 22,
   "metadata": {
    "collapsed": false
   },
   "outputs": [
    {
     "data": {
      "text/plain": [
       "{'id': {'type': 'uri',\n",
       "  'value': 'http://deeplink.rechtspraak.nl/uitspraak?id=ECLI:NL:HR:2006:AU6093'},\n",
       " 'to': {'type': 'uri',\n",
       "  'value': 'http://deeplink.rechtspraak.nl/uitspraak?id=ECLI:NL:HR:2006:AU6927'},\n",
       " 'type': {'type': 'literal', 'value': 'link'}}"
      ]
     },
     "execution_count": 22,
     "metadata": {},
     "output_type": "execute_result"
    }
   ],
   "source": [
    "links[0]"
   ]
  },
  {
   "cell_type": "code",
   "execution_count": 24,
   "metadata": {
    "collapsed": false
   },
   "outputs": [],
   "source": [
    "variables = [x for x in nodes_and_links['head']['vars'] if\n",
    "                 x not in ['type', 'from', 'to', 'hasVersion', 'article']]\n",
    "nodes = [res for res in nodes_and_links['results']['bindings'] if\n",
    "             res['type']['value'] == 'node']\n",
    "nodes_json, node_ids = query_to_json.parse_nodes(nodes, variables)"
   ]
  },
  {
   "cell_type": "code",
   "execution_count": 27,
   "metadata": {
    "collapsed": false
   },
   "outputs": [],
   "source": [
    "links_json = query_to_json.parse_links(links, node_ids)"
   ]
  },
  {
   "cell_type": "code",
   "execution_count": 28,
   "metadata": {
    "collapsed": false
   },
   "outputs": [
    {
     "data": {
      "text/plain": [
       "{'id': 'http://deeplink.rechtspraak.nl/uitspraak?id=ECLI:NL:HR:2006:AU6093_http://deeplink.rechtspraak.nl/uitspraak?id=ECLI:NL:HR:2006:AU6927',\n",
       " 'source': 'http://deeplink.rechtspraak.nl/uitspraak?id=ECLI:NL:HR:2006:AU6093',\n",
       " 'target': 'http://deeplink.rechtspraak.nl/uitspraak?id=ECLI:NL:HR:2006:AU6927'}"
      ]
     },
     "execution_count": 28,
     "metadata": {},
     "output_type": "execute_result"
    }
   ],
   "source": [
    "links_json[0]"
   ]
  },
  {
   "cell_type": "code",
   "execution_count": null,
   "metadata": {
    "collapsed": true
   },
   "outputs": [],
   "source": []
  }
 ],
 "metadata": {
  "anaconda-cloud": {},
  "kernelspec": {
   "display_name": "Python [conda env:caselaw]",
   "language": "python",
   "name": "conda-env-caselaw-py"
  },
  "language_info": {
   "codemirror_mode": {
    "name": "ipython",
    "version": 3
   },
   "file_extension": ".py",
   "mimetype": "text/x-python",
   "name": "python",
   "nbconvert_exporter": "python",
   "pygments_lexer": "ipython3",
   "version": "3.5.2"
  }
 },
 "nbformat": 4,
 "nbformat_minor": 0
}
