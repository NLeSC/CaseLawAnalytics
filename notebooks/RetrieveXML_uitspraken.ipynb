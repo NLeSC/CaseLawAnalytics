{
 "cells": [
  {
   "cell_type": "code",
   "execution_count": 3,
   "metadata": {
    "collapsed": true
   },
   "outputs": [],
   "source": [
    "from lxml import etree\n",
    "import re\n",
    "import os\n",
    "import sqlite3"
   ]
  },
  {
   "cell_type": "code",
   "execution_count": 6,
   "metadata": {
    "collapsed": true
   },
   "outputs": [],
   "source": [
    "conn = sqlite3.connect('rechtspraak.db')\n",
    "c = conn.cursor()"
   ]
  },
  {
   "cell_type": "code",
   "execution_count": 41,
   "metadata": {
    "collapsed": false
   },
   "outputs": [
    {
     "data": {
      "text/plain": [
       "<sqlite3.Cursor at 0x7f9154dda340>"
      ]
     },
     "execution_count": 41,
     "metadata": {},
     "output_type": "execute_result"
    }
   ],
   "source": [
    "#Create table\n",
    "c.execute(''' DROP TABLE IF EXISTS uitspraken''')\n",
    "c.execute(''' CREATE TABLE uitspraken\n",
    "            (id text PRIMARY KEY, \n",
    "            xml text,\n",
    "            text text\n",
    "            )\n",
    "        ''')"
   ]
  },
  {
   "cell_type": "code",
   "execution_count": 40,
   "metadata": {
    "collapsed": true
   },
   "outputs": [],
   "source": [
    "def retrieve_from_web(ecli):\n",
    "    link = 'http://data.rechtspraak.nl/uitspraken/content?id='+ecli\n",
    "    return etree.ElementTree().parse(link)\n",
    "\n",
    "def retrieve_from_filesystem(ecli, rootpath):\n",
    "    year = ecli[11:15]\n",
    "    fn = str(year)+'/'+re.sub(':', '_', ecli)+'.xml'\n",
    "    path = os.path.join(rootpath, fn)\n",
    "    try:\n",
    "        return etree.ElementTree().parse(path)\n",
    "    except: \n",
    "        print('Exception: ', path)\n",
    "        return None"
   ]
  },
  {
   "cell_type": "code",
   "execution_count": 5,
   "metadata": {
    "collapsed": true
   },
   "outputs": [],
   "source": [
    "rootpath = '/media/sf_VBox_Shared/CaseLaw/OpenDataUitspraken/'"
   ]
  },
  {
   "cell_type": "code",
   "execution_count": 21,
   "metadata": {
    "collapsed": false
   },
   "outputs": [
    {
     "data": {
      "text/plain": [
       "[u'ECLI:NL:HR:2014:1',\n",
       " u'ECLI:NL:HR:2014:10',\n",
       " u'ECLI:NL:HR:2014:100',\n",
       " u'ECLI:NL:HR:2014:1000',\n",
       " u'ECLI:NL:HR:2014:1001',\n",
       " u'ECLI:NL:HR:2014:1002',\n",
       " u'ECLI:NL:HR:2014:1003',\n",
       " u'ECLI:NL:HR:2014:1004',\n",
       " u'ECLI:NL:HR:2014:1005',\n",
       " u'ECLI:NL:HR:2014:1006']"
      ]
     },
     "execution_count": 21,
     "metadata": {},
     "output_type": "execute_result"
    }
   ],
   "source": [
    "\n",
    "def year_from_id(text):\n",
    "    return int(text.split(':')[3])\n",
    "\n",
    "def instantie_from_id(text):\n",
    "    return text.split(':')[2]\n",
    "\n",
    "conn.create_function('year_from_id', 1, year_from_id)\n",
    "conn.create_function('instantie_from_id', 1, instantie_from_id)\n",
    "\n",
    "ECLIs = c.execute('SELECT id FROM uitspraken_meta where year_from_id(id) = 2014').fetchmany(10)\n",
    "ECLIs = [s[0] for s in ECLIs]\n",
    "ECLIs"
   ]
  },
  {
   "cell_type": "code",
   "execution_count": 74,
   "metadata": {
    "collapsed": true
   },
   "outputs": [],
   "source": [
    "def insert_into_uitspraken(id0, element, curs):\n",
    "    uitspraken = list(el.iterchildren('{*}uitspraak'))\n",
    "    if len(uitspraken)>0:\n",
    "        uitspraak = uitspraken[0]\n",
    "        uitspraak_xml = etree.tostring(uitspraak)\n",
    "        uitspraak_text = ' '.join([e.text for e in uitspraak.iterdescendants() if e.text is not None])\n",
    "        #remove consecutive spaces\n",
    "        uitspraak_text = re.sub(' +',' ', uitspraak_text)\n",
    "        query = ''' INSERT OR REPLACE INTO uitspraken\n",
    "        VALUES (?, ?, ?)\n",
    "        '''\n",
    "        curs.execute(query, (id0, uitspraak_xml, uitspraak_text))\n",
    "        "
   ]
  },
  {
   "cell_type": "code",
   "execution_count": null,
   "metadata": {
    "collapsed": false
   },
   "outputs": [
    {
     "name": "stdout",
     "output_type": "stream",
     "text": [
      "('Exception: ', u'/media/sf_VBox_Shared/CaseLaw/OpenDataUitspraken/1994/ECLI_NL_HR_1994_AA2975.xml')\n",
      "('Exception: ', u'/media/sf_VBox_Shared/CaseLaw/OpenDataUitspraken/1994/ECLI_NL_HR_1994_AA2980.xml')\n",
      "('Exception: ', u'/media/sf_VBox_Shared/CaseLaw/OpenDataUitspraken/1994/ECLI_NL_HR_1994_AA2992.xml')\n",
      "('Exception: ', u'/media/sf_VBox_Shared/CaseLaw/OpenDataUitspraken/1994/ECLI_NL_HR_1994_AA2998.xml')\n",
      "('Exception: ', u'/media/sf_VBox_Shared/CaseLaw/OpenDataUitspraken/1994/ECLI_NL_HR_1994_AA3003.xml')\n",
      "('Exception: ', u'/media/sf_VBox_Shared/CaseLaw/OpenDataUitspraken/1995/ECLI_NL_HR_1995_AA1634.xml')\n",
      "('Exception: ', u'/media/sf_VBox_Shared/CaseLaw/OpenDataUitspraken/1995/ECLI_NL_HR_1995_AA1638.xml')\n",
      "('Exception: ', u'/media/sf_VBox_Shared/CaseLaw/OpenDataUitspraken/1996/ECLI_NL_HR_1996_AA1888.xml')\n",
      "('Exception: ', u'/media/sf_VBox_Shared/CaseLaw/OpenDataUitspraken/1996/ECLI_NL_HR_1996_AA1896.xml')\n",
      "('Exception: ', u'/media/sf_VBox_Shared/CaseLaw/OpenDataUitspraken/1996/ECLI_NL_HR_1996_AA1915.xml')"
     ]
    }
   ],
   "source": [
    "ids = c.execute('SELECT id from uitspraken_meta')\n",
    "c2 = conn.cursor()\n",
    "for row in ids:\n",
    "    ecli = row[0]\n",
    "    el = retrieve_from_filesystem(ecli, rootpath)\n",
    "    if el is not None:\n",
    "        insert_into_uitspraken(ecli, el, c2)\n",
    "conn.commit()"
   ]
  },
  {
   "cell_type": "code",
   "execution_count": 76,
   "metadata": {
    "collapsed": false
   },
   "outputs": [
    {
     "data": {
      "text/plain": [
       "[(27056,)]"
      ]
     },
     "execution_count": 76,
     "metadata": {},
     "output_type": "execute_result"
    }
   ],
   "source": [
    "c.execute('SELECT count(*) from uitspraken').fetchall()"
   ]
  },
  {
   "cell_type": "code",
   "execution_count": 78,
   "metadata": {
    "collapsed": true
   },
   "outputs": [],
   "source": [
    "conn.commit()\n",
    "conn.close()"
   ]
  },
  {
   "cell_type": "code",
   "execution_count": null,
   "metadata": {
    "collapsed": true
   },
   "outputs": [],
   "source": []
  }
 ],
 "metadata": {
  "kernelspec": {
   "display_name": "Python 2",
   "language": "python",
   "name": "python2"
  },
  "language_info": {
   "codemirror_mode": {
    "name": "ipython",
    "version": 2
   },
   "file_extension": ".py",
   "mimetype": "text/x-python",
   "name": "python",
   "nbconvert_exporter": "python",
   "pygments_lexer": "ipython2",
   "version": "2.7.12"
  }
 },
 "nbformat": 4,
 "nbformat_minor": 0
}
