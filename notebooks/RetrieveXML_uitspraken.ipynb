{
 "cells": [
  {
   "cell_type": "code",
   "execution_count": 1,
   "metadata": {
    "collapsed": true
   },
   "outputs": [],
   "source": [
    "from lxml import etree\n",
    "import re\n",
    "import os\n",
    "import sqlite3"
   ]
  },
  {
   "cell_type": "code",
   "execution_count": 11,
   "metadata": {
    "collapsed": true
   },
   "outputs": [],
   "source": [
    "conn = sqlite3.connect('rechtspraak.db')\n",
    "c = conn.cursor()"
   ]
  },
  {
   "cell_type": "code",
   "execution_count": 3,
   "metadata": {
    "collapsed": false
   },
   "outputs": [
    {
     "data": {
      "text/plain": [
       "<sqlite3.Cursor at 0x7fc49a7ee8f0>"
      ]
     },
     "execution_count": 3,
     "metadata": {},
     "output_type": "execute_result"
    }
   ],
   "source": [
    "#Create table\n",
    "c.execute(''' DROP TABLE IF EXISTS uitspraken''')\n",
    "c.execute(''' CREATE TABLE uitspraken\n",
    "            (id text PRIMARY KEY, \n",
    "            xml text,\n",
    "            text text\n",
    "            )\n",
    "        ''')"
   ]
  },
  {
   "cell_type": "code",
   "execution_count": 4,
   "metadata": {
    "collapsed": true
   },
   "outputs": [],
   "source": [
    "def retrieve_from_web(ecli):\n",
    "    link = 'http://data.rechtspraak.nl/uitspraken/content?id='+ecli\n",
    "    return etree.ElementTree().parse(link)\n",
    "\n",
    "def retrieve_from_filesystem(ecli, rootpath):\n",
    "    year = ecli[11:15]\n",
    "    fn = str(year)+'/'+re.sub(':', '_', ecli)+'.xml'\n",
    "    path = os.path.join(rootpath, fn)\n",
    "    try:\n",
    "        return etree.ElementTree().parse(path)\n",
    "    except Exception as e: \n",
    "        print('Exception: ', path)\n",
    "        print(e)\n",
    "        return None"
   ]
  },
  {
   "cell_type": "code",
   "execution_count": 5,
   "metadata": {
    "collapsed": true
   },
   "outputs": [],
   "source": [
    "rootpath = '/media/sf_VBox_Shared/CaseLaw/OpenDataUitspraken/'"
   ]
  },
  {
   "cell_type": "code",
   "execution_count": null,
   "metadata": {
    "collapsed": true
   },
   "outputs": [],
   "source": [
    "def insert_into_uitspraken(id0, element, curs):\n",
    "    uitspraken = list(element.iterchildren('{*}uitspraak'))\n",
    "    if len(uitspraken)>0:\n",
    "        uitspraak = uitspraken[0]\n",
    "        uitspraak_xml = etree.tostring(uitspraak)\n",
    "        uitspraak_text = ' '.join([e.text for e in uitspraak.iterdescendants() if e.text is not None])\n",
    "        #remove consecutive spaces\n",
    "        uitspraak_text = re.sub(' +',' ', uitspraak_text)\n",
    "        query = ''' INSERT OR REPLACE INTO uitspraken\n",
    "        VALUES (?, ?, ?)\n",
    "        '''\n",
    "        curs.execute(query, (id0, uitspraak_xml, uitspraak_text))\n",
    "        "
   ]
  },
  {
   "cell_type": "code",
   "execution_count": null,
   "metadata": {
    "collapsed": false
   },
   "outputs": [
    {
     "name": "stdout",
     "output_type": "stream",
     "text": [
      "Exception:  /media/sf_VBox_Shared/CaseLaw/OpenDataUitspraken/1994/ECLI_NL_HR_1994_AA2975.xml\n",
      "Error reading file '/media/sf_VBox_Shared/CaseLaw/OpenDataUitspraken/1994/ECLI_NL_HR_1994_AA2975.xml': failed to load external entity \"/media/sf_VBox_Shared/CaseLaw/OpenDataUitspraken/1994/ECLI_NL_HR_1994_AA2975.xml\"\n",
      "Exception:  /media/sf_VBox_Shared/CaseLaw/OpenDataUitspraken/1994/ECLI_NL_HR_1994_AA2980.xml\n",
      "Error reading file '/media/sf_VBox_Shared/CaseLaw/OpenDataUitspraken/1994/ECLI_NL_HR_1994_AA2980.xml': failed to load external entity \"/media/sf_VBox_Shared/CaseLaw/OpenDataUitspraken/1994/ECLI_NL_HR_1994_AA2980.xml\"\n",
      "Exception:  /media/sf_VBox_Shared/CaseLaw/OpenDataUitspraken/1994/ECLI_NL_HR_1994_AA2992.xml\n",
      "Error reading file '/media/sf_VBox_Shared/CaseLaw/OpenDataUitspraken/1994/ECLI_NL_HR_1994_AA2992.xml': failed to load external entity \"/media/sf_VBox_Shared/CaseLaw/OpenDataUitspraken/1994/ECLI_NL_HR_1994_AA2992.xml\"\n",
      "Exception:  /media/sf_VBox_Shared/CaseLaw/OpenDataUitspraken/1994/ECLI_NL_HR_1994_AA2998.xml\n",
      "Error reading file '/media/sf_VBox_Shared/CaseLaw/OpenDataUitspraken/1994/ECLI_NL_HR_1994_AA2998.xml': failed to load external entity \"/media/sf_VBox_Shared/CaseLaw/OpenDataUitspraken/1994/ECLI_NL_HR_1994_AA2998.xml\"\n",
      "Exception:  /media/sf_VBox_Shared/CaseLaw/OpenDataUitspraken/1994/ECLI_NL_HR_1994_AA3003.xml\n",
      "Error reading file '/media/sf_VBox_Shared/CaseLaw/OpenDataUitspraken/1994/ECLI_NL_HR_1994_AA3003.xml': failed to load external entity \"/media/sf_VBox_Shared/CaseLaw/OpenDataUitspraken/1994/ECLI_NL_HR_1994_AA3003.xml\"\n",
      "Exception:  /media/sf_VBox_Shared/CaseLaw/OpenDataUitspraken/1995/ECLI_NL_HR_1995_AA1634.xml\n",
      "Error reading file '/media/sf_VBox_Shared/CaseLaw/OpenDataUitspraken/1995/ECLI_NL_HR_1995_AA1634.xml': failed to load external entity \"/media/sf_VBox_Shared/CaseLaw/OpenDataUitspraken/1995/ECLI_NL_HR_1995_AA1634.xml\"\n",
      "Exception:  /media/sf_VBox_Shared/CaseLaw/OpenDataUitspraken/1995/ECLI_NL_HR_1995_AA1638.xml\n",
      "Error reading file '/media/sf_VBox_Shared/CaseLaw/OpenDataUitspraken/1995/ECLI_NL_HR_1995_AA1638.xml': failed to load external entity \"/media/sf_VBox_Shared/CaseLaw/OpenDataUitspraken/1995/ECLI_NL_HR_1995_AA1638.xml\"\n",
      "Exception:  /media/sf_VBox_Shared/CaseLaw/OpenDataUitspraken/1996/ECLI_NL_HR_1996_AA1888.xml\n",
      "Error reading file '/media/sf_VBox_Shared/CaseLaw/OpenDataUitspraken/1996/ECLI_NL_HR_1996_AA1888.xml': failed to load external entity \"/media/sf_VBox_Shared/CaseLaw/OpenDataUitspraken/1996/ECLI_NL_HR_1996_AA1888.xml\"\n",
      "Exception:  /media/sf_VBox_Shared/CaseLaw/OpenDataUitspraken/1996/ECLI_NL_HR_1996_AA1896.xml\n",
      "Error reading file '/media/sf_VBox_Shared/CaseLaw/OpenDataUitspraken/1996/ECLI_NL_HR_1996_AA1896.xml': failed to load external entity \"/media/sf_VBox_Shared/CaseLaw/OpenDataUitspraken/1996/ECLI_NL_HR_1996_AA1896.xml\"\n",
      "Exception:  /media/sf_VBox_Shared/CaseLaw/OpenDataUitspraken/1996/ECLI_NL_HR_1996_AA1915.xml\n",
      "Error reading file '/media/sf_VBox_Shared/CaseLaw/OpenDataUitspraken/1996/ECLI_NL_HR_1996_AA1915.xml': failed to load external entity \"/media/sf_VBox_Shared/CaseLaw/OpenDataUitspraken/1996/ECLI_NL_HR_1996_AA1915.xml\"\n",
      "Exception:  /media/sf_VBox_Shared/CaseLaw/OpenDataUitspraken/1996/ECLI_NL_HR_1996_AA1926.xml\n",
      "Error reading file '/media/sf_VBox_Shared/CaseLaw/OpenDataUitspraken/1996/ECLI_NL_HR_1996_AA1926.xml': failed to load external entity \"/media/sf_VBox_Shared/CaseLaw/OpenDataUitspraken/1996/ECLI_NL_HR_1996_AA1926.xml\"\n",
      "Exception:  /media/sf_VBox_Shared/CaseLaw/OpenDataUitspraken/1996/ECLI_NL_HR_1996_AA1944.xml\n",
      "Error reading file '/media/sf_VBox_Shared/CaseLaw/OpenDataUitspraken/1996/ECLI_NL_HR_1996_AA1944.xml': failed to load external entity \"/media/sf_VBox_Shared/CaseLaw/OpenDataUitspraken/1996/ECLI_NL_HR_1996_AA1944.xml\"\n",
      "Exception:  /media/sf_VBox_Shared/CaseLaw/OpenDataUitspraken/1996/ECLI_NL_HR_1996_AA1961.xml\n",
      "Error reading file '/media/sf_VBox_Shared/CaseLaw/OpenDataUitspraken/1996/ECLI_NL_HR_1996_AA1961.xml': failed to load external entity \"/media/sf_VBox_Shared/CaseLaw/OpenDataUitspraken/1996/ECLI_NL_HR_1996_AA1961.xml\"\n",
      "Exception:  /media/sf_VBox_Shared/CaseLaw/OpenDataUitspraken/1998/ECLI_NL_HR_1998_1.xml\n",
      "Error reading file '/media/sf_VBox_Shared/CaseLaw/OpenDataUitspraken/1998/ECLI_NL_HR_1998_1.xml': failed to load external entity \"/media/sf_VBox_Shared/CaseLaw/OpenDataUitspraken/1998/ECLI_NL_HR_1998_1.xml\"\n",
      "Exception:  /media/sf_VBox_Shared/CaseLaw/OpenDataUitspraken/1998/ECLI_NL_HR_1998_AA2297.xml\n",
      "Error reading file '/media/sf_VBox_Shared/CaseLaw/OpenDataUitspraken/1998/ECLI_NL_HR_1998_AA2297.xml': failed to load external entity \"/media/sf_VBox_Shared/CaseLaw/OpenDataUitspraken/1998/ECLI_NL_HR_1998_AA2297.xml\"\n",
      "Exception:  /media/sf_VBox_Shared/CaseLaw/OpenDataUitspraken/1998/ECLI_NL_HR_1998_AA2298.xml\n",
      "Error reading file '/media/sf_VBox_Shared/CaseLaw/OpenDataUitspraken/1998/ECLI_NL_HR_1998_AA2298.xml': failed to load external entity \"/media/sf_VBox_Shared/CaseLaw/OpenDataUitspraken/1998/ECLI_NL_HR_1998_AA2298.xml\"\n",
      "Exception:  /media/sf_VBox_Shared/CaseLaw/OpenDataUitspraken/1998/ECLI_NL_HR_1998_AA2299.xml\n",
      "Error reading file '/media/sf_VBox_Shared/CaseLaw/OpenDataUitspraken/1998/ECLI_NL_HR_1998_AA2299.xml': failed to load external entity \"/media/sf_VBox_Shared/CaseLaw/OpenDataUitspraken/1998/ECLI_NL_HR_1998_AA2299.xml\"\n",
      "Exception:  /media/sf_VBox_Shared/CaseLaw/OpenDataUitspraken/1998/ECLI_NL_HR_1998_AA2300.xml\n",
      "Error reading file '/media/sf_VBox_Shared/CaseLaw/OpenDataUitspraken/1998/ECLI_NL_HR_1998_AA2300.xml': failed to load external entity \"/media/sf_VBox_Shared/CaseLaw/OpenDataUitspraken/1998/ECLI_NL_HR_1998_AA2300.xml\"\n",
      "Exception:  /media/sf_VBox_Shared/CaseLaw/OpenDataUitspraken/1998/ECLI_NL_HR_1998_AA2301.xml\n",
      "Error reading file '/media/sf_VBox_Shared/CaseLaw/OpenDataUitspraken/1998/ECLI_NL_HR_1998_AA2301.xml': failed to load external entity \"/media/sf_VBox_Shared/CaseLaw/OpenDataUitspraken/1998/ECLI_NL_HR_1998_AA2301.xml\"\n",
      "Exception:  /media/sf_VBox_Shared/CaseLaw/OpenDataUitspraken/1998/ECLI_NL_HR_1998_AA2302.xml\n",
      "Error reading file '/media/sf_VBox_Shared/CaseLaw/OpenDataUitspraken/1998/ECLI_NL_HR_1998_AA2302.xml': failed to load external entity \"/media/sf_VBox_Shared/CaseLaw/OpenDataUitspraken/1998/ECLI_NL_HR_1998_AA2302.xml\"\n",
      "Exception:  /media/sf_VBox_Shared/CaseLaw/OpenDataUitspraken/1998/ECLI_NL_HR_1998_AA2303.xml\n",
      "Error reading file '/media/sf_VBox_Shared/CaseLaw/OpenDataUitspraken/1998/ECLI_NL_HR_1998_AA2303.xml': failed to load external entity \"/media/sf_VBox_Shared/CaseLaw/OpenDataUitspraken/1998/ECLI_NL_HR_1998_AA2303.xml\"\n",
      "Exception:  /media/sf_VBox_Shared/CaseLaw/OpenDataUitspraken/1998/ECLI_NL_HR_1998_AA2304.xml\n",
      "Error reading file '/media/sf_VBox_Shared/CaseLaw/OpenDataUitspraken/1998/ECLI_NL_HR_1998_AA2304.xml': failed to load external entity \"/media/sf_VBox_Shared/CaseLaw/OpenDataUitspraken/1998/ECLI_NL_HR_1998_AA2304.xml\"\n",
      "Exception:  /media/sf_VBox_Shared/CaseLaw/OpenDataUitspraken/1998/ECLI_NL_HR_1998_AA2356.xml\n",
      "Error reading file '/media/sf_VBox_Shared/CaseLaw/OpenDataUitspraken/1998/ECLI_NL_HR_1998_AA2356.xml': failed to load external entity \"/media/sf_VBox_Shared/CaseLaw/OpenDataUitspraken/1998/ECLI_NL_HR_1998_AA2356.xml\"\n",
      "Exception:  /media/sf_VBox_Shared/CaseLaw/OpenDataUitspraken/1998/ECLI_NL_HR_1998_AA2357.xml\n",
      "Error reading file '/media/sf_VBox_Shared/CaseLaw/OpenDataUitspraken/1998/ECLI_NL_HR_1998_AA2357.xml': failed to load external entity \"/media/sf_VBox_Shared/CaseLaw/OpenDataUitspraken/1998/ECLI_NL_HR_1998_AA2357.xml\"\n",
      "Exception:  /media/sf_VBox_Shared/CaseLaw/OpenDataUitspraken/1998/ECLI_NL_HR_1998_AA2358.xml\n",
      "Error reading file '/media/sf_VBox_Shared/CaseLaw/OpenDataUitspraken/1998/ECLI_NL_HR_1998_AA2358.xml': failed to load external entity \"/media/sf_VBox_Shared/CaseLaw/OpenDataUitspraken/1998/ECLI_NL_HR_1998_AA2358.xml\"\n",
      "Exception:  /media/sf_VBox_Shared/CaseLaw/OpenDataUitspraken/1998/ECLI_NL_HR_1998_AA2359.xml\n",
      "Error reading file '/media/sf_VBox_Shared/CaseLaw/OpenDataUitspraken/1998/ECLI_NL_HR_1998_AA2359.xml': failed to load external entity \"/media/sf_VBox_Shared/CaseLaw/OpenDataUitspraken/1998/ECLI_NL_HR_1998_AA2359.xml\"\n",
      "Exception:  /media/sf_VBox_Shared/CaseLaw/OpenDataUitspraken/1998/ECLI_NL_HR_1998_AA2360.xml\n",
      "Error reading file '/media/sf_VBox_Shared/CaseLaw/OpenDataUitspraken/1998/ECLI_NL_HR_1998_AA2360.xml': failed to load external entity \"/media/sf_VBox_Shared/CaseLaw/OpenDataUitspraken/1998/ECLI_NL_HR_1998_AA2360.xml\"\n",
      "Exception:  /media/sf_VBox_Shared/CaseLaw/OpenDataUitspraken/1998/ECLI_NL_HR_1998_ZD7279.xml\n",
      "Error reading file '/media/sf_VBox_Shared/CaseLaw/OpenDataUitspraken/1998/ECLI_NL_HR_1998_ZD7279.xml': failed to load external entity \"/media/sf_VBox_Shared/CaseLaw/OpenDataUitspraken/1998/ECLI_NL_HR_1998_ZD7279.xml\"\n",
      "Exception:  /media/sf_VBox_Shared/CaseLaw/OpenDataUitspraken/1999/ECLI_NL_HR_1999_AA2720.xml\n",
      "Error reading file '/media/sf_VBox_Shared/CaseLaw/OpenDataUitspraken/1999/ECLI_NL_HR_1999_AA2720.xml': failed to load external entity \"/media/sf_VBox_Shared/CaseLaw/OpenDataUitspraken/1999/ECLI_NL_HR_1999_AA2720.xml\"\n",
      "Exception:  /media/sf_VBox_Shared/CaseLaw/OpenDataUitspraken/1999/ECLI_NL_HR_1999_AA2787.xml\n",
      "Error reading file '/media/sf_VBox_Shared/CaseLaw/OpenDataUitspraken/1999/ECLI_NL_HR_1999_AA2787.xml': failed to load external entity \"/media/sf_VBox_Shared/CaseLaw/OpenDataUitspraken/1999/ECLI_NL_HR_1999_AA2787.xml\"\n",
      "Exception:  /media/sf_VBox_Shared/CaseLaw/OpenDataUitspraken/1999/ECLI_NL_HR_1999_AA2788.xml\n",
      "Error reading file '/media/sf_VBox_Shared/CaseLaw/OpenDataUitspraken/1999/ECLI_NL_HR_1999_AA2788.xml': failed to load external entity \"/media/sf_VBox_Shared/CaseLaw/OpenDataUitspraken/1999/ECLI_NL_HR_1999_AA2788.xml\"\n",
      "Exception:  /media/sf_VBox_Shared/CaseLaw/OpenDataUitspraken/1999/ECLI_NL_HR_1999_AA2789.xml\n",
      "Error reading file '/media/sf_VBox_Shared/CaseLaw/OpenDataUitspraken/1999/ECLI_NL_HR_1999_AA2789.xml': failed to load external entity \"/media/sf_VBox_Shared/CaseLaw/OpenDataUitspraken/1999/ECLI_NL_HR_1999_AA2789.xml\"\n",
      "Exception:  /media/sf_VBox_Shared/CaseLaw/OpenDataUitspraken/1999/ECLI_NL_HR_1999_AA2790.xml\n",
      "Error reading file '/media/sf_VBox_Shared/CaseLaw/OpenDataUitspraken/1999/ECLI_NL_HR_1999_AA2790.xml': failed to load external entity \"/media/sf_VBox_Shared/CaseLaw/OpenDataUitspraken/1999/ECLI_NL_HR_1999_AA2790.xml\"\n",
      "Exception:  /media/sf_VBox_Shared/CaseLaw/OpenDataUitspraken/1999/ECLI_NL_HR_1999_AA2791.xml\n",
      "Error reading file '/media/sf_VBox_Shared/CaseLaw/OpenDataUitspraken/1999/ECLI_NL_HR_1999_AA2791.xml': failed to load external entity \"/media/sf_VBox_Shared/CaseLaw/OpenDataUitspraken/1999/ECLI_NL_HR_1999_AA2791.xml\"\n",
      "Exception:  /media/sf_VBox_Shared/CaseLaw/OpenDataUitspraken/1999/ECLI_NL_HR_1999_AA2792.xml\n",
      "Error reading file '/media/sf_VBox_Shared/CaseLaw/OpenDataUitspraken/1999/ECLI_NL_HR_1999_AA2792.xml': failed to load external entity \"/media/sf_VBox_Shared/CaseLaw/OpenDataUitspraken/1999/ECLI_NL_HR_1999_AA2792.xml\"\n",
      "Exception:  /media/sf_VBox_Shared/CaseLaw/OpenDataUitspraken/1999/ECLI_NL_HR_1999_AA2793.xml\n",
      "Error reading file '/media/sf_VBox_Shared/CaseLaw/OpenDataUitspraken/1999/ECLI_NL_HR_1999_AA2793.xml': failed to load external entity \"/media/sf_VBox_Shared/CaseLaw/OpenDataUitspraken/1999/ECLI_NL_HR_1999_AA2793.xml\"\n",
      "Exception:  /media/sf_VBox_Shared/CaseLaw/OpenDataUitspraken/1999/ECLI_NL_HR_1999_AA2794.xml\n",
      "Error reading file '/media/sf_VBox_Shared/CaseLaw/OpenDataUitspraken/1999/ECLI_NL_HR_1999_AA2794.xml': failed to load external entity \"/media/sf_VBox_Shared/CaseLaw/OpenDataUitspraken/1999/ECLI_NL_HR_1999_AA2794.xml\"\n",
      "Exception:  /media/sf_VBox_Shared/CaseLaw/OpenDataUitspraken/1999/ECLI_NL_HR_1999_AA2795.xml\n",
      "Error reading file '/media/sf_VBox_Shared/CaseLaw/OpenDataUitspraken/1999/ECLI_NL_HR_1999_AA2795.xml': failed to load external entity \"/media/sf_VBox_Shared/CaseLaw/OpenDataUitspraken/1999/ECLI_NL_HR_1999_AA2795.xml\"\n",
      "Exception:  /media/sf_VBox_Shared/CaseLaw/OpenDataUitspraken/1999/ECLI_NL_HR_1999_AA2809.xml\n",
      "Error reading file '/media/sf_VBox_Shared/CaseLaw/OpenDataUitspraken/1999/ECLI_NL_HR_1999_AA2809.xml': failed to load external entity \"/media/sf_VBox_Shared/CaseLaw/OpenDataUitspraken/1999/ECLI_NL_HR_1999_AA2809.xml\"\n",
      "Exception:  /media/sf_VBox_Shared/CaseLaw/OpenDataUitspraken/1999/ECLI_NL_HR_1999_AA2810.xml\n",
      "Error reading file '/media/sf_VBox_Shared/CaseLaw/OpenDataUitspraken/1999/ECLI_NL_HR_1999_AA2810.xml': failed to load external entity \"/media/sf_VBox_Shared/CaseLaw/OpenDataUitspraken/1999/ECLI_NL_HR_1999_AA2810.xml\"\n",
      "Exception:  /media/sf_VBox_Shared/CaseLaw/OpenDataUitspraken/1999/ECLI_NL_HR_1999_AA2811.xml\n",
      "Error reading file '/media/sf_VBox_Shared/CaseLaw/OpenDataUitspraken/1999/ECLI_NL_HR_1999_AA2811.xml': failed to load external entity \"/media/sf_VBox_Shared/CaseLaw/OpenDataUitspraken/1999/ECLI_NL_HR_1999_AA2811.xml\"\n",
      "Exception:  /media/sf_VBox_Shared/CaseLaw/OpenDataUitspraken/1999/ECLI_NL_HR_1999_AA2812.xml\n",
      "Error reading file '/media/sf_VBox_Shared/CaseLaw/OpenDataUitspraken/1999/ECLI_NL_HR_1999_AA2812.xml': failed to load external entity \"/media/sf_VBox_Shared/CaseLaw/OpenDataUitspraken/1999/ECLI_NL_HR_1999_AA2812.xml\"\n",
      "Exception:  /media/sf_VBox_Shared/CaseLaw/OpenDataUitspraken/1999/ECLI_NL_HR_1999_AA2813.xml\n",
      "Error reading file '/media/sf_VBox_Shared/CaseLaw/OpenDataUitspraken/1999/ECLI_NL_HR_1999_AA2813.xml': failed to load external entity \"/media/sf_VBox_Shared/CaseLaw/OpenDataUitspraken/1999/ECLI_NL_HR_1999_AA2813.xml\"\n",
      "Exception:  /media/sf_VBox_Shared/CaseLaw/OpenDataUitspraken/1999/ECLI_NL_HR_1999_AA2814.xml\n",
      "Error reading file '/media/sf_VBox_Shared/CaseLaw/OpenDataUitspraken/1999/ECLI_NL_HR_1999_AA2814.xml': failed to load external entity \"/media/sf_VBox_Shared/CaseLaw/OpenDataUitspraken/1999/ECLI_NL_HR_1999_AA2814.xml\"\n",
      "Exception:  /media/sf_VBox_Shared/CaseLaw/OpenDataUitspraken/1999/ECLI_NL_HR_1999_AA2815.xml\n",
      "Error reading file '/media/sf_VBox_Shared/CaseLaw/OpenDataUitspraken/1999/ECLI_NL_HR_1999_AA2815.xml': failed to load external entity \"/media/sf_VBox_Shared/CaseLaw/OpenDataUitspraken/1999/ECLI_NL_HR_1999_AA2815.xml\"\n",
      "Exception:  /media/sf_VBox_Shared/CaseLaw/OpenDataUitspraken/1999/ECLI_NL_HR_1999_AA2816.xml\n",
      "Error reading file '/media/sf_VBox_Shared/CaseLaw/OpenDataUitspraken/1999/ECLI_NL_HR_1999_AA2816.xml': failed to load external entity \"/media/sf_VBox_Shared/CaseLaw/OpenDataUitspraken/1999/ECLI_NL_HR_1999_AA2816.xml\"\n",
      "Exception:  /media/sf_VBox_Shared/CaseLaw/OpenDataUitspraken/1999/ECLI_NL_HR_1999_AA2817.xml\n",
      "Error reading file '/media/sf_VBox_Shared/CaseLaw/OpenDataUitspraken/1999/ECLI_NL_HR_1999_AA2817.xml': failed to load external entity \"/media/sf_VBox_Shared/CaseLaw/OpenDataUitspraken/1999/ECLI_NL_HR_1999_AA2817.xml\"\n",
      "Exception:  /media/sf_VBox_Shared/CaseLaw/OpenDataUitspraken/1999/ECLI_NL_HR_1999_AA2818.xml\n",
      "Error reading file '/media/sf_VBox_Shared/CaseLaw/OpenDataUitspraken/1999/ECLI_NL_HR_1999_AA2818.xml': failed to load external entity \"/media/sf_VBox_Shared/CaseLaw/OpenDataUitspraken/1999/ECLI_NL_HR_1999_AA2818.xml\"\n",
      "Exception:  /media/sf_VBox_Shared/CaseLaw/OpenDataUitspraken/1999/ECLI_NL_HR_1999_AA3796.xml\n",
      "Error reading file '/media/sf_VBox_Shared/CaseLaw/OpenDataUitspraken/1999/ECLI_NL_HR_1999_AA3796.xml': failed to load external entity \"/media/sf_VBox_Shared/CaseLaw/OpenDataUitspraken/1999/ECLI_NL_HR_1999_AA3796.xml\"\n",
      "Exception:  /media/sf_VBox_Shared/CaseLaw/OpenDataUitspraken/1999/ECLI_NL_HR_1999_AA3805.xml\n",
      "Error reading file '/media/sf_VBox_Shared/CaseLaw/OpenDataUitspraken/1999/ECLI_NL_HR_1999_AA3805.xml': failed to load external entity \"/media/sf_VBox_Shared/CaseLaw/OpenDataUitspraken/1999/ECLI_NL_HR_1999_AA3805.xml\"\n",
      "Exception:  /media/sf_VBox_Shared/CaseLaw/OpenDataUitspraken/1999/ECLI_NL_HR_1999_AD4696.xml\n",
      "Error reading file '/media/sf_VBox_Shared/CaseLaw/OpenDataUitspraken/1999/ECLI_NL_HR_1999_AD4696.xml': failed to load external entity \"/media/sf_VBox_Shared/CaseLaw/OpenDataUitspraken/1999/ECLI_NL_HR_1999_AD4696.xml\"\n",
      "Exception:  /media/sf_VBox_Shared/CaseLaw/OpenDataUitspraken/2000/ECLI_NL_HR_2000_AA5318.xml\n",
      "Error reading file '/media/sf_VBox_Shared/CaseLaw/OpenDataUitspraken/2000/ECLI_NL_HR_2000_AA5318.xml': failed to load external entity \"/media/sf_VBox_Shared/CaseLaw/OpenDataUitspraken/2000/ECLI_NL_HR_2000_AA5318.xml\"\n",
      "Exception:  /media/sf_VBox_Shared/CaseLaw/OpenDataUitspraken/2000/ECLI_NL_HR_2000_AA5319.xml\n",
      "Error reading file '/media/sf_VBox_Shared/CaseLaw/OpenDataUitspraken/2000/ECLI_NL_HR_2000_AA5319.xml': failed to load external entity \"/media/sf_VBox_Shared/CaseLaw/OpenDataUitspraken/2000/ECLI_NL_HR_2000_AA5319.xml\"\n",
      "Exception:  /media/sf_VBox_Shared/CaseLaw/OpenDataUitspraken/2000/ECLI_NL_HR_2000_AA5320.xml\n",
      "Error reading file '/media/sf_VBox_Shared/CaseLaw/OpenDataUitspraken/2000/ECLI_NL_HR_2000_AA5320.xml': failed to load external entity \"/media/sf_VBox_Shared/CaseLaw/OpenDataUitspraken/2000/ECLI_NL_HR_2000_AA5320.xml\"\n",
      "Exception:  /media/sf_VBox_Shared/CaseLaw/OpenDataUitspraken/2000/ECLI_NL_HR_2000_AA5321.xml\n",
      "Error reading file '/media/sf_VBox_Shared/CaseLaw/OpenDataUitspraken/2000/ECLI_NL_HR_2000_AA5321.xml': failed to load external entity \"/media/sf_VBox_Shared/CaseLaw/OpenDataUitspraken/2000/ECLI_NL_HR_2000_AA5321.xml\"\n",
      "Exception:  /media/sf_VBox_Shared/CaseLaw/OpenDataUitspraken/2000/ECLI_NL_HR_2000_AA5322.xml\n",
      "Error reading file '/media/sf_VBox_Shared/CaseLaw/OpenDataUitspraken/2000/ECLI_NL_HR_2000_AA5322.xml': failed to load external entity \"/media/sf_VBox_Shared/CaseLaw/OpenDataUitspraken/2000/ECLI_NL_HR_2000_AA5322.xml\"\n",
      "Exception:  /media/sf_VBox_Shared/CaseLaw/OpenDataUitspraken/2000/ECLI_NL_HR_2000_AA5323.xml\n",
      "Error reading file '/media/sf_VBox_Shared/CaseLaw/OpenDataUitspraken/2000/ECLI_NL_HR_2000_AA5323.xml': failed to load external entity \"/media/sf_VBox_Shared/CaseLaw/OpenDataUitspraken/2000/ECLI_NL_HR_2000_AA5323.xml\"\n",
      "Exception:  /media/sf_VBox_Shared/CaseLaw/OpenDataUitspraken/2000/ECLI_NL_HR_2000_AA6100.xml\n",
      "Error reading file '/media/sf_VBox_Shared/CaseLaw/OpenDataUitspraken/2000/ECLI_NL_HR_2000_AA6100.xml': failed to load external entity \"/media/sf_VBox_Shared/CaseLaw/OpenDataUitspraken/2000/ECLI_NL_HR_2000_AA6100.xml\"\n",
      "Exception:  /media/sf_VBox_Shared/CaseLaw/OpenDataUitspraken/2000/ECLI_NL_HR_2000_AA6336.xml\n",
      "Error reading file '/media/sf_VBox_Shared/CaseLaw/OpenDataUitspraken/2000/ECLI_NL_HR_2000_AA6336.xml': failed to load external entity \"/media/sf_VBox_Shared/CaseLaw/OpenDataUitspraken/2000/ECLI_NL_HR_2000_AA6336.xml\"\n",
      "Exception:  /media/sf_VBox_Shared/CaseLaw/OpenDataUitspraken/2000/ECLI_NL_HR_2000_AA6337.xml\n",
      "Error reading file '/media/sf_VBox_Shared/CaseLaw/OpenDataUitspraken/2000/ECLI_NL_HR_2000_AA6337.xml': failed to load external entity \"/media/sf_VBox_Shared/CaseLaw/OpenDataUitspraken/2000/ECLI_NL_HR_2000_AA6337.xml\"\n",
      "Exception:  /media/sf_VBox_Shared/CaseLaw/OpenDataUitspraken/2000/ECLI_NL_HR_2000_AA6338.xml\n",
      "Error reading file '/media/sf_VBox_Shared/CaseLaw/OpenDataUitspraken/2000/ECLI_NL_HR_2000_AA6338.xml': failed to load external entity \"/media/sf_VBox_Shared/CaseLaw/OpenDataUitspraken/2000/ECLI_NL_HR_2000_AA6338.xml\"\n",
      "Exception:  /media/sf_VBox_Shared/CaseLaw/OpenDataUitspraken/2000/ECLI_NL_HR_2000_AA6339.xml\n",
      "Error reading file '/media/sf_VBox_Shared/CaseLaw/OpenDataUitspraken/2000/ECLI_NL_HR_2000_AA6339.xml': failed to load external entity \"/media/sf_VBox_Shared/CaseLaw/OpenDataUitspraken/2000/ECLI_NL_HR_2000_AA6339.xml\"\n",
      "Exception:  /media/sf_VBox_Shared/CaseLaw/OpenDataUitspraken/2000/ECLI_NL_HR_2000_AA6340.xml\n",
      "Error reading file '/media/sf_VBox_Shared/CaseLaw/OpenDataUitspraken/2000/ECLI_NL_HR_2000_AA6340.xml': failed to load external entity \"/media/sf_VBox_Shared/CaseLaw/OpenDataUitspraken/2000/ECLI_NL_HR_2000_AA6340.xml\"\n",
      "Exception:  /media/sf_VBox_Shared/CaseLaw/OpenDataUitspraken/2000/ECLI_NL_HR_2000_AA6341.xml\n",
      "Error reading file '/media/sf_VBox_Shared/CaseLaw/OpenDataUitspraken/2000/ECLI_NL_HR_2000_AA6341.xml': failed to load external entity \"/media/sf_VBox_Shared/CaseLaw/OpenDataUitspraken/2000/ECLI_NL_HR_2000_AA6341.xml\"\n",
      "Exception:  /media/sf_VBox_Shared/CaseLaw/OpenDataUitspraken/2000/ECLI_NL_HR_2000_AA6342.xml\n",
      "Error reading file '/media/sf_VBox_Shared/CaseLaw/OpenDataUitspraken/2000/ECLI_NL_HR_2000_AA6342.xml': failed to load external entity \"/media/sf_VBox_Shared/CaseLaw/OpenDataUitspraken/2000/ECLI_NL_HR_2000_AA6342.xml\"\n",
      "Exception:  /media/sf_VBox_Shared/CaseLaw/OpenDataUitspraken/2000/ECLI_NL_HR_2000_AA6343.xml\n",
      "Error reading file '/media/sf_VBox_Shared/CaseLaw/OpenDataUitspraken/2000/ECLI_NL_HR_2000_AA6343.xml': failed to load external entity \"/media/sf_VBox_Shared/CaseLaw/OpenDataUitspraken/2000/ECLI_NL_HR_2000_AA6343.xml\"\n",
      "Exception:  /media/sf_VBox_Shared/CaseLaw/OpenDataUitspraken/2000/ECLI_NL_HR_2000_AA6344.xml\n",
      "Error reading file '/media/sf_VBox_Shared/CaseLaw/OpenDataUitspraken/2000/ECLI_NL_HR_2000_AA6344.xml': failed to load external entity \"/media/sf_VBox_Shared/CaseLaw/OpenDataUitspraken/2000/ECLI_NL_HR_2000_AA6344.xml\"\n",
      "Exception:  /media/sf_VBox_Shared/CaseLaw/OpenDataUitspraken/2000/ECLI_NL_HR_2000_AA6345.xml\n",
      "Error reading file '/media/sf_VBox_Shared/CaseLaw/OpenDataUitspraken/2000/ECLI_NL_HR_2000_AA6345.xml': failed to load external entity \"/media/sf_VBox_Shared/CaseLaw/OpenDataUitspraken/2000/ECLI_NL_HR_2000_AA6345.xml\"\n",
      "Exception:  /media/sf_VBox_Shared/CaseLaw/OpenDataUitspraken/2000/ECLI_NL_HR_2000_AA7954.xml\n",
      "Error reading file '/media/sf_VBox_Shared/CaseLaw/OpenDataUitspraken/2000/ECLI_NL_HR_2000_AA7954.xml': failed to load external entity \"/media/sf_VBox_Shared/CaseLaw/OpenDataUitspraken/2000/ECLI_NL_HR_2000_AA7954.xml\"\n",
      "Exception:  /media/sf_VBox_Shared/CaseLaw/OpenDataUitspraken/2000/ECLI_NL_HR_2000_AA7955.xml\n",
      "Error reading file '/media/sf_VBox_Shared/CaseLaw/OpenDataUitspraken/2000/ECLI_NL_HR_2000_AA7955.xml': failed to load external entity \"/media/sf_VBox_Shared/CaseLaw/OpenDataUitspraken/2000/ECLI_NL_HR_2000_AA7955.xml\"\n",
      "Exception:  /media/sf_VBox_Shared/CaseLaw/OpenDataUitspraken/2000/ECLI_NL_HR_2000_AA7956.xml\n",
      "Error reading file '/media/sf_VBox_Shared/CaseLaw/OpenDataUitspraken/2000/ECLI_NL_HR_2000_AA7956.xml': failed to load external entity \"/media/sf_VBox_Shared/CaseLaw/OpenDataUitspraken/2000/ECLI_NL_HR_2000_AA7956.xml\"\n",
      "Exception:  /media/sf_VBox_Shared/CaseLaw/OpenDataUitspraken/2000/ECLI_NL_HR_2000_AA7957.xml\n",
      "Error reading file '/media/sf_VBox_Shared/CaseLaw/OpenDataUitspraken/2000/ECLI_NL_HR_2000_AA7957.xml': failed to load external entity \"/media/sf_VBox_Shared/CaseLaw/OpenDataUitspraken/2000/ECLI_NL_HR_2000_AA7957.xml\"\n",
      "Exception:  /media/sf_VBox_Shared/CaseLaw/OpenDataUitspraken/2000/ECLI_NL_HR_2000_AA7959.xml\n",
      "Error reading file '/media/sf_VBox_Shared/CaseLaw/OpenDataUitspraken/2000/ECLI_NL_HR_2000_AA7959.xml': failed to load external entity \"/media/sf_VBox_Shared/CaseLaw/OpenDataUitspraken/2000/ECLI_NL_HR_2000_AA7959.xml\"\n",
      "Exception:  /media/sf_VBox_Shared/CaseLaw/OpenDataUitspraken/2000/ECLI_NL_HR_2000_AA7960.xml\n",
      "Error reading file '/media/sf_VBox_Shared/CaseLaw/OpenDataUitspraken/2000/ECLI_NL_HR_2000_AA7960.xml': failed to load external entity \"/media/sf_VBox_Shared/CaseLaw/OpenDataUitspraken/2000/ECLI_NL_HR_2000_AA7960.xml\"\n",
      "Exception:  /media/sf_VBox_Shared/CaseLaw/OpenDataUitspraken/2001/ECLI_NL_HR_2001_AA9722.xml\n",
      "Error reading file '/media/sf_VBox_Shared/CaseLaw/OpenDataUitspraken/2001/ECLI_NL_HR_2001_AA9722.xml': failed to load external entity \"/media/sf_VBox_Shared/CaseLaw/OpenDataUitspraken/2001/ECLI_NL_HR_2001_AA9722.xml\"\n",
      "Exception:  /media/sf_VBox_Shared/CaseLaw/OpenDataUitspraken/2001/ECLI_NL_HR_2001_AA9723.xml\n",
      "Error reading file '/media/sf_VBox_Shared/CaseLaw/OpenDataUitspraken/2001/ECLI_NL_HR_2001_AA9723.xml': failed to load external entity \"/media/sf_VBox_Shared/CaseLaw/OpenDataUitspraken/2001/ECLI_NL_HR_2001_AA9723.xml\"\n",
      "Exception:  /media/sf_VBox_Shared/CaseLaw/OpenDataUitspraken/2001/ECLI_NL_HR_2001_AA9724.xml\n",
      "Error reading file '/media/sf_VBox_Shared/CaseLaw/OpenDataUitspraken/2001/ECLI_NL_HR_2001_AA9724.xml': failed to load external entity \"/media/sf_VBox_Shared/CaseLaw/OpenDataUitspraken/2001/ECLI_NL_HR_2001_AA9724.xml\"\n",
      "Exception:  /media/sf_VBox_Shared/CaseLaw/OpenDataUitspraken/2001/ECLI_NL_HR_2001_AA9725.xml\n",
      "Error reading file '/media/sf_VBox_Shared/CaseLaw/OpenDataUitspraken/2001/ECLI_NL_HR_2001_AA9725.xml': failed to load external entity \"/media/sf_VBox_Shared/CaseLaw/OpenDataUitspraken/2001/ECLI_NL_HR_2001_AA9725.xml\"\n",
      "Exception:  /media/sf_VBox_Shared/CaseLaw/OpenDataUitspraken/2001/ECLI_NL_HR_2001_AB0273.xml\n",
      "Error reading file '/media/sf_VBox_Shared/CaseLaw/OpenDataUitspraken/2001/ECLI_NL_HR_2001_AB0273.xml': failed to load external entity \"/media/sf_VBox_Shared/CaseLaw/OpenDataUitspraken/2001/ECLI_NL_HR_2001_AB0273.xml\"\n",
      "Exception:  /media/sf_VBox_Shared/CaseLaw/OpenDataUitspraken/2001/ECLI_NL_HR_2001_AB0274.xml\n",
      "Error reading file '/media/sf_VBox_Shared/CaseLaw/OpenDataUitspraken/2001/ECLI_NL_HR_2001_AB0274.xml': failed to load external entity \"/media/sf_VBox_Shared/CaseLaw/OpenDataUitspraken/2001/ECLI_NL_HR_2001_AB0274.xml\"\n",
      "Exception:  /media/sf_VBox_Shared/CaseLaw/OpenDataUitspraken/2001/ECLI_NL_HR_2001_AB0275.xml\n",
      "Error reading file '/media/sf_VBox_Shared/CaseLaw/OpenDataUitspraken/2001/ECLI_NL_HR_2001_AB0275.xml': failed to load external entity \"/media/sf_VBox_Shared/CaseLaw/OpenDataUitspraken/2001/ECLI_NL_HR_2001_AB0275.xml\"\n",
      "Exception:  /media/sf_VBox_Shared/CaseLaw/OpenDataUitspraken/2001/ECLI_NL_HR_2001_AB0276.xml\n",
      "Error reading file '/media/sf_VBox_Shared/CaseLaw/OpenDataUitspraken/2001/ECLI_NL_HR_2001_AB0276.xml': failed to load external entity \"/media/sf_VBox_Shared/CaseLaw/OpenDataUitspraken/2001/ECLI_NL_HR_2001_AB0276.xml\"\n",
      "Exception:  /media/sf_VBox_Shared/CaseLaw/OpenDataUitspraken/2001/ECLI_NL_HR_2001_AB0277.xml\n",
      "Error reading file '/media/sf_VBox_Shared/CaseLaw/OpenDataUitspraken/2001/ECLI_NL_HR_2001_AB0277.xml': failed to load external entity \"/media/sf_VBox_Shared/CaseLaw/OpenDataUitspraken/2001/ECLI_NL_HR_2001_AB0277.xml\"\n",
      "Exception:  /media/sf_VBox_Shared/CaseLaw/OpenDataUitspraken/2001/ECLI_NL_HR_2001_AB0278.xml\n",
      "Error reading file '/media/sf_VBox_Shared/CaseLaw/OpenDataUitspraken/2001/ECLI_NL_HR_2001_AB0278.xml': failed to load external entity \"/media/sf_VBox_Shared/CaseLaw/OpenDataUitspraken/2001/ECLI_NL_HR_2001_AB0278.xml\"\n",
      "Exception:  /media/sf_VBox_Shared/CaseLaw/OpenDataUitspraken/2001/ECLI_NL_HR_2001_AB0279.xml\n",
      "Error reading file '/media/sf_VBox_Shared/CaseLaw/OpenDataUitspraken/2001/ECLI_NL_HR_2001_AB0279.xml': failed to load external entity \"/media/sf_VBox_Shared/CaseLaw/OpenDataUitspraken/2001/ECLI_NL_HR_2001_AB0279.xml\"\n",
      "Exception:  /media/sf_VBox_Shared/CaseLaw/OpenDataUitspraken/2001/ECLI_NL_HR_2001_AB0280.xml\n",
      "Error reading file '/media/sf_VBox_Shared/CaseLaw/OpenDataUitspraken/2001/ECLI_NL_HR_2001_AB0280.xml': failed to load external entity \"/media/sf_VBox_Shared/CaseLaw/OpenDataUitspraken/2001/ECLI_NL_HR_2001_AB0280.xml\"\n",
      "Exception:  /media/sf_VBox_Shared/CaseLaw/OpenDataUitspraken/2001/ECLI_NL_HR_2001_AB0281.xml\n",
      "Error reading file '/media/sf_VBox_Shared/CaseLaw/OpenDataUitspraken/2001/ECLI_NL_HR_2001_AB0281.xml': failed to load external entity \"/media/sf_VBox_Shared/CaseLaw/OpenDataUitspraken/2001/ECLI_NL_HR_2001_AB0281.xml\"\n",
      "Exception:  /media/sf_VBox_Shared/CaseLaw/OpenDataUitspraken/2001/ECLI_NL_HR_2001_AB0282.xml\n",
      "Error reading file '/media/sf_VBox_Shared/CaseLaw/OpenDataUitspraken/2001/ECLI_NL_HR_2001_AB0282.xml': failed to load external entity \"/media/sf_VBox_Shared/CaseLaw/OpenDataUitspraken/2001/ECLI_NL_HR_2001_AB0282.xml\"\n",
      "Exception:  /media/sf_VBox_Shared/CaseLaw/OpenDataUitspraken/2001/ECLI_NL_HR_2001_AB0283.xml\n",
      "Error reading file '/media/sf_VBox_Shared/CaseLaw/OpenDataUitspraken/2001/ECLI_NL_HR_2001_AB0283.xml': failed to load external entity \"/media/sf_VBox_Shared/CaseLaw/OpenDataUitspraken/2001/ECLI_NL_HR_2001_AB0283.xml\"\n",
      "Exception:  /media/sf_VBox_Shared/CaseLaw/OpenDataUitspraken/2001/ECLI_NL_HR_2001_AB0284.xml\n",
      "Error reading file '/media/sf_VBox_Shared/CaseLaw/OpenDataUitspraken/2001/ECLI_NL_HR_2001_AB0284.xml': failed to load external entity \"/media/sf_VBox_Shared/CaseLaw/OpenDataUitspraken/2001/ECLI_NL_HR_2001_AB0284.xml\"\n",
      "Exception:  /media/sf_VBox_Shared/CaseLaw/OpenDataUitspraken/2001/ECLI_NL_HR_2001_AB0285.xml\n",
      "Error reading file '/media/sf_VBox_Shared/CaseLaw/OpenDataUitspraken/2001/ECLI_NL_HR_2001_AB0285.xml': failed to load external entity \"/media/sf_VBox_Shared/CaseLaw/OpenDataUitspraken/2001/ECLI_NL_HR_2001_AB0285.xml\"\n",
      "Exception:  /media/sf_VBox_Shared/CaseLaw/OpenDataUitspraken/2001/ECLI_NL_HR_2001_AB0286.xml\n",
      "Error reading file '/media/sf_VBox_Shared/CaseLaw/OpenDataUitspraken/2001/ECLI_NL_HR_2001_AB0286.xml': failed to load external entity \"/media/sf_VBox_Shared/CaseLaw/OpenDataUitspraken/2001/ECLI_NL_HR_2001_AB0286.xml\"\n",
      "Exception:  /media/sf_VBox_Shared/CaseLaw/OpenDataUitspraken/2001/ECLI_NL_HR_2001_AB0289.xml\n",
      "Error reading file '/media/sf_VBox_Shared/CaseLaw/OpenDataUitspraken/2001/ECLI_NL_HR_2001_AB0289.xml': failed to load external entity \"/media/sf_VBox_Shared/CaseLaw/OpenDataUitspraken/2001/ECLI_NL_HR_2001_AB0289.xml\"\n",
      "Exception:  /media/sf_VBox_Shared/CaseLaw/OpenDataUitspraken/2001/ECLI_NL_HR_2001_AB0296.xml\n",
      "Error reading file '/media/sf_VBox_Shared/CaseLaw/OpenDataUitspraken/2001/ECLI_NL_HR_2001_AB0296.xml': failed to load external entity \"/media/sf_VBox_Shared/CaseLaw/OpenDataUitspraken/2001/ECLI_NL_HR_2001_AB0296.xml\"\n",
      "Exception:  /media/sf_VBox_Shared/CaseLaw/OpenDataUitspraken/2001/ECLI_NL_HR_2001_AD2679.xml\n",
      "Error reading file '/media/sf_VBox_Shared/CaseLaw/OpenDataUitspraken/2001/ECLI_NL_HR_2001_AD2679.xml': failed to load external entity \"/media/sf_VBox_Shared/CaseLaw/OpenDataUitspraken/2001/ECLI_NL_HR_2001_AD2679.xml\"\n",
      "Exception:  /media/sf_VBox_Shared/CaseLaw/OpenDataUitspraken/2001/ECLI_NL_HR_2001_AD3922.xml\n",
      "Error reading file '/media/sf_VBox_Shared/CaseLaw/OpenDataUitspraken/2001/ECLI_NL_HR_2001_AD3922.xml': failed to load external entity \"/media/sf_VBox_Shared/CaseLaw/OpenDataUitspraken/2001/ECLI_NL_HR_2001_AD3922.xml\"\n",
      "Exception:  /media/sf_VBox_Shared/CaseLaw/OpenDataUitspraken/2001/ECLI_NL_HR_2001_AD3936.xml\n",
      "Error reading file '/media/sf_VBox_Shared/CaseLaw/OpenDataUitspraken/2001/ECLI_NL_HR_2001_AD3936.xml': failed to load external entity \"/media/sf_VBox_Shared/CaseLaw/OpenDataUitspraken/2001/ECLI_NL_HR_2001_AD3936.xml\"\n",
      "Exception:  /media/sf_VBox_Shared/CaseLaw/OpenDataUitspraken/2001/ECLI_NL_HR_2001_AD3953.xml\n",
      "Error reading file '/media/sf_VBox_Shared/CaseLaw/OpenDataUitspraken/2001/ECLI_NL_HR_2001_AD3953.xml': failed to load external entity \"/media/sf_VBox_Shared/CaseLaw/OpenDataUitspraken/2001/ECLI_NL_HR_2001_AD3953.xml\"\n",
      "Exception:  /media/sf_VBox_Shared/CaseLaw/OpenDataUitspraken/2001/ECLI_NL_HR_2001_AD3962.xml\n",
      "Error reading file '/media/sf_VBox_Shared/CaseLaw/OpenDataUitspraken/2001/ECLI_NL_HR_2001_AD3962.xml': failed to load external entity \"/media/sf_VBox_Shared/CaseLaw/OpenDataUitspraken/2001/ECLI_NL_HR_2001_AD3962.xml\"\n",
      "Exception:  /media/sf_VBox_Shared/CaseLaw/OpenDataUitspraken/2001/ECLI_NL_HR_2001_AD4000.xml\n",
      "Error reading file '/media/sf_VBox_Shared/CaseLaw/OpenDataUitspraken/2001/ECLI_NL_HR_2001_AD4000.xml': failed to load external entity \"/media/sf_VBox_Shared/CaseLaw/OpenDataUitspraken/2001/ECLI_NL_HR_2001_AD4000.xml\"\n",
      "Exception:  /media/sf_VBox_Shared/CaseLaw/OpenDataUitspraken/2001/ECLI_NL_HR_2001_AD4007.xml\n",
      "Error reading file '/media/sf_VBox_Shared/CaseLaw/OpenDataUitspraken/2001/ECLI_NL_HR_2001_AD4007.xml': failed to load external entity \"/media/sf_VBox_Shared/CaseLaw/OpenDataUitspraken/2001/ECLI_NL_HR_2001_AD4007.xml\"\n",
      "Exception:  /media/sf_VBox_Shared/CaseLaw/OpenDataUitspraken/2001/ECLI_NL_HR_2001_AD4029.xml\n",
      "Error reading file '/media/sf_VBox_Shared/CaseLaw/OpenDataUitspraken/2001/ECLI_NL_HR_2001_AD4029.xml': failed to load external entity \"/media/sf_VBox_Shared/CaseLaw/OpenDataUitspraken/2001/ECLI_NL_HR_2001_AD4029.xml\"\n",
      "Exception:  /media/sf_VBox_Shared/CaseLaw/OpenDataUitspraken/2001/ECLI_NL_HR_2001_AD4497.xml\n",
      "Error reading file '/media/sf_VBox_Shared/CaseLaw/OpenDataUitspraken/2001/ECLI_NL_HR_2001_AD4497.xml': failed to load external entity \"/media/sf_VBox_Shared/CaseLaw/OpenDataUitspraken/2001/ECLI_NL_HR_2001_AD4497.xml\"\n",
      "Exception:  /media/sf_VBox_Shared/CaseLaw/OpenDataUitspraken/2001/ECLI_NL_HR_2001_AD4503.xml\n",
      "Error reading file '/media/sf_VBox_Shared/CaseLaw/OpenDataUitspraken/2001/ECLI_NL_HR_2001_AD4503.xml': failed to load external entity \"/media/sf_VBox_Shared/CaseLaw/OpenDataUitspraken/2001/ECLI_NL_HR_2001_AD4503.xml\"\n",
      "Exception:  /media/sf_VBox_Shared/CaseLaw/OpenDataUitspraken/2001/ECLI_NL_HR_2001_AD4941.xml\n",
      "Error reading file '/media/sf_VBox_Shared/CaseLaw/OpenDataUitspraken/2001/ECLI_NL_HR_2001_AD4941.xml': failed to load external entity \"/media/sf_VBox_Shared/CaseLaw/OpenDataUitspraken/2001/ECLI_NL_HR_2001_AD4941.xml\"\n",
      "Exception:  /media/sf_VBox_Shared/CaseLaw/OpenDataUitspraken/2001/ECLI_NL_HR_2001_AD5317.xml\n",
      "Error reading file '/media/sf_VBox_Shared/CaseLaw/OpenDataUitspraken/2001/ECLI_NL_HR_2001_AD5317.xml': failed to load external entity \"/media/sf_VBox_Shared/CaseLaw/OpenDataUitspraken/2001/ECLI_NL_HR_2001_AD5317.xml\"\n",
      "Exception:  /media/sf_VBox_Shared/CaseLaw/OpenDataUitspraken/2001/ECLI_NL_HR_2001_AD5318.xml\n",
      "Error reading file '/media/sf_VBox_Shared/CaseLaw/OpenDataUitspraken/2001/ECLI_NL_HR_2001_AD5318.xml': failed to load external entity \"/media/sf_VBox_Shared/CaseLaw/OpenDataUitspraken/2001/ECLI_NL_HR_2001_AD5318.xml\"\n",
      "Exception:  /media/sf_VBox_Shared/CaseLaw/OpenDataUitspraken/2001/ECLI_NL_HR_2001_AD5319.xml\n",
      "Error reading file '/media/sf_VBox_Shared/CaseLaw/OpenDataUitspraken/2001/ECLI_NL_HR_2001_AD5319.xml': failed to load external entity \"/media/sf_VBox_Shared/CaseLaw/OpenDataUitspraken/2001/ECLI_NL_HR_2001_AD5319.xml\"\n",
      "Exception:  /media/sf_VBox_Shared/CaseLaw/OpenDataUitspraken/2001/ECLI_NL_HR_2001_AD5350.xml\n",
      "Error reading file '/media/sf_VBox_Shared/CaseLaw/OpenDataUitspraken/2001/ECLI_NL_HR_2001_AD5350.xml': failed to load external entity \"/media/sf_VBox_Shared/CaseLaw/OpenDataUitspraken/2001/ECLI_NL_HR_2001_AD5350.xml\"\n",
      "Exception:  /media/sf_VBox_Shared/CaseLaw/OpenDataUitspraken/2001/ECLI_NL_HR_2001_AD5358.xml\n",
      "Error reading file '/media/sf_VBox_Shared/CaseLaw/OpenDataUitspraken/2001/ECLI_NL_HR_2001_AD5358.xml': failed to load external entity \"/media/sf_VBox_Shared/CaseLaw/OpenDataUitspraken/2001/ECLI_NL_HR_2001_AD5358.xml\"\n",
      "Exception:  /media/sf_VBox_Shared/CaseLaw/OpenDataUitspraken/2001/ECLI_NL_HR_2001_AD6419.xml\n",
      "Error reading file '/media/sf_VBox_Shared/CaseLaw/OpenDataUitspraken/2001/ECLI_NL_HR_2001_AD6419.xml': failed to load external entity \"/media/sf_VBox_Shared/CaseLaw/OpenDataUitspraken/2001/ECLI_NL_HR_2001_AD6419.xml\"\n",
      "Exception:  /media/sf_VBox_Shared/CaseLaw/OpenDataUitspraken/2001/ECLI_NL_HR_2001_AD6421.xml\n",
      "Error reading file '/media/sf_VBox_Shared/CaseLaw/OpenDataUitspraken/2001/ECLI_NL_HR_2001_AD6421.xml': failed to load external entity \"/media/sf_VBox_Shared/CaseLaw/OpenDataUitspraken/2001/ECLI_NL_HR_2001_AD6421.xml\"\n",
      "Exception:  /media/sf_VBox_Shared/CaseLaw/OpenDataUitspraken/2001/ECLI_NL_HR_2001_AD6423.xml\n",
      "Error reading file '/media/sf_VBox_Shared/CaseLaw/OpenDataUitspraken/2001/ECLI_NL_HR_2001_AD6423.xml': failed to load external entity \"/media/sf_VBox_Shared/CaseLaw/OpenDataUitspraken/2001/ECLI_NL_HR_2001_AD6423.xml\"\n",
      "Exception:  /media/sf_VBox_Shared/CaseLaw/OpenDataUitspraken/2001/ECLI_NL_HR_2001_AD6424.xml\n",
      "Error reading file '/media/sf_VBox_Shared/CaseLaw/OpenDataUitspraken/2001/ECLI_NL_HR_2001_AD6424.xml': failed to load external entity \"/media/sf_VBox_Shared/CaseLaw/OpenDataUitspraken/2001/ECLI_NL_HR_2001_AD6424.xml\"\n",
      "Exception:  /media/sf_VBox_Shared/CaseLaw/OpenDataUitspraken/2001/ECLI_NL_HR_2001_AD6426.xml\n",
      "Error reading file '/media/sf_VBox_Shared/CaseLaw/OpenDataUitspraken/2001/ECLI_NL_HR_2001_AD6426.xml': failed to load external entity \"/media/sf_VBox_Shared/CaseLaw/OpenDataUitspraken/2001/ECLI_NL_HR_2001_AD6426.xml\"\n",
      "Exception:  /media/sf_VBox_Shared/CaseLaw/OpenDataUitspraken/2001/ECLI_NL_HR_2001_AD6427.xml\n",
      "Error reading file '/media/sf_VBox_Shared/CaseLaw/OpenDataUitspraken/2001/ECLI_NL_HR_2001_AD6427.xml': failed to load external entity \"/media/sf_VBox_Shared/CaseLaw/OpenDataUitspraken/2001/ECLI_NL_HR_2001_AD6427.xml\"\n",
      "Exception:  /media/sf_VBox_Shared/CaseLaw/OpenDataUitspraken/2001/ECLI_NL_HR_2001_AD6428.xml\n",
      "Error reading file '/media/sf_VBox_Shared/CaseLaw/OpenDataUitspraken/2001/ECLI_NL_HR_2001_AD6428.xml': failed to load external entity \"/media/sf_VBox_Shared/CaseLaw/OpenDataUitspraken/2001/ECLI_NL_HR_2001_AD6428.xml\"\n",
      "Exception:  /media/sf_VBox_Shared/CaseLaw/OpenDataUitspraken/2001/ECLI_NL_HR_2001_AD6429.xml\n",
      "Error reading file '/media/sf_VBox_Shared/CaseLaw/OpenDataUitspraken/2001/ECLI_NL_HR_2001_AD6429.xml': failed to load external entity \"/media/sf_VBox_Shared/CaseLaw/OpenDataUitspraken/2001/ECLI_NL_HR_2001_AD6429.xml\"\n",
      "Exception:  /media/sf_VBox_Shared/CaseLaw/OpenDataUitspraken/2001/ECLI_NL_HR_2001_AD6430.xml\n",
      "Error reading file '/media/sf_VBox_Shared/CaseLaw/OpenDataUitspraken/2001/ECLI_NL_HR_2001_AD6430.xml': failed to load external entity \"/media/sf_VBox_Shared/CaseLaw/OpenDataUitspraken/2001/ECLI_NL_HR_2001_AD6430.xml\"\n",
      "Exception:  /media/sf_VBox_Shared/CaseLaw/OpenDataUitspraken/2001/ECLI_NL_HR_2001_AD6444.xml\n",
      "Error reading file '/media/sf_VBox_Shared/CaseLaw/OpenDataUitspraken/2001/ECLI_NL_HR_2001_AD6444.xml': failed to load external entity \"/media/sf_VBox_Shared/CaseLaw/OpenDataUitspraken/2001/ECLI_NL_HR_2001_AD6444.xml\"\n",
      "Exception:  /media/sf_VBox_Shared/CaseLaw/OpenDataUitspraken/2002/ECLI_NL_HR_2002_AD9592.xml\n",
      "Error reading file '/media/sf_VBox_Shared/CaseLaw/OpenDataUitspraken/2002/ECLI_NL_HR_2002_AD9592.xml': failed to load external entity \"/media/sf_VBox_Shared/CaseLaw/OpenDataUitspraken/2002/ECLI_NL_HR_2002_AD9592.xml\"\n",
      "Exception:  /media/sf_VBox_Shared/CaseLaw/OpenDataUitspraken/2002/ECLI_NL_HR_2002_AD9609.xml\n",
      "Error reading file '/media/sf_VBox_Shared/CaseLaw/OpenDataUitspraken/2002/ECLI_NL_HR_2002_AD9609.xml': failed to load external entity \"/media/sf_VBox_Shared/CaseLaw/OpenDataUitspraken/2002/ECLI_NL_HR_2002_AD9609.xml\"\n",
      "Exception:  /media/sf_VBox_Shared/CaseLaw/OpenDataUitspraken/2002/ECLI_NL_HR_2002_AD9614.xml\n",
      "Error reading file '/media/sf_VBox_Shared/CaseLaw/OpenDataUitspraken/2002/ECLI_NL_HR_2002_AD9614.xml': failed to load external entity \"/media/sf_VBox_Shared/CaseLaw/OpenDataUitspraken/2002/ECLI_NL_HR_2002_AD9614.xml\"\n",
      "Exception:  /media/sf_VBox_Shared/CaseLaw/OpenDataUitspraken/2002/ECLI_NL_HR_2002_AE0631.xml\n",
      "Error reading file '/media/sf_VBox_Shared/CaseLaw/OpenDataUitspraken/2002/ECLI_NL_HR_2002_AE0631.xml': failed to load external entity \"/media/sf_VBox_Shared/CaseLaw/OpenDataUitspraken/2002/ECLI_NL_HR_2002_AE0631.xml\"\n",
      "Exception:  /media/sf_VBox_Shared/CaseLaw/OpenDataUitspraken/2002/ECLI_NL_HR_2002_AE0632.xml\n",
      "Error reading file '/media/sf_VBox_Shared/CaseLaw/OpenDataUitspraken/2002/ECLI_NL_HR_2002_AE0632.xml': failed to load external entity \"/media/sf_VBox_Shared/CaseLaw/OpenDataUitspraken/2002/ECLI_NL_HR_2002_AE0632.xml\"\n",
      "Exception:  /media/sf_VBox_Shared/CaseLaw/OpenDataUitspraken/2002/ECLI_NL_HR_2002_AE0741.xml\n",
      "Error reading file '/media/sf_VBox_Shared/CaseLaw/OpenDataUitspraken/2002/ECLI_NL_HR_2002_AE0741.xml': failed to load external entity \"/media/sf_VBox_Shared/CaseLaw/OpenDataUitspraken/2002/ECLI_NL_HR_2002_AE0741.xml\"\n",
      "Exception:  /media/sf_VBox_Shared/CaseLaw/OpenDataUitspraken/2002/ECLI_NL_HR_2002_AE0742.xml\n",
      "Error reading file '/media/sf_VBox_Shared/CaseLaw/OpenDataUitspraken/2002/ECLI_NL_HR_2002_AE0742.xml': failed to load external entity \"/media/sf_VBox_Shared/CaseLaw/OpenDataUitspraken/2002/ECLI_NL_HR_2002_AE0742.xml\"\n",
      "Exception:  /media/sf_VBox_Shared/CaseLaw/OpenDataUitspraken/2002/ECLI_NL_HR_2002_AE0745.xml\n",
      "Error reading file '/media/sf_VBox_Shared/CaseLaw/OpenDataUitspraken/2002/ECLI_NL_HR_2002_AE0745.xml': failed to load external entity \"/media/sf_VBox_Shared/CaseLaw/OpenDataUitspraken/2002/ECLI_NL_HR_2002_AE0745.xml\"\n",
      "Exception:  /media/sf_VBox_Shared/CaseLaw/OpenDataUitspraken/2002/ECLI_NL_HR_2002_AE0746.xml\n",
      "Error reading file '/media/sf_VBox_Shared/CaseLaw/OpenDataUitspraken/2002/ECLI_NL_HR_2002_AE0746.xml': failed to load external entity \"/media/sf_VBox_Shared/CaseLaw/OpenDataUitspraken/2002/ECLI_NL_HR_2002_AE0746.xml\"\n",
      "Exception:  /media/sf_VBox_Shared/CaseLaw/OpenDataUitspraken/2002/ECLI_NL_HR_2002_AE0748.xml\n",
      "Error reading file '/media/sf_VBox_Shared/CaseLaw/OpenDataUitspraken/2002/ECLI_NL_HR_2002_AE0748.xml': failed to load external entity \"/media/sf_VBox_Shared/CaseLaw/OpenDataUitspraken/2002/ECLI_NL_HR_2002_AE0748.xml\"\n"
     ]
    }
   ],
   "source": [
    "ids = c.execute('SELECT id from uitspraken_meta')\n",
    "c2 = conn.cursor()\n",
    "for row in ids:\n",
    "    ecli = row[0]\n",
    "    el = retrieve_from_filesystem(ecli, rootpath)\n",
    "    if el is not None:\n",
    "        insert_into_uitspraken(ecli, el, c2)\n",
    "conn.commit()"
   ]
  },
  {
   "cell_type": "code",
   "execution_count": 12,
   "metadata": {
    "collapsed": false
   },
   "outputs": [
    {
     "data": {
      "text/plain": [
       "[(27057,)]"
      ]
     },
     "execution_count": 12,
     "metadata": {},
     "output_type": "execute_result"
    }
   ],
   "source": [
    "c.execute('SELECT count(*) from uitspraken').fetchall()"
   ]
  },
  {
   "cell_type": "code",
   "execution_count": 13,
   "metadata": {
    "collapsed": true
   },
   "outputs": [],
   "source": [
    "conn.commit()\n",
    "conn.close()"
   ]
  },
  {
   "cell_type": "code",
   "execution_count": null,
   "metadata": {
    "collapsed": true
   },
   "outputs": [],
   "source": []
  }
 ],
 "metadata": {
  "anaconda-cloud": {},
  "kernelspec": {
   "display_name": "Python [conda env:caselaw]",
   "language": "python",
   "name": "conda-env-caselaw-py"
  },
  "language_info": {
   "codemirror_mode": {
    "name": "ipython",
    "version": 3
   },
   "file_extension": ".py",
   "mimetype": "text/x-python",
   "name": "python",
   "nbconvert_exporter": "python",
   "pygments_lexer": "ipython3",
   "version": "3.5.2"
  }
 },
 "nbformat": 4,
 "nbformat_minor": 0
}
