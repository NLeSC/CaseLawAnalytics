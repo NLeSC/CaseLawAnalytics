{
 "cells": [
  {
   "cell_type": "code",
   "execution_count": 1,
   "metadata": {
    "collapsed": true
   },
   "outputs": [],
   "source": [
    "import sys\n",
    "import os\n",
    "sys.path.insert(0, os.path.abspath('..'))"
   ]
  },
  {
   "cell_type": "code",
   "execution_count": 9,
   "metadata": {
    "collapsed": false
   },
   "outputs": [],
   "source": [
    "import caselawnet\n",
    "import pandas as pd\n",
    "import rdflib"
   ]
  },
  {
   "cell_type": "code",
   "execution_count": 3,
   "metadata": {
    "collapsed": true
   },
   "outputs": [],
   "source": [
    "from caselawnet import link_extractor"
   ]
  },
  {
   "cell_type": "code",
   "execution_count": 4,
   "metadata": {
    "collapsed": true
   },
   "outputs": [],
   "source": [
    "fp = '/media/sf_VBox_Shared/CaseLaw/graphs/wg_aanspr_comma.csv'\n",
    "wgaans = pd.read_csv(fp)"
   ]
  },
  {
   "cell_type": "code",
   "execution_count": 23,
   "metadata": {
    "collapsed": false
   },
   "outputs": [],
   "source": [
    "eclis = list(set(wgaans['ID (source)']).union(set(wgaans['ID (target)'])))"
   ]
  },
  {
   "cell_type": "code",
   "execution_count": 6,
   "metadata": {
    "collapsed": true
   },
   "outputs": [],
   "source": [
    "auth = {}\n",
    "filename = '../settings.cfg'\n",
    "with open(filename) as f:\n",
    "    exec(compile(f.read(), filename, 'exec'))\n",
    "auth['username'] = LIDO_USERNAME\n",
    "auth['password'] = LIDO_PASSWD"
   ]
  },
  {
   "cell_type": "code",
   "execution_count": 28,
   "metadata": {
    "collapsed": false
   },
   "outputs": [
    {
     "data": {
      "text/plain": [
       "<Graph identifier=N2e8b7fec3edc4339a23af16ec78cb74e (<class 'rdflib.graph.Graph'>)>"
      ]
     },
     "execution_count": 28,
     "metadata": {},
     "output_type": "execute_result"
    }
   ],
   "source": [
    "link_extractor.retrieve_graph(eclis[5], auth=auth)"
   ]
  },
  {
   "cell_type": "code",
   "execution_count": 27,
   "metadata": {
    "collapsed": false
   },
   "outputs": [
    {
     "data": {
      "text/plain": [
       "'ECLI:NL:HR:2012:BV1295'"
      ]
     },
     "execution_count": 27,
     "metadata": {},
     "output_type": "execute_result"
    }
   ],
   "source": [
    "eclis[5]"
   ]
  },
  {
   "cell_type": "code",
   "execution_count": 26,
   "metadata": {
    "collapsed": false
   },
   "outputs": [
    {
     "name": "stdout",
     "output_type": "stream",
     "text": [
      "ECLI:NL:HR:2007:BA3017\n",
      "ECLI:NL:HR:1975:AC5607\n",
      "ECLI:NL:HR:2002:AE4080\n",
      "ECLI:NL:HR:1983:AG4611\n",
      "ECLI:NL:HR:2001:ZC3677\n",
      "ECLI:NL:HR:2012:BV1295\n",
      " "
     ]
    }
   ],
   "source": [
    "%%prun\n",
    "g = rdflib.Graph()\n",
    "for ecli in list(eclis)[:6]:\n",
    "    print(ecli)\n",
    "    g += link_extractor.retrieve_graph(ecli, auth=auth)"
   ]
  },
  {
   "cell_type": "code",
   "execution_count": 29,
   "metadata": {
    "collapsed": false
   },
   "outputs": [
    {
     "data": {
      "text/plain": [
       "75949"
      ]
     },
     "execution_count": 29,
     "metadata": {},
     "output_type": "execute_result"
    }
   ],
   "source": [
    "len(g)"
   ]
  },
  {
   "cell_type": "code",
   "execution_count": 30,
   "metadata": {
    "collapsed": false
   },
   "outputs": [],
   "source": [
    "links_df = link_extractor.get_caselaw_references(g)"
   ]
  },
  {
   "cell_type": "code",
   "execution_count": 32,
   "metadata": {
    "collapsed": false
   },
   "outputs": [
    {
     "data": {
      "text/plain": [
       "((13, 3), (13, 3))"
      ]
     },
     "execution_count": 32,
     "metadata": {},
     "output_type": "execute_result"
    }
   ],
   "source": [
    "links_df.shape, links_df.drop_duplicates().shape"
   ]
  },
  {
   "cell_type": "code",
   "execution_count": 33,
   "metadata": {
    "collapsed": true
   },
   "outputs": [],
   "source": [
    "for c in links_df.columns:\n",
    "    links_df[c] = links_df[c].str.replace('http://linkeddata.overheid.nl/terms/', '')"
   ]
  },
  {
   "cell_type": "code",
   "execution_count": 34,
   "metadata": {
    "collapsed": false
   },
   "outputs": [
    {
     "data": {
      "text/html": [
       "<div>\n",
       "<style>\n",
       "    .dataframe thead tr:only-child th {\n",
       "        text-align: right;\n",
       "    }\n",
       "\n",
       "    .dataframe thead th {\n",
       "        text-align: left;\n",
       "    }\n",
       "\n",
       "    .dataframe tbody tr th {\n",
       "        vertical-align: top;\n",
       "    }\n",
       "</style>\n",
       "<table border=\"1\" class=\"dataframe\">\n",
       "  <thead>\n",
       "    <tr style=\"text-align: right;\">\n",
       "      <th></th>\n",
       "      <th>id_from</th>\n",
       "      <th>id_to</th>\n",
       "      <th>link_type</th>\n",
       "    </tr>\n",
       "  </thead>\n",
       "  <tbody>\n",
       "    <tr>\n",
       "      <th>0</th>\n",
       "      <td>jurisprudentie/id/ECLI:NL:PHR:1975:AC5607</td>\n",
       "      <td>jurisprudentie/id/ECLI:NL:HR:1975:AC5607</td>\n",
       "      <td>linktype/id/rvr-conclusie-latereaanleg</td>\n",
       "    </tr>\n",
       "    <tr>\n",
       "      <th>1</th>\n",
       "      <td>jurisprudentie/id/ECLI:NL:HR:2002:AE4080</td>\n",
       "      <td>jurisprudentie/id/ECLI:NL:PHR:2002:AE4080</td>\n",
       "      <td>linktype/id/rvr-conclusie-eerdereaanleg</td>\n",
       "    </tr>\n",
       "    <tr>\n",
       "      <th>2</th>\n",
       "      <td>jurisprudentie/id/ECLI:NL:HR:1975:AC5607</td>\n",
       "      <td>jurisprudentie/id/ECLI:NL:PHR:1975:AC5607</td>\n",
       "      <td>linktype/id/rvr-conclusie-eerdereaanleg</td>\n",
       "    </tr>\n",
       "    <tr>\n",
       "      <th>3</th>\n",
       "      <td>jurisprudentie/id/ECLI:NL:HR:2001:ZC3677</td>\n",
       "      <td>jurisprudentie/id/ECLI:NL:PHR:2001:ZC3677</td>\n",
       "      <td>linktype/id/rvr-conclusie-eerdereaanleg</td>\n",
       "    </tr>\n",
       "    <tr>\n",
       "      <th>4</th>\n",
       "      <td>jurisprudentie/id/ECLI:NL:PHR:2012:BV1295</td>\n",
       "      <td>jurisprudentie/id/ECLI:NL:HR:2012:BV1295</td>\n",
       "      <td>linktype/id/rvr-conclusie-latereaanleg</td>\n",
       "    </tr>\n",
       "    <tr>\n",
       "      <th>5</th>\n",
       "      <td>jurisprudentie/id/ECLI:NL:PHR:2001:ZC3677</td>\n",
       "      <td>jurisprudentie/id/ECLI:NL:HR:2001:ZC3677</td>\n",
       "      <td>linktype/id/rvr-conclusie-latereaanleg</td>\n",
       "    </tr>\n",
       "    <tr>\n",
       "      <th>6</th>\n",
       "      <td>jurisprudentie/id/ECLI:NL:HR:1983:AG4611</td>\n",
       "      <td>jurisprudentie/id/ECLI:NL:PHR:1983:AG4611</td>\n",
       "      <td>linktype/id/rvr-conclusie-eerdereaanleg</td>\n",
       "    </tr>\n",
       "    <tr>\n",
       "      <th>7</th>\n",
       "      <td>jurisprudentie/id/ECLI:NL:HR:2012:BV1295</td>\n",
       "      <td>jurisprudentie/id/ECLI:NL:PHR:2012:BV1295</td>\n",
       "      <td>linktype/id/rvr-conclusie-eerdereaanleg</td>\n",
       "    </tr>\n",
       "    <tr>\n",
       "      <th>8</th>\n",
       "      <td>jurisprudentie/id/ECLI:NL:OGEAM:2017:1</td>\n",
       "      <td>jurisprudentie/id/ECLI:NL:HR:2007:BA3017</td>\n",
       "      <td>linktype/id/lx-referentie</td>\n",
       "    </tr>\n",
       "    <tr>\n",
       "      <th>9</th>\n",
       "      <td>jurisprudentie/id/ECLI:NL:PHR:2002:AE4080</td>\n",
       "      <td>jurisprudentie/id/ECLI:NL:HR:2002:AE4080</td>\n",
       "      <td>linktype/id/rvr-conclusie-latereaanleg</td>\n",
       "    </tr>\n",
       "    <tr>\n",
       "      <th>10</th>\n",
       "      <td>jurisprudentie/id/ECLI:NL:PHR:1983:AG4611</td>\n",
       "      <td>jurisprudentie/id/ECLI:NL:HR:1983:AG4611</td>\n",
       "      <td>linktype/id/rvr-conclusie-latereaanleg</td>\n",
       "    </tr>\n",
       "    <tr>\n",
       "      <th>11</th>\n",
       "      <td>jurisprudentie/id/ECLI:NL:PHR:2007:BA3017</td>\n",
       "      <td>jurisprudentie/id/ECLI:NL:HR:2007:BA3017</td>\n",
       "      <td>linktype/id/rvr-conclusie-latereaanleg</td>\n",
       "    </tr>\n",
       "    <tr>\n",
       "      <th>12</th>\n",
       "      <td>jurisprudentie/id/ECLI:NL:HR:2007:BA3017</td>\n",
       "      <td>jurisprudentie/id/ECLI:NL:PHR:2007:BA3017</td>\n",
       "      <td>linktype/id/rvr-conclusie-eerdereaanleg</td>\n",
       "    </tr>\n",
       "  </tbody>\n",
       "</table>\n",
       "</div>"
      ],
      "text/plain": [
       "                                      id_from  \\\n",
       "0   jurisprudentie/id/ECLI:NL:PHR:1975:AC5607   \n",
       "1    jurisprudentie/id/ECLI:NL:HR:2002:AE4080   \n",
       "2    jurisprudentie/id/ECLI:NL:HR:1975:AC5607   \n",
       "3    jurisprudentie/id/ECLI:NL:HR:2001:ZC3677   \n",
       "4   jurisprudentie/id/ECLI:NL:PHR:2012:BV1295   \n",
       "5   jurisprudentie/id/ECLI:NL:PHR:2001:ZC3677   \n",
       "6    jurisprudentie/id/ECLI:NL:HR:1983:AG4611   \n",
       "7    jurisprudentie/id/ECLI:NL:HR:2012:BV1295   \n",
       "8      jurisprudentie/id/ECLI:NL:OGEAM:2017:1   \n",
       "9   jurisprudentie/id/ECLI:NL:PHR:2002:AE4080   \n",
       "10  jurisprudentie/id/ECLI:NL:PHR:1983:AG4611   \n",
       "11  jurisprudentie/id/ECLI:NL:PHR:2007:BA3017   \n",
       "12   jurisprudentie/id/ECLI:NL:HR:2007:BA3017   \n",
       "\n",
       "                                        id_to  \\\n",
       "0    jurisprudentie/id/ECLI:NL:HR:1975:AC5607   \n",
       "1   jurisprudentie/id/ECLI:NL:PHR:2002:AE4080   \n",
       "2   jurisprudentie/id/ECLI:NL:PHR:1975:AC5607   \n",
       "3   jurisprudentie/id/ECLI:NL:PHR:2001:ZC3677   \n",
       "4    jurisprudentie/id/ECLI:NL:HR:2012:BV1295   \n",
       "5    jurisprudentie/id/ECLI:NL:HR:2001:ZC3677   \n",
       "6   jurisprudentie/id/ECLI:NL:PHR:1983:AG4611   \n",
       "7   jurisprudentie/id/ECLI:NL:PHR:2012:BV1295   \n",
       "8    jurisprudentie/id/ECLI:NL:HR:2007:BA3017   \n",
       "9    jurisprudentie/id/ECLI:NL:HR:2002:AE4080   \n",
       "10   jurisprudentie/id/ECLI:NL:HR:1983:AG4611   \n",
       "11   jurisprudentie/id/ECLI:NL:HR:2007:BA3017   \n",
       "12  jurisprudentie/id/ECLI:NL:PHR:2007:BA3017   \n",
       "\n",
       "                                  link_type  \n",
       "0    linktype/id/rvr-conclusie-latereaanleg  \n",
       "1   linktype/id/rvr-conclusie-eerdereaanleg  \n",
       "2   linktype/id/rvr-conclusie-eerdereaanleg  \n",
       "3   linktype/id/rvr-conclusie-eerdereaanleg  \n",
       "4    linktype/id/rvr-conclusie-latereaanleg  \n",
       "5    linktype/id/rvr-conclusie-latereaanleg  \n",
       "6   linktype/id/rvr-conclusie-eerdereaanleg  \n",
       "7   linktype/id/rvr-conclusie-eerdereaanleg  \n",
       "8                 linktype/id/lx-referentie  \n",
       "9    linktype/id/rvr-conclusie-latereaanleg  \n",
       "10   linktype/id/rvr-conclusie-latereaanleg  \n",
       "11   linktype/id/rvr-conclusie-latereaanleg  \n",
       "12  linktype/id/rvr-conclusie-eerdereaanleg  "
      ]
     },
     "execution_count": 34,
     "metadata": {},
     "output_type": "execute_result"
    }
   ],
   "source": [
    "links_df"
   ]
  },
  {
   "cell_type": "code",
   "execution_count": null,
   "metadata": {
    "collapsed": true
   },
   "outputs": [],
   "source": []
  }
 ],
 "metadata": {
  "anaconda-cloud": {},
  "kernelspec": {
   "display_name": "Python [conda env:caselaw]",
   "language": "python",
   "name": "conda-env-caselaw-py"
  },
  "language_info": {
   "codemirror_mode": {
    "name": "ipython",
    "version": 3
   },
   "file_extension": ".py",
   "mimetype": "text/x-python",
   "name": "python",
   "nbconvert_exporter": "python",
   "pygments_lexer": "ipython3",
   "version": "3.5.2"
  }
 },
 "nbformat": 4,
 "nbformat_minor": 0
}
